{
 "cells": [
  {
   "cell_type": "markdown",
   "metadata": {},
   "source": [
    "# Выбор локации для скважины"
   ]
  },
  {
   "cell_type": "markdown",
   "metadata": {},
   "source": [
    "Допустим, вы работаете в добывающей компании «ГлавРосГосНефть». Нужно решить, где бурить новую скважину.\n",
    "\n",
    "Вам предоставлены пробы нефти в трёх регионах: в каждом 10 000 месторождений, где измерили качество нефти и объём её запасов. Постройте модель машинного обучения, которая поможет определить регион, где добыча принесёт наибольшую прибыль. Проанализируйте возможную прибыль и риски техникой *Bootstrap.*\n",
    "\n",
    "Шаги для выбора локации:\n",
    "\n",
    "- В избранном регионе ищут месторождения, для каждого определяют значения признаков;\n",
    "- Строят модель и оценивают объём запасов;\n",
    "- Выбирают месторождения с самым высокими оценками значений. Количество месторождений зависит от бюджета компании и стоимости разработки одной скважины;\n",
    "- Прибыль равна суммарной прибыли отобранных месторождений."
   ]
  },
  {
   "cell_type": "code",
   "execution_count": 1,
   "metadata": {},
   "outputs": [
    {
     "data": {
      "text/html": [
       "<style>.container { width:90% !important; }</style>"
      ],
      "text/plain": [
       "<IPython.core.display.HTML object>"
      ]
     },
     "metadata": {},
     "output_type": "display_data"
    }
   ],
   "source": [
    "!pip install phik -q\n",
    "import pandas as pd\n",
    "import numpy as np\n",
    "\n",
    "import matplotlib.pyplot as plt\n",
    "import matplotlib.cm as cm\n",
    "%matplotlib inline\n",
    "from IPython.core.display import display, HTML\n",
    "display(HTML(\"<style>.container { width:90% !important; }</style>\"))\n",
    "\n",
    "import seaborn as sns\n",
    "\n",
    "from phik import phik_matrix\n",
    "\n",
    "from sklearn.preprocessing import(\n",
    "    OrdinalEncoder,\n",
    "    MinMaxScaler\n",
    ")\n",
    "from sklearn.model_selection import train_test_split\n",
    "from sklearn.linear_model import LinearRegression\n",
    "from sklearn.metrics import mean_squared_error\n",
    "\n",
    "import warnings\n",
    "warnings.filterwarnings(\"ignore\")\n",
    "warnings.filterwarnings(\"ignore\", message=\"interval columns not set\")"
   ]
  },
  {
   "cell_type": "markdown",
   "metadata": {},
   "source": [
    "## Описание данных"
   ]
  },
  {
   "cell_type": "markdown",
   "metadata": {},
   "source": [
    "Данные геологоразведки трёх регионов находятся в файлах: \n",
    "\n",
    "/datasets/geo_data_0.csv\n",
    "\n",
    "/datasets/geo_data_1.csv\n",
    "\n",
    "/datasets/geo_data_2.csv\n",
    "\n",
    "    id — уникальный идентификатор скважины;\n",
    "\n",
    "    f0, f1, f2 — три признака точек (неважно, что они означают, но сами признаки значимы);\n",
    "\n",
    "    product — объём запасов в скважине (тыс. баррелей)."
   ]
  },
  {
   "cell_type": "markdown",
   "metadata": {},
   "source": [
    "## Загрузка и подготовка данных"
   ]
  },
  {
   "cell_type": "markdown",
   "metadata": {},
   "source": [
    "### Загрузка и первичный осмотр"
   ]
  },
  {
   "cell_type": "code",
   "execution_count": 2,
   "metadata": {},
   "outputs": [],
   "source": [
    "geo_data_0 = pd.read_csv('/datasets/geo_data_0.csv')\n",
    "geo_data_1 = pd.read_csv('/datasets/geo_data_1.csv')\n",
    "geo_data_2 = pd.read_csv('/datasets/geo_data_2.csv')"
   ]
  },
  {
   "cell_type": "code",
   "execution_count": 3,
   "metadata": {
    "scrolled": true
   },
   "outputs": [
    {
     "data": {
      "text/html": [
       "<div>\n",
       "<style scoped>\n",
       "    .dataframe tbody tr th:only-of-type {\n",
       "        vertical-align: middle;\n",
       "    }\n",
       "\n",
       "    .dataframe tbody tr th {\n",
       "        vertical-align: top;\n",
       "    }\n",
       "\n",
       "    .dataframe thead th {\n",
       "        text-align: right;\n",
       "    }\n",
       "</style>\n",
       "<table border=\"1\" class=\"dataframe\">\n",
       "  <thead>\n",
       "    <tr style=\"text-align: right;\">\n",
       "      <th></th>\n",
       "      <th>id</th>\n",
       "      <th>f0</th>\n",
       "      <th>f1</th>\n",
       "      <th>f2</th>\n",
       "      <th>product</th>\n",
       "    </tr>\n",
       "  </thead>\n",
       "  <tbody>\n",
       "    <tr>\n",
       "      <th>0</th>\n",
       "      <td>txEyH</td>\n",
       "      <td>0.705745</td>\n",
       "      <td>-0.497823</td>\n",
       "      <td>1.221170</td>\n",
       "      <td>105.280062</td>\n",
       "    </tr>\n",
       "    <tr>\n",
       "      <th>1</th>\n",
       "      <td>2acmU</td>\n",
       "      <td>1.334711</td>\n",
       "      <td>-0.340164</td>\n",
       "      <td>4.365080</td>\n",
       "      <td>73.037750</td>\n",
       "    </tr>\n",
       "    <tr>\n",
       "      <th>2</th>\n",
       "      <td>409Wp</td>\n",
       "      <td>1.022732</td>\n",
       "      <td>0.151990</td>\n",
       "      <td>1.419926</td>\n",
       "      <td>85.265647</td>\n",
       "    </tr>\n",
       "    <tr>\n",
       "      <th>3</th>\n",
       "      <td>iJLyR</td>\n",
       "      <td>-0.032172</td>\n",
       "      <td>0.139033</td>\n",
       "      <td>2.978566</td>\n",
       "      <td>168.620776</td>\n",
       "    </tr>\n",
       "    <tr>\n",
       "      <th>4</th>\n",
       "      <td>Xdl7t</td>\n",
       "      <td>1.988431</td>\n",
       "      <td>0.155413</td>\n",
       "      <td>4.751769</td>\n",
       "      <td>154.036647</td>\n",
       "    </tr>\n",
       "  </tbody>\n",
       "</table>\n",
       "</div>"
      ],
      "text/plain": [
       "      id        f0        f1        f2     product\n",
       "0  txEyH  0.705745 -0.497823  1.221170  105.280062\n",
       "1  2acmU  1.334711 -0.340164  4.365080   73.037750\n",
       "2  409Wp  1.022732  0.151990  1.419926   85.265647\n",
       "3  iJLyR -0.032172  0.139033  2.978566  168.620776\n",
       "4  Xdl7t  1.988431  0.155413  4.751769  154.036647"
      ]
     },
     "metadata": {},
     "output_type": "display_data"
    },
    {
     "name": "stdout",
     "output_type": "stream",
     "text": [
      "<class 'pandas.core.frame.DataFrame'>\n",
      "RangeIndex: 100000 entries, 0 to 99999\n",
      "Data columns (total 5 columns):\n",
      " #   Column   Non-Null Count   Dtype  \n",
      "---  ------   --------------   -----  \n",
      " 0   id       100000 non-null  object \n",
      " 1   f0       100000 non-null  float64\n",
      " 2   f1       100000 non-null  float64\n",
      " 3   f2       100000 non-null  float64\n",
      " 4   product  100000 non-null  float64\n",
      "dtypes: float64(4), object(1)\n",
      "memory usage: 3.8+ MB\n",
      "None\n"
     ]
    },
    {
     "data": {
      "text/html": [
       "<div>\n",
       "<style scoped>\n",
       "    .dataframe tbody tr th:only-of-type {\n",
       "        vertical-align: middle;\n",
       "    }\n",
       "\n",
       "    .dataframe tbody tr th {\n",
       "        vertical-align: top;\n",
       "    }\n",
       "\n",
       "    .dataframe thead th {\n",
       "        text-align: right;\n",
       "    }\n",
       "</style>\n",
       "<table border=\"1\" class=\"dataframe\">\n",
       "  <thead>\n",
       "    <tr style=\"text-align: right;\">\n",
       "      <th></th>\n",
       "      <th>id</th>\n",
       "      <th>f0</th>\n",
       "      <th>f1</th>\n",
       "      <th>f2</th>\n",
       "      <th>product</th>\n",
       "    </tr>\n",
       "  </thead>\n",
       "  <tbody>\n",
       "    <tr>\n",
       "      <th>0</th>\n",
       "      <td>kBEdx</td>\n",
       "      <td>-15.001348</td>\n",
       "      <td>-8.276000</td>\n",
       "      <td>-0.005876</td>\n",
       "      <td>3.179103</td>\n",
       "    </tr>\n",
       "    <tr>\n",
       "      <th>1</th>\n",
       "      <td>62mP7</td>\n",
       "      <td>14.272088</td>\n",
       "      <td>-3.475083</td>\n",
       "      <td>0.999183</td>\n",
       "      <td>26.953261</td>\n",
       "    </tr>\n",
       "    <tr>\n",
       "      <th>2</th>\n",
       "      <td>vyE1P</td>\n",
       "      <td>6.263187</td>\n",
       "      <td>-5.948386</td>\n",
       "      <td>5.001160</td>\n",
       "      <td>134.766305</td>\n",
       "    </tr>\n",
       "    <tr>\n",
       "      <th>3</th>\n",
       "      <td>KcrkZ</td>\n",
       "      <td>-13.081196</td>\n",
       "      <td>-11.506057</td>\n",
       "      <td>4.999415</td>\n",
       "      <td>137.945408</td>\n",
       "    </tr>\n",
       "    <tr>\n",
       "      <th>4</th>\n",
       "      <td>AHL4O</td>\n",
       "      <td>12.702195</td>\n",
       "      <td>-8.147433</td>\n",
       "      <td>5.004363</td>\n",
       "      <td>134.766305</td>\n",
       "    </tr>\n",
       "  </tbody>\n",
       "</table>\n",
       "</div>"
      ],
      "text/plain": [
       "      id         f0         f1        f2     product\n",
       "0  kBEdx -15.001348  -8.276000 -0.005876    3.179103\n",
       "1  62mP7  14.272088  -3.475083  0.999183   26.953261\n",
       "2  vyE1P   6.263187  -5.948386  5.001160  134.766305\n",
       "3  KcrkZ -13.081196 -11.506057  4.999415  137.945408\n",
       "4  AHL4O  12.702195  -8.147433  5.004363  134.766305"
      ]
     },
     "metadata": {},
     "output_type": "display_data"
    },
    {
     "name": "stdout",
     "output_type": "stream",
     "text": [
      "<class 'pandas.core.frame.DataFrame'>\n",
      "RangeIndex: 100000 entries, 0 to 99999\n",
      "Data columns (total 5 columns):\n",
      " #   Column   Non-Null Count   Dtype  \n",
      "---  ------   --------------   -----  \n",
      " 0   id       100000 non-null  object \n",
      " 1   f0       100000 non-null  float64\n",
      " 2   f1       100000 non-null  float64\n",
      " 3   f2       100000 non-null  float64\n",
      " 4   product  100000 non-null  float64\n",
      "dtypes: float64(4), object(1)\n",
      "memory usage: 3.8+ MB\n",
      "None\n"
     ]
    },
    {
     "data": {
      "text/html": [
       "<div>\n",
       "<style scoped>\n",
       "    .dataframe tbody tr th:only-of-type {\n",
       "        vertical-align: middle;\n",
       "    }\n",
       "\n",
       "    .dataframe tbody tr th {\n",
       "        vertical-align: top;\n",
       "    }\n",
       "\n",
       "    .dataframe thead th {\n",
       "        text-align: right;\n",
       "    }\n",
       "</style>\n",
       "<table border=\"1\" class=\"dataframe\">\n",
       "  <thead>\n",
       "    <tr style=\"text-align: right;\">\n",
       "      <th></th>\n",
       "      <th>id</th>\n",
       "      <th>f0</th>\n",
       "      <th>f1</th>\n",
       "      <th>f2</th>\n",
       "      <th>product</th>\n",
       "    </tr>\n",
       "  </thead>\n",
       "  <tbody>\n",
       "    <tr>\n",
       "      <th>0</th>\n",
       "      <td>fwXo0</td>\n",
       "      <td>-1.146987</td>\n",
       "      <td>0.963328</td>\n",
       "      <td>-0.828965</td>\n",
       "      <td>27.758673</td>\n",
       "    </tr>\n",
       "    <tr>\n",
       "      <th>1</th>\n",
       "      <td>WJtFt</td>\n",
       "      <td>0.262778</td>\n",
       "      <td>0.269839</td>\n",
       "      <td>-2.530187</td>\n",
       "      <td>56.069697</td>\n",
       "    </tr>\n",
       "    <tr>\n",
       "      <th>2</th>\n",
       "      <td>ovLUW</td>\n",
       "      <td>0.194587</td>\n",
       "      <td>0.289035</td>\n",
       "      <td>-5.586433</td>\n",
       "      <td>62.871910</td>\n",
       "    </tr>\n",
       "    <tr>\n",
       "      <th>3</th>\n",
       "      <td>q6cA6</td>\n",
       "      <td>2.236060</td>\n",
       "      <td>-0.553760</td>\n",
       "      <td>0.930038</td>\n",
       "      <td>114.572842</td>\n",
       "    </tr>\n",
       "    <tr>\n",
       "      <th>4</th>\n",
       "      <td>WPMUX</td>\n",
       "      <td>-0.515993</td>\n",
       "      <td>1.716266</td>\n",
       "      <td>5.899011</td>\n",
       "      <td>149.600746</td>\n",
       "    </tr>\n",
       "  </tbody>\n",
       "</table>\n",
       "</div>"
      ],
      "text/plain": [
       "      id        f0        f1        f2     product\n",
       "0  fwXo0 -1.146987  0.963328 -0.828965   27.758673\n",
       "1  WJtFt  0.262778  0.269839 -2.530187   56.069697\n",
       "2  ovLUW  0.194587  0.289035 -5.586433   62.871910\n",
       "3  q6cA6  2.236060 -0.553760  0.930038  114.572842\n",
       "4  WPMUX -0.515993  1.716266  5.899011  149.600746"
      ]
     },
     "metadata": {},
     "output_type": "display_data"
    },
    {
     "name": "stdout",
     "output_type": "stream",
     "text": [
      "<class 'pandas.core.frame.DataFrame'>\n",
      "RangeIndex: 100000 entries, 0 to 99999\n",
      "Data columns (total 5 columns):\n",
      " #   Column   Non-Null Count   Dtype  \n",
      "---  ------   --------------   -----  \n",
      " 0   id       100000 non-null  object \n",
      " 1   f0       100000 non-null  float64\n",
      " 2   f1       100000 non-null  float64\n",
      " 3   f2       100000 non-null  float64\n",
      " 4   product  100000 non-null  float64\n",
      "dtypes: float64(4), object(1)\n",
      "memory usage: 3.8+ MB\n",
      "None\n"
     ]
    }
   ],
   "source": [
    "for data in [geo_data_0, geo_data_1, geo_data_2]:\n",
    "    display(data.head())\n",
    "    print(data.info())"
   ]
  },
  {
   "cell_type": "markdown",
   "metadata": {},
   "source": [
    "Данные в таблицах представлены корректно, а также не имеют пропусков"
   ]
  },
  {
   "cell_type": "markdown",
   "metadata": {},
   "source": [
    "Теперь посмотрим, нет ли в таблицах дубликатов"
   ]
  },
  {
   "cell_type": "code",
   "execution_count": 4,
   "metadata": {},
   "outputs": [
    {
     "name": "stdout",
     "output_type": "stream",
     "text": [
      "0\n",
      "0\n",
      "0\n"
     ]
    }
   ],
   "source": [
    "for data in [geo_data_0, geo_data_1, geo_data_2]:\n",
    "    print(data.duplicated().sum())"
   ]
  },
  {
   "cell_type": "markdown",
   "metadata": {},
   "source": [
    "Явных дубликатов в данных точно нет"
   ]
  },
  {
   "cell_type": "markdown",
   "metadata": {},
   "source": [
    "Посмотрим, сколько уникальных *id* есть во всех трёх таблицах"
   ]
  },
  {
   "cell_type": "code",
   "execution_count": 5,
   "metadata": {},
   "outputs": [
    {
     "name": "stdout",
     "output_type": "stream",
     "text": [
      "Общее количество строк:100000  Количество уникальных id:99990\n",
      "Общее количество строк:100000  Количество уникальных id:99996\n",
      "Общее количество строк:100000  Количество уникальных id:99996\n"
     ]
    }
   ],
   "source": [
    "\n",
    "for data in [geo_data_0, geo_data_1, geo_data_2]:\n",
    "    print(f'Общее количество строк:{data.shape[0]}  Количество уникальных id:{data[\"id\"].nunique()}')"
   ]
  },
  {
   "cell_type": "markdown",
   "metadata": {},
   "source": [
    "Оказывается, в данных присутствуют повторяющиеся скважины. Избавимся от повторов"
   ]
  },
  {
   "cell_type": "code",
   "execution_count": 6,
   "metadata": {},
   "outputs": [],
   "source": [
    "geo_data_0.drop_duplicates(subset='id', keep='first', inplace=True)\n",
    "geo_data_1.drop_duplicates(subset='id', keep='first', inplace=True)\n",
    "geo_data_2.drop_duplicates(subset='id', keep='first', inplace=True)"
   ]
  },
  {
   "cell_type": "markdown",
   "metadata": {},
   "source": [
    "### Исследовательский анализ"
   ]
  },
  {
   "cell_type": "markdown",
   "metadata": {},
   "source": [
    "Так как нам неизвестно, что скрывают за собой входящие признаки, просто посмотрим на их распределение"
   ]
  },
  {
   "cell_type": "code",
   "execution_count": 7,
   "metadata": {},
   "outputs": [],
   "source": [
    "def dist_plots(data):\n",
    "    fig, axs = plt.subplots(1, 4, figsize=(24, 6))\n",
    "    \n",
    "    cols = data.columns.drop('id')\n",
    "    for i in range(len(cols)):\n",
    "        sns.boxplot(data[cols[i]], orient='v', ax=axs[i])\n",
    "        axs[i].set_title(f'Распределение признака {cols[i]}')\n",
    "    plt.show();\n",
    "    print('\\n\\n')"
   ]
  },
  {
   "cell_type": "markdown",
   "metadata": {},
   "source": []
  },
  {
   "cell_type": "code",
   "execution_count": 8,
   "metadata": {},
   "outputs": [
    {
     "name": "stdout",
     "output_type": "stream",
     "text": [
      "Распределение признаков в первом регионе\n"
     ]
    },
    {
     "data": {
      "image/png": "[encoded data removed]",
      "text/plain": [
       "<Figure size 1728x432 with 4 Axes>"
      ]
     },
     "metadata": {
      "needs_background": "light"
     },
     "output_type": "display_data"
    },
    {
     "name": "stdout",
     "output_type": "stream",
     "text": [
      "\n",
      "\n",
      "\n",
      "Распределение признаков во втором регионе\n"
     ]
    },
    {
     "data": {
      "image/png": "[encoded data removed]",
      "text/plain": [
       "<Figure size 1728x432 with 4 Axes>"
      ]
     },
     "metadata": {
      "needs_background": "light"
     },
     "output_type": "display_data"
    },
    {
     "name": "stdout",
     "output_type": "stream",
     "text": [
      "\n",
      "\n",
      "\n",
      "Распределение признаков в третьем регионе\n"
     ]
    },
    {
     "data": {
      "image/png": "[encoded data removed]",
      "text/plain": [
       "<Figure size 1728x432 with 4 Axes>"
      ]
     },
     "metadata": {
      "needs_background": "light"
     },
     "output_type": "display_data"
    },
    {
     "name": "stdout",
     "output_type": "stream",
     "text": [
      "\n",
      "\n",
      "\n"
     ]
    }
   ],
   "source": [
    "print('Распределение признаков в первом регионе')\n",
    "dist_plots(geo_data_0)\n",
    "\n",
    "print('Распределение признаков во втором регионе')\n",
    "dist_plots(geo_data_1)\n",
    "\n",
    "print('Распределение признаков в третьем регионе')\n",
    "dist_plots(geo_data_2)"
   ]
  },
  {
   "cell_type": "markdown",
   "metadata": {},
   "source": [
    "Оказывается, данные в наших таблицах сильно отличаются:\n",
    "\n",
    "**В первой таблице**:\n",
    "\n",
    "- входные признаки отличаются небольшим распределением\n",
    "\n",
    "**Во второй таблице**:\n",
    "\n",
    "- признаки *f1* и *f0* имеют большое распределение, в то время как *f2* обладает самым малым распределением среди всех признаков трёх датасетов\n",
    "- самое низкое среднее значение *product*\n",
    "\n",
    "**В третьей таблице**:\n",
    "\n",
    "- входные признаки отличаются средним распределением и большим количесвом выбросов"
   ]
  },
  {
   "cell_type": "code",
   "execution_count": 9,
   "metadata": {
    "scrolled": true
   },
   "outputs": [
    {
     "data": {
      "image/png": "[encoded data removed]",
      "text/plain": [
       "<Figure size 1440x360 with 2 Axes>"
      ]
     },
     "metadata": {
      "needs_background": "light"
     },
     "output_type": "display_data"
    }
   ],
   "source": [
    "fig, (ax_main, ax_box) = plt.subplots(\n",
    "    2, sharex=True, gridspec_kw={\"height_ratios\": (.9, .1)}\n",
    ")\n",
    "fig.set_size_inches((20, 5))\n",
    "sns.histplot(x=geo_data_1['f0'], kde=True, discrete=True, ax=ax_main).set(ylabel=\"Количество\")\n",
    "sns.boxplot(x=geo_data_1['f0'], ax=ax_box)\n",
    "plt.suptitle(\"График распределения f0\", size=16, color=\"C0\")\n",
    "plt.xlabel(\"Возраст, лет\")\n",
    "plt.tight_layout()\n",
    "plt.show()"
   ]
  },
  {
   "cell_type": "markdown",
   "metadata": {},
   "source": [
    "### Подготовка данных"
   ]
  },
  {
   "cell_type": "markdown",
   "metadata": {},
   "source": [
    "Теперь определимся с тем, как будем обрабатывать признаки:\n",
    "\n",
    "- для кодирования *id* мы будем использовать OrdinalEncoder, так как столбец содержит слишком много уникальных значений\n",
    "- *f0*, *f1*, *f2*, *product* будут нормализованы с помощью MinMaxScaler"
   ]
  },
  {
   "cell_type": "code",
   "execution_count": 10,
   "metadata": {},
   "outputs": [],
   "source": [
    "num_cols = ['f0', 'f1', 'f2']"
   ]
  },
  {
   "cell_type": "markdown",
   "metadata": {},
   "source": [
    "Теперь подготовим данные таблиц к работе с моделью МО"
   ]
  },
  {
   "cell_type": "code",
   "execution_count": 11,
   "metadata": {},
   "outputs": [],
   "source": [
    "# кодирование id\n",
    "encoder = OrdinalEncoder()\n",
    "\n",
    "pgdata0 = geo_data_0.copy()\n",
    "pgdata1 = geo_data_1.copy()\n",
    "pgdata2 = geo_data_2.copy()\n",
    "\n",
    "pgdata0['id'] = encoder.fit_transform(np.array(pgdata0['id']).reshape(-1, 1))\n",
    "pgdata1['id'] = encoder.fit_transform(np.array(pgdata1['id']).reshape(-1, 1))\n",
    "pgdata2['id'] = encoder.fit_transform(np.array(pgdata2['id']).reshape(-1, 1))"
   ]
  },
  {
   "cell_type": "code",
   "execution_count": 12,
   "metadata": {},
   "outputs": [],
   "source": [
    "# нормализация количественных признаков\n",
    "# scaler = MinMaxScaler()\n",
    "\n",
    "# pgdata0[num_cols] = scaler.fit_transform(pgdata0[num_cols])\n",
    "# pgdata1[num_cols] = scaler.fit_transform(pgdata1[num_cols])\n",
    "# pgdata2[num_cols] = scaler.fit_transform(pgdata2[num_cols])"
   ]
  },
  {
   "cell_type": "markdown",
   "metadata": {},
   "source": [
    "Так как само *id* не может влиять на объём запасов нефти, сделаем его индексом таблиц"
   ]
  },
  {
   "cell_type": "code",
   "execution_count": 13,
   "metadata": {},
   "outputs": [],
   "source": [
    "pgtables = [pgdata0, pgdata1, pgdata2]\n",
    "for data in pgtables:\n",
    "    data.set_index('id', inplace=True)\n",
    "    data.index = data.index.astype(int)"
   ]
  },
  {
   "cell_type": "markdown",
   "metadata": {},
   "source": [
    "### Корреляционный анализ"
   ]
  },
  {
   "cell_type": "markdown",
   "metadata": {},
   "source": [
    "Теперь узнаем, как взаимосвязаны переменные в таблицах"
   ]
  },
  {
   "cell_type": "code",
   "execution_count": 14,
   "metadata": {
    "scrolled": true
   },
   "outputs": [
    {
     "data": {
      "image/png": "[encoded data removed]",
      "text/plain": [
       "<Figure size 1728x432 with 6 Axes>"
      ]
     },
     "metadata": {
      "needs_background": "light"
     },
     "output_type": "display_data"
    }
   ],
   "source": [
    "fig, axs = plt.subplots(1, 3, figsize=(24, 6))\n",
    "table_labels = ['первого региона', 'второго региона', 'третьего региона']\n",
    "\n",
    "for i in range(len(pgtables)):\n",
    "    corr_matrix = pgtables[i].phik_matrix(interval_cols=['f0', 'f1', 'f2'])\n",
    "    \n",
    "    sns.heatmap(corr_matrix, annot=True, cmap='coolwarm', fmt='.2f', linewidths=0.5, ax=axs[i])\n",
    "    axs[i].set_title(f'Корреляционная матрица по данным из {table_labels[i]}')\n",
    "plt.show();"
   ]
  },
  {
   "cell_type": "markdown",
   "metadata": {},
   "source": [
    "Какие выводы можно сделать из этих тепловых карт:\n",
    "\n",
    "**Первый регион**:\n",
    "\n",
    "- наблюдается 100%-ая корреляция между целевой переменной(*product*) и входными признаками\n",
    "- f1 и f0 имеют высокую корреляцию между друг другом, однако её недостаточно для того, чтобы говорить о мультиколлинеарности\n",
    "\n",
    "**Второй регион**:\n",
    "\n",
    "- целевой признак имеет сильную корреляцию с f2 и среднюю с f0, а значение f1 практически никак не связано с таргетом\n",
    "\n",
    "**Третий регион**:\n",
    "\n",
    "- идеальная корреляционная карта: таргет имеет 100%-ую корреляцию с входными признаками\n",
    "- входные признаки никак не коррелируют между собой"
   ]
  },
  {
   "cell_type": "markdown",
   "metadata": {},
   "source": [
    "**В резултате загрузки и подготовки данных**:\n",
    "\n",
    "- были загружены таблицы **geo_data_0**, **geo_data_1**, **geo_data_2**\n",
    "- выявлено различное распределение данных в трёх таблицах\n",
    "- были удалены дубликаты по *id*\n",
    "- был закодирован *id*\n",
    "- произведён корреляционный анализ всех трёх таблиц"
   ]
  },
  {
   "cell_type": "markdown",
   "metadata": {},
   "source": [
    "## Обучение и проверка модели"
   ]
  },
  {
   "cell_type": "markdown",
   "metadata": {},
   "source": [
    "Сделаем функцию, которая будет обучать модель на представленных данных и выводить её результаты и правильные ответы на валидационной выборке"
   ]
  },
  {
   "cell_type": "code",
   "execution_count": 15,
   "metadata": {},
   "outputs": [],
   "source": [
    "RANDOM_STATE=42\n",
    "def model_train_predict(pgdata):\n",
    "    \n",
    "    X_train, X_valid, y_train, y_valid = train_test_split(\n",
    "        pgdata.drop('product', axis=1),\n",
    "        pgdata['product'],\n",
    "        test_size=0.25,\n",
    "        random_state=RANDOM_STATE\n",
    "    )\n",
    "    # нормализация количественных признаков\n",
    "    scaler = MinMaxScaler()\n",
    "\n",
    "    X_train[num_cols] = scaler.fit_transform(X_train[num_cols])\n",
    "    X_valid[num_cols] = scaler.transform(X_valid[num_cols])\n",
    "    \n",
    "    model = LinearRegression()\n",
    "    model.fit(X_train, y_train)\n",
    "\n",
    "    preds = model.predict(X_valid)\n",
    "    print('Cредний запас предсказанного сырья:', preds.mean())\n",
    "    print('RMSE модели:', mean_squared_error(preds, y_valid)**0.5)\n",
    "\n",
    "    return model, preds, X_valid.merge(y_valid, on='id')"
   ]
  },
  {
   "cell_type": "code",
   "execution_count": 16,
   "metadata": {
    "scrolled": true
   },
   "outputs": [
    {
     "name": "stdout",
     "output_type": "stream",
     "text": [
      "Первый регион\n",
      "Cредний запас предсказанного сырья: 92.60984027552014\n",
      "RMSE модели: 37.68508926201444\n",
      "\n",
      "Второй регион\n",
      "Cредний запас предсказанного сырья: 68.57703454115173\n",
      "RMSE модели: 0.8928265978121425\n",
      "\n",
      "Третий регион\n",
      "Cредний запас предсказанного сырья: 94.93478722287517\n",
      "RMSE модели: 40.080822438088305\n"
     ]
    }
   ],
   "source": [
    "print('Первый регион')\n",
    "model0, hole0, valid_data0 = model_train_predict(pgdata0)\n",
    "print()\n",
    "\n",
    "print('Второй регион')\n",
    "model1, hole1, valid_data1 = model_train_predict(pgdata1)\n",
    "print()\n",
    "\n",
    "print('Третий регион')\n",
    "model2, hole2, valid_data2= model_train_predict(pgdata2)"
   ]
  },
  {
   "cell_type": "markdown",
   "metadata": {},
   "source": [
    "Модель отлично предсказывает объём нефти во втором регионе(ошибка меньше 1тыс. баррелей), однако в нём самые малые запасы нефти. В то же время в первом и третьем регионе залежи содержат в полтора раза больше нефти, однако у модели линейной регрессии очень плохо получается предсказывать значения в этих регионах(она ошибается в среднем на 39 тыс. баррелей)"
   ]
  },
  {
   "cell_type": "markdown",
   "metadata": {},
   "source": [
    "## Подготовка к расчёту прибыли"
   ]
  },
  {
   "cell_type": "markdown",
   "metadata": {},
   "source": [
    "Cохраним ключевые значения для расчётов в переменных"
   ]
  },
  {
   "cell_type": "code",
   "execution_count": 17,
   "metadata": {},
   "outputs": [],
   "source": [
    "REGION_BUDGET = 10**10\n",
    "BUDGET = REGION_BUDGET / 200 # Бюджет на разработку каждой скважины в регионе\n",
    "INCOME_PER_BAR = 450000 # Доход с каждой единицы продукта"
   ]
  },
  {
   "cell_type": "markdown",
   "metadata": {},
   "source": [
    "Рассчитаем достаточный объём сырья для безубыточной разработки новой скважины."
   ]
  },
  {
   "cell_type": "code",
   "execution_count": 18,
   "metadata": {},
   "outputs": [
    {
     "data": {
      "text/plain": [
       "111.11"
      ]
     },
     "execution_count": 18,
     "metadata": {},
     "output_type": "execute_result"
    }
   ],
   "source": [
    "min_product = round(BUDGET / INCOME_PER_BAR, 2)\n",
    "min_product"
   ]
  },
  {
   "cell_type": "markdown",
   "metadata": {},
   "source": [
    "Получается, что 112 тыс. баррелей сырья должно хватить для безубыточной работы"
   ]
  },
  {
   "cell_type": "markdown",
   "metadata": {},
   "source": [
    "Сравним полученный объём сырья со средним запасом в каждом регионе и посмотрим, сколько точек в каждом регионе cможет принести деньги компании"
   ]
  },
  {
   "cell_type": "code",
   "execution_count": 19,
   "metadata": {
    "scrolled": true
   },
   "outputs": [
    {
     "name": "stdout",
     "output_type": "stream",
     "text": [
      "Первый регион\n",
      "Средний объём сырья в точках: 92.49968421774354\n",
      "Количество прибыльных точек: 35897\n",
      "\n",
      "Второй регион\n",
      "Средний объём сырья в точках: 68.82391591804064\n",
      "Количество прибыльных точек: 16536\n",
      "\n",
      "Третий регион\n",
      "Средний объём сырья в точках: 94.99834211933378\n",
      "Количество прибыльных точек: 37488\n",
      "\n"
     ]
    }
   ],
   "source": [
    "print('Первый регион')\n",
    "print('Средний объём сырья в точках:', pgdata0['product'].mean())\n",
    "print(f'Количество прибыльных точек: {pgdata0[pgdata0[\"product\"] > 112].shape[0]}', end='\\n\\n')\n",
    "\n",
    "print('Второй регион')\n",
    "print('Средний объём сырья в точках:', pgdata1['product'].mean())\n",
    "print(f'Количество прибыльных точек: {pgdata1[pgdata1[\"product\"] > 112].shape[0]}', end='\\n\\n')\n",
    "\n",
    "print('Третий регион')\n",
    "print('Средний объём сырья в точках:', pgdata2['product'].mean())\n",
    "print(f'Количество прибыльных точек: {pgdata2[pgdata2[\"product\"] > 112].shape[0]}', end='\\n\\n')"
   ]
  },
  {
   "cell_type": "markdown",
   "metadata": {},
   "source": [
    "Средний объём сырья в скважинах меньше достаточного для прибыли. В то же время, выходит, что в каждом региое есть более 15 тысяч прибыльных точек, однако во втором регионе их вдвое меньше, чем в остальных. Следовательно, следует анализировать и разрабатывать только те точки, которые обладают большими запасами"
   ]
  },
  {
   "cell_type": "markdown",
   "metadata": {},
   "source": [
    "### Функция для расчёта прибыли"
   ]
  },
  {
   "cell_type": "markdown",
   "metadata": {},
   "source": [
    "Для разработки выберем 200 самых богатых сырьём скважин и посчитаем, какую прибыль они принесут компании"
   ]
  },
  {
   "cell_type": "code",
   "execution_count": 20,
   "metadata": {},
   "outputs": [],
   "source": [
    "# функцию для расчёта прибыли по выбранным скважинам и предсказаниям\n",
    "def pred_hole_profit(model, hole):\n",
    "    pred = model.predict(hole.drop('product', axis=1))\n",
    "    hole['preds'] = pred\n",
    "    return (round(sum(hole.sort_values(by='preds', ascending=False)['product'][:200]), 2) * INCOME_PER_BAR) - REGION_BUDGET"
   ]
  },
  {
   "cell_type": "markdown",
   "metadata": {},
   "source": [
    "**В результате подготовки к расчёту прибыли было выявлено, что**:\n",
    "\n",
    "- для безубыточной торговли скважина должна приносить 112(111.11)тыс. баррелей сырья\n",
    "- среднего объёма нефти, которую приносят скважины в каждом регионе, не хватает для того, чтобы покрыть расходы на их разработку\n",
    "- в первом и третьем регионах есть более 35тыс. прибыльных точек, в то время как во втором регионе их 16тыс\n",
    "- была сделана функция для подсчёта прибыли с месторождений в регионе"
   ]
  },
  {
   "cell_type": "markdown",
   "metadata": {},
   "source": [
    "## Расчёт рисков и прибыли"
   ]
  },
  {
   "cell_type": "markdown",
   "metadata": {},
   "source": [
    "Произведём расчёт рисков добычи сырья в трёх регионах, а также узнаем, какую прибыль может принести разработка месторождений"
   ]
  },
  {
   "cell_type": "markdown",
   "metadata": {},
   "source": [
    "Для этого создадим функцию, которая будет с помощью техники Bootstrap показывать среднюю выручку со скважин, 95%-й доверительный интервал и вероятность того, что точка будет убыточной"
   ]
  },
  {
   "cell_type": "code",
   "execution_count": 21,
   "metadata": {},
   "outputs": [],
   "source": [
    "def risks_and_profit_of_region(model, data):\n",
    "    state = np.random.RandomState(12345)\n",
    "\n",
    "    values = []\n",
    "    for i in range(1000):\n",
    "        # берём только 500 месторождений для разведки\n",
    "        subsample = data.sample(n=500, replace=True, random_state=state)\n",
    "        values.append(pred_hole_profit(model, subsample))\n",
    "    \n",
    "    values = pd.Series(values)\n",
    "    mean_value = values.mean()\n",
    "    lower_bound = values.quantile(0.025)\n",
    "    upper_bound = values.quantile(0.975)\n",
    "    loss_risk = np.mean(values < 0) * 100\n",
    "    \n",
    "    plt.figure(figsize=(14, 8))\n",
    "    sns.histplot(values, kde=True, color='skyblue', bins=20)\n",
    "    plt.axvline(mean_value, color='red', linestyle='--', label=f'Средняя выручка: {mean_value:.2f}')\n",
    "    plt.axvline(lower_bound, color='green', linestyle=':', label=f'95% Нижний интервал: {lower_bound:.2f}')\n",
    "    plt.axvline(upper_bound, color='green', linestyle=':', label=f'95% Верхний интервал: {upper_bound:.2f}')\n",
    "    plt.xlabel('Выручка')\n",
    "    plt.ylabel('Количество')\n",
    "    plt.legend(loc='upper right')\n",
    "    plt.show();\n",
    "    \n",
    "    print(\"Средняя выручка:\", mean_value)\n",
    "    print(f\"95%-й доверительный интервал: {lower_bound:.0f} — {upper_bound:.0f}\")\n",
    "    print(f\"Риск убытков: {loss_risk:.2f}%\")"
   ]
  },
  {
   "cell_type": "code",
   "execution_count": 22,
   "metadata": {},
   "outputs": [
    {
     "name": "stdout",
     "output_type": "stream",
     "text": [
      "Первый регион\n"
     ]
    },
    {
     "data": {
      "image/png": "[encoded data removed]",
      "text/plain": [
       "<Figure size 1008x576 with 1 Axes>"
      ]
     },
     "metadata": {
      "needs_background": "light"
     },
     "output_type": "display_data"
    },
    {
     "name": "stdout",
     "output_type": "stream",
     "text": [
      "Средняя выручка: 417354366.5\n",
      "95%-й доверительный интервал: -96262075 — 933494300\n",
      "Риск убытков: 5.90%\n",
      "\n",
      "\n",
      "Второй регион\n"
     ]
    },
    {
     "data": {
      "image/png": "[encoded data removed]",
      "text/plain": [
       "<Figure size 1008x576 with 1 Axes>"
      ]
     },
     "metadata": {
      "needs_background": "light"
     },
     "output_type": "display_data"
    },
    {
     "name": "stdout",
     "output_type": "stream",
     "text": [
      "Средняя выручка: 432017922.5\n",
      "95%-й доверительный интервал: 51740000 — 863040725\n",
      "Риск убытков: 1.00%\n",
      "\n",
      "\n",
      "Третий регион\n"
     ]
    },
    {
     "data": {
      "image/png": "[encoded data removed]",
      "text/plain": [
       "<Figure size 1008x576 with 1 Axes>"
      ]
     },
     "metadata": {
      "needs_background": "light"
     },
     "output_type": "display_data"
    },
    {
     "name": "stdout",
     "output_type": "stream",
     "text": [
      "Средняя выручка: 356881989.5\n",
      "95%-й доверительный интервал: -186257912 — 892098462\n",
      "Риск убытков: 8.90%\n"
     ]
    }
   ],
   "source": [
    "print('Первый регион')\n",
    "risks_and_profit_of_region(model0, valid_data0)\n",
    "\n",
    "print('\\n\\nВторой регион')\n",
    "risks_and_profit_of_region(model1, valid_data1)\n",
    "\n",
    "print('\\n\\nТретий регион')\n",
    "risks_and_profit_of_region(model2, valid_data2)"
   ]
  },
  {
   "cell_type": "markdown",
   "metadata": {},
   "source": [
    "В результате расчёта рисков оказалось, что только второй регион имеет риск убытков меньше 2.5%. Кроме того, именно в этом регионе самая большая средняя выручка.\n",
    "\n",
    "Таким образом, для разработки месторождения лучше всего подходит именно второй регион"
   ]
  },
  {
   "cell_type": "markdown",
   "metadata": {},
   "source": [
    "**Важно:**\n",
    "\n",
    "На исследование сильно влияют предсказания модели линейной регрессии, которая слабо показала себя в предсказании объёма месторождений в третьем и первом регионах. Так что, по возможности, модель следует заменить на более сильную"
   ]
  },
  {
   "cell_type": "markdown",
   "metadata": {},
   "source": [
    "## Вывод\n",
    "\n",
    "В результате анализа возможной прибыли и рисков в разработке месторождений трёх регионов с помощью модели МО было выявлено, что второй регион лучше всего подходит для разработки месторождения. Остальные регионы имеют более высокий риск убытков."
   ]
  },
  {
   "cell_type": "code",
   "execution_count": null,
   "metadata": {},
   "outputs": [],
   "source": []
  }
 ],
 "metadata": {
  "ExecuteTimeLog": [
   {
    "duration": 440,
    "start_time": "2025-03-11T17:17:29.517Z"
   },
   {
    "duration": 532,
    "start_time": "2025-03-11T17:17:32.540Z"
   },
   {
    "duration": 16,
    "start_time": "2025-03-11T17:17:40.264Z"
   },
   {
    "duration": 14,
    "start_time": "2025-03-11T17:19:47.307Z"
   },
   {
    "duration": 9,
    "start_time": "2025-03-11T17:20:41.004Z"
   },
   {
    "duration": 408,
    "start_time": "2025-03-11T17:25:09.656Z"
   },
   {
    "duration": 24,
    "start_time": "2025-03-11T17:25:16.326Z"
   },
   {
    "duration": 62,
    "start_time": "2025-03-11T17:25:29.430Z"
   },
   {
    "duration": 128,
    "start_time": "2025-03-11T17:27:34.958Z"
   },
   {
    "duration": 4,
    "start_time": "2025-03-11T17:33:49.896Z"
   },
   {
    "duration": 47,
    "start_time": "2025-03-12T07:25:24.506Z"
   },
   {
    "duration": 818,
    "start_time": "2025-03-12T07:25:29.373Z"
   },
   {
    "duration": 432,
    "start_time": "2025-03-12T07:25:30.193Z"
   },
   {
    "duration": 63,
    "start_time": "2025-03-12T07:25:30.627Z"
   },
   {
    "duration": 156,
    "start_time": "2025-03-12T07:25:30.692Z"
   },
   {
    "duration": 11,
    "start_time": "2025-03-12T07:25:30.851Z"
   },
   {
    "duration": 10,
    "start_time": "2025-03-12T07:25:38.000Z"
   },
   {
    "duration": 19,
    "start_time": "2025-03-12T07:25:44.455Z"
   },
   {
    "duration": 12,
    "start_time": "2025-03-12T07:25:48.496Z"
   },
   {
    "duration": 82,
    "start_time": "2025-03-12T07:26:10.266Z"
   },
   {
    "duration": 29,
    "start_time": "2025-03-12T07:26:33.791Z"
   },
   {
    "duration": 15,
    "start_time": "2025-03-12T07:26:36.418Z"
   },
   {
    "duration": 79,
    "start_time": "2025-03-12T07:31:27.598Z"
   },
   {
    "duration": 33,
    "start_time": "2025-03-12T07:32:16.766Z"
   },
   {
    "duration": 38,
    "start_time": "2025-03-12T07:32:25.411Z"
   },
   {
    "duration": 37,
    "start_time": "2025-03-12T07:32:36.705Z"
   },
   {
    "duration": 34,
    "start_time": "2025-03-12T07:32:44.036Z"
   },
   {
    "duration": 71,
    "start_time": "2025-03-12T07:33:18.359Z"
   },
   {
    "duration": 7,
    "start_time": "2025-03-12T07:34:18.666Z"
   },
   {
    "duration": 534,
    "start_time": "2025-03-12T07:34:35.344Z"
   },
   {
    "duration": 220,
    "start_time": "2025-03-12T07:34:42.119Z"
   },
   {
    "duration": 119,
    "start_time": "2025-03-12T07:35:00.375Z"
   },
   {
    "duration": 106,
    "start_time": "2025-03-12T07:35:10.525Z"
   },
   {
    "duration": 209,
    "start_time": "2025-03-12T07:37:30.333Z"
   },
   {
    "duration": 147,
    "start_time": "2025-03-12T07:37:37.727Z"
   },
   {
    "duration": 105,
    "start_time": "2025-03-12T07:37:54.180Z"
   },
   {
    "duration": 117,
    "start_time": "2025-03-12T07:38:01.606Z"
   },
   {
    "duration": 58,
    "start_time": "2025-03-12T07:38:11.842Z"
   },
   {
    "duration": 15652,
    "start_time": "2025-03-12T07:38:24.550Z"
   },
   {
    "duration": 31,
    "start_time": "2025-03-12T07:39:08.528Z"
   },
   {
    "duration": 109,
    "start_time": "2025-03-12T07:39:16.098Z"
   },
   {
    "duration": 29,
    "start_time": "2025-03-12T07:39:24.053Z"
   },
   {
    "duration": 207,
    "start_time": "2025-03-12T07:39:34.898Z"
   },
   {
    "duration": 99,
    "start_time": "2025-03-12T07:41:42.582Z"
   },
   {
    "duration": 120,
    "start_time": "2025-03-12T07:54:55.866Z"
   },
   {
    "duration": 3,
    "start_time": "2025-03-12T07:55:06.647Z"
   },
   {
    "duration": 21,
    "start_time": "2025-03-12T07:57:30.435Z"
   },
   {
    "duration": 11,
    "start_time": "2025-03-12T07:58:10.637Z"
   },
   {
    "duration": 16,
    "start_time": "2025-03-12T07:58:17.755Z"
   },
   {
    "duration": 431,
    "start_time": "2025-03-12T07:59:05.089Z"
   },
   {
    "duration": 343,
    "start_time": "2025-03-12T07:59:15.544Z"
   },
   {
    "duration": 384,
    "start_time": "2025-03-12T07:59:21.884Z"
   },
   {
    "duration": 373,
    "start_time": "2025-03-12T07:59:55.716Z"
   },
   {
    "duration": 4,
    "start_time": "2025-03-12T08:00:00.635Z"
   },
   {
    "duration": 448,
    "start_time": "2025-03-12T08:01:24.130Z"
   },
   {
    "duration": 15,
    "start_time": "2025-03-12T08:01:26.012Z"
   },
   {
    "duration": 9,
    "start_time": "2025-03-12T08:01:44.146Z"
   },
   {
    "duration": 3,
    "start_time": "2025-03-12T08:01:56.127Z"
   },
   {
    "duration": 16,
    "start_time": "2025-03-12T08:03:07.156Z"
   },
   {
    "duration": 10,
    "start_time": "2025-03-12T08:03:21.250Z"
   },
   {
    "duration": 23,
    "start_time": "2025-03-12T08:04:14.334Z"
   },
   {
    "duration": 22,
    "start_time": "2025-03-12T08:04:17.800Z"
   },
   {
    "duration": 21,
    "start_time": "2025-03-12T08:04:21.580Z"
   },
   {
    "duration": 22,
    "start_time": "2025-03-12T08:04:25.033Z"
   },
   {
    "duration": 69,
    "start_time": "2025-03-12T08:07:33.501Z"
   },
   {
    "duration": 74,
    "start_time": "2025-03-12T08:08:17.751Z"
   },
   {
    "duration": 69,
    "start_time": "2025-03-12T08:08:39.310Z"
   },
   {
    "duration": 111,
    "start_time": "2025-03-12T08:08:58.914Z"
   },
   {
    "duration": 63,
    "start_time": "2025-03-12T08:09:30.045Z"
   },
   {
    "duration": 1457,
    "start_time": "2025-03-12T09:27:28.030Z"
   },
   {
    "duration": 387,
    "start_time": "2025-03-12T09:27:29.489Z"
   },
   {
    "duration": 67,
    "start_time": "2025-03-12T09:27:29.877Z"
   },
   {
    "duration": 140,
    "start_time": "2025-03-12T09:27:29.945Z"
   },
   {
    "duration": 72,
    "start_time": "2025-03-12T09:27:30.087Z"
   },
   {
    "duration": 424,
    "start_time": "2025-03-12T09:27:30.160Z"
   },
   {
    "duration": 31,
    "start_time": "2025-03-12T09:27:30.586Z"
   },
   {
    "duration": 125,
    "start_time": "2025-03-12T09:27:30.619Z"
   },
   {
    "duration": 65,
    "start_time": "2025-03-12T09:30:55.923Z"
   },
   {
    "duration": 56,
    "start_time": "2025-03-12T09:30:58.334Z"
   },
   {
    "duration": 1443,
    "start_time": "2025-03-12T09:31:24.034Z"
   },
   {
    "duration": 416,
    "start_time": "2025-03-12T09:31:25.479Z"
   },
   {
    "duration": 70,
    "start_time": "2025-03-12T09:31:25.896Z"
   },
   {
    "duration": 159,
    "start_time": "2025-03-12T09:31:25.968Z"
   },
   {
    "duration": 68,
    "start_time": "2025-03-12T09:31:26.130Z"
   },
   {
    "duration": 93,
    "start_time": "2025-03-12T09:31:26.199Z"
   },
   {
    "duration": 486,
    "start_time": "2025-03-12T09:31:26.294Z"
   },
   {
    "duration": 32,
    "start_time": "2025-03-12T09:31:26.782Z"
   },
   {
    "duration": 113,
    "start_time": "2025-03-12T09:31:26.816Z"
   },
   {
    "duration": 379,
    "start_time": "2025-03-12T09:31:35.094Z"
   },
   {
    "duration": 14,
    "start_time": "2025-03-12T09:31:40.065Z"
   },
   {
    "duration": 1259,
    "start_time": "2025-03-12T09:32:29.764Z"
   },
   {
    "duration": 20,
    "start_time": "2025-03-12T09:32:36.509Z"
   },
   {
    "duration": 7,
    "start_time": "2025-03-12T09:34:42.963Z"
   },
   {
    "duration": 9,
    "start_time": "2025-03-12T09:35:12.259Z"
   },
   {
    "duration": 16,
    "start_time": "2025-03-12T09:35:16.365Z"
   },
   {
    "duration": 12,
    "start_time": "2025-03-12T09:35:19.106Z"
   },
   {
    "duration": 12,
    "start_time": "2025-03-12T09:35:29.286Z"
   },
   {
    "duration": 13,
    "start_time": "2025-03-12T09:35:37.594Z"
   },
   {
    "duration": 26,
    "start_time": "2025-03-12T09:44:49.502Z"
   },
   {
    "duration": 12,
    "start_time": "2025-03-12T09:44:51.843Z"
   },
   {
    "duration": 13,
    "start_time": "2025-03-12T09:45:02.797Z"
   },
   {
    "duration": 38,
    "start_time": "2025-03-12T09:45:30.665Z"
   },
   {
    "duration": 35,
    "start_time": "2025-03-12T09:46:15.826Z"
   },
   {
    "duration": 70,
    "start_time": "2025-03-12T09:46:32.757Z"
   },
   {
    "duration": 14,
    "start_time": "2025-03-12T09:47:29.703Z"
   },
   {
    "duration": 1477,
    "start_time": "2025-03-12T10:30:41.012Z"
   },
   {
    "duration": 420,
    "start_time": "2025-03-12T10:30:42.491Z"
   },
   {
    "duration": 61,
    "start_time": "2025-03-12T10:30:42.913Z"
   },
   {
    "duration": 167,
    "start_time": "2025-03-12T10:30:42.976Z"
   },
   {
    "duration": 85,
    "start_time": "2025-03-12T10:30:43.145Z"
   },
   {
    "duration": 84,
    "start_time": "2025-03-12T10:30:43.232Z"
   },
   {
    "duration": 8,
    "start_time": "2025-03-12T10:30:43.318Z"
   },
   {
    "duration": 1226,
    "start_time": "2025-03-12T10:30:43.327Z"
   },
   {
    "duration": 40,
    "start_time": "2025-03-12T10:30:44.555Z"
   },
   {
    "duration": 21,
    "start_time": "2025-03-12T10:34:42.734Z"
   },
   {
    "duration": 6,
    "start_time": "2025-03-12T10:35:19.881Z"
   },
   {
    "duration": 14,
    "start_time": "2025-03-12T10:35:41.943Z"
   },
   {
    "duration": 16,
    "start_time": "2025-03-12T10:35:46.572Z"
   },
   {
    "duration": 13,
    "start_time": "2025-03-12T10:35:48.503Z"
   },
   {
    "duration": 4,
    "start_time": "2025-03-12T10:37:31.128Z"
   },
   {
    "duration": 12,
    "start_time": "2025-03-12T10:37:37.096Z"
   },
   {
    "duration": 109,
    "start_time": "2025-03-12T10:40:11.750Z"
   },
   {
    "duration": 1487,
    "start_time": "2025-03-12T10:40:22.211Z"
   },
   {
    "duration": 428,
    "start_time": "2025-03-12T10:40:23.700Z"
   },
   {
    "duration": 63,
    "start_time": "2025-03-12T10:40:24.130Z"
   },
   {
    "duration": 133,
    "start_time": "2025-03-12T10:40:24.214Z"
   },
   {
    "duration": 76,
    "start_time": "2025-03-12T10:40:24.350Z"
   },
   {
    "duration": 68,
    "start_time": "2025-03-12T10:40:24.427Z"
   },
   {
    "duration": 19,
    "start_time": "2025-03-12T10:40:24.497Z"
   },
   {
    "duration": 1217,
    "start_time": "2025-03-12T10:40:24.518Z"
   },
   {
    "duration": 40,
    "start_time": "2025-03-12T10:40:25.737Z"
   },
   {
    "duration": 8,
    "start_time": "2025-03-12T10:40:25.779Z"
   },
   {
    "duration": 30,
    "start_time": "2025-03-12T10:40:25.789Z"
   },
   {
    "duration": 12,
    "start_time": "2025-03-12T10:40:25.820Z"
   },
   {
    "duration": 12,
    "start_time": "2025-03-12T10:40:50.505Z"
   },
   {
    "duration": 35,
    "start_time": "2025-03-12T10:41:15.082Z"
   },
   {
    "duration": 12,
    "start_time": "2025-03-12T10:41:25.345Z"
   },
   {
    "duration": 1425,
    "start_time": "2025-03-12T10:41:58.176Z"
   },
   {
    "duration": 416,
    "start_time": "2025-03-12T10:41:59.603Z"
   },
   {
    "duration": 67,
    "start_time": "2025-03-12T10:42:00.021Z"
   },
   {
    "duration": 170,
    "start_time": "2025-03-12T10:42:00.090Z"
   },
   {
    "duration": 81,
    "start_time": "2025-03-12T10:42:00.262Z"
   },
   {
    "duration": 83,
    "start_time": "2025-03-12T10:42:00.345Z"
   },
   {
    "duration": 8,
    "start_time": "2025-03-12T10:42:00.429Z"
   },
   {
    "duration": 1258,
    "start_time": "2025-03-12T10:42:00.438Z"
   },
   {
    "duration": 49,
    "start_time": "2025-03-12T10:42:01.698Z"
   },
   {
    "duration": 118,
    "start_time": "2025-03-12T10:42:01.749Z"
   },
   {
    "duration": 0,
    "start_time": "2025-03-12T10:42:01.869Z"
   },
   {
    "duration": 0,
    "start_time": "2025-03-12T10:42:01.870Z"
   },
   {
    "duration": 11,
    "start_time": "2025-03-12T10:42:18.818Z"
   },
   {
    "duration": 1464,
    "start_time": "2025-03-12T10:42:25.801Z"
   },
   {
    "duration": 420,
    "start_time": "2025-03-12T10:42:27.267Z"
   },
   {
    "duration": 68,
    "start_time": "2025-03-12T10:42:27.688Z"
   },
   {
    "duration": 145,
    "start_time": "2025-03-12T10:42:27.759Z"
   },
   {
    "duration": 62,
    "start_time": "2025-03-12T10:42:27.906Z"
   },
   {
    "duration": 103,
    "start_time": "2025-03-12T10:42:27.969Z"
   },
   {
    "duration": 8,
    "start_time": "2025-03-12T10:42:28.073Z"
   },
   {
    "duration": 1265,
    "start_time": "2025-03-12T10:42:28.082Z"
   },
   {
    "duration": 43,
    "start_time": "2025-03-12T10:42:29.348Z"
   },
   {
    "duration": 20,
    "start_time": "2025-03-12T10:42:29.393Z"
   },
   {
    "duration": 12,
    "start_time": "2025-03-12T10:42:29.415Z"
   },
   {
    "duration": 11,
    "start_time": "2025-03-12T10:42:29.429Z"
   },
   {
    "duration": 108,
    "start_time": "2025-03-12T10:43:29.637Z"
   },
   {
    "duration": 84,
    "start_time": "2025-03-12T10:43:51.035Z"
   },
   {
    "duration": 26,
    "start_time": "2025-03-12T10:43:54.167Z"
   },
   {
    "duration": 3,
    "start_time": "2025-03-12T10:44:04.299Z"
   },
   {
    "duration": 11,
    "start_time": "2025-03-12T10:46:58.570Z"
   },
   {
    "duration": 22,
    "start_time": "2025-03-12T10:47:03.459Z"
   },
   {
    "duration": 4,
    "start_time": "2025-03-12T10:47:05.634Z"
   },
   {
    "duration": 6,
    "start_time": "2025-03-12T10:47:20.938Z"
   },
   {
    "duration": 6,
    "start_time": "2025-03-12T10:48:27.648Z"
   },
   {
    "duration": 2,
    "start_time": "2025-03-12T10:49:55.665Z"
   },
   {
    "duration": 1461,
    "start_time": "2025-03-12T10:50:03.745Z"
   },
   {
    "duration": 417,
    "start_time": "2025-03-12T10:50:05.208Z"
   },
   {
    "duration": 62,
    "start_time": "2025-03-12T10:50:05.627Z"
   },
   {
    "duration": 177,
    "start_time": "2025-03-12T10:50:05.690Z"
   },
   {
    "duration": 72,
    "start_time": "2025-03-12T10:50:05.870Z"
   },
   {
    "duration": 85,
    "start_time": "2025-03-12T10:50:05.943Z"
   },
   {
    "duration": 2,
    "start_time": "2025-03-12T10:50:06.030Z"
   },
   {
    "duration": 1385,
    "start_time": "2025-03-12T10:50:06.034Z"
   },
   {
    "duration": 42,
    "start_time": "2025-03-12T10:50:07.421Z"
   },
   {
    "duration": 11,
    "start_time": "2025-03-12T10:50:07.465Z"
   },
   {
    "duration": 13,
    "start_time": "2025-03-12T10:50:07.478Z"
   },
   {
    "duration": 20,
    "start_time": "2025-03-12T10:50:07.513Z"
   },
   {
    "duration": 81,
    "start_time": "2025-03-12T10:50:07.535Z"
   },
   {
    "duration": 112,
    "start_time": "2025-03-12T10:50:07.620Z"
   },
   {
    "duration": 118,
    "start_time": "2025-03-12T10:52:34.288Z"
   },
   {
    "duration": 5,
    "start_time": "2025-03-12T10:54:35.694Z"
   },
   {
    "duration": 192,
    "start_time": "2025-03-12T10:55:43.123Z"
   },
   {
    "duration": 15,
    "start_time": "2025-03-12T10:56:06.496Z"
   },
   {
    "duration": 3,
    "start_time": "2025-03-12T10:59:05.841Z"
   },
   {
    "duration": 4,
    "start_time": "2025-03-12T10:59:47.098Z"
   },
   {
    "duration": 1483,
    "start_time": "2025-03-12T11:01:48.964Z"
   },
   {
    "duration": 413,
    "start_time": "2025-03-12T11:01:50.448Z"
   },
   {
    "duration": 65,
    "start_time": "2025-03-12T11:01:50.863Z"
   },
   {
    "duration": 166,
    "start_time": "2025-03-12T11:01:50.930Z"
   },
   {
    "duration": 67,
    "start_time": "2025-03-12T11:01:51.097Z"
   },
   {
    "duration": 85,
    "start_time": "2025-03-12T11:01:51.166Z"
   },
   {
    "duration": 3,
    "start_time": "2025-03-12T11:01:51.252Z"
   },
   {
    "duration": 1319,
    "start_time": "2025-03-12T11:01:51.257Z"
   },
   {
    "duration": 50,
    "start_time": "2025-03-12T11:01:52.578Z"
   },
   {
    "duration": 12,
    "start_time": "2025-03-12T11:01:52.631Z"
   },
   {
    "duration": 5,
    "start_time": "2025-03-12T11:01:52.644Z"
   },
   {
    "duration": 140,
    "start_time": "2025-03-12T11:01:52.650Z"
   },
   {
    "duration": 0,
    "start_time": "2025-03-12T11:01:52.793Z"
   },
   {
    "duration": 0,
    "start_time": "2025-03-12T11:01:52.794Z"
   },
   {
    "duration": 0,
    "start_time": "2025-03-12T11:01:52.796Z"
   },
   {
    "duration": 1650,
    "start_time": "2025-03-13T08:25:26.672Z"
   },
   {
    "duration": 506,
    "start_time": "2025-03-13T08:25:28.325Z"
   },
   {
    "duration": 66,
    "start_time": "2025-03-13T08:25:28.833Z"
   },
   {
    "duration": 138,
    "start_time": "2025-03-13T08:25:28.900Z"
   },
   {
    "duration": 69,
    "start_time": "2025-03-13T08:25:29.040Z"
   },
   {
    "duration": 85,
    "start_time": "2025-03-13T08:25:29.111Z"
   },
   {
    "duration": 3,
    "start_time": "2025-03-13T08:25:29.197Z"
   },
   {
    "duration": 1184,
    "start_time": "2025-03-13T08:25:29.201Z"
   },
   {
    "duration": 35,
    "start_time": "2025-03-13T08:25:30.386Z"
   },
   {
    "duration": 33,
    "start_time": "2025-03-13T08:25:30.422Z"
   },
   {
    "duration": 39,
    "start_time": "2025-03-13T08:25:30.456Z"
   },
   {
    "duration": 163,
    "start_time": "2025-03-13T08:25:30.497Z"
   },
   {
    "duration": 0,
    "start_time": "2025-03-13T08:25:30.662Z"
   },
   {
    "duration": 0,
    "start_time": "2025-03-13T08:25:30.663Z"
   },
   {
    "duration": 0,
    "start_time": "2025-03-13T08:25:30.664Z"
   },
   {
    "duration": 16,
    "start_time": "2025-03-13T08:26:47.050Z"
   },
   {
    "duration": 4,
    "start_time": "2025-03-13T08:27:01.047Z"
   },
   {
    "duration": 95,
    "start_time": "2025-03-13T08:27:04.471Z"
   },
   {
    "duration": 22,
    "start_time": "2025-03-13T08:27:12.778Z"
   },
   {
    "duration": 253,
    "start_time": "2025-03-13T08:28:17.130Z"
   },
   {
    "duration": 287,
    "start_time": "2025-03-13T08:28:40.483Z"
   },
   {
    "duration": 282,
    "start_time": "2025-03-13T08:28:46.189Z"
   },
   {
    "duration": 4,
    "start_time": "2025-03-13T08:29:18.787Z"
   },
   {
    "duration": 11,
    "start_time": "2025-03-13T08:29:26.520Z"
   },
   {
    "duration": 8,
    "start_time": "2025-03-13T08:29:57.432Z"
   },
   {
    "duration": 12,
    "start_time": "2025-03-13T08:30:17.070Z"
   },
   {
    "duration": 5,
    "start_time": "2025-03-13T08:30:45.728Z"
   },
   {
    "duration": 10,
    "start_time": "2025-03-13T08:30:48.554Z"
   },
   {
    "duration": 10,
    "start_time": "2025-03-13T08:30:57.073Z"
   },
   {
    "duration": 13,
    "start_time": "2025-03-13T08:31:06.599Z"
   },
   {
    "duration": 21,
    "start_time": "2025-03-13T08:31:08.557Z"
   },
   {
    "duration": 14,
    "start_time": "2025-03-13T08:31:23.943Z"
   },
   {
    "duration": 16,
    "start_time": "2025-03-13T08:31:25.982Z"
   },
   {
    "duration": 5,
    "start_time": "2025-03-13T08:31:32.294Z"
   },
   {
    "duration": 6,
    "start_time": "2025-03-13T08:31:39.745Z"
   },
   {
    "duration": 338,
    "start_time": "2025-03-13T08:34:31.430Z"
   },
   {
    "duration": 111,
    "start_time": "2025-03-13T09:00:21.452Z"
   },
   {
    "duration": 4,
    "start_time": "2025-03-13T09:00:27.036Z"
   },
   {
    "duration": 350,
    "start_time": "2025-03-13T09:00:27.913Z"
   },
   {
    "duration": 96,
    "start_time": "2025-03-13T09:47:19.995Z"
   },
   {
    "duration": 90,
    "start_time": "2025-03-13T09:47:24.292Z"
   },
   {
    "duration": 1511,
    "start_time": "2025-03-13T09:47:29.128Z"
   },
   {
    "duration": 99,
    "start_time": "2025-03-13T09:47:34.421Z"
   },
   {
    "duration": 158,
    "start_time": "2025-03-13T09:47:39.790Z"
   },
   {
    "duration": 87,
    "start_time": "2025-03-13T09:47:45.127Z"
   },
   {
    "duration": 87,
    "start_time": "2025-03-13T09:47:49.076Z"
   },
   {
    "duration": 102,
    "start_time": "2025-03-13T09:47:56.243Z"
   },
   {
    "duration": 108,
    "start_time": "2025-03-13T09:48:03.559Z"
   },
   {
    "duration": 90,
    "start_time": "2025-03-13T09:48:06.939Z"
   },
   {
    "duration": 2,
    "start_time": "2025-03-13T09:57:02.586Z"
   },
   {
    "duration": 3,
    "start_time": "2025-03-13T09:57:55.834Z"
   },
   {
    "duration": 9,
    "start_time": "2025-03-13T09:58:35.091Z"
   },
   {
    "duration": 4,
    "start_time": "2025-03-13T09:58:43.533Z"
   },
   {
    "duration": 4,
    "start_time": "2025-03-13T09:59:00.237Z"
   },
   {
    "duration": 8,
    "start_time": "2025-03-13T10:00:39.330Z"
   },
   {
    "duration": 6,
    "start_time": "2025-03-13T10:00:47.028Z"
   },
   {
    "duration": 7,
    "start_time": "2025-03-13T10:01:01.753Z"
   },
   {
    "duration": 7,
    "start_time": "2025-03-13T10:07:58.669Z"
   },
   {
    "duration": 18,
    "start_time": "2025-03-13T10:08:44.203Z"
   },
   {
    "duration": 3,
    "start_time": "2025-03-13T10:10:48.285Z"
   },
   {
    "duration": 4,
    "start_time": "2025-03-13T10:10:49.448Z"
   },
   {
    "duration": 7,
    "start_time": "2025-03-13T10:10:52.812Z"
   },
   {
    "duration": 2,
    "start_time": "2025-03-13T10:11:33.921Z"
   },
   {
    "duration": 4,
    "start_time": "2025-03-13T10:11:34.907Z"
   },
   {
    "duration": 5,
    "start_time": "2025-03-13T10:11:47.831Z"
   },
   {
    "duration": 3,
    "start_time": "2025-03-13T10:12:27.616Z"
   },
   {
    "duration": 4,
    "start_time": "2025-03-13T10:12:28.929Z"
   },
   {
    "duration": 4,
    "start_time": "2025-03-13T10:13:18.149Z"
   },
   {
    "duration": 3,
    "start_time": "2025-03-13T10:13:35.841Z"
   },
   {
    "duration": 4,
    "start_time": "2025-03-13T10:13:36.837Z"
   },
   {
    "duration": 3,
    "start_time": "2025-03-13T10:13:59.556Z"
   },
   {
    "duration": 4,
    "start_time": "2025-03-13T10:14:00.417Z"
   },
   {
    "duration": 4,
    "start_time": "2025-03-13T10:14:03.007Z"
   },
   {
    "duration": 5,
    "start_time": "2025-03-13T10:14:12.989Z"
   },
   {
    "duration": 19,
    "start_time": "2025-03-13T10:20:54.686Z"
   },
   {
    "duration": 18,
    "start_time": "2025-03-13T10:21:02.223Z"
   },
   {
    "duration": 36,
    "start_time": "2025-03-13T10:22:22.292Z"
   },
   {
    "duration": 9,
    "start_time": "2025-03-13T10:22:49.345Z"
   },
   {
    "duration": 41,
    "start_time": "2025-03-13T10:27:04.841Z"
   },
   {
    "duration": 8,
    "start_time": "2025-03-13T10:27:06.428Z"
   },
   {
    "duration": 5,
    "start_time": "2025-03-13T10:30:04.278Z"
   },
   {
    "duration": 1702,
    "start_time": "2025-03-14T06:59:32.363Z"
   },
   {
    "duration": 404,
    "start_time": "2025-03-14T06:59:34.067Z"
   },
   {
    "duration": 65,
    "start_time": "2025-03-14T06:59:34.473Z"
   },
   {
    "duration": 139,
    "start_time": "2025-03-14T06:59:34.558Z"
   },
   {
    "duration": 77,
    "start_time": "2025-03-14T06:59:34.700Z"
   },
   {
    "duration": 82,
    "start_time": "2025-03-14T06:59:34.779Z"
   },
   {
    "duration": 4,
    "start_time": "2025-03-14T06:59:34.862Z"
   },
   {
    "duration": 1250,
    "start_time": "2025-03-14T06:59:34.868Z"
   },
   {
    "duration": 45,
    "start_time": "2025-03-14T06:59:36.119Z"
   },
   {
    "duration": 9,
    "start_time": "2025-03-14T06:59:36.166Z"
   },
   {
    "duration": 3,
    "start_time": "2025-03-14T06:59:36.178Z"
   },
   {
    "duration": 375,
    "start_time": "2025-03-14T06:59:36.183Z"
   },
   {
    "duration": 4,
    "start_time": "2025-03-14T06:59:36.561Z"
   },
   {
    "duration": 4,
    "start_time": "2025-03-14T06:59:36.659Z"
   },
   {
    "duration": 34,
    "start_time": "2025-03-14T06:59:36.665Z"
   },
   {
    "duration": 9,
    "start_time": "2025-03-14T06:59:36.700Z"
   },
   {
    "duration": 5,
    "start_time": "2025-03-14T06:59:36.710Z"
   },
   {
    "duration": 84,
    "start_time": "2025-03-14T06:59:36.716Z"
   },
   {
    "duration": 12,
    "start_time": "2025-03-14T07:02:05.137Z"
   },
   {
    "duration": 6,
    "start_time": "2025-03-14T07:02:15.483Z"
   },
   {
    "duration": 9,
    "start_time": "2025-03-14T07:04:25.351Z"
   },
   {
    "duration": 11,
    "start_time": "2025-03-14T07:04:40.450Z"
   },
   {
    "duration": 137,
    "start_time": "2025-03-14T07:06:06.138Z"
   },
   {
    "duration": 111,
    "start_time": "2025-03-14T07:06:38.649Z"
   },
   {
    "duration": 10,
    "start_time": "2025-03-14T07:06:46.377Z"
   },
   {
    "duration": 4,
    "start_time": "2025-03-14T07:20:22.682Z"
   },
   {
    "duration": 8,
    "start_time": "2025-03-14T07:20:27.445Z"
   },
   {
    "duration": 6,
    "start_time": "2025-03-14T07:20:40.919Z"
   },
   {
    "duration": 10,
    "start_time": "2025-03-14T07:21:44.838Z"
   },
   {
    "duration": 3,
    "start_time": "2025-03-14T07:21:46.888Z"
   },
   {
    "duration": 4,
    "start_time": "2025-03-14T07:21:49.325Z"
   },
   {
    "duration": 10,
    "start_time": "2025-03-14T07:22:56.661Z"
   },
   {
    "duration": 28,
    "start_time": "2025-03-14T07:23:05.775Z"
   },
   {
    "duration": 3,
    "start_time": "2025-03-14T07:23:21.153Z"
   },
   {
    "duration": 16,
    "start_time": "2025-03-14T07:23:37.549Z"
   },
   {
    "duration": 17,
    "start_time": "2025-03-14T07:23:40.965Z"
   },
   {
    "duration": 11,
    "start_time": "2025-03-14T07:23:45.075Z"
   },
   {
    "duration": 6,
    "start_time": "2025-03-14T07:24:46.692Z"
   },
   {
    "duration": 4,
    "start_time": "2025-03-14T07:26:15.659Z"
   },
   {
    "duration": 2,
    "start_time": "2025-03-14T07:26:29.517Z"
   },
   {
    "duration": 3,
    "start_time": "2025-03-14T07:26:56.207Z"
   },
   {
    "duration": 7,
    "start_time": "2025-03-14T07:27:06.131Z"
   },
   {
    "duration": 3,
    "start_time": "2025-03-14T07:29:52.908Z"
   },
   {
    "duration": 11,
    "start_time": "2025-03-14T07:31:14.633Z"
   },
   {
    "duration": 33,
    "start_time": "2025-03-14T07:31:45.829Z"
   },
   {
    "duration": 3,
    "start_time": "2025-03-14T08:26:07.902Z"
   },
   {
    "duration": 31,
    "start_time": "2025-03-14T08:26:09.332Z"
   },
   {
    "duration": 4,
    "start_time": "2025-03-14T08:26:22.002Z"
   },
   {
    "duration": 3,
    "start_time": "2025-03-14T08:26:39.519Z"
   },
   {
    "duration": 32,
    "start_time": "2025-03-14T08:26:40.556Z"
   },
   {
    "duration": 16,
    "start_time": "2025-03-14T08:29:37.644Z"
   },
   {
    "duration": 21,
    "start_time": "2025-03-14T08:29:56.535Z"
   },
   {
    "duration": 1607,
    "start_time": "2025-03-14T08:30:10.685Z"
   },
   {
    "duration": 388,
    "start_time": "2025-03-14T08:30:13.891Z"
   },
   {
    "duration": 10,
    "start_time": "2025-03-14T08:30:15.985Z"
   },
   {
    "duration": 5,
    "start_time": "2025-03-14T08:30:48.376Z"
   },
   {
    "duration": 6,
    "start_time": "2025-03-14T08:30:51.786Z"
   },
   {
    "duration": 6,
    "start_time": "2025-03-14T08:31:49.384Z"
   },
   {
    "duration": 896,
    "start_time": "2025-03-14T08:32:44.611Z"
   },
   {
    "duration": 423,
    "start_time": "2025-03-14T08:33:05.088Z"
   },
   {
    "duration": 6,
    "start_time": "2025-03-14T08:33:07.432Z"
   },
   {
    "duration": 5,
    "start_time": "2025-03-14T08:33:21.844Z"
   },
   {
    "duration": 3,
    "start_time": "2025-03-14T08:36:40.160Z"
   },
   {
    "duration": 16,
    "start_time": "2025-03-14T08:37:01.024Z"
   },
   {
    "duration": 3,
    "start_time": "2025-03-14T08:37:39.156Z"
   },
   {
    "duration": 4,
    "start_time": "2025-03-14T08:38:39.786Z"
   },
   {
    "duration": 334,
    "start_time": "2025-03-14T08:38:40.928Z"
   },
   {
    "duration": 4,
    "start_time": "2025-03-14T08:39:01.935Z"
   },
   {
    "duration": 21,
    "start_time": "2025-03-14T08:39:17.699Z"
   },
   {
    "duration": 12,
    "start_time": "2025-03-14T08:39:43.555Z"
   },
   {
    "duration": 11,
    "start_time": "2025-03-14T08:41:19.928Z"
   },
   {
    "duration": 18,
    "start_time": "2025-03-14T08:41:23.509Z"
   },
   {
    "duration": 3,
    "start_time": "2025-03-14T08:41:31.915Z"
   },
   {
    "duration": 29,
    "start_time": "2025-03-14T08:41:33.883Z"
   },
   {
    "duration": 3,
    "start_time": "2025-03-14T08:42:32.759Z"
   },
   {
    "duration": 187,
    "start_time": "2025-03-14T08:42:34.851Z"
   },
   {
    "duration": 3,
    "start_time": "2025-03-14T08:42:37.068Z"
   },
   {
    "duration": 6,
    "start_time": "2025-03-14T08:42:42.846Z"
   },
   {
    "duration": 6,
    "start_time": "2025-03-14T08:43:13.421Z"
   },
   {
    "duration": 4,
    "start_time": "2025-03-14T08:44:01.395Z"
   },
   {
    "duration": 7,
    "start_time": "2025-03-14T08:44:29.645Z"
   },
   {
    "duration": 10,
    "start_time": "2025-03-14T08:45:04.027Z"
   },
   {
    "duration": 6,
    "start_time": "2025-03-14T08:45:07.366Z"
   },
   {
    "duration": 6,
    "start_time": "2025-03-14T08:45:16.870Z"
   },
   {
    "duration": 6,
    "start_time": "2025-03-14T08:46:31.351Z"
   },
   {
    "duration": 6,
    "start_time": "2025-03-14T08:47:06.089Z"
   },
   {
    "duration": 6,
    "start_time": "2025-03-14T08:47:22.675Z"
   },
   {
    "duration": 4,
    "start_time": "2025-03-14T08:47:34.600Z"
   },
   {
    "duration": 6,
    "start_time": "2025-03-14T08:47:49.692Z"
   },
   {
    "duration": 7,
    "start_time": "2025-03-14T08:53:57.108Z"
   },
   {
    "duration": 73,
    "start_time": "2025-03-14T08:54:26.254Z"
   },
   {
    "duration": 6,
    "start_time": "2025-03-14T08:54:40.951Z"
   },
   {
    "duration": 7,
    "start_time": "2025-03-14T08:54:48.249Z"
   },
   {
    "duration": 6,
    "start_time": "2025-03-14T08:55:13.222Z"
   },
   {
    "duration": 8,
    "start_time": "2025-03-14T08:56:29.804Z"
   },
   {
    "duration": 181,
    "start_time": "2025-03-14T08:56:46.624Z"
   },
   {
    "duration": 9,
    "start_time": "2025-03-14T08:56:48.132Z"
   },
   {
    "duration": 8,
    "start_time": "2025-03-14T08:56:52.794Z"
   },
   {
    "duration": 495,
    "start_time": "2025-03-14T08:59:26.093Z"
   },
   {
    "duration": 181,
    "start_time": "2025-03-14T08:59:42.911Z"
   },
   {
    "duration": 8,
    "start_time": "2025-03-14T09:00:59.630Z"
   },
   {
    "duration": 8,
    "start_time": "2025-03-14T09:01:09.872Z"
   },
   {
    "duration": 7,
    "start_time": "2025-03-14T09:01:19.560Z"
   },
   {
    "duration": 194,
    "start_time": "2025-03-14T09:01:46.311Z"
   },
   {
    "duration": 8,
    "start_time": "2025-03-14T09:01:47.842Z"
   },
   {
    "duration": 521,
    "start_time": "2025-03-14T09:05:02.289Z"
   },
   {
    "duration": 583,
    "start_time": "2025-03-14T09:05:22.600Z"
   },
   {
    "duration": 583,
    "start_time": "2025-03-14T09:05:28.434Z"
   },
   {
    "duration": 607,
    "start_time": "2025-03-14T09:05:57.906Z"
   },
   {
    "duration": 566,
    "start_time": "2025-03-14T09:06:28.103Z"
   },
   {
    "duration": 1128,
    "start_time": "2025-03-14T09:06:41.174Z"
   },
   {
    "duration": 7,
    "start_time": "2025-03-14T09:07:04.792Z"
   },
   {
    "duration": 4,
    "start_time": "2025-03-14T09:07:21.919Z"
   },
   {
    "duration": 7,
    "start_time": "2025-03-14T09:24:14.942Z"
   },
   {
    "duration": 198,
    "start_time": "2025-03-14T09:24:28.886Z"
   },
   {
    "duration": 9,
    "start_time": "2025-03-14T09:24:30.703Z"
   },
   {
    "duration": 1464,
    "start_time": "2025-03-14T09:26:55.101Z"
   },
   {
    "duration": 422,
    "start_time": "2025-03-14T09:26:56.567Z"
   },
   {
    "duration": 77,
    "start_time": "2025-03-14T09:26:56.991Z"
   },
   {
    "duration": 166,
    "start_time": "2025-03-14T09:26:57.069Z"
   },
   {
    "duration": 74,
    "start_time": "2025-03-14T09:26:57.237Z"
   },
   {
    "duration": 97,
    "start_time": "2025-03-14T09:26:57.313Z"
   },
   {
    "duration": 3,
    "start_time": "2025-03-14T09:26:57.412Z"
   },
   {
    "duration": 1307,
    "start_time": "2025-03-14T09:26:57.416Z"
   },
   {
    "duration": 54,
    "start_time": "2025-03-14T09:26:58.724Z"
   },
   {
    "duration": 11,
    "start_time": "2025-03-14T09:26:58.780Z"
   },
   {
    "duration": 5,
    "start_time": "2025-03-14T09:26:58.793Z"
   },
   {
    "duration": 147,
    "start_time": "2025-03-14T09:26:58.800Z"
   },
   {
    "duration": 0,
    "start_time": "2025-03-14T09:26:58.948Z"
   },
   {
    "duration": 0,
    "start_time": "2025-03-14T09:26:58.949Z"
   },
   {
    "duration": 0,
    "start_time": "2025-03-14T09:26:58.950Z"
   },
   {
    "duration": 0,
    "start_time": "2025-03-14T09:26:58.957Z"
   },
   {
    "duration": 0,
    "start_time": "2025-03-14T09:26:58.959Z"
   },
   {
    "duration": 0,
    "start_time": "2025-03-14T09:26:58.960Z"
   },
   {
    "duration": 0,
    "start_time": "2025-03-14T09:26:58.961Z"
   },
   {
    "duration": 0,
    "start_time": "2025-03-14T09:26:58.962Z"
   },
   {
    "duration": 0,
    "start_time": "2025-03-14T09:26:58.963Z"
   },
   {
    "duration": 1521,
    "start_time": "2025-03-14T09:27:29.052Z"
   },
   {
    "duration": 450,
    "start_time": "2025-03-14T09:27:30.575Z"
   },
   {
    "duration": 82,
    "start_time": "2025-03-14T09:27:31.027Z"
   },
   {
    "duration": 168,
    "start_time": "2025-03-14T09:27:31.111Z"
   },
   {
    "duration": 88,
    "start_time": "2025-03-14T09:27:31.282Z"
   },
   {
    "duration": 78,
    "start_time": "2025-03-14T09:27:31.371Z"
   },
   {
    "duration": 3,
    "start_time": "2025-03-14T09:27:31.451Z"
   },
   {
    "duration": 1363,
    "start_time": "2025-03-14T09:27:31.462Z"
   },
   {
    "duration": 57,
    "start_time": "2025-03-14T09:27:32.827Z"
   },
   {
    "duration": 12,
    "start_time": "2025-03-14T09:27:32.886Z"
   },
   {
    "duration": 5,
    "start_time": "2025-03-14T09:27:32.900Z"
   },
   {
    "duration": 166,
    "start_time": "2025-03-14T09:27:32.907Z"
   },
   {
    "duration": 84,
    "start_time": "2025-03-14T09:27:33.074Z"
   },
   {
    "duration": 7,
    "start_time": "2025-03-14T09:27:33.164Z"
   },
   {
    "duration": 103,
    "start_time": "2025-03-14T09:27:33.173Z"
   },
   {
    "duration": 11,
    "start_time": "2025-03-14T09:27:33.277Z"
   },
   {
    "duration": 6,
    "start_time": "2025-03-14T09:27:33.290Z"
   },
   {
    "duration": 130,
    "start_time": "2025-03-14T09:27:33.297Z"
   },
   {
    "duration": 0,
    "start_time": "2025-03-14T09:27:33.429Z"
   },
   {
    "duration": 0,
    "start_time": "2025-03-14T09:27:33.430Z"
   },
   {
    "duration": 0,
    "start_time": "2025-03-14T09:27:33.432Z"
   },
   {
    "duration": 17,
    "start_time": "2025-03-14T09:28:03.371Z"
   },
   {
    "duration": 3,
    "start_time": "2025-03-14T09:28:21.546Z"
   },
   {
    "duration": 185,
    "start_time": "2025-03-14T09:28:31.960Z"
   },
   {
    "duration": 8,
    "start_time": "2025-03-14T09:28:33.259Z"
   },
   {
    "duration": 11,
    "start_time": "2025-03-14T09:29:01.643Z"
   },
   {
    "duration": 4,
    "start_time": "2025-03-14T09:29:13.159Z"
   },
   {
    "duration": 292,
    "start_time": "2025-03-14T09:29:27.871Z"
   },
   {
    "duration": 7,
    "start_time": "2025-03-14T09:29:29.702Z"
   },
   {
    "duration": 299,
    "start_time": "2025-03-14T09:29:47.265Z"
   },
   {
    "duration": 7,
    "start_time": "2025-03-14T09:29:48.519Z"
   },
   {
    "duration": 4,
    "start_time": "2025-03-14T09:30:00.071Z"
   },
   {
    "duration": 3,
    "start_time": "2025-03-14T09:30:04.291Z"
   },
   {
    "duration": 5,
    "start_time": "2025-03-14T09:30:13.467Z"
   },
   {
    "duration": 5,
    "start_time": "2025-03-14T09:30:20.850Z"
   },
   {
    "duration": 4,
    "start_time": "2025-03-14T09:32:59.347Z"
   },
   {
    "duration": 22,
    "start_time": "2025-03-14T09:33:01.975Z"
   },
   {
    "duration": 12,
    "start_time": "2025-03-14T09:33:15.030Z"
   },
   {
    "duration": 12,
    "start_time": "2025-03-14T09:33:40.854Z"
   },
   {
    "duration": 5,
    "start_time": "2025-03-14T09:33:56.050Z"
   },
   {
    "duration": 18,
    "start_time": "2025-03-14T09:33:58.809Z"
   },
   {
    "duration": 24,
    "start_time": "2025-03-14T09:34:23.526Z"
   },
   {
    "duration": 4,
    "start_time": "2025-03-14T09:34:50.686Z"
   },
   {
    "duration": 19,
    "start_time": "2025-03-14T09:34:53.649Z"
   },
   {
    "duration": 4,
    "start_time": "2025-03-14T09:35:10.694Z"
   },
   {
    "duration": 28,
    "start_time": "2025-03-14T09:35:12.458Z"
   },
   {
    "duration": 83,
    "start_time": "2025-03-14T09:40:08.748Z"
   },
   {
    "duration": 4,
    "start_time": "2025-03-14T09:40:14.381Z"
   },
   {
    "duration": 4,
    "start_time": "2025-03-14T09:40:26.032Z"
   },
   {
    "duration": 21,
    "start_time": "2025-03-14T09:40:29.316Z"
   },
   {
    "duration": 3,
    "start_time": "2025-03-14T09:41:46.524Z"
   },
   {
    "duration": 2101,
    "start_time": "2025-03-14T09:41:49.173Z"
   },
   {
    "duration": 8,
    "start_time": "2025-03-14T09:41:53.024Z"
   },
   {
    "duration": 4,
    "start_time": "2025-03-14T09:44:16.514Z"
   },
   {
    "duration": 2693,
    "start_time": "2025-03-14T09:44:18.126Z"
   },
   {
    "duration": 8,
    "start_time": "2025-03-14T09:44:22.065Z"
   },
   {
    "duration": 16,
    "start_time": "2025-03-14T09:46:03.982Z"
   },
   {
    "duration": 108,
    "start_time": "2025-03-14T09:46:29.154Z"
   },
   {
    "duration": 83,
    "start_time": "2025-03-14T09:46:41.379Z"
   },
   {
    "duration": 220,
    "start_time": "2025-03-14T09:47:43.340Z"
   },
   {
    "duration": 12,
    "start_time": "2025-03-14T09:48:21.439Z"
   },
   {
    "duration": 20,
    "start_time": "2025-03-14T09:48:29.741Z"
   },
   {
    "duration": 18,
    "start_time": "2025-03-14T09:48:35.626Z"
   },
   {
    "duration": 24,
    "start_time": "2025-03-14T09:48:47.367Z"
   },
   {
    "duration": 29,
    "start_time": "2025-03-14T09:48:51.751Z"
   },
   {
    "duration": 23,
    "start_time": "2025-03-14T09:49:08.743Z"
   },
   {
    "duration": 4,
    "start_time": "2025-03-14T09:49:30.697Z"
   },
   {
    "duration": 19,
    "start_time": "2025-03-14T09:49:36.068Z"
   },
   {
    "duration": 1480,
    "start_time": "2025-03-14T09:49:53.047Z"
   },
   {
    "duration": 413,
    "start_time": "2025-03-14T09:49:54.529Z"
   },
   {
    "duration": 63,
    "start_time": "2025-03-14T09:49:54.943Z"
   },
   {
    "duration": 159,
    "start_time": "2025-03-14T09:49:55.008Z"
   },
   {
    "duration": 98,
    "start_time": "2025-03-14T09:49:55.172Z"
   },
   {
    "duration": 72,
    "start_time": "2025-03-14T09:49:55.272Z"
   },
   {
    "duration": 12,
    "start_time": "2025-03-14T09:49:55.347Z"
   },
   {
    "duration": 1313,
    "start_time": "2025-03-14T09:49:55.360Z"
   },
   {
    "duration": 37,
    "start_time": "2025-03-14T09:49:56.674Z"
   },
   {
    "duration": 27,
    "start_time": "2025-03-14T09:49:56.713Z"
   },
   {
    "duration": 4,
    "start_time": "2025-03-14T09:49:56.742Z"
   },
   {
    "duration": 416,
    "start_time": "2025-03-14T09:49:56.747Z"
   },
   {
    "duration": 91,
    "start_time": "2025-03-14T09:49:57.166Z"
   },
   {
    "duration": 96,
    "start_time": "2025-03-14T09:49:57.262Z"
   },
   {
    "duration": 7,
    "start_time": "2025-03-14T09:49:57.360Z"
   },
   {
    "duration": 13,
    "start_time": "2025-03-14T09:49:57.369Z"
   },
   {
    "duration": 3,
    "start_time": "2025-03-14T09:49:57.384Z"
   },
   {
    "duration": 2683,
    "start_time": "2025-03-14T09:49:57.388Z"
   },
   {
    "duration": 7,
    "start_time": "2025-03-14T09:50:00.072Z"
   },
   {
    "duration": 2628,
    "start_time": "2025-03-14T09:50:48.462Z"
   },
   {
    "duration": 7,
    "start_time": "2025-03-14T09:50:52.101Z"
   },
   {
    "duration": 112,
    "start_time": "2025-03-14T09:52:52.207Z"
   },
   {
    "duration": 5,
    "start_time": "2025-03-14T09:52:55.638Z"
   },
   {
    "duration": 2628,
    "start_time": "2025-03-14T09:52:56.555Z"
   },
   {
    "duration": 7852,
    "start_time": "2025-03-14T09:53:23.120Z"
   },
   {
    "duration": 5,
    "start_time": "2025-03-14T09:55:21.131Z"
   },
   {
    "duration": 8027,
    "start_time": "2025-03-14T09:55:22.843Z"
   },
   {
    "duration": 5,
    "start_time": "2025-03-14T09:55:42.483Z"
   },
   {
    "duration": 8043,
    "start_time": "2025-03-14T09:55:43.385Z"
   },
   {
    "duration": 8075,
    "start_time": "2025-03-14T09:56:42.334Z"
   },
   {
    "duration": 4,
    "start_time": "2025-03-14T10:05:22.191Z"
   },
   {
    "duration": 7,
    "start_time": "2025-03-14T10:05:29.482Z"
   },
   {
    "duration": 25,
    "start_time": "2025-03-14T10:08:30.626Z"
   },
   {
    "duration": 4,
    "start_time": "2025-03-14T10:11:20.922Z"
   },
   {
    "duration": 211,
    "start_time": "2025-03-14T10:11:21.950Z"
   },
   {
    "duration": 5,
    "start_time": "2025-03-14T10:11:40.149Z"
   },
   {
    "duration": 170,
    "start_time": "2025-03-14T10:11:41.193Z"
   },
   {
    "duration": 4,
    "start_time": "2025-03-14T10:11:53.394Z"
   },
   {
    "duration": 5,
    "start_time": "2025-03-14T10:11:59.540Z"
   },
   {
    "duration": 550,
    "start_time": "2025-03-14T10:12:00.308Z"
   },
   {
    "duration": 5,
    "start_time": "2025-03-14T10:12:08.353Z"
   },
   {
    "duration": 508,
    "start_time": "2025-03-14T10:12:09.351Z"
   },
   {
    "duration": 7979,
    "start_time": "2025-03-14T10:12:36.744Z"
   },
   {
    "duration": 1510,
    "start_time": "2025-03-14T10:15:37.144Z"
   },
   {
    "duration": 435,
    "start_time": "2025-03-14T10:15:38.656Z"
   },
   {
    "duration": 75,
    "start_time": "2025-03-14T10:15:39.092Z"
   },
   {
    "duration": 134,
    "start_time": "2025-03-14T10:15:39.169Z"
   },
   {
    "duration": 72,
    "start_time": "2025-03-14T10:15:39.305Z"
   },
   {
    "duration": 88,
    "start_time": "2025-03-14T10:15:39.379Z"
   },
   {
    "duration": 3,
    "start_time": "2025-03-14T10:15:39.469Z"
   },
   {
    "duration": 1243,
    "start_time": "2025-03-14T10:15:39.474Z"
   },
   {
    "duration": 46,
    "start_time": "2025-03-14T10:15:40.718Z"
   },
   {
    "duration": 10,
    "start_time": "2025-03-14T10:15:40.766Z"
   },
   {
    "duration": 61,
    "start_time": "2025-03-14T10:15:40.778Z"
   },
   {
    "duration": 518,
    "start_time": "2025-03-14T10:15:40.841Z"
   },
   {
    "duration": 94,
    "start_time": "2025-03-14T10:15:41.363Z"
   },
   {
    "duration": 4,
    "start_time": "2025-03-14T10:15:41.460Z"
   },
   {
    "duration": 6,
    "start_time": "2025-03-14T10:15:41.466Z"
   },
   {
    "duration": 11,
    "start_time": "2025-03-14T10:15:41.474Z"
   },
   {
    "duration": 3,
    "start_time": "2025-03-14T10:15:41.486Z"
   },
   {
    "duration": 5,
    "start_time": "2025-03-14T10:15:41.491Z"
   },
   {
    "duration": 7975,
    "start_time": "2025-03-14T10:15:41.497Z"
   },
   {
    "duration": 12,
    "start_time": "2025-03-14T10:18:47.102Z"
   },
   {
    "duration": 13,
    "start_time": "2025-03-14T10:18:57.792Z"
   },
   {
    "duration": 6,
    "start_time": "2025-03-14T10:23:24.566Z"
   },
   {
    "duration": 144,
    "start_time": "2025-03-14T10:23:25.728Z"
   },
   {
    "duration": 16,
    "start_time": "2025-03-14T10:23:56.454Z"
   },
   {
    "duration": 8627,
    "start_time": "2025-03-14T10:23:57.238Z"
   },
   {
    "duration": 5,
    "start_time": "2025-03-14T10:24:16.192Z"
   },
   {
    "duration": 8350,
    "start_time": "2025-03-14T10:24:17.086Z"
   },
   {
    "duration": 5,
    "start_time": "2025-03-14T10:24:30.519Z"
   },
   {
    "duration": 7903,
    "start_time": "2025-03-14T10:24:31.319Z"
   },
   {
    "duration": 13,
    "start_time": "2025-03-14T10:31:44.047Z"
   },
   {
    "duration": 13,
    "start_time": "2025-03-14T10:31:52.675Z"
   },
   {
    "duration": 1553,
    "start_time": "2025-03-14T10:32:12.275Z"
   },
   {
    "duration": 445,
    "start_time": "2025-03-14T10:32:13.830Z"
   },
   {
    "duration": 60,
    "start_time": "2025-03-14T10:32:14.277Z"
   },
   {
    "duration": 131,
    "start_time": "2025-03-14T10:32:14.358Z"
   },
   {
    "duration": 74,
    "start_time": "2025-03-14T10:32:14.491Z"
   },
   {
    "duration": 72,
    "start_time": "2025-03-14T10:32:14.566Z"
   },
   {
    "duration": 19,
    "start_time": "2025-03-14T10:32:14.639Z"
   },
   {
    "duration": 1277,
    "start_time": "2025-03-14T10:32:14.659Z"
   },
   {
    "duration": 40,
    "start_time": "2025-03-14T10:32:15.938Z"
   },
   {
    "duration": 52,
    "start_time": "2025-03-14T10:32:15.980Z"
   },
   {
    "duration": 5,
    "start_time": "2025-03-14T10:32:16.034Z"
   },
   {
    "duration": 525,
    "start_time": "2025-03-14T10:32:16.040Z"
   },
   {
    "duration": 92,
    "start_time": "2025-03-14T10:32:16.567Z"
   },
   {
    "duration": 5,
    "start_time": "2025-03-14T10:32:16.662Z"
   },
   {
    "duration": 14,
    "start_time": "2025-03-14T10:32:16.669Z"
   },
   {
    "duration": 62,
    "start_time": "2025-03-14T10:32:16.685Z"
   },
   {
    "duration": 5,
    "start_time": "2025-03-14T10:32:16.749Z"
   },
   {
    "duration": 7783,
    "start_time": "2025-03-14T10:32:16.756Z"
   },
   {
    "duration": 524,
    "start_time": "2025-03-14T11:36:34.026Z"
   },
   {
    "duration": 89,
    "start_time": "2025-03-14T11:41:52.238Z"
   },
   {
    "duration": 3,
    "start_time": "2025-03-14T11:47:49.071Z"
   },
   {
    "duration": 1401,
    "start_time": "2025-03-14T11:47:56.312Z"
   },
   {
    "duration": 438,
    "start_time": "2025-03-14T11:47:57.716Z"
   },
   {
    "duration": 63,
    "start_time": "2025-03-14T11:47:58.156Z"
   },
   {
    "duration": 164,
    "start_time": "2025-03-14T11:47:58.221Z"
   },
   {
    "duration": 75,
    "start_time": "2025-03-14T11:47:58.387Z"
   },
   {
    "duration": 78,
    "start_time": "2025-03-14T11:47:58.463Z"
   },
   {
    "duration": 15,
    "start_time": "2025-03-14T11:47:58.543Z"
   },
   {
    "duration": 1246,
    "start_time": "2025-03-14T11:47:58.560Z"
   },
   {
    "duration": 2,
    "start_time": "2025-03-14T11:47:59.808Z"
   },
   {
    "duration": 36,
    "start_time": "2025-03-14T11:47:59.812Z"
   },
   {
    "duration": 68,
    "start_time": "2025-03-14T11:47:59.850Z"
   },
   {
    "duration": 540,
    "start_time": "2025-03-14T11:47:59.920Z"
   },
   {
    "duration": 5,
    "start_time": "2025-03-14T11:48:00.462Z"
   },
   {
    "duration": 12,
    "start_time": "2025-03-14T11:48:00.563Z"
   },
   {
    "duration": 15,
    "start_time": "2025-03-14T11:48:00.577Z"
   },
   {
    "duration": 4,
    "start_time": "2025-03-14T11:48:00.594Z"
   },
   {
    "duration": 19,
    "start_time": "2025-03-14T11:48:00.600Z"
   },
   {
    "duration": 7944,
    "start_time": "2025-03-14T11:48:00.621Z"
   },
   {
    "duration": 76,
    "start_time": "2025-03-14T11:52:47.111Z"
   },
   {
    "duration": 117,
    "start_time": "2025-03-14T11:53:56.998Z"
   },
   {
    "duration": 53,
    "start_time": "2025-03-14T11:54:19.436Z"
   },
   {
    "duration": 3929,
    "start_time": "2025-03-14T11:54:43.695Z"
   },
   {
    "duration": 17858,
    "start_time": "2025-03-14T11:55:02.774Z"
   },
   {
    "duration": 2599,
    "start_time": "2025-03-14T11:56:33.639Z"
   },
   {
    "duration": 36893,
    "start_time": "2025-03-14T11:56:51.601Z"
   },
   {
    "duration": 2625,
    "start_time": "2025-03-14T11:58:10.112Z"
   },
   {
    "duration": 18807,
    "start_time": "2025-03-14T12:02:43.806Z"
   },
   {
    "duration": 37749,
    "start_time": "2025-03-14T12:04:27.767Z"
   },
   {
    "duration": 37288,
    "start_time": "2025-03-14T12:05:49.660Z"
   },
   {
    "duration": 37188,
    "start_time": "2025-03-14T12:08:01.918Z"
   },
   {
    "duration": 4,
    "start_time": "2025-03-14T12:09:09.727Z"
   },
   {
    "duration": 4,
    "start_time": "2025-03-14T12:09:23.447Z"
   },
   {
    "duration": 37361,
    "start_time": "2025-03-14T12:09:49.134Z"
   },
   {
    "duration": 166,
    "start_time": "2025-03-14T12:18:56.132Z"
   },
   {
    "duration": 26,
    "start_time": "2025-03-14T12:19:56.343Z"
   },
   {
    "duration": 91,
    "start_time": "2025-03-14T12:20:08.338Z"
   },
   {
    "duration": 5,
    "start_time": "2025-03-14T12:23:11.015Z"
   },
   {
    "duration": 319,
    "start_time": "2025-03-14T12:23:27.245Z"
   },
   {
    "duration": 4,
    "start_time": "2025-03-14T12:23:45.798Z"
   },
   {
    "duration": 311,
    "start_time": "2025-03-14T12:23:47.264Z"
   },
   {
    "duration": 5,
    "start_time": "2025-03-14T12:24:03.766Z"
   },
   {
    "duration": 330,
    "start_time": "2025-03-14T12:24:04.828Z"
   },
   {
    "duration": 3,
    "start_time": "2025-03-14T12:24:12.759Z"
   },
   {
    "duration": 336,
    "start_time": "2025-03-14T12:24:13.550Z"
   },
   {
    "duration": 5,
    "start_time": "2025-03-14T12:24:27.955Z"
   },
   {
    "duration": 4,
    "start_time": "2025-03-14T12:24:46.428Z"
   },
   {
    "duration": 309,
    "start_time": "2025-03-14T12:24:48.605Z"
   },
   {
    "duration": 4,
    "start_time": "2025-03-14T12:25:00.401Z"
   },
   {
    "duration": 4,
    "start_time": "2025-03-14T12:25:08.496Z"
   },
   {
    "duration": 304,
    "start_time": "2025-03-14T12:25:09.376Z"
   },
   {
    "duration": 4,
    "start_time": "2025-03-14T12:25:21.488Z"
   },
   {
    "duration": 299,
    "start_time": "2025-03-14T12:25:22.382Z"
   },
   {
    "duration": 4,
    "start_time": "2025-03-14T12:25:58.318Z"
   },
   {
    "duration": 4,
    "start_time": "2025-03-14T12:26:21.154Z"
   },
   {
    "duration": 280,
    "start_time": "2025-03-14T12:26:22.051Z"
   },
   {
    "duration": 5,
    "start_time": "2025-03-14T12:26:27.494Z"
   },
   {
    "duration": 276,
    "start_time": "2025-03-14T12:26:28.528Z"
   },
   {
    "duration": 4,
    "start_time": "2025-03-14T12:26:46.498Z"
   },
   {
    "duration": 4,
    "start_time": "2025-03-14T12:26:49.781Z"
   },
   {
    "duration": 4,
    "start_time": "2025-03-14T12:28:00.302Z"
   },
   {
    "duration": 309,
    "start_time": "2025-03-14T12:28:01.197Z"
   },
   {
    "duration": 3,
    "start_time": "2025-03-14T12:28:24.564Z"
   },
   {
    "duration": 286,
    "start_time": "2025-03-14T12:28:25.488Z"
   },
   {
    "duration": 4,
    "start_time": "2025-03-14T12:28:39.109Z"
   },
   {
    "duration": 408,
    "start_time": "2025-03-14T12:28:40.142Z"
   },
   {
    "duration": 3,
    "start_time": "2025-03-14T12:28:51.831Z"
   },
   {
    "duration": 363,
    "start_time": "2025-03-14T12:28:52.606Z"
   },
   {
    "duration": 4,
    "start_time": "2025-03-14T12:29:17.237Z"
   },
   {
    "duration": 363,
    "start_time": "2025-03-14T12:29:18.101Z"
   },
   {
    "duration": 4,
    "start_time": "2025-03-14T12:30:26.068Z"
   },
   {
    "duration": 360,
    "start_time": "2025-03-14T12:30:26.860Z"
   },
   {
    "duration": 3,
    "start_time": "2025-03-14T12:30:33.309Z"
   },
   {
    "duration": 355,
    "start_time": "2025-03-14T12:30:34.547Z"
   },
   {
    "duration": 4,
    "start_time": "2025-03-14T12:32:06.031Z"
   },
   {
    "duration": 370,
    "start_time": "2025-03-14T12:32:07.137Z"
   },
   {
    "duration": 4009,
    "start_time": "2025-03-14T12:32:13.067Z"
   },
   {
    "duration": 425,
    "start_time": "2025-03-14T12:32:17.079Z"
   },
   {
    "duration": 74,
    "start_time": "2025-03-14T12:32:17.506Z"
   },
   {
    "duration": 144,
    "start_time": "2025-03-14T12:32:17.582Z"
   },
   {
    "duration": 77,
    "start_time": "2025-03-14T12:32:17.728Z"
   },
   {
    "duration": 82,
    "start_time": "2025-03-14T12:32:17.807Z"
   },
   {
    "duration": 3,
    "start_time": "2025-03-14T12:32:17.891Z"
   },
   {
    "duration": 48,
    "start_time": "2025-03-14T12:32:17.896Z"
   },
   {
    "duration": 371,
    "start_time": "2025-03-14T12:32:17.946Z"
   },
   {
    "duration": 3,
    "start_time": "2025-03-14T12:32:18.319Z"
   },
   {
    "duration": 1296,
    "start_time": "2025-03-14T12:32:18.324Z"
   },
   {
    "duration": 3,
    "start_time": "2025-03-14T12:32:19.621Z"
   },
   {
    "duration": 7,
    "start_time": "2025-03-14T12:32:19.626Z"
   },
   {
    "duration": 37228,
    "start_time": "2025-03-14T12:32:19.637Z"
   },
   {
    "duration": 5,
    "start_time": "2025-03-14T12:32:56.866Z"
   },
   {
    "duration": 491,
    "start_time": "2025-03-14T12:32:56.873Z"
   },
   {
    "duration": 93,
    "start_time": "2025-03-14T12:32:57.366Z"
   },
   {
    "duration": 6,
    "start_time": "2025-03-14T12:32:57.461Z"
   },
   {
    "duration": 15,
    "start_time": "2025-03-14T12:32:57.468Z"
   },
   {
    "duration": 4,
    "start_time": "2025-03-14T12:32:57.485Z"
   },
   {
    "duration": 6,
    "start_time": "2025-03-14T12:32:57.491Z"
   },
   {
    "duration": 171,
    "start_time": "2025-03-14T12:32:57.498Z"
   },
   {
    "duration": 5,
    "start_time": "2025-03-14T12:33:59.563Z"
   },
   {
    "duration": 382,
    "start_time": "2025-03-14T12:34:00.448Z"
   },
   {
    "duration": 4,
    "start_time": "2025-03-14T12:34:21.337Z"
   },
   {
    "duration": 378,
    "start_time": "2025-03-14T12:34:22.206Z"
   },
   {
    "duration": 4,
    "start_time": "2025-03-14T12:35:50.122Z"
   },
   {
    "duration": 1157,
    "start_time": "2025-03-14T12:36:48.201Z"
   },
   {
    "duration": 1183,
    "start_time": "2025-03-14T12:37:07.003Z"
   },
   {
    "duration": 1210,
    "start_time": "2025-03-14T12:37:14.175Z"
   },
   {
    "duration": 1147,
    "start_time": "2025-03-14T12:37:29.238Z"
   },
   {
    "duration": 4,
    "start_time": "2025-03-14T12:37:51.435Z"
   },
   {
    "duration": 1183,
    "start_time": "2025-03-14T12:37:55.566Z"
   },
   {
    "duration": 4,
    "start_time": "2025-03-14T12:38:06.860Z"
   },
   {
    "duration": 1435,
    "start_time": "2025-03-14T12:38:08.158Z"
   },
   {
    "duration": 4,
    "start_time": "2025-03-14T12:58:08.754Z"
   },
   {
    "duration": 4,
    "start_time": "2025-03-14T12:58:11.727Z"
   },
   {
    "duration": 7991,
    "start_time": "2025-03-14T12:58:13.480Z"
   },
   {
    "duration": 7,
    "start_time": "2025-03-14T13:00:47.848Z"
   },
   {
    "duration": 2900,
    "start_time": "2025-03-14T13:00:52.595Z"
   },
   {
    "duration": 6,
    "start_time": "2025-03-14T13:01:34.263Z"
   },
   {
    "duration": 2871,
    "start_time": "2025-03-14T13:01:35.380Z"
   },
   {
    "duration": 6,
    "start_time": "2025-03-14T13:01:52.722Z"
   },
   {
    "duration": 2965,
    "start_time": "2025-03-14T13:01:54.919Z"
   },
   {
    "duration": 6,
    "start_time": "2025-03-14T13:03:11.362Z"
   },
   {
    "duration": 2964,
    "start_time": "2025-03-14T13:03:18.177Z"
   },
   {
    "duration": 6,
    "start_time": "2025-03-14T13:03:34.362Z"
   },
   {
    "duration": 8728,
    "start_time": "2025-03-14T13:03:43.736Z"
   },
   {
    "duration": 6,
    "start_time": "2025-03-14T13:04:07.166Z"
   },
   {
    "duration": 9042,
    "start_time": "2025-03-14T13:04:09.682Z"
   },
   {
    "duration": 6,
    "start_time": "2025-03-14T13:05:07.865Z"
   },
   {
    "duration": 9266,
    "start_time": "2025-03-14T13:05:09.108Z"
   },
   {
    "duration": 6,
    "start_time": "2025-03-14T13:06:15.480Z"
   },
   {
    "duration": 2673,
    "start_time": "2025-03-14T13:06:16.686Z"
   },
   {
    "duration": 7,
    "start_time": "2025-03-14T13:06:25.843Z"
   },
   {
    "duration": 9384,
    "start_time": "2025-03-14T13:06:27.277Z"
   },
   {
    "duration": 7,
    "start_time": "2025-03-14T13:07:18.693Z"
   },
   {
    "duration": 9035,
    "start_time": "2025-03-14T13:07:19.947Z"
   },
   {
    "duration": 6,
    "start_time": "2025-03-14T13:07:51.782Z"
   },
   {
    "duration": 9207,
    "start_time": "2025-03-14T13:07:52.726Z"
   },
   {
    "duration": 10,
    "start_time": "2025-03-14T13:08:11.603Z"
   },
   {
    "duration": 6,
    "start_time": "2025-03-14T13:09:19.178Z"
   },
   {
    "duration": 9462,
    "start_time": "2025-03-14T13:09:20.229Z"
   },
   {
    "duration": 9407,
    "start_time": "2025-03-14T13:09:50.994Z"
   },
   {
    "duration": 3994,
    "start_time": "2025-03-14T13:12:45.868Z"
   },
   {
    "duration": 447,
    "start_time": "2025-03-14T13:12:49.864Z"
   },
   {
    "duration": 69,
    "start_time": "2025-03-14T13:12:50.312Z"
   },
   {
    "duration": 141,
    "start_time": "2025-03-14T13:12:50.383Z"
   },
   {
    "duration": 81,
    "start_time": "2025-03-14T13:12:50.526Z"
   },
   {
    "duration": 92,
    "start_time": "2025-03-14T13:12:50.609Z"
   },
   {
    "duration": 4,
    "start_time": "2025-03-14T13:12:50.702Z"
   },
   {
    "duration": 1289,
    "start_time": "2025-03-14T13:12:50.708Z"
   },
   {
    "duration": 3,
    "start_time": "2025-03-14T13:12:51.999Z"
   },
   {
    "duration": 1258,
    "start_time": "2025-03-14T13:12:52.003Z"
   },
   {
    "duration": 3,
    "start_time": "2025-03-14T13:12:53.263Z"
   },
   {
    "duration": 44,
    "start_time": "2025-03-14T13:12:53.268Z"
   },
   {
    "duration": 36469,
    "start_time": "2025-03-14T13:12:53.313Z"
   },
   {
    "duration": 5,
    "start_time": "2025-03-14T13:13:29.785Z"
   },
   {
    "duration": 468,
    "start_time": "2025-03-14T13:13:29.791Z"
   },
   {
    "duration": 94,
    "start_time": "2025-03-14T13:13:30.263Z"
   },
   {
    "duration": 6,
    "start_time": "2025-03-14T13:13:30.359Z"
   },
   {
    "duration": 28,
    "start_time": "2025-03-14T13:13:30.366Z"
   },
   {
    "duration": 4,
    "start_time": "2025-03-14T13:13:30.395Z"
   },
   {
    "duration": 7,
    "start_time": "2025-03-14T13:13:30.401Z"
   },
   {
    "duration": 9199,
    "start_time": "2025-03-14T13:13:30.410Z"
   },
   {
    "duration": 5656,
    "start_time": "2025-03-15T13:59:48.321Z"
   },
   {
    "duration": 2459,
    "start_time": "2025-03-15T14:00:02.363Z"
   },
   {
    "duration": 405,
    "start_time": "2025-03-15T14:00:21.030Z"
   },
   {
    "duration": 16,
    "start_time": "2025-03-15T14:00:34.036Z"
   },
   {
    "duration": 289,
    "start_time": "2025-03-15T14:01:28.637Z"
   },
   {
    "duration": 6,
    "start_time": "2025-03-15T14:01:38.353Z"
   },
   {
    "duration": 1058,
    "start_time": "2025-03-15T14:01:45.763Z"
   },
   {
    "duration": 878,
    "start_time": "2025-03-15T14:01:59.020Z"
   },
   {
    "duration": 859,
    "start_time": "2025-03-15T14:02:10.358Z"
   },
   {
    "duration": 5093,
    "start_time": "2025-03-15T14:21:19.185Z"
   },
   {
    "duration": 560,
    "start_time": "2025-03-15T14:21:24.280Z"
   },
   {
    "duration": 74,
    "start_time": "2025-03-15T14:21:24.841Z"
   },
   {
    "duration": 153,
    "start_time": "2025-03-15T14:21:24.917Z"
   },
   {
    "duration": 70,
    "start_time": "2025-03-15T14:21:25.073Z"
   },
   {
    "duration": 88,
    "start_time": "2025-03-15T14:21:25.145Z"
   },
   {
    "duration": 4,
    "start_time": "2025-03-15T14:21:25.235Z"
   },
   {
    "duration": 1260,
    "start_time": "2025-03-15T14:21:25.240Z"
   },
   {
    "duration": 1095,
    "start_time": "2025-03-15T14:21:26.502Z"
   },
   {
    "duration": 3,
    "start_time": "2025-03-15T14:21:27.599Z"
   },
   {
    "duration": 1220,
    "start_time": "2025-03-15T14:21:27.603Z"
   },
   {
    "duration": 2,
    "start_time": "2025-03-15T14:21:28.825Z"
   },
   {
    "duration": 10,
    "start_time": "2025-03-15T14:21:28.829Z"
   },
   {
    "duration": 35892,
    "start_time": "2025-03-15T14:21:28.841Z"
   },
   {
    "duration": 6,
    "start_time": "2025-03-15T14:22:04.734Z"
   },
   {
    "duration": 445,
    "start_time": "2025-03-15T14:22:04.742Z"
   },
   {
    "duration": 11,
    "start_time": "2025-03-15T14:22:05.263Z"
   },
   {
    "duration": 91,
    "start_time": "2025-03-15T14:22:05.276Z"
   },
   {
    "duration": 41,
    "start_time": "2025-03-15T14:22:05.369Z"
   },
   {
    "duration": 18,
    "start_time": "2025-03-15T14:22:05.412Z"
   },
   {
    "duration": 24,
    "start_time": "2025-03-15T14:22:05.432Z"
   },
   {
    "duration": 9368,
    "start_time": "2025-03-15T14:22:05.458Z"
   },
   {
    "duration": 4328,
    "start_time": "2025-03-15T14:23:43.575Z"
   },
   {
    "duration": 408,
    "start_time": "2025-03-15T14:23:47.905Z"
   },
   {
    "duration": 79,
    "start_time": "2025-03-15T14:23:48.315Z"
   },
   {
    "duration": 155,
    "start_time": "2025-03-15T14:23:48.396Z"
   },
   {
    "duration": 80,
    "start_time": "2025-03-15T14:23:48.552Z"
   },
   {
    "duration": 104,
    "start_time": "2025-03-15T14:23:48.634Z"
   },
   {
    "duration": 5,
    "start_time": "2025-03-15T14:23:48.740Z"
   },
   {
    "duration": 1346,
    "start_time": "2025-03-15T14:23:48.746Z"
   },
   {
    "duration": 1079,
    "start_time": "2025-03-15T14:23:50.094Z"
   },
   {
    "duration": 5,
    "start_time": "2025-03-15T14:23:51.178Z"
   },
   {
    "duration": 1606,
    "start_time": "2025-03-15T14:23:51.185Z"
   },
   {
    "duration": 2,
    "start_time": "2025-03-15T14:23:52.793Z"
   },
   {
    "duration": 10,
    "start_time": "2025-03-15T14:23:52.797Z"
   },
   {
    "duration": 36437,
    "start_time": "2025-03-15T14:23:52.808Z"
   },
   {
    "duration": 5,
    "start_time": "2025-03-15T14:24:29.247Z"
   },
   {
    "duration": 505,
    "start_time": "2025-03-15T14:24:29.263Z"
   },
   {
    "duration": 3,
    "start_time": "2025-03-15T14:24:29.770Z"
   },
   {
    "duration": 163,
    "start_time": "2025-03-15T14:24:29.775Z"
   },
   {
    "duration": 38,
    "start_time": "2025-03-15T14:24:29.939Z"
   },
   {
    "duration": 227,
    "start_time": "2025-03-15T14:24:29.980Z"
   },
   {
    "duration": 16,
    "start_time": "2025-03-15T14:24:30.209Z"
   },
   {
    "duration": 9127,
    "start_time": "2025-03-15T14:24:30.227Z"
   }
  ],
  "kernelspec": {
   "display_name": "Python 3 (ipykernel)",
   "language": "python",
   "name": "python3"
  },
  "language_info": {
   "codemirror_mode": {
    "name": "ipython",
    "version": 3
   },
   "file_extension": ".py",
   "mimetype": "text/x-python",
   "name": "python",
   "nbconvert_exporter": "python",
   "pygments_lexer": "ipython3",
   "version": "3.12.7"
  },
  "toc": {
   "base_numbering": 1,
   "nav_menu": {},
   "number_sections": true,
   "sideBar": true,
   "skip_h1_title": true,
   "title_cell": "Table of Contents",
   "title_sidebar": "Contents",
   "toc_cell": false,
   "toc_position": {
    "height": "calc(100% - 180px)",
    "left": "10px",
    "top": "150px",
    "width": "284.3px"
   },
   "toc_section_display": true,
   "toc_window_display": false
  }
 },
 "nbformat": 4,
 "nbformat_minor": 4
}
