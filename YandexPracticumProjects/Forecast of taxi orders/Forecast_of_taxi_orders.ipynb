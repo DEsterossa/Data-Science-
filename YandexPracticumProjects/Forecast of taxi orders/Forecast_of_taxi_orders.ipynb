{
 "cells": [
  {
   "cell_type": "markdown",
   "metadata": {
    "toc": true
   },
   "source": [
    "<h1>Содержание<span class=\"tocSkip\"></span></h1>\n",
    "<div class=\"toc\"><ul class=\"toc-item\"><li><span><a href=\"#Загрузка\" data-toc-modified-id=\"Загрузка-1\"><span class=\"toc-item-num\">1&nbsp;&nbsp;</span>Загрузка</a></span></li><li><span><a href=\"#Анализ\" data-toc-modified-id=\"Анализ-2\"><span class=\"toc-item-num\">2&nbsp;&nbsp;</span>Анализ</a></span><ul class=\"toc-item\"><li><span><a href=\"#График-за-весь-период\" data-toc-modified-id=\"График-за-весь-период-2.1\"><span class=\"toc-item-num\">2.1&nbsp;&nbsp;</span>График за весь период</a></span></li><li><span><a href=\"#Распределение-нагрузки-по-времени\" data-toc-modified-id=\"Распределение-нагрузки-по-времени-2.2\"><span class=\"toc-item-num\">2.2&nbsp;&nbsp;</span>Распределение нагрузки по времени</a></span></li><li><span><a href=\"#Анализ-остатков\" data-toc-modified-id=\"Анализ-остатков-2.3\"><span class=\"toc-item-num\">2.3&nbsp;&nbsp;</span>Анализ остатков</a></span></li><li><span><a href=\"#Проверка-на-стационарность\" data-toc-modified-id=\"Проверка-на-стационарность-2.4\"><span class=\"toc-item-num\">2.4&nbsp;&nbsp;</span>Проверка на стационарность</a></span></li></ul></li><li><span><a href=\"#Обучение\" data-toc-modified-id=\"Обучение-3\"><span class=\"toc-item-num\">3&nbsp;&nbsp;</span>Обучение</a></span><ul class=\"toc-item\"><li><span><a href=\"#Создание-новых-признаков\" data-toc-modified-id=\"Создание-новых-признаков-3.1\"><span class=\"toc-item-num\">3.1&nbsp;&nbsp;</span>Создание новых признаков</a></span></li><li><span><a href=\"#Подготовка\" data-toc-modified-id=\"Подготовка-3.2\"><span class=\"toc-item-num\">3.2&nbsp;&nbsp;</span>Подготовка</a></span></li><li><span><a href=\"#Построение-и-обучение-моделей\" data-toc-modified-id=\"Построение-и-обучение-моделей-3.3\"><span class=\"toc-item-num\">3.3&nbsp;&nbsp;</span>Построение и обучение моделей</a></span></li></ul></li><li><span><a href=\"#Тестирование\" data-toc-modified-id=\"Тестирование-4\"><span class=\"toc-item-num\">4&nbsp;&nbsp;</span>Тестирование</a></span></li><li><span><a href=\"#Обший-вывод\" data-toc-modified-id=\"Обший-вывод-5\"><span class=\"toc-item-num\">5&nbsp;&nbsp;</span>Обший вывод</a></span></li><li><span><a href=\"#Чек-лист-проверки\" data-toc-modified-id=\"Чек-лист-проверки-6\"><span class=\"toc-item-num\">6&nbsp;&nbsp;</span>Чек-лист проверки</a></span></li></ul></div>"
   ]
  },
  {
   "cell_type": "markdown",
   "metadata": {},
   "source": [
    "#  Прогнозирование заказов такси"
   ]
  },
  {
   "cell_type": "markdown",
   "metadata": {},
   "source": [
    "Компания «Чётенькое такси» собрала исторические данные о заказах такси в аэропортах. Чтобы привлекать больше водителей в период пиковой нагрузки, нужно спрогнозировать количество заказов такси на следующий час. Постройте модель для такого предсказания.\n",
    "\n",
    "Значение метрики *RMSE* на тестовой выборке должно быть не больше 48.\n",
    "\n",
    "Вам нужно:\n",
    "\n",
    "1. Загрузить данные и выполнить их ресемплирование по одному часу.\n",
    "2. Проанализировать данные.\n",
    "3. Обучить разные модели с различными гиперпараметрами. Сделать тестовую выборку размером 10% от исходных данных.\n",
    "4. Проверить данные на тестовой выборке и сделать выводы.\n",
    "\n",
    "\n",
    "Данные лежат в файле `taxi.csv`. Количество заказов находится в столбце `num_orders` (от англ. *number of orders*, «число заказов»)."
   ]
  },
  {
   "cell_type": "code",
   "execution_count": 1,
   "metadata": {},
   "outputs": [],
   "source": [
    "import pandas as pd\n",
    "import numpy as np\n",
    "import matplotlib.pyplot as plt\n",
    "import seaborn as sns\n",
    "import matplotlib.dates as mdates\n",
    "import warnings\n",
    "\n",
    "\n",
    "from statsmodels.tsa.seasonal import seasonal_decompose\n",
    "from statsmodels.tsa.stattools import adfuller\n",
    "\n",
    "from sklearn.impute import SimpleImputer\n",
    "from sklearn.preprocessing import (\n",
    "    OrdinalEncoder,\n",
    "    MinMaxScaler\n",
    ")\n",
    "\n",
    "from sklearn.pipeline import Pipeline\n",
    "from sklearn.compose import ColumnTransformer\n",
    "\n",
    "from sklearn.model_selection import (\n",
    "    GridSearchCV,\n",
    "    RandomizedSearchCV,\n",
    "    train_test_split,\n",
    "    TimeSeriesSplit\n",
    ")\n",
    "\n",
    "from sklearn.metrics import mean_squared_error\n",
    "\n",
    "from lightgbm import LGBMRegressor\n",
    "from catboost import CatBoostRegressor\n",
    "from sklearn.ensemble import RandomForestRegressor\n",
    "from sklearn.dummy import DummyRegressor\n",
    "\n",
    "%matplotlib inline\n",
    "sns.set_theme(style=\"darkgrid\")\n",
    "warnings.filterwarnings(\"ignore\")\n",
    "warnings.filterwarnings(\"ignore\", message=\"interval columns not set\")"
   ]
  },
  {
   "cell_type": "markdown",
   "metadata": {},
   "source": [
    "## Загрузка"
   ]
  },
  {
   "cell_type": "markdown",
   "metadata": {},
   "source": [
    "Загрузим данные и заранее поставим отсортированное времени в качестве индексов"
   ]
  },
  {
   "cell_type": "code",
   "execution_count": 2,
   "metadata": {},
   "outputs": [],
   "source": [
    "taxi_data_raw = pd.read_csv('/datasets/taxi.csv', index_col=[0], parse_dates=[0])\n",
    "taxi_data_raw.sort_index(inplace=True)"
   ]
  },
  {
   "cell_type": "code",
   "execution_count": 3,
   "metadata": {
    "scrolled": true
   },
   "outputs": [
    {
     "data": {
      "text/html": [
       "<div>\n",
       "<style scoped>\n",
       "    .dataframe tbody tr th:only-of-type {\n",
       "        vertical-align: middle;\n",
       "    }\n",
       "\n",
       "    .dataframe tbody tr th {\n",
       "        vertical-align: top;\n",
       "    }\n",
       "\n",
       "    .dataframe thead th {\n",
       "        text-align: right;\n",
       "    }\n",
       "</style>\n",
       "<table border=\"1\" class=\"dataframe\">\n",
       "  <thead>\n",
       "    <tr style=\"text-align: right;\">\n",
       "      <th></th>\n",
       "      <th>num_orders</th>\n",
       "    </tr>\n",
       "    <tr>\n",
       "      <th>datetime</th>\n",
       "      <th></th>\n",
       "    </tr>\n",
       "  </thead>\n",
       "  <tbody>\n",
       "    <tr>\n",
       "      <th>2018-03-01 00:00:00</th>\n",
       "      <td>9</td>\n",
       "    </tr>\n",
       "    <tr>\n",
       "      <th>2018-03-01 00:10:00</th>\n",
       "      <td>14</td>\n",
       "    </tr>\n",
       "    <tr>\n",
       "      <th>2018-03-01 00:20:00</th>\n",
       "      <td>28</td>\n",
       "    </tr>\n",
       "    <tr>\n",
       "      <th>2018-03-01 00:30:00</th>\n",
       "      <td>20</td>\n",
       "    </tr>\n",
       "    <tr>\n",
       "      <th>2018-03-01 00:40:00</th>\n",
       "      <td>32</td>\n",
       "    </tr>\n",
       "  </tbody>\n",
       "</table>\n",
       "</div>"
      ],
      "text/plain": [
       "                     num_orders\n",
       "datetime                       \n",
       "2018-03-01 00:00:00           9\n",
       "2018-03-01 00:10:00          14\n",
       "2018-03-01 00:20:00          28\n",
       "2018-03-01 00:30:00          20\n",
       "2018-03-01 00:40:00          32"
      ]
     },
     "metadata": {},
     "output_type": "display_data"
    },
    {
     "name": "stdout",
     "output_type": "stream",
     "text": [
      "<class 'pandas.core.frame.DataFrame'>\n",
      "DatetimeIndex: 26496 entries, 2018-03-01 00:00:00 to 2018-08-31 23:50:00\n",
      "Data columns (total 1 columns):\n",
      " #   Column      Non-Null Count  Dtype\n",
      "---  ------      --------------  -----\n",
      " 0   num_orders  26496 non-null  int64\n",
      "dtypes: int64(1)\n",
      "memory usage: 414.0 KB\n"
     ]
    }
   ],
   "source": [
    "display(taxi_data_raw.head())\n",
    "taxi_data_raw.info()"
   ]
  },
  {
   "cell_type": "markdown",
   "metadata": {},
   "source": [
    "В датасете всего 1 столбец без пропусков. Нам передали данные за период с марта по август(включительно) 2018-го года"
   ]
  },
  {
   "cell_type": "markdown",
   "metadata": {},
   "source": [
    "Выполним ресемплирование данных по одному часу"
   ]
  },
  {
   "cell_type": "code",
   "execution_count": 4,
   "metadata": {},
   "outputs": [],
   "source": [
    "taxi_data_res = taxi_data_raw.resample('1H').sum()"
   ]
  },
  {
   "cell_type": "markdown",
   "metadata": {},
   "source": [
    "## Анализ"
   ]
  },
  {
   "cell_type": "markdown",
   "metadata": {},
   "source": [
    "Проведём графический анализ данных, чтобы посмотреть, когда обычно происходит период пиковой нагрузки"
   ]
  },
  {
   "cell_type": "markdown",
   "metadata": {},
   "source": [
    "### График за весь период"
   ]
  },
  {
   "cell_type": "markdown",
   "metadata": {},
   "source": [
    "Добавим скользящее среднее для более наглядного просмотра активности пользователей. В качестве периода укажем 1 день, то есть интервал будет составлять 24 значения(размер окна)."
   ]
  },
  {
   "cell_type": "code",
   "execution_count": 5,
   "metadata": {},
   "outputs": [],
   "source": [
    "taxi_data_res['rolling_mean'] = taxi_data_res.shift().rolling(24).mean()"
   ]
  },
  {
   "cell_type": "code",
   "execution_count": 6,
   "metadata": {},
   "outputs": [
    {
     "data": {
      "image/png": "[encoded data removed]",
      "text/plain": [
       "<Figure size 1152x648 with 1 Axes>"
      ]
     },
     "metadata": {},
     "output_type": "display_data"
    }
   ],
   "source": [
    "plt.figure(figsize=(16, 9))\n",
    "\n",
    "sns.lineplot(data=taxi_data_res, linewidth=2.0, linestyle='-')\n",
    "\n",
    "plt.title('Временной ряд за весь период')\n",
    "plt.xlabel('Дата')\n",
    "plt.ylabel('Количество заказов')\n",
    "plt.grid(True)\n",
    "plt.xticks(rotation=45)\n",
    "plt.show();"
   ]
  },
  {
   "cell_type": "markdown",
   "metadata": {},
   "source": [
    "**На графике:**\n",
    "\n",
    "- заметно большое количество шумов, из-за чего его становится трудно читать\n",
    "- много пиковых значений\n",
    "- заметен постоянный тренд на повышение спроса с начала лета и до его конца\n",
    "- в августе началось заметное ускорение спроса"
   ]
  },
  {
   "cell_type": "markdown",
   "metadata": {},
   "source": [
    "### Распределение нагрузки по времени"
   ]
  },
  {
   "cell_type": "markdown",
   "metadata": {},
   "source": [
    "Изучим недельную сезонность нагрузки"
   ]
  },
  {
   "cell_type": "code",
   "execution_count": 7,
   "metadata": {},
   "outputs": [
    {
     "data": {
      "image/png": "[encoded data removed]",
      "text/plain": [
       "<Figure size 864x288 with 1 Axes>"
      ]
     },
     "metadata": {},
     "output_type": "display_data"
    }
   ],
   "source": [
    "plt.figure(figsize=(12, 4))\n",
    "decomposed_taxi_data_week = seasonal_decompose(\n",
    "    taxi_data_res['num_orders']['2018-07-09':'2018-08-13'],# 9 августа - понедельник\n",
    "    model='additive',\n",
    "    period=168\n",
    ")\n",
    "\n",
    " \n",
    "decomposed_taxi_data_week.seasonal.plot(title='Сезонность за неделю в периоде \"2018-07-09 — 2018-08-13\"')\n",
    "plt.xlabel('Дата')\n",
    "plt.ylabel('Отклонение от среднего')\n",
    "plt.show();"
   ]
  },
  {
   "cell_type": "markdown",
   "metadata": {},
   "source": [
    "**Какие выводы можно сделать, взглянув на график cезонности по неделям:**\n",
    "\n",
    "- На понедельник и субботу приходится самое малое количество заказов за неделю\n",
    "- Во вторник, среду, четверг и пятницу количество заказов примерно одинаково\n",
    "- Больше всего такси востребовано в воскресенье\n",
    "- Пиковые значения достигаются под конец дня"
   ]
  },
  {
   "cell_type": "markdown",
   "metadata": {},
   "source": [
    "А теперь взлянем на изменения cезонности заказов за обычный период в 7 дней, не включаюший праздники: 2018-08-13 — 2018-08-20"
   ]
  },
  {
   "cell_type": "code",
   "execution_count": 8,
   "metadata": {},
   "outputs": [
    {
     "data": {
      "image/png": "[encoded data removed]",
      "text/plain": [
       "<Figure size 864x288 with 1 Axes>"
      ]
     },
     "metadata": {},
     "output_type": "display_data"
    }
   ],
   "source": [
    "plt.figure(figsize=(12, 4))\n",
    "decomposed_taxi_data_day = seasonal_decompose(\n",
    "    taxi_data_res['num_orders']['2018-08-13':'2018-08-19'],\n",
    "    model='additive',\n",
    "    period=24\n",
    ")\n",
    "\n",
    " \n",
    "decomposed_taxi_data_day.seasonal.plot(title='Сезонность за день в периоде \"2018-08-13 — 2018-08-20\"')\n",
    "plt.xlabel('Дата')\n",
    "plt.ylabel('Отклонение от среднего')\n",
    "plt.show();"
   ]
  },
  {
   "cell_type": "markdown",
   "metadata": {},
   "source": [
    "**Какие выводы можно сделать, взглянув на график cезонности по дням:**\n",
    "\n",
    "- Пиковые значения приходятся на ночь\n",
    "- Минимальная активность происходит ранним утром\n",
    "- Днём и вечером количество заказов остаётся средним"
   ]
  },
  {
   "cell_type": "markdown",
   "metadata": {},
   "source": [
    "Рассмотрим подробнее активность клиентов в рамках одного дня, cгруппировав данные за всё время"
   ]
  },
  {
   "cell_type": "code",
   "execution_count": 9,
   "metadata": {},
   "outputs": [],
   "source": [
    "taxi_data_res['hour'] = taxi_data_res.index.hour\n",
    "hourly_pattern = taxi_data_res.groupby('hour')['num_orders'].mean()"
   ]
  },
  {
   "cell_type": "code",
   "execution_count": 10,
   "metadata": {},
   "outputs": [
    {
     "data": {
      "image/png": "[encoded data removed]",
      "text/plain": [
       "<Figure size 864x432 with 1 Axes>"
      ]
     },
     "metadata": {},
     "output_type": "display_data"
    }
   ],
   "source": [
    "plt.figure(figsize=(12, 6))\n",
    "\n",
    "taxi_data_res['hour'] = taxi_data_res.index.hour\n",
    "hourly_pattern = taxi_data_res.groupby('hour')['num_orders'].mean()\n",
    "\n",
    "hourly_pattern.plot()\n",
    "plt.title('Средняя активность пользователей по часам')\n",
    "plt.xlabel('Часы')\n",
    "plt.ylabel('Количество заказов')\n",
    "plt.grid(True)\n",
    "plt.show();"
   ]
  },
  {
   "cell_type": "markdown",
   "metadata": {},
   "source": [
    "Таким образом, активность пользователей можно поделить на несколько периодов:\n",
    "\n",
    "- Пиковая ночная нагрузка(с 22 до 4 часов)\n",
    "- Утренний спад(с 4 до 8)\n",
    "- Утренний подъём(с 7 до 12)\n",
    "- Дневной подъём(с 12 до 16)\n",
    "- Дневной пик(с 16 до 18)\n",
    "- Вечерний поъём(с 18 до 22)"
   ]
  },
  {
   "cell_type": "markdown",
   "metadata": {},
   "source": [
    "### Анализ остатков"
   ]
  },
  {
   "cell_type": "markdown",
   "metadata": {},
   "source": [
    "Посмотрим на распределение остатков во временном ряде"
   ]
  },
  {
   "cell_type": "code",
   "execution_count": 11,
   "metadata": {},
   "outputs": [
    {
     "data": {
      "image/png": "[encoded data removed]",
      "text/plain": [
       "<Figure size 864x288 with 1 Axes>"
      ]
     },
     "metadata": {},
     "output_type": "display_data"
    }
   ],
   "source": [
    "plt.figure(figsize=(12, 4))\n",
    "decomposed_taxi_data = seasonal_decompose(\n",
    "    taxi_data_res['num_orders'],\n",
    "    model='additive',\n",
    "    period=24\n",
    ")\n",
    "\n",
    " \n",
    "decomposed_taxi_data.resid.plot(title='Доля остатков на всём периоде')\n",
    "plt.xlabel('Дата')\n",
    "plt.ylabel('Количество заказов')\n",
    "plt.show();"
   ]
  },
  {
   "cell_type": "markdown",
   "metadata": {},
   "source": [
    "По графику видно, что во второй половине августа заметно большое количество выбивающихся значений(шумов), по сравнению с остальным временем. Такое распределение остатков может привести к тому, что модели будет тяжело предсказывать будущие значения на тестовых данных корректно(может привести к значительно разнице в качестве предсказаний на валидационной и тестовой выборках)"
   ]
  },
  {
   "cell_type": "markdown",
   "metadata": {},
   "source": [
    "### Проверка на стационарность"
   ]
  },
  {
   "cell_type": "markdown",
   "metadata": {},
   "source": [
    "Перед построением модели временной ряд следует проверить на стационарность. Такие ряды легче предсказывать и интерпретировать"
   ]
  },
  {
   "cell_type": "code",
   "execution_count": 12,
   "metadata": {},
   "outputs": [
    {
     "data": {
      "image/png": "[encoded data removed]",
      "text/plain": [
       "<Figure size 864x432 with 1 Axes>"
      ]
     },
     "metadata": {},
     "output_type": "display_data"
    }
   ],
   "source": [
    "plt.figure(figsize=(12, 6))\n",
    "\n",
    "taxi_data_res['num_orders'].plot(label='Исходный ряд')\n",
    "taxi_data_res['num_orders'].rolling(window=24).mean().plot(label='Скользящее среднее (24 часа)')\n",
    "taxi_data_res['num_orders'].rolling(window=24).std().plot(label='Скользящая дисперсия', color='red')\n",
    "plt.legend()\n",
    "plt.grid(True)\n",
    "plt.show()"
   ]
  },
  {
   "cell_type": "markdown",
   "metadata": {},
   "source": [
    "Скользящее среднее и дисперсия колеблются вокруг константы, однако всё же имеют тренд на повышение"
   ]
  },
  {
   "cell_type": "markdown",
   "metadata": {},
   "source": [
    "Тогда воспользуемся статистическим тестом Дики-Фуллера"
   ]
  },
  {
   "cell_type": "code",
   "execution_count": 13,
   "metadata": {
    "scrolled": true
   },
   "outputs": [
    {
     "name": "stdout",
     "output_type": "stream",
     "text": [
      "ADF статистика: -3.0689242890279558\n",
      "p-value: 0.028940051402612906\n"
     ]
    }
   ],
   "source": [
    "result = adfuller(taxi_data_res['num_orders'])\n",
    "print('ADF статистика:', result[0])\n",
    "print('p-value:', result[1])"
   ]
  },
  {
   "cell_type": "markdown",
   "metadata": {},
   "source": [
    "p-value оказался довольно малым(меньше 0.05, например), а значит, можно считать ряд достаточно стационарным"
   ]
  },
  {
   "cell_type": "markdown",
   "metadata": {},
   "source": [
    "В строгом смысле наш ряд не является стационарным, потому что имеет не только тренд, но еще и с августа - ускорение.\n",
    "Протестируем, можно ли привести ряд к стационарному виду"
   ]
  },
  {
   "cell_type": "code",
   "execution_count": 14,
   "metadata": {},
   "outputs": [
    {
     "data": {
      "image/png": "[encoded data removed]",
      "text/plain": [
       "<Figure size 864x432 with 1 Axes>"
      ]
     },
     "metadata": {},
     "output_type": "display_data"
    }
   ],
   "source": [
    "stac_data = (\n",
    "    taxi_data_res\n",
    "    .copy()\n",
    "    .drop(['hour', 'rolling_mean'], axis=1)\n",
    ")\n",
    "\n",
    "stac_data['num_orders'] = stac_data['num_orders'] - stac_data['num_orders'].shift()\n",
    "stac_data['mean'] = stac_data['num_orders'].rolling(24).mean()\n",
    "stac_data['std'] = stac_data['num_orders'].rolling(24).std()\n",
    "stac_data.plot(figsize=(12, 6), xlabel='Дата', ylabel='Количество заказов', title='Разность временного ряда')\n",
    "plt.show();"
   ]
  },
  {
   "cell_type": "markdown",
   "metadata": {},
   "source": [
    "Как можно заметить, ряд стал более стационарным, а значит с такие данные можно прогнозировать"
   ]
  },
  {
   "cell_type": "markdown",
   "metadata": {},
   "source": [
    "**В результате анали временного ряда было выявлено, что:**\n",
    "\n",
    "- Исходный ряд имеет постоянный тренд на повышение, а также обладает большим количеством шумов и пиковых значений\n",
    "- С августа началость быстрое ускорение спроса на такси\n",
    "- Самые загруженный день - воскресенье, а самые незагруженные дни - понедельник и суббота\n",
    "- Активность пользователей неравномерна: ночью и в 16 и 17 часов нагрузка пиковая\n",
    "- С начала второй половины августа в данных присутствует большое количество шумов, что может плохо сказаться на качестве предсказаний\n",
    "- Временной ряд стационарен, а значит, моделям будет легче обучаться"
   ]
  },
  {
   "cell_type": "markdown",
   "metadata": {},
   "source": [
    "## Обучение"
   ]
  },
  {
   "cell_type": "markdown",
   "metadata": {},
   "source": [
    "### Создание новых признаков"
   ]
  },
  {
   "cell_type": "markdown",
   "metadata": {},
   "source": [
    "Создадим признаки для горизонта прогнозирования в один шаг"
   ]
  },
  {
   "cell_type": "code",
   "execution_count": 15,
   "metadata": {},
   "outputs": [],
   "source": [
    "# функция возвращает датасет с новыми признаками: месяц, день, день недели и отстающее значение\n",
    "def make_features(data, max_lag, rolling_mean_size):\n",
    "    res_df = data.copy()\n",
    "    res_df['day'] = data.index.day\n",
    "    res_df['dayofweek'] = data.index.dayofweek\n",
    "    \n",
    "    for lag in range(1, max_lag + 1):\n",
    "        res_df['lag_{}'.format(lag)] = data['num_orders'].shift(lag)\n",
    "        \n",
    "    res_df['rolling_mean'] = data['num_orders'].shift().rolling(rolling_mean_size).mean()\n",
    "    \n",
    "    return res_df"
   ]
  },
  {
   "cell_type": "code",
   "execution_count": 16,
   "metadata": {},
   "outputs": [
    {
     "data": {
      "text/html": [
       "<div>\n",
       "<style scoped>\n",
       "    .dataframe tbody tr th:only-of-type {\n",
       "        vertical-align: middle;\n",
       "    }\n",
       "\n",
       "    .dataframe tbody tr th {\n",
       "        vertical-align: top;\n",
       "    }\n",
       "\n",
       "    .dataframe thead th {\n",
       "        text-align: right;\n",
       "    }\n",
       "</style>\n",
       "<table border=\"1\" class=\"dataframe\">\n",
       "  <thead>\n",
       "    <tr style=\"text-align: right;\">\n",
       "      <th></th>\n",
       "      <th>num_orders</th>\n",
       "      <th>rolling_mean</th>\n",
       "      <th>hour</th>\n",
       "      <th>day</th>\n",
       "      <th>dayofweek</th>\n",
       "      <th>lag_1</th>\n",
       "      <th>lag_2</th>\n",
       "      <th>lag_3</th>\n",
       "      <th>lag_4</th>\n",
       "      <th>lag_5</th>\n",
       "      <th>lag_6</th>\n",
       "      <th>lag_7</th>\n",
       "    </tr>\n",
       "    <tr>\n",
       "      <th>datetime</th>\n",
       "      <th></th>\n",
       "      <th></th>\n",
       "      <th></th>\n",
       "      <th></th>\n",
       "      <th></th>\n",
       "      <th></th>\n",
       "      <th></th>\n",
       "      <th></th>\n",
       "      <th></th>\n",
       "      <th></th>\n",
       "      <th></th>\n",
       "      <th></th>\n",
       "    </tr>\n",
       "  </thead>\n",
       "  <tbody>\n",
       "    <tr>\n",
       "      <th>2018-03-01 00:00:00</th>\n",
       "      <td>124</td>\n",
       "      <td>NaN</td>\n",
       "      <td>0</td>\n",
       "      <td>1</td>\n",
       "      <td>3</td>\n",
       "      <td>NaN</td>\n",
       "      <td>NaN</td>\n",
       "      <td>NaN</td>\n",
       "      <td>NaN</td>\n",
       "      <td>NaN</td>\n",
       "      <td>NaN</td>\n",
       "      <td>NaN</td>\n",
       "    </tr>\n",
       "    <tr>\n",
       "      <th>2018-03-01 01:00:00</th>\n",
       "      <td>85</td>\n",
       "      <td>NaN</td>\n",
       "      <td>1</td>\n",
       "      <td>1</td>\n",
       "      <td>3</td>\n",
       "      <td>124.0</td>\n",
       "      <td>NaN</td>\n",
       "      <td>NaN</td>\n",
       "      <td>NaN</td>\n",
       "      <td>NaN</td>\n",
       "      <td>NaN</td>\n",
       "      <td>NaN</td>\n",
       "    </tr>\n",
       "    <tr>\n",
       "      <th>2018-03-01 02:00:00</th>\n",
       "      <td>71</td>\n",
       "      <td>NaN</td>\n",
       "      <td>2</td>\n",
       "      <td>1</td>\n",
       "      <td>3</td>\n",
       "      <td>85.0</td>\n",
       "      <td>124.0</td>\n",
       "      <td>NaN</td>\n",
       "      <td>NaN</td>\n",
       "      <td>NaN</td>\n",
       "      <td>NaN</td>\n",
       "      <td>NaN</td>\n",
       "    </tr>\n",
       "    <tr>\n",
       "      <th>2018-03-01 03:00:00</th>\n",
       "      <td>66</td>\n",
       "      <td>NaN</td>\n",
       "      <td>3</td>\n",
       "      <td>1</td>\n",
       "      <td>3</td>\n",
       "      <td>71.0</td>\n",
       "      <td>85.0</td>\n",
       "      <td>124.0</td>\n",
       "      <td>NaN</td>\n",
       "      <td>NaN</td>\n",
       "      <td>NaN</td>\n",
       "      <td>NaN</td>\n",
       "    </tr>\n",
       "    <tr>\n",
       "      <th>2018-03-01 04:00:00</th>\n",
       "      <td>43</td>\n",
       "      <td>NaN</td>\n",
       "      <td>4</td>\n",
       "      <td>1</td>\n",
       "      <td>3</td>\n",
       "      <td>66.0</td>\n",
       "      <td>71.0</td>\n",
       "      <td>85.0</td>\n",
       "      <td>124.0</td>\n",
       "      <td>NaN</td>\n",
       "      <td>NaN</td>\n",
       "      <td>NaN</td>\n",
       "    </tr>\n",
       "    <tr>\n",
       "      <th>2018-03-01 05:00:00</th>\n",
       "      <td>6</td>\n",
       "      <td>NaN</td>\n",
       "      <td>5</td>\n",
       "      <td>1</td>\n",
       "      <td>3</td>\n",
       "      <td>43.0</td>\n",
       "      <td>66.0</td>\n",
       "      <td>71.0</td>\n",
       "      <td>85.0</td>\n",
       "      <td>124.0</td>\n",
       "      <td>NaN</td>\n",
       "      <td>NaN</td>\n",
       "    </tr>\n",
       "    <tr>\n",
       "      <th>2018-03-01 06:00:00</th>\n",
       "      <td>12</td>\n",
       "      <td>NaN</td>\n",
       "      <td>6</td>\n",
       "      <td>1</td>\n",
       "      <td>3</td>\n",
       "      <td>6.0</td>\n",
       "      <td>43.0</td>\n",
       "      <td>66.0</td>\n",
       "      <td>71.0</td>\n",
       "      <td>85.0</td>\n",
       "      <td>124.0</td>\n",
       "      <td>NaN</td>\n",
       "    </tr>\n",
       "    <tr>\n",
       "      <th>2018-03-01 07:00:00</th>\n",
       "      <td>15</td>\n",
       "      <td>NaN</td>\n",
       "      <td>7</td>\n",
       "      <td>1</td>\n",
       "      <td>3</td>\n",
       "      <td>12.0</td>\n",
       "      <td>6.0</td>\n",
       "      <td>43.0</td>\n",
       "      <td>66.0</td>\n",
       "      <td>71.0</td>\n",
       "      <td>85.0</td>\n",
       "      <td>124.0</td>\n",
       "    </tr>\n",
       "    <tr>\n",
       "      <th>2018-03-01 08:00:00</th>\n",
       "      <td>34</td>\n",
       "      <td>NaN</td>\n",
       "      <td>8</td>\n",
       "      <td>1</td>\n",
       "      <td>3</td>\n",
       "      <td>15.0</td>\n",
       "      <td>12.0</td>\n",
       "      <td>6.0</td>\n",
       "      <td>43.0</td>\n",
       "      <td>66.0</td>\n",
       "      <td>71.0</td>\n",
       "      <td>85.0</td>\n",
       "    </tr>\n",
       "    <tr>\n",
       "      <th>2018-03-01 09:00:00</th>\n",
       "      <td>69</td>\n",
       "      <td>NaN</td>\n",
       "      <td>9</td>\n",
       "      <td>1</td>\n",
       "      <td>3</td>\n",
       "      <td>34.0</td>\n",
       "      <td>15.0</td>\n",
       "      <td>12.0</td>\n",
       "      <td>6.0</td>\n",
       "      <td>43.0</td>\n",
       "      <td>66.0</td>\n",
       "      <td>71.0</td>\n",
       "    </tr>\n",
       "  </tbody>\n",
       "</table>\n",
       "</div>"
      ],
      "text/plain": [
       "                     num_orders  rolling_mean  hour  day  dayofweek  lag_1  \\\n",
       "datetime                                                                     \n",
       "2018-03-01 00:00:00         124           NaN     0    1          3    NaN   \n",
       "2018-03-01 01:00:00          85           NaN     1    1          3  124.0   \n",
       "2018-03-01 02:00:00          71           NaN     2    1          3   85.0   \n",
       "2018-03-01 03:00:00          66           NaN     3    1          3   71.0   \n",
       "2018-03-01 04:00:00          43           NaN     4    1          3   66.0   \n",
       "2018-03-01 05:00:00           6           NaN     5    1          3   43.0   \n",
       "2018-03-01 06:00:00          12           NaN     6    1          3    6.0   \n",
       "2018-03-01 07:00:00          15           NaN     7    1          3   12.0   \n",
       "2018-03-01 08:00:00          34           NaN     8    1          3   15.0   \n",
       "2018-03-01 09:00:00          69           NaN     9    1          3   34.0   \n",
       "\n",
       "                     lag_2  lag_3  lag_4  lag_5  lag_6  lag_7  \n",
       "datetime                                                       \n",
       "2018-03-01 00:00:00    NaN    NaN    NaN    NaN    NaN    NaN  \n",
       "2018-03-01 01:00:00    NaN    NaN    NaN    NaN    NaN    NaN  \n",
       "2018-03-01 02:00:00  124.0    NaN    NaN    NaN    NaN    NaN  \n",
       "2018-03-01 03:00:00   85.0  124.0    NaN    NaN    NaN    NaN  \n",
       "2018-03-01 04:00:00   71.0   85.0  124.0    NaN    NaN    NaN  \n",
       "2018-03-01 05:00:00   66.0   71.0   85.0  124.0    NaN    NaN  \n",
       "2018-03-01 06:00:00   43.0   66.0   71.0   85.0  124.0    NaN  \n",
       "2018-03-01 07:00:00    6.0   43.0   66.0   71.0   85.0  124.0  \n",
       "2018-03-01 08:00:00   12.0    6.0   43.0   66.0   71.0   85.0  \n",
       "2018-03-01 09:00:00   15.0   12.0    6.0   43.0   66.0   71.0  "
      ]
     },
     "execution_count": 16,
     "metadata": {},
     "output_type": "execute_result"
    }
   ],
   "source": [
    "taxi_data = make_features(taxi_data_res, 7, 24)\n",
    "taxi_data.head(10)"
   ]
  },
  {
   "cell_type": "markdown",
   "metadata": {},
   "source": [
    "Избавимся от появившихся пропущенных значений"
   ]
  },
  {
   "cell_type": "code",
   "execution_count": 17,
   "metadata": {},
   "outputs": [],
   "source": [
    "taxi_data.dropna(inplace=True)"
   ]
  },
  {
   "cell_type": "markdown",
   "metadata": {},
   "source": [
    "### Подготовка"
   ]
  },
  {
   "cell_type": "markdown",
   "metadata": {},
   "source": [
    "Подготовим данные для корректной работы наших моделей"
   ]
  },
  {
   "cell_type": "code",
   "execution_count": 18,
   "metadata": {},
   "outputs": [],
   "source": [
    "RANDOM_STATE=42\n",
    "\n",
    "X, y = taxi_data.drop(['num_orders'], axis=1), taxi_data['num_orders']\n",
    "X_train, X_test, y_train, y_test = train_test_split(\n",
    "    X,\n",
    "    y,\n",
    "    shuffle=False,\n",
    "    test_size=0.1\n",
    ")"
   ]
  },
  {
   "cell_type": "code",
   "execution_count": 19,
   "metadata": {},
   "outputs": [],
   "source": [
    "num_cols = ['rolling_mean', 'lag_1', 'lag_2', 'lag_3', 'lag_4', 'lag_5', 'lag_6', 'lag_7']\n",
    "ord_cols = ['hour', 'day', 'dayofweek']"
   ]
  },
  {
   "cell_type": "markdown",
   "metadata": {},
   "source": [
    "Построим пайплайн для подготовки категориальных данных"
   ]
  },
  {
   "cell_type": "markdown",
   "metadata": {},
   "source": [
    "### Построение и обучение моделей"
   ]
  },
  {
   "cell_type": "markdown",
   "metadata": {},
   "source": [
    "В качестве метрики будем использовать RMSE для придачи важности ошибкам и получения значения ошибок в единицах предсказания"
   ]
  },
  {
   "cell_type": "markdown",
   "metadata": {},
   "source": [
    "Для предсказания временных рядов будем использовать продвинутые модели: LightGBM, CatBoost, Random Forest"
   ]
  },
  {
   "cell_type": "markdown",
   "metadata": {},
   "source": [
    "Начнём с модели случайного леса"
   ]
  },
  {
   "cell_type": "code",
   "execution_count": 20,
   "metadata": {},
   "outputs": [],
   "source": [
    "data_preprocessor1 = ColumnTransformer(\n",
    "    [\n",
    "     ('num', MinMaxScaler(), num_cols)\n",
    "    ], \n",
    "    remainder='passthrough'\n",
    ")\n",
    "\n",
    "rf_pipe = Pipeline([\n",
    "    ('preprocessor', data_preprocessor1),\n",
    "    ('rf', RandomForestRegressor(random_state=RANDOM_STATE, n_estimators=300))\n",
    "])"
   ]
  },
  {
   "cell_type": "code",
   "execution_count": 21,
   "metadata": {},
   "outputs": [],
   "source": [
    "rf_params = {\n",
    "    'rf__min_samples_leaf': range(1, 3),\n",
    "    'rf__min_samples_split': range(2, 6, 2),\n",
    "    'rf__max_depth':range(4, 9, 2),\n",
    "    'rf__max_features': range(3, len(num_cols+ord_cols))\n",
    "}"
   ]
  },
  {
   "cell_type": "markdown",
   "metadata": {},
   "source": [
    "При работе с временными рядами будем использовать TimeSeriesSplit, чтобы не перемешивать тренировочные и валидационные данные"
   ]
  },
  {
   "cell_type": "code",
   "execution_count": 22,
   "metadata": {},
   "outputs": [],
   "source": [
    "tscv = TimeSeriesSplit(n_splits=5)"
   ]
  },
  {
   "cell_type": "code",
   "execution_count": 23,
   "metadata": {},
   "outputs": [
    {
     "name": "stdout",
     "output_type": "stream",
     "text": [
      "Параметры модели: {'rf__min_samples_split': 4, 'rf__min_samples_leaf': 2, 'rf__max_features': 7, 'rf__max_depth': 8}\n",
      "RMSE модели: 26.339130447781475\n"
     ]
    }
   ],
   "source": [
    "rf_search = RandomizedSearchCV(\n",
    "    rf_pipe,\n",
    "    rf_params,\n",
    "    cv=tscv,\n",
    "    scoring='neg_root_mean_squared_error',\n",
    "    n_jobs=-1\n",
    ")\n",
    "\n",
    "rf_search.fit(X_train, y_train)\n",
    "print('Параметры модели:', rf_search.best_params_)\n",
    "print('RMSE модели:', -rf_search.best_score_)"
   ]
  },
  {
   "cell_type": "markdown",
   "metadata": {},
   "source": [
    "Неплохой результат"
   ]
  },
  {
   "cell_type": "markdown",
   "metadata": {},
   "source": [
    "Теперь посмотрим, как градиентные бустинги справятся с предсказанием. Начнём с LGBM"
   ]
  },
  {
   "cell_type": "code",
   "execution_count": 24,
   "metadata": {},
   "outputs": [],
   "source": [
    "lgbm_pipe = Pipeline([\n",
    "    ('preprocessor', data_preprocessor1),\n",
    "    ('lgbm', LGBMRegressor(random_state=RANDOM_STATE, n_estimators=10))\n",
    "])\n",
    "\n",
    "lgbm_params = {\n",
    "    'lgbm__learning_rate': [0.01, 0.1],\n",
    "    'lgbm__max_depth':range(4, 9, 2)\n",
    "\n",
    "}"
   ]
  },
  {
   "cell_type": "code",
   "execution_count": 25,
   "metadata": {},
   "outputs": [
    {
     "name": "stdout",
     "output_type": "stream",
     "text": [
      "Параметры модели: {'lgbm__learning_rate': 0.1, 'lgbm__max_depth': 8}\n",
      "RMSE модели: 29.502660776134938\n"
     ]
    }
   ],
   "source": [
    "lgbm_search = GridSearchCV(\n",
    "    lgbm_pipe,\n",
    "    lgbm_params,\n",
    "    cv=tscv,\n",
    "    scoring='neg_root_mean_squared_error',\n",
    "    n_jobs=-1\n",
    ")\n",
    "\n",
    "lgbm_search.fit(X_train, y_train)\n",
    "print('Параметры модели:', lgbm_search.best_params_)\n",
    "print('RMSE модели:', -lgbm_search.best_score_)"
   ]
  },
  {
   "cell_type": "markdown",
   "metadata": {},
   "source": [
    "Пришло время для CatBoost показать себя"
   ]
  },
  {
   "cell_type": "code",
   "execution_count": 26,
   "metadata": {},
   "outputs": [],
   "source": [
    "catboost_pipe = Pipeline([\n",
    "    ('preprocessor', data_preprocessor1),\n",
    "    ('catboost', CatBoostRegressor(random_state=RANDOM_STATE,\n",
    "                                   n_estimators=300,\n",
    "                                   verbose=0)\n",
    "    )\n",
    "])\n",
    "\n",
    "cat_feature_indices_after_transform = list(range(len(num_cols), len(num_cols) + len(ord_cols)))\n",
    "\n",
    "for col in ord_cols:\n",
    "    X_train[col] = X_train[col].astype(str)\n",
    "    X_test[col] = X_test[col].astype(str)\n",
    "    \n",
    "catboost_params = {\n",
    "    'catboost__learning_rate': [0.01, 0.1],\n",
    "    'catboost__max_depth':range(4, 9, 2)\n",
    "\n",
    "}  "
   ]
  },
  {
   "cell_type": "code",
   "execution_count": null,
   "metadata": {},
   "outputs": [],
   "source": [
    "catboost_search = GridSearchCV(\n",
    "    catboost_pipe,\n",
    "    catboost_params,\n",
    "    cv=tscv,\n",
    "    scoring='neg_root_mean_squared_error',\n",
    "    n_jobs=-1\n",
    ")\n",
    "\n",
    "\n",
    "catboost_search.fit(X_train, y_train, catboost__cat_features=cat_feature_indices_after_transform)\n",
    "print('Параметры модели:', catboost_search.best_params_)\n",
    "print('RMSE модели:', -catboost_search.best_score_)"
   ]
  },
  {
   "cell_type": "markdown",
   "metadata": {},
   "source": [
    "СatBoost показал себя лучше всех"
   ]
  },
  {
   "cell_type": "markdown",
   "metadata": {},
   "source": [
    "**В результате**, получается, что лучшая модель - СatBoost"
   ]
  },
  {
   "cell_type": "markdown",
   "metadata": {},
   "source": [
    "## Тестирование"
   ]
  },
  {
   "cell_type": "markdown",
   "metadata": {},
   "source": [
    "Посмотрим, как лучшая модель покажет себя на тестовых данных"
   ]
  },
  {
   "cell_type": "code",
   "execution_count": null,
   "metadata": {},
   "outputs": [],
   "source": [
    "y_pred = catboost_search.predict(X_test)\n",
    "print('RMSE лучшей модели:', np.sqrt(mean_squared_error(y_test, y_pred)))\n",
    "print('Параметры лучшей модели:', catboost_search.best_params_)"
   ]
  },
  {
   "cell_type": "markdown",
   "metadata": {},
   "source": [
    "Удивительно большое отклонение от RMSE на тренировочных данных. Видно, тестовые данные также включали в себя большое количество шумов, как и значения после середины августа"
   ]
  },
  {
   "cell_type": "markdown",
   "metadata": {},
   "source": [
    "Построим график, чтобы сравнить предсказания лучшей модели и реальные значения"
   ]
  },
  {
   "cell_type": "code",
   "execution_count": null,
   "metadata": {
    "scrolled": true
   },
   "outputs": [],
   "source": [
    "testing_df = pd.DataFrame({\n",
    "    'Реальные значения': y_test,\n",
    "    'Предсказанное количество заказов': y_pred}\n",
    ")"
   ]
  },
  {
   "cell_type": "code",
   "execution_count": null,
   "metadata": {},
   "outputs": [],
   "source": [
    "plt.figure(figsize=(16, 9))\n",
    "\n",
    "sns.lineplot(data=testing_df, linewidth=2.0, linestyle='-')\n",
    "\n",
    "plt.title('Временной ряд тестовых данных')\n",
    "plt.xlabel('Дата')\n",
    "plt.ylabel('Количество заказов')\n",
    "plt.grid(True)\n",
    "plt.xticks(rotation=45)\n",
    "plt.show();"
   ]
  },
  {
   "cell_type": "markdown",
   "metadata": {},
   "source": [
    "По графику заметно, что модели удается предсказывать нагрузку на сервис - она довольно четко улавливает тренд, но не справляется с предсказанием постоянно появляющихся высоких значений. Этого может быть достаточно для привлечения водителей в периоды пиковой нагрузки. Этого можно было бы избежать, если бы в данных было меньше шума или при большем объёме датасета"
   ]
  },
  {
   "cell_type": "markdown",
   "metadata": {},
   "source": [
    "Проверим модель на адекватность с помощью DummyRegressor"
   ]
  },
  {
   "cell_type": "code",
   "execution_count": null,
   "metadata": {},
   "outputs": [],
   "source": [
    "dummy = DummyRegressor(strategy=\"mean\")\n",
    "dummy.fit(X_train, y_train)\n",
    "\n",
    "y_pred_ = dummy.predict(X_test)\n",
    "print('RMSE тривиальной модели:', np.sqrt(mean_squared_error(y_test, y_pred_)))"
   ]
  },
  {
   "cell_type": "markdown",
   "metadata": {},
   "source": [
    "Наша модель предсказывает в 2 раза точнее среднего значения"
   ]
  },
  {
   "cell_type": "markdown",
   "metadata": {},
   "source": [
    "Таким образом, полученная Сatboost модель в среднем ошибается на 41 заказ. Она обладает параметрами: 'learning_rate': 0.1, 'n_estimators': 300, 'max_depth': 6."
   ]
  },
  {
   "cell_type": "markdown",
   "metadata": {},
   "source": [
    "## Обший вывод"
   ]
  },
  {
   "cell_type": "markdown",
   "metadata": {},
   "source": [
    "**В ходе работы:**\n",
    "\n",
    "- Загруженные данные были ресемплированы по часам\n",
    "- Был проанализирован временной ряд\n",
    "    - Был обнаружен тренд на повышение количества заказов\n",
    "    - Было определено время пиковой нагрузки(ночью, в 16 и 17 часов)\n",
    "    - В ходе анализа остатков была замечено большое количество шумов к концу периода\n",
    "    - Была подтверждена стационарность данных\n",
    "    \n",
    "- Были созданы новые признаки на основе данных \n",
    "- Было обучено 3 регрессионные модели, среди которых лучшей оказалась модель CatBoostRegressor('learning_rate': 0.1, 'n_estimators': 300, 'max_depth': 6) Её ошибка предсказания составляет в среднем 41 заказа"
   ]
  },
  {
   "cell_type": "code",
   "execution_count": null,
   "metadata": {},
   "outputs": [],
   "source": []
  }
 ],
 "metadata": {
  "ExecuteTimeLog": [
   {
    "duration": 48,
    "start_time": "2025-04-26T16:04:44.500Z"
   },
   {
    "duration": 380,
    "start_time": "2025-04-26T16:05:11.976Z"
   },
   {
    "duration": 34,
    "start_time": "2025-04-26T16:05:15.013Z"
   },
   {
    "duration": 13,
    "start_time": "2025-04-26T16:05:23.067Z"
   },
   {
    "duration": 34,
    "start_time": "2025-04-26T16:05:37.875Z"
   },
   {
    "duration": 7,
    "start_time": "2025-04-26T16:05:39.684Z"
   },
   {
    "duration": 12,
    "start_time": "2025-04-26T16:05:48.484Z"
   },
   {
    "duration": 40,
    "start_time": "2025-04-26T16:10:32.753Z"
   },
   {
    "duration": 55,
    "start_time": "2025-04-26T16:12:12.422Z"
   },
   {
    "duration": 7,
    "start_time": "2025-04-26T16:12:14.062Z"
   },
   {
    "duration": 9,
    "start_time": "2025-04-26T16:12:16.923Z"
   },
   {
    "duration": 39,
    "start_time": "2025-04-26T16:12:35.453Z"
   },
   {
    "duration": 32,
    "start_time": "2025-04-26T16:12:57.339Z"
   },
   {
    "duration": 7,
    "start_time": "2025-04-26T16:12:58.855Z"
   },
   {
    "duration": 3,
    "start_time": "2025-04-26T16:13:28.806Z"
   },
   {
    "duration": 8,
    "start_time": "2025-04-26T16:13:41.346Z"
   },
   {
    "duration": 8,
    "start_time": "2025-04-26T16:13:51.310Z"
   },
   {
    "duration": 8,
    "start_time": "2025-04-26T16:13:53.476Z"
   },
   {
    "duration": 4,
    "start_time": "2025-04-26T16:14:10.348Z"
   },
   {
    "duration": 8,
    "start_time": "2025-04-26T16:15:21.168Z"
   },
   {
    "duration": 396,
    "start_time": "2025-04-26T16:15:53.056Z"
   },
   {
    "duration": 50,
    "start_time": "2025-04-26T16:15:53.454Z"
   },
   {
    "duration": 13,
    "start_time": "2025-04-26T16:15:53.505Z"
   },
   {
    "duration": 18,
    "start_time": "2025-04-26T16:15:53.519Z"
   },
   {
    "duration": 5,
    "start_time": "2025-04-26T16:15:53.539Z"
   },
   {
    "duration": 63,
    "start_time": "2025-04-26T16:15:53.545Z"
   },
   {
    "duration": 9,
    "start_time": "2025-04-26T16:16:32.930Z"
   },
   {
    "duration": 15,
    "start_time": "2025-04-26T16:16:42.849Z"
   },
   {
    "duration": 446,
    "start_time": "2025-04-28T08:16:33.231Z"
   },
   {
    "duration": 51,
    "start_time": "2025-04-28T08:16:33.679Z"
   },
   {
    "duration": 15,
    "start_time": "2025-04-28T08:16:33.732Z"
   },
   {
    "duration": 45,
    "start_time": "2025-04-28T08:16:33.748Z"
   },
   {
    "duration": 204,
    "start_time": "2025-04-28T08:16:33.796Z"
   },
   {
    "duration": 62,
    "start_time": "2025-04-28T08:16:34.002Z"
   },
   {
    "duration": 5,
    "start_time": "2025-04-28T08:18:06.949Z"
   },
   {
    "duration": 7,
    "start_time": "2025-04-28T08:18:26.586Z"
   },
   {
    "duration": 7,
    "start_time": "2025-04-28T08:18:38.547Z"
   },
   {
    "duration": 4,
    "start_time": "2025-04-28T08:19:09.908Z"
   },
   {
    "duration": 16,
    "start_time": "2025-04-28T08:20:05.069Z"
   },
   {
    "duration": 40,
    "start_time": "2025-04-28T08:21:25.784Z"
   },
   {
    "duration": 18,
    "start_time": "2025-04-28T08:21:26.825Z"
   },
   {
    "duration": 9,
    "start_time": "2025-04-28T08:21:38.172Z"
   },
   {
    "duration": 37,
    "start_time": "2025-04-28T08:21:47.287Z"
   },
   {
    "duration": 16,
    "start_time": "2025-04-28T08:21:48.066Z"
   },
   {
    "duration": 9,
    "start_time": "2025-04-28T08:23:02.176Z"
   },
   {
    "duration": 12043,
    "start_time": "2025-04-28T08:26:16.407Z"
   },
   {
    "duration": 8,
    "start_time": "2025-04-28T08:26:30.341Z"
   },
   {
    "duration": 236,
    "start_time": "2025-04-28T08:26:31.844Z"
   },
   {
    "duration": 6,
    "start_time": "2025-04-28T08:27:33.027Z"
   },
   {
    "duration": 264,
    "start_time": "2025-04-28T08:27:34.614Z"
   },
   {
    "duration": 6,
    "start_time": "2025-04-28T08:27:52.642Z"
   },
   {
    "duration": 262,
    "start_time": "2025-04-28T08:27:53.688Z"
   },
   {
    "duration": 398,
    "start_time": "2025-04-28T08:27:59.396Z"
   },
   {
    "duration": 40,
    "start_time": "2025-04-28T08:27:59.796Z"
   },
   {
    "duration": 29,
    "start_time": "2025-04-28T08:27:59.837Z"
   },
   {
    "duration": 10,
    "start_time": "2025-04-28T08:27:59.868Z"
   },
   {
    "duration": 195,
    "start_time": "2025-04-28T08:27:59.880Z"
   },
   {
    "duration": 891,
    "start_time": "2025-04-28T08:28:00.077Z"
   },
   {
    "duration": 10,
    "start_time": "2025-04-28T08:28:00.970Z"
   },
   {
    "duration": 77,
    "start_time": "2025-04-28T08:29:32.596Z"
   },
   {
    "duration": 590,
    "start_time": "2025-04-28T08:29:56.532Z"
   },
   {
    "duration": 608,
    "start_time": "2025-04-28T08:30:00.446Z"
   },
   {
    "duration": 12,
    "start_time": "2025-04-28T08:30:10.506Z"
   },
   {
    "duration": 7,
    "start_time": "2025-04-28T08:30:15.734Z"
   },
   {
    "duration": 10,
    "start_time": "2025-04-28T08:30:18.201Z"
   },
   {
    "duration": 6,
    "start_time": "2025-04-28T08:30:19.540Z"
   },
   {
    "duration": 12,
    "start_time": "2025-04-28T08:30:20.480Z"
   },
   {
    "duration": 593,
    "start_time": "2025-04-28T08:30:36.396Z"
   },
   {
    "duration": 763,
    "start_time": "2025-04-28T08:30:55.295Z"
   },
   {
    "duration": 5,
    "start_time": "2025-04-28T08:31:06.369Z"
   },
   {
    "duration": 12,
    "start_time": "2025-04-28T08:31:08.106Z"
   },
   {
    "duration": 666,
    "start_time": "2025-04-28T08:31:09.779Z"
   },
   {
    "duration": 6,
    "start_time": "2025-04-28T08:32:53.851Z"
   },
   {
    "duration": 713,
    "start_time": "2025-04-28T08:32:55.930Z"
   },
   {
    "duration": 7,
    "start_time": "2025-04-28T08:36:59.247Z"
   },
   {
    "duration": 5,
    "start_time": "2025-04-28T08:37:09.419Z"
   },
   {
    "duration": 716,
    "start_time": "2025-04-28T08:37:10.958Z"
   },
   {
    "duration": 5,
    "start_time": "2025-04-28T08:38:41.538Z"
   },
   {
    "duration": 735,
    "start_time": "2025-04-28T08:38:42.216Z"
   },
   {
    "duration": 583,
    "start_time": "2025-04-28T08:40:43.932Z"
   },
   {
    "duration": 505,
    "start_time": "2025-04-28T08:40:50.202Z"
   },
   {
    "duration": 694,
    "start_time": "2025-04-28T08:41:50.769Z"
   },
   {
    "duration": 32,
    "start_time": "2025-04-28T08:46:56.029Z"
   },
   {
    "duration": 49,
    "start_time": "2025-04-28T08:48:19.000Z"
   },
   {
    "duration": 43,
    "start_time": "2025-04-28T08:48:29.838Z"
   },
   {
    "duration": 14,
    "start_time": "2025-04-28T08:49:01.056Z"
   },
   {
    "duration": 491,
    "start_time": "2025-04-28T08:50:34.756Z"
   },
   {
    "duration": 299,
    "start_time": "2025-04-28T08:50:47.556Z"
   },
   {
    "duration": 1004,
    "start_time": "2025-04-28T08:51:04.505Z"
   },
   {
    "duration": 1428,
    "start_time": "2025-04-28T10:42:40.041Z"
   },
   {
    "duration": 53,
    "start_time": "2025-04-28T10:42:41.471Z"
   },
   {
    "duration": 22,
    "start_time": "2025-04-28T10:42:41.526Z"
   },
   {
    "duration": 10,
    "start_time": "2025-04-28T10:42:41.550Z"
   },
   {
    "duration": 10,
    "start_time": "2025-04-28T10:42:41.562Z"
   },
   {
    "duration": 746,
    "start_time": "2025-04-28T10:42:41.574Z"
   },
   {
    "duration": 12,
    "start_time": "2025-04-28T10:42:42.322Z"
   },
   {
    "duration": 795,
    "start_time": "2025-04-28T10:42:42.336Z"
   },
   {
    "duration": 8,
    "start_time": "2025-04-28T10:42:43.135Z"
   },
   {
    "duration": 604,
    "start_time": "2025-04-28T10:46:16.459Z"
   },
   {
    "duration": 351,
    "start_time": "2025-04-28T10:48:23.301Z"
   },
   {
    "duration": 622,
    "start_time": "2025-04-28T10:49:23.704Z"
   },
   {
    "duration": 589,
    "start_time": "2025-04-28T10:49:35.122Z"
   },
   {
    "duration": 645,
    "start_time": "2025-04-28T10:50:30.140Z"
   },
   {
    "duration": 387,
    "start_time": "2025-04-28T10:51:17.006Z"
   },
   {
    "duration": 5,
    "start_time": "2025-04-28T10:53:00.585Z"
   },
   {
    "duration": 174,
    "start_time": "2025-04-28T10:53:07.797Z"
   },
   {
    "duration": 14,
    "start_time": "2025-04-28T10:53:28.787Z"
   },
   {
    "duration": 1030,
    "start_time": "2025-04-28T10:53:39.254Z"
   },
   {
    "duration": 668,
    "start_time": "2025-04-28T10:55:07.025Z"
   },
   {
    "duration": 388,
    "start_time": "2025-04-28T10:56:14.559Z"
   },
   {
    "duration": 660,
    "start_time": "2025-04-28T10:58:30.216Z"
   },
   {
    "duration": 667,
    "start_time": "2025-04-28T11:00:30.235Z"
   },
   {
    "duration": 410,
    "start_time": "2025-04-28T11:00:39.511Z"
   },
   {
    "duration": 1224,
    "start_time": "2025-04-28T11:00:46.948Z"
   },
   {
    "duration": 39,
    "start_time": "2025-04-28T11:00:48.174Z"
   },
   {
    "duration": 22,
    "start_time": "2025-04-28T11:00:48.215Z"
   },
   {
    "duration": 10,
    "start_time": "2025-04-28T11:00:48.239Z"
   },
   {
    "duration": 6,
    "start_time": "2025-04-28T11:00:48.252Z"
   },
   {
    "duration": 764,
    "start_time": "2025-04-28T11:00:48.260Z"
   },
   {
    "duration": 380,
    "start_time": "2025-04-28T11:00:49.026Z"
   },
   {
    "duration": 12,
    "start_time": "2025-04-28T11:00:49.408Z"
   },
   {
    "duration": 738,
    "start_time": "2025-04-28T11:00:49.434Z"
   },
   {
    "duration": 8,
    "start_time": "2025-04-28T11:00:50.174Z"
   },
   {
    "duration": 92,
    "start_time": "2025-04-28T11:01:25.272Z"
   },
   {
    "duration": 412,
    "start_time": "2025-04-28T11:01:32.412Z"
   },
   {
    "duration": 393,
    "start_time": "2025-04-28T11:02:03.608Z"
   },
   {
    "duration": 563,
    "start_time": "2025-04-28T11:03:54.853Z"
   },
   {
    "duration": 5,
    "start_time": "2025-04-28T11:04:53.904Z"
   },
   {
    "duration": 662,
    "start_time": "2025-04-28T11:04:54.800Z"
   },
   {
    "duration": 5,
    "start_time": "2025-04-28T11:05:17.885Z"
   },
   {
    "duration": 671,
    "start_time": "2025-04-28T11:05:18.880Z"
   },
   {
    "duration": 906,
    "start_time": "2025-04-28T11:08:42.345Z"
   },
   {
    "duration": 998,
    "start_time": "2025-04-28T11:09:06.484Z"
   },
   {
    "duration": 938,
    "start_time": "2025-04-28T11:09:13.661Z"
   },
   {
    "duration": 109,
    "start_time": "2025-04-28T11:10:28.927Z"
   },
   {
    "duration": 990,
    "start_time": "2025-04-28T11:11:24.879Z"
   },
   {
    "duration": 929,
    "start_time": "2025-04-28T11:13:42.898Z"
   },
   {
    "duration": 1079,
    "start_time": "2025-04-28T11:13:50.547Z"
   },
   {
    "duration": 900,
    "start_time": "2025-04-28T11:13:56.813Z"
   },
   {
    "duration": 948,
    "start_time": "2025-04-28T11:16:03.787Z"
   },
   {
    "duration": 872,
    "start_time": "2025-04-28T11:16:18.768Z"
   },
   {
    "duration": 857,
    "start_time": "2025-04-28T11:18:38.558Z"
   },
   {
    "duration": 10,
    "start_time": "2025-04-28T11:18:50.177Z"
   },
   {
    "duration": 11,
    "start_time": "2025-04-28T11:19:01.236Z"
   },
   {
    "duration": 918,
    "start_time": "2025-04-28T11:19:30.422Z"
   },
   {
    "duration": 925,
    "start_time": "2025-04-28T11:20:21.241Z"
   },
   {
    "duration": 859,
    "start_time": "2025-04-28T11:20:31.521Z"
   },
   {
    "duration": 646,
    "start_time": "2025-04-28T11:21:46.296Z"
   },
   {
    "duration": 599,
    "start_time": "2025-04-28T11:22:10.166Z"
   },
   {
    "duration": 639,
    "start_time": "2025-04-28T11:22:14.924Z"
   },
   {
    "duration": 745,
    "start_time": "2025-04-28T11:22:23.410Z"
   },
   {
    "duration": 592,
    "start_time": "2025-04-28T11:24:24.178Z"
   },
   {
    "duration": 664,
    "start_time": "2025-04-28T11:25:41.563Z"
   },
   {
    "duration": 127,
    "start_time": "2025-04-28T11:33:25.620Z"
   },
   {
    "duration": 762,
    "start_time": "2025-04-28T11:35:25.156Z"
   },
   {
    "duration": 744,
    "start_time": "2025-04-28T11:36:05.222Z"
   },
   {
    "duration": 783,
    "start_time": "2025-04-28T11:36:13.435Z"
   },
   {
    "duration": 666,
    "start_time": "2025-04-28T11:36:26.557Z"
   },
   {
    "duration": 774,
    "start_time": "2025-04-28T11:36:45.173Z"
   },
   {
    "duration": 797,
    "start_time": "2025-04-28T11:36:52.510Z"
   },
   {
    "duration": 610,
    "start_time": "2025-04-28T11:37:04.687Z"
   },
   {
    "duration": 530,
    "start_time": "2025-04-28T11:37:39.812Z"
   },
   {
    "duration": 746,
    "start_time": "2025-04-28T11:38:17.944Z"
   },
   {
    "duration": 744,
    "start_time": "2025-04-28T11:38:42.064Z"
   },
   {
    "duration": 787,
    "start_time": "2025-04-28T11:39:41.343Z"
   },
   {
    "duration": 798,
    "start_time": "2025-04-28T11:40:33.504Z"
   },
   {
    "duration": 730,
    "start_time": "2025-04-28T11:40:38.657Z"
   },
   {
    "duration": 724,
    "start_time": "2025-04-28T11:40:44.833Z"
   },
   {
    "duration": 756,
    "start_time": "2025-04-28T11:40:50.224Z"
   },
   {
    "duration": 769,
    "start_time": "2025-04-28T11:40:56.705Z"
   },
   {
    "duration": 723,
    "start_time": "2025-04-28T11:44:43.104Z"
   },
   {
    "duration": 8,
    "start_time": "2025-04-28T11:51:22.616Z"
   },
   {
    "duration": 8,
    "start_time": "2025-04-28T11:54:22.121Z"
   },
   {
    "duration": 7,
    "start_time": "2025-04-28T11:54:26.856Z"
   },
   {
    "duration": 15,
    "start_time": "2025-04-28T11:55:02.075Z"
   },
   {
    "duration": 665,
    "start_time": "2025-04-28T11:55:12.974Z"
   },
   {
    "duration": 13,
    "start_time": "2025-04-28T11:55:21.864Z"
   },
   {
    "duration": 14,
    "start_time": "2025-04-28T11:56:11.861Z"
   },
   {
    "duration": 8,
    "start_time": "2025-04-28T11:56:15.789Z"
   },
   {
    "duration": 8,
    "start_time": "2025-04-28T11:57:53.037Z"
   },
   {
    "duration": 14,
    "start_time": "2025-04-28T11:58:05.833Z"
   },
   {
    "duration": 13,
    "start_time": "2025-04-28T11:58:06.762Z"
   },
   {
    "duration": 15,
    "start_time": "2025-04-28T11:58:18.938Z"
   },
   {
    "duration": 694,
    "start_time": "2025-04-28T11:58:33.836Z"
   },
   {
    "duration": 615,
    "start_time": "2025-04-28T11:58:45.360Z"
   },
   {
    "duration": 185,
    "start_time": "2025-04-28T12:01:13.358Z"
   },
   {
    "duration": 601,
    "start_time": "2025-04-28T12:01:34.781Z"
   },
   {
    "duration": 194,
    "start_time": "2025-04-28T12:01:40.168Z"
   },
   {
    "duration": 8,
    "start_time": "2025-04-28T12:03:06.189Z"
   },
   {
    "duration": 191,
    "start_time": "2025-04-28T12:03:46.748Z"
   },
   {
    "duration": 204,
    "start_time": "2025-04-28T12:07:42.525Z"
   },
   {
    "duration": 181,
    "start_time": "2025-04-28T12:07:49.703Z"
   },
   {
    "duration": 7,
    "start_time": "2025-04-28T12:08:30.784Z"
   },
   {
    "duration": 174,
    "start_time": "2025-04-28T12:08:39.465Z"
   },
   {
    "duration": 299,
    "start_time": "2025-04-28T12:09:35.389Z"
   },
   {
    "duration": 280,
    "start_time": "2025-04-28T12:09:43.546Z"
   },
   {
    "duration": 16,
    "start_time": "2025-04-28T12:11:42.222Z"
   },
   {
    "duration": 14,
    "start_time": "2025-04-28T12:11:51.138Z"
   },
   {
    "duration": 203,
    "start_time": "2025-04-28T12:12:19.218Z"
   },
   {
    "duration": 211,
    "start_time": "2025-04-28T12:12:31.787Z"
   },
   {
    "duration": 8,
    "start_time": "2025-04-28T12:15:25.586Z"
   },
   {
    "duration": 7,
    "start_time": "2025-04-28T12:17:17.852Z"
   },
   {
    "duration": 6,
    "start_time": "2025-04-28T12:17:28.692Z"
   },
   {
    "duration": 15,
    "start_time": "2025-04-28T12:17:43.304Z"
   },
   {
    "duration": 10,
    "start_time": "2025-04-28T12:18:04.061Z"
   },
   {
    "duration": 5,
    "start_time": "2025-04-28T12:19:05.795Z"
   },
   {
    "duration": 7,
    "start_time": "2025-04-28T12:19:09.721Z"
   },
   {
    "duration": 6,
    "start_time": "2025-04-28T12:19:16.204Z"
   },
   {
    "duration": 179,
    "start_time": "2025-04-28T12:19:31.764Z"
   },
   {
    "duration": 167,
    "start_time": "2025-04-28T12:19:45.443Z"
   },
   {
    "duration": 5,
    "start_time": "2025-04-28T12:19:53.846Z"
   },
   {
    "duration": 176,
    "start_time": "2025-04-28T12:20:02.781Z"
   },
   {
    "duration": 5,
    "start_time": "2025-04-28T12:20:27.045Z"
   },
   {
    "duration": 13,
    "start_time": "2025-04-28T12:28:35.399Z"
   },
   {
    "duration": 5,
    "start_time": "2025-04-28T12:29:31.068Z"
   },
   {
    "duration": 1360,
    "start_time": "2025-04-28T12:33:38.607Z"
   },
   {
    "duration": 1651,
    "start_time": "2025-04-28T12:33:49.485Z"
   },
   {
    "duration": 384,
    "start_time": "2025-04-28T12:40:54.276Z"
   },
   {
    "duration": 388,
    "start_time": "2025-04-28T12:41:27.466Z"
   },
   {
    "duration": 387,
    "start_time": "2025-04-28T12:44:28.432Z"
   },
   {
    "duration": 1720,
    "start_time": "2025-04-28T12:46:05.419Z"
   },
   {
    "duration": 1776,
    "start_time": "2025-04-28T12:46:21.961Z"
   },
   {
    "duration": 108,
    "start_time": "2025-04-28T12:48:57.144Z"
   },
   {
    "duration": 110,
    "start_time": "2025-04-28T13:33:52.334Z"
   },
   {
    "duration": 1197,
    "start_time": "2025-04-28T14:17:09.873Z"
   },
   {
    "duration": 49,
    "start_time": "2025-04-28T14:17:11.072Z"
   },
   {
    "duration": 17,
    "start_time": "2025-04-28T14:17:11.123Z"
   },
   {
    "duration": 8,
    "start_time": "2025-04-28T14:17:11.141Z"
   },
   {
    "duration": 5,
    "start_time": "2025-04-28T14:17:11.151Z"
   },
   {
    "duration": 743,
    "start_time": "2025-04-28T14:17:11.157Z"
   },
   {
    "duration": 205,
    "start_time": "2025-04-28T14:17:11.902Z"
   },
   {
    "duration": 5,
    "start_time": "2025-04-28T14:17:12.109Z"
   },
   {
    "duration": 193,
    "start_time": "2025-04-28T14:17:12.115Z"
   },
   {
    "duration": 486,
    "start_time": "2025-04-28T14:17:12.310Z"
   },
   {
    "duration": 107,
    "start_time": "2025-04-28T14:17:12.797Z"
   },
   {
    "duration": 0,
    "start_time": "2025-04-28T14:17:12.905Z"
   },
   {
    "duration": 26,
    "start_time": "2025-04-28T14:17:34.625Z"
   },
   {
    "duration": 1843,
    "start_time": "2025-04-28T14:17:41.098Z"
   },
   {
    "duration": 112,
    "start_time": "2025-04-28T14:19:10.596Z"
   },
   {
    "duration": 1328,
    "start_time": "2025-04-28T14:21:32.984Z"
   },
   {
    "duration": 1223,
    "start_time": "2025-04-28T14:25:13.071Z"
   },
   {
    "duration": 48,
    "start_time": "2025-04-28T14:25:14.296Z"
   },
   {
    "duration": 16,
    "start_time": "2025-04-28T14:25:14.346Z"
   },
   {
    "duration": 8,
    "start_time": "2025-04-28T14:25:14.364Z"
   },
   {
    "duration": 6,
    "start_time": "2025-04-28T14:25:14.374Z"
   },
   {
    "duration": 1099,
    "start_time": "2025-04-28T14:25:14.381Z"
   },
   {
    "duration": 251,
    "start_time": "2025-04-28T14:25:15.482Z"
   },
   {
    "duration": 5,
    "start_time": "2025-04-28T14:25:15.734Z"
   },
   {
    "duration": 177,
    "start_time": "2025-04-28T14:25:15.740Z"
   },
   {
    "duration": 409,
    "start_time": "2025-04-28T14:25:15.918Z"
   },
   {
    "duration": 2402,
    "start_time": "2025-04-28T14:25:16.335Z"
   },
   {
    "duration": 1166,
    "start_time": "2025-04-28T14:25:24.048Z"
   },
   {
    "duration": 40,
    "start_time": "2025-04-28T14:25:25.216Z"
   },
   {
    "duration": 17,
    "start_time": "2025-04-28T14:25:25.257Z"
   },
   {
    "duration": 8,
    "start_time": "2025-04-28T14:25:25.276Z"
   },
   {
    "duration": 778,
    "start_time": "2025-04-28T14:25:25.286Z"
   },
   {
    "duration": 195,
    "start_time": "2025-04-28T14:25:26.065Z"
   },
   {
    "duration": 5,
    "start_time": "2025-04-28T14:25:26.262Z"
   },
   {
    "duration": 190,
    "start_time": "2025-04-28T14:25:26.269Z"
   },
   {
    "duration": 499,
    "start_time": "2025-04-28T14:25:26.461Z"
   },
   {
    "duration": 2275,
    "start_time": "2025-04-28T14:25:26.962Z"
   },
   {
    "duration": 356,
    "start_time": "2025-04-28T14:26:32.266Z"
   },
   {
    "duration": 1281,
    "start_time": "2025-04-28T14:26:42.809Z"
   },
   {
    "duration": 51,
    "start_time": "2025-04-28T14:26:44.092Z"
   },
   {
    "duration": 20,
    "start_time": "2025-04-28T14:26:44.145Z"
   },
   {
    "duration": 9,
    "start_time": "2025-04-28T14:26:44.167Z"
   },
   {
    "duration": 375,
    "start_time": "2025-04-28T14:26:44.179Z"
   },
   {
    "duration": 190,
    "start_time": "2025-04-28T14:26:44.556Z"
   },
   {
    "duration": 6,
    "start_time": "2025-04-28T14:26:44.748Z"
   },
   {
    "duration": 180,
    "start_time": "2025-04-28T14:26:44.755Z"
   },
   {
    "duration": 475,
    "start_time": "2025-04-28T14:26:44.937Z"
   },
   {
    "duration": 2423,
    "start_time": "2025-04-28T14:26:45.413Z"
   },
   {
    "duration": 331,
    "start_time": "2025-04-28T14:27:18.258Z"
   },
   {
    "duration": 340,
    "start_time": "2025-04-28T14:27:51.241Z"
   },
   {
    "duration": 361,
    "start_time": "2025-04-28T14:27:56.833Z"
   },
   {
    "duration": 442,
    "start_time": "2025-04-28T14:28:21.082Z"
   },
   {
    "duration": 1157,
    "start_time": "2025-04-28T14:28:37.357Z"
   },
   {
    "duration": 39,
    "start_time": "2025-04-28T14:28:38.516Z"
   },
   {
    "duration": 17,
    "start_time": "2025-04-28T14:28:38.557Z"
   },
   {
    "duration": 8,
    "start_time": "2025-04-28T14:28:38.575Z"
   },
   {
    "duration": 366,
    "start_time": "2025-04-28T14:28:38.585Z"
   },
   {
    "duration": 199,
    "start_time": "2025-04-28T14:28:38.953Z"
   },
   {
    "duration": 6,
    "start_time": "2025-04-28T14:28:39.154Z"
   },
   {
    "duration": 183,
    "start_time": "2025-04-28T14:28:39.161Z"
   },
   {
    "duration": 491,
    "start_time": "2025-04-28T14:28:39.345Z"
   },
   {
    "duration": 2600,
    "start_time": "2025-04-28T14:28:39.841Z"
   },
   {
    "duration": 704,
    "start_time": "2025-04-28T14:28:57.878Z"
   },
   {
    "duration": 1230,
    "start_time": "2025-04-28T14:29:04.780Z"
   },
   {
    "duration": 39,
    "start_time": "2025-04-28T14:29:06.012Z"
   },
   {
    "duration": 50,
    "start_time": "2025-04-28T14:29:06.052Z"
   },
   {
    "duration": 9,
    "start_time": "2025-04-28T14:29:06.104Z"
   },
   {
    "duration": 605,
    "start_time": "2025-04-28T14:29:06.115Z"
   },
   {
    "duration": 207,
    "start_time": "2025-04-28T14:29:06.721Z"
   },
   {
    "duration": 10,
    "start_time": "2025-04-28T14:29:06.930Z"
   },
   {
    "duration": 189,
    "start_time": "2025-04-28T14:29:06.942Z"
   },
   {
    "duration": 507,
    "start_time": "2025-04-28T14:29:07.135Z"
   },
   {
    "duration": 2602,
    "start_time": "2025-04-28T14:29:07.643Z"
   },
   {
    "duration": 1187,
    "start_time": "2025-04-28T14:29:16.693Z"
   },
   {
    "duration": 38,
    "start_time": "2025-04-28T14:29:17.882Z"
   },
   {
    "duration": 20,
    "start_time": "2025-04-28T14:29:17.922Z"
   },
   {
    "duration": 8,
    "start_time": "2025-04-28T14:29:17.943Z"
   },
   {
    "duration": 138,
    "start_time": "2025-04-28T14:29:17.952Z"
   },
   {
    "duration": 1388,
    "start_time": "2025-04-28T14:29:18.092Z"
   },
   {
    "duration": 203,
    "start_time": "2025-04-28T14:29:19.481Z"
   },
   {
    "duration": 5,
    "start_time": "2025-04-28T14:29:19.686Z"
   },
   {
    "duration": 195,
    "start_time": "2025-04-28T14:29:19.692Z"
   },
   {
    "duration": 468,
    "start_time": "2025-04-28T14:29:19.888Z"
   },
   {
    "duration": 1886,
    "start_time": "2025-04-28T14:29:20.358Z"
   },
   {
    "duration": 4,
    "start_time": "2025-04-28T14:31:56.510Z"
   },
   {
    "duration": 1368,
    "start_time": "2025-04-28T14:32:38.136Z"
   },
   {
    "duration": 4,
    "start_time": "2025-04-28T14:32:50.688Z"
   },
   {
    "duration": 9,
    "start_time": "2025-04-28T14:32:51.680Z"
   },
   {
    "duration": 9,
    "start_time": "2025-04-28T14:32:59.620Z"
   },
   {
    "duration": 23,
    "start_time": "2025-04-28T14:33:16.340Z"
   },
   {
    "duration": 14,
    "start_time": "2025-04-28T14:35:35.422Z"
   },
   {
    "duration": 1211,
    "start_time": "2025-04-28T14:36:53.675Z"
   },
   {
    "duration": 39,
    "start_time": "2025-04-28T14:36:54.888Z"
   },
   {
    "duration": 18,
    "start_time": "2025-04-28T14:36:54.928Z"
   },
   {
    "duration": 8,
    "start_time": "2025-04-28T14:36:54.947Z"
   },
   {
    "duration": 6,
    "start_time": "2025-04-28T14:36:54.957Z"
   },
   {
    "duration": 772,
    "start_time": "2025-04-28T14:36:54.964Z"
   },
   {
    "duration": 219,
    "start_time": "2025-04-28T14:36:55.738Z"
   },
   {
    "duration": 7,
    "start_time": "2025-04-28T14:36:55.959Z"
   },
   {
    "duration": 247,
    "start_time": "2025-04-28T14:36:55.967Z"
   },
   {
    "duration": 502,
    "start_time": "2025-04-28T14:36:56.216Z"
   },
   {
    "duration": 1620,
    "start_time": "2025-04-28T14:36:56.719Z"
   },
   {
    "duration": 94,
    "start_time": "2025-04-28T14:36:58.342Z"
   },
   {
    "duration": 20,
    "start_time": "2025-04-28T14:36:58.438Z"
   },
   {
    "duration": 12,
    "start_time": "2025-04-28T14:36:58.460Z"
   },
   {
    "duration": 13,
    "start_time": "2025-04-28T14:36:58.473Z"
   },
   {
    "duration": 23,
    "start_time": "2025-04-28T14:37:11.183Z"
   },
   {
    "duration": 8,
    "start_time": "2025-04-28T14:37:26.009Z"
   },
   {
    "duration": 4,
    "start_time": "2025-04-28T14:39:13.423Z"
   },
   {
    "duration": 1440,
    "start_time": "2025-04-28T14:39:14.447Z"
   },
   {
    "duration": 4,
    "start_time": "2025-04-28T14:39:21.459Z"
   },
   {
    "duration": 20,
    "start_time": "2025-04-28T14:39:23.515Z"
   },
   {
    "duration": 10,
    "start_time": "2025-04-28T14:39:41.657Z"
   },
   {
    "duration": 4,
    "start_time": "2025-04-28T14:39:43.792Z"
   },
   {
    "duration": 24,
    "start_time": "2025-04-28T14:39:44.575Z"
   },
   {
    "duration": 25,
    "start_time": "2025-04-28T14:39:52.592Z"
   },
   {
    "duration": 12,
    "start_time": "2025-04-28T14:41:58.075Z"
   },
   {
    "duration": 240,
    "start_time": "2025-04-28T14:42:26.153Z"
   },
   {
    "duration": 8,
    "start_time": "2025-04-28T14:45:39.672Z"
   },
   {
    "duration": 13,
    "start_time": "2025-04-28T14:46:08.371Z"
   },
   {
    "duration": 6,
    "start_time": "2025-04-28T14:47:03.417Z"
   },
   {
    "duration": 15,
    "start_time": "2025-04-28T14:47:05.257Z"
   },
   {
    "duration": 15,
    "start_time": "2025-04-28T14:47:23.030Z"
   },
   {
    "duration": 18,
    "start_time": "2025-04-28T14:49:21.968Z"
   },
   {
    "duration": 3,
    "start_time": "2025-04-28T14:50:05.133Z"
   },
   {
    "duration": 187,
    "start_time": "2025-04-28T14:57:45.083Z"
   },
   {
    "duration": 20,
    "start_time": "2025-04-28T14:58:20.754Z"
   },
   {
    "duration": 3,
    "start_time": "2025-04-28T14:58:31.324Z"
   },
   {
    "duration": 4,
    "start_time": "2025-04-28T15:00:51.113Z"
   },
   {
    "duration": 4,
    "start_time": "2025-04-28T15:01:53.317Z"
   },
   {
    "duration": 3,
    "start_time": "2025-04-28T15:04:30.185Z"
   },
   {
    "duration": 11,
    "start_time": "2025-04-28T15:05:59.404Z"
   },
   {
    "duration": 52,
    "start_time": "2025-04-28T15:06:07.325Z"
   },
   {
    "duration": 3,
    "start_time": "2025-04-28T15:06:19.385Z"
   },
   {
    "duration": 1660,
    "start_time": "2025-04-28T15:06:34.546Z"
   },
   {
    "duration": 114,
    "start_time": "2025-04-28T15:06:36.207Z"
   },
   {
    "duration": 21,
    "start_time": "2025-04-28T15:06:36.322Z"
   },
   {
    "duration": 8,
    "start_time": "2025-04-28T15:06:36.345Z"
   },
   {
    "duration": 9,
    "start_time": "2025-04-28T15:06:36.355Z"
   },
   {
    "duration": 818,
    "start_time": "2025-04-28T15:06:36.366Z"
   },
   {
    "duration": 205,
    "start_time": "2025-04-28T15:06:37.187Z"
   },
   {
    "duration": 6,
    "start_time": "2025-04-28T15:06:37.394Z"
   },
   {
    "duration": 187,
    "start_time": "2025-04-28T15:06:37.402Z"
   },
   {
    "duration": 423,
    "start_time": "2025-04-28T15:06:37.591Z"
   },
   {
    "duration": 1820,
    "start_time": "2025-04-28T15:06:38.016Z"
   },
   {
    "duration": 7,
    "start_time": "2025-04-28T15:06:39.838Z"
   },
   {
    "duration": 27,
    "start_time": "2025-04-28T15:06:39.936Z"
   },
   {
    "duration": 7,
    "start_time": "2025-04-28T15:06:39.965Z"
   },
   {
    "duration": 6,
    "start_time": "2025-04-28T15:06:39.973Z"
   },
   {
    "duration": 3,
    "start_time": "2025-04-28T15:06:39.980Z"
   },
   {
    "duration": 4,
    "start_time": "2025-04-28T15:06:39.984Z"
   },
   {
    "duration": 5,
    "start_time": "2025-04-28T15:06:39.989Z"
   },
   {
    "duration": 8,
    "start_time": "2025-04-28T15:06:39.995Z"
   },
   {
    "duration": 90674,
    "start_time": "2025-04-28T15:06:40.004Z"
   },
   {
    "duration": 0,
    "start_time": "2025-04-28T15:08:10.680Z"
   },
   {
    "duration": 123887,
    "start_time": "2025-04-28T15:09:00.791Z"
   },
   {
    "duration": 6688,
    "start_time": "2025-04-28T15:13:22.526Z"
   },
   {
    "duration": 29029,
    "start_time": "2025-04-28T15:13:43.762Z"
   },
   {
    "duration": 0,
    "start_time": "2025-04-28T15:14:12.793Z"
   },
   {
    "duration": 9,
    "start_time": "2025-04-28T15:14:39.251Z"
   },
   {
    "duration": 92127,
    "start_time": "2025-04-28T15:14:43.612Z"
   },
   {
    "duration": 15,
    "start_time": "2025-04-28T15:16:15.742Z"
   },
   {
    "duration": 56,
    "start_time": "2025-04-28T15:17:40.236Z"
   },
   {
    "duration": 8,
    "start_time": "2025-04-28T15:17:56.094Z"
   },
   {
    "duration": 45,
    "start_time": "2025-04-28T15:18:00.126Z"
   },
   {
    "duration": 3,
    "start_time": "2025-04-28T15:18:48.122Z"
   },
   {
    "duration": 145465,
    "start_time": "2025-04-28T15:18:49.330Z"
   },
   {
    "duration": 3,
    "start_time": "2025-04-28T15:21:58.415Z"
   },
   {
    "duration": 49,
    "start_time": "2025-04-28T15:22:03.224Z"
   },
   {
    "duration": 3,
    "start_time": "2025-04-28T15:24:50.942Z"
   },
   {
    "duration": 22,
    "start_time": "2025-04-28T15:28:17.737Z"
   },
   {
    "duration": 4,
    "start_time": "2025-04-28T15:28:43.154Z"
   },
   {
    "duration": 4,
    "start_time": "2025-04-28T15:29:04.819Z"
   },
   {
    "duration": 22,
    "start_time": "2025-04-28T15:32:18.845Z"
   },
   {
    "duration": 11,
    "start_time": "2025-04-28T15:35:23.216Z"
   },
   {
    "duration": 4,
    "start_time": "2025-04-28T15:35:25.217Z"
   },
   {
    "duration": 11,
    "start_time": "2025-04-28T15:35:43.293Z"
   },
   {
    "duration": 68194,
    "start_time": "2025-04-28T15:35:49.846Z"
   },
   {
    "duration": 11,
    "start_time": "2025-04-28T15:40:03.830Z"
   },
   {
    "duration": 10,
    "start_time": "2025-04-28T15:40:11.195Z"
   },
   {
    "duration": 16,
    "start_time": "2025-04-28T15:40:19.104Z"
   },
   {
    "duration": 7,
    "start_time": "2025-04-28T15:40:49.914Z"
   },
   {
    "duration": 13585,
    "start_time": "2025-04-28T15:41:31.989Z"
   },
   {
    "duration": 21,
    "start_time": "2025-04-28T15:42:09.364Z"
   },
   {
    "duration": 4,
    "start_time": "2025-04-28T15:45:15.158Z"
   },
   {
    "duration": 13,
    "start_time": "2025-04-28T15:46:09.851Z"
   },
   {
    "duration": 249,
    "start_time": "2025-04-28T15:46:44.932Z"
   },
   {
    "duration": 13194,
    "start_time": "2025-04-28T15:47:20.438Z"
   },
   {
    "duration": 6,
    "start_time": "2025-04-28T15:48:21.811Z"
   },
   {
    "duration": 13630,
    "start_time": "2025-04-28T15:48:26.970Z"
   },
   {
    "duration": 7,
    "start_time": "2025-04-28T15:53:12.612Z"
   },
   {
    "duration": 82591,
    "start_time": "2025-04-28T15:53:13.947Z"
   },
   {
    "duration": 12,
    "start_time": "2025-04-28T15:58:15.563Z"
   },
   {
    "duration": 11,
    "start_time": "2025-04-28T16:01:33.332Z"
   },
   {
    "duration": 9,
    "start_time": "2025-04-28T16:01:58.410Z"
   },
   {
    "duration": 5,
    "start_time": "2025-04-28T16:02:01.964Z"
   },
   {
    "duration": 80,
    "start_time": "2025-04-28T16:02:25.245Z"
   },
   {
    "duration": 77,
    "start_time": "2025-04-28T16:02:35.953Z"
   },
   {
    "duration": 1398,
    "start_time": "2025-04-28T16:23:00.858Z"
   },
   {
    "duration": 50,
    "start_time": "2025-04-28T16:23:02.258Z"
   },
   {
    "duration": 18,
    "start_time": "2025-04-28T16:23:02.310Z"
   },
   {
    "duration": 9,
    "start_time": "2025-04-28T16:23:02.330Z"
   },
   {
    "duration": 57,
    "start_time": "2025-04-28T16:23:02.342Z"
   },
   {
    "duration": 895,
    "start_time": "2025-04-28T16:23:02.401Z"
   },
   {
    "duration": 213,
    "start_time": "2025-04-28T16:23:03.298Z"
   },
   {
    "duration": 5,
    "start_time": "2025-04-28T16:23:03.513Z"
   },
   {
    "duration": 202,
    "start_time": "2025-04-28T16:23:03.520Z"
   },
   {
    "duration": 417,
    "start_time": "2025-04-28T16:23:03.723Z"
   },
   {
    "duration": 1899,
    "start_time": "2025-04-28T16:23:04.142Z"
   },
   {
    "duration": 95,
    "start_time": "2025-04-28T16:23:06.043Z"
   },
   {
    "duration": 132,
    "start_time": "2025-04-28T16:23:06.235Z"
   },
   {
    "duration": 0,
    "start_time": "2025-04-28T16:23:06.370Z"
   },
   {
    "duration": 0,
    "start_time": "2025-04-28T16:23:06.372Z"
   },
   {
    "duration": 0,
    "start_time": "2025-04-28T16:23:06.373Z"
   },
   {
    "duration": 0,
    "start_time": "2025-04-28T16:23:06.375Z"
   },
   {
    "duration": 0,
    "start_time": "2025-04-28T16:23:06.376Z"
   },
   {
    "duration": 0,
    "start_time": "2025-04-28T16:23:06.378Z"
   },
   {
    "duration": 0,
    "start_time": "2025-04-28T16:23:06.379Z"
   },
   {
    "duration": 0,
    "start_time": "2025-04-28T16:23:06.380Z"
   },
   {
    "duration": 0,
    "start_time": "2025-04-28T16:23:06.382Z"
   },
   {
    "duration": 0,
    "start_time": "2025-04-28T16:23:06.383Z"
   },
   {
    "duration": 0,
    "start_time": "2025-04-28T16:23:06.384Z"
   },
   {
    "duration": 0,
    "start_time": "2025-04-28T16:23:06.386Z"
   },
   {
    "duration": 0,
    "start_time": "2025-04-28T16:23:06.387Z"
   },
   {
    "duration": 30,
    "start_time": "2025-04-28T16:23:19.203Z"
   },
   {
    "duration": 27,
    "start_time": "2025-04-28T16:23:26.414Z"
   },
   {
    "duration": 25,
    "start_time": "2025-04-28T16:23:35.410Z"
   },
   {
    "duration": 1389,
    "start_time": "2025-04-28T16:23:42.294Z"
   },
   {
    "duration": 39,
    "start_time": "2025-04-28T16:23:43.685Z"
   },
   {
    "duration": 16,
    "start_time": "2025-04-28T16:23:43.726Z"
   },
   {
    "duration": 20,
    "start_time": "2025-04-28T16:23:43.744Z"
   },
   {
    "duration": 5,
    "start_time": "2025-04-28T16:23:43.766Z"
   },
   {
    "duration": 876,
    "start_time": "2025-04-28T16:23:43.772Z"
   },
   {
    "duration": 193,
    "start_time": "2025-04-28T16:23:44.649Z"
   },
   {
    "duration": 7,
    "start_time": "2025-04-28T16:23:44.844Z"
   },
   {
    "duration": 187,
    "start_time": "2025-04-28T16:23:44.853Z"
   },
   {
    "duration": 402,
    "start_time": "2025-04-28T16:23:45.042Z"
   },
   {
    "duration": 2000,
    "start_time": "2025-04-28T16:23:45.446Z"
   },
   {
    "duration": 5,
    "start_time": "2025-04-28T16:23:47.537Z"
   },
   {
    "duration": 117,
    "start_time": "2025-04-28T16:23:47.544Z"
   },
   {
    "duration": 7,
    "start_time": "2025-04-28T16:23:47.665Z"
   },
   {
    "duration": 7,
    "start_time": "2025-04-28T16:23:47.674Z"
   },
   {
    "duration": 3,
    "start_time": "2025-04-28T16:23:47.682Z"
   },
   {
    "duration": 5,
    "start_time": "2025-04-28T16:23:47.687Z"
   },
   {
    "duration": 4,
    "start_time": "2025-04-28T16:23:47.694Z"
   },
   {
    "duration": 78637,
    "start_time": "2025-04-28T16:23:47.700Z"
   },
   {
    "duration": 4,
    "start_time": "2025-04-28T16:25:06.339Z"
   },
   {
    "duration": 54593,
    "start_time": "2025-04-28T16:25:06.344Z"
   },
   {
    "duration": 16,
    "start_time": "2025-04-28T16:26:00.938Z"
   },
   {
    "duration": 85568,
    "start_time": "2025-04-28T16:26:00.956Z"
   },
   {
    "duration": 22,
    "start_time": "2025-04-28T16:27:26.526Z"
   },
   {
    "duration": 5,
    "start_time": "2025-04-28T16:27:26.550Z"
   },
   {
    "duration": 2,
    "start_time": "2025-04-28T16:27:26.557Z"
   },
   {
    "duration": 77,
    "start_time": "2025-04-28T16:27:26.561Z"
   },
   {
    "duration": 1672,
    "start_time": "2025-04-29T07:03:01.201Z"
   },
   {
    "duration": 97,
    "start_time": "2025-04-29T07:03:06.244Z"
   },
   {
    "duration": 18,
    "start_time": "2025-04-29T07:03:07.896Z"
   },
   {
    "duration": 9,
    "start_time": "2025-04-29T07:03:11.691Z"
   },
   {
    "duration": 6,
    "start_time": "2025-04-29T07:04:29.455Z"
   },
   {
    "duration": 738,
    "start_time": "2025-04-29T07:05:21.569Z"
   },
   {
    "duration": 185,
    "start_time": "2025-04-29T07:05:41.651Z"
   },
   {
    "duration": 6,
    "start_time": "2025-04-29T07:05:45.122Z"
   },
   {
    "duration": 162,
    "start_time": "2025-04-29T07:05:46.200Z"
   },
   {
    "duration": 384,
    "start_time": "2025-04-29T07:05:51.013Z"
   },
   {
    "duration": 2159,
    "start_time": "2025-04-29T07:05:54.607Z"
   },
   {
    "duration": 533,
    "start_time": "2025-04-29T07:13:13.511Z"
   },
   {
    "duration": 168,
    "start_time": "2025-04-29T07:13:27.927Z"
   },
   {
    "duration": 423,
    "start_time": "2025-04-29T07:13:33.991Z"
   },
   {
    "duration": 295,
    "start_time": "2025-04-29T07:14:55.929Z"
   },
   {
    "duration": 432,
    "start_time": "2025-04-29T07:15:32.414Z"
   },
   {
    "duration": 358,
    "start_time": "2025-04-29T07:15:45.746Z"
   },
   {
    "duration": 362,
    "start_time": "2025-04-29T07:16:11.349Z"
   },
   {
    "duration": 369,
    "start_time": "2025-04-29T07:16:18.231Z"
   },
   {
    "duration": 516,
    "start_time": "2025-04-29T07:17:33.658Z"
   },
   {
    "duration": 124,
    "start_time": "2025-04-29T07:19:15.226Z"
   },
   {
    "duration": 4,
    "start_time": "2025-04-29T07:19:49.362Z"
   },
   {
    "duration": 91,
    "start_time": "2025-04-29T07:22:40.787Z"
   },
   {
    "duration": 298,
    "start_time": "2025-04-29T07:30:27.531Z"
   },
   {
    "duration": 284,
    "start_time": "2025-04-29T07:30:52.300Z"
   },
   {
    "duration": 337,
    "start_time": "2025-04-29T07:33:21.591Z"
   },
   {
    "duration": 126,
    "start_time": "2025-04-29T07:36:37.563Z"
   },
   {
    "duration": 4,
    "start_time": "2025-04-29T07:42:24.661Z"
   },
   {
    "duration": 196,
    "start_time": "2025-04-29T07:42:59.879Z"
   },
   {
    "duration": 295,
    "start_time": "2025-04-29T07:46:02.167Z"
   },
   {
    "duration": 285,
    "start_time": "2025-04-29T07:47:22.450Z"
   },
   {
    "duration": 4,
    "start_time": "2025-04-29T07:52:35.528Z"
   },
   {
    "duration": 127,
    "start_time": "2025-04-29T07:53:55.366Z"
   },
   {
    "duration": 4,
    "start_time": "2025-04-29T07:54:34.240Z"
   },
   {
    "duration": 23,
    "start_time": "2025-04-29T07:54:36.498Z"
   },
   {
    "duration": 40,
    "start_time": "2025-04-29T08:10:57.065Z"
   },
   {
    "duration": 22,
    "start_time": "2025-04-29T08:11:21.455Z"
   },
   {
    "duration": 8,
    "start_time": "2025-04-29T08:13:44.265Z"
   },
   {
    "duration": 6,
    "start_time": "2025-04-29T08:13:54.326Z"
   },
   {
    "duration": 3,
    "start_time": "2025-04-29T08:13:58.221Z"
   },
   {
    "duration": 2,
    "start_time": "2025-04-29T08:14:03.323Z"
   },
   {
    "duration": 8,
    "start_time": "2025-04-29T08:16:32.639Z"
   },
   {
    "duration": 3,
    "start_time": "2025-04-29T08:17:16.813Z"
   },
   {
    "duration": 3,
    "start_time": "2025-04-29T08:17:17.851Z"
   },
   {
    "duration": 102,
    "start_time": "2025-04-29T08:18:02.174Z"
   },
   {
    "duration": 3,
    "start_time": "2025-04-29T08:18:34.595Z"
   },
   {
    "duration": 47156,
    "start_time": "2025-04-29T08:18:38.687Z"
   },
   {
    "duration": 3,
    "start_time": "2025-04-29T08:20:05.219Z"
   },
   {
    "duration": 3285,
    "start_time": "2025-04-29T08:20:06.100Z"
   },
   {
    "duration": 62295,
    "start_time": "2025-04-29T08:20:15.168Z"
   },
   {
    "duration": 12,
    "start_time": "2025-04-29T08:21:17.465Z"
   },
   {
    "duration": 66473,
    "start_time": "2025-04-29T08:21:17.479Z"
   },
   {
    "duration": 22,
    "start_time": "2025-04-29T08:25:25.390Z"
   },
   {
    "duration": 13,
    "start_time": "2025-04-29T08:25:57.983Z"
   },
   {
    "duration": 12,
    "start_time": "2025-04-29T08:26:01.009Z"
   },
   {
    "duration": 11,
    "start_time": "2025-04-29T08:26:43.287Z"
   },
   {
    "duration": 5,
    "start_time": "2025-04-29T08:27:35.831Z"
   },
   {
    "duration": 8,
    "start_time": "2025-04-29T08:29:19.681Z"
   },
   {
    "duration": 13,
    "start_time": "2025-04-29T08:29:25.061Z"
   },
   {
    "duration": 8,
    "start_time": "2025-04-29T08:29:27.299Z"
   },
   {
    "duration": 6,
    "start_time": "2025-04-29T08:30:47.472Z"
   },
   {
    "duration": 10,
    "start_time": "2025-04-29T08:30:51.135Z"
   },
   {
    "duration": 133,
    "start_time": "2025-04-29T08:32:18.872Z"
   },
   {
    "duration": 102,
    "start_time": "2025-04-29T08:32:22.691Z"
   },
   {
    "duration": 12,
    "start_time": "2025-04-29T08:32:31.569Z"
   },
   {
    "duration": 3,
    "start_time": "2025-04-29T08:33:46.602Z"
   },
   {
    "duration": 436,
    "start_time": "2025-04-29T08:34:17.993Z"
   },
   {
    "duration": 1790,
    "start_time": "2025-04-29T08:45:31.441Z"
   },
   {
    "duration": 50,
    "start_time": "2025-04-29T08:45:33.232Z"
   },
   {
    "duration": 16,
    "start_time": "2025-04-29T08:45:33.284Z"
   },
   {
    "duration": 74,
    "start_time": "2025-04-29T08:45:33.301Z"
   },
   {
    "duration": 17,
    "start_time": "2025-04-29T08:45:33.378Z"
   },
   {
    "duration": 810,
    "start_time": "2025-04-29T08:45:33.397Z"
   },
   {
    "duration": 330,
    "start_time": "2025-04-29T08:45:34.209Z"
   },
   {
    "duration": 188,
    "start_time": "2025-04-29T08:45:34.540Z"
   },
   {
    "duration": 6,
    "start_time": "2025-04-29T08:45:34.730Z"
   },
   {
    "duration": 182,
    "start_time": "2025-04-29T08:45:34.738Z"
   },
   {
    "duration": 307,
    "start_time": "2025-04-29T08:45:34.922Z"
   },
   {
    "duration": 498,
    "start_time": "2025-04-29T08:45:35.231Z"
   },
   {
    "duration": 1931,
    "start_time": "2025-04-29T08:45:35.730Z"
   },
   {
    "duration": 836,
    "start_time": "2025-04-29T08:45:37.666Z"
   },
   {
    "duration": 4,
    "start_time": "2025-04-29T08:45:38.503Z"
   },
   {
    "duration": 74,
    "start_time": "2025-04-29T08:45:38.508Z"
   },
   {
    "duration": 7,
    "start_time": "2025-04-29T08:45:38.584Z"
   },
   {
    "duration": 6,
    "start_time": "2025-04-29T08:45:38.592Z"
   },
   {
    "duration": 63,
    "start_time": "2025-04-29T08:45:38.599Z"
   },
   {
    "duration": 4,
    "start_time": "2025-04-29T08:45:38.664Z"
   },
   {
    "duration": 3,
    "start_time": "2025-04-29T08:45:38.670Z"
   },
   {
    "duration": 8,
    "start_time": "2025-04-29T08:45:38.674Z"
   },
   {
    "duration": 53014,
    "start_time": "2025-04-29T08:45:38.684Z"
   },
   {
    "duration": 4,
    "start_time": "2025-04-29T08:46:31.699Z"
   },
   {
    "duration": 1801,
    "start_time": "2025-04-29T09:04:43.388Z"
   },
   {
    "duration": 52,
    "start_time": "2025-04-29T09:04:45.191Z"
   },
   {
    "duration": 19,
    "start_time": "2025-04-29T09:04:45.244Z"
   },
   {
    "duration": 9,
    "start_time": "2025-04-29T09:04:45.264Z"
   },
   {
    "duration": 11,
    "start_time": "2025-04-29T09:04:45.275Z"
   },
   {
    "duration": 890,
    "start_time": "2025-04-29T09:04:45.288Z"
   },
   {
    "duration": 351,
    "start_time": "2025-04-29T09:04:46.180Z"
   },
   {
    "duration": 212,
    "start_time": "2025-04-29T09:04:46.533Z"
   },
   {
    "duration": 15,
    "start_time": "2025-04-29T09:04:46.747Z"
   },
   {
    "duration": 194,
    "start_time": "2025-04-29T09:04:46.764Z"
   },
   {
    "duration": 341,
    "start_time": "2025-04-29T09:04:46.961Z"
   },
   {
    "duration": 533,
    "start_time": "2025-04-29T09:04:47.304Z"
   },
   {
    "duration": 1635,
    "start_time": "2025-04-29T09:04:47.838Z"
   },
   {
    "duration": 502,
    "start_time": "2025-04-29T09:04:49.565Z"
   },
   {
    "duration": 5,
    "start_time": "2025-04-29T09:04:50.069Z"
   },
   {
    "duration": 54,
    "start_time": "2025-04-29T09:04:50.076Z"
   },
   {
    "duration": 7,
    "start_time": "2025-04-29T09:04:50.132Z"
   },
   {
    "duration": 76,
    "start_time": "2025-04-29T09:04:50.141Z"
   },
   {
    "duration": 14,
    "start_time": "2025-04-29T09:04:50.219Z"
   },
   {
    "duration": 10,
    "start_time": "2025-04-29T09:04:50.234Z"
   },
   {
    "duration": 9,
    "start_time": "2025-04-29T09:04:50.246Z"
   },
   {
    "duration": 6,
    "start_time": "2025-04-29T09:04:50.256Z"
   },
   {
    "duration": 56270,
    "start_time": "2025-04-29T09:04:50.263Z"
   },
   {
    "duration": 4,
    "start_time": "2025-04-29T09:05:46.535Z"
   },
   {
    "duration": 854256,
    "start_time": "2025-04-29T09:05:46.540Z"
   },
   {
    "duration": 0,
    "start_time": "2025-04-29T09:20:00.799Z"
   },
   {
    "duration": 0,
    "start_time": "2025-04-29T09:20:00.800Z"
   },
   {
    "duration": 0,
    "start_time": "2025-04-29T09:20:00.801Z"
   },
   {
    "duration": 0,
    "start_time": "2025-04-29T09:20:00.802Z"
   },
   {
    "duration": 0,
    "start_time": "2025-04-29T09:20:00.804Z"
   },
   {
    "duration": 0,
    "start_time": "2025-04-29T09:20:00.805Z"
   },
   {
    "duration": 23,
    "start_time": "2025-04-29T09:20:07.399Z"
   },
   {
    "duration": 5,
    "start_time": "2025-04-29T09:20:30.719Z"
   },
   {
    "duration": 0,
    "start_time": "2025-04-29T09:20:56.587Z"
   },
   {
    "duration": 0,
    "start_time": "2025-04-29T09:20:56.588Z"
   },
   {
    "duration": 4,
    "start_time": "2025-04-29T09:20:57.359Z"
   },
   {
    "duration": 0,
    "start_time": "2025-04-29T09:21:16.880Z"
   },
   {
    "duration": 0,
    "start_time": "2025-04-29T09:21:16.881Z"
   },
   {
    "duration": 4,
    "start_time": "2025-04-29T09:21:18.577Z"
   },
   {
    "duration": 9,
    "start_time": "2025-04-29T09:21:51.102Z"
   },
   {
    "duration": 16,
    "start_time": "2025-04-29T09:22:39.529Z"
   },
   {
    "duration": 73942,
    "start_time": "2025-04-29T09:22:40.792Z"
   },
   {
    "duration": 1692,
    "start_time": "2025-04-29T09:24:49.770Z"
   },
   {
    "duration": 42,
    "start_time": "2025-04-29T09:24:51.464Z"
   },
   {
    "duration": 24,
    "start_time": "2025-04-29T09:24:51.508Z"
   },
   {
    "duration": 11,
    "start_time": "2025-04-29T09:24:51.534Z"
   },
   {
    "duration": 15,
    "start_time": "2025-04-29T09:24:51.547Z"
   },
   {
    "duration": 867,
    "start_time": "2025-04-29T09:24:51.564Z"
   },
   {
    "duration": 373,
    "start_time": "2025-04-29T09:24:52.433Z"
   },
   {
    "duration": 214,
    "start_time": "2025-04-29T09:24:52.808Z"
   },
   {
    "duration": 7,
    "start_time": "2025-04-29T09:24:53.024Z"
   },
   {
    "duration": 204,
    "start_time": "2025-04-29T09:24:53.032Z"
   },
   {
    "duration": 332,
    "start_time": "2025-04-29T09:24:53.239Z"
   },
   {
    "duration": 539,
    "start_time": "2025-04-29T09:24:53.573Z"
   },
   {
    "duration": 3655,
    "start_time": "2025-04-29T09:24:54.113Z"
   },
   {
    "duration": 625,
    "start_time": "2025-04-29T09:24:57.773Z"
   },
   {
    "duration": 6,
    "start_time": "2025-04-29T09:24:58.400Z"
   },
   {
    "duration": 26,
    "start_time": "2025-04-29T09:24:58.408Z"
   },
   {
    "duration": 29,
    "start_time": "2025-04-29T09:24:58.436Z"
   },
   {
    "duration": 6,
    "start_time": "2025-04-29T09:24:58.467Z"
   },
   {
    "duration": 6,
    "start_time": "2025-04-29T09:24:58.475Z"
   },
   {
    "duration": 7,
    "start_time": "2025-04-29T09:24:58.482Z"
   },
   {
    "duration": 13,
    "start_time": "2025-04-29T09:24:58.491Z"
   },
   {
    "duration": 4,
    "start_time": "2025-04-29T09:24:58.506Z"
   },
   {
    "duration": 65147,
    "start_time": "2025-04-29T09:24:58.511Z"
   },
   {
    "duration": 4,
    "start_time": "2025-04-29T09:26:03.659Z"
   },
   {
    "duration": 730471,
    "start_time": "2025-04-29T09:26:03.665Z"
   },
   {
    "duration": 0,
    "start_time": "2025-04-29T09:38:14.137Z"
   },
   {
    "duration": 0,
    "start_time": "2025-04-29T09:38:14.138Z"
   },
   {
    "duration": 0,
    "start_time": "2025-04-29T09:38:14.140Z"
   },
   {
    "duration": 0,
    "start_time": "2025-04-29T09:38:14.141Z"
   },
   {
    "duration": 0,
    "start_time": "2025-04-29T09:38:14.142Z"
   },
   {
    "duration": 0,
    "start_time": "2025-04-29T09:38:14.143Z"
   },
   {
    "duration": 0,
    "start_time": "2025-04-29T09:39:42.276Z"
   },
   {
    "duration": 29779,
    "start_time": "2025-04-29T09:39:43.096Z"
   },
   {
    "duration": 114881,
    "start_time": "2025-04-29T09:41:13.008Z"
   },
   {
    "duration": 0,
    "start_time": "2025-04-29T09:43:07.891Z"
   },
   {
    "duration": 1719,
    "start_time": "2025-04-29T09:43:19.457Z"
   },
   {
    "duration": 22,
    "start_time": "2025-04-29T09:43:44.719Z"
   },
   {
    "duration": 117,
    "start_time": "2025-04-29T09:44:32.703Z"
   },
   {
    "duration": 4,
    "start_time": "2025-04-29T09:45:22.480Z"
   },
   {
    "duration": 312979,
    "start_time": "2025-04-29T09:45:23.492Z"
   },
   {
    "duration": 24,
    "start_time": "2025-04-29T09:51:10.635Z"
   },
   {
    "duration": 71740,
    "start_time": "2025-04-29T09:51:12.776Z"
   },
   {
    "duration": 13,
    "start_time": "2025-04-29T09:52:24.519Z"
   },
   {
    "duration": 81,
    "start_time": "2025-04-29T09:52:24.533Z"
   },
   {
    "duration": 503,
    "start_time": "2025-04-29T09:52:24.616Z"
   },
   {
    "duration": 5,
    "start_time": "2025-04-29T09:52:25.121Z"
   },
   {
    "duration": 2063,
    "start_time": "2025-07-15T13:56:28.425Z"
   },
   {
    "duration": 43,
    "start_time": "2025-07-15T13:56:30.491Z"
   },
   {
    "duration": 44,
    "start_time": "2025-07-15T13:56:30.536Z"
   },
   {
    "duration": 10,
    "start_time": "2025-07-15T13:56:30.590Z"
   },
   {
    "duration": 42,
    "start_time": "2025-07-15T13:56:30.602Z"
   },
   {
    "duration": 1132,
    "start_time": "2025-07-15T13:56:30.646Z"
   },
   {
    "duration": 450,
    "start_time": "2025-07-15T13:56:31.780Z"
   },
   {
    "duration": 258,
    "start_time": "2025-07-15T13:56:32.231Z"
   },
   {
    "duration": 6,
    "start_time": "2025-07-15T13:56:32.491Z"
   },
   {
    "duration": 288,
    "start_time": "2025-07-15T13:56:32.499Z"
   },
   {
    "duration": 424,
    "start_time": "2025-07-15T13:56:32.789Z"
   },
   {
    "duration": 620,
    "start_time": "2025-07-15T13:56:33.215Z"
   },
   {
    "duration": 7824,
    "start_time": "2025-07-15T13:56:33.836Z"
   },
   {
    "duration": 599,
    "start_time": "2025-07-15T13:56:41.669Z"
   },
   {
    "duration": 6,
    "start_time": "2025-07-15T13:56:42.273Z"
   },
   {
    "duration": 31,
    "start_time": "2025-07-15T13:56:42.281Z"
   },
   {
    "duration": 7,
    "start_time": "2025-07-15T13:56:42.314Z"
   },
   {
    "duration": 46,
    "start_time": "2025-07-15T13:56:42.322Z"
   },
   {
    "duration": 4,
    "start_time": "2025-07-15T13:56:42.375Z"
   },
   {
    "duration": 8,
    "start_time": "2025-07-15T13:56:42.381Z"
   },
   {
    "duration": 8,
    "start_time": "2025-07-15T13:56:42.391Z"
   },
   {
    "duration": 14,
    "start_time": "2025-07-15T13:56:42.401Z"
   },
   {
    "duration": 64775,
    "start_time": "2025-07-15T13:56:42.417Z"
   },
   {
    "duration": 3,
    "start_time": "2025-07-15T13:57:47.194Z"
   },
   {
    "duration": 244981,
    "start_time": "2025-07-15T13:57:47.199Z"
   },
   {
    "duration": 34,
    "start_time": "2025-07-15T14:01:52.248Z"
   },
   {
    "duration": 83139,
    "start_time": "2025-07-15T14:01:52.284Z"
   },
   {
    "duration": 17,
    "start_time": "2025-07-15T14:03:15.425Z"
   },
   {
    "duration": 32,
    "start_time": "2025-07-15T14:03:15.444Z"
   },
   {
    "duration": 585,
    "start_time": "2025-07-15T14:03:15.479Z"
   },
   {
    "duration": 16,
    "start_time": "2025-07-15T14:03:16.067Z"
   }
  ],
  "kernelspec": {
   "display_name": "Python 3 (ipykernel)",
   "language": "python",
   "name": "python3"
  },
  "language_info": {
   "codemirror_mode": {
    "name": "ipython",
    "version": 3
   },
   "file_extension": ".py",
   "mimetype": "text/x-python",
   "name": "python",
   "nbconvert_exporter": "python",
   "pygments_lexer": "ipython3",
   "version": "3.12.7"
  },
  "toc": {
   "base_numbering": 1,
   "nav_menu": {},
   "number_sections": true,
   "sideBar": true,
   "skip_h1_title": true,
   "title_cell": "Содержание",
   "title_sidebar": "Contents",
   "toc_cell": true,
   "toc_position": {
    "height": "calc(100% - 180px)",
    "left": "10px",
    "top": "150px",
    "width": "284.3px"
   },
   "toc_section_display": true,
   "toc_window_display": true
  }
 },
 "nbformat": 4,
 "nbformat_minor": 4
}
