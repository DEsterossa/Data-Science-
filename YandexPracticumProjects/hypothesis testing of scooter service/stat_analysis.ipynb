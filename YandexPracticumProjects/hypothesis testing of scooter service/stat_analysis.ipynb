{
 "cells": [
  {
   "cell_type": "markdown",
   "id": "3dd8d969",
   "metadata": {},
   "source": [
    "**Цель работы**: проанализировать данные и проверить некоторые гипотезы, которые могут помочь бизнесу вырасти.\n",
    "\n",
    "**План работы**: \n",
    "1. [Изучить общую информацию о данных](#shag1)\n",
    "2. [Выполнить предобработку данных](#shag2)\n",
    "3. [Провести исследовательский анализ данных.](#shag3)\n",
    "4. [Объединить данные.](#shag4)\n",
    "5. [Провести подсчёт общей выручки.](#shag5)\n",
    "6. [Проверить гипотизы, сформировавшиеся в процессе анализа данных.](#shag6)\n",
    "7. [Ответить на запросы отдела маркетинга.](#shag7)\n",
    "8. [Общий вывод](#shag8)"
   ]
  },
  {
   "cell_type": "markdown",
   "id": "0b5a564e",
   "metadata": {},
   "source": [
    "# 1. Загрузка данных: обзор и предобработка<a id=\"shag1_\"></a>  "
   ]
  },
  {
   "cell_type": "code",
   "execution_count": 1,
   "id": "72576667",
   "metadata": {},
   "outputs": [],
   "source": [
    "import pandas as pd\n",
    "import numpy as np\n",
    "\n",
    "import math\n",
    "from math import sqrt\n",
    "from scipy import stats as st\n",
    "from scipy.stats import binom, norm\n",
    "\n",
    "import seaborn as sns\n",
    "sns.set_theme(style=\"darkgrid\")\n",
    "import matplotlib.pyplot as plt\n",
    "%matplotlib inline\n",
    "\n",
    "import warnings\n",
    "\n",
    "warnings.filterwarnings(\"ignore\")"
   ]
  },
  {
   "cell_type": "markdown",
   "id": "c42cbe00",
   "metadata": {},
   "source": [
    "# Шаг 1. Загрузка данных<a id=\"shag1\"></a> "
   ]
  },
  {
   "cell_type": "code",
   "execution_count": 2,
   "id": "eff9f206",
   "metadata": {
    "scrolled": true
   },
   "outputs": [],
   "source": [
    "raw_users = pd.read_csv('/datasets/users_go.csv')\n",
    "raw_rides = pd.read_csv('/datasets/rides_go.csv')\n",
    "raw_subscriptions = pd.read_csv('/datasets/subscriptions_go.csv')"
   ]
  },
  {
   "cell_type": "markdown",
   "id": "990171df",
   "metadata": {},
   "source": [
    "Изучим общую информацию о данных"
   ]
  },
  {
   "cell_type": "code",
   "execution_count": 3,
   "id": "e60b1233",
   "metadata": {},
   "outputs": [
    {
     "data": {
      "text/html": [
       "<div>\n",
       "<style scoped>\n",
       "    .dataframe tbody tr th:only-of-type {\n",
       "        vertical-align: middle;\n",
       "    }\n",
       "\n",
       "    .dataframe tbody tr th {\n",
       "        vertical-align: top;\n",
       "    }\n",
       "\n",
       "    .dataframe thead th {\n",
       "        text-align: right;\n",
       "    }\n",
       "</style>\n",
       "<table border=\"1\" class=\"dataframe\">\n",
       "  <thead>\n",
       "    <tr style=\"text-align: right;\">\n",
       "      <th></th>\n",
       "      <th>user_id</th>\n",
       "      <th>name</th>\n",
       "      <th>age</th>\n",
       "      <th>city</th>\n",
       "      <th>subscription_type</th>\n",
       "    </tr>\n",
       "  </thead>\n",
       "  <tbody>\n",
       "    <tr>\n",
       "      <th>0</th>\n",
       "      <td>1</td>\n",
       "      <td>Кира</td>\n",
       "      <td>22</td>\n",
       "      <td>Тюмень</td>\n",
       "      <td>ultra</td>\n",
       "    </tr>\n",
       "    <tr>\n",
       "      <th>1</th>\n",
       "      <td>2</td>\n",
       "      <td>Станислав</td>\n",
       "      <td>31</td>\n",
       "      <td>Омск</td>\n",
       "      <td>ultra</td>\n",
       "    </tr>\n",
       "    <tr>\n",
       "      <th>2</th>\n",
       "      <td>3</td>\n",
       "      <td>Алексей</td>\n",
       "      <td>20</td>\n",
       "      <td>Москва</td>\n",
       "      <td>ultra</td>\n",
       "    </tr>\n",
       "    <tr>\n",
       "      <th>3</th>\n",
       "      <td>4</td>\n",
       "      <td>Константин</td>\n",
       "      <td>26</td>\n",
       "      <td>Ростов-на-Дону</td>\n",
       "      <td>ultra</td>\n",
       "    </tr>\n",
       "    <tr>\n",
       "      <th>4</th>\n",
       "      <td>5</td>\n",
       "      <td>Адель</td>\n",
       "      <td>28</td>\n",
       "      <td>Омск</td>\n",
       "      <td>ultra</td>\n",
       "    </tr>\n",
       "  </tbody>\n",
       "</table>\n",
       "</div>"
      ],
      "text/plain": [
       "   user_id        name  age            city subscription_type\n",
       "0        1        Кира   22          Тюмень             ultra\n",
       "1        2   Станислав   31            Омск             ultra\n",
       "2        3     Алексей   20          Москва             ultra\n",
       "3        4  Константин   26  Ростов-на-Дону             ultra\n",
       "4        5       Адель   28            Омск             ultra"
      ]
     },
     "execution_count": 3,
     "metadata": {},
     "output_type": "execute_result"
    }
   ],
   "source": [
    "raw_users.head()"
   ]
  },
  {
   "cell_type": "code",
   "execution_count": 4,
   "id": "003dbe0e",
   "metadata": {
    "scrolled": true
   },
   "outputs": [
    {
     "data": {
      "image/png": "[encoded data removed]",
      "text/plain": [
       "<Figure size 720x360 with 2 Axes>"
      ]
     },
     "metadata": {
      "needs_background": "light"
     },
     "output_type": "display_data"
    }
   ],
   "source": [
    "raw_users_hist_titles = ['Распределение пользователей по id', 'Распределение возраста пользователей']\n",
    "raw_users_xlabel = ['id', 'возраст']\n",
    "axes = raw_users.hist(figsize=(10, 5)).ravel()\n",
    "for i in range(len(axes)): \n",
    "    axes[i].set_title(raw_users_hist_titles[i])\n",
    "    axes[i].set_ylabel('Частота')\n",
    "    axes[i].set_xlabel(raw_users_xlabel[i])\n",
    "\n",
    "plt.show();"
   ]
  },
  {
   "cell_type": "code",
   "execution_count": 6,
   "id": "9ea6510a",
   "metadata": {},
   "outputs": [
    {
     "name": "stdout",
     "output_type": "stream",
     "text": [
      "<class 'pandas.core.frame.DataFrame'>\n",
      "RangeIndex: 1565 entries, 0 to 1564\n",
      "Data columns (total 5 columns):\n",
      " #   Column             Non-Null Count  Dtype \n",
      "---  ------             --------------  ----- \n",
      " 0   user_id            1565 non-null   int64 \n",
      " 1   name               1565 non-null   object\n",
      " 2   age                1565 non-null   int64 \n",
      " 3   city               1565 non-null   object\n",
      " 4   subscription_type  1565 non-null   object\n",
      "dtypes: int64(2), object(3)\n",
      "memory usage: 61.3+ KB\n"
     ]
    }
   ],
   "source": [
    "raw_users.info()"
   ]
  },
  {
   "cell_type": "code",
   "execution_count": 7,
   "id": "86e4a4b7",
   "metadata": {
    "scrolled": true
   },
   "outputs": [
    {
     "data": {
      "text/html": [
       "<div>\n",
       "<style scoped>\n",
       "    .dataframe tbody tr th:only-of-type {\n",
       "        vertical-align: middle;\n",
       "    }\n",
       "\n",
       "    .dataframe tbody tr th {\n",
       "        vertical-align: top;\n",
       "    }\n",
       "\n",
       "    .dataframe thead th {\n",
       "        text-align: right;\n",
       "    }\n",
       "</style>\n",
       "<table border=\"1\" class=\"dataframe\">\n",
       "  <thead>\n",
       "    <tr style=\"text-align: right;\">\n",
       "      <th></th>\n",
       "      <th>user_id</th>\n",
       "      <th>distance</th>\n",
       "      <th>duration</th>\n",
       "      <th>date</th>\n",
       "    </tr>\n",
       "  </thead>\n",
       "  <tbody>\n",
       "    <tr>\n",
       "      <th>0</th>\n",
       "      <td>1</td>\n",
       "      <td>4409.919140</td>\n",
       "      <td>25.599769</td>\n",
       "      <td>2021-01-01</td>\n",
       "    </tr>\n",
       "    <tr>\n",
       "      <th>1</th>\n",
       "      <td>1</td>\n",
       "      <td>2617.592153</td>\n",
       "      <td>15.816871</td>\n",
       "      <td>2021-01-18</td>\n",
       "    </tr>\n",
       "    <tr>\n",
       "      <th>2</th>\n",
       "      <td>1</td>\n",
       "      <td>754.159807</td>\n",
       "      <td>6.232113</td>\n",
       "      <td>2021-04-20</td>\n",
       "    </tr>\n",
       "    <tr>\n",
       "      <th>3</th>\n",
       "      <td>1</td>\n",
       "      <td>2694.783254</td>\n",
       "      <td>18.511000</td>\n",
       "      <td>2021-08-11</td>\n",
       "    </tr>\n",
       "    <tr>\n",
       "      <th>4</th>\n",
       "      <td>1</td>\n",
       "      <td>4028.687306</td>\n",
       "      <td>26.265803</td>\n",
       "      <td>2021-08-28</td>\n",
       "    </tr>\n",
       "  </tbody>\n",
       "</table>\n",
       "</div>"
      ],
      "text/plain": [
       "   user_id     distance   duration        date\n",
       "0        1  4409.919140  25.599769  2021-01-01\n",
       "1        1  2617.592153  15.816871  2021-01-18\n",
       "2        1   754.159807   6.232113  2021-04-20\n",
       "3        1  2694.783254  18.511000  2021-08-11\n",
       "4        1  4028.687306  26.265803  2021-08-28"
      ]
     },
     "execution_count": 7,
     "metadata": {},
     "output_type": "execute_result"
    }
   ],
   "source": [
    "raw_rides.head()"
   ]
  },
  {
   "cell_type": "code",
   "execution_count": 8,
   "id": "c3688daa",
   "metadata": {
    "scrolled": true
   },
   "outputs": [
    {
     "name": "stdout",
     "output_type": "stream",
     "text": [
      "<class 'pandas.core.frame.DataFrame'>\n",
      "RangeIndex: 18068 entries, 0 to 18067\n",
      "Data columns (total 4 columns):\n",
      " #   Column    Non-Null Count  Dtype  \n",
      "---  ------    --------------  -----  \n",
      " 0   user_id   18068 non-null  int64  \n",
      " 1   distance  18068 non-null  float64\n",
      " 2   duration  18068 non-null  float64\n",
      " 3   date      18068 non-null  object \n",
      "dtypes: float64(2), int64(1), object(1)\n",
      "memory usage: 564.8+ KB\n"
     ]
    }
   ],
   "source": [
    "raw_rides.info()"
   ]
  },
  {
   "cell_type": "code",
   "execution_count": 9,
   "id": "27f8dccd",
   "metadata": {
    "scrolled": true
   },
   "outputs": [
    {
     "data": {
      "image/png": "[encoded data removed]",
      "text/plain": [
       "<Figure size 1152x720 with 4 Axes>"
      ]
     },
     "metadata": {
      "needs_background": "light"
     },
     "output_type": "display_data"
    }
   ],
   "source": [
    "raw_rides_hist_titles = ['Распределение пользователей по id',\n",
    "                         'Распределение дистанций',\n",
    "                         'Распределение продолжительностей поездок']\n",
    "raw_rides_xlabel = ['id', 'Расстояние(метры)', 'Продолжительность(мин)']\n",
    "axes = raw_rides.hist(figsize=(16, 10)).ravel()\n",
    "\n",
    "for i in range(len(axes)): \n",
    "    try:\n",
    "        axes[i].set_title(raw_rides_hist_titles[i])\n",
    "        axes[i].set_ylabel('Частота')\n",
    "        axes[i].set_xlabel(raw_rides_xlabel[i])\n",
    "    except:\n",
    "        pass\n",
    "\n",
    "plt.show();\n"
   ]
  },
  {
   "cell_type": "code",
   "execution_count": 10,
   "id": "1b8cb006",
   "metadata": {},
   "outputs": [
    {
     "data": {
      "text/html": [
       "<div>\n",
       "<style scoped>\n",
       "    .dataframe tbody tr th:only-of-type {\n",
       "        vertical-align: middle;\n",
       "    }\n",
       "\n",
       "    .dataframe tbody tr th {\n",
       "        vertical-align: top;\n",
       "    }\n",
       "\n",
       "    .dataframe thead th {\n",
       "        text-align: right;\n",
       "    }\n",
       "</style>\n",
       "<table border=\"1\" class=\"dataframe\">\n",
       "  <thead>\n",
       "    <tr style=\"text-align: right;\">\n",
       "      <th></th>\n",
       "      <th>subscription_type</th>\n",
       "      <th>minute_price</th>\n",
       "      <th>start_ride_price</th>\n",
       "      <th>subscription_fee</th>\n",
       "    </tr>\n",
       "  </thead>\n",
       "  <tbody>\n",
       "    <tr>\n",
       "      <th>0</th>\n",
       "      <td>free</td>\n",
       "      <td>8</td>\n",
       "      <td>50</td>\n",
       "      <td>0</td>\n",
       "    </tr>\n",
       "    <tr>\n",
       "      <th>1</th>\n",
       "      <td>ultra</td>\n",
       "      <td>6</td>\n",
       "      <td>0</td>\n",
       "      <td>199</td>\n",
       "    </tr>\n",
       "  </tbody>\n",
       "</table>\n",
       "</div>"
      ],
      "text/plain": [
       "  subscription_type  minute_price  start_ride_price  subscription_fee\n",
       "0              free             8                50                 0\n",
       "1             ultra             6                 0               199"
      ]
     },
     "execution_count": 10,
     "metadata": {},
     "output_type": "execute_result"
    }
   ],
   "source": [
    "raw_subscriptions.head()"
   ]
  },
  {
   "cell_type": "code",
   "execution_count": 11,
   "id": "01d19933",
   "metadata": {},
   "outputs": [
    {
     "name": "stdout",
     "output_type": "stream",
     "text": [
      "<class 'pandas.core.frame.DataFrame'>\n",
      "RangeIndex: 2 entries, 0 to 1\n",
      "Data columns (total 4 columns):\n",
      " #   Column             Non-Null Count  Dtype \n",
      "---  ------             --------------  ----- \n",
      " 0   subscription_type  2 non-null      object\n",
      " 1   minute_price       2 non-null      int64 \n",
      " 2   start_ride_price   2 non-null      int64 \n",
      " 3   subscription_fee   2 non-null      int64 \n",
      "dtypes: int64(3), object(1)\n",
      "memory usage: 192.0+ bytes\n"
     ]
    }
   ],
   "source": [
    "raw_subscriptions.info()"
   ]
  },
  {
   "cell_type": "code",
   "execution_count": 12,
   "id": "079ed11f",
   "metadata": {},
   "outputs": [
    {
     "data": {
      "text/plain": [
       "31"
      ]
     },
     "execution_count": 12,
     "metadata": {},
     "output_type": "execute_result"
    }
   ],
   "source": [
    "raw_users.duplicated().sum() "
   ]
  },
  {
   "cell_type": "code",
   "execution_count": 13,
   "id": "61f8373a",
   "metadata": {},
   "outputs": [
    {
     "data": {
      "text/plain": [
       "0"
      ]
     },
     "execution_count": 13,
     "metadata": {},
     "output_type": "execute_result"
    }
   ],
   "source": [
    "raw_rides.duplicated().sum()"
   ]
  },
  {
   "cell_type": "code",
   "execution_count": 14,
   "id": "a537acbc",
   "metadata": {},
   "outputs": [
    {
     "data": {
      "text/plain": [
       "0"
      ]
     },
     "execution_count": 14,
     "metadata": {},
     "output_type": "execute_result"
    }
   ],
   "source": [
    "raw_subscriptions.duplicated().sum()"
   ]
  },
  {
   "cell_type": "markdown",
   "id": "7f5a5f10",
   "metadata": {},
   "source": [
    "**Обзор данных**:\n",
    "- в данных отсутствуют пропущенные значения,\n",
    "- тип данных параметра *subscription_type* в таблицах **raw_subscriptions** и **raw_users** следует изменить на int для дальнейшего анализа данных,\n",
    "- тип данных параметра *date* в таблице **raw_rides** следует изменить на datetime,\n",
    "- в столбцe *distance* таблицы **raw_rides** замечены аномальные значения,\n",
    "- явные дубликаты замечены в таблице **raw_users**."
   ]
  },
  {
   "cell_type": "markdown",
   "id": "e95ebca7",
   "metadata": {},
   "source": [
    "# Шаг 2. Предобработка данных<a id=\"shag2\"></a> "
   ]
  },
  {
   "cell_type": "markdown",
   "id": "5fe7a84b",
   "metadata": {},
   "source": [
    "Изменим тип данных параметра *date* в таблице **raw_rides** на datetime"
   ]
  },
  {
   "cell_type": "code",
   "execution_count": 15,
   "id": "755ae595",
   "metadata": {},
   "outputs": [],
   "source": [
    "raw_rides['date'] = pd.to_datetime(raw_rides['date'], format='%Y-%m-%d')"
   ]
  },
  {
   "cell_type": "markdown",
   "id": "493e15f9",
   "metadata": {},
   "source": [
    "Создадим функцию, которая будет менять значение ultra на 1, а free на 0"
   ]
  },
  {
   "cell_type": "code",
   "execution_count": 16,
   "id": "08c02268",
   "metadata": {},
   "outputs": [],
   "source": [
    "def sub_to_int(row):\n",
    "    sub = row['subscription_type']\n",
    "    return 1 if sub == 'ultra' else 0"
   ]
  },
  {
   "cell_type": "code",
   "execution_count": 17,
   "id": "b896edf8",
   "metadata": {},
   "outputs": [],
   "source": [
    "raw_subscriptions['subscription_type'] = raw_subscriptions.apply(sub_to_int, axis=1)\n",
    "raw_users['subscription_type'] = raw_users.apply(sub_to_int, axis=1)"
   ]
  },
  {
   "cell_type": "markdown",
   "id": "c094719e",
   "metadata": {},
   "source": [
    "Cоздадим новый столбец с номером месяца на основе столбца *date*"
   ]
  },
  {
   "cell_type": "code",
   "execution_count": 18,
   "id": "d11471c8",
   "metadata": {},
   "outputs": [],
   "source": [
    "raw_rides['month'] = raw_rides['date'].dt.month"
   ]
  },
  {
   "cell_type": "markdown",
   "id": "840acb1c",
   "metadata": {},
   "source": [
    "Удалим явные дубликаты из таблицы **raw_users**"
   ]
  },
  {
   "cell_type": "code",
   "execution_count": 19,
   "id": "84dab596",
   "metadata": {},
   "outputs": [],
   "source": [
    "raw_users.drop_duplicates(inplace=True)"
   ]
  },
  {
   "cell_type": "markdown",
   "id": "7d3a3b83",
   "metadata": {},
   "source": [
    "Проверим таблицу **raw_users** на наличие неявных дубликатов"
   ]
  },
  {
   "cell_type": "code",
   "execution_count": 20,
   "id": "f5dc6372",
   "metadata": {
    "scrolled": true
   },
   "outputs": [
    {
     "data": {
      "text/plain": [
       "array(['Кира', 'Станислав', 'Алексей', 'Константин', 'Адель', 'Регина',\n",
       "       'Игорь', 'Юрий', 'Ян', 'Валерий', 'Агата', 'Марк', 'Ева',\n",
       "       'Антонина', 'Валерия', 'Амалия', 'Даниил', 'Аделина', 'Святогор',\n",
       "       'Борис', 'Вероника', 'Ростислав', 'Назар', 'Эдуард', 'Василий',\n",
       "       'Денис', 'Тамара', 'Николай', 'Эвелина', 'Федор', 'Руслан', 'Иван',\n",
       "       'Любовь', 'Ярослава', 'Майя', 'Ильдар', 'Данила', 'Нина',\n",
       "       'Стефания', 'Ясмина', 'Дмитрий', 'Александр', 'Одиссей', 'Арсений',\n",
       "       'Алла', 'Таисия', 'Максим', 'Юлиана', 'Павел', 'Карина', 'Алиса',\n",
       "       'Лидия', 'Рамиль', 'Родион', 'Ника', 'Оксана', 'Анастасия',\n",
       "       'Маргарита', 'Вера', 'Тимур', 'Никита', 'Лев', 'Влад', 'Артур',\n",
       "       'Анна', 'Ольга', 'Вячеслав', 'Ксения', 'Виталина', 'Владислав',\n",
       "       'Тамерлан', 'Амина', 'Вадим', 'Олеся', 'Зарина', 'Егор', 'Гордей',\n",
       "       'Лилия', 'Святослав', 'Роберт', 'Амир', 'Влада', 'Богдан',\n",
       "       'Полина', 'Марат', 'Елисей', 'Макар', 'Алина', 'Глеб', 'Андрей',\n",
       "       'Альбина', 'Людмила', 'Марсель', 'Милена', 'Диана', 'Дарина',\n",
       "       'Данил', 'Артемий', 'Лиана', 'Альберт', 'Герман', 'Жанна', 'Нелли',\n",
       "       'Евгения', 'Ариана', 'Самира', 'Захар', 'Эльвира', 'Екатерина',\n",
       "       'Инна', 'Демид', 'Яна', 'Михаил', 'Татьяна', 'Степан', 'Мелания',\n",
       "       'Тимофей', 'Ирина', 'Анжелика', 'Владислава', 'Елизавета',\n",
       "       'Мадина', 'Снежана', 'Даниэль', 'Рустам', 'Каролина', 'Ангелина',\n",
       "       'Владимир', 'Виктория', 'Валентина', 'Семен', 'Арина', 'Лариса',\n",
       "       'Есения', 'Галина', 'Кирилл', 'Игнат', 'Виталий', 'Эмилия',\n",
       "       'Виолетта', 'Яромир', 'Софья', 'Мирослава', 'Евгений', 'Варвара',\n",
       "       'Платон', 'Наталия', 'Анатолий', 'Кристина', 'Всеволод', 'Дарья',\n",
       "       'Наташа', 'Мария', 'Марина', 'Василиса', 'Юлия', 'Илья', 'Злата',\n",
       "       'Роман', 'Наталья', 'Элина', 'Арсен', 'Айдар', 'Алия', 'Виктор',\n",
       "       'Мирон', 'Ульяна', 'Георгий', 'Петр', 'Эльмира', 'Олег', 'Дамир',\n",
       "       'Самир', 'Ярослав', 'Камилла', 'Сергей', 'Эмиль', 'Радмир',\n",
       "       'Савелий', 'Елена', 'Антон', 'Мирослав', 'София', 'Тихон', 'Артём',\n",
       "       'Давид', 'Григорий', 'Алёна', 'Светлана', 'Леонид', 'Александра',\n",
       "       'Василина', 'Милана', 'Матвей'], dtype=object)"
      ]
     },
     "execution_count": 20,
     "metadata": {},
     "output_type": "execute_result"
    }
   ],
   "source": [
    "raw_users['name'].unique()"
   ]
  },
  {
   "cell_type": "code",
   "execution_count": 21,
   "id": "d0ccf2e6",
   "metadata": {},
   "outputs": [
    {
     "data": {
      "text/plain": [
       "array(['Тюмень', 'Омск', 'Москва', 'Ростов-на-Дону', 'Краснодар',\n",
       "       'Пятигорск', 'Екатеринбург', 'Сочи'], dtype=object)"
      ]
     },
     "execution_count": 21,
     "metadata": {},
     "output_type": "execute_result"
    }
   ],
   "source": [
    "raw_users['city'].unique()"
   ]
  },
  {
   "cell_type": "markdown",
   "id": "3de78700",
   "metadata": {},
   "source": [
    "**В результате предобработки данных были:**\n",
    "\n",
    "- изменены типы данных столбцов date и subscription_type в таблице raw_users, изменён тип данных столбца date на datetime, subscription_type в raw_subscriptions теперь имеет только int-значения,\n",
    "- удалены неявные дубликаты,\n",
    "- проверены данные на неявные дубликаты"
   ]
  },
  {
   "cell_type": "markdown",
   "id": "212593c7",
   "metadata": {},
   "source": [
    "# Шаг 3. Исследовательский анализ данных<a id=\"shag3\"></a> "
   ]
  },
  {
   "cell_type": "markdown",
   "id": "d28c10da",
   "metadata": {},
   "source": [
    "Посмотрим на общую информацию о пользователях и поездках"
   ]
  },
  {
   "cell_type": "code",
   "execution_count": 22,
   "id": "72069539",
   "metadata": {},
   "outputs": [
    {
     "data": {
      "image/png": "[encoded data removed]",
      "text/plain": [
       "<Figure size 720x360 with 1 Axes>"
      ]
     },
     "metadata": {
      "needs_background": "light"
     },
     "output_type": "display_data"
    }
   ],
   "source": [
    "plt.figure(figsize=(10, 5))\n",
    "plt.ylabel(\"Количество\")\n",
    "plt.xlabel(\"Города\")\n",
    "plt.xticks(rotation=30)\n",
    "ax = raw_users['city'].hist(bins=15)\n",
    "axes = plt.gca()\n",
    "\n",
    "for patch in axes.patches:\n",
    "    value = int(patch.get_height())\n",
    "    if value > 0: \n",
    "        axes.text(\n",
    "            patch.get_x() + patch.get_width() / 2.,\n",
    "            value,\n",
    "            f\"{value}\",\n",
    "            fontsize=10,\n",
    "            ha='center',\n",
    "        )\n",
    "plt.title(\"Распределение пользователей по городам\", fontsize=14)\n",
    "\n",
    "plt.show();"
   ]
  },
  {
   "cell_type": "code",
   "execution_count": 24,
   "id": "9f284874",
   "metadata": {},
   "outputs": [
    {
     "data": {
      "image/png": "[encoded data removed]",
      "text/plain": [
       "<Figure size 432x432 with 1 Axes>"
      ]
     },
     "metadata": {},
     "output_type": "display_data"
    }
   ],
   "source": [
    "plt.figure(figsize=(6, 6))\n",
    "plt.xlabel(\"Соотношение пользователей с подпиской(1) и без неё(0)\", fontsize=15)\n",
    "\n",
    "ax = raw_users['subscription_type'].value_counts().plot(kind='pie', autopct='%1.1f%%')\n",
    "ax.set(ylabel=None)\n",
    "plt.show();"
   ]
  },
  {
   "cell_type": "code",
   "execution_count": 25,
   "id": "0fbf3c53",
   "metadata": {},
   "outputs": [
    {
     "data": {
      "text/plain": [
       "1.1945636623748213"
      ]
     },
     "execution_count": 25,
     "metadata": {},
     "output_type": "execute_result"
    }
   ],
   "source": [
    "raw_users[raw_users['subscription_type'] == 0].shape[0] / raw_users[raw_users['subscription_type'] == 1].shape[0]"
   ]
  },
  {
   "cell_type": "code",
   "execution_count": 26,
   "id": "2d6d192c",
   "metadata": {
    "scrolled": true
   },
   "outputs": [
    {
     "data": {
      "image/png": "[encoded data removed]",
      "text/plain": [
       "<Figure size 432x288 with 1 Axes>"
      ]
     },
     "metadata": {
      "needs_background": "light"
     },
     "output_type": "display_data"
    }
   ],
   "source": [
    "plt.ylabel(\"Частота\")\n",
    "plt.xlabel(\"Возраст пользователей\")\n",
    "\n",
    "raw_users['age'].hist(bins=15)\n",
    "plt.title('Распределение возраста пользователей')\n",
    "plt.show();"
   ]
  },
  {
   "cell_type": "code",
   "execution_count": 27,
   "id": "001af28b",
   "metadata": {
    "scrolled": true
   },
   "outputs": [
    {
     "data": {
      "text/plain": [
       "0.4827586206896552"
      ]
     },
     "execution_count": 27,
     "metadata": {},
     "output_type": "execute_result"
    }
   ],
   "source": [
    "most_age = raw_users.groupby('age').sum()\n",
    "most_age['subscription_type'][7:-8].count() / most_age['subscription_type'].count()"
   ]
  },
  {
   "cell_type": "code",
   "execution_count": 28,
   "id": "67fbf8f0",
   "metadata": {
    "scrolled": true
   },
   "outputs": [
    {
     "data": {
      "image/png": "[encoded data removed]",
      "text/plain": [
       "<Figure size 432x288 with 1 Axes>"
      ]
     },
     "metadata": {
      "needs_background": "light"
     },
     "output_type": "display_data"
    }
   ],
   "source": [
    "plt.ylabel(\"Частота\")\n",
    "plt.xlabel(\"Расстояние за поездку\")\n",
    "\n",
    "raw_rides['distance'].hist(bins=20)\n",
    "plt.title('Распределение пройдённого расстояния')\n",
    "plt.show();"
   ]
  },
  {
   "cell_type": "code",
   "execution_count": 29,
   "id": "fdb3859b",
   "metadata": {},
   "outputs": [
    {
     "data": {
      "text/plain": [
       "3070.6599756818814"
      ]
     },
     "execution_count": 29,
     "metadata": {},
     "output_type": "execute_result"
    }
   ],
   "source": [
    "raw_rides['distance'].mean()"
   ]
  },
  {
   "cell_type": "code",
   "execution_count": 30,
   "id": "ba8f411b",
   "metadata": {},
   "outputs": [
    {
     "data": {
      "image/png": "[encoded data removed]",
      "text/plain": [
       "<Figure size 432x288 with 1 Axes>"
      ]
     },
     "metadata": {
      "needs_background": "light"
     },
     "output_type": "display_data"
    }
   ],
   "source": [
    "plt.ylabel(\"Частота\")\n",
    "plt.xlabel(\"Продолжительность поездки\")\n",
    "\n",
    "raw_rides['duration'].hist(bins=20)\n",
    "plt.title('Распределение продолжительности поездок')\n",
    "plt.show();"
   ]
  },
  {
   "cell_type": "code",
   "execution_count": 31,
   "id": "1ed76fb8",
   "metadata": {},
   "outputs": [
    {
     "data": {
      "text/plain": [
       "17.80501119798444"
      ]
     },
     "execution_count": 31,
     "metadata": {},
     "output_type": "execute_result"
    }
   ],
   "source": [
    "raw_rides['duration'].mean()"
   ]
  },
  {
   "cell_type": "markdown",
   "id": "916d7a3b",
   "metadata": {},
   "source": [
    "**В ходе исследовательского анализа данныx было обнаружено, что**\n",
    "\n",
    "- пользователи практически равномерно распределены между городами,\n",
    "- пользователей без подписки на 20%(19.4%) больше, чем пользователей с подпиской,\n",
    "- половина(48%) пользователей находятся в возрасте 19-31 года,\n",
    "- среднее расстояние за поездку составляет 3070 метров,\n",
    "- средняя продолжительность поездки - 17 минут,\n",
    "- все параметры кроме *distance* соответствуют нормальному распределению"
   ]
  },
  {
   "cell_type": "markdown",
   "id": "4ef51331",
   "metadata": {},
   "source": [
    "# Шаг 4. Объединение данных<a id=\"shag4\"></a> "
   ]
  },
  {
   "cell_type": "code",
   "execution_count": 32,
   "id": "617a3f02",
   "metadata": {
    "scrolled": true
   },
   "outputs": [
    {
     "data": {
      "text/html": [
       "<div>\n",
       "<style scoped>\n",
       "    .dataframe tbody tr th:only-of-type {\n",
       "        vertical-align: middle;\n",
       "    }\n",
       "\n",
       "    .dataframe tbody tr th {\n",
       "        vertical-align: top;\n",
       "    }\n",
       "\n",
       "    .dataframe thead th {\n",
       "        text-align: right;\n",
       "    }\n",
       "</style>\n",
       "<table border=\"1\" class=\"dataframe\">\n",
       "  <thead>\n",
       "    <tr style=\"text-align: right;\">\n",
       "      <th></th>\n",
       "      <th>user_id</th>\n",
       "      <th>name</th>\n",
       "      <th>age</th>\n",
       "      <th>city</th>\n",
       "      <th>subscription_type</th>\n",
       "    </tr>\n",
       "  </thead>\n",
       "  <tbody>\n",
       "    <tr>\n",
       "      <th>0</th>\n",
       "      <td>1</td>\n",
       "      <td>Кира</td>\n",
       "      <td>22</td>\n",
       "      <td>Тюмень</td>\n",
       "      <td>1</td>\n",
       "    </tr>\n",
       "    <tr>\n",
       "      <th>1</th>\n",
       "      <td>2</td>\n",
       "      <td>Станислав</td>\n",
       "      <td>31</td>\n",
       "      <td>Омск</td>\n",
       "      <td>1</td>\n",
       "    </tr>\n",
       "    <tr>\n",
       "      <th>2</th>\n",
       "      <td>3</td>\n",
       "      <td>Алексей</td>\n",
       "      <td>20</td>\n",
       "      <td>Москва</td>\n",
       "      <td>1</td>\n",
       "    </tr>\n",
       "    <tr>\n",
       "      <th>3</th>\n",
       "      <td>4</td>\n",
       "      <td>Константин</td>\n",
       "      <td>26</td>\n",
       "      <td>Ростов-на-Дону</td>\n",
       "      <td>1</td>\n",
       "    </tr>\n",
       "    <tr>\n",
       "      <th>4</th>\n",
       "      <td>5</td>\n",
       "      <td>Адель</td>\n",
       "      <td>28</td>\n",
       "      <td>Омск</td>\n",
       "      <td>1</td>\n",
       "    </tr>\n",
       "  </tbody>\n",
       "</table>\n",
       "</div>"
      ],
      "text/plain": [
       "   user_id        name  age            city  subscription_type\n",
       "0        1        Кира   22          Тюмень                  1\n",
       "1        2   Станислав   31            Омск                  1\n",
       "2        3     Алексей   20          Москва                  1\n",
       "3        4  Константин   26  Ростов-на-Дону                  1\n",
       "4        5       Адель   28            Омск                  1"
      ]
     },
     "execution_count": 32,
     "metadata": {},
     "output_type": "execute_result"
    }
   ],
   "source": [
    "raw_users.head()"
   ]
  },
  {
   "cell_type": "code",
   "execution_count": 33,
   "id": "504fcbd5",
   "metadata": {},
   "outputs": [
    {
     "name": "stdout",
     "output_type": "stream",
     "text": [
      "<class 'pandas.core.frame.DataFrame'>\n",
      "Int64Index: 1534 entries, 0 to 1533\n",
      "Data columns (total 5 columns):\n",
      " #   Column             Non-Null Count  Dtype \n",
      "---  ------             --------------  ----- \n",
      " 0   user_id            1534 non-null   int64 \n",
      " 1   name               1534 non-null   object\n",
      " 2   age                1534 non-null   int64 \n",
      " 3   city               1534 non-null   object\n",
      " 4   subscription_type  1534 non-null   int64 \n",
      "dtypes: int64(3), object(2)\n",
      "memory usage: 71.9+ KB\n"
     ]
    }
   ],
   "source": [
    "raw_users.info()"
   ]
  },
  {
   "cell_type": "code",
   "execution_count": 34,
   "id": "dc1617bf",
   "metadata": {},
   "outputs": [
    {
     "data": {
      "text/plain": [
       "18068"
      ]
     },
     "execution_count": 34,
     "metadata": {},
     "output_type": "execute_result"
    }
   ],
   "source": [
    "raw_rides.shape[0]"
   ]
  },
  {
   "cell_type": "code",
   "execution_count": 35,
   "id": "d6e3f727",
   "metadata": {
    "scrolled": true
   },
   "outputs": [
    {
     "data": {
      "text/html": [
       "<div>\n",
       "<style scoped>\n",
       "    .dataframe tbody tr th:only-of-type {\n",
       "        vertical-align: middle;\n",
       "    }\n",
       "\n",
       "    .dataframe tbody tr th {\n",
       "        vertical-align: top;\n",
       "    }\n",
       "\n",
       "    .dataframe thead th {\n",
       "        text-align: right;\n",
       "    }\n",
       "</style>\n",
       "<table border=\"1\" class=\"dataframe\">\n",
       "  <thead>\n",
       "    <tr style=\"text-align: right;\">\n",
       "      <th></th>\n",
       "      <th>subscription_type</th>\n",
       "      <th>minute_price</th>\n",
       "      <th>start_ride_price</th>\n",
       "      <th>subscription_fee</th>\n",
       "    </tr>\n",
       "  </thead>\n",
       "  <tbody>\n",
       "    <tr>\n",
       "      <th>0</th>\n",
       "      <td>0</td>\n",
       "      <td>8</td>\n",
       "      <td>50</td>\n",
       "      <td>0</td>\n",
       "    </tr>\n",
       "    <tr>\n",
       "      <th>1</th>\n",
       "      <td>1</td>\n",
       "      <td>6</td>\n",
       "      <td>0</td>\n",
       "      <td>199</td>\n",
       "    </tr>\n",
       "  </tbody>\n",
       "</table>\n",
       "</div>"
      ],
      "text/plain": [
       "   subscription_type  minute_price  start_ride_price  subscription_fee\n",
       "0                  0             8                50                 0\n",
       "1                  1             6                 0               199"
      ]
     },
     "execution_count": 35,
     "metadata": {},
     "output_type": "execute_result"
    }
   ],
   "source": [
    "raw_subscriptions.head()"
   ]
  },
  {
   "cell_type": "markdown",
   "id": "fe6ca4df",
   "metadata": {},
   "source": [
    "Объединим данные о пользователях, поездках и подписках в один датафрейм. "
   ]
  },
  {
   "cell_type": "code",
   "execution_count": 36,
   "id": "6bf288b5",
   "metadata": {},
   "outputs": [],
   "source": [
    "data = raw_users.merge(raw_rides, on='user_id').merge(raw_subscriptions, on='subscription_type')"
   ]
  },
  {
   "cell_type": "code",
   "execution_count": 37,
   "id": "9a660a09",
   "metadata": {},
   "outputs": [
    {
     "data": {
      "text/html": [
       "<div>\n",
       "<style scoped>\n",
       "    .dataframe tbody tr th:only-of-type {\n",
       "        vertical-align: middle;\n",
       "    }\n",
       "\n",
       "    .dataframe tbody tr th {\n",
       "        vertical-align: top;\n",
       "    }\n",
       "\n",
       "    .dataframe thead th {\n",
       "        text-align: right;\n",
       "    }\n",
       "</style>\n",
       "<table border=\"1\" class=\"dataframe\">\n",
       "  <thead>\n",
       "    <tr style=\"text-align: right;\">\n",
       "      <th></th>\n",
       "      <th>user_id</th>\n",
       "      <th>name</th>\n",
       "      <th>age</th>\n",
       "      <th>city</th>\n",
       "      <th>subscription_type</th>\n",
       "      <th>distance</th>\n",
       "      <th>duration</th>\n",
       "      <th>date</th>\n",
       "      <th>month</th>\n",
       "      <th>minute_price</th>\n",
       "      <th>start_ride_price</th>\n",
       "      <th>subscription_fee</th>\n",
       "    </tr>\n",
       "  </thead>\n",
       "  <tbody>\n",
       "    <tr>\n",
       "      <th>0</th>\n",
       "      <td>1</td>\n",
       "      <td>Кира</td>\n",
       "      <td>22</td>\n",
       "      <td>Тюмень</td>\n",
       "      <td>1</td>\n",
       "      <td>4409.919140</td>\n",
       "      <td>25.599769</td>\n",
       "      <td>2021-01-01</td>\n",
       "      <td>1</td>\n",
       "      <td>6</td>\n",
       "      <td>0</td>\n",
       "      <td>199</td>\n",
       "    </tr>\n",
       "    <tr>\n",
       "      <th>1</th>\n",
       "      <td>1</td>\n",
       "      <td>Кира</td>\n",
       "      <td>22</td>\n",
       "      <td>Тюмень</td>\n",
       "      <td>1</td>\n",
       "      <td>2617.592153</td>\n",
       "      <td>15.816871</td>\n",
       "      <td>2021-01-18</td>\n",
       "      <td>1</td>\n",
       "      <td>6</td>\n",
       "      <td>0</td>\n",
       "      <td>199</td>\n",
       "    </tr>\n",
       "    <tr>\n",
       "      <th>2</th>\n",
       "      <td>1</td>\n",
       "      <td>Кира</td>\n",
       "      <td>22</td>\n",
       "      <td>Тюмень</td>\n",
       "      <td>1</td>\n",
       "      <td>754.159807</td>\n",
       "      <td>6.232113</td>\n",
       "      <td>2021-04-20</td>\n",
       "      <td>4</td>\n",
       "      <td>6</td>\n",
       "      <td>0</td>\n",
       "      <td>199</td>\n",
       "    </tr>\n",
       "    <tr>\n",
       "      <th>3</th>\n",
       "      <td>1</td>\n",
       "      <td>Кира</td>\n",
       "      <td>22</td>\n",
       "      <td>Тюмень</td>\n",
       "      <td>1</td>\n",
       "      <td>2694.783254</td>\n",
       "      <td>18.511000</td>\n",
       "      <td>2021-08-11</td>\n",
       "      <td>8</td>\n",
       "      <td>6</td>\n",
       "      <td>0</td>\n",
       "      <td>199</td>\n",
       "    </tr>\n",
       "    <tr>\n",
       "      <th>4</th>\n",
       "      <td>1</td>\n",
       "      <td>Кира</td>\n",
       "      <td>22</td>\n",
       "      <td>Тюмень</td>\n",
       "      <td>1</td>\n",
       "      <td>4028.687306</td>\n",
       "      <td>26.265803</td>\n",
       "      <td>2021-08-28</td>\n",
       "      <td>8</td>\n",
       "      <td>6</td>\n",
       "      <td>0</td>\n",
       "      <td>199</td>\n",
       "    </tr>\n",
       "  </tbody>\n",
       "</table>\n",
       "</div>"
      ],
      "text/plain": [
       "   user_id  name  age    city  subscription_type     distance   duration  \\\n",
       "0        1  Кира   22  Тюмень                  1  4409.919140  25.599769   \n",
       "1        1  Кира   22  Тюмень                  1  2617.592153  15.816871   \n",
       "2        1  Кира   22  Тюмень                  1   754.159807   6.232113   \n",
       "3        1  Кира   22  Тюмень                  1  2694.783254  18.511000   \n",
       "4        1  Кира   22  Тюмень                  1  4028.687306  26.265803   \n",
       "\n",
       "        date  month  minute_price  start_ride_price  subscription_fee  \n",
       "0 2021-01-01      1             6                 0               199  \n",
       "1 2021-01-18      1             6                 0               199  \n",
       "2 2021-04-20      4             6                 0               199  \n",
       "3 2021-08-11      8             6                 0               199  \n",
       "4 2021-08-28      8             6                 0               199  "
      ]
     },
     "execution_count": 37,
     "metadata": {},
     "output_type": "execute_result"
    }
   ],
   "source": [
    "data.head()"
   ]
  },
  {
   "cell_type": "markdown",
   "id": "1c0dd1fe",
   "metadata": {},
   "source": [
    "Создадим два датафрейма с пользователями, у которых есть подписка и у которых её нет."
   ]
  },
  {
   "cell_type": "code",
   "execution_count": 38,
   "id": "557bcdd9",
   "metadata": {},
   "outputs": [],
   "source": [
    "unsubscribed_data = data[data['subscription_type'] == 0]\n",
    "subscribed_data = data[data['subscription_type'] == 1]"
   ]
  },
  {
   "cell_type": "markdown",
   "id": "f6c92769",
   "metadata": {},
   "source": [
    "Сравним показатели *duration* и *distance* у обоих датафреймов"
   ]
  },
  {
   "cell_type": "code",
   "execution_count": 39,
   "id": "6f684022",
   "metadata": {},
   "outputs": [
    {
     "data": {
      "image/png": "[encoded data removed]",
      "text/plain": [
       "<Figure size 1152x360 with 1 Axes>"
      ]
     },
     "metadata": {
      "needs_background": "light"
     },
     "output_type": "display_data"
    }
   ],
   "source": [
    "fig, ax = plt.subplots(figsize=(16, 5))\n",
    "ax=sns.histplot(data=unsubscribed_data, x='duration')\n",
    "plt.xlabel('Продолжитильность поездки (мин)')\n",
    "plt.ylabel('Частота')\n",
    "plt.title('Распределение продолжительности поездок у пользователей без подписки')\n",
    "plt.show();"
   ]
  },
  {
   "cell_type": "markdown",
   "id": "9c684797",
   "metadata": {},
   "source": [
    "На графике заметен выброс данных около нуля минут. Я предполагаю, что такие поездки совершали новые пользователи, которые хотели только опробовать новый вид транспорта, а значит, они быстро заканчивали поездку."
   ]
  },
  {
   "cell_type": "code",
   "execution_count": 40,
   "id": "cbfa61c8",
   "metadata": {
    "scrolled": true
   },
   "outputs": [
    {
     "data": {
      "image/png": "[encoded data removed]",
      "text/plain": [
       "<Figure size 1152x360 with 1 Axes>"
      ]
     },
     "metadata": {
      "needs_background": "light"
     },
     "output_type": "display_data"
    }
   ],
   "source": [
    "fig, ax = plt.subplots(figsize=(16, 5))\n",
    "ax=sns.histplot(data=subscribed_data, x='duration')\n",
    "plt.xlabel('Продолжитильность поездки (мин)')\n",
    "plt.ylabel('Частота')\n",
    "plt.title('Распределение продолжительности поездок у пользователей с подпиской')\n",
    "plt.show();"
   ]
  },
  {
   "cell_type": "code",
   "execution_count": 41,
   "id": "8abbe9c8",
   "metadata": {},
   "outputs": [
    {
     "data": {
      "image/png": "[encoded data removed]",
      "text/plain": [
       "<Figure size 1152x360 with 1 Axes>"
      ]
     },
     "metadata": {
      "needs_background": "light"
     },
     "output_type": "display_data"
    }
   ],
   "source": [
    "fig, ax = plt.subplots(figsize=(16, 5))\n",
    "sns.histplot(data=subscribed_data, x='duration', color='red', multiple=\"stack\", ax=ax)\n",
    "sns.histplot(data=unsubscribed_data, x='duration', multiple=\"stack\", ax=ax)\n",
    "plt.xlabel('Продолжитильность поездки (мин)')\n",
    "plt.ylabel('Частота')\n",
    "plt.legend([\"Есть подписка\", \"Нет подписки\"])\n",
    "plt.title('Распределение продолжительности поездоку пользователей с подпиской и без')\n",
    "plt.show();"
   ]
  },
  {
   "cell_type": "code",
   "execution_count": 42,
   "id": "b0686b9b",
   "metadata": {},
   "outputs": [
    {
     "data": {
      "text/plain": [
       "count    11568.000000\n",
       "mean        17.390909\n",
       "std          6.326803\n",
       "min          0.500000\n",
       "25%         12.958437\n",
       "50%         17.326890\n",
       "75%         21.594071\n",
       "max         34.948498\n",
       "Name: duration, dtype: float64"
      ]
     },
     "execution_count": 42,
     "metadata": {},
     "output_type": "execute_result"
    }
   ],
   "source": [
    "unsubscribed_data['duration'].describe()"
   ]
  },
  {
   "cell_type": "code",
   "execution_count": 43,
   "id": "384c0377",
   "metadata": {},
   "outputs": [
    {
     "data": {
      "text/plain": [
       "count    6500.000000\n",
       "mean       18.541985\n",
       "std         5.572048\n",
       "min         3.760353\n",
       "25%        14.524654\n",
       "50%        18.178153\n",
       "75%        21.884129\n",
       "max        40.823963\n",
       "Name: duration, dtype: float64"
      ]
     },
     "execution_count": 43,
     "metadata": {},
     "output_type": "execute_result"
    }
   ],
   "source": [
    "subscribed_data['duration'].describe()"
   ]
  },
  {
   "cell_type": "markdown",
   "id": "1faa29b8",
   "metadata": {},
   "source": [
    "Удивительно, но большинство поездок пользователей с подпиской длится столько же, сколько и у пользователей без подписки"
   ]
  },
  {
   "cell_type": "code",
   "execution_count": 44,
   "id": "7af0b81f",
   "metadata": {
    "scrolled": true
   },
   "outputs": [
    {
     "data": {
      "image/png": "[encoded data removed]",
      "text/plain": [
       "<Figure size 1152x360 with 1 Axes>"
      ]
     },
     "metadata": {
      "needs_background": "light"
     },
     "output_type": "display_data"
    }
   ],
   "source": [
    "fig, ax = plt.subplots(figsize=(16, 5))\n",
    "ax=sns.histplot(data=unsubscribed_data, x='distance')\n",
    "plt.xlabel('Расстояние, пройденное во время поездки (метры)')\n",
    "plt.ylabel('Частота')\n",
    "plt.title('Распределение пройденного расстояния у пользователей без подписки')\n",
    "plt.show();"
   ]
  },
  {
   "cell_type": "code",
   "execution_count": 45,
   "id": "5082a2fa",
   "metadata": {},
   "outputs": [
    {
     "data": {
      "image/png": "[encoded data removed]",
      "text/plain": [
       "<Figure size 1152x360 with 1 Axes>"
      ]
     },
     "metadata": {
      "needs_background": "light"
     },
     "output_type": "display_data"
    }
   ],
   "source": [
    "fig, ax = plt.subplots(figsize=(16, 5))\n",
    "ax=sns.histplot(data=subscribed_data, x='distance')\n",
    "plt.xlabel('Расстояние, пройденное во время поездки (метры)')\n",
    "plt.ylabel('Частота')\n",
    "plt.title('Распределение пройденного расстояния у пользователей с подпиской')\n",
    "plt.show();"
   ]
  },
  {
   "cell_type": "code",
   "execution_count": 46,
   "id": "26941131",
   "metadata": {},
   "outputs": [
    {
     "data": {
      "image/png": "[encoded data removed]",
      "text/plain": [
       "<Figure size 1152x360 with 1 Axes>"
      ]
     },
     "metadata": {
      "needs_background": "light"
     },
     "output_type": "display_data"
    }
   ],
   "source": [
    "fig, ax = plt.subplots(figsize=(16, 5))\n",
    "sns.histplot(data=subscribed_data, x='distance', color='red', multiple=\"stack\", ax=ax)\n",
    "sns.histplot(data=unsubscribed_data, x='distance', multiple=\"stack\", ax=ax)\n",
    "plt.xlabel('Расстояние, пройденное во время поездки (метры)')\n",
    "plt.ylabel('Частота')\n",
    "plt.legend([\"Есть подписка\", \"Нет подписки\"])\n",
    "plt.title('Распределение пройденного расстояния у пользователей с подпиской и без')\n",
    "plt.show();"
   ]
  },
  {
   "cell_type": "code",
   "execution_count": 47,
   "id": "60bf75b5",
   "metadata": {},
   "outputs": [
    {
     "data": {
      "text/plain": [
       "count    11568.000000\n",
       "mean      3045.495282\n",
       "std       1246.173806\n",
       "min          0.855683\n",
       "25%       2366.562689\n",
       "50%       3114.648465\n",
       "75%       3905.697894\n",
       "max       7211.007745\n",
       "Name: distance, dtype: float64"
      ]
     },
     "execution_count": 47,
     "metadata": {},
     "output_type": "execute_result"
    }
   ],
   "source": [
    "unsubscribed_data['distance'].describe()"
   ]
  },
  {
   "cell_type": "code",
   "execution_count": 48,
   "id": "4eb28d6b",
   "metadata": {},
   "outputs": [
    {
     "data": {
      "text/plain": [
       "count    6500.000000\n",
       "mean     3115.445388\n",
       "std       836.895330\n",
       "min       244.210438\n",
       "25%      2785.444017\n",
       "50%      3148.637229\n",
       "75%      3560.574425\n",
       "max      5699.769662\n",
       "Name: distance, dtype: float64"
      ]
     },
     "execution_count": 48,
     "metadata": {},
     "output_type": "execute_result"
    }
   ],
   "source": [
    "subscribed_data['distance'].describe()"
   ]
  },
  {
   "cell_type": "markdown",
   "id": "593374e4",
   "metadata": {},
   "source": [
    "Данные по пройденной дистанции говорят нам о том, что среднее расстояние, пройденное пользователими с подпиской и без, хоть и слабо, но отличается. Так, 75% пользователей с подпиской проезжают более 2785 метров, в то время, как тот же процент пользователей без подписки проезжает более 2366 метров. Однако нужно иметь в виду, что количество данных пользователей с подпиской и без отличается в 2 раза."
   ]
  },
  {
   "cell_type": "markdown",
   "id": "36dea226",
   "metadata": {},
   "source": [
    "**В ходе объединения данных:**\n",
    "\n",
    "- были создана таблица **data**, основанная на данных из таблиц **raw_users, raw_rides, raw_subscriptions**,\n",
    "- были созданы таблицы **subscribed_data** и **unsubscribed_data** о пользователях с подпиской и без соответственно,\n",
    "- был произведён анализ параметров *distance* и *duration* в таблицах **subscribed_data** и **unsubscribed_data**"
   ]
  },
  {
   "cell_type": "markdown",
   "id": "402d620f",
   "metadata": {},
   "source": [
    "# Шаг 5. Подсчёт выручки<a id=\"shag5\"></a> "
   ]
  },
  {
   "cell_type": "markdown",
   "id": "3e0ff8cd",
   "metadata": {},
   "source": [
    "Создадим датафрейм, в котором будут данные о суммарном расстоянии, наличии подписки, количестве поездок и суммарном времени для каждого пользователя за каждый месяц."
   ]
  },
  {
   "cell_type": "code",
   "execution_count": 49,
   "id": "ad732e62",
   "metadata": {
    "scrolled": true
   },
   "outputs": [
    {
     "data": {
      "text/html": [
       "<div>\n",
       "<style scoped>\n",
       "    .dataframe tbody tr th:only-of-type {\n",
       "        vertical-align: middle;\n",
       "    }\n",
       "\n",
       "    .dataframe tbody tr th {\n",
       "        vertical-align: top;\n",
       "    }\n",
       "\n",
       "    .dataframe thead th {\n",
       "        text-align: right;\n",
       "    }\n",
       "</style>\n",
       "<table border=\"1\" class=\"dataframe\">\n",
       "  <thead>\n",
       "    <tr style=\"text-align: right;\">\n",
       "      <th></th>\n",
       "      <th>user_id</th>\n",
       "      <th>name</th>\n",
       "      <th>age</th>\n",
       "      <th>city</th>\n",
       "      <th>subscription_type</th>\n",
       "      <th>distance</th>\n",
       "      <th>duration</th>\n",
       "      <th>date</th>\n",
       "      <th>month</th>\n",
       "      <th>minute_price</th>\n",
       "      <th>start_ride_price</th>\n",
       "      <th>subscription_fee</th>\n",
       "    </tr>\n",
       "  </thead>\n",
       "  <tbody>\n",
       "    <tr>\n",
       "      <th>0</th>\n",
       "      <td>1</td>\n",
       "      <td>Кира</td>\n",
       "      <td>22</td>\n",
       "      <td>Тюмень</td>\n",
       "      <td>1</td>\n",
       "      <td>4409.919140</td>\n",
       "      <td>25.599769</td>\n",
       "      <td>2021-01-01</td>\n",
       "      <td>1</td>\n",
       "      <td>6</td>\n",
       "      <td>0</td>\n",
       "      <td>199</td>\n",
       "    </tr>\n",
       "    <tr>\n",
       "      <th>1</th>\n",
       "      <td>1</td>\n",
       "      <td>Кира</td>\n",
       "      <td>22</td>\n",
       "      <td>Тюмень</td>\n",
       "      <td>1</td>\n",
       "      <td>2617.592153</td>\n",
       "      <td>15.816871</td>\n",
       "      <td>2021-01-18</td>\n",
       "      <td>1</td>\n",
       "      <td>6</td>\n",
       "      <td>0</td>\n",
       "      <td>199</td>\n",
       "    </tr>\n",
       "    <tr>\n",
       "      <th>2</th>\n",
       "      <td>1</td>\n",
       "      <td>Кира</td>\n",
       "      <td>22</td>\n",
       "      <td>Тюмень</td>\n",
       "      <td>1</td>\n",
       "      <td>754.159807</td>\n",
       "      <td>6.232113</td>\n",
       "      <td>2021-04-20</td>\n",
       "      <td>4</td>\n",
       "      <td>6</td>\n",
       "      <td>0</td>\n",
       "      <td>199</td>\n",
       "    </tr>\n",
       "    <tr>\n",
       "      <th>3</th>\n",
       "      <td>1</td>\n",
       "      <td>Кира</td>\n",
       "      <td>22</td>\n",
       "      <td>Тюмень</td>\n",
       "      <td>1</td>\n",
       "      <td>2694.783254</td>\n",
       "      <td>18.511000</td>\n",
       "      <td>2021-08-11</td>\n",
       "      <td>8</td>\n",
       "      <td>6</td>\n",
       "      <td>0</td>\n",
       "      <td>199</td>\n",
       "    </tr>\n",
       "    <tr>\n",
       "      <th>4</th>\n",
       "      <td>1</td>\n",
       "      <td>Кира</td>\n",
       "      <td>22</td>\n",
       "      <td>Тюмень</td>\n",
       "      <td>1</td>\n",
       "      <td>4028.687306</td>\n",
       "      <td>26.265803</td>\n",
       "      <td>2021-08-28</td>\n",
       "      <td>8</td>\n",
       "      <td>6</td>\n",
       "      <td>0</td>\n",
       "      <td>199</td>\n",
       "    </tr>\n",
       "  </tbody>\n",
       "</table>\n",
       "</div>"
      ],
      "text/plain": [
       "   user_id  name  age    city  subscription_type     distance   duration  \\\n",
       "0        1  Кира   22  Тюмень                  1  4409.919140  25.599769   \n",
       "1        1  Кира   22  Тюмень                  1  2617.592153  15.816871   \n",
       "2        1  Кира   22  Тюмень                  1   754.159807   6.232113   \n",
       "3        1  Кира   22  Тюмень                  1  2694.783254  18.511000   \n",
       "4        1  Кира   22  Тюмень                  1  4028.687306  26.265803   \n",
       "\n",
       "        date  month  minute_price  start_ride_price  subscription_fee  \n",
       "0 2021-01-01      1             6                 0               199  \n",
       "1 2021-01-18      1             6                 0               199  \n",
       "2 2021-04-20      4             6                 0               199  \n",
       "3 2021-08-11      8             6                 0               199  \n",
       "4 2021-08-28      8             6                 0               199  "
      ]
     },
     "execution_count": 49,
     "metadata": {},
     "output_type": "execute_result"
    }
   ],
   "source": [
    "data.head()"
   ]
  },
  {
   "cell_type": "code",
   "execution_count": 50,
   "id": "53049e0a",
   "metadata": {},
   "outputs": [
    {
     "data": {
      "text/html": [
       "<div>\n",
       "<style scoped>\n",
       "    .dataframe tbody tr th:only-of-type {\n",
       "        vertical-align: middle;\n",
       "    }\n",
       "\n",
       "    .dataframe tbody tr th {\n",
       "        vertical-align: top;\n",
       "    }\n",
       "\n",
       "    .dataframe thead th {\n",
       "        text-align: right;\n",
       "    }\n",
       "</style>\n",
       "<table border=\"1\" class=\"dataframe\">\n",
       "  <thead>\n",
       "    <tr style=\"text-align: right;\">\n",
       "      <th></th>\n",
       "      <th></th>\n",
       "      <th>distance</th>\n",
       "      <th>duration</th>\n",
       "      <th>rides_count</th>\n",
       "      <th>has_subscription</th>\n",
       "    </tr>\n",
       "    <tr>\n",
       "      <th>user_id</th>\n",
       "      <th>month</th>\n",
       "      <th></th>\n",
       "      <th></th>\n",
       "      <th></th>\n",
       "      <th></th>\n",
       "    </tr>\n",
       "  </thead>\n",
       "  <tbody>\n",
       "    <tr>\n",
       "      <th rowspan=\"5\" valign=\"top\">1</th>\n",
       "      <th>1</th>\n",
       "      <td>7027.511294</td>\n",
       "      <td>41.416640</td>\n",
       "      <td>2</td>\n",
       "      <td>2</td>\n",
       "    </tr>\n",
       "    <tr>\n",
       "      <th>4</th>\n",
       "      <td>754.159807</td>\n",
       "      <td>6.232113</td>\n",
       "      <td>1</td>\n",
       "      <td>1</td>\n",
       "    </tr>\n",
       "    <tr>\n",
       "      <th>8</th>\n",
       "      <td>6723.470560</td>\n",
       "      <td>44.776802</td>\n",
       "      <td>2</td>\n",
       "      <td>2</td>\n",
       "    </tr>\n",
       "    <tr>\n",
       "      <th>10</th>\n",
       "      <td>5809.911100</td>\n",
       "      <td>31.578017</td>\n",
       "      <td>2</td>\n",
       "      <td>2</td>\n",
       "    </tr>\n",
       "    <tr>\n",
       "      <th>11</th>\n",
       "      <td>7003.499363</td>\n",
       "      <td>53.397424</td>\n",
       "      <td>3</td>\n",
       "      <td>3</td>\n",
       "    </tr>\n",
       "  </tbody>\n",
       "</table>\n",
       "</div>"
      ],
      "text/plain": [
       "                  distance   duration  rides_count  has_subscription\n",
       "user_id month                                                       \n",
       "1       1      7027.511294  41.416640            2                 2\n",
       "        4       754.159807   6.232113            1                 1\n",
       "        8      6723.470560  44.776802            2                 2\n",
       "        10     5809.911100  31.578017            2                 2\n",
       "        11     7003.499363  53.397424            3                 3"
      ]
     },
     "execution_count": 50,
     "metadata": {},
     "output_type": "execute_result"
    }
   ],
   "source": [
    "user_data_by_month = (\n",
    "    data\n",
    "    .groupby(['user_id', 'month'])\n",
    "    .agg({'distance': 'sum', 'duration': 'sum', 'month': 'count', 'subscription_type': 'sum'})\n",
    "    .rename(columns={'month': 'rides_count', 'subscription_type': 'has_subscription'})\n",
    ")\n",
    "user_data_by_month.head()"
   ]
  },
  {
   "cell_type": "markdown",
   "id": "2fcf690f",
   "metadata": {},
   "source": [
    "Добавим столбец с помесячной выручкой, которую принёс каждый пользователь"
   ]
  },
  {
   "cell_type": "code",
   "execution_count": 51,
   "id": "c0cee6b7",
   "metadata": {},
   "outputs": [],
   "source": [
    "def set_gain(row):\n",
    "    if row['has_subscription'] == 0:\n",
    "        return 50 * row['rides_count'] + 8 * math.ceil(row['duration']) + 0\n",
    "    else:\n",
    "        return row['rides_count'] + 6 * math.ceil(row['duration']) + 199"
   ]
  },
  {
   "cell_type": "code",
   "execution_count": 52,
   "id": "58e0e0b8",
   "metadata": {
    "scrolled": true
   },
   "outputs": [],
   "source": [
    "user_data_by_month['gain'] = user_data_by_month.apply(set_gain, axis=1)"
   ]
  },
  {
   "cell_type": "code",
   "execution_count": 53,
   "id": "3ec5408f",
   "metadata": {},
   "outputs": [],
   "source": [
    "user_data_by_month['has_subscription'] = user_data_by_month['has_subscription'].apply(lambda x: int(x != 0))"
   ]
  },
  {
   "cell_type": "code",
   "execution_count": 54,
   "id": "0d1b0137",
   "metadata": {},
   "outputs": [],
   "source": [
    "user_data_by_month['duration'] = np.ceil(user_data_by_month['duration'])"
   ]
  },
  {
   "cell_type": "code",
   "execution_count": 55,
   "id": "d4e4a569",
   "metadata": {},
   "outputs": [
    {
     "data": {
      "text/html": [
       "<div>\n",
       "<style scoped>\n",
       "    .dataframe tbody tr th:only-of-type {\n",
       "        vertical-align: middle;\n",
       "    }\n",
       "\n",
       "    .dataframe tbody tr th {\n",
       "        vertical-align: top;\n",
       "    }\n",
       "\n",
       "    .dataframe thead th {\n",
       "        text-align: right;\n",
       "    }\n",
       "</style>\n",
       "<table border=\"1\" class=\"dataframe\">\n",
       "  <thead>\n",
       "    <tr style=\"text-align: right;\">\n",
       "      <th></th>\n",
       "      <th></th>\n",
       "      <th>distance</th>\n",
       "      <th>duration</th>\n",
       "      <th>rides_count</th>\n",
       "      <th>has_subscription</th>\n",
       "      <th>gain</th>\n",
       "    </tr>\n",
       "    <tr>\n",
       "      <th>user_id</th>\n",
       "      <th>month</th>\n",
       "      <th></th>\n",
       "      <th></th>\n",
       "      <th></th>\n",
       "      <th></th>\n",
       "      <th></th>\n",
       "    </tr>\n",
       "  </thead>\n",
       "  <tbody>\n",
       "    <tr>\n",
       "      <th rowspan=\"5\" valign=\"top\">1</th>\n",
       "      <th>1</th>\n",
       "      <td>7027.511294</td>\n",
       "      <td>42.0</td>\n",
       "      <td>2</td>\n",
       "      <td>1</td>\n",
       "      <td>453.0</td>\n",
       "    </tr>\n",
       "    <tr>\n",
       "      <th>4</th>\n",
       "      <td>754.159807</td>\n",
       "      <td>7.0</td>\n",
       "      <td>1</td>\n",
       "      <td>1</td>\n",
       "      <td>242.0</td>\n",
       "    </tr>\n",
       "    <tr>\n",
       "      <th>8</th>\n",
       "      <td>6723.470560</td>\n",
       "      <td>45.0</td>\n",
       "      <td>2</td>\n",
       "      <td>1</td>\n",
       "      <td>471.0</td>\n",
       "    </tr>\n",
       "    <tr>\n",
       "      <th>10</th>\n",
       "      <td>5809.911100</td>\n",
       "      <td>32.0</td>\n",
       "      <td>2</td>\n",
       "      <td>1</td>\n",
       "      <td>393.0</td>\n",
       "    </tr>\n",
       "    <tr>\n",
       "      <th>11</th>\n",
       "      <td>7003.499363</td>\n",
       "      <td>54.0</td>\n",
       "      <td>3</td>\n",
       "      <td>1</td>\n",
       "      <td>526.0</td>\n",
       "    </tr>\n",
       "  </tbody>\n",
       "</table>\n",
       "</div>"
      ],
      "text/plain": [
       "                  distance  duration  rides_count  has_subscription   gain\n",
       "user_id month                                                             \n",
       "1       1      7027.511294      42.0            2                 1  453.0\n",
       "        4       754.159807       7.0            1                 1  242.0\n",
       "        8      6723.470560      45.0            2                 1  471.0\n",
       "        10     5809.911100      32.0            2                 1  393.0\n",
       "        11     7003.499363      54.0            3                 1  526.0"
      ]
     },
     "execution_count": 55,
     "metadata": {},
     "output_type": "execute_result"
    }
   ],
   "source": [
    "gain_data = user_data_by_month.copy()\n",
    "gain_data.head()"
   ]
  },
  {
   "cell_type": "markdown",
   "id": "44aa607e",
   "metadata": {},
   "source": [
    "**В ходе подсчёта выручки**:\n",
    "\n",
    "- была создана таблица **gain_data**, которая показывает месячную выручку, дистанцию, продожительность поездок, наличие подписки, а также количество поездок."
   ]
  },
  {
   "cell_type": "markdown",
   "id": "41545ac0",
   "metadata": {},
   "source": [
    "# Шаг 6. Проверка гипотез<a id=\"shag6\"></a> "
   ]
  },
  {
   "cell_type": "markdown",
   "id": "818db120",
   "metadata": {},
   "source": [
    "## Тратят ли пользователи с подпиской больше времени на поездки?"
   ]
  },
  {
   "cell_type": "markdown",
   "id": "b61f79a2",
   "metadata": {},
   "source": [
    "Сравним данные о времени, которое тратят на поездку пользователи с подпиской и без неё.\n",
    "\n",
    "Для более надёжной проверки гипотезы будем использовать t-тест, в котором:\n",
    "\n",
    "*Нулевая гипотеза*: пользователи с подпиской тратят столько же времени на поездку, сколько и пользователи без подписки\n",
    "\n",
    "*Альтернативная гипотеза*: пользователи с подпиской тратят больше времени на поездку, чем пользователи без подписки"
   ]
  },
  {
   "cell_type": "code",
   "execution_count": 56,
   "id": "1d9a2031",
   "metadata": {},
   "outputs": [
    {
     "name": "stdout",
     "output_type": "stream",
     "text": [
      "p-значение: 1.2804098316645618e-34\n",
      "Отвергаем нулевую гипотезу\n"
     ]
    }
   ],
   "source": [
    "alpha = 0.01\n",
    "\n",
    "results = st.ttest_ind(subscribed_data['duration'], unsubscribed_data['duration'], alternative='greater')\n",
    "\n",
    "print('p-значение:', results.pvalue)\n",
    "\n",
    "if results.pvalue < alpha:\n",
    "    print('Отвергаем нулевую гипотезу')\n",
    "else:\n",
    "    print('Не получилось отвергнуть нулевую гипотезу')"
   ]
  },
  {
   "cell_type": "markdown",
   "id": "16e1f9fc",
   "metadata": {},
   "source": [
    "Полученное значение p-value меньше заданного уровня значимости(alpha = 0.01), поэтому можно отвергнуть нулевую гипотезу. Есть основания говорить, что пользователи с подпиской тратят больше времени на поездку."
   ]
  },
  {
   "cell_type": "markdown",
   "id": "9533ca2e",
   "metadata": {},
   "source": [
    "## Можно ли сказать, что среднее расстояние, которое проезжают пользователи с подпиской за одну поездку, не превышает оптимальное расстояние с точки зрения износа самоката."
   ]
  },
  {
   "cell_type": "markdown",
   "id": "b5456359",
   "metadata": {},
   "source": [
    "Применим t-тест к выборке, чтобы узнать, проезжают ли пользователи с подпиской расстояние, меньшее оптимального\n",
    "\n",
    "*Нулевая гипотеза*: пользователи с подпиской проезжают расстояние, равное оптимальному\n",
    "\n",
    "*Альтернативная гипотеза*: подписчики в среднем проезжают расстояние, большее оптимального"
   ]
  },
  {
   "cell_type": "code",
   "execution_count": 57,
   "id": "21ae4ee0",
   "metadata": {},
   "outputs": [
    {
     "name": "stdout",
     "output_type": "stream",
     "text": [
      "p-значение: 0.9195368847849785\n",
      "Не получилось отвергнуть нулевую гипотезу\n"
     ]
    }
   ],
   "source": [
    "interested_value = 3130\n",
    "\n",
    "alpha = 0.05\n",
    "\n",
    "results = st.ttest_1samp(\n",
    "    subscribed_data['distance'],\n",
    "    interested_value,\n",
    "    alternative='greater'\n",
    ")\n",
    "\n",
    "print('p-значение:', results.pvalue)\n",
    "\n",
    "if (results.pvalue < alpha):\n",
    "    print('Отвергаем нулевую гипотезу')\n",
    "else:\n",
    "    print('Не получилось отвергнуть нулевую гипотезу')"
   ]
  },
  {
   "cell_type": "markdown",
   "id": "8676f928",
   "metadata": {},
   "source": [
    "Полученное значение p-value больше заданного уровня значимости(alpha = 0.05), поэтому нулевую гипотезу не следует отвергать.\n",
    "А значит, есть основания предполагать, что пользователи с подпиской проезжают расстояние, равное оптимальному для самоката."
   ]
  },
  {
   "cell_type": "markdown",
   "id": "c04ace2d",
   "metadata": {},
   "source": [
    "## Будет ли помесячная выручка от пользователей с подпиской выше, чем выручка от пользователей без подписки?"
   ]
  },
  {
   "cell_type": "markdown",
   "id": "3439f590",
   "metadata": {},
   "source": [
    "Создадим таблицы, в которых будут данные о помесячной выручке с пользователей с подпиской и без"
   ]
  },
  {
   "cell_type": "code",
   "execution_count": 58,
   "id": "ba455591",
   "metadata": {},
   "outputs": [],
   "source": [
    "subscibed_gain = gain_data[gain_data['has_subscription'] == 0].groupby('month').agg({'gain': 'sum'})\n",
    "unsubscibed_gain = gain_data[gain_data['has_subscription'] == 1].groupby('month').agg({'gain': 'sum'})"
   ]
  },
  {
   "cell_type": "markdown",
   "id": "5256ca5d",
   "metadata": {},
   "source": [
    "Используем t-тест, чтобы узнать, как различается выручка между пользователями с подпиской и без\n",
    "\n",
    "*Нулевая гипотеза*: пользователи с подпиской приносят сервису столько же выручки, сколько и пользователи без подписки\n",
    "\n",
    "*Альтернативная гипотеза*: пользователи с подпиской приносят сервису больше выручки, чем пользователи без подписки"
   ]
  },
  {
   "cell_type": "code",
   "execution_count": 59,
   "id": "cf03a050",
   "metadata": {},
   "outputs": [
    {
     "name": "stdout",
     "output_type": "stream",
     "text": [
      "p-значение: 4.229134759489024e-13\n",
      "Отвергаем нулевую гипотезу\n"
     ]
    }
   ],
   "source": [
    "alpha = 0.01\n",
    "\n",
    "results = st.ttest_ind(subscibed_gain['gain'], unsubscibed_gain['gain'], alternative='greater')\n",
    "\n",
    "print('p-значение:', results.pvalue)\n",
    "\n",
    "if results.pvalue < alpha:\n",
    "    print('Отвергаем нулевую гипотезу')\n",
    "else:\n",
    "    print('Не получилось отвергнуть нулевую гипотезу')"
   ]
  },
  {
   "cell_type": "markdown",
   "id": "d035bfd4",
   "metadata": {},
   "source": [
    "Полученное значение p-value меньше заданного уровня значимости(alpha = 0.01), поэтому нулевую гипотезу следует отвергнуть. А значит, пользователи с подпиской действительно приносят сервису больше денег, чем пользователи без подписки"
   ]
  },
  {
   "cell_type": "markdown",
   "id": "677b1e9c",
   "metadata": {},
   "source": [
    "## Количество обращений в техподдержку значимо снизилось после обновления серверов?"
   ]
  },
  {
   "cell_type": "markdown",
   "id": "a02de646",
   "metadata": {},
   "source": [
    "Для проверки гипотезы о том, что обновление серверов привело к снижению количества обращений пользователей в техподдержку, следует применить t-тест(ttest_rel) для сравнения среднего значения связанных выборок."
   ]
  },
  {
   "cell_type": "markdown",
   "id": "b6466e81",
   "metadata": {},
   "source": [
    "Сформулирем одностороннюю гипотезу:\n",
    "\n",
    "*Нулевая гипотеза*: количество обращений в техподдержку не изменилось\n",
    "\n",
    "*Альтернативная гипотеза*: количество обращений в техподдержку снизилось"
   ]
  },
  {
   "cell_type": "markdown",
   "id": "d3deae86",
   "metadata": {},
   "source": [
    "**В ходе проверки гипотез мы выявили, что:**\n",
    "\n",
    "- пользователи с подпиской тратят больше времени на поездку,\n",
    "- пользователи с подпиской проезжают расстояние, равное оптимальному для самоката,\n",
    "- помесячная выручка от пользователей с подпиской выше, чем выручка от пользователей без подписки"
   ]
  },
  {
   "cell_type": "markdown",
   "id": "61213c5e",
   "metadata": {},
   "source": [
    "# Шаг 7. Распределения<a id=\"shag7\"></a> "
   ]
  },
  {
   "cell_type": "markdown",
   "id": "c38a1b45",
   "metadata": {},
   "source": [
    "## Нужное количестве промокодов для удачного проведения акции"
   ]
  },
  {
   "cell_type": "markdown",
   "id": "e67ca042",
   "metadata": {},
   "source": [
    "Используем биномиальное распределение, которое описывает указанную ситуацию"
   ]
  },
  {
   "cell_type": "code",
   "execution_count": 60,
   "id": "b14195f1",
   "metadata": {
    "scrolled": true
   },
   "outputs": [
    {
     "data": {
      "text/plain": [
       "1172.0"
      ]
     },
     "execution_count": 60,
     "metadata": {},
     "output_type": "execute_result"
    }
   ],
   "source": [
    "from scipy import stats as st\n",
    "from scipy.stats import binom\n",
    "\n",
    "p1 = 0.1\n",
    "k1 = 100\n",
    "alpha1 = 0.05 \n",
    "\n",
    "n1 = k1 // p1 + 1  \n",
    "while True:\n",
    "    F_k = binom.cdf(k1, n1, p1)\n",
    "    if F_k <= alpha1:\n",
    "        break\n",
    "    n1 += 1\n",
    "n1"
   ]
  },
  {
   "cell_type": "code",
   "execution_count": 61,
   "id": "99acc391",
   "metadata": {},
   "outputs": [
    {
     "data": {
      "image/png": "[encoded data removed]",
      "text/plain": [
       "<Figure size 1080x432 with 1 Axes>"
      ]
     },
     "metadata": {
      "needs_background": "light"
     },
     "output_type": "display_data"
    }
   ],
   "source": [
    "x = range(int(n1)+1)\n",
    "pmf = binom.pmf(x, n1, p1)\n",
    "plt.figure(figsize=(15, 6))\n",
    "\n",
    "plt.bar(x, pmf, color='orange', alpha=1)\n",
    "plt.xlabel(\"Количество продлений\")\n",
    "plt.ylabel(\"Вероятность\")\n",
    "plt.title(f\"Биномиальное распределение (n={n1}, p={p1})\")\n",
    "plt.grid(True)\n",
    "plt.show()"
   ]
  },
  {
   "cell_type": "markdown",
   "id": "a340569c",
   "metadata": {},
   "source": [
    "В ходе исследования было обнаружено, что минимальное количество промокодов нужно разослать, чтобы вероятность не выполнить план(100 продлений подписок) была примерно 5%, составляет 1172."
   ]
  },
  {
   "cell_type": "markdown",
   "id": "6baa8211",
   "metadata": {},
   "source": [
    "## Поиск вероятности открыть push-уведомления "
   ]
  },
  {
   "cell_type": "markdown",
   "id": "bfff2afe",
   "metadata": {},
   "source": [
    "Данная ситуация так же описывается биномиальным распределением. Но считать каждое отдельное значение достаточно долго, так что воспользуемся нормальной аппроксимацией биномиального распределения и cdf() для быстрой оценки."
   ]
  },
  {
   "cell_type": "code",
   "execution_count": 62,
   "id": "afe7b967",
   "metadata": {},
   "outputs": [
    {
     "data": {
      "text/plain": [
       "0.15371708296369768"
      ]
     },
     "execution_count": 62,
     "metadata": {},
     "output_type": "execute_result"
    }
   ],
   "source": [
    "n = 10**6\n",
    "p = 0.4\n",
    "\n",
    "mu = n * p\n",
    "sigma = (n * p * (1 - p)) ** 0.5\n",
    "\n",
    "distr = st.norm(mu, sigma) \n",
    "\n",
    "result = distr.cdf(399500)\n",
    "result"
   ]
  },
  {
   "cell_type": "code",
   "execution_count": 63,
   "id": "3312e1ac",
   "metadata": {},
   "outputs": [
    {
     "data": {
      "image/png": "[encoded data removed]",
      "text/plain": [
       "<Figure size 1080x576 with 1 Axes>"
      ]
     },
     "metadata": {
      "needs_background": "light"
     },
     "output_type": "display_data"
    }
   ],
   "source": [
    "def linspace(start, stop, num):\n",
    "    step = (stop - start) / (num - 1)\n",
    "    result = []\n",
    "    for i in range(num):\n",
    "        result.append(start + step * i)\n",
    "    return result\n",
    " \n",
    "left = int(n * p - 4 * sqrt(n * p * (1 - p)))\n",
    "right = int(n * p + 4 * sqrt(n * p * (1 - p)))\n",
    " \n",
    "x = list(range(max(0, left), right))\n",
    "\n",
    "plt.figure(figsize=(15, 8))\n",
    "ax = plt.subplot()\n",
    "\n",
    "ax.plot(x, binom.pmf(x, n, p), 'bo', ms=5,\n",
    "\t      label='вероятности биномиального распределения')\n",
    "\n",
    " \n",
    "x = linspace(left, right, 100)\n",
    "\n",
    "ax.plot(x, norm.pdf(x, mu, sigma), 'r-', lw=3, alpha=0.7, label='плотность вероятности нормального распределения')\n",
    " \n",
    "\n",
    "x_ticks = list(range(int(mu - 3 * sigma), int(mu + 3 * sigma), 1))\n",
    "ax.set_xticks(x_ticks)\n",
    "\n",
    "ax.legend(loc='best')\n",
    "#метки плохо отображаются\n",
    "plt.xlabel('Количество push-уведомлений')\n",
    "plt.ylabel('Вероятность')\n",
    "plt.title('График исследования вероятности открыть push-уведомления менее 399500 пользователями')\n",
    "plt.xticks([])\n",
    "plt.show()"
   ]
  },
  {
   "cell_type": "markdown",
   "id": "e15cad74",
   "metadata": {},
   "source": [
    "C помощью аппроксимации биномиального распределения в ходе быстрой оценки было выявлено, что с 15.3% вероятностью уведомление откроют не более 399.5 тыс. пользователей"
   ]
  },
  {
   "cell_type": "markdown",
   "id": "c92c8312",
   "metadata": {},
   "source": [
    "**В ходе работы с запросами отдела маркетинга:**\n",
    "\n",
    "- было найдено нужное количестве промокодов для удачного проведения акции(1172),\n",
    "- была найдена вероятность того, что определённое число пользователей откроет уведомление(15.3%)"
   ]
  },
  {
   "cell_type": "markdown",
   "id": "3bd49ec1",
   "metadata": {},
   "source": [
    "# Общий вывод:<a id=\"shag8\"></a> \n",
    "\n",
    "**Обзор данных**:\n",
    "- в данных отсутствуют пропущенные значения,\n",
    "- тип данных параметра *subscription_type* в таблицах **raw_subscriptions** и **raw_users** следует изменить на int для дальнейшего анализа данных,\n",
    "- тип данных параметра *date* в таблице **raw_rides** следует изменить на datetime,\n",
    "- в столбцe *distance* таблицы **raw_rides** замечены аномальные значения,\n",
    "- явные дубликаты замечены в таблице **raw_users**.\n",
    "\n",
    "**В результате предобработки данных были:**\n",
    "\n",
    "- изменены типы данных столбцов date и subscription_type в таблице raw_users, изменён тип данных столбца date на datetime, subscription_type в raw_subscriptions теперь имеет только int-значения,\n",
    "- удалены неявные дубликаты,\n",
    "- проверены данные на неявные дубликаты\n",
    "\n",
    "**В ходе исследовательского анализа данныx было обнаружено, что**\n",
    "\n",
    "- пользователи практически равномерно распределены между городами,\n",
    "- пользователей без подписки на 20%(19.4%) больше, чем пользователей с подпиской,\n",
    "- половина(48%) пользователей находятся в возрасте 19-31 года,\n",
    "- среднее расстояние за поездку составляет 3070 метров,\n",
    "- средняя продолжительность поездки - 17 минут,\n",
    "- все параметры кроме *distance* соответствуют нормальному распределению\n",
    "\n",
    "**В ходе объединения данных:**\n",
    "\n",
    "- были создана таблица **data**, основанная на данных из таблиц **raw_users, raw_rides, raw_subscriptions**,\n",
    "- были созданы таблицы **subscribed_data** и **unsubscribed_data** о пользователях с подпиской и без соответственно,\n",
    "- был произведён анализ параметров *distance* и *duration* в таблицах **subscribed_data** и **unsubscribed_data**\n",
    "\n",
    "**В ходе подсчёта выручки**:\n",
    "\n",
    "- была создана таблица **gain_data**, которая показывает месячную выручку, дистанцию, продожительность поездок, наличие подписки, а также количество поездок.\n",
    "\n",
    "**В ходе проверки гипотез мы выявили, что:**\n",
    "\n",
    "- пользователи с подпиской тратят больше времени на поездку,\n",
    "- пользователи с подпиской проезжают расстояние, равное оптимальному для самоката,\n",
    "- помесячная выручка от пользователей с подпиской выше, чем выручка от пользователей без подписки\n",
    "\n",
    "**В ходе работы с запросами отдела маркетинга:**\n",
    "\n",
    "- было найдено нужное количестве промокодов для удачного проведения акции(1172),\n",
    "- была найдена вероятность того, что определённое число пользователей откроет уведомление(15.3%)\n",
    "\n",
    "В ходе исследования было выявлено, что пользователи с подпиской приносят больше выручки, а также реже изнашивают самокаты, так что рекомендую продвигать именно этот вид подписки.\n",
    "\n",
    "Данное исследование может помочь в процессе принятия решений сервиса GoFast."
   ]
  }
 ],
 "metadata": {
  "ExecuteTimeLog": [
   {
    "duration": 414,
    "start_time": "2024-12-14T10:20:17.621Z"
   },
   {
    "duration": 303,
    "start_time": "2024-12-14T10:20:19.534Z"
   },
   {
    "duration": 13,
    "start_time": "2024-12-14T10:20:32.736Z"
   },
   {
    "duration": 7,
    "start_time": "2024-12-14T10:20:42.875Z"
   },
   {
    "duration": 7,
    "start_time": "2024-12-14T10:20:49.154Z"
   },
   {
    "duration": 9,
    "start_time": "2024-12-14T10:26:00.514Z"
   },
   {
    "duration": 9,
    "start_time": "2024-12-14T10:26:10.021Z"
   },
   {
    "duration": 13,
    "start_time": "2024-12-14T10:26:17.449Z"
   },
   {
    "duration": 56,
    "start_time": "2024-12-14T10:27:07.587Z"
   },
   {
    "duration": 715,
    "start_time": "2024-12-14T10:37:16.499Z"
   },
   {
    "duration": 175,
    "start_time": "2024-12-14T10:37:25.871Z"
   },
   {
    "duration": 202,
    "start_time": "2024-12-14T10:37:40.027Z"
   },
   {
    "duration": 257,
    "start_time": "2024-12-14T10:37:47.723Z"
   },
   {
    "duration": 224,
    "start_time": "2024-12-14T10:38:20.645Z"
   },
   {
    "duration": 10,
    "start_time": "2024-12-14T10:38:25.138Z"
   },
   {
    "duration": 282,
    "start_time": "2024-12-14T10:38:33.339Z"
   },
   {
    "duration": 234,
    "start_time": "2024-12-14T10:38:54.185Z"
   },
   {
    "duration": 287,
    "start_time": "2024-12-14T10:39:03.182Z"
   },
   {
    "duration": 356,
    "start_time": "2024-12-14T10:39:09.585Z"
   },
   {
    "duration": 296,
    "start_time": "2024-12-14T10:39:24.907Z"
   },
   {
    "duration": 295,
    "start_time": "2024-12-14T10:39:34.044Z"
   },
   {
    "duration": 67,
    "start_time": "2024-12-14T10:42:22.387Z"
   },
   {
    "duration": 8,
    "start_time": "2024-12-14T10:42:28.290Z"
   },
   {
    "duration": 10,
    "start_time": "2024-12-14T10:43:00.006Z"
   },
   {
    "duration": 5,
    "start_time": "2024-12-14T10:43:05.918Z"
   },
   {
    "duration": 7,
    "start_time": "2024-12-14T10:43:12.667Z"
   },
   {
    "duration": 5,
    "start_time": "2024-12-14T10:43:24.732Z"
   },
   {
    "duration": 5,
    "start_time": "2024-12-14T11:29:57.923Z"
   },
   {
    "duration": 11,
    "start_time": "2024-12-14T11:30:26.694Z"
   },
   {
    "duration": 16,
    "start_time": "2024-12-14T11:30:39.956Z"
   },
   {
    "duration": 7,
    "start_time": "2024-12-14T11:31:04.523Z"
   },
   {
    "duration": 5,
    "start_time": "2024-12-14T11:31:09.201Z"
   },
   {
    "duration": 13,
    "start_time": "2024-12-14T11:33:02.609Z"
   },
   {
    "duration": 3,
    "start_time": "2024-12-14T11:35:37.845Z"
   },
   {
    "duration": 6,
    "start_time": "2024-12-14T11:35:45.599Z"
   },
   {
    "duration": 13,
    "start_time": "2024-12-14T11:36:40.860Z"
   },
   {
    "duration": 4,
    "start_time": "2024-12-14T11:40:00.366Z"
   },
   {
    "duration": 6,
    "start_time": "2024-12-14T11:40:21.462Z"
   },
   {
    "duration": 6,
    "start_time": "2024-12-14T11:42:04.760Z"
   },
   {
    "duration": 4,
    "start_time": "2024-12-14T11:42:20.722Z"
   },
   {
    "duration": 3,
    "start_time": "2024-12-14T11:47:07.132Z"
   },
   {
    "duration": 1338,
    "start_time": "2024-12-14T11:47:49.082Z"
   },
   {
    "duration": 199,
    "start_time": "2024-12-14T11:48:25.534Z"
   },
   {
    "duration": 2,
    "start_time": "2024-12-14T11:48:56.751Z"
   },
   {
    "duration": 172,
    "start_time": "2024-12-14T11:48:59.847Z"
   },
   {
    "duration": 174,
    "start_time": "2024-12-14T11:49:34.086Z"
   },
   {
    "duration": 16,
    "start_time": "2024-12-14T11:50:25.329Z"
   },
   {
    "duration": 20,
    "start_time": "2024-12-14T11:50:41.144Z"
   },
   {
    "duration": 5,
    "start_time": "2024-12-14T11:50:45.711Z"
   },
   {
    "duration": 341,
    "start_time": "2024-12-14T11:51:22.794Z"
   },
   {
    "duration": 63,
    "start_time": "2024-12-14T11:51:23.138Z"
   },
   {
    "duration": 13,
    "start_time": "2024-12-14T11:51:23.202Z"
   },
   {
    "duration": 469,
    "start_time": "2024-12-14T11:51:23.217Z"
   },
   {
    "duration": 10,
    "start_time": "2024-12-14T11:51:23.688Z"
   },
   {
    "duration": 278,
    "start_time": "2024-12-14T11:51:23.700Z"
   },
   {
    "duration": 11,
    "start_time": "2024-12-14T11:51:23.981Z"
   },
   {
    "duration": 51,
    "start_time": "2024-12-14T11:51:23.993Z"
   },
   {
    "duration": 374,
    "start_time": "2024-12-14T11:51:24.046Z"
   },
   {
    "duration": 9,
    "start_time": "2024-12-14T11:51:24.421Z"
   },
   {
    "duration": 57,
    "start_time": "2024-12-14T11:51:24.431Z"
   },
   {
    "duration": 357,
    "start_time": "2024-12-14T11:51:24.490Z"
   },
   {
    "duration": 5,
    "start_time": "2024-12-14T11:51:24.852Z"
   },
   {
    "duration": 46,
    "start_time": "2024-12-14T11:51:24.859Z"
   },
   {
    "duration": 26,
    "start_time": "2024-12-14T11:51:24.906Z"
   },
   {
    "duration": 25,
    "start_time": "2024-12-14T11:51:24.933Z"
   },
   {
    "duration": 35,
    "start_time": "2024-12-14T11:51:24.959Z"
   },
   {
    "duration": 24,
    "start_time": "2024-12-14T11:51:24.995Z"
   },
   {
    "duration": 4,
    "start_time": "2024-12-14T11:51:25.020Z"
   },
   {
    "duration": 39,
    "start_time": "2024-12-14T11:51:25.025Z"
   },
   {
    "duration": 33,
    "start_time": "2024-12-14T11:51:25.065Z"
   },
   {
    "duration": 13,
    "start_time": "2024-12-14T11:51:25.099Z"
   },
   {
    "duration": 6,
    "start_time": "2024-12-14T11:51:32.944Z"
   },
   {
    "duration": 350,
    "start_time": "2024-12-14T11:52:37.819Z"
   },
   {
    "duration": 62,
    "start_time": "2024-12-14T11:52:38.171Z"
   },
   {
    "duration": 14,
    "start_time": "2024-12-14T11:52:38.235Z"
   },
   {
    "duration": 464,
    "start_time": "2024-12-14T11:52:38.250Z"
   },
   {
    "duration": 10,
    "start_time": "2024-12-14T11:52:38.716Z"
   },
   {
    "duration": 276,
    "start_time": "2024-12-14T11:52:38.727Z"
   },
   {
    "duration": 7,
    "start_time": "2024-12-14T11:52:39.005Z"
   },
   {
    "duration": 9,
    "start_time": "2024-12-14T11:52:39.013Z"
   },
   {
    "duration": 371,
    "start_time": "2024-12-14T11:52:39.024Z"
   },
   {
    "duration": 6,
    "start_time": "2024-12-14T11:52:39.396Z"
   },
   {
    "duration": 16,
    "start_time": "2024-12-14T11:52:39.403Z"
   },
   {
    "duration": 316,
    "start_time": "2024-12-14T11:52:39.421Z"
   },
   {
    "duration": 4,
    "start_time": "2024-12-14T11:52:39.739Z"
   },
   {
    "duration": 10,
    "start_time": "2024-12-14T11:52:39.756Z"
   },
   {
    "duration": 11,
    "start_time": "2024-12-14T11:52:39.768Z"
   },
   {
    "duration": 36,
    "start_time": "2024-12-14T11:52:39.780Z"
   },
   {
    "duration": 7,
    "start_time": "2024-12-14T11:52:39.817Z"
   },
   {
    "duration": 15,
    "start_time": "2024-12-14T11:52:39.825Z"
   },
   {
    "duration": 3,
    "start_time": "2024-12-14T11:52:39.842Z"
   },
   {
    "duration": 5,
    "start_time": "2024-12-14T11:52:39.846Z"
   },
   {
    "duration": 11,
    "start_time": "2024-12-14T11:52:39.856Z"
   },
   {
    "duration": 4,
    "start_time": "2024-12-14T11:52:39.869Z"
   },
   {
    "duration": 439,
    "start_time": "2024-12-14T11:58:34.789Z"
   },
   {
    "duration": 291,
    "start_time": "2024-12-14T11:58:55.917Z"
   },
   {
    "duration": 305,
    "start_time": "2024-12-14T11:59:13.322Z"
   },
   {
    "duration": 302,
    "start_time": "2024-12-14T11:59:29.169Z"
   },
   {
    "duration": 266,
    "start_time": "2024-12-14T12:00:17.705Z"
   },
   {
    "duration": 311,
    "start_time": "2024-12-14T12:00:22.324Z"
   },
   {
    "duration": 317,
    "start_time": "2024-12-14T12:00:30.297Z"
   },
   {
    "duration": 299,
    "start_time": "2024-12-14T12:01:41.174Z"
   },
   {
    "duration": 340,
    "start_time": "2024-12-14T12:01:49.649Z"
   },
   {
    "duration": 328,
    "start_time": "2024-12-14T12:03:00.412Z"
   },
   {
    "duration": 17,
    "start_time": "2024-12-14T12:03:57.847Z"
   },
   {
    "duration": 128,
    "start_time": "2024-12-14T12:04:44.661Z"
   },
   {
    "duration": 125,
    "start_time": "2024-12-14T12:04:53.084Z"
   },
   {
    "duration": 126,
    "start_time": "2024-12-14T12:05:08.293Z"
   },
   {
    "duration": 165,
    "start_time": "2024-12-14T12:05:14.297Z"
   },
   {
    "duration": 153,
    "start_time": "2024-12-14T12:07:00.642Z"
   },
   {
    "duration": 170,
    "start_time": "2024-12-14T12:07:07.587Z"
   },
   {
    "duration": 218,
    "start_time": "2024-12-14T12:07:16.342Z"
   },
   {
    "duration": 144,
    "start_time": "2024-12-14T12:07:22.161Z"
   },
   {
    "duration": 153,
    "start_time": "2024-12-14T12:07:52.214Z"
   },
   {
    "duration": 159,
    "start_time": "2024-12-14T12:07:57.659Z"
   },
   {
    "duration": 156,
    "start_time": "2024-12-14T12:08:07.119Z"
   },
   {
    "duration": 155,
    "start_time": "2024-12-14T12:08:14.534Z"
   },
   {
    "duration": 155,
    "start_time": "2024-12-14T12:09:24.974Z"
   },
   {
    "duration": 170,
    "start_time": "2024-12-14T12:09:30.422Z"
   },
   {
    "duration": 12,
    "start_time": "2024-12-14T12:10:13.608Z"
   },
   {
    "duration": 143,
    "start_time": "2024-12-14T12:11:01.924Z"
   },
   {
    "duration": 170,
    "start_time": "2024-12-14T12:12:19.861Z"
   },
   {
    "duration": 177,
    "start_time": "2024-12-14T12:12:24.809Z"
   },
   {
    "duration": 242,
    "start_time": "2024-12-14T12:12:40.718Z"
   },
   {
    "duration": 137,
    "start_time": "2024-12-14T12:12:51.329Z"
   },
   {
    "duration": 145,
    "start_time": "2024-12-14T12:13:06.007Z"
   },
   {
    "duration": 147,
    "start_time": "2024-12-14T12:13:11.823Z"
   },
   {
    "duration": 225,
    "start_time": "2024-12-14T12:13:41.243Z"
   },
   {
    "duration": 158,
    "start_time": "2024-12-14T12:13:48.920Z"
   },
   {
    "duration": 245,
    "start_time": "2024-12-14T12:14:39.022Z"
   },
   {
    "duration": 1054,
    "start_time": "2024-12-14T12:14:47.094Z"
   },
   {
    "duration": 62,
    "start_time": "2024-12-14T12:14:48.149Z"
   },
   {
    "duration": 11,
    "start_time": "2024-12-14T12:14:48.212Z"
   },
   {
    "duration": 251,
    "start_time": "2024-12-14T12:14:48.225Z"
   },
   {
    "duration": 10,
    "start_time": "2024-12-14T12:14:48.477Z"
   },
   {
    "duration": 226,
    "start_time": "2024-12-14T12:14:48.488Z"
   },
   {
    "duration": 7,
    "start_time": "2024-12-14T12:14:48.716Z"
   },
   {
    "duration": 10,
    "start_time": "2024-12-14T12:14:48.724Z"
   },
   {
    "duration": 316,
    "start_time": "2024-12-14T12:14:48.735Z"
   },
   {
    "duration": 6,
    "start_time": "2024-12-14T12:14:49.053Z"
   },
   {
    "duration": 15,
    "start_time": "2024-12-14T12:14:49.060Z"
   },
   {
    "duration": 303,
    "start_time": "2024-12-14T12:14:49.077Z"
   },
   {
    "duration": 6,
    "start_time": "2024-12-14T12:14:49.381Z"
   },
   {
    "duration": 11,
    "start_time": "2024-12-14T12:14:49.389Z"
   },
   {
    "duration": 5,
    "start_time": "2024-12-14T12:14:49.401Z"
   },
   {
    "duration": 15,
    "start_time": "2024-12-14T12:14:49.408Z"
   },
   {
    "duration": 3,
    "start_time": "2024-12-14T12:14:49.424Z"
   },
   {
    "duration": 33,
    "start_time": "2024-12-14T12:14:49.429Z"
   },
   {
    "duration": 4,
    "start_time": "2024-12-14T12:14:49.464Z"
   },
   {
    "duration": 4,
    "start_time": "2024-12-14T12:14:49.470Z"
   },
   {
    "duration": 10,
    "start_time": "2024-12-14T12:14:49.476Z"
   },
   {
    "duration": 13,
    "start_time": "2024-12-14T12:14:49.487Z"
   },
   {
    "duration": 136,
    "start_time": "2024-12-14T12:14:49.502Z"
   },
   {
    "duration": 184,
    "start_time": "2024-12-14T12:14:49.640Z"
   },
   {
    "duration": 128,
    "start_time": "2024-12-14T12:14:49.826Z"
   },
   {
    "duration": 141,
    "start_time": "2024-12-14T12:15:08.372Z"
   },
   {
    "duration": 116,
    "start_time": "2024-12-14T12:15:13.529Z"
   },
   {
    "duration": 114,
    "start_time": "2024-12-14T12:15:23.115Z"
   },
   {
    "duration": 110,
    "start_time": "2024-12-14T12:15:29.772Z"
   },
   {
    "duration": 113,
    "start_time": "2024-12-14T12:16:45.708Z"
   },
   {
    "duration": 112,
    "start_time": "2024-12-14T12:17:07.173Z"
   },
   {
    "duration": 897,
    "start_time": "2024-12-14T12:17:39.573Z"
   },
   {
    "duration": 133,
    "start_time": "2024-12-14T12:17:59.798Z"
   },
   {
    "duration": 132,
    "start_time": "2024-12-14T12:18:07.386Z"
   },
   {
    "duration": 136,
    "start_time": "2024-12-14T12:18:14.118Z"
   },
   {
    "duration": 212,
    "start_time": "2024-12-14T12:19:05.551Z"
   },
   {
    "duration": 14,
    "start_time": "2024-12-14T12:23:24.886Z"
   },
   {
    "duration": 14,
    "start_time": "2024-12-14T12:23:31.259Z"
   },
   {
    "duration": 12,
    "start_time": "2024-12-14T12:23:35.270Z"
   },
   {
    "duration": 6,
    "start_time": "2024-12-14T12:24:00.066Z"
   },
   {
    "duration": 4,
    "start_time": "2024-12-14T12:24:17.728Z"
   },
   {
    "duration": 1117,
    "start_time": "2024-12-14T12:26:51.546Z"
   },
   {
    "duration": 65,
    "start_time": "2024-12-14T12:26:52.665Z"
   },
   {
    "duration": 12,
    "start_time": "2024-12-14T12:26:52.731Z"
   },
   {
    "duration": 262,
    "start_time": "2024-12-14T12:26:52.744Z"
   },
   {
    "duration": 11,
    "start_time": "2024-12-14T12:26:53.008Z"
   },
   {
    "duration": 265,
    "start_time": "2024-12-14T12:26:53.020Z"
   },
   {
    "duration": 9,
    "start_time": "2024-12-14T12:26:53.286Z"
   },
   {
    "duration": 53,
    "start_time": "2024-12-14T12:26:53.296Z"
   },
   {
    "duration": 329,
    "start_time": "2024-12-14T12:26:53.351Z"
   },
   {
    "duration": 6,
    "start_time": "2024-12-14T12:26:53.682Z"
   },
   {
    "duration": 38,
    "start_time": "2024-12-14T12:26:53.690Z"
   },
   {
    "duration": 378,
    "start_time": "2024-12-14T12:26:53.730Z"
   },
   {
    "duration": 6,
    "start_time": "2024-12-14T12:26:54.109Z"
   },
   {
    "duration": 9,
    "start_time": "2024-12-14T12:26:54.118Z"
   },
   {
    "duration": 25,
    "start_time": "2024-12-14T12:26:54.129Z"
   },
   {
    "duration": 7,
    "start_time": "2024-12-14T12:26:54.155Z"
   },
   {
    "duration": 5,
    "start_time": "2024-12-14T12:26:54.163Z"
   },
   {
    "duration": 21,
    "start_time": "2024-12-14T12:26:54.169Z"
   },
   {
    "duration": 19,
    "start_time": "2024-12-14T12:26:54.191Z"
   },
   {
    "duration": 6,
    "start_time": "2024-12-14T12:26:54.212Z"
   },
   {
    "duration": 7,
    "start_time": "2024-12-14T12:26:54.220Z"
   },
   {
    "duration": 19,
    "start_time": "2024-12-14T12:26:54.229Z"
   },
   {
    "duration": 156,
    "start_time": "2024-12-14T12:26:54.250Z"
   },
   {
    "duration": 191,
    "start_time": "2024-12-14T12:26:54.408Z"
   },
   {
    "duration": 134,
    "start_time": "2024-12-14T12:26:54.600Z"
   },
   {
    "duration": 153,
    "start_time": "2024-12-14T12:26:54.736Z"
   },
   {
    "duration": 7,
    "start_time": "2024-12-14T12:26:54.891Z"
   },
   {
    "duration": 148,
    "start_time": "2024-12-14T12:26:54.899Z"
   },
   {
    "duration": 16,
    "start_time": "2024-12-14T12:31:47.612Z"
   },
   {
    "duration": 10,
    "start_time": "2024-12-14T12:31:59.550Z"
   },
   {
    "duration": 9,
    "start_time": "2024-12-14T12:33:01.543Z"
   },
   {
    "duration": 7,
    "start_time": "2024-12-14T12:33:06.676Z"
   },
   {
    "duration": 10,
    "start_time": "2024-12-14T12:33:30.859Z"
   },
   {
    "duration": 11,
    "start_time": "2024-12-14T12:33:34.214Z"
   },
   {
    "duration": 133,
    "start_time": "2024-12-14T12:34:51.979Z"
   },
   {
    "duration": 139,
    "start_time": "2024-12-14T12:34:57.193Z"
   },
   {
    "duration": 137,
    "start_time": "2024-12-14T12:35:07.398Z"
   },
   {
    "duration": 161,
    "start_time": "2024-12-14T12:35:25.348Z"
   },
   {
    "duration": 129,
    "start_time": "2024-12-14T12:35:53.450Z"
   },
   {
    "duration": 6,
    "start_time": "2024-12-14T12:36:34.674Z"
   },
   {
    "duration": 109,
    "start_time": "2024-12-14T12:36:58.451Z"
   },
   {
    "duration": 11,
    "start_time": "2024-12-14T12:37:07.516Z"
   },
   {
    "duration": 11,
    "start_time": "2024-12-14T12:37:12.679Z"
   },
   {
    "duration": 10,
    "start_time": "2024-12-14T12:39:23.155Z"
   },
   {
    "duration": 15,
    "start_time": "2024-12-14T12:39:43.897Z"
   },
   {
    "duration": 11,
    "start_time": "2024-12-14T12:39:49.381Z"
   },
   {
    "duration": 54,
    "start_time": "2024-12-14T12:40:00.306Z"
   },
   {
    "duration": 11,
    "start_time": "2024-12-14T12:40:03.415Z"
   },
   {
    "duration": 10,
    "start_time": "2024-12-14T12:40:34.729Z"
   },
   {
    "duration": 10,
    "start_time": "2024-12-14T12:40:48.543Z"
   },
   {
    "duration": 10,
    "start_time": "2024-12-14T12:40:54.758Z"
   },
   {
    "duration": 8,
    "start_time": "2024-12-14T12:41:20.563Z"
   },
   {
    "duration": 11,
    "start_time": "2024-12-14T12:41:28.068Z"
   },
   {
    "duration": 7,
    "start_time": "2024-12-14T12:41:38.106Z"
   },
   {
    "duration": 13,
    "start_time": "2024-12-14T12:42:39.724Z"
   },
   {
    "duration": 9,
    "start_time": "2024-12-14T12:42:49.210Z"
   },
   {
    "duration": 24,
    "start_time": "2024-12-14T12:43:08.397Z"
   },
   {
    "duration": 13,
    "start_time": "2024-12-14T12:43:15.714Z"
   },
   {
    "duration": 5,
    "start_time": "2024-12-14T12:44:08.565Z"
   },
   {
    "duration": 7,
    "start_time": "2024-12-14T12:44:19.388Z"
   },
   {
    "duration": 4,
    "start_time": "2024-12-14T12:45:16.146Z"
   },
   {
    "duration": 7,
    "start_time": "2024-12-14T12:46:12.382Z"
   },
   {
    "duration": 4,
    "start_time": "2024-12-14T12:46:18.053Z"
   },
   {
    "duration": 5,
    "start_time": "2024-12-14T12:46:35.276Z"
   },
   {
    "duration": 1469,
    "start_time": "2024-12-18T10:56:33.109Z"
   },
   {
    "duration": 216,
    "start_time": "2024-12-18T10:56:34.580Z"
   },
   {
    "duration": 18,
    "start_time": "2024-12-18T10:56:34.798Z"
   },
   {
    "duration": 320,
    "start_time": "2024-12-18T10:56:34.819Z"
   },
   {
    "duration": 12,
    "start_time": "2024-12-18T10:56:35.141Z"
   },
   {
    "duration": 298,
    "start_time": "2024-12-18T10:56:35.155Z"
   },
   {
    "duration": 9,
    "start_time": "2024-12-18T10:56:35.455Z"
   },
   {
    "duration": 59,
    "start_time": "2024-12-18T10:56:35.466Z"
   },
   {
    "duration": 418,
    "start_time": "2024-12-18T10:56:35.527Z"
   },
   {
    "duration": 8,
    "start_time": "2024-12-18T10:56:35.949Z"
   },
   {
    "duration": 35,
    "start_time": "2024-12-18T10:56:35.959Z"
   },
   {
    "duration": 374,
    "start_time": "2024-12-18T10:56:35.996Z"
   },
   {
    "duration": 6,
    "start_time": "2024-12-18T10:56:36.372Z"
   },
   {
    "duration": 21,
    "start_time": "2024-12-18T10:56:36.380Z"
   },
   {
    "duration": 18,
    "start_time": "2024-12-18T10:56:36.402Z"
   },
   {
    "duration": 11,
    "start_time": "2024-12-18T10:56:36.421Z"
   },
   {
    "duration": 4,
    "start_time": "2024-12-18T10:56:36.434Z"
   },
   {
    "duration": 63,
    "start_time": "2024-12-18T10:56:36.440Z"
   },
   {
    "duration": 6,
    "start_time": "2024-12-18T10:56:36.505Z"
   },
   {
    "duration": 22,
    "start_time": "2024-12-18T10:56:36.513Z"
   },
   {
    "duration": 34,
    "start_time": "2024-12-18T10:56:36.538Z"
   },
   {
    "duration": 10,
    "start_time": "2024-12-18T10:56:36.574Z"
   },
   {
    "duration": 174,
    "start_time": "2024-12-18T10:56:36.586Z"
   },
   {
    "duration": 247,
    "start_time": "2024-12-18T10:56:36.762Z"
   },
   {
    "duration": 9,
    "start_time": "2024-12-18T10:56:37.011Z"
   },
   {
    "duration": 158,
    "start_time": "2024-12-18T10:56:37.021Z"
   },
   {
    "duration": 8,
    "start_time": "2024-12-18T10:56:37.180Z"
   },
   {
    "duration": 180,
    "start_time": "2024-12-18T10:56:37.191Z"
   },
   {
    "duration": 5,
    "start_time": "2024-12-18T10:56:37.373Z"
   },
   {
    "duration": 181,
    "start_time": "2024-12-18T10:56:37.380Z"
   },
   {
    "duration": 5,
    "start_time": "2024-12-18T10:56:37.562Z"
   },
   {
    "duration": 100,
    "start_time": "2024-12-18T10:59:33.646Z"
   },
   {
    "duration": 9,
    "start_time": "2024-12-18T11:00:12.013Z"
   },
   {
    "duration": 11,
    "start_time": "2024-12-18T11:00:24.920Z"
   },
   {
    "duration": 7,
    "start_time": "2024-12-18T11:00:45.927Z"
   },
   {
    "duration": 11,
    "start_time": "2024-12-18T11:01:31.160Z"
   },
   {
    "duration": 10,
    "start_time": "2024-12-18T11:01:52.119Z"
   },
   {
    "duration": 4,
    "start_time": "2024-12-18T11:01:56.494Z"
   },
   {
    "duration": 11,
    "start_time": "2024-12-18T11:02:51.314Z"
   },
   {
    "duration": 27,
    "start_time": "2024-12-18T11:02:57.081Z"
   },
   {
    "duration": 34,
    "start_time": "2024-12-18T11:03:51.479Z"
   },
   {
    "duration": 17,
    "start_time": "2024-12-18T11:04:12.933Z"
   },
   {
    "duration": 12,
    "start_time": "2024-12-18T11:04:19.713Z"
   },
   {
    "duration": 24,
    "start_time": "2024-12-18T11:07:11.876Z"
   },
   {
    "duration": 22,
    "start_time": "2024-12-18T11:07:21.545Z"
   },
   {
    "duration": 7,
    "start_time": "2024-12-18T11:07:30.627Z"
   },
   {
    "duration": 137,
    "start_time": "2024-12-18T11:09:19.793Z"
   },
   {
    "duration": 148,
    "start_time": "2024-12-18T11:09:37.689Z"
   },
   {
    "duration": 135,
    "start_time": "2024-12-18T11:10:28.193Z"
   },
   {
    "duration": 129,
    "start_time": "2024-12-18T11:10:38.947Z"
   },
   {
    "duration": 9,
    "start_time": "2024-12-18T11:14:08.881Z"
   },
   {
    "duration": 9,
    "start_time": "2024-12-18T11:14:38.131Z"
   },
   {
    "duration": 8,
    "start_time": "2024-12-18T11:18:14.808Z"
   },
   {
    "duration": 9,
    "start_time": "2024-12-18T11:18:32.135Z"
   },
   {
    "duration": 8,
    "start_time": "2024-12-18T11:18:42.724Z"
   },
   {
    "duration": 1243,
    "start_time": "2024-12-18T16:22:59.404Z"
   },
   {
    "duration": 226,
    "start_time": "2024-12-18T16:23:00.653Z"
   },
   {
    "duration": 12,
    "start_time": "2024-12-18T16:23:00.881Z"
   },
   {
    "duration": 305,
    "start_time": "2024-12-18T16:23:00.895Z"
   },
   {
    "duration": 11,
    "start_time": "2024-12-18T16:23:01.201Z"
   },
   {
    "duration": 302,
    "start_time": "2024-12-18T16:23:01.214Z"
   },
   {
    "duration": 8,
    "start_time": "2024-12-18T16:23:01.518Z"
   },
   {
    "duration": 20,
    "start_time": "2024-12-18T16:23:01.528Z"
   },
   {
    "duration": 377,
    "start_time": "2024-12-18T16:23:01.553Z"
   },
   {
    "duration": 7,
    "start_time": "2024-12-18T16:23:01.932Z"
   },
   {
    "duration": 111,
    "start_time": "2024-12-18T16:23:01.940Z"
   },
   {
    "duration": 408,
    "start_time": "2024-12-18T16:23:02.053Z"
   },
   {
    "duration": 6,
    "start_time": "2024-12-18T16:23:02.462Z"
   },
   {
    "duration": 13,
    "start_time": "2024-12-18T16:23:02.469Z"
   },
   {
    "duration": 19,
    "start_time": "2024-12-18T16:23:02.483Z"
   },
   {
    "duration": 30,
    "start_time": "2024-12-18T16:23:02.503Z"
   },
   {
    "duration": 3,
    "start_time": "2024-12-18T16:23:02.534Z"
   },
   {
    "duration": 44,
    "start_time": "2024-12-18T16:23:02.539Z"
   },
   {
    "duration": 6,
    "start_time": "2024-12-18T16:23:02.585Z"
   },
   {
    "duration": 31,
    "start_time": "2024-12-18T16:23:02.592Z"
   },
   {
    "duration": 15,
    "start_time": "2024-12-18T16:23:02.625Z"
   },
   {
    "duration": 25,
    "start_time": "2024-12-18T16:23:02.641Z"
   },
   {
    "duration": 177,
    "start_time": "2024-12-18T16:23:02.667Z"
   },
   {
    "duration": 146,
    "start_time": "2024-12-18T16:23:02.846Z"
   },
   {
    "duration": 6,
    "start_time": "2024-12-18T16:23:02.994Z"
   },
   {
    "duration": 167,
    "start_time": "2024-12-18T16:23:03.002Z"
   },
   {
    "duration": 7,
    "start_time": "2024-12-18T16:23:03.170Z"
   },
   {
    "duration": 159,
    "start_time": "2024-12-18T16:23:03.181Z"
   },
   {
    "duration": 4,
    "start_time": "2024-12-18T16:23:03.341Z"
   },
   {
    "duration": 174,
    "start_time": "2024-12-18T16:23:03.347Z"
   },
   {
    "duration": 5,
    "start_time": "2024-12-18T16:23:03.522Z"
   },
   {
    "duration": 14,
    "start_time": "2024-12-18T16:23:03.529Z"
   },
   {
    "duration": 20,
    "start_time": "2024-12-18T16:23:03.544Z"
   },
   {
    "duration": 13,
    "start_time": "2024-12-18T16:23:03.566Z"
   },
   {
    "duration": 24,
    "start_time": "2024-12-18T16:23:03.581Z"
   },
   {
    "duration": 22,
    "start_time": "2024-12-18T16:23:03.607Z"
   },
   {
    "duration": 24,
    "start_time": "2024-12-18T16:23:03.631Z"
   },
   {
    "duration": 13,
    "start_time": "2024-12-18T16:23:03.657Z"
   },
   {
    "duration": 26,
    "start_time": "2024-12-18T16:23:03.672Z"
   },
   {
    "duration": 138,
    "start_time": "2024-12-18T16:23:03.699Z"
   },
   {
    "duration": 152,
    "start_time": "2024-12-18T16:23:03.838Z"
   },
   {
    "duration": 8,
    "start_time": "2024-12-18T16:23:03.993Z"
   },
   {
    "duration": 40,
    "start_time": "2024-12-18T16:23:04.003Z"
   },
   {
    "duration": 143,
    "start_time": "2024-12-18T16:23:04.045Z"
   },
   {
    "duration": 130,
    "start_time": "2024-12-18T16:23:04.191Z"
   },
   {
    "duration": 9,
    "start_time": "2024-12-18T16:23:04.323Z"
   },
   {
    "duration": 71,
    "start_time": "2024-12-18T16:23:04.334Z"
   },
   {
    "duration": 12,
    "start_time": "2024-12-18T16:30:33.561Z"
   },
   {
    "duration": 4428,
    "start_time": "2024-12-18T16:33:28.335Z"
   },
   {
    "duration": 244,
    "start_time": "2024-12-18T16:37:42.355Z"
   },
   {
    "duration": 81,
    "start_time": "2024-12-18T16:42:38.538Z"
   },
   {
    "duration": 19,
    "start_time": "2024-12-18T16:42:53.329Z"
   },
   {
    "duration": 19,
    "start_time": "2024-12-18T16:43:48.815Z"
   },
   {
    "duration": 104,
    "start_time": "2024-12-18T16:44:21.620Z"
   },
   {
    "duration": 20,
    "start_time": "2024-12-18T16:44:42.826Z"
   },
   {
    "duration": 18,
    "start_time": "2024-12-18T16:46:17.566Z"
   },
   {
    "duration": 18,
    "start_time": "2024-12-18T16:46:42.026Z"
   },
   {
    "duration": 21,
    "start_time": "2024-12-18T16:46:54.636Z"
   },
   {
    "duration": 15,
    "start_time": "2024-12-18T16:50:33.807Z"
   },
   {
    "duration": 15,
    "start_time": "2024-12-18T16:50:43.341Z"
   },
   {
    "duration": 3,
    "start_time": "2024-12-18T16:52:38.728Z"
   },
   {
    "duration": 12,
    "start_time": "2024-12-18T17:01:21.127Z"
   },
   {
    "duration": 1278,
    "start_time": "2024-12-19T15:25:36.714Z"
   },
   {
    "duration": 310,
    "start_time": "2024-12-19T15:25:37.994Z"
   },
   {
    "duration": 15,
    "start_time": "2024-12-19T15:25:38.305Z"
   },
   {
    "duration": 298,
    "start_time": "2024-12-19T15:25:38.322Z"
   },
   {
    "duration": 10,
    "start_time": "2024-12-19T15:25:38.622Z"
   },
   {
    "duration": 275,
    "start_time": "2024-12-19T15:25:38.634Z"
   },
   {
    "duration": 8,
    "start_time": "2024-12-19T15:25:38.911Z"
   },
   {
    "duration": 13,
    "start_time": "2024-12-19T15:25:38.920Z"
   },
   {
    "duration": 368,
    "start_time": "2024-12-19T15:25:38.934Z"
   },
   {
    "duration": 7,
    "start_time": "2024-12-19T15:25:39.305Z"
   },
   {
    "duration": 15,
    "start_time": "2024-12-19T15:25:39.313Z"
   },
   {
    "duration": 382,
    "start_time": "2024-12-19T15:25:39.329Z"
   },
   {
    "duration": 7,
    "start_time": "2024-12-19T15:25:39.713Z"
   },
   {
    "duration": 11,
    "start_time": "2024-12-19T15:25:39.721Z"
   },
   {
    "duration": 18,
    "start_time": "2024-12-19T15:25:39.734Z"
   },
   {
    "duration": 19,
    "start_time": "2024-12-19T15:25:39.753Z"
   },
   {
    "duration": 18,
    "start_time": "2024-12-19T15:25:39.773Z"
   },
   {
    "duration": 34,
    "start_time": "2024-12-19T15:25:39.793Z"
   },
   {
    "duration": 4,
    "start_time": "2024-12-19T15:25:39.828Z"
   },
   {
    "duration": 5,
    "start_time": "2024-12-19T15:25:39.834Z"
   },
   {
    "duration": 45,
    "start_time": "2024-12-19T15:25:39.840Z"
   },
   {
    "duration": 4,
    "start_time": "2024-12-19T15:25:39.887Z"
   },
   {
    "duration": 187,
    "start_time": "2024-12-19T15:25:39.893Z"
   },
   {
    "duration": 226,
    "start_time": "2024-12-19T15:25:40.089Z"
   },
   {
    "duration": 7,
    "start_time": "2024-12-19T15:25:40.317Z"
   },
   {
    "duration": 175,
    "start_time": "2024-12-19T15:25:40.326Z"
   },
   {
    "duration": 7,
    "start_time": "2024-12-19T15:25:40.503Z"
   },
   {
    "duration": 171,
    "start_time": "2024-12-19T15:25:40.513Z"
   },
   {
    "duration": 6,
    "start_time": "2024-12-19T15:25:40.688Z"
   },
   {
    "duration": 197,
    "start_time": "2024-12-19T15:25:40.695Z"
   },
   {
    "duration": 5,
    "start_time": "2024-12-19T15:25:40.894Z"
   },
   {
    "duration": 22,
    "start_time": "2024-12-19T15:25:40.901Z"
   },
   {
    "duration": 12,
    "start_time": "2024-12-19T15:25:40.924Z"
   },
   {
    "duration": 8,
    "start_time": "2024-12-19T15:25:40.938Z"
   },
   {
    "duration": 29,
    "start_time": "2024-12-19T15:25:40.947Z"
   },
   {
    "duration": 14,
    "start_time": "2024-12-19T15:25:40.977Z"
   },
   {
    "duration": 34,
    "start_time": "2024-12-19T15:25:40.993Z"
   },
   {
    "duration": 11,
    "start_time": "2024-12-19T15:25:41.028Z"
   },
   {
    "duration": 8,
    "start_time": "2024-12-19T15:25:41.041Z"
   },
   {
    "duration": 152,
    "start_time": "2024-12-19T15:25:41.050Z"
   },
   {
    "duration": 182,
    "start_time": "2024-12-19T15:25:41.203Z"
   },
   {
    "duration": 9,
    "start_time": "2024-12-19T15:25:41.387Z"
   },
   {
    "duration": 9,
    "start_time": "2024-12-19T15:25:41.397Z"
   },
   {
    "duration": 156,
    "start_time": "2024-12-19T15:25:41.408Z"
   },
   {
    "duration": 128,
    "start_time": "2024-12-19T15:25:41.576Z"
   },
   {
    "duration": 7,
    "start_time": "2024-12-19T15:25:41.706Z"
   },
   {
    "duration": 14,
    "start_time": "2024-12-19T15:25:41.715Z"
   },
   {
    "duration": 36,
    "start_time": "2024-12-19T15:25:41.731Z"
   },
   {
    "duration": 143,
    "start_time": "2024-12-19T15:25:41.769Z"
   },
   {
    "duration": 0,
    "start_time": "2024-12-19T15:25:41.913Z"
   },
   {
    "duration": 18,
    "start_time": "2024-12-19T15:25:50.420Z"
   },
   {
    "duration": 114,
    "start_time": "2024-12-19T15:29:08.450Z"
   },
   {
    "duration": 58,
    "start_time": "2024-12-19T15:29:10.443Z"
   },
   {
    "duration": 65,
    "start_time": "2024-12-19T15:32:09.873Z"
   },
   {
    "duration": 7,
    "start_time": "2024-12-19T15:32:15.861Z"
   },
   {
    "duration": 20,
    "start_time": "2024-12-19T15:37:09.840Z"
   },
   {
    "duration": 16,
    "start_time": "2024-12-19T15:37:21.929Z"
   },
   {
    "duration": 18,
    "start_time": "2024-12-19T15:42:01.828Z"
   },
   {
    "duration": 4,
    "start_time": "2024-12-19T15:44:36.206Z"
   },
   {
    "duration": 4,
    "start_time": "2024-12-19T15:46:16.601Z"
   },
   {
    "duration": 16,
    "start_time": "2024-12-19T15:47:33.133Z"
   },
   {
    "duration": 4,
    "start_time": "2024-12-19T15:47:41.346Z"
   },
   {
    "duration": 0,
    "start_time": "2024-12-19T15:47:44.303Z"
   },
   {
    "duration": 721,
    "start_time": "2024-12-19T15:47:46.507Z"
   },
   {
    "duration": 7,
    "start_time": "2024-12-19T15:48:15.129Z"
   },
   {
    "duration": 4,
    "start_time": "2024-12-19T15:48:24.786Z"
   },
   {
    "duration": 692,
    "start_time": "2024-12-19T15:48:26.075Z"
   },
   {
    "duration": 253,
    "start_time": "2024-12-19T15:49:03.227Z"
   },
   {
    "duration": 196,
    "start_time": "2024-12-19T15:49:32.293Z"
   },
   {
    "duration": 274,
    "start_time": "2024-12-19T15:49:38.566Z"
   },
   {
    "duration": 250,
    "start_time": "2024-12-19T15:49:48.377Z"
   },
   {
    "duration": 37,
    "start_time": "2024-12-19T15:49:51.659Z"
   },
   {
    "duration": 43,
    "start_time": "2024-12-19T15:50:02.246Z"
   },
   {
    "duration": 231,
    "start_time": "2024-12-19T15:50:07.730Z"
   },
   {
    "duration": 282,
    "start_time": "2024-12-19T15:50:24.539Z"
   },
   {
    "duration": 261,
    "start_time": "2024-12-19T15:51:26.639Z"
   },
   {
    "duration": 20,
    "start_time": "2024-12-19T15:51:44.815Z"
   },
   {
    "duration": 9,
    "start_time": "2024-12-19T15:52:39.681Z"
   },
   {
    "duration": 15,
    "start_time": "2024-12-19T15:52:44.287Z"
   },
   {
    "duration": 16,
    "start_time": "2024-12-19T15:53:33.798Z"
   },
   {
    "duration": 1175,
    "start_time": "2024-12-19T15:53:42.173Z"
   },
   {
    "duration": 80,
    "start_time": "2024-12-19T15:53:43.350Z"
   },
   {
    "duration": 14,
    "start_time": "2024-12-19T15:53:43.432Z"
   },
   {
    "duration": 287,
    "start_time": "2024-12-19T15:53:43.447Z"
   },
   {
    "duration": 11,
    "start_time": "2024-12-19T15:53:43.736Z"
   },
   {
    "duration": 355,
    "start_time": "2024-12-19T15:53:43.761Z"
   },
   {
    "duration": 14,
    "start_time": "2024-12-19T15:53:44.121Z"
   },
   {
    "duration": 47,
    "start_time": "2024-12-19T15:53:44.137Z"
   },
   {
    "duration": 373,
    "start_time": "2024-12-19T15:53:44.186Z"
   },
   {
    "duration": 8,
    "start_time": "2024-12-19T15:53:44.561Z"
   },
   {
    "duration": 27,
    "start_time": "2024-12-19T15:53:44.571Z"
   },
   {
    "duration": 397,
    "start_time": "2024-12-19T15:53:44.600Z"
   },
   {
    "duration": 5,
    "start_time": "2024-12-19T15:53:44.999Z"
   },
   {
    "duration": 78,
    "start_time": "2024-12-19T15:53:45.007Z"
   },
   {
    "duration": 81,
    "start_time": "2024-12-19T15:53:45.086Z"
   },
   {
    "duration": 43,
    "start_time": "2024-12-19T15:53:45.169Z"
   },
   {
    "duration": 88,
    "start_time": "2024-12-19T15:53:45.214Z"
   },
   {
    "duration": 130,
    "start_time": "2024-12-19T15:53:45.304Z"
   },
   {
    "duration": 105,
    "start_time": "2024-12-19T15:53:45.435Z"
   },
   {
    "duration": 51,
    "start_time": "2024-12-19T15:53:45.541Z"
   },
   {
    "duration": 92,
    "start_time": "2024-12-19T15:53:45.594Z"
   },
   {
    "duration": 60,
    "start_time": "2024-12-19T15:53:45.688Z"
   },
   {
    "duration": 251,
    "start_time": "2024-12-19T15:53:45.750Z"
   },
   {
    "duration": 217,
    "start_time": "2024-12-19T15:53:46.002Z"
   },
   {
    "duration": 8,
    "start_time": "2024-12-19T15:53:46.220Z"
   },
   {
    "duration": 209,
    "start_time": "2024-12-19T15:53:46.230Z"
   },
   {
    "duration": 8,
    "start_time": "2024-12-19T15:53:46.441Z"
   },
   {
    "duration": 240,
    "start_time": "2024-12-19T15:53:46.461Z"
   },
   {
    "duration": 6,
    "start_time": "2024-12-19T15:53:46.703Z"
   },
   {
    "duration": 164,
    "start_time": "2024-12-19T15:53:46.710Z"
   },
   {
    "duration": 4,
    "start_time": "2024-12-19T15:53:46.876Z"
   },
   {
    "duration": 15,
    "start_time": "2024-12-19T15:53:46.881Z"
   },
   {
    "duration": 13,
    "start_time": "2024-12-19T15:53:46.899Z"
   },
   {
    "duration": 4,
    "start_time": "2024-12-19T15:53:46.914Z"
   },
   {
    "duration": 22,
    "start_time": "2024-12-19T15:53:46.920Z"
   },
   {
    "duration": 51,
    "start_time": "2024-12-19T15:53:46.944Z"
   },
   {
    "duration": 13,
    "start_time": "2024-12-19T15:53:46.997Z"
   },
   {
    "duration": 10,
    "start_time": "2024-12-19T15:53:47.012Z"
   },
   {
    "duration": 182,
    "start_time": "2024-12-19T15:53:47.023Z"
   },
   {
    "duration": 201,
    "start_time": "2024-12-19T15:53:47.206Z"
   },
   {
    "duration": 9,
    "start_time": "2024-12-19T15:53:47.413Z"
   },
   {
    "duration": 41,
    "start_time": "2024-12-19T15:53:47.424Z"
   },
   {
    "duration": 177,
    "start_time": "2024-12-19T15:53:47.467Z"
   },
   {
    "duration": 150,
    "start_time": "2024-12-19T15:53:47.646Z"
   },
   {
    "duration": 10,
    "start_time": "2024-12-19T15:53:47.798Z"
   },
   {
    "duration": 17,
    "start_time": "2024-12-19T15:53:47.810Z"
   },
   {
    "duration": 22,
    "start_time": "2024-12-19T15:53:47.829Z"
   },
   {
    "duration": 40,
    "start_time": "2024-12-19T15:53:47.862Z"
   },
   {
    "duration": 4,
    "start_time": "2024-12-19T15:53:47.904Z"
   },
   {
    "duration": 269,
    "start_time": "2024-12-19T15:53:47.910Z"
   },
   {
    "duration": 12,
    "start_time": "2024-12-19T15:53:48.193Z"
   },
   {
    "duration": 38,
    "start_time": "2024-12-19T15:58:11.750Z"
   },
   {
    "duration": 109,
    "start_time": "2024-12-19T16:26:14.494Z"
   },
   {
    "duration": 8,
    "start_time": "2024-12-19T16:26:27.840Z"
   },
   {
    "duration": 20,
    "start_time": "2024-12-19T16:26:39.560Z"
   },
   {
    "duration": 8,
    "start_time": "2024-12-19T16:27:02.668Z"
   },
   {
    "duration": 8,
    "start_time": "2024-12-19T16:27:13.095Z"
   },
   {
    "duration": 100,
    "start_time": "2024-12-19T16:27:28.410Z"
   },
   {
    "duration": 151,
    "start_time": "2024-12-19T16:28:15.317Z"
   },
   {
    "duration": 167,
    "start_time": "2024-12-19T16:28:59.030Z"
   },
   {
    "duration": 129,
    "start_time": "2024-12-19T16:29:12.742Z"
   },
   {
    "duration": 156,
    "start_time": "2024-12-19T16:30:23.364Z"
   },
   {
    "duration": 108,
    "start_time": "2024-12-19T16:30:27.866Z"
   },
   {
    "duration": 120,
    "start_time": "2024-12-19T16:30:31.558Z"
   },
   {
    "duration": 113,
    "start_time": "2024-12-19T16:31:01.634Z"
   },
   {
    "duration": 26,
    "start_time": "2024-12-19T16:57:53.638Z"
   },
   {
    "duration": 6,
    "start_time": "2024-12-19T16:57:58.952Z"
   },
   {
    "duration": 166,
    "start_time": "2024-12-19T16:58:01.483Z"
   },
   {
    "duration": 22,
    "start_time": "2024-12-19T16:58:02.773Z"
   },
   {
    "duration": 10,
    "start_time": "2024-12-19T16:58:07.777Z"
   },
   {
    "duration": 15,
    "start_time": "2024-12-19T16:59:15.570Z"
   },
   {
    "duration": 3,
    "start_time": "2024-12-19T16:59:21.417Z"
   },
   {
    "duration": 3,
    "start_time": "2024-12-19T16:59:27.830Z"
   },
   {
    "duration": 869,
    "start_time": "2024-12-19T16:59:31.447Z"
   },
   {
    "duration": 158,
    "start_time": "2024-12-19T16:59:35.027Z"
   },
   {
    "duration": 8,
    "start_time": "2024-12-19T16:59:39.503Z"
   },
   {
    "duration": 6,
    "start_time": "2024-12-19T17:00:22.629Z"
   },
   {
    "duration": 7,
    "start_time": "2024-12-19T17:00:37.125Z"
   },
   {
    "duration": 7,
    "start_time": "2024-12-19T17:00:49.001Z"
   },
   {
    "duration": 16,
    "start_time": "2024-12-19T17:01:02.976Z"
   },
   {
    "duration": 17,
    "start_time": "2024-12-19T17:05:00.550Z"
   },
   {
    "duration": 14,
    "start_time": "2024-12-19T17:07:14.018Z"
   },
   {
    "duration": 302,
    "start_time": "2024-12-19T17:07:48.503Z"
   },
   {
    "duration": 283,
    "start_time": "2024-12-19T17:07:55.748Z"
   },
   {
    "duration": 250,
    "start_time": "2024-12-19T17:08:02.384Z"
   },
   {
    "duration": 621,
    "start_time": "2024-12-19T17:08:19.309Z"
   },
   {
    "duration": 75,
    "start_time": "2024-12-19T17:09:22.981Z"
   },
   {
    "duration": 883,
    "start_time": "2024-12-19T17:09:27.039Z"
   },
   {
    "duration": 739,
    "start_time": "2024-12-19T17:09:44.192Z"
   },
   {
    "duration": 59,
    "start_time": "2024-12-19T17:10:21.286Z"
   },
   {
    "duration": 775,
    "start_time": "2024-12-19T17:10:23.504Z"
   },
   {
    "duration": 660,
    "start_time": "2024-12-19T17:10:47.189Z"
   },
   {
    "duration": 1104,
    "start_time": "2024-12-19T17:16:00.160Z"
   },
   {
    "duration": 108,
    "start_time": "2024-12-19T17:16:01.269Z"
   },
   {
    "duration": 0,
    "start_time": "2024-12-19T17:16:01.381Z"
   },
   {
    "duration": 0,
    "start_time": "2024-12-19T17:16:01.382Z"
   },
   {
    "duration": 0,
    "start_time": "2024-12-19T17:16:01.383Z"
   },
   {
    "duration": 0,
    "start_time": "2024-12-19T17:16:01.384Z"
   },
   {
    "duration": 0,
    "start_time": "2024-12-19T17:16:01.386Z"
   },
   {
    "duration": 0,
    "start_time": "2024-12-19T17:16:01.387Z"
   },
   {
    "duration": 0,
    "start_time": "2024-12-19T17:16:01.389Z"
   },
   {
    "duration": 0,
    "start_time": "2024-12-19T17:16:01.390Z"
   },
   {
    "duration": 0,
    "start_time": "2024-12-19T17:16:01.391Z"
   },
   {
    "duration": 0,
    "start_time": "2024-12-19T17:16:01.393Z"
   },
   {
    "duration": 0,
    "start_time": "2024-12-19T17:16:01.395Z"
   },
   {
    "duration": 0,
    "start_time": "2024-12-19T17:16:01.396Z"
   },
   {
    "duration": 0,
    "start_time": "2024-12-19T17:16:01.397Z"
   },
   {
    "duration": 0,
    "start_time": "2024-12-19T17:16:01.398Z"
   },
   {
    "duration": 0,
    "start_time": "2024-12-19T17:16:01.400Z"
   },
   {
    "duration": 0,
    "start_time": "2024-12-19T17:16:01.401Z"
   },
   {
    "duration": 0,
    "start_time": "2024-12-19T17:16:01.403Z"
   },
   {
    "duration": 0,
    "start_time": "2024-12-19T17:16:01.404Z"
   },
   {
    "duration": 0,
    "start_time": "2024-12-19T17:16:01.405Z"
   },
   {
    "duration": 0,
    "start_time": "2024-12-19T17:16:01.407Z"
   },
   {
    "duration": 0,
    "start_time": "2024-12-19T17:16:01.408Z"
   },
   {
    "duration": 0,
    "start_time": "2024-12-19T17:16:01.409Z"
   },
   {
    "duration": 0,
    "start_time": "2024-12-19T17:16:01.459Z"
   },
   {
    "duration": 0,
    "start_time": "2024-12-19T17:16:01.460Z"
   },
   {
    "duration": 0,
    "start_time": "2024-12-19T17:16:01.460Z"
   },
   {
    "duration": 0,
    "start_time": "2024-12-19T17:16:01.461Z"
   },
   {
    "duration": 0,
    "start_time": "2024-12-19T17:16:01.461Z"
   },
   {
    "duration": 0,
    "start_time": "2024-12-19T17:16:01.462Z"
   },
   {
    "duration": 0,
    "start_time": "2024-12-19T17:16:01.469Z"
   },
   {
    "duration": 0,
    "start_time": "2024-12-19T17:16:01.470Z"
   },
   {
    "duration": 0,
    "start_time": "2024-12-19T17:16:01.471Z"
   },
   {
    "duration": 0,
    "start_time": "2024-12-19T17:16:01.473Z"
   },
   {
    "duration": 0,
    "start_time": "2024-12-19T17:16:01.474Z"
   },
   {
    "duration": 0,
    "start_time": "2024-12-19T17:16:01.475Z"
   },
   {
    "duration": 0,
    "start_time": "2024-12-19T17:16:01.475Z"
   },
   {
    "duration": 0,
    "start_time": "2024-12-19T17:16:01.477Z"
   },
   {
    "duration": 0,
    "start_time": "2024-12-19T17:16:01.478Z"
   },
   {
    "duration": 0,
    "start_time": "2024-12-19T17:16:01.479Z"
   },
   {
    "duration": 0,
    "start_time": "2024-12-19T17:16:01.480Z"
   },
   {
    "duration": 0,
    "start_time": "2024-12-19T17:16:01.481Z"
   },
   {
    "duration": 0,
    "start_time": "2024-12-19T17:16:01.482Z"
   },
   {
    "duration": 0,
    "start_time": "2024-12-19T17:16:01.483Z"
   },
   {
    "duration": 0,
    "start_time": "2024-12-19T17:16:01.484Z"
   },
   {
    "duration": 0,
    "start_time": "2024-12-19T17:16:01.485Z"
   },
   {
    "duration": 0,
    "start_time": "2024-12-19T17:16:01.486Z"
   },
   {
    "duration": 0,
    "start_time": "2024-12-19T17:16:01.487Z"
   },
   {
    "duration": 0,
    "start_time": "2024-12-19T17:16:01.488Z"
   },
   {
    "duration": 0,
    "start_time": "2024-12-19T17:16:01.489Z"
   },
   {
    "duration": 0,
    "start_time": "2024-12-19T17:16:01.490Z"
   },
   {
    "duration": 0,
    "start_time": "2024-12-19T17:16:01.491Z"
   },
   {
    "duration": 0,
    "start_time": "2024-12-19T17:16:01.493Z"
   },
   {
    "duration": 0,
    "start_time": "2024-12-19T17:16:01.494Z"
   },
   {
    "duration": 0,
    "start_time": "2024-12-19T17:16:01.495Z"
   },
   {
    "duration": 0,
    "start_time": "2024-12-19T17:16:01.496Z"
   },
   {
    "duration": 13,
    "start_time": "2024-12-19T17:16:51.436Z"
   },
   {
    "duration": 1095,
    "start_time": "2024-12-19T17:23:34.969Z"
   },
   {
    "duration": 73,
    "start_time": "2024-12-19T17:23:36.066Z"
   },
   {
    "duration": 62,
    "start_time": "2024-12-19T17:23:36.140Z"
   },
   {
    "duration": 311,
    "start_time": "2024-12-19T17:23:36.204Z"
   },
   {
    "duration": 11,
    "start_time": "2024-12-19T17:23:36.517Z"
   },
   {
    "duration": 290,
    "start_time": "2024-12-19T17:23:36.530Z"
   },
   {
    "duration": 7,
    "start_time": "2024-12-19T17:23:36.822Z"
   },
   {
    "duration": 42,
    "start_time": "2024-12-19T17:23:36.831Z"
   },
   {
    "duration": 356,
    "start_time": "2024-12-19T17:23:36.875Z"
   },
   {
    "duration": 6,
    "start_time": "2024-12-19T17:23:37.232Z"
   },
   {
    "duration": 24,
    "start_time": "2024-12-19T17:23:37.240Z"
   },
   {
    "duration": 325,
    "start_time": "2024-12-19T17:23:37.266Z"
   },
   {
    "duration": 5,
    "start_time": "2024-12-19T17:23:37.592Z"
   },
   {
    "duration": 23,
    "start_time": "2024-12-19T17:23:37.601Z"
   },
   {
    "duration": 9,
    "start_time": "2024-12-19T17:23:37.625Z"
   },
   {
    "duration": 20,
    "start_time": "2024-12-19T17:23:37.636Z"
   },
   {
    "duration": 10,
    "start_time": "2024-12-19T17:23:37.660Z"
   },
   {
    "duration": 18,
    "start_time": "2024-12-19T17:23:37.671Z"
   },
   {
    "duration": 13,
    "start_time": "2024-12-19T17:23:37.690Z"
   },
   {
    "duration": 18,
    "start_time": "2024-12-19T17:23:37.704Z"
   },
   {
    "duration": 4,
    "start_time": "2024-12-19T17:23:37.723Z"
   },
   {
    "duration": 7,
    "start_time": "2024-12-19T17:23:37.728Z"
   },
   {
    "duration": 155,
    "start_time": "2024-12-19T17:23:37.736Z"
   },
   {
    "duration": 191,
    "start_time": "2024-12-19T17:23:37.892Z"
   },
   {
    "duration": 6,
    "start_time": "2024-12-19T17:23:38.085Z"
   },
   {
    "duration": 147,
    "start_time": "2024-12-19T17:23:38.092Z"
   },
   {
    "duration": 7,
    "start_time": "2024-12-19T17:23:38.241Z"
   },
   {
    "duration": 161,
    "start_time": "2024-12-19T17:23:38.253Z"
   },
   {
    "duration": 4,
    "start_time": "2024-12-19T17:23:38.416Z"
   },
   {
    "duration": 164,
    "start_time": "2024-12-19T17:23:38.421Z"
   },
   {
    "duration": 4,
    "start_time": "2024-12-19T17:23:38.587Z"
   },
   {
    "duration": 20,
    "start_time": "2024-12-19T17:23:38.593Z"
   },
   {
    "duration": 14,
    "start_time": "2024-12-19T17:23:38.615Z"
   },
   {
    "duration": 9,
    "start_time": "2024-12-19T17:23:38.631Z"
   },
   {
    "duration": 23,
    "start_time": "2024-12-19T17:23:38.641Z"
   },
   {
    "duration": 22,
    "start_time": "2024-12-19T17:23:38.665Z"
   },
   {
    "duration": 11,
    "start_time": "2024-12-19T17:23:38.688Z"
   },
   {
    "duration": 13,
    "start_time": "2024-12-19T17:23:38.701Z"
   },
   {
    "duration": 130,
    "start_time": "2024-12-19T17:23:38.716Z"
   },
   {
    "duration": 140,
    "start_time": "2024-12-19T17:23:38.848Z"
   },
   {
    "duration": 7,
    "start_time": "2024-12-19T17:23:38.991Z"
   },
   {
    "duration": 26,
    "start_time": "2024-12-19T17:23:38.999Z"
   },
   {
    "duration": 144,
    "start_time": "2024-12-19T17:23:39.026Z"
   },
   {
    "duration": 125,
    "start_time": "2024-12-19T17:23:39.172Z"
   },
   {
    "duration": 8,
    "start_time": "2024-12-19T17:23:39.298Z"
   },
   {
    "duration": 13,
    "start_time": "2024-12-19T17:23:39.308Z"
   },
   {
    "duration": 12,
    "start_time": "2024-12-19T17:23:39.323Z"
   },
   {
    "duration": 39,
    "start_time": "2024-12-19T17:23:39.336Z"
   },
   {
    "duration": 3,
    "start_time": "2024-12-19T17:23:39.376Z"
   },
   {
    "duration": 168,
    "start_time": "2024-12-19T17:23:39.380Z"
   },
   {
    "duration": 18,
    "start_time": "2024-12-19T17:23:39.550Z"
   },
   {
    "duration": 17,
    "start_time": "2024-12-19T17:23:39.569Z"
   },
   {
    "duration": 122,
    "start_time": "2024-12-19T17:23:39.588Z"
   },
   {
    "duration": 7,
    "start_time": "2024-12-19T17:23:39.712Z"
   },
   {
    "duration": 52,
    "start_time": "2024-12-19T17:23:39.720Z"
   },
   {
    "duration": 505,
    "start_time": "2024-12-19T17:23:39.774Z"
   },
   {
    "duration": 506,
    "start_time": "2024-12-19T17:24:04.124Z"
   },
   {
    "duration": 210,
    "start_time": "2024-12-19T17:24:09.477Z"
   },
   {
    "duration": 399,
    "start_time": "2024-12-19T17:24:31.343Z"
   },
   {
    "duration": 112,
    "start_time": "2024-12-19T17:28:47.295Z"
   },
   {
    "duration": 116,
    "start_time": "2024-12-19T17:28:52.760Z"
   },
   {
    "duration": 1159,
    "start_time": "2024-12-19T17:30:39.140Z"
   },
   {
    "duration": 71,
    "start_time": "2024-12-19T17:30:40.300Z"
   },
   {
    "duration": 12,
    "start_time": "2024-12-19T17:30:40.372Z"
   },
   {
    "duration": 261,
    "start_time": "2024-12-19T17:30:40.386Z"
   },
   {
    "duration": 15,
    "start_time": "2024-12-19T17:30:40.653Z"
   },
   {
    "duration": 242,
    "start_time": "2024-12-19T17:30:40.673Z"
   },
   {
    "duration": 9,
    "start_time": "2024-12-19T17:30:40.917Z"
   },
   {
    "duration": 28,
    "start_time": "2024-12-19T17:30:40.928Z"
   },
   {
    "duration": 346,
    "start_time": "2024-12-19T17:30:40.967Z"
   },
   {
    "duration": 7,
    "start_time": "2024-12-19T17:30:41.315Z"
   },
   {
    "duration": 11,
    "start_time": "2024-12-19T17:30:41.323Z"
   },
   {
    "duration": 349,
    "start_time": "2024-12-19T17:30:41.335Z"
   },
   {
    "duration": 6,
    "start_time": "2024-12-19T17:30:41.686Z"
   },
   {
    "duration": 10,
    "start_time": "2024-12-19T17:30:41.695Z"
   },
   {
    "duration": 4,
    "start_time": "2024-12-19T17:30:41.706Z"
   },
   {
    "duration": 13,
    "start_time": "2024-12-19T17:30:41.712Z"
   },
   {
    "duration": 8,
    "start_time": "2024-12-19T17:30:41.726Z"
   },
   {
    "duration": 41,
    "start_time": "2024-12-19T17:30:41.735Z"
   },
   {
    "duration": 20,
    "start_time": "2024-12-19T17:30:41.778Z"
   },
   {
    "duration": 24,
    "start_time": "2024-12-19T17:30:41.799Z"
   },
   {
    "duration": 25,
    "start_time": "2024-12-19T17:30:41.825Z"
   },
   {
    "duration": 80,
    "start_time": "2024-12-19T17:30:41.851Z"
   },
   {
    "duration": 247,
    "start_time": "2024-12-19T17:30:41.933Z"
   },
   {
    "duration": 203,
    "start_time": "2024-12-19T17:30:42.181Z"
   },
   {
    "duration": 7,
    "start_time": "2024-12-19T17:30:42.386Z"
   },
   {
    "duration": 134,
    "start_time": "2024-12-19T17:30:42.394Z"
   },
   {
    "duration": 7,
    "start_time": "2024-12-19T17:30:42.529Z"
   },
   {
    "duration": 163,
    "start_time": "2024-12-19T17:30:42.537Z"
   },
   {
    "duration": 4,
    "start_time": "2024-12-19T17:30:42.701Z"
   },
   {
    "duration": 163,
    "start_time": "2024-12-19T17:30:42.707Z"
   },
   {
    "duration": 5,
    "start_time": "2024-12-19T17:30:42.872Z"
   },
   {
    "duration": 13,
    "start_time": "2024-12-19T17:30:42.879Z"
   },
   {
    "duration": 13,
    "start_time": "2024-12-19T17:30:42.894Z"
   },
   {
    "duration": 6,
    "start_time": "2024-12-19T17:30:42.908Z"
   },
   {
    "duration": 6,
    "start_time": "2024-12-19T17:30:42.916Z"
   },
   {
    "duration": 50,
    "start_time": "2024-12-19T17:30:42.924Z"
   },
   {
    "duration": 13,
    "start_time": "2024-12-19T17:30:42.976Z"
   },
   {
    "duration": 41,
    "start_time": "2024-12-19T17:30:42.991Z"
   },
   {
    "duration": 169,
    "start_time": "2024-12-19T17:30:43.034Z"
   },
   {
    "duration": 145,
    "start_time": "2024-12-19T17:30:43.204Z"
   },
   {
    "duration": 16,
    "start_time": "2024-12-19T17:30:43.355Z"
   },
   {
    "duration": 10,
    "start_time": "2024-12-19T17:30:43.372Z"
   },
   {
    "duration": 167,
    "start_time": "2024-12-19T17:30:43.383Z"
   },
   {
    "duration": 125,
    "start_time": "2024-12-19T17:30:43.553Z"
   },
   {
    "duration": 8,
    "start_time": "2024-12-19T17:30:43.679Z"
   },
   {
    "duration": 16,
    "start_time": "2024-12-19T17:30:43.688Z"
   },
   {
    "duration": 10,
    "start_time": "2024-12-19T17:30:43.706Z"
   },
   {
    "duration": 47,
    "start_time": "2024-12-19T17:30:43.717Z"
   },
   {
    "duration": 4,
    "start_time": "2024-12-19T17:30:43.769Z"
   },
   {
    "duration": 200,
    "start_time": "2024-12-19T17:30:43.774Z"
   },
   {
    "duration": 13,
    "start_time": "2024-12-19T17:30:43.979Z"
   },
   {
    "duration": 33,
    "start_time": "2024-12-19T17:30:43.994Z"
   },
   {
    "duration": 129,
    "start_time": "2024-12-19T17:30:44.029Z"
   },
   {
    "duration": 7,
    "start_time": "2024-12-19T17:30:44.169Z"
   },
   {
    "duration": 28,
    "start_time": "2024-12-19T17:30:44.178Z"
   },
   {
    "duration": 201,
    "start_time": "2024-12-19T17:30:44.207Z"
   },
   {
    "duration": 192,
    "start_time": "2024-12-19T17:30:56.798Z"
   },
   {
    "duration": 142,
    "start_time": "2024-12-19T17:31:42.429Z"
   },
   {
    "duration": 403,
    "start_time": "2024-12-19T17:31:50.777Z"
   },
   {
    "duration": 168,
    "start_time": "2024-12-19T17:32:01.596Z"
   },
   {
    "duration": 426,
    "start_time": "2024-12-19T17:32:10.752Z"
   },
   {
    "duration": 699,
    "start_time": "2024-12-19T17:33:42.961Z"
   },
   {
    "duration": 689,
    "start_time": "2024-12-19T17:33:56.936Z"
   },
   {
    "duration": 763,
    "start_time": "2024-12-19T17:34:04.569Z"
   },
   {
    "duration": 223,
    "start_time": "2024-12-19T17:34:10.812Z"
   },
   {
    "duration": 1477,
    "start_time": "2024-12-19T17:35:59.068Z"
   },
   {
    "duration": 1116,
    "start_time": "2024-12-19T17:37:07.451Z"
   },
   {
    "duration": 63,
    "start_time": "2024-12-19T17:37:08.569Z"
   },
   {
    "duration": 11,
    "start_time": "2024-12-19T17:37:08.634Z"
   },
   {
    "duration": 259,
    "start_time": "2024-12-19T17:37:08.647Z"
   },
   {
    "duration": 10,
    "start_time": "2024-12-19T17:37:08.909Z"
   },
   {
    "duration": 256,
    "start_time": "2024-12-19T17:37:08.920Z"
   },
   {
    "duration": 7,
    "start_time": "2024-12-19T17:37:09.178Z"
   },
   {
    "duration": 16,
    "start_time": "2024-12-19T17:37:09.187Z"
   },
   {
    "duration": 347,
    "start_time": "2024-12-19T17:37:09.204Z"
   },
   {
    "duration": 21,
    "start_time": "2024-12-19T17:37:09.552Z"
   },
   {
    "duration": 9,
    "start_time": "2024-12-19T17:37:09.574Z"
   },
   {
    "duration": 338,
    "start_time": "2024-12-19T17:37:09.584Z"
   },
   {
    "duration": 5,
    "start_time": "2024-12-19T17:37:09.924Z"
   },
   {
    "duration": 27,
    "start_time": "2024-12-19T17:37:09.933Z"
   },
   {
    "duration": 7,
    "start_time": "2024-12-19T17:37:09.961Z"
   },
   {
    "duration": 7,
    "start_time": "2024-12-19T17:37:09.969Z"
   },
   {
    "duration": 2,
    "start_time": "2024-12-19T17:37:09.978Z"
   },
   {
    "duration": 15,
    "start_time": "2024-12-19T17:37:09.982Z"
   },
   {
    "duration": 4,
    "start_time": "2024-12-19T17:37:09.998Z"
   },
   {
    "duration": 13,
    "start_time": "2024-12-19T17:37:10.004Z"
   },
   {
    "duration": 8,
    "start_time": "2024-12-19T17:37:10.018Z"
   },
   {
    "duration": 36,
    "start_time": "2024-12-19T17:37:10.028Z"
   },
   {
    "duration": 176,
    "start_time": "2024-12-19T17:37:10.070Z"
   },
   {
    "duration": 198,
    "start_time": "2024-12-19T17:37:10.248Z"
   },
   {
    "duration": 12,
    "start_time": "2024-12-19T17:37:10.452Z"
   },
   {
    "duration": 143,
    "start_time": "2024-12-19T17:37:10.469Z"
   },
   {
    "duration": 7,
    "start_time": "2024-12-19T17:37:10.613Z"
   },
   {
    "duration": 161,
    "start_time": "2024-12-19T17:37:10.622Z"
   },
   {
    "duration": 4,
    "start_time": "2024-12-19T17:37:10.784Z"
   },
   {
    "duration": 147,
    "start_time": "2024-12-19T17:37:10.790Z"
   },
   {
    "duration": 4,
    "start_time": "2024-12-19T17:37:10.938Z"
   },
   {
    "duration": 26,
    "start_time": "2024-12-19T17:37:10.943Z"
   },
   {
    "duration": 9,
    "start_time": "2024-12-19T17:37:10.971Z"
   },
   {
    "duration": 3,
    "start_time": "2024-12-19T17:37:10.982Z"
   },
   {
    "duration": 6,
    "start_time": "2024-12-19T17:37:10.987Z"
   },
   {
    "duration": 14,
    "start_time": "2024-12-19T17:37:10.994Z"
   },
   {
    "duration": 12,
    "start_time": "2024-12-19T17:37:11.009Z"
   },
   {
    "duration": 43,
    "start_time": "2024-12-19T17:37:11.022Z"
   },
   {
    "duration": 118,
    "start_time": "2024-12-19T17:37:11.066Z"
   },
   {
    "duration": 139,
    "start_time": "2024-12-19T17:37:11.185Z"
   },
   {
    "duration": 8,
    "start_time": "2024-12-19T17:37:11.327Z"
   },
   {
    "duration": 31,
    "start_time": "2024-12-19T17:37:11.336Z"
   },
   {
    "duration": 123,
    "start_time": "2024-12-19T17:37:11.368Z"
   },
   {
    "duration": 125,
    "start_time": "2024-12-19T17:37:11.493Z"
   },
   {
    "duration": 8,
    "start_time": "2024-12-19T17:37:11.620Z"
   },
   {
    "duration": 7,
    "start_time": "2024-12-19T17:37:11.629Z"
   },
   {
    "duration": 31,
    "start_time": "2024-12-19T17:37:11.637Z"
   },
   {
    "duration": 20,
    "start_time": "2024-12-19T17:37:11.670Z"
   },
   {
    "duration": 3,
    "start_time": "2024-12-19T17:37:11.692Z"
   },
   {
    "duration": 150,
    "start_time": "2024-12-19T17:37:11.696Z"
   },
   {
    "duration": 14,
    "start_time": "2024-12-19T17:37:11.848Z"
   },
   {
    "duration": 22,
    "start_time": "2024-12-19T17:37:11.863Z"
   },
   {
    "duration": 186,
    "start_time": "2024-12-19T17:37:11.886Z"
   },
   {
    "duration": 7,
    "start_time": "2024-12-19T17:37:12.073Z"
   },
   {
    "duration": 20,
    "start_time": "2024-12-19T17:37:12.082Z"
   },
   {
    "duration": 133196,
    "start_time": "2024-12-19T17:37:12.103Z"
   },
   {
    "duration": 134217,
    "start_time": "2024-12-19T17:44:48.294Z"
   },
   {
    "duration": 60,
    "start_time": "2024-12-19T17:48:29.219Z"
   },
   {
    "duration": 672,
    "start_time": "2024-12-19T17:48:34.465Z"
   },
   {
    "duration": 241,
    "start_time": "2024-12-19T17:49:17.940Z"
   },
   {
    "duration": 735,
    "start_time": "2024-12-19T17:49:26.699Z"
   },
   {
    "duration": 677,
    "start_time": "2024-12-19T17:49:39.960Z"
   },
   {
    "duration": 682,
    "start_time": "2024-12-19T17:49:51.843Z"
   },
   {
    "duration": 179,
    "start_time": "2024-12-19T17:50:27.026Z"
   },
   {
    "duration": 131,
    "start_time": "2024-12-19T17:50:31.004Z"
   },
   {
    "duration": 11,
    "start_time": "2024-12-19T17:50:45.131Z"
   },
   {
    "duration": 117,
    "start_time": "2024-12-19T17:51:01.976Z"
   },
   {
    "duration": 170,
    "start_time": "2024-12-19T17:51:08.233Z"
   },
   {
    "duration": 228,
    "start_time": "2024-12-19T17:51:19.246Z"
   },
   {
    "duration": 188,
    "start_time": "2024-12-19T17:51:41.026Z"
   },
   {
    "duration": 174,
    "start_time": "2024-12-19T17:51:51.214Z"
   },
   {
    "duration": 113,
    "start_time": "2024-12-19T17:52:02.305Z"
   },
   {
    "duration": 215,
    "start_time": "2024-12-19T17:52:10.053Z"
   },
   {
    "duration": 185,
    "start_time": "2024-12-19T17:56:47.499Z"
   },
   {
    "duration": 189,
    "start_time": "2024-12-19T17:56:55.817Z"
   },
   {
    "duration": 107,
    "start_time": "2024-12-19T17:57:36.879Z"
   },
   {
    "duration": 240,
    "start_time": "2024-12-19T17:57:41.210Z"
   },
   {
    "duration": 185,
    "start_time": "2024-12-19T17:58:01.599Z"
   },
   {
    "duration": 220,
    "start_time": "2024-12-19T17:58:16.981Z"
   },
   {
    "duration": 205,
    "start_time": "2024-12-19T17:58:23.076Z"
   },
   {
    "duration": 305,
    "start_time": "2024-12-19T17:58:38.098Z"
   },
   {
    "duration": 289,
    "start_time": "2024-12-19T18:01:00.825Z"
   },
   {
    "duration": 71,
    "start_time": "2024-12-19T18:02:02.358Z"
   },
   {
    "duration": 127,
    "start_time": "2024-12-19T18:02:06.477Z"
   },
   {
    "duration": 138,
    "start_time": "2024-12-19T18:02:28.530Z"
   },
   {
    "duration": 3,
    "start_time": "2024-12-19T18:02:48.923Z"
   },
   {
    "duration": 12,
    "start_time": "2024-12-19T18:03:25.274Z"
   },
   {
    "duration": 6,
    "start_time": "2024-12-19T18:03:37.317Z"
   },
   {
    "duration": 7,
    "start_time": "2024-12-19T18:03:45.119Z"
   },
   {
    "duration": 14,
    "start_time": "2024-12-19T18:04:08.669Z"
   },
   {
    "duration": 7,
    "start_time": "2024-12-19T18:04:35.875Z"
   },
   {
    "duration": 329,
    "start_time": "2024-12-19T18:05:21.147Z"
   },
   {
    "duration": 310,
    "start_time": "2024-12-19T18:05:31.417Z"
   },
   {
    "duration": 229,
    "start_time": "2024-12-19T18:05:54.109Z"
   },
   {
    "duration": 132,
    "start_time": "2024-12-19T18:07:58.989Z"
   },
   {
    "duration": 148,
    "start_time": "2024-12-19T18:08:39.830Z"
   },
   {
    "duration": 232,
    "start_time": "2024-12-19T18:09:26.966Z"
   },
   {
    "duration": 213,
    "start_time": "2024-12-19T18:10:59.514Z"
   },
   {
    "duration": 263,
    "start_time": "2024-12-19T18:11:24.848Z"
   },
   {
    "duration": 221,
    "start_time": "2024-12-19T18:12:11.007Z"
   },
   {
    "duration": 233,
    "start_time": "2024-12-19T18:12:19.417Z"
   },
   {
    "duration": 235,
    "start_time": "2024-12-19T18:12:25.689Z"
   },
   {
    "duration": 210,
    "start_time": "2024-12-19T18:12:42.914Z"
   },
   {
    "duration": 226,
    "start_time": "2024-12-19T18:12:48.373Z"
   },
   {
    "duration": 226,
    "start_time": "2024-12-19T18:13:04.202Z"
   },
   {
    "duration": 3,
    "start_time": "2024-12-19T19:01:20.208Z"
   },
   {
    "duration": 15,
    "start_time": "2024-12-19T19:04:02.700Z"
   },
   {
    "duration": 9,
    "start_time": "2024-12-19T19:04:37.887Z"
   },
   {
    "duration": 124,
    "start_time": "2024-12-19T19:04:54.298Z"
   },
   {
    "duration": 115,
    "start_time": "2024-12-19T19:05:05.461Z"
   },
   {
    "duration": 9,
    "start_time": "2024-12-19T19:06:22.721Z"
   },
   {
    "duration": 302,
    "start_time": "2024-12-19T19:06:33.855Z"
   },
   {
    "duration": 1244,
    "start_time": "2024-12-19T19:21:59.724Z"
   },
   {
    "duration": 21,
    "start_time": "2024-12-19T19:22:13.269Z"
   },
   {
    "duration": 205,
    "start_time": "2024-12-19T19:22:16.524Z"
   },
   {
    "duration": 19,
    "start_time": "2024-12-19T19:22:21.073Z"
   },
   {
    "duration": 12,
    "start_time": "2024-12-19T19:22:31.077Z"
   },
   {
    "duration": 246,
    "start_time": "2024-12-19T19:22:37.037Z"
   },
   {
    "duration": 41,
    "start_time": "2024-12-19T19:27:50.440Z"
   },
   {
    "duration": 224,
    "start_time": "2024-12-19T19:28:31.899Z"
   },
   {
    "duration": 20,
    "start_time": "2024-12-19T19:28:44.683Z"
   },
   {
    "duration": 220,
    "start_time": "2024-12-19T19:29:52.295Z"
   },
   {
    "duration": 1062,
    "start_time": "2024-12-19T19:30:01.409Z"
   },
   {
    "duration": 66,
    "start_time": "2024-12-19T19:30:02.472Z"
   },
   {
    "duration": 10,
    "start_time": "2024-12-19T19:30:02.540Z"
   },
   {
    "duration": 296,
    "start_time": "2024-12-19T19:30:02.551Z"
   },
   {
    "duration": 13,
    "start_time": "2024-12-19T19:30:02.852Z"
   },
   {
    "duration": 295,
    "start_time": "2024-12-19T19:30:02.866Z"
   },
   {
    "duration": 9,
    "start_time": "2024-12-19T19:30:03.162Z"
   },
   {
    "duration": 29,
    "start_time": "2024-12-19T19:30:03.172Z"
   },
   {
    "duration": 421,
    "start_time": "2024-12-19T19:30:03.202Z"
   },
   {
    "duration": 7,
    "start_time": "2024-12-19T19:30:03.625Z"
   },
   {
    "duration": 60,
    "start_time": "2024-12-19T19:30:03.633Z"
   },
   {
    "duration": 439,
    "start_time": "2024-12-19T19:30:03.694Z"
   },
   {
    "duration": 5,
    "start_time": "2024-12-19T19:30:04.135Z"
   },
   {
    "duration": 16,
    "start_time": "2024-12-19T19:30:04.160Z"
   },
   {
    "duration": 33,
    "start_time": "2024-12-19T19:30:04.177Z"
   },
   {
    "duration": 30,
    "start_time": "2024-12-19T19:30:04.212Z"
   },
   {
    "duration": 66,
    "start_time": "2024-12-19T19:30:04.243Z"
   },
   {
    "duration": 35,
    "start_time": "2024-12-19T19:30:04.311Z"
   },
   {
    "duration": 39,
    "start_time": "2024-12-19T19:30:04.347Z"
   },
   {
    "duration": 21,
    "start_time": "2024-12-19T19:30:04.387Z"
   },
   {
    "duration": 10,
    "start_time": "2024-12-19T19:30:04.409Z"
   },
   {
    "duration": 24,
    "start_time": "2024-12-19T19:30:04.421Z"
   },
   {
    "duration": 177,
    "start_time": "2024-12-19T19:30:04.447Z"
   },
   {
    "duration": 229,
    "start_time": "2024-12-19T19:30:04.626Z"
   },
   {
    "duration": 13,
    "start_time": "2024-12-19T19:30:04.863Z"
   },
   {
    "duration": 167,
    "start_time": "2024-12-19T19:30:04.877Z"
   },
   {
    "duration": 34,
    "start_time": "2024-12-19T19:30:05.046Z"
   },
   {
    "duration": 190,
    "start_time": "2024-12-19T19:30:05.085Z"
   },
   {
    "duration": 11,
    "start_time": "2024-12-19T19:30:05.277Z"
   },
   {
    "duration": 223,
    "start_time": "2024-12-19T19:30:05.289Z"
   },
   {
    "duration": 4,
    "start_time": "2024-12-19T19:30:05.514Z"
   },
   {
    "duration": 80,
    "start_time": "2024-12-19T19:30:05.519Z"
   },
   {
    "duration": 75,
    "start_time": "2024-12-19T19:30:05.601Z"
   },
   {
    "duration": 27,
    "start_time": "2024-12-19T19:30:05.677Z"
   },
   {
    "duration": 20,
    "start_time": "2024-12-19T19:30:05.706Z"
   },
   {
    "duration": 17,
    "start_time": "2024-12-19T19:30:05.727Z"
   },
   {
    "duration": 22,
    "start_time": "2024-12-19T19:30:05.745Z"
   },
   {
    "duration": 67,
    "start_time": "2024-12-19T19:30:05.769Z"
   },
   {
    "duration": 222,
    "start_time": "2024-12-19T19:30:05.838Z"
   },
   {
    "duration": 154,
    "start_time": "2024-12-19T19:30:06.076Z"
   },
   {
    "duration": 7,
    "start_time": "2024-12-19T19:30:06.232Z"
   },
   {
    "duration": 43,
    "start_time": "2024-12-19T19:30:06.240Z"
   },
   {
    "duration": 198,
    "start_time": "2024-12-19T19:30:06.290Z"
   },
   {
    "duration": 142,
    "start_time": "2024-12-19T19:30:06.492Z"
   },
   {
    "duration": 7,
    "start_time": "2024-12-19T19:30:06.635Z"
   },
   {
    "duration": 61,
    "start_time": "2024-12-19T19:30:06.644Z"
   },
   {
    "duration": 95,
    "start_time": "2024-12-19T19:30:06.707Z"
   },
   {
    "duration": 38,
    "start_time": "2024-12-19T19:30:06.804Z"
   },
   {
    "duration": 3,
    "start_time": "2024-12-19T19:30:06.843Z"
   },
   {
    "duration": 194,
    "start_time": "2024-12-19T19:30:06.847Z"
   },
   {
    "duration": 6,
    "start_time": "2024-12-19T19:30:07.043Z"
   },
   {
    "duration": 35,
    "start_time": "2024-12-19T19:30:07.057Z"
   },
   {
    "duration": 133,
    "start_time": "2024-12-19T19:30:07.093Z"
   },
   {
    "duration": 8,
    "start_time": "2024-12-19T19:30:07.227Z"
   },
   {
    "duration": 43,
    "start_time": "2024-12-19T19:30:07.237Z"
   },
   {
    "duration": 229,
    "start_time": "2024-12-19T19:30:07.281Z"
   },
   {
    "duration": 285,
    "start_time": "2024-12-19T19:30:07.512Z"
   },
   {
    "duration": 1441,
    "start_time": "2024-12-19T19:32:14.795Z"
   },
   {
    "duration": 230,
    "start_time": "2024-12-19T19:33:18.393Z"
   },
   {
    "duration": 1466,
    "start_time": "2024-12-19T19:33:40.258Z"
   },
   {
    "duration": 13343,
    "start_time": "2024-12-19T19:34:39.850Z"
   },
   {
    "duration": 1990,
    "start_time": "2024-12-19T19:35:31.096Z"
   },
   {
    "duration": 148,
    "start_time": "2024-12-19T19:38:04.562Z"
   },
   {
    "duration": 141,
    "start_time": "2024-12-19T19:41:50.170Z"
   },
   {
    "duration": 1052,
    "start_time": "2024-12-19T19:47:15.112Z"
   },
   {
    "duration": 63,
    "start_time": "2024-12-19T19:47:16.166Z"
   },
   {
    "duration": 11,
    "start_time": "2024-12-19T19:47:16.231Z"
   },
   {
    "duration": 257,
    "start_time": "2024-12-19T19:47:16.244Z"
   },
   {
    "duration": 10,
    "start_time": "2024-12-19T19:47:16.503Z"
   },
   {
    "duration": 260,
    "start_time": "2024-12-19T19:47:16.514Z"
   },
   {
    "duration": 9,
    "start_time": "2024-12-19T19:47:16.776Z"
   },
   {
    "duration": 14,
    "start_time": "2024-12-19T19:47:16.786Z"
   },
   {
    "duration": 370,
    "start_time": "2024-12-19T19:47:16.802Z"
   },
   {
    "duration": 10,
    "start_time": "2024-12-19T19:47:17.175Z"
   },
   {
    "duration": 27,
    "start_time": "2024-12-19T19:47:17.186Z"
   },
   {
    "duration": 336,
    "start_time": "2024-12-19T19:47:17.214Z"
   },
   {
    "duration": 17,
    "start_time": "2024-12-19T19:47:17.551Z"
   },
   {
    "duration": 28,
    "start_time": "2024-12-19T19:47:17.569Z"
   },
   {
    "duration": 28,
    "start_time": "2024-12-19T19:47:17.599Z"
   },
   {
    "duration": 16,
    "start_time": "2024-12-19T19:47:17.629Z"
   },
   {
    "duration": 20,
    "start_time": "2024-12-19T19:47:17.646Z"
   },
   {
    "duration": 28,
    "start_time": "2024-12-19T19:47:17.667Z"
   },
   {
    "duration": 4,
    "start_time": "2024-12-19T19:47:17.696Z"
   },
   {
    "duration": 10,
    "start_time": "2024-12-19T19:47:17.701Z"
   },
   {
    "duration": 15,
    "start_time": "2024-12-19T19:47:17.713Z"
   },
   {
    "duration": 7,
    "start_time": "2024-12-19T19:47:17.729Z"
   },
   {
    "duration": 148,
    "start_time": "2024-12-19T19:47:17.738Z"
   },
   {
    "duration": 216,
    "start_time": "2024-12-19T19:47:17.887Z"
   },
   {
    "duration": 6,
    "start_time": "2024-12-19T19:47:18.105Z"
   },
   {
    "duration": 139,
    "start_time": "2024-12-19T19:47:18.112Z"
   },
   {
    "duration": 18,
    "start_time": "2024-12-19T19:47:18.252Z"
   },
   {
    "duration": 148,
    "start_time": "2024-12-19T19:47:18.274Z"
   },
   {
    "duration": 4,
    "start_time": "2024-12-19T19:47:18.424Z"
   },
   {
    "duration": 148,
    "start_time": "2024-12-19T19:47:18.429Z"
   },
   {
    "duration": 4,
    "start_time": "2024-12-19T19:47:18.579Z"
   },
   {
    "duration": 22,
    "start_time": "2024-12-19T19:47:18.584Z"
   },
   {
    "duration": 37,
    "start_time": "2024-12-19T19:47:18.607Z"
   },
   {
    "duration": 3,
    "start_time": "2024-12-19T19:47:18.646Z"
   },
   {
    "duration": 22,
    "start_time": "2024-12-19T19:47:18.651Z"
   },
   {
    "duration": 17,
    "start_time": "2024-12-19T19:47:18.674Z"
   },
   {
    "duration": 10,
    "start_time": "2024-12-19T19:47:18.693Z"
   },
   {
    "duration": 8,
    "start_time": "2024-12-19T19:47:18.704Z"
   },
   {
    "duration": 123,
    "start_time": "2024-12-19T19:47:18.714Z"
   },
   {
    "duration": 144,
    "start_time": "2024-12-19T19:47:18.839Z"
   },
   {
    "duration": 7,
    "start_time": "2024-12-19T19:47:18.985Z"
   },
   {
    "duration": 8,
    "start_time": "2024-12-19T19:47:18.993Z"
   },
   {
    "duration": 134,
    "start_time": "2024-12-19T19:47:19.002Z"
   },
   {
    "duration": 133,
    "start_time": "2024-12-19T19:47:19.137Z"
   },
   {
    "duration": 8,
    "start_time": "2024-12-19T19:47:19.272Z"
   },
   {
    "duration": 41,
    "start_time": "2024-12-19T19:47:19.281Z"
   },
   {
    "duration": 42,
    "start_time": "2024-12-19T19:47:19.323Z"
   },
   {
    "duration": 21,
    "start_time": "2024-12-19T19:47:19.367Z"
   },
   {
    "duration": 3,
    "start_time": "2024-12-19T19:47:19.390Z"
   },
   {
    "duration": 151,
    "start_time": "2024-12-19T19:47:19.394Z"
   },
   {
    "duration": 18,
    "start_time": "2024-12-19T19:47:19.547Z"
   },
   {
    "duration": 10,
    "start_time": "2024-12-19T19:47:19.566Z"
   },
   {
    "duration": 113,
    "start_time": "2024-12-19T19:47:19.578Z"
   },
   {
    "duration": 7,
    "start_time": "2024-12-19T19:47:19.693Z"
   },
   {
    "duration": 26,
    "start_time": "2024-12-19T19:47:19.702Z"
   },
   {
    "duration": 198,
    "start_time": "2024-12-19T19:47:19.729Z"
   },
   {
    "duration": 1140,
    "start_time": "2024-12-19T19:48:08.766Z"
   },
   {
    "duration": 69,
    "start_time": "2024-12-19T19:48:09.908Z"
   },
   {
    "duration": 11,
    "start_time": "2024-12-19T19:48:09.979Z"
   },
   {
    "duration": 264,
    "start_time": "2024-12-19T19:48:09.992Z"
   },
   {
    "duration": 16,
    "start_time": "2024-12-19T19:48:10.270Z"
   },
   {
    "duration": 251,
    "start_time": "2024-12-19T19:48:10.289Z"
   },
   {
    "duration": 18,
    "start_time": "2024-12-19T19:48:10.542Z"
   },
   {
    "duration": 14,
    "start_time": "2024-12-19T19:48:10.561Z"
   },
   {
    "duration": 337,
    "start_time": "2024-12-19T19:48:10.577Z"
   },
   {
    "duration": 8,
    "start_time": "2024-12-19T19:48:10.916Z"
   },
   {
    "duration": 10,
    "start_time": "2024-12-19T19:48:10.925Z"
   },
   {
    "duration": 365,
    "start_time": "2024-12-19T19:48:10.937Z"
   },
   {
    "duration": 5,
    "start_time": "2024-12-19T19:48:11.304Z"
   },
   {
    "duration": 7,
    "start_time": "2024-12-19T19:48:11.312Z"
   },
   {
    "duration": 5,
    "start_time": "2024-12-19T19:48:11.320Z"
   },
   {
    "duration": 38,
    "start_time": "2024-12-19T19:48:11.326Z"
   },
   {
    "duration": 7,
    "start_time": "2024-12-19T19:48:11.366Z"
   },
   {
    "duration": 23,
    "start_time": "2024-12-19T19:48:11.375Z"
   },
   {
    "duration": 3,
    "start_time": "2024-12-19T19:48:11.400Z"
   },
   {
    "duration": 5,
    "start_time": "2024-12-19T19:48:11.405Z"
   },
   {
    "duration": 4,
    "start_time": "2024-12-19T19:48:11.411Z"
   },
   {
    "duration": 5,
    "start_time": "2024-12-19T19:48:11.417Z"
   },
   {
    "duration": 180,
    "start_time": "2024-12-19T19:48:11.424Z"
   },
   {
    "duration": 193,
    "start_time": "2024-12-19T19:48:11.605Z"
   },
   {
    "duration": 7,
    "start_time": "2024-12-19T19:48:11.799Z"
   },
   {
    "duration": 137,
    "start_time": "2024-12-19T19:48:11.807Z"
   },
   {
    "duration": 11,
    "start_time": "2024-12-19T19:48:11.945Z"
   },
   {
    "duration": 147,
    "start_time": "2024-12-19T19:48:11.958Z"
   },
   {
    "duration": 5,
    "start_time": "2024-12-19T19:48:12.106Z"
   },
   {
    "duration": 157,
    "start_time": "2024-12-19T19:48:12.113Z"
   },
   {
    "duration": 4,
    "start_time": "2024-12-19T19:48:12.272Z"
   },
   {
    "duration": 10,
    "start_time": "2024-12-19T19:48:12.277Z"
   },
   {
    "duration": 16,
    "start_time": "2024-12-19T19:48:12.288Z"
   },
   {
    "duration": 14,
    "start_time": "2024-12-19T19:48:12.305Z"
   },
   {
    "duration": 6,
    "start_time": "2024-12-19T19:48:12.320Z"
   },
   {
    "duration": 37,
    "start_time": "2024-12-19T19:48:12.327Z"
   },
   {
    "duration": 11,
    "start_time": "2024-12-19T19:48:12.365Z"
   },
   {
    "duration": 11,
    "start_time": "2024-12-19T19:48:12.377Z"
   },
   {
    "duration": 129,
    "start_time": "2024-12-19T19:48:12.390Z"
   },
   {
    "duration": 140,
    "start_time": "2024-12-19T19:48:12.520Z"
   },
   {
    "duration": 8,
    "start_time": "2024-12-19T19:48:12.664Z"
   },
   {
    "duration": 6,
    "start_time": "2024-12-19T19:48:12.674Z"
   },
   {
    "duration": 151,
    "start_time": "2024-12-19T19:48:12.682Z"
   },
   {
    "duration": 137,
    "start_time": "2024-12-19T19:48:12.834Z"
   },
   {
    "duration": 8,
    "start_time": "2024-12-19T19:48:12.973Z"
   },
   {
    "duration": 8,
    "start_time": "2024-12-19T19:48:12.982Z"
   },
   {
    "duration": 27,
    "start_time": "2024-12-19T19:48:12.992Z"
   },
   {
    "duration": 16,
    "start_time": "2024-12-19T19:48:13.020Z"
   },
   {
    "duration": 3,
    "start_time": "2024-12-19T19:48:13.037Z"
   },
   {
    "duration": 165,
    "start_time": "2024-12-19T19:48:13.041Z"
   },
   {
    "duration": 6,
    "start_time": "2024-12-19T19:48:13.208Z"
   },
   {
    "duration": 15,
    "start_time": "2024-12-19T19:48:13.216Z"
   },
   {
    "duration": 132,
    "start_time": "2024-12-19T19:48:13.232Z"
   },
   {
    "duration": 11,
    "start_time": "2024-12-19T19:48:13.365Z"
   },
   {
    "duration": 18,
    "start_time": "2024-12-19T19:48:13.377Z"
   },
   {
    "duration": 205,
    "start_time": "2024-12-19T19:48:13.396Z"
   },
   {
    "duration": 1082,
    "start_time": "2024-12-19T19:49:31.564Z"
   },
   {
    "duration": 65,
    "start_time": "2024-12-19T19:49:32.648Z"
   },
   {
    "duration": 10,
    "start_time": "2024-12-19T19:49:32.715Z"
   },
   {
    "duration": 280,
    "start_time": "2024-12-19T19:49:32.727Z"
   },
   {
    "duration": 10,
    "start_time": "2024-12-19T19:49:33.009Z"
   },
   {
    "duration": 276,
    "start_time": "2024-12-19T19:49:33.021Z"
   },
   {
    "duration": 7,
    "start_time": "2024-12-19T19:49:33.299Z"
   },
   {
    "duration": 19,
    "start_time": "2024-12-19T19:49:33.308Z"
   },
   {
    "duration": 402,
    "start_time": "2024-12-19T19:49:33.328Z"
   },
   {
    "duration": 6,
    "start_time": "2024-12-19T19:49:33.732Z"
   },
   {
    "duration": 22,
    "start_time": "2024-12-19T19:49:33.740Z"
   },
   {
    "duration": 403,
    "start_time": "2024-12-19T19:49:33.764Z"
   },
   {
    "duration": 6,
    "start_time": "2024-12-19T19:49:34.169Z"
   },
   {
    "duration": 25,
    "start_time": "2024-12-19T19:49:34.178Z"
   },
   {
    "duration": 13,
    "start_time": "2024-12-19T19:49:34.204Z"
   },
   {
    "duration": 8,
    "start_time": "2024-12-19T19:49:34.218Z"
   },
   {
    "duration": 2,
    "start_time": "2024-12-19T19:49:34.228Z"
   },
   {
    "duration": 44,
    "start_time": "2024-12-19T19:49:34.232Z"
   },
   {
    "duration": 6,
    "start_time": "2024-12-19T19:49:34.278Z"
   },
   {
    "duration": 98,
    "start_time": "2024-12-19T19:49:34.286Z"
   },
   {
    "duration": 16,
    "start_time": "2024-12-19T19:49:34.386Z"
   },
   {
    "duration": 12,
    "start_time": "2024-12-19T19:49:34.403Z"
   },
   {
    "duration": 168,
    "start_time": "2024-12-19T19:49:34.416Z"
   },
   {
    "duration": 209,
    "start_time": "2024-12-19T19:49:34.586Z"
   },
   {
    "duration": 7,
    "start_time": "2024-12-19T19:49:34.796Z"
   },
   {
    "duration": 163,
    "start_time": "2024-12-19T19:49:34.804Z"
   },
   {
    "duration": 10,
    "start_time": "2024-12-19T19:49:34.968Z"
   },
   {
    "duration": 198,
    "start_time": "2024-12-19T19:49:34.979Z"
   },
   {
    "duration": 11,
    "start_time": "2024-12-19T19:49:35.179Z"
   },
   {
    "duration": 196,
    "start_time": "2024-12-19T19:49:35.192Z"
   },
   {
    "duration": 4,
    "start_time": "2024-12-19T19:49:35.389Z"
   },
   {
    "duration": 31,
    "start_time": "2024-12-19T19:49:35.395Z"
   },
   {
    "duration": 21,
    "start_time": "2024-12-19T19:49:35.427Z"
   },
   {
    "duration": 27,
    "start_time": "2024-12-19T19:49:35.450Z"
   },
   {
    "duration": 97,
    "start_time": "2024-12-19T19:49:35.479Z"
   },
   {
    "duration": 39,
    "start_time": "2024-12-19T19:49:35.579Z"
   },
   {
    "duration": 10,
    "start_time": "2024-12-19T19:49:35.620Z"
   },
   {
    "duration": 10,
    "start_time": "2024-12-19T19:49:35.631Z"
   },
   {
    "duration": 149,
    "start_time": "2024-12-19T19:49:35.642Z"
   },
   {
    "duration": 153,
    "start_time": "2024-12-19T19:49:35.792Z"
   },
   {
    "duration": 17,
    "start_time": "2024-12-19T19:49:35.948Z"
   },
   {
    "duration": 23,
    "start_time": "2024-12-19T19:49:35.966Z"
   },
   {
    "duration": 154,
    "start_time": "2024-12-19T19:49:35.991Z"
   },
   {
    "duration": 146,
    "start_time": "2024-12-19T19:49:36.147Z"
   },
   {
    "duration": 8,
    "start_time": "2024-12-19T19:49:36.295Z"
   },
   {
    "duration": 11,
    "start_time": "2024-12-19T19:49:36.305Z"
   },
   {
    "duration": 20,
    "start_time": "2024-12-19T19:49:36.318Z"
   },
   {
    "duration": 62,
    "start_time": "2024-12-19T19:49:36.340Z"
   },
   {
    "duration": 47,
    "start_time": "2024-12-19T19:49:36.404Z"
   },
   {
    "duration": 196,
    "start_time": "2024-12-19T19:49:36.456Z"
   },
   {
    "duration": 15,
    "start_time": "2024-12-19T19:49:36.668Z"
   },
   {
    "duration": 42,
    "start_time": "2024-12-19T19:49:36.684Z"
   },
   {
    "duration": 133,
    "start_time": "2024-12-19T19:49:36.727Z"
   },
   {
    "duration": 19,
    "start_time": "2024-12-19T19:49:36.866Z"
   },
   {
    "duration": 26,
    "start_time": "2024-12-19T19:49:36.887Z"
   },
   {
    "duration": 209,
    "start_time": "2024-12-19T19:49:36.914Z"
   },
   {
    "duration": 157,
    "start_time": "2024-12-19T19:49:37.125Z"
   },
   {
    "duration": 28,
    "start_time": "2024-12-19T19:53:00.299Z"
   },
   {
    "duration": 4,
    "start_time": "2024-12-19T19:53:18.079Z"
   },
   {
    "duration": 39,
    "start_time": "2024-12-19T19:54:25.106Z"
   },
   {
    "duration": 115,
    "start_time": "2024-12-19T19:54:53.703Z"
   },
   {
    "duration": 1522,
    "start_time": "2024-12-19T19:55:10.994Z"
   },
   {
    "duration": 1479,
    "start_time": "2024-12-19T19:55:46.593Z"
   },
   {
    "duration": 1598,
    "start_time": "2024-12-19T19:55:52.697Z"
   },
   {
    "duration": 271,
    "start_time": "2024-12-19T19:56:06.733Z"
   },
   {
    "duration": 9,
    "start_time": "2024-12-19T20:08:27.304Z"
   },
   {
    "duration": 17,
    "start_time": "2024-12-19T20:08:43.347Z"
   },
   {
    "duration": 6,
    "start_time": "2024-12-19T20:09:24.629Z"
   },
   {
    "duration": 6,
    "start_time": "2024-12-19T20:09:40.385Z"
   },
   {
    "duration": 6,
    "start_time": "2024-12-19T20:13:51.114Z"
   },
   {
    "duration": 7,
    "start_time": "2024-12-19T20:13:52.510Z"
   },
   {
    "duration": 6,
    "start_time": "2024-12-19T20:13:52.939Z"
   },
   {
    "duration": 5,
    "start_time": "2024-12-19T20:13:53.325Z"
   },
   {
    "duration": 6,
    "start_time": "2024-12-19T20:13:53.713Z"
   },
   {
    "duration": 226,
    "start_time": "2024-12-19T20:13:56.180Z"
   },
   {
    "duration": 13,
    "start_time": "2024-12-19T20:15:28.001Z"
   },
   {
    "duration": 15,
    "start_time": "2024-12-19T20:16:20.033Z"
   },
   {
    "duration": 3,
    "start_time": "2024-12-19T20:21:59.494Z"
   },
   {
    "duration": 283,
    "start_time": "2024-12-19T20:23:17.930Z"
   },
   {
    "duration": 4,
    "start_time": "2024-12-19T20:24:04.169Z"
   },
   {
    "duration": 13,
    "start_time": "2024-12-19T20:24:07.834Z"
   },
   {
    "duration": 29958,
    "start_time": "2024-12-19T20:24:38.245Z"
   },
   {
    "duration": 30401,
    "start_time": "2024-12-19T20:27:03.906Z"
   },
   {
    "duration": 2814,
    "start_time": "2024-12-19T20:30:06.715Z"
   },
   {
    "duration": 1109,
    "start_time": "2024-12-19T20:41:37.363Z"
   },
   {
    "duration": 65,
    "start_time": "2024-12-19T20:41:38.477Z"
   },
   {
    "duration": 13,
    "start_time": "2024-12-19T20:41:38.544Z"
   },
   {
    "duration": 259,
    "start_time": "2024-12-19T20:41:38.561Z"
   },
   {
    "duration": 10,
    "start_time": "2024-12-19T20:41:38.823Z"
   },
   {
    "duration": 266,
    "start_time": "2024-12-19T20:41:38.835Z"
   },
   {
    "duration": 9,
    "start_time": "2024-12-19T20:41:39.103Z"
   },
   {
    "duration": 9,
    "start_time": "2024-12-19T20:41:39.113Z"
   },
   {
    "duration": 372,
    "start_time": "2024-12-19T20:41:39.124Z"
   },
   {
    "duration": 8,
    "start_time": "2024-12-19T20:41:39.498Z"
   },
   {
    "duration": 14,
    "start_time": "2024-12-19T20:41:39.507Z"
   },
   {
    "duration": 372,
    "start_time": "2024-12-19T20:41:39.523Z"
   },
   {
    "duration": 7,
    "start_time": "2024-12-19T20:41:39.896Z"
   },
   {
    "duration": 8,
    "start_time": "2024-12-19T20:41:39.907Z"
   },
   {
    "duration": 4,
    "start_time": "2024-12-19T20:41:39.917Z"
   },
   {
    "duration": 43,
    "start_time": "2024-12-19T20:41:39.923Z"
   },
   {
    "duration": 4,
    "start_time": "2024-12-19T20:41:39.976Z"
   },
   {
    "duration": 23,
    "start_time": "2024-12-19T20:41:39.982Z"
   },
   {
    "duration": 4,
    "start_time": "2024-12-19T20:41:40.006Z"
   },
   {
    "duration": 14,
    "start_time": "2024-12-19T20:41:40.011Z"
   },
   {
    "duration": 11,
    "start_time": "2024-12-19T20:41:40.026Z"
   },
   {
    "duration": 21,
    "start_time": "2024-12-19T20:41:40.038Z"
   },
   {
    "duration": 233,
    "start_time": "2024-12-19T20:41:40.070Z"
   },
   {
    "duration": 197,
    "start_time": "2024-12-19T20:41:40.305Z"
   },
   {
    "duration": 6,
    "start_time": "2024-12-19T20:41:40.503Z"
   },
   {
    "duration": 161,
    "start_time": "2024-12-19T20:41:40.511Z"
   },
   {
    "duration": 8,
    "start_time": "2024-12-19T20:41:40.680Z"
   },
   {
    "duration": 146,
    "start_time": "2024-12-19T20:41:40.692Z"
   },
   {
    "duration": 4,
    "start_time": "2024-12-19T20:41:40.840Z"
   },
   {
    "duration": 152,
    "start_time": "2024-12-19T20:41:40.845Z"
   },
   {
    "duration": 4,
    "start_time": "2024-12-19T20:41:40.999Z"
   },
   {
    "duration": 8,
    "start_time": "2024-12-19T20:41:41.004Z"
   },
   {
    "duration": 12,
    "start_time": "2024-12-19T20:41:41.013Z"
   },
   {
    "duration": 3,
    "start_time": "2024-12-19T20:41:41.026Z"
   },
   {
    "duration": 34,
    "start_time": "2024-12-19T20:41:41.030Z"
   },
   {
    "duration": 28,
    "start_time": "2024-12-19T20:41:41.072Z"
   },
   {
    "duration": 11,
    "start_time": "2024-12-19T20:41:41.101Z"
   },
   {
    "duration": 26,
    "start_time": "2024-12-19T20:41:41.113Z"
   },
   {
    "duration": 170,
    "start_time": "2024-12-19T20:41:41.141Z"
   },
   {
    "duration": 172,
    "start_time": "2024-12-19T20:41:41.312Z"
   },
   {
    "duration": 10,
    "start_time": "2024-12-19T20:41:41.490Z"
   },
   {
    "duration": 33,
    "start_time": "2024-12-19T20:41:41.501Z"
   },
   {
    "duration": 161,
    "start_time": "2024-12-19T20:41:41.535Z"
   },
   {
    "duration": 112,
    "start_time": "2024-12-19T20:41:41.697Z"
   },
   {
    "duration": 7,
    "start_time": "2024-12-19T20:41:41.810Z"
   },
   {
    "duration": 7,
    "start_time": "2024-12-19T20:41:41.819Z"
   },
   {
    "duration": 9,
    "start_time": "2024-12-19T20:41:41.828Z"
   },
   {
    "duration": 40,
    "start_time": "2024-12-19T20:41:41.838Z"
   },
   {
    "duration": 4,
    "start_time": "2024-12-19T20:41:41.885Z"
   },
   {
    "duration": 184,
    "start_time": "2024-12-19T20:41:41.890Z"
   },
   {
    "duration": 9,
    "start_time": "2024-12-19T20:41:42.077Z"
   },
   {
    "duration": 21,
    "start_time": "2024-12-19T20:41:42.088Z"
   },
   {
    "duration": 117,
    "start_time": "2024-12-19T20:41:42.111Z"
   },
   {
    "duration": 7,
    "start_time": "2024-12-19T20:41:42.229Z"
   },
   {
    "duration": 12,
    "start_time": "2024-12-19T20:41:42.237Z"
   },
   {
    "duration": 239,
    "start_time": "2024-12-19T20:41:42.250Z"
   },
   {
    "duration": 121,
    "start_time": "2024-12-19T20:41:42.493Z"
   },
   {
    "duration": 0,
    "start_time": "2024-12-19T20:41:42.616Z"
   },
   {
    "duration": 0,
    "start_time": "2024-12-19T20:41:42.617Z"
   },
   {
    "duration": 0,
    "start_time": "2024-12-19T20:41:42.618Z"
   },
   {
    "duration": 36,
    "start_time": "2024-12-19T20:44:55.080Z"
   },
   {
    "duration": 35,
    "start_time": "2024-12-19T20:45:15.712Z"
   },
   {
    "duration": 9,
    "start_time": "2024-12-19T20:45:30.616Z"
   },
   {
    "duration": 1478,
    "start_time": "2024-12-19T20:45:45.844Z"
   },
   {
    "duration": 6,
    "start_time": "2024-12-19T20:45:53.114Z"
   },
   {
    "duration": 2717,
    "start_time": "2024-12-19T20:45:54.377Z"
   },
   {
    "duration": 1519,
    "start_time": "2024-12-19T20:51:45.311Z"
   },
   {
    "duration": 227,
    "start_time": "2024-12-19T20:51:46.832Z"
   },
   {
    "duration": 19,
    "start_time": "2024-12-19T20:51:47.061Z"
   },
   {
    "duration": 301,
    "start_time": "2024-12-19T20:51:47.082Z"
   },
   {
    "duration": 12,
    "start_time": "2024-12-19T20:51:47.385Z"
   },
   {
    "duration": 306,
    "start_time": "2024-12-19T20:51:47.399Z"
   },
   {
    "duration": 11,
    "start_time": "2024-12-19T20:51:47.708Z"
   },
   {
    "duration": 14,
    "start_time": "2024-12-19T20:51:47.730Z"
   },
   {
    "duration": 426,
    "start_time": "2024-12-19T20:51:47.746Z"
   },
   {
    "duration": 8,
    "start_time": "2024-12-19T20:51:48.173Z"
   },
   {
    "duration": 15,
    "start_time": "2024-12-19T20:51:48.183Z"
   },
   {
    "duration": 456,
    "start_time": "2024-12-19T20:51:48.199Z"
   },
   {
    "duration": 9,
    "start_time": "2024-12-19T20:51:48.657Z"
   },
   {
    "duration": 29,
    "start_time": "2024-12-19T20:51:48.670Z"
   },
   {
    "duration": 7,
    "start_time": "2024-12-19T20:51:48.700Z"
   },
   {
    "duration": 13,
    "start_time": "2024-12-19T20:51:48.708Z"
   },
   {
    "duration": 10,
    "start_time": "2024-12-19T20:51:48.722Z"
   },
   {
    "duration": 26,
    "start_time": "2024-12-19T20:51:48.734Z"
   },
   {
    "duration": 6,
    "start_time": "2024-12-19T20:51:48.763Z"
   },
   {
    "duration": 7,
    "start_time": "2024-12-19T20:51:48.770Z"
   },
   {
    "duration": 5,
    "start_time": "2024-12-19T20:51:48.779Z"
   },
   {
    "duration": 45,
    "start_time": "2024-12-19T20:51:48.786Z"
   },
   {
    "duration": 205,
    "start_time": "2024-12-19T20:51:48.834Z"
   },
   {
    "duration": 293,
    "start_time": "2024-12-19T20:51:49.040Z"
   },
   {
    "duration": 10,
    "start_time": "2024-12-19T20:51:49.335Z"
   },
   {
    "duration": 177,
    "start_time": "2024-12-19T20:51:49.347Z"
   },
   {
    "duration": 9,
    "start_time": "2024-12-19T20:51:49.526Z"
   },
   {
    "duration": 209,
    "start_time": "2024-12-19T20:51:49.537Z"
   },
   {
    "duration": 5,
    "start_time": "2024-12-19T20:51:49.747Z"
   },
   {
    "duration": 234,
    "start_time": "2024-12-19T20:51:49.755Z"
   },
   {
    "duration": 5,
    "start_time": "2024-12-19T20:51:49.991Z"
   },
   {
    "duration": 36,
    "start_time": "2024-12-19T20:51:49.998Z"
   },
   {
    "duration": 29,
    "start_time": "2024-12-19T20:51:50.035Z"
   },
   {
    "duration": 25,
    "start_time": "2024-12-19T20:51:50.066Z"
   },
   {
    "duration": 19,
    "start_time": "2024-12-19T20:51:50.093Z"
   },
   {
    "duration": 35,
    "start_time": "2024-12-19T20:51:50.114Z"
   },
   {
    "duration": 13,
    "start_time": "2024-12-19T20:51:50.151Z"
   },
   {
    "duration": 17,
    "start_time": "2024-12-19T20:51:50.165Z"
   },
   {
    "duration": 165,
    "start_time": "2024-12-19T20:51:50.184Z"
   },
   {
    "duration": 215,
    "start_time": "2024-12-19T20:51:50.354Z"
   },
   {
    "duration": 10,
    "start_time": "2024-12-19T20:51:50.574Z"
   },
   {
    "duration": 9,
    "start_time": "2024-12-19T20:51:50.586Z"
   },
   {
    "duration": 235,
    "start_time": "2024-12-19T20:51:50.597Z"
   },
   {
    "duration": 173,
    "start_time": "2024-12-19T20:51:50.834Z"
   },
   {
    "duration": 22,
    "start_time": "2024-12-19T20:51:51.009Z"
   },
   {
    "duration": 14,
    "start_time": "2024-12-19T20:51:51.033Z"
   },
   {
    "duration": 19,
    "start_time": "2024-12-19T20:51:51.049Z"
   },
   {
    "duration": 40,
    "start_time": "2024-12-19T20:51:51.070Z"
   },
   {
    "duration": 17,
    "start_time": "2024-12-19T20:51:51.113Z"
   },
   {
    "duration": 171,
    "start_time": "2024-12-19T20:51:51.132Z"
   },
   {
    "duration": 8,
    "start_time": "2024-12-19T20:51:51.305Z"
   },
   {
    "duration": 26,
    "start_time": "2024-12-19T20:51:51.314Z"
   },
   {
    "duration": 135,
    "start_time": "2024-12-19T20:51:51.343Z"
   },
   {
    "duration": 10,
    "start_time": "2024-12-19T20:51:51.480Z"
   },
   {
    "duration": 10,
    "start_time": "2024-12-19T20:51:51.491Z"
   },
   {
    "duration": 268,
    "start_time": "2024-12-19T20:51:51.502Z"
   },
   {
    "duration": 124,
    "start_time": "2024-12-19T20:51:51.772Z"
   },
   {
    "duration": 0,
    "start_time": "2024-12-19T20:51:51.897Z"
   },
   {
    "duration": 0,
    "start_time": "2024-12-19T20:51:51.899Z"
   },
   {
    "duration": 0,
    "start_time": "2024-12-19T20:51:51.900Z"
   },
   {
    "duration": 18,
    "start_time": "2024-12-19T20:58:39.133Z"
   },
   {
    "duration": 12,
    "start_time": "2024-12-19T21:00:15.530Z"
   },
   {
    "duration": 94,
    "start_time": "2024-12-20T07:34:06.665Z"
   },
   {
    "duration": 102,
    "start_time": "2024-12-20T07:34:17.052Z"
   },
   {
    "duration": 46,
    "start_time": "2024-12-20T07:36:02.840Z"
   },
   {
    "duration": 1411,
    "start_time": "2024-12-20T07:36:08.897Z"
   },
   {
    "duration": 215,
    "start_time": "2024-12-20T07:36:10.310Z"
   },
   {
    "duration": 12,
    "start_time": "2024-12-20T07:36:10.526Z"
   },
   {
    "duration": 292,
    "start_time": "2024-12-20T07:36:10.540Z"
   },
   {
    "duration": 12,
    "start_time": "2024-12-20T07:36:10.834Z"
   },
   {
    "duration": 290,
    "start_time": "2024-12-20T07:36:10.848Z"
   },
   {
    "duration": 10,
    "start_time": "2024-12-20T07:36:11.139Z"
   },
   {
    "duration": 12,
    "start_time": "2024-12-20T07:36:11.150Z"
   },
   {
    "duration": 401,
    "start_time": "2024-12-20T07:36:11.164Z"
   },
   {
    "duration": 8,
    "start_time": "2024-12-20T07:36:11.569Z"
   },
   {
    "duration": 22,
    "start_time": "2024-12-20T07:36:11.579Z"
   },
   {
    "duration": 392,
    "start_time": "2024-12-20T07:36:11.603Z"
   },
   {
    "duration": 6,
    "start_time": "2024-12-20T07:36:11.996Z"
   },
   {
    "duration": 27,
    "start_time": "2024-12-20T07:36:12.004Z"
   },
   {
    "duration": 11,
    "start_time": "2024-12-20T07:36:12.033Z"
   },
   {
    "duration": 11,
    "start_time": "2024-12-20T07:36:12.047Z"
   },
   {
    "duration": 3,
    "start_time": "2024-12-20T07:36:12.060Z"
   },
   {
    "duration": 17,
    "start_time": "2024-12-20T07:36:12.065Z"
   },
   {
    "duration": 5,
    "start_time": "2024-12-20T07:36:12.083Z"
   },
   {
    "duration": 44,
    "start_time": "2024-12-20T07:36:12.089Z"
   },
   {
    "duration": 11,
    "start_time": "2024-12-20T07:36:12.135Z"
   },
   {
    "duration": 5,
    "start_time": "2024-12-20T07:36:12.148Z"
   },
   {
    "duration": 178,
    "start_time": "2024-12-20T07:36:12.154Z"
   },
   {
    "duration": 226,
    "start_time": "2024-12-20T07:36:12.334Z"
   },
   {
    "duration": 8,
    "start_time": "2024-12-20T07:36:12.562Z"
   },
   {
    "duration": 166,
    "start_time": "2024-12-20T07:36:12.572Z"
   },
   {
    "duration": 11,
    "start_time": "2024-12-20T07:36:12.740Z"
   },
   {
    "duration": 189,
    "start_time": "2024-12-20T07:36:12.755Z"
   },
   {
    "duration": 4,
    "start_time": "2024-12-20T07:36:12.946Z"
   },
   {
    "duration": 180,
    "start_time": "2024-12-20T07:36:12.952Z"
   },
   {
    "duration": 5,
    "start_time": "2024-12-20T07:36:13.133Z"
   },
   {
    "duration": 8,
    "start_time": "2024-12-20T07:36:13.139Z"
   },
   {
    "duration": 16,
    "start_time": "2024-12-20T07:36:13.149Z"
   },
   {
    "duration": 4,
    "start_time": "2024-12-20T07:36:13.167Z"
   },
   {
    "duration": 6,
    "start_time": "2024-12-20T07:36:13.173Z"
   },
   {
    "duration": 53,
    "start_time": "2024-12-20T07:36:13.181Z"
   },
   {
    "duration": 12,
    "start_time": "2024-12-20T07:36:13.236Z"
   },
   {
    "duration": 41,
    "start_time": "2024-12-20T07:36:13.249Z"
   },
   {
    "duration": 133,
    "start_time": "2024-12-20T07:36:13.291Z"
   },
   {
    "duration": 160,
    "start_time": "2024-12-20T07:36:13.426Z"
   },
   {
    "duration": 9,
    "start_time": "2024-12-20T07:36:13.588Z"
   },
   {
    "duration": 8,
    "start_time": "2024-12-20T07:36:13.598Z"
   },
   {
    "duration": 168,
    "start_time": "2024-12-20T07:36:13.608Z"
   },
   {
    "duration": 139,
    "start_time": "2024-12-20T07:36:13.777Z"
   },
   {
    "duration": 18,
    "start_time": "2024-12-20T07:36:13.918Z"
   },
   {
    "duration": 8,
    "start_time": "2024-12-20T07:36:13.938Z"
   },
   {
    "duration": 11,
    "start_time": "2024-12-20T07:36:13.948Z"
   },
   {
    "duration": 19,
    "start_time": "2024-12-20T07:36:13.961Z"
   },
   {
    "duration": 3,
    "start_time": "2024-12-20T07:36:13.982Z"
   },
   {
    "duration": 149,
    "start_time": "2024-12-20T07:36:14.029Z"
   },
   {
    "duration": 8,
    "start_time": "2024-12-20T07:36:14.180Z"
   },
   {
    "duration": 49,
    "start_time": "2024-12-20T07:36:14.190Z"
   },
   {
    "duration": 125,
    "start_time": "2024-12-20T07:36:14.240Z"
   },
   {
    "duration": 9,
    "start_time": "2024-12-20T07:36:14.367Z"
   },
   {
    "duration": 10,
    "start_time": "2024-12-20T07:36:14.377Z"
   },
   {
    "duration": 247,
    "start_time": "2024-12-20T07:36:14.389Z"
   },
   {
    "duration": 109,
    "start_time": "2024-12-20T07:36:14.638Z"
   },
   {
    "duration": 0,
    "start_time": "2024-12-20T07:36:14.749Z"
   },
   {
    "duration": 1,
    "start_time": "2024-12-20T07:36:14.750Z"
   },
   {
    "duration": 0,
    "start_time": "2024-12-20T07:36:14.751Z"
   },
   {
    "duration": 83,
    "start_time": "2024-12-20T07:36:54.128Z"
   },
   {
    "duration": 551,
    "start_time": "2024-12-20T07:39:02.032Z"
   },
   {
    "duration": 448,
    "start_time": "2024-12-20T07:39:11.094Z"
   },
   {
    "duration": 3,
    "start_time": "2024-12-20T07:39:16.683Z"
   },
   {
    "duration": 69,
    "start_time": "2024-12-20T07:39:18.439Z"
   },
   {
    "duration": 8,
    "start_time": "2024-12-20T07:39:20.055Z"
   },
   {
    "duration": 370,
    "start_time": "2024-12-20T07:39:23.910Z"
   },
   {
    "duration": 359,
    "start_time": "2024-12-20T07:39:49.787Z"
   },
   {
    "duration": 262,
    "start_time": "2024-12-20T07:39:57.671Z"
   },
   {
    "duration": 381,
    "start_time": "2024-12-20T07:40:42.832Z"
   },
   {
    "duration": 345,
    "start_time": "2024-12-20T07:40:54.312Z"
   },
   {
    "duration": 336,
    "start_time": "2024-12-20T07:41:07.511Z"
   },
   {
    "duration": 348,
    "start_time": "2024-12-20T07:41:13.784Z"
   },
   {
    "duration": 71,
    "start_time": "2024-12-20T07:41:22.044Z"
   },
   {
    "duration": 9,
    "start_time": "2024-12-20T07:41:24.438Z"
   },
   {
    "duration": 268,
    "start_time": "2024-12-20T07:41:26.214Z"
   },
   {
    "duration": 11,
    "start_time": "2024-12-20T07:41:27.655Z"
   },
   {
    "duration": 265,
    "start_time": "2024-12-20T07:41:29.326Z"
   },
   {
    "duration": 9,
    "start_time": "2024-12-20T07:41:30.676Z"
   },
   {
    "duration": 12,
    "start_time": "2024-12-20T07:41:32.394Z"
   },
   {
    "duration": 490,
    "start_time": "2024-12-20T07:41:33.019Z"
   },
   {
    "duration": 8,
    "start_time": "2024-12-20T07:41:34.097Z"
   },
   {
    "duration": 11,
    "start_time": "2024-12-20T07:41:34.999Z"
   },
   {
    "duration": 343,
    "start_time": "2024-12-20T07:41:36.195Z"
   },
   {
    "duration": 329,
    "start_time": "2024-12-20T07:41:40.315Z"
   },
   {
    "duration": 10,
    "start_time": "2024-12-20T07:43:29.127Z"
   },
   {
    "duration": 348,
    "start_time": "2024-12-20T07:43:42.359Z"
   },
   {
    "duration": 11,
    "start_time": "2024-12-20T07:44:11.696Z"
   },
   {
    "duration": 332,
    "start_time": "2024-12-20T07:44:50.370Z"
   },
   {
    "duration": 154,
    "start_time": "2024-12-20T07:45:49.885Z"
   },
   {
    "duration": 15,
    "start_time": "2024-12-20T08:04:33.814Z"
   },
   {
    "duration": 15,
    "start_time": "2024-12-20T08:05:03.984Z"
   },
   {
    "duration": 173,
    "start_time": "2024-12-20T08:05:18.691Z"
   },
   {
    "duration": 6,
    "start_time": "2024-12-20T08:06:17.100Z"
   },
   {
    "duration": 184,
    "start_time": "2024-12-20T08:06:21.675Z"
   },
   {
    "duration": 200,
    "start_time": "2024-12-20T08:06:35.830Z"
   },
   {
    "duration": 327,
    "start_time": "2024-12-20T08:11:49.972Z"
   },
   {
    "duration": 173,
    "start_time": "2024-12-20T08:11:57.351Z"
   },
   {
    "duration": 184,
    "start_time": "2024-12-20T08:13:24.283Z"
   },
   {
    "duration": 4,
    "start_time": "2024-12-20T08:13:30.214Z"
   },
   {
    "duration": 76,
    "start_time": "2024-12-20T08:13:36.369Z"
   },
   {
    "duration": 106,
    "start_time": "2024-12-20T08:13:40.422Z"
   },
   {
    "duration": 5,
    "start_time": "2024-12-20T08:13:51.470Z"
   },
   {
    "duration": 187,
    "start_time": "2024-12-20T08:14:40.493Z"
   },
   {
    "duration": 180,
    "start_time": "2024-12-20T08:14:56.124Z"
   },
   {
    "duration": 187,
    "start_time": "2024-12-20T08:15:18.222Z"
   },
   {
    "duration": 11,
    "start_time": "2024-12-20T08:19:33.316Z"
   },
   {
    "duration": 19,
    "start_time": "2024-12-20T08:19:43.642Z"
   },
   {
    "duration": 187,
    "start_time": "2024-12-20T08:20:07.692Z"
   },
   {
    "duration": 205,
    "start_time": "2024-12-20T08:20:20.499Z"
   },
   {
    "duration": 218,
    "start_time": "2024-12-20T08:20:38.601Z"
   },
   {
    "duration": 207,
    "start_time": "2024-12-20T08:21:33.600Z"
   },
   {
    "duration": 185,
    "start_time": "2024-12-20T08:21:45.806Z"
   },
   {
    "duration": 225,
    "start_time": "2024-12-20T08:21:56.824Z"
   },
   {
    "duration": 249,
    "start_time": "2024-12-20T08:22:06.020Z"
   },
   {
    "duration": 208,
    "start_time": "2024-12-20T08:24:01.722Z"
   },
   {
    "duration": 12,
    "start_time": "2024-12-20T08:25:22.588Z"
   },
   {
    "duration": 12,
    "start_time": "2024-12-20T08:26:31.738Z"
   },
   {
    "duration": 6,
    "start_time": "2024-12-20T08:26:49.971Z"
   },
   {
    "duration": 9,
    "start_time": "2024-12-20T08:27:35.513Z"
   },
   {
    "duration": 9,
    "start_time": "2024-12-20T08:27:39.488Z"
   },
   {
    "duration": 3,
    "start_time": "2024-12-20T08:27:53.341Z"
   },
   {
    "duration": 201,
    "start_time": "2024-12-20T08:32:30.812Z"
   },
   {
    "duration": 188,
    "start_time": "2024-12-20T08:33:56.193Z"
   },
   {
    "duration": 645,
    "start_time": "2024-12-20T08:35:05.208Z"
   },
   {
    "duration": 87,
    "start_time": "2024-12-20T08:36:27.151Z"
   },
   {
    "duration": 93,
    "start_time": "2024-12-20T08:36:31.280Z"
   },
   {
    "duration": 112,
    "start_time": "2024-12-20T08:37:33.863Z"
   },
   {
    "duration": 90,
    "start_time": "2024-12-20T08:37:41.167Z"
   },
   {
    "duration": 91,
    "start_time": "2024-12-20T08:37:52.887Z"
   },
   {
    "duration": 91,
    "start_time": "2024-12-20T08:39:17.181Z"
   },
   {
    "duration": 102,
    "start_time": "2024-12-20T08:39:34.014Z"
   },
   {
    "duration": 101,
    "start_time": "2024-12-20T08:39:40.150Z"
   },
   {
    "duration": 96,
    "start_time": "2024-12-20T08:40:58.316Z"
   },
   {
    "duration": 102,
    "start_time": "2024-12-20T08:41:58.814Z"
   },
   {
    "duration": 96,
    "start_time": "2024-12-20T08:42:05.451Z"
   },
   {
    "duration": 1155,
    "start_time": "2024-12-20T08:43:10.349Z"
   },
   {
    "duration": 71,
    "start_time": "2024-12-20T08:43:11.507Z"
   },
   {
    "duration": 12,
    "start_time": "2024-12-20T08:43:11.579Z"
   },
   {
    "duration": 441,
    "start_time": "2024-12-20T08:43:11.592Z"
   },
   {
    "duration": 15,
    "start_time": "2024-12-20T08:43:12.035Z"
   },
   {
    "duration": 331,
    "start_time": "2024-12-20T08:43:12.052Z"
   },
   {
    "duration": 9,
    "start_time": "2024-12-20T08:43:12.385Z"
   },
   {
    "duration": 38,
    "start_time": "2024-12-20T08:43:12.396Z"
   },
   {
    "duration": 435,
    "start_time": "2024-12-20T08:43:12.435Z"
   },
   {
    "duration": 8,
    "start_time": "2024-12-20T08:43:12.871Z"
   },
   {
    "duration": 123,
    "start_time": "2024-12-20T08:43:12.880Z"
   },
   {
    "duration": 54,
    "start_time": "2024-12-20T08:43:13.005Z"
   },
   {
    "duration": 79,
    "start_time": "2024-12-20T08:43:13.061Z"
   },
   {
    "duration": 7,
    "start_time": "2024-12-20T08:43:13.143Z"
   },
   {
    "duration": 19,
    "start_time": "2024-12-20T08:43:13.151Z"
   },
   {
    "duration": 17,
    "start_time": "2024-12-20T08:43:13.172Z"
   },
   {
    "duration": 44,
    "start_time": "2024-12-20T08:43:13.191Z"
   },
   {
    "duration": 22,
    "start_time": "2024-12-20T08:43:13.236Z"
   },
   {
    "duration": 29,
    "start_time": "2024-12-20T08:43:13.259Z"
   },
   {
    "duration": 21,
    "start_time": "2024-12-20T08:43:13.290Z"
   },
   {
    "duration": 27,
    "start_time": "2024-12-20T08:43:13.312Z"
   },
   {
    "duration": 214,
    "start_time": "2024-12-20T08:43:13.341Z"
   },
   {
    "duration": 110,
    "start_time": "2024-12-20T08:43:13.557Z"
   },
   {
    "duration": 6,
    "start_time": "2024-12-20T08:43:13.669Z"
   },
   {
    "duration": 204,
    "start_time": "2024-12-20T08:43:13.677Z"
   },
   {
    "duration": 7,
    "start_time": "2024-12-20T08:43:13.883Z"
   },
   {
    "duration": 295,
    "start_time": "2024-12-20T08:43:13.891Z"
   },
   {
    "duration": 5,
    "start_time": "2024-12-20T08:43:14.187Z"
   },
   {
    "duration": 211,
    "start_time": "2024-12-20T08:43:14.194Z"
   },
   {
    "duration": 5,
    "start_time": "2024-12-20T08:43:14.406Z"
   },
   {
    "duration": 22,
    "start_time": "2024-12-20T08:43:14.412Z"
   },
   {
    "duration": 15,
    "start_time": "2024-12-20T08:43:14.435Z"
   },
   {
    "duration": 5,
    "start_time": "2024-12-20T08:43:14.451Z"
   },
   {
    "duration": 6,
    "start_time": "2024-12-20T08:43:14.458Z"
   },
   {
    "duration": 14,
    "start_time": "2024-12-20T08:43:14.466Z"
   },
   {
    "duration": 11,
    "start_time": "2024-12-20T08:43:14.482Z"
   },
   {
    "duration": 42,
    "start_time": "2024-12-20T08:43:14.494Z"
   },
   {
    "duration": 165,
    "start_time": "2024-12-20T08:43:14.538Z"
   },
   {
    "duration": 195,
    "start_time": "2024-12-20T08:43:14.705Z"
   },
   {
    "duration": 9,
    "start_time": "2024-12-20T08:43:14.902Z"
   },
   {
    "duration": 193,
    "start_time": "2024-12-20T08:43:14.931Z"
   },
   {
    "duration": 183,
    "start_time": "2024-12-20T08:43:15.126Z"
   },
   {
    "duration": 161,
    "start_time": "2024-12-20T08:43:15.311Z"
   },
   {
    "duration": 11,
    "start_time": "2024-12-20T08:43:15.475Z"
   },
   {
    "duration": 10,
    "start_time": "2024-12-20T08:43:15.487Z"
   },
   {
    "duration": 40,
    "start_time": "2024-12-20T08:43:15.499Z"
   },
   {
    "duration": 20,
    "start_time": "2024-12-20T08:43:15.541Z"
   },
   {
    "duration": 4,
    "start_time": "2024-12-20T08:43:15.563Z"
   },
   {
    "duration": 167,
    "start_time": "2024-12-20T08:43:15.569Z"
   },
   {
    "duration": 8,
    "start_time": "2024-12-20T08:43:15.737Z"
   },
   {
    "duration": 17,
    "start_time": "2024-12-20T08:43:15.747Z"
   },
   {
    "duration": 158,
    "start_time": "2024-12-20T08:43:15.766Z"
   },
   {
    "duration": 8,
    "start_time": "2024-12-20T08:43:15.929Z"
   },
   {
    "duration": 18,
    "start_time": "2024-12-20T08:43:15.939Z"
   },
   {
    "duration": 275,
    "start_time": "2024-12-20T08:43:15.959Z"
   },
   {
    "duration": 110,
    "start_time": "2024-12-20T08:43:16.236Z"
   },
   {
    "duration": 0,
    "start_time": "2024-12-20T08:43:16.348Z"
   },
   {
    "duration": 0,
    "start_time": "2024-12-20T08:43:16.349Z"
   },
   {
    "duration": 0,
    "start_time": "2024-12-20T08:43:16.350Z"
   },
   {
    "duration": 25,
    "start_time": "2024-12-20T08:48:56.555Z"
   },
   {
    "duration": 20,
    "start_time": "2024-12-20T08:49:07.657Z"
   },
   {
    "duration": 188,
    "start_time": "2024-12-20T08:51:42.616Z"
   },
   {
    "duration": 225,
    "start_time": "2024-12-20T08:51:45.926Z"
   },
   {
    "duration": 242,
    "start_time": "2024-12-20T08:51:49.244Z"
   },
   {
    "duration": 356,
    "start_time": "2024-12-20T08:52:25.774Z"
   },
   {
    "duration": 286,
    "start_time": "2024-12-20T08:52:55.607Z"
   },
   {
    "duration": 613,
    "start_time": "2024-12-20T08:53:05.011Z"
   },
   {
    "duration": 303,
    "start_time": "2024-12-20T08:53:29.065Z"
   },
   {
    "duration": 218,
    "start_time": "2024-12-20T08:54:21.220Z"
   },
   {
    "duration": 374,
    "start_time": "2024-12-20T08:54:55.088Z"
   },
   {
    "duration": 167,
    "start_time": "2024-12-20T08:55:17.833Z"
   },
   {
    "duration": 484,
    "start_time": "2024-12-20T08:56:08.104Z"
   },
   {
    "duration": 393,
    "start_time": "2024-12-20T08:56:14.207Z"
   },
   {
    "duration": 258,
    "start_time": "2024-12-20T08:56:47.049Z"
   },
   {
    "duration": 105,
    "start_time": "2024-12-20T08:57:02.231Z"
   },
   {
    "duration": 249,
    "start_time": "2024-12-20T08:57:06.871Z"
   },
   {
    "duration": 237,
    "start_time": "2024-12-20T08:57:20.178Z"
   },
   {
    "duration": 37,
    "start_time": "2024-12-20T08:57:57.558Z"
   },
   {
    "duration": 39,
    "start_time": "2024-12-20T08:58:02.256Z"
   },
   {
    "duration": 1740,
    "start_time": "2024-12-20T08:58:04.383Z"
   },
   {
    "duration": 1161,
    "start_time": "2024-12-20T08:58:19.643Z"
   },
   {
    "duration": 72,
    "start_time": "2024-12-20T08:58:20.806Z"
   },
   {
    "duration": 12,
    "start_time": "2024-12-20T08:58:20.879Z"
   },
   {
    "duration": 328,
    "start_time": "2024-12-20T08:58:20.893Z"
   },
   {
    "duration": 16,
    "start_time": "2024-12-20T08:58:21.222Z"
   },
   {
    "duration": 377,
    "start_time": "2024-12-20T08:58:21.240Z"
   },
   {
    "duration": 9,
    "start_time": "2024-12-20T08:58:21.629Z"
   },
   {
    "duration": 16,
    "start_time": "2024-12-20T08:58:21.640Z"
   },
   {
    "duration": 458,
    "start_time": "2024-12-20T08:58:21.658Z"
   },
   {
    "duration": 8,
    "start_time": "2024-12-20T08:58:22.129Z"
   },
   {
    "duration": 15,
    "start_time": "2024-12-20T08:58:22.139Z"
   },
   {
    "duration": 6,
    "start_time": "2024-12-20T08:58:22.155Z"
   },
   {
    "duration": 7,
    "start_time": "2024-12-20T08:58:22.163Z"
   },
   {
    "duration": 5,
    "start_time": "2024-12-20T08:58:22.172Z"
   },
   {
    "duration": 10,
    "start_time": "2024-12-20T08:58:22.179Z"
   },
   {
    "duration": 40,
    "start_time": "2024-12-20T08:58:22.191Z"
   },
   {
    "duration": 45,
    "start_time": "2024-12-20T08:58:22.232Z"
   },
   {
    "duration": 31,
    "start_time": "2024-12-20T08:58:22.278Z"
   },
   {
    "duration": 8,
    "start_time": "2024-12-20T08:58:22.311Z"
   },
   {
    "duration": 10,
    "start_time": "2024-12-20T08:58:22.320Z"
   },
   {
    "duration": 27,
    "start_time": "2024-12-20T08:58:22.332Z"
   },
   {
    "duration": 204,
    "start_time": "2024-12-20T08:58:22.360Z"
   },
   {
    "duration": 110,
    "start_time": "2024-12-20T08:58:22.566Z"
   },
   {
    "duration": 7,
    "start_time": "2024-12-20T08:58:22.678Z"
   },
   {
    "duration": 182,
    "start_time": "2024-12-20T08:58:22.686Z"
   },
   {
    "duration": 8,
    "start_time": "2024-12-20T08:58:22.870Z"
   },
   {
    "duration": 300,
    "start_time": "2024-12-20T08:58:22.879Z"
   },
   {
    "duration": 6,
    "start_time": "2024-12-20T08:58:23.185Z"
   },
   {
    "duration": 199,
    "start_time": "2024-12-20T08:58:23.193Z"
   },
   {
    "duration": 5,
    "start_time": "2024-12-20T08:58:23.393Z"
   },
   {
    "duration": 11,
    "start_time": "2024-12-20T08:58:23.399Z"
   },
   {
    "duration": 11,
    "start_time": "2024-12-20T08:58:23.429Z"
   },
   {
    "duration": 9,
    "start_time": "2024-12-20T08:58:23.442Z"
   },
   {
    "duration": 15,
    "start_time": "2024-12-20T08:58:23.453Z"
   },
   {
    "duration": 14,
    "start_time": "2024-12-20T08:58:23.470Z"
   },
   {
    "duration": 12,
    "start_time": "2024-12-20T08:58:23.486Z"
   },
   {
    "duration": 33,
    "start_time": "2024-12-20T08:58:23.499Z"
   },
   {
    "duration": 253,
    "start_time": "2024-12-20T08:58:23.534Z"
   },
   {
    "duration": 187,
    "start_time": "2024-12-20T08:58:23.790Z"
   },
   {
    "duration": 9,
    "start_time": "2024-12-20T08:58:23.979Z"
   },
   {
    "duration": 40,
    "start_time": "2024-12-20T08:58:23.989Z"
   },
   {
    "duration": 173,
    "start_time": "2024-12-20T08:58:24.031Z"
   },
   {
    "duration": 164,
    "start_time": "2024-12-20T08:58:24.206Z"
   },
   {
    "duration": 19,
    "start_time": "2024-12-20T08:58:24.372Z"
   },
   {
    "duration": 38,
    "start_time": "2024-12-20T08:58:24.392Z"
   },
   {
    "duration": 8,
    "start_time": "2024-12-20T08:58:24.432Z"
   },
   {
    "duration": 8,
    "start_time": "2024-12-20T08:58:24.441Z"
   },
   {
    "duration": 16,
    "start_time": "2024-12-20T08:58:24.450Z"
   },
   {
    "duration": 21,
    "start_time": "2024-12-20T08:58:24.468Z"
   },
   {
    "duration": 4,
    "start_time": "2024-12-20T08:58:24.490Z"
   },
   {
    "duration": 149,
    "start_time": "2024-12-20T08:58:24.530Z"
   },
   {
    "duration": 8,
    "start_time": "2024-12-20T08:58:24.681Z"
   },
   {
    "duration": 12,
    "start_time": "2024-12-20T08:58:24.690Z"
   },
   {
    "duration": 162,
    "start_time": "2024-12-20T08:58:24.704Z"
   },
   {
    "duration": 9,
    "start_time": "2024-12-20T08:58:24.867Z"
   },
   {
    "duration": 13,
    "start_time": "2024-12-20T08:58:24.877Z"
   },
   {
    "duration": 285,
    "start_time": "2024-12-20T08:58:24.892Z"
   },
   {
    "duration": 32,
    "start_time": "2024-12-20T08:58:25.179Z"
   },
   {
    "duration": 1808,
    "start_time": "2024-12-20T08:58:25.230Z"
   },
   {
    "duration": 7,
    "start_time": "2024-12-20T08:58:27.040Z"
   },
   {
    "duration": 3055,
    "start_time": "2024-12-20T08:58:27.049Z"
   },
   {
    "duration": 257,
    "start_time": "2024-12-20T09:44:08.990Z"
   },
   {
    "duration": 21,
    "start_time": "2024-12-20T09:45:14.811Z"
   },
   {
    "duration": 21,
    "start_time": "2024-12-20T09:45:23.130Z"
   },
   {
    "duration": 19,
    "start_time": "2024-12-20T09:45:30.194Z"
   },
   {
    "duration": 249,
    "start_time": "2024-12-20T09:48:30.689Z"
   },
   {
    "duration": 256,
    "start_time": "2024-12-20T09:48:47.605Z"
   },
   {
    "duration": 449,
    "start_time": "2024-12-20T09:50:00.350Z"
   },
   {
    "duration": 273,
    "start_time": "2024-12-20T09:50:25.639Z"
   },
   {
    "duration": 261,
    "start_time": "2024-12-20T09:50:36.822Z"
   },
   {
    "duration": 281,
    "start_time": "2024-12-20T09:51:36.617Z"
   },
   {
    "duration": 291,
    "start_time": "2024-12-20T09:51:41.453Z"
   },
   {
    "duration": 359,
    "start_time": "2024-12-20T10:09:54.917Z"
   },
   {
    "duration": 359,
    "start_time": "2024-12-20T10:10:25.629Z"
   },
   {
    "duration": 560,
    "start_time": "2024-12-20T10:11:05.496Z"
   },
   {
    "duration": 410,
    "start_time": "2024-12-20T10:11:11.972Z"
   },
   {
    "duration": 412,
    "start_time": "2024-12-20T10:11:52.926Z"
   },
   {
    "duration": 420,
    "start_time": "2024-12-20T10:12:09.019Z"
   },
   {
    "duration": 421,
    "start_time": "2024-12-20T10:12:28.655Z"
   },
   {
    "duration": 546,
    "start_time": "2024-12-20T10:12:51.041Z"
   },
   {
    "duration": 87,
    "start_time": "2024-12-20T10:13:01.895Z"
   },
   {
    "duration": 404,
    "start_time": "2024-12-20T10:13:06.139Z"
   },
   {
    "duration": 410,
    "start_time": "2024-12-20T10:13:45.300Z"
   },
   {
    "duration": 400,
    "start_time": "2024-12-20T10:15:19.987Z"
   },
   {
    "duration": 168,
    "start_time": "2024-12-20T10:15:29.828Z"
   },
   {
    "duration": 403,
    "start_time": "2024-12-20T10:15:33.500Z"
   },
   {
    "duration": 397,
    "start_time": "2024-12-20T10:15:43.127Z"
   },
   {
    "duration": 255,
    "start_time": "2024-12-20T10:17:25.715Z"
   },
   {
    "duration": 398,
    "start_time": "2024-12-20T10:18:40.968Z"
   },
   {
    "duration": 404,
    "start_time": "2024-12-20T10:18:47.540Z"
   },
   {
    "duration": 376,
    "start_time": "2024-12-20T10:19:47.888Z"
   },
   {
    "duration": 5,
    "start_time": "2024-12-20T10:21:21.122Z"
   },
   {
    "duration": 13,
    "start_time": "2024-12-20T10:21:22.142Z"
   },
   {
    "duration": 20,
    "start_time": "2024-12-20T10:21:45.099Z"
   },
   {
    "duration": 3,
    "start_time": "2024-12-20T10:21:47.397Z"
   },
   {
    "duration": 146,
    "start_time": "2024-12-20T10:21:48.343Z"
   },
   {
    "duration": 8,
    "start_time": "2024-12-20T10:21:49.308Z"
   },
   {
    "duration": 3,
    "start_time": "2024-12-20T10:21:50.297Z"
   },
   {
    "duration": 12,
    "start_time": "2024-12-20T10:21:52.349Z"
   },
   {
    "duration": 4,
    "start_time": "2024-12-20T10:22:07.434Z"
   },
   {
    "duration": 12,
    "start_time": "2024-12-20T10:22:08.430Z"
   },
   {
    "duration": 93,
    "start_time": "2024-12-20T10:24:22.941Z"
   },
   {
    "duration": 6,
    "start_time": "2024-12-20T11:16:13.029Z"
   },
   {
    "duration": 6,
    "start_time": "2024-12-20T11:16:29.572Z"
   },
   {
    "duration": 9,
    "start_time": "2024-12-20T11:17:35.537Z"
   },
   {
    "duration": 5,
    "start_time": "2024-12-20T11:17:42.443Z"
   },
   {
    "duration": 5,
    "start_time": "2024-12-20T11:21:20.264Z"
   },
   {
    "duration": 7,
    "start_time": "2024-12-20T11:26:22.015Z"
   },
   {
    "duration": 151,
    "start_time": "2024-12-20T11:32:47.309Z"
   },
   {
    "duration": 5,
    "start_time": "2024-12-20T11:37:32.685Z"
   },
   {
    "duration": 90,
    "start_time": "2024-12-20T11:40:52.554Z"
   },
   {
    "duration": 14,
    "start_time": "2024-12-20T11:43:57.061Z"
   },
   {
    "duration": 4,
    "start_time": "2024-12-20T11:44:10.110Z"
   },
   {
    "duration": 5,
    "start_time": "2024-12-20T11:46:00.681Z"
   },
   {
    "duration": 9,
    "start_time": "2024-12-20T11:46:02.735Z"
   },
   {
    "duration": 89,
    "start_time": "2024-12-20T11:47:07.401Z"
   },
   {
    "duration": 1785,
    "start_time": "2024-12-20T11:52:59.570Z"
   },
   {
    "duration": 1841,
    "start_time": "2024-12-20T11:53:16.560Z"
   },
   {
    "duration": 1765,
    "start_time": "2024-12-20T11:54:13.778Z"
   },
   {
    "duration": 1804,
    "start_time": "2024-12-20T11:57:43.511Z"
   },
   {
    "duration": 1187,
    "start_time": "2024-12-20T12:01:47.224Z"
   },
   {
    "duration": 72,
    "start_time": "2024-12-20T12:01:48.413Z"
   },
   {
    "duration": 16,
    "start_time": "2024-12-20T12:01:48.489Z"
   },
   {
    "duration": 343,
    "start_time": "2024-12-20T12:01:48.507Z"
   },
   {
    "duration": 12,
    "start_time": "2024-12-20T12:01:48.852Z"
   },
   {
    "duration": 327,
    "start_time": "2024-12-20T12:01:48.865Z"
   },
   {
    "duration": 9,
    "start_time": "2024-12-20T12:01:49.194Z"
   },
   {
    "duration": 27,
    "start_time": "2024-12-20T12:01:49.204Z"
   },
   {
    "duration": 417,
    "start_time": "2024-12-20T12:01:49.234Z"
   },
   {
    "duration": 8,
    "start_time": "2024-12-20T12:01:49.653Z"
   },
   {
    "duration": 10,
    "start_time": "2024-12-20T12:01:49.663Z"
   },
   {
    "duration": 41,
    "start_time": "2024-12-20T12:01:49.674Z"
   },
   {
    "duration": 71,
    "start_time": "2024-12-20T12:01:49.717Z"
   },
   {
    "duration": 170,
    "start_time": "2024-12-20T12:01:49.790Z"
   },
   {
    "duration": 25,
    "start_time": "2024-12-20T12:01:49.962Z"
   },
   {
    "duration": 6,
    "start_time": "2024-12-20T12:01:49.989Z"
   },
   {
    "duration": 18,
    "start_time": "2024-12-20T12:01:49.997Z"
   },
   {
    "duration": 37,
    "start_time": "2024-12-20T12:01:50.017Z"
   },
   {
    "duration": 93,
    "start_time": "2024-12-20T12:01:50.056Z"
   },
   {
    "duration": 61,
    "start_time": "2024-12-20T12:01:50.150Z"
   },
   {
    "duration": 10,
    "start_time": "2024-12-20T12:01:50.213Z"
   },
   {
    "duration": 220,
    "start_time": "2024-12-20T12:01:50.225Z"
   },
   {
    "duration": 104,
    "start_time": "2024-12-20T12:01:50.447Z"
   },
   {
    "duration": 6,
    "start_time": "2024-12-20T12:01:50.553Z"
   },
   {
    "duration": 181,
    "start_time": "2024-12-20T12:01:50.560Z"
   },
   {
    "duration": 7,
    "start_time": "2024-12-20T12:01:50.743Z"
   },
   {
    "duration": 285,
    "start_time": "2024-12-20T12:01:50.754Z"
   },
   {
    "duration": 5,
    "start_time": "2024-12-20T12:01:51.040Z"
   },
   {
    "duration": 198,
    "start_time": "2024-12-20T12:01:51.046Z"
   },
   {
    "duration": 5,
    "start_time": "2024-12-20T12:01:51.246Z"
   },
   {
    "duration": 11,
    "start_time": "2024-12-20T12:01:51.252Z"
   },
   {
    "duration": 12,
    "start_time": "2024-12-20T12:01:51.264Z"
   },
   {
    "duration": 6,
    "start_time": "2024-12-20T12:01:51.278Z"
   },
   {
    "duration": 11,
    "start_time": "2024-12-20T12:01:51.286Z"
   },
   {
    "duration": 44,
    "start_time": "2024-12-20T12:01:51.299Z"
   },
   {
    "duration": 12,
    "start_time": "2024-12-20T12:01:51.344Z"
   },
   {
    "duration": 28,
    "start_time": "2024-12-20T12:01:51.357Z"
   },
   {
    "duration": 251,
    "start_time": "2024-12-20T12:01:51.387Z"
   },
   {
    "duration": 274,
    "start_time": "2024-12-20T12:01:51.639Z"
   },
   {
    "duration": 407,
    "start_time": "2024-12-20T12:01:51.914Z"
   },
   {
    "duration": 13,
    "start_time": "2024-12-20T12:01:52.323Z"
   },
   {
    "duration": 35,
    "start_time": "2024-12-20T12:01:52.338Z"
   },
   {
    "duration": 254,
    "start_time": "2024-12-20T12:01:52.375Z"
   },
   {
    "duration": 278,
    "start_time": "2024-12-20T12:01:52.631Z"
   },
   {
    "duration": 539,
    "start_time": "2024-12-20T12:01:52.911Z"
   },
   {
    "duration": 11,
    "start_time": "2024-12-20T12:01:53.452Z"
   },
   {
    "duration": 16,
    "start_time": "2024-12-20T12:01:53.466Z"
   },
   {
    "duration": 41,
    "start_time": "2024-12-20T12:01:53.484Z"
   },
   {
    "duration": 30,
    "start_time": "2024-12-20T12:01:53.530Z"
   },
   {
    "duration": 12,
    "start_time": "2024-12-20T12:01:53.561Z"
   },
   {
    "duration": 145,
    "start_time": "2024-12-20T12:01:53.574Z"
   },
   {
    "duration": 9,
    "start_time": "2024-12-20T12:01:53.721Z"
   },
   {
    "duration": 10,
    "start_time": "2024-12-20T12:01:53.732Z"
   },
   {
    "duration": 138,
    "start_time": "2024-12-20T12:01:53.744Z"
   },
   {
    "duration": 93,
    "start_time": "2024-12-20T12:01:53.884Z"
   },
   {
    "duration": 44,
    "start_time": "2024-12-20T12:01:53.979Z"
   },
   {
    "duration": 17,
    "start_time": "2024-12-20T12:01:54.025Z"
   },
   {
    "duration": 13,
    "start_time": "2024-12-20T12:01:54.044Z"
   },
   {
    "duration": 142,
    "start_time": "2024-12-20T12:01:54.059Z"
   },
   {
    "duration": 1719,
    "start_time": "2024-12-20T12:01:54.203Z"
   },
   {
    "duration": 11,
    "start_time": "2024-12-20T12:01:55.924Z"
   },
   {
    "duration": 3118,
    "start_time": "2024-12-20T12:01:55.937Z"
   },
   {
    "duration": 99,
    "start_time": "2024-12-20T12:02:21.639Z"
   },
   {
    "duration": 95,
    "start_time": "2024-12-20T12:03:55.387Z"
   },
   {
    "duration": 1210,
    "start_time": "2024-12-20T12:05:07.027Z"
   },
   {
    "duration": 74,
    "start_time": "2024-12-20T12:05:08.240Z"
   },
   {
    "duration": 14,
    "start_time": "2024-12-20T12:05:08.316Z"
   },
   {
    "duration": 355,
    "start_time": "2024-12-20T12:05:08.332Z"
   },
   {
    "duration": 12,
    "start_time": "2024-12-20T12:05:08.688Z"
   },
   {
    "duration": 361,
    "start_time": "2024-12-20T12:05:08.702Z"
   },
   {
    "duration": 10,
    "start_time": "2024-12-20T12:05:09.065Z"
   },
   {
    "duration": 13,
    "start_time": "2024-12-20T12:05:09.076Z"
   },
   {
    "duration": 465,
    "start_time": "2024-12-20T12:05:09.091Z"
   },
   {
    "duration": 8,
    "start_time": "2024-12-20T12:05:09.559Z"
   },
   {
    "duration": 29,
    "start_time": "2024-12-20T12:05:09.568Z"
   },
   {
    "duration": 10,
    "start_time": "2024-12-20T12:05:09.599Z"
   },
   {
    "duration": 21,
    "start_time": "2024-12-20T12:05:09.611Z"
   },
   {
    "duration": 6,
    "start_time": "2024-12-20T12:05:09.634Z"
   },
   {
    "duration": 38,
    "start_time": "2024-12-20T12:05:09.641Z"
   },
   {
    "duration": 22,
    "start_time": "2024-12-20T12:05:09.681Z"
   },
   {
    "duration": 46,
    "start_time": "2024-12-20T12:05:09.705Z"
   },
   {
    "duration": 18,
    "start_time": "2024-12-20T12:05:09.753Z"
   },
   {
    "duration": 186,
    "start_time": "2024-12-20T12:05:09.773Z"
   },
   {
    "duration": 32,
    "start_time": "2024-12-20T12:05:09.961Z"
   },
   {
    "duration": 5,
    "start_time": "2024-12-20T12:05:09.995Z"
   },
   {
    "duration": 209,
    "start_time": "2024-12-20T12:05:10.002Z"
   },
   {
    "duration": 119,
    "start_time": "2024-12-20T12:05:10.213Z"
   },
   {
    "duration": 8,
    "start_time": "2024-12-20T12:05:10.333Z"
   },
   {
    "duration": 188,
    "start_time": "2024-12-20T12:05:10.343Z"
   },
   {
    "duration": 10,
    "start_time": "2024-12-20T12:05:10.533Z"
   },
   {
    "duration": 299,
    "start_time": "2024-12-20T12:05:10.545Z"
   },
   {
    "duration": 5,
    "start_time": "2024-12-20T12:05:10.849Z"
   },
   {
    "duration": 212,
    "start_time": "2024-12-20T12:05:10.857Z"
   },
   {
    "duration": 6,
    "start_time": "2024-12-20T12:05:11.071Z"
   },
   {
    "duration": 23,
    "start_time": "2024-12-20T12:05:11.079Z"
   },
   {
    "duration": 27,
    "start_time": "2024-12-20T12:05:11.104Z"
   },
   {
    "duration": 4,
    "start_time": "2024-12-20T12:05:11.133Z"
   },
   {
    "duration": 8,
    "start_time": "2024-12-20T12:05:11.138Z"
   },
   {
    "duration": 35,
    "start_time": "2024-12-20T12:05:11.147Z"
   },
   {
    "duration": 11,
    "start_time": "2024-12-20T12:05:11.184Z"
   },
   {
    "duration": 9,
    "start_time": "2024-12-20T12:05:11.197Z"
   },
   {
    "duration": 285,
    "start_time": "2024-12-20T12:05:11.208Z"
   },
   {
    "duration": 282,
    "start_time": "2024-12-20T12:05:11.495Z"
   },
   {
    "duration": 401,
    "start_time": "2024-12-20T12:05:11.779Z"
   },
   {
    "duration": 8,
    "start_time": "2024-12-20T12:05:12.182Z"
   },
   {
    "duration": 24,
    "start_time": "2024-12-20T12:05:12.192Z"
   },
   {
    "duration": 264,
    "start_time": "2024-12-20T12:05:12.230Z"
   },
   {
    "duration": 293,
    "start_time": "2024-12-20T12:05:12.496Z"
   },
   {
    "duration": 529,
    "start_time": "2024-12-20T12:05:12.791Z"
   },
   {
    "duration": 16,
    "start_time": "2024-12-20T12:05:13.322Z"
   },
   {
    "duration": 17,
    "start_time": "2024-12-20T12:05:13.340Z"
   },
   {
    "duration": 13,
    "start_time": "2024-12-20T12:05:13.359Z"
   },
   {
    "duration": 26,
    "start_time": "2024-12-20T12:05:13.374Z"
   },
   {
    "duration": 8,
    "start_time": "2024-12-20T12:05:13.429Z"
   },
   {
    "duration": 170,
    "start_time": "2024-12-20T12:05:13.439Z"
   },
   {
    "duration": 8,
    "start_time": "2024-12-20T12:05:13.611Z"
   },
   {
    "duration": 11,
    "start_time": "2024-12-20T12:05:13.621Z"
   },
   {
    "duration": 12,
    "start_time": "2024-12-20T12:05:13.633Z"
   },
   {
    "duration": 6,
    "start_time": "2024-12-20T12:05:13.647Z"
   },
   {
    "duration": 5,
    "start_time": "2024-12-20T12:05:13.654Z"
   },
   {
    "duration": 9,
    "start_time": "2024-12-20T12:05:13.661Z"
   },
   {
    "duration": 5,
    "start_time": "2024-12-20T12:05:13.672Z"
   },
   {
    "duration": 77,
    "start_time": "2024-12-20T12:05:13.678Z"
   },
   {
    "duration": 1764,
    "start_time": "2024-12-20T12:05:13.757Z"
   },
   {
    "duration": 6,
    "start_time": "2024-12-20T12:05:15.531Z"
   },
   {
    "duration": 3234,
    "start_time": "2024-12-20T12:05:15.539Z"
   },
   {
    "duration": 1162,
    "start_time": "2024-12-20T12:26:15.156Z"
   },
   {
    "duration": 77,
    "start_time": "2024-12-20T12:26:16.319Z"
   },
   {
    "duration": 12,
    "start_time": "2024-12-20T12:26:16.398Z"
   },
   {
    "duration": 342,
    "start_time": "2024-12-20T12:26:16.412Z"
   },
   {
    "duration": 12,
    "start_time": "2024-12-20T12:26:16.756Z"
   },
   {
    "duration": 345,
    "start_time": "2024-12-20T12:26:16.770Z"
   },
   {
    "duration": 19,
    "start_time": "2024-12-20T12:26:17.117Z"
   },
   {
    "duration": 14,
    "start_time": "2024-12-20T12:26:17.138Z"
   },
   {
    "duration": 450,
    "start_time": "2024-12-20T12:26:17.154Z"
   },
   {
    "duration": 6,
    "start_time": "2024-12-20T12:26:17.608Z"
   },
   {
    "duration": 50,
    "start_time": "2024-12-20T12:26:17.616Z"
   },
   {
    "duration": 19,
    "start_time": "2024-12-20T12:26:17.667Z"
   },
   {
    "duration": 11,
    "start_time": "2024-12-20T12:26:17.688Z"
   },
   {
    "duration": 14,
    "start_time": "2024-12-20T12:26:17.700Z"
   },
   {
    "duration": 80,
    "start_time": "2024-12-20T12:26:17.715Z"
   },
   {
    "duration": 3,
    "start_time": "2024-12-20T12:26:17.797Z"
   },
   {
    "duration": 17,
    "start_time": "2024-12-20T12:26:17.802Z"
   },
   {
    "duration": 5,
    "start_time": "2024-12-20T12:26:17.821Z"
   },
   {
    "duration": 6,
    "start_time": "2024-12-20T12:26:17.827Z"
   },
   {
    "duration": 5,
    "start_time": "2024-12-20T12:26:17.834Z"
   },
   {
    "duration": 10,
    "start_time": "2024-12-20T12:26:17.840Z"
   },
   {
    "duration": 219,
    "start_time": "2024-12-20T12:26:17.851Z"
   },
   {
    "duration": 111,
    "start_time": "2024-12-20T12:26:18.072Z"
   },
   {
    "duration": 6,
    "start_time": "2024-12-20T12:26:18.185Z"
   },
   {
    "duration": 211,
    "start_time": "2024-12-20T12:26:18.193Z"
   },
   {
    "duration": 10,
    "start_time": "2024-12-20T12:26:18.406Z"
   },
   {
    "duration": 287,
    "start_time": "2024-12-20T12:26:18.430Z"
   },
   {
    "duration": 9,
    "start_time": "2024-12-20T12:26:18.721Z"
   },
   {
    "duration": 203,
    "start_time": "2024-12-20T12:26:18.731Z"
   },
   {
    "duration": 4,
    "start_time": "2024-12-20T12:26:18.935Z"
   },
   {
    "duration": 13,
    "start_time": "2024-12-20T12:26:18.940Z"
   },
   {
    "duration": 20,
    "start_time": "2024-12-20T12:26:18.954Z"
   },
   {
    "duration": 5,
    "start_time": "2024-12-20T12:26:18.976Z"
   },
   {
    "duration": 10,
    "start_time": "2024-12-20T12:26:18.982Z"
   },
   {
    "duration": 19,
    "start_time": "2024-12-20T12:26:18.994Z"
   },
   {
    "duration": 12,
    "start_time": "2024-12-20T12:26:19.029Z"
   },
   {
    "duration": 13,
    "start_time": "2024-12-20T12:26:19.043Z"
   },
   {
    "duration": 261,
    "start_time": "2024-12-20T12:26:19.057Z"
   },
   {
    "duration": 278,
    "start_time": "2024-12-20T12:26:19.320Z"
   },
   {
    "duration": 417,
    "start_time": "2024-12-20T12:26:19.599Z"
   },
   {
    "duration": 12,
    "start_time": "2024-12-20T12:26:20.018Z"
   },
   {
    "duration": 19,
    "start_time": "2024-12-20T12:26:20.032Z"
   },
   {
    "duration": 279,
    "start_time": "2024-12-20T12:26:20.052Z"
   },
   {
    "duration": 287,
    "start_time": "2024-12-20T12:26:20.333Z"
   },
   {
    "duration": 535,
    "start_time": "2024-12-20T12:26:20.622Z"
   },
   {
    "duration": 9,
    "start_time": "2024-12-20T12:26:21.158Z"
   },
   {
    "duration": 7,
    "start_time": "2024-12-20T12:26:21.169Z"
   },
   {
    "duration": 12,
    "start_time": "2024-12-20T12:26:21.178Z"
   },
   {
    "duration": 49,
    "start_time": "2024-12-20T12:26:21.191Z"
   },
   {
    "duration": 3,
    "start_time": "2024-12-20T12:26:21.242Z"
   },
   {
    "duration": 171,
    "start_time": "2024-12-20T12:26:21.247Z"
   },
   {
    "duration": 10,
    "start_time": "2024-12-20T12:26:21.420Z"
   },
   {
    "duration": 78,
    "start_time": "2024-12-20T12:26:21.432Z"
   },
   {
    "duration": 15,
    "start_time": "2024-12-20T12:26:21.512Z"
   },
   {
    "duration": 16,
    "start_time": "2024-12-20T12:26:21.528Z"
   },
   {
    "duration": 112,
    "start_time": "2024-12-20T12:26:21.545Z"
   },
   {
    "duration": 16,
    "start_time": "2024-12-20T12:26:21.659Z"
   },
   {
    "duration": 10,
    "start_time": "2024-12-20T12:26:21.677Z"
   },
   {
    "duration": 43,
    "start_time": "2024-12-20T12:26:21.689Z"
   },
   {
    "duration": 1859,
    "start_time": "2024-12-20T12:26:21.734Z"
   },
   {
    "duration": 6,
    "start_time": "2024-12-20T12:26:23.595Z"
   },
   {
    "duration": 3339,
    "start_time": "2024-12-20T12:26:23.602Z"
   },
   {
    "duration": 578,
    "start_time": "2024-12-20T12:32:09.994Z"
   },
   {
    "duration": 446,
    "start_time": "2024-12-20T12:33:02.737Z"
   },
   {
    "duration": 462,
    "start_time": "2024-12-20T12:34:02.212Z"
   },
   {
    "duration": 478,
    "start_time": "2024-12-20T12:35:35.880Z"
   },
   {
    "duration": 67,
    "start_time": "2024-12-20T18:27:23.111Z"
   },
   {
    "duration": 1281,
    "start_time": "2024-12-20T18:27:28.172Z"
   },
   {
    "duration": 291,
    "start_time": "2024-12-20T18:27:29.454Z"
   },
   {
    "duration": 14,
    "start_time": "2024-12-20T18:27:29.746Z"
   },
   {
    "duration": 296,
    "start_time": "2024-12-20T18:27:29.762Z"
   },
   {
    "duration": 298,
    "start_time": "2024-12-20T18:27:30.060Z"
   },
   {
    "duration": 11,
    "start_time": "2024-12-20T18:27:30.359Z"
   },
   {
    "duration": 295,
    "start_time": "2024-12-20T18:27:30.372Z"
   },
   {
    "duration": 9,
    "start_time": "2024-12-20T18:27:30.668Z"
   },
   {
    "duration": 50,
    "start_time": "2024-12-20T18:27:30.679Z"
   },
   {
    "duration": 393,
    "start_time": "2024-12-20T18:27:30.732Z"
   },
   {
    "duration": 7,
    "start_time": "2024-12-20T18:27:31.126Z"
   },
   {
    "duration": 21,
    "start_time": "2024-12-20T18:27:31.135Z"
   },
   {
    "duration": 58,
    "start_time": "2024-12-20T18:27:31.158Z"
   },
   {
    "duration": 25,
    "start_time": "2024-12-20T18:27:31.218Z"
   },
   {
    "duration": 20,
    "start_time": "2024-12-20T18:27:31.245Z"
   },
   {
    "duration": 44,
    "start_time": "2024-12-20T18:27:31.266Z"
   },
   {
    "duration": 24,
    "start_time": "2024-12-20T18:27:31.312Z"
   },
   {
    "duration": 27,
    "start_time": "2024-12-20T18:27:31.337Z"
   },
   {
    "duration": 4,
    "start_time": "2024-12-20T18:27:31.365Z"
   },
   {
    "duration": 48,
    "start_time": "2024-12-20T18:27:31.370Z"
   },
   {
    "duration": 25,
    "start_time": "2024-12-20T18:27:31.419Z"
   },
   {
    "duration": 31,
    "start_time": "2024-12-20T18:27:31.445Z"
   },
   {
    "duration": 201,
    "start_time": "2024-12-20T18:27:31.478Z"
   },
   {
    "duration": 153,
    "start_time": "2024-12-20T18:27:31.681Z"
   },
   {
    "duration": 16,
    "start_time": "2024-12-20T18:27:31.836Z"
   },
   {
    "duration": 151,
    "start_time": "2024-12-20T18:27:31.854Z"
   },
   {
    "duration": 9,
    "start_time": "2024-12-20T18:27:32.006Z"
   },
   {
    "duration": 173,
    "start_time": "2024-12-20T18:27:32.019Z"
   },
   {
    "duration": 5,
    "start_time": "2024-12-20T18:27:32.194Z"
   },
   {
    "duration": 199,
    "start_time": "2024-12-20T18:27:32.201Z"
   },
   {
    "duration": 4,
    "start_time": "2024-12-20T18:27:32.402Z"
   },
   {
    "duration": 19,
    "start_time": "2024-12-20T18:27:32.408Z"
   },
   {
    "duration": 32,
    "start_time": "2024-12-20T18:27:32.429Z"
   },
   {
    "duration": 20,
    "start_time": "2024-12-20T18:27:32.462Z"
   },
   {
    "duration": 58,
    "start_time": "2024-12-20T18:27:32.484Z"
   },
   {
    "duration": 34,
    "start_time": "2024-12-20T18:27:32.544Z"
   },
   {
    "duration": 43,
    "start_time": "2024-12-20T18:27:32.579Z"
   },
   {
    "duration": 46,
    "start_time": "2024-12-20T18:27:32.623Z"
   },
   {
    "duration": 284,
    "start_time": "2024-12-20T18:27:32.670Z"
   },
   {
    "duration": 228,
    "start_time": "2024-12-20T18:27:32.956Z"
   },
   {
    "duration": 332,
    "start_time": "2024-12-20T18:27:33.186Z"
   },
   {
    "duration": 8,
    "start_time": "2024-12-20T18:27:33.520Z"
   },
   {
    "duration": 28,
    "start_time": "2024-12-20T18:27:33.530Z"
   },
   {
    "duration": 238,
    "start_time": "2024-12-20T18:27:33.560Z"
   },
   {
    "duration": 375,
    "start_time": "2024-12-20T18:27:33.801Z"
   },
   {
    "duration": 378,
    "start_time": "2024-12-20T18:27:34.177Z"
   },
   {
    "duration": 7,
    "start_time": "2024-12-20T18:27:34.557Z"
   },
   {
    "duration": 54,
    "start_time": "2024-12-20T18:27:34.565Z"
   },
   {
    "duration": 27,
    "start_time": "2024-12-20T18:27:34.620Z"
   },
   {
    "duration": 27,
    "start_time": "2024-12-20T18:27:34.648Z"
   },
   {
    "duration": 31,
    "start_time": "2024-12-20T18:27:34.676Z"
   },
   {
    "duration": 156,
    "start_time": "2024-12-20T18:27:34.708Z"
   },
   {
    "duration": 6,
    "start_time": "2024-12-20T18:27:34.866Z"
   },
   {
    "duration": 34,
    "start_time": "2024-12-20T18:27:34.874Z"
   },
   {
    "duration": 15,
    "start_time": "2024-12-20T18:27:34.909Z"
   },
   {
    "duration": 13,
    "start_time": "2024-12-20T18:27:34.926Z"
   },
   {
    "duration": 25,
    "start_time": "2024-12-20T18:27:34.940Z"
   },
   {
    "duration": 21,
    "start_time": "2024-12-20T18:27:34.966Z"
   },
   {
    "duration": 13,
    "start_time": "2024-12-20T18:27:34.989Z"
   },
   {
    "duration": 41,
    "start_time": "2024-12-20T18:27:35.004Z"
   },
   {
    "duration": 1417,
    "start_time": "2024-12-20T18:27:35.046Z"
   },
   {
    "duration": 6,
    "start_time": "2024-12-20T18:27:36.464Z"
   },
   {
    "duration": 2650,
    "start_time": "2024-12-20T18:27:36.471Z"
   },
   {
    "duration": 1119,
    "start_time": "2024-12-20T18:46:53.557Z"
   },
   {
    "duration": 64,
    "start_time": "2024-12-20T18:46:54.678Z"
   },
   {
    "duration": 11,
    "start_time": "2024-12-20T18:46:54.745Z"
   },
   {
    "duration": 273,
    "start_time": "2024-12-20T18:46:54.757Z"
   },
   {
    "duration": 287,
    "start_time": "2024-12-20T18:46:55.032Z"
   },
   {
    "duration": 9,
    "start_time": "2024-12-20T18:46:55.321Z"
   },
   {
    "duration": 289,
    "start_time": "2024-12-20T18:46:55.331Z"
   },
   {
    "duration": 7,
    "start_time": "2024-12-20T18:46:55.622Z"
   },
   {
    "duration": 22,
    "start_time": "2024-12-20T18:46:55.631Z"
   },
   {
    "duration": 360,
    "start_time": "2024-12-20T18:46:55.655Z"
   },
   {
    "duration": 6,
    "start_time": "2024-12-20T18:46:56.017Z"
   },
   {
    "duration": 8,
    "start_time": "2024-12-20T18:46:56.024Z"
   },
   {
    "duration": 5,
    "start_time": "2024-12-20T18:46:56.053Z"
   },
   {
    "duration": 7,
    "start_time": "2024-12-20T18:46:56.059Z"
   },
   {
    "duration": 5,
    "start_time": "2024-12-20T18:46:56.067Z"
   },
   {
    "duration": 7,
    "start_time": "2024-12-20T18:46:56.073Z"
   },
   {
    "duration": 3,
    "start_time": "2024-12-20T18:46:56.081Z"
   },
   {
    "duration": 18,
    "start_time": "2024-12-20T18:46:56.085Z"
   },
   {
    "duration": 4,
    "start_time": "2024-12-20T18:46:56.104Z"
   },
   {
    "duration": 47,
    "start_time": "2024-12-20T18:46:56.109Z"
   },
   {
    "duration": 6,
    "start_time": "2024-12-20T18:46:56.158Z"
   },
   {
    "duration": 4,
    "start_time": "2024-12-20T18:46:56.166Z"
   },
   {
    "duration": 198,
    "start_time": "2024-12-20T18:46:56.172Z"
   },
   {
    "duration": 154,
    "start_time": "2024-12-20T18:46:56.372Z"
   },
   {
    "duration": 6,
    "start_time": "2024-12-20T18:46:56.527Z"
   },
   {
    "duration": 160,
    "start_time": "2024-12-20T18:46:56.535Z"
   },
   {
    "duration": 7,
    "start_time": "2024-12-20T18:46:56.699Z"
   },
   {
    "duration": 171,
    "start_time": "2024-12-20T18:46:56.708Z"
   },
   {
    "duration": 4,
    "start_time": "2024-12-20T18:46:56.881Z"
   },
   {
    "duration": 177,
    "start_time": "2024-12-20T18:46:56.886Z"
   },
   {
    "duration": 4,
    "start_time": "2024-12-20T18:46:57.064Z"
   },
   {
    "duration": 11,
    "start_time": "2024-12-20T18:46:57.070Z"
   },
   {
    "duration": 12,
    "start_time": "2024-12-20T18:46:57.082Z"
   },
   {
    "duration": 3,
    "start_time": "2024-12-20T18:46:57.095Z"
   },
   {
    "duration": 8,
    "start_time": "2024-12-20T18:46:57.100Z"
   },
   {
    "duration": 50,
    "start_time": "2024-12-20T18:46:57.109Z"
   },
   {
    "duration": 10,
    "start_time": "2024-12-20T18:46:57.160Z"
   },
   {
    "duration": 14,
    "start_time": "2024-12-20T18:46:57.172Z"
   },
   {
    "duration": 227,
    "start_time": "2024-12-20T18:46:57.187Z"
   },
   {
    "duration": 230,
    "start_time": "2024-12-20T18:46:57.415Z"
   },
   {
    "duration": 328,
    "start_time": "2024-12-20T18:46:57.647Z"
   },
   {
    "duration": 8,
    "start_time": "2024-12-20T18:46:57.976Z"
   },
   {
    "duration": 18,
    "start_time": "2024-12-20T18:46:57.985Z"
   },
   {
    "duration": 234,
    "start_time": "2024-12-20T18:46:58.005Z"
   },
   {
    "duration": 306,
    "start_time": "2024-12-20T18:46:58.241Z"
   },
   {
    "duration": 348,
    "start_time": "2024-12-20T18:46:58.552Z"
   },
   {
    "duration": 8,
    "start_time": "2024-12-20T18:46:58.901Z"
   },
   {
    "duration": 7,
    "start_time": "2024-12-20T18:46:58.910Z"
   },
   {
    "duration": 10,
    "start_time": "2024-12-20T18:46:58.918Z"
   },
   {
    "duration": 15,
    "start_time": "2024-12-20T18:46:58.953Z"
   },
   {
    "duration": 3,
    "start_time": "2024-12-20T18:46:58.969Z"
   },
   {
    "duration": 152,
    "start_time": "2024-12-20T18:46:58.973Z"
   },
   {
    "duration": 6,
    "start_time": "2024-12-20T18:46:59.127Z"
   },
   {
    "duration": 13,
    "start_time": "2024-12-20T18:46:59.135Z"
   },
   {
    "duration": 10,
    "start_time": "2024-12-20T18:46:59.153Z"
   },
   {
    "duration": 13,
    "start_time": "2024-12-20T18:46:59.164Z"
   },
   {
    "duration": 4,
    "start_time": "2024-12-20T18:46:59.178Z"
   },
   {
    "duration": 8,
    "start_time": "2024-12-20T18:46:59.184Z"
   },
   {
    "duration": 6,
    "start_time": "2024-12-20T18:46:59.193Z"
   },
   {
    "duration": 61,
    "start_time": "2024-12-20T18:46:59.200Z"
   },
   {
    "duration": 1392,
    "start_time": "2024-12-20T18:46:59.263Z"
   },
   {
    "duration": 7,
    "start_time": "2024-12-20T18:47:00.657Z"
   },
   {
    "duration": 2687,
    "start_time": "2024-12-20T18:47:00.666Z"
   },
   {
    "duration": 1100,
    "start_time": "2024-12-20T18:50:20.359Z"
   },
   {
    "duration": 65,
    "start_time": "2024-12-20T18:50:21.461Z"
   },
   {
    "duration": 11,
    "start_time": "2024-12-20T18:50:21.527Z"
   },
   {
    "duration": 287,
    "start_time": "2024-12-20T18:50:21.540Z"
   },
   {
    "duration": 344,
    "start_time": "2024-12-20T18:50:21.829Z"
   },
   {
    "duration": 9,
    "start_time": "2024-12-20T18:50:22.175Z"
   },
   {
    "duration": 371,
    "start_time": "2024-12-20T18:50:22.186Z"
   },
   {
    "duration": 8,
    "start_time": "2024-12-20T18:50:22.558Z"
   },
   {
    "duration": 22,
    "start_time": "2024-12-20T18:50:22.567Z"
   },
   {
    "duration": 415,
    "start_time": "2024-12-20T18:50:22.591Z"
   },
   {
    "duration": 7,
    "start_time": "2024-12-20T18:50:23.007Z"
   },
   {
    "duration": 9,
    "start_time": "2024-12-20T18:50:23.016Z"
   },
   {
    "duration": 28,
    "start_time": "2024-12-20T18:50:23.027Z"
   },
   {
    "duration": 7,
    "start_time": "2024-12-20T18:50:23.057Z"
   },
   {
    "duration": 5,
    "start_time": "2024-12-20T18:50:23.065Z"
   },
   {
    "duration": 11,
    "start_time": "2024-12-20T18:50:23.071Z"
   },
   {
    "duration": 3,
    "start_time": "2024-12-20T18:50:23.083Z"
   },
   {
    "duration": 25,
    "start_time": "2024-12-20T18:50:23.087Z"
   },
   {
    "duration": 39,
    "start_time": "2024-12-20T18:50:23.114Z"
   },
   {
    "duration": 5,
    "start_time": "2024-12-20T18:50:23.155Z"
   },
   {
    "duration": 12,
    "start_time": "2024-12-20T18:50:23.161Z"
   },
   {
    "duration": 11,
    "start_time": "2024-12-20T18:50:23.175Z"
   },
   {
    "duration": 182,
    "start_time": "2024-12-20T18:50:23.188Z"
   },
   {
    "duration": 160,
    "start_time": "2024-12-20T18:50:23.372Z"
   },
   {
    "duration": 6,
    "start_time": "2024-12-20T18:50:23.534Z"
   },
   {
    "duration": 151,
    "start_time": "2024-12-20T18:50:23.553Z"
   },
   {
    "duration": 7,
    "start_time": "2024-12-20T18:50:23.705Z"
   },
   {
    "duration": 186,
    "start_time": "2024-12-20T18:50:23.716Z"
   },
   {
    "duration": 6,
    "start_time": "2024-12-20T18:50:23.904Z"
   },
   {
    "duration": 216,
    "start_time": "2024-12-20T18:50:23.912Z"
   },
   {
    "duration": 5,
    "start_time": "2024-12-20T18:50:24.130Z"
   },
   {
    "duration": 9,
    "start_time": "2024-12-20T18:50:24.152Z"
   },
   {
    "duration": 11,
    "start_time": "2024-12-20T18:50:24.163Z"
   },
   {
    "duration": 5,
    "start_time": "2024-12-20T18:50:24.176Z"
   },
   {
    "duration": 7,
    "start_time": "2024-12-20T18:50:24.183Z"
   },
   {
    "duration": 17,
    "start_time": "2024-12-20T18:50:24.191Z"
   },
   {
    "duration": 48,
    "start_time": "2024-12-20T18:50:24.210Z"
   },
   {
    "duration": 8,
    "start_time": "2024-12-20T18:50:24.259Z"
   },
   {
    "duration": 238,
    "start_time": "2024-12-20T18:50:24.269Z"
   },
   {
    "duration": 234,
    "start_time": "2024-12-20T18:50:24.509Z"
   },
   {
    "duration": 324,
    "start_time": "2024-12-20T18:50:24.752Z"
   },
   {
    "duration": 8,
    "start_time": "2024-12-20T18:50:25.077Z"
   },
   {
    "duration": 7,
    "start_time": "2024-12-20T18:50:25.086Z"
   },
   {
    "duration": 249,
    "start_time": "2024-12-20T18:50:25.094Z"
   },
   {
    "duration": 300,
    "start_time": "2024-12-20T18:50:25.345Z"
   },
   {
    "duration": 360,
    "start_time": "2024-12-20T18:50:25.647Z"
   },
   {
    "duration": 8,
    "start_time": "2024-12-20T18:50:26.009Z"
   },
   {
    "duration": 27,
    "start_time": "2024-12-20T18:50:26.018Z"
   },
   {
    "duration": 29,
    "start_time": "2024-12-20T18:50:26.046Z"
   },
   {
    "duration": 15,
    "start_time": "2024-12-20T18:50:26.076Z"
   },
   {
    "duration": 3,
    "start_time": "2024-12-20T18:50:26.092Z"
   },
   {
    "duration": 151,
    "start_time": "2024-12-20T18:50:26.097Z"
   },
   {
    "duration": 6,
    "start_time": "2024-12-20T18:50:26.252Z"
   },
   {
    "duration": 19,
    "start_time": "2024-12-20T18:50:26.259Z"
   },
   {
    "duration": 12,
    "start_time": "2024-12-20T18:50:26.280Z"
   },
   {
    "duration": 7,
    "start_time": "2024-12-20T18:50:26.293Z"
   },
   {
    "duration": 6,
    "start_time": "2024-12-20T18:50:26.301Z"
   },
   {
    "duration": 25,
    "start_time": "2024-12-20T18:50:26.308Z"
   },
   {
    "duration": 20,
    "start_time": "2024-12-20T18:50:26.334Z"
   },
   {
    "duration": 29,
    "start_time": "2024-12-20T18:50:26.355Z"
   },
   {
    "duration": 1401,
    "start_time": "2024-12-20T18:50:26.385Z"
   },
   {
    "duration": 6,
    "start_time": "2024-12-20T18:50:27.787Z"
   },
   {
    "duration": 2636,
    "start_time": "2024-12-20T18:50:27.794Z"
   },
   {
    "duration": 1176,
    "start_time": "2024-12-20T20:09:16.954Z"
   },
   {
    "duration": 70,
    "start_time": "2024-12-20T20:09:18.132Z"
   },
   {
    "duration": 13,
    "start_time": "2024-12-20T20:09:18.204Z"
   },
   {
    "duration": 369,
    "start_time": "2024-12-20T20:09:18.219Z"
   },
   {
    "duration": 340,
    "start_time": "2024-12-20T20:09:18.591Z"
   },
   {
    "duration": 11,
    "start_time": "2024-12-20T20:09:18.933Z"
   },
   {
    "duration": 325,
    "start_time": "2024-12-20T20:09:18.946Z"
   },
   {
    "duration": 10,
    "start_time": "2024-12-20T20:09:19.273Z"
   },
   {
    "duration": 22,
    "start_time": "2024-12-20T20:09:19.285Z"
   },
   {
    "duration": 463,
    "start_time": "2024-12-20T20:09:19.309Z"
   },
   {
    "duration": 7,
    "start_time": "2024-12-20T20:09:19.774Z"
   },
   {
    "duration": 39,
    "start_time": "2024-12-20T20:09:19.783Z"
   },
   {
    "duration": 19,
    "start_time": "2024-12-20T20:09:19.824Z"
   },
   {
    "duration": 10,
    "start_time": "2024-12-20T20:09:19.847Z"
   },
   {
    "duration": 6,
    "start_time": "2024-12-20T20:09:19.859Z"
   },
   {
    "duration": 9,
    "start_time": "2024-12-20T20:09:19.867Z"
   },
   {
    "duration": 4,
    "start_time": "2024-12-20T20:09:19.878Z"
   },
   {
    "duration": 44,
    "start_time": "2024-12-20T20:09:19.884Z"
   },
   {
    "duration": 6,
    "start_time": "2024-12-20T20:09:19.930Z"
   },
   {
    "duration": 15,
    "start_time": "2024-12-20T20:09:19.938Z"
   },
   {
    "duration": 6,
    "start_time": "2024-12-20T20:09:19.955Z"
   },
   {
    "duration": 5,
    "start_time": "2024-12-20T20:09:19.963Z"
   },
   {
    "duration": 216,
    "start_time": "2024-12-20T20:09:19.970Z"
   },
   {
    "duration": 192,
    "start_time": "2024-12-20T20:09:20.188Z"
   },
   {
    "duration": 7,
    "start_time": "2024-12-20T20:09:20.382Z"
   },
   {
    "duration": 188,
    "start_time": "2024-12-20T20:09:20.391Z"
   },
   {
    "duration": 8,
    "start_time": "2024-12-20T20:09:20.582Z"
   },
   {
    "duration": 202,
    "start_time": "2024-12-20T20:09:20.593Z"
   },
   {
    "duration": 5,
    "start_time": "2024-12-20T20:09:20.797Z"
   },
   {
    "duration": 205,
    "start_time": "2024-12-20T20:09:20.804Z"
   },
   {
    "duration": 5,
    "start_time": "2024-12-20T20:09:21.011Z"
   },
   {
    "duration": 30,
    "start_time": "2024-12-20T20:09:21.018Z"
   },
   {
    "duration": 23,
    "start_time": "2024-12-20T20:09:21.050Z"
   },
   {
    "duration": 24,
    "start_time": "2024-12-20T20:09:21.075Z"
   },
   {
    "duration": 12,
    "start_time": "2024-12-20T20:09:21.101Z"
   },
   {
    "duration": 20,
    "start_time": "2024-12-20T20:09:21.114Z"
   },
   {
    "duration": 25,
    "start_time": "2024-12-20T20:09:21.136Z"
   },
   {
    "duration": 17,
    "start_time": "2024-12-20T20:09:21.162Z"
   },
   {
    "duration": 254,
    "start_time": "2024-12-20T20:09:21.181Z"
   },
   {
    "duration": 274,
    "start_time": "2024-12-20T20:09:21.437Z"
   },
   {
    "duration": 403,
    "start_time": "2024-12-20T20:09:21.716Z"
   },
   {
    "duration": 15,
    "start_time": "2024-12-20T20:09:22.121Z"
   },
   {
    "duration": 22,
    "start_time": "2024-12-20T20:09:22.137Z"
   },
   {
    "duration": 276,
    "start_time": "2024-12-20T20:09:22.160Z"
   },
   {
    "duration": 304,
    "start_time": "2024-12-20T20:09:22.437Z"
   },
   {
    "duration": 523,
    "start_time": "2024-12-20T20:09:22.742Z"
   },
   {
    "duration": 8,
    "start_time": "2024-12-20T20:09:23.267Z"
   },
   {
    "duration": 8,
    "start_time": "2024-12-20T20:09:23.277Z"
   },
   {
    "duration": 15,
    "start_time": "2024-12-20T20:09:23.286Z"
   },
   {
    "duration": 44,
    "start_time": "2024-12-20T20:09:23.302Z"
   },
   {
    "duration": 4,
    "start_time": "2024-12-20T20:09:23.347Z"
   },
   {
    "duration": 156,
    "start_time": "2024-12-20T20:09:23.352Z"
   },
   {
    "duration": 8,
    "start_time": "2024-12-20T20:09:23.510Z"
   },
   {
    "duration": 12,
    "start_time": "2024-12-20T20:09:23.520Z"
   },
   {
    "duration": 23,
    "start_time": "2024-12-20T20:09:23.533Z"
   },
   {
    "duration": 17,
    "start_time": "2024-12-20T20:09:23.558Z"
   },
   {
    "duration": 6,
    "start_time": "2024-12-20T20:09:23.576Z"
   },
   {
    "duration": 19,
    "start_time": "2024-12-20T20:09:23.583Z"
   },
   {
    "duration": 6,
    "start_time": "2024-12-20T20:09:23.603Z"
   },
   {
    "duration": 39,
    "start_time": "2024-12-20T20:09:23.610Z"
   },
   {
    "duration": 1980,
    "start_time": "2024-12-20T20:09:23.651Z"
   },
   {
    "duration": 6,
    "start_time": "2024-12-20T20:09:25.633Z"
   },
   {
    "duration": 3509,
    "start_time": "2024-12-20T20:09:25.641Z"
   },
   {
    "duration": 44,
    "start_time": "2024-12-21T06:57:57.784Z"
   },
   {
    "duration": 1254,
    "start_time": "2024-12-21T06:58:02.972Z"
   },
   {
    "duration": 200,
    "start_time": "2024-12-21T06:58:04.228Z"
   },
   {
    "duration": 12,
    "start_time": "2024-12-21T06:58:04.430Z"
   },
   {
    "duration": 363,
    "start_time": "2024-12-21T06:58:04.444Z"
   },
   {
    "duration": 0,
    "start_time": "2024-12-21T06:58:04.809Z"
   },
   {
    "duration": 0,
    "start_time": "2024-12-21T06:58:04.811Z"
   },
   {
    "duration": 0,
    "start_time": "2024-12-21T06:58:04.812Z"
   },
   {
    "duration": 0,
    "start_time": "2024-12-21T06:58:04.821Z"
   },
   {
    "duration": 0,
    "start_time": "2024-12-21T06:58:04.822Z"
   },
   {
    "duration": 0,
    "start_time": "2024-12-21T06:58:04.823Z"
   },
   {
    "duration": 0,
    "start_time": "2024-12-21T06:58:04.824Z"
   },
   {
    "duration": 0,
    "start_time": "2024-12-21T06:58:04.825Z"
   },
   {
    "duration": 0,
    "start_time": "2024-12-21T06:58:04.826Z"
   },
   {
    "duration": 0,
    "start_time": "2024-12-21T06:58:04.827Z"
   },
   {
    "duration": 0,
    "start_time": "2024-12-21T06:58:04.828Z"
   },
   {
    "duration": 0,
    "start_time": "2024-12-21T06:58:04.829Z"
   },
   {
    "duration": 0,
    "start_time": "2024-12-21T06:58:04.831Z"
   },
   {
    "duration": 0,
    "start_time": "2024-12-21T06:58:04.832Z"
   },
   {
    "duration": 0,
    "start_time": "2024-12-21T06:58:04.833Z"
   },
   {
    "duration": 0,
    "start_time": "2024-12-21T06:58:04.834Z"
   },
   {
    "duration": 0,
    "start_time": "2024-12-21T06:58:04.835Z"
   },
   {
    "duration": 0,
    "start_time": "2024-12-21T06:58:04.836Z"
   },
   {
    "duration": 0,
    "start_time": "2024-12-21T06:58:04.837Z"
   },
   {
    "duration": 0,
    "start_time": "2024-12-21T06:58:04.838Z"
   },
   {
    "duration": 0,
    "start_time": "2024-12-21T06:58:04.839Z"
   },
   {
    "duration": 0,
    "start_time": "2024-12-21T06:58:04.840Z"
   },
   {
    "duration": 0,
    "start_time": "2024-12-21T06:58:04.841Z"
   },
   {
    "duration": 0,
    "start_time": "2024-12-21T06:58:04.842Z"
   },
   {
    "duration": 0,
    "start_time": "2024-12-21T06:58:04.843Z"
   },
   {
    "duration": 0,
    "start_time": "2024-12-21T06:58:04.844Z"
   },
   {
    "duration": 0,
    "start_time": "2024-12-21T06:58:04.845Z"
   },
   {
    "duration": 0,
    "start_time": "2024-12-21T06:58:04.846Z"
   },
   {
    "duration": 0,
    "start_time": "2024-12-21T06:58:04.847Z"
   },
   {
    "duration": 0,
    "start_time": "2024-12-21T06:58:04.848Z"
   },
   {
    "duration": 0,
    "start_time": "2024-12-21T06:58:04.849Z"
   },
   {
    "duration": 0,
    "start_time": "2024-12-21T06:58:04.849Z"
   },
   {
    "duration": 0,
    "start_time": "2024-12-21T06:58:04.850Z"
   },
   {
    "duration": 0,
    "start_time": "2024-12-21T06:58:04.851Z"
   },
   {
    "duration": 0,
    "start_time": "2024-12-21T06:58:04.852Z"
   },
   {
    "duration": 0,
    "start_time": "2024-12-21T06:58:04.853Z"
   },
   {
    "duration": 0,
    "start_time": "2024-12-21T06:58:04.854Z"
   },
   {
    "duration": 0,
    "start_time": "2024-12-21T06:58:04.855Z"
   },
   {
    "duration": 0,
    "start_time": "2024-12-21T06:58:04.856Z"
   },
   {
    "duration": 0,
    "start_time": "2024-12-21T06:58:04.857Z"
   },
   {
    "duration": 0,
    "start_time": "2024-12-21T06:58:04.858Z"
   },
   {
    "duration": 0,
    "start_time": "2024-12-21T06:58:04.922Z"
   },
   {
    "duration": 0,
    "start_time": "2024-12-21T06:58:04.923Z"
   },
   {
    "duration": 0,
    "start_time": "2024-12-21T06:58:04.924Z"
   },
   {
    "duration": 0,
    "start_time": "2024-12-21T06:58:04.925Z"
   },
   {
    "duration": 0,
    "start_time": "2024-12-21T06:58:04.926Z"
   },
   {
    "duration": 0,
    "start_time": "2024-12-21T06:58:04.927Z"
   },
   {
    "duration": 0,
    "start_time": "2024-12-21T06:58:04.928Z"
   },
   {
    "duration": 0,
    "start_time": "2024-12-21T06:58:04.929Z"
   },
   {
    "duration": 0,
    "start_time": "2024-12-21T06:58:04.930Z"
   },
   {
    "duration": 0,
    "start_time": "2024-12-21T06:58:04.931Z"
   },
   {
    "duration": 0,
    "start_time": "2024-12-21T06:58:04.933Z"
   },
   {
    "duration": 0,
    "start_time": "2024-12-21T06:58:04.934Z"
   },
   {
    "duration": 0,
    "start_time": "2024-12-21T06:58:04.936Z"
   },
   {
    "duration": 0,
    "start_time": "2024-12-21T06:58:04.937Z"
   },
   {
    "duration": 0,
    "start_time": "2024-12-21T06:58:04.938Z"
   },
   {
    "duration": 0,
    "start_time": "2024-12-21T06:58:04.940Z"
   },
   {
    "duration": 0,
    "start_time": "2024-12-21T06:58:04.941Z"
   },
   {
    "duration": 0,
    "start_time": "2024-12-21T06:58:04.942Z"
   },
   {
    "duration": 272,
    "start_time": "2024-12-21T06:58:19.263Z"
   },
   {
    "duration": 1135,
    "start_time": "2024-12-21T06:58:23.786Z"
   },
   {
    "duration": 63,
    "start_time": "2024-12-21T06:58:24.923Z"
   },
   {
    "duration": 10,
    "start_time": "2024-12-21T06:58:24.988Z"
   },
   {
    "duration": 283,
    "start_time": "2024-12-21T06:58:25.000Z"
   },
   {
    "duration": 289,
    "start_time": "2024-12-21T06:58:25.285Z"
   },
   {
    "duration": 10,
    "start_time": "2024-12-21T06:58:25.575Z"
   },
   {
    "duration": 317,
    "start_time": "2024-12-21T06:58:25.586Z"
   },
   {
    "duration": 8,
    "start_time": "2024-12-21T06:58:25.904Z"
   },
   {
    "duration": 9,
    "start_time": "2024-12-21T06:58:25.922Z"
   },
   {
    "duration": 383,
    "start_time": "2024-12-21T06:58:25.933Z"
   },
   {
    "duration": 8,
    "start_time": "2024-12-21T06:58:26.317Z"
   },
   {
    "duration": 10,
    "start_time": "2024-12-21T06:58:26.327Z"
   },
   {
    "duration": 5,
    "start_time": "2024-12-21T06:58:26.339Z"
   },
   {
    "duration": 7,
    "start_time": "2024-12-21T06:58:26.346Z"
   },
   {
    "duration": 4,
    "start_time": "2024-12-21T06:58:26.354Z"
   },
   {
    "duration": 12,
    "start_time": "2024-12-21T06:58:26.359Z"
   },
   {
    "duration": 5,
    "start_time": "2024-12-21T06:58:26.372Z"
   },
   {
    "duration": 51,
    "start_time": "2024-12-21T06:58:26.378Z"
   },
   {
    "duration": 4,
    "start_time": "2024-12-21T06:58:26.431Z"
   },
   {
    "duration": 10,
    "start_time": "2024-12-21T06:58:26.437Z"
   },
   {
    "duration": 8,
    "start_time": "2024-12-21T06:58:26.448Z"
   },
   {
    "duration": 7,
    "start_time": "2024-12-21T06:58:26.457Z"
   },
   {
    "duration": 193,
    "start_time": "2024-12-21T06:58:26.465Z"
   },
   {
    "duration": 156,
    "start_time": "2024-12-21T06:58:26.660Z"
   },
   {
    "duration": 6,
    "start_time": "2024-12-21T06:58:26.822Z"
   },
   {
    "duration": 157,
    "start_time": "2024-12-21T06:58:26.830Z"
   },
   {
    "duration": 7,
    "start_time": "2024-12-21T06:58:26.989Z"
   },
   {
    "duration": 174,
    "start_time": "2024-12-21T06:58:26.997Z"
   },
   {
    "duration": 5,
    "start_time": "2024-12-21T06:58:27.173Z"
   },
   {
    "duration": 171,
    "start_time": "2024-12-21T06:58:27.179Z"
   },
   {
    "duration": 4,
    "start_time": "2024-12-21T06:58:27.352Z"
   },
   {
    "duration": 11,
    "start_time": "2024-12-21T06:58:27.357Z"
   },
   {
    "duration": 19,
    "start_time": "2024-12-21T06:58:27.369Z"
   },
   {
    "duration": 4,
    "start_time": "2024-12-21T06:58:27.390Z"
   },
   {
    "duration": 28,
    "start_time": "2024-12-21T06:58:27.396Z"
   },
   {
    "duration": 50,
    "start_time": "2024-12-21T06:58:27.426Z"
   },
   {
    "duration": 10,
    "start_time": "2024-12-21T06:58:27.478Z"
   },
   {
    "duration": 7,
    "start_time": "2024-12-21T06:58:27.490Z"
   },
   {
    "duration": 212,
    "start_time": "2024-12-21T06:58:27.498Z"
   },
   {
    "duration": 231,
    "start_time": "2024-12-21T06:58:27.711Z"
   },
   {
    "duration": 361,
    "start_time": "2024-12-21T06:58:27.946Z"
   },
   {
    "duration": 19,
    "start_time": "2024-12-21T06:58:28.309Z"
   },
   {
    "duration": 7,
    "start_time": "2024-12-21T06:58:28.330Z"
   },
   {
    "duration": 244,
    "start_time": "2024-12-21T06:58:28.339Z"
   },
   {
    "duration": 317,
    "start_time": "2024-12-21T06:58:28.585Z"
   },
   {
    "duration": 370,
    "start_time": "2024-12-21T06:58:28.903Z"
   },
   {
    "duration": 8,
    "start_time": "2024-12-21T06:58:29.274Z"
   },
   {
    "duration": 9,
    "start_time": "2024-12-21T06:58:29.283Z"
   },
   {
    "duration": 30,
    "start_time": "2024-12-21T06:58:29.293Z"
   },
   {
    "duration": 18,
    "start_time": "2024-12-21T06:58:29.324Z"
   },
   {
    "duration": 3,
    "start_time": "2024-12-21T06:58:29.343Z"
   },
   {
    "duration": 151,
    "start_time": "2024-12-21T06:58:29.347Z"
   },
   {
    "duration": 7,
    "start_time": "2024-12-21T06:58:29.499Z"
   },
   {
    "duration": 15,
    "start_time": "2024-12-21T06:58:29.507Z"
   },
   {
    "duration": 11,
    "start_time": "2024-12-21T06:58:29.523Z"
   },
   {
    "duration": 30,
    "start_time": "2024-12-21T06:58:29.536Z"
   },
   {
    "duration": 6,
    "start_time": "2024-12-21T06:58:29.568Z"
   },
   {
    "duration": 16,
    "start_time": "2024-12-21T06:58:29.575Z"
   },
   {
    "duration": 11,
    "start_time": "2024-12-21T06:58:29.592Z"
   },
   {
    "duration": 41,
    "start_time": "2024-12-21T06:58:29.604Z"
   },
   {
    "duration": 1519,
    "start_time": "2024-12-21T06:58:29.647Z"
   },
   {
    "duration": 6,
    "start_time": "2024-12-21T06:58:31.168Z"
   },
   {
    "duration": 2801,
    "start_time": "2024-12-21T06:58:31.175Z"
   },
   {
    "duration": 403,
    "start_time": "2024-12-21T07:01:06.990Z"
   },
   {
    "duration": 393,
    "start_time": "2024-12-21T07:01:19.552Z"
   },
   {
    "duration": 1164,
    "start_time": "2024-12-21T07:01:27.390Z"
   },
   {
    "duration": 64,
    "start_time": "2024-12-21T07:01:28.556Z"
   },
   {
    "duration": 11,
    "start_time": "2024-12-21T07:01:28.621Z"
   },
   {
    "duration": 321,
    "start_time": "2024-12-21T07:01:28.633Z"
   },
   {
    "duration": 309,
    "start_time": "2024-12-21T07:01:28.956Z"
   },
   {
    "duration": 10,
    "start_time": "2024-12-21T07:01:29.266Z"
   },
   {
    "duration": 347,
    "start_time": "2024-12-21T07:01:29.278Z"
   },
   {
    "duration": 8,
    "start_time": "2024-12-21T07:01:29.627Z"
   },
   {
    "duration": 55,
    "start_time": "2024-12-21T07:01:29.636Z"
   },
   {
    "duration": 391,
    "start_time": "2024-12-21T07:01:29.692Z"
   },
   {
    "duration": 6,
    "start_time": "2024-12-21T07:01:30.085Z"
   },
   {
    "duration": 89,
    "start_time": "2024-12-21T07:01:30.093Z"
   },
   {
    "duration": 107,
    "start_time": "2024-12-21T07:01:30.184Z"
   },
   {
    "duration": 43,
    "start_time": "2024-12-21T07:01:30.294Z"
   },
   {
    "duration": 34,
    "start_time": "2024-12-21T07:01:30.338Z"
   },
   {
    "duration": 59,
    "start_time": "2024-12-21T07:01:30.373Z"
   },
   {
    "duration": 33,
    "start_time": "2024-12-21T07:01:30.434Z"
   },
   {
    "duration": 34,
    "start_time": "2024-12-21T07:01:30.468Z"
   },
   {
    "duration": 13,
    "start_time": "2024-12-21T07:01:30.504Z"
   },
   {
    "duration": 32,
    "start_time": "2024-12-21T07:01:30.519Z"
   },
   {
    "duration": 21,
    "start_time": "2024-12-21T07:01:30.553Z"
   },
   {
    "duration": 18,
    "start_time": "2024-12-21T07:01:30.576Z"
   },
   {
    "duration": 229,
    "start_time": "2024-12-21T07:01:30.595Z"
   },
   {
    "duration": 171,
    "start_time": "2024-12-21T07:01:30.826Z"
   },
   {
    "duration": 6,
    "start_time": "2024-12-21T07:01:30.998Z"
   },
   {
    "duration": 157,
    "start_time": "2024-12-21T07:01:31.021Z"
   },
   {
    "duration": 8,
    "start_time": "2024-12-21T07:01:31.180Z"
   },
   {
    "duration": 184,
    "start_time": "2024-12-21T07:01:31.190Z"
   },
   {
    "duration": 6,
    "start_time": "2024-12-21T07:01:31.376Z"
   },
   {
    "duration": 229,
    "start_time": "2024-12-21T07:01:31.383Z"
   },
   {
    "duration": 5,
    "start_time": "2024-12-21T07:01:31.622Z"
   },
   {
    "duration": 74,
    "start_time": "2024-12-21T07:01:31.629Z"
   },
   {
    "duration": 20,
    "start_time": "2024-12-21T07:01:31.705Z"
   },
   {
    "duration": 43,
    "start_time": "2024-12-21T07:01:31.726Z"
   },
   {
    "duration": 18,
    "start_time": "2024-12-21T07:01:31.771Z"
   },
   {
    "duration": 31,
    "start_time": "2024-12-21T07:01:31.790Z"
   },
   {
    "duration": 12,
    "start_time": "2024-12-21T07:01:31.823Z"
   },
   {
    "duration": 10,
    "start_time": "2024-12-21T07:01:31.837Z"
   },
   {
    "duration": 243,
    "start_time": "2024-12-21T07:01:31.849Z"
   },
   {
    "duration": 256,
    "start_time": "2024-12-21T07:01:32.094Z"
   },
   {
    "duration": 381,
    "start_time": "2024-12-21T07:01:32.356Z"
   },
   {
    "duration": 8,
    "start_time": "2024-12-21T07:01:32.738Z"
   },
   {
    "duration": 22,
    "start_time": "2024-12-21T07:01:32.747Z"
   },
   {
    "duration": 237,
    "start_time": "2024-12-21T07:01:32.770Z"
   },
   {
    "duration": 329,
    "start_time": "2024-12-21T07:01:33.009Z"
   },
   {
    "duration": 387,
    "start_time": "2024-12-21T07:01:33.339Z"
   },
   {
    "duration": 10,
    "start_time": "2024-12-21T07:01:33.728Z"
   },
   {
    "duration": 29,
    "start_time": "2024-12-21T07:01:33.740Z"
   },
   {
    "duration": 12,
    "start_time": "2024-12-21T07:01:33.771Z"
   },
   {
    "duration": 17,
    "start_time": "2024-12-21T07:01:33.785Z"
   },
   {
    "duration": 19,
    "start_time": "2024-12-21T07:01:33.804Z"
   },
   {
    "duration": 141,
    "start_time": "2024-12-21T07:01:33.825Z"
   },
   {
    "duration": 8,
    "start_time": "2024-12-21T07:01:33.968Z"
   },
   {
    "duration": 10,
    "start_time": "2024-12-21T07:01:33.978Z"
   },
   {
    "duration": 11,
    "start_time": "2024-12-21T07:01:33.989Z"
   },
   {
    "duration": 41,
    "start_time": "2024-12-21T07:01:34.002Z"
   },
   {
    "duration": 13,
    "start_time": "2024-12-21T07:01:34.045Z"
   },
   {
    "duration": 16,
    "start_time": "2024-12-21T07:01:34.060Z"
   },
   {
    "duration": 19,
    "start_time": "2024-12-21T07:01:34.077Z"
   },
   {
    "duration": 35,
    "start_time": "2024-12-21T07:01:34.098Z"
   },
   {
    "duration": 1562,
    "start_time": "2024-12-21T07:01:34.134Z"
   },
   {
    "duration": 7,
    "start_time": "2024-12-21T07:01:35.698Z"
   },
   {
    "duration": 2878,
    "start_time": "2024-12-21T07:01:35.706Z"
   },
   {
    "duration": 385,
    "start_time": "2024-12-21T07:02:45.646Z"
   },
   {
    "duration": 393,
    "start_time": "2024-12-21T07:02:50.861Z"
   },
   {
    "duration": 706,
    "start_time": "2024-12-21T07:03:27.666Z"
   },
   {
    "duration": 170,
    "start_time": "2024-12-21T07:04:08.741Z"
   },
   {
    "duration": 166,
    "start_time": "2024-12-21T07:04:10.542Z"
   },
   {
    "duration": 144,
    "start_time": "2024-12-21T07:04:13.889Z"
   },
   {
    "duration": 222,
    "start_time": "2024-12-21T07:04:26.305Z"
   },
   {
    "duration": 428,
    "start_time": "2024-12-21T07:04:29.682Z"
   },
   {
    "duration": 348,
    "start_time": "2024-12-21T07:04:34.776Z"
   },
   {
    "duration": 334,
    "start_time": "2024-12-21T07:04:55.733Z"
   },
   {
    "duration": 221,
    "start_time": "2024-12-21T07:05:03.950Z"
   },
   {
    "duration": 267,
    "start_time": "2024-12-21T07:05:08.164Z"
   },
   {
    "duration": 370,
    "start_time": "2024-12-21T07:05:11.340Z"
   },
   {
    "duration": 1114,
    "start_time": "2024-12-21T07:08:32.432Z"
   },
   {
    "duration": 65,
    "start_time": "2024-12-21T07:08:33.548Z"
   },
   {
    "duration": 11,
    "start_time": "2024-12-21T07:08:33.614Z"
   },
   {
    "duration": 396,
    "start_time": "2024-12-21T07:08:33.627Z"
   },
   {
    "duration": 294,
    "start_time": "2024-12-21T07:08:34.024Z"
   },
   {
    "duration": 10,
    "start_time": "2024-12-21T07:08:34.321Z"
   },
   {
    "duration": 63,
    "start_time": "2024-12-21T07:08:34.333Z"
   },
   {
    "duration": 31,
    "start_time": "2024-12-21T07:08:34.398Z"
   },
   {
    "duration": 376,
    "start_time": "2024-12-21T07:08:34.431Z"
   },
   {
    "duration": 11,
    "start_time": "2024-12-21T07:08:34.811Z"
   },
   {
    "duration": 20,
    "start_time": "2024-12-21T07:08:34.824Z"
   },
   {
    "duration": 7,
    "start_time": "2024-12-21T07:08:34.846Z"
   },
   {
    "duration": 28,
    "start_time": "2024-12-21T07:08:34.854Z"
   },
   {
    "duration": 14,
    "start_time": "2024-12-21T07:08:34.884Z"
   },
   {
    "duration": 22,
    "start_time": "2024-12-21T07:08:34.899Z"
   },
   {
    "duration": 10,
    "start_time": "2024-12-21T07:08:34.922Z"
   },
   {
    "duration": 35,
    "start_time": "2024-12-21T07:08:34.933Z"
   },
   {
    "duration": 7,
    "start_time": "2024-12-21T07:08:34.969Z"
   },
   {
    "duration": 16,
    "start_time": "2024-12-21T07:08:34.978Z"
   },
   {
    "duration": 5,
    "start_time": "2024-12-21T07:08:34.996Z"
   },
   {
    "duration": 5,
    "start_time": "2024-12-21T07:08:35.003Z"
   },
   {
    "duration": 181,
    "start_time": "2024-12-21T07:08:35.010Z"
   },
   {
    "duration": 102,
    "start_time": "2024-12-21T07:08:35.193Z"
   },
   {
    "duration": 6,
    "start_time": "2024-12-21T07:08:35.297Z"
   },
   {
    "duration": 162,
    "start_time": "2024-12-21T07:08:35.304Z"
   },
   {
    "duration": 7,
    "start_time": "2024-12-21T07:08:35.467Z"
   },
   {
    "duration": 317,
    "start_time": "2024-12-21T07:08:35.476Z"
   },
   {
    "duration": 4,
    "start_time": "2024-12-21T07:08:35.796Z"
   },
   {
    "duration": 180,
    "start_time": "2024-12-21T07:08:35.801Z"
   },
   {
    "duration": 4,
    "start_time": "2024-12-21T07:08:35.983Z"
   },
   {
    "duration": 44,
    "start_time": "2024-12-21T07:08:35.988Z"
   },
   {
    "duration": 21,
    "start_time": "2024-12-21T07:08:36.033Z"
   },
   {
    "duration": 40,
    "start_time": "2024-12-21T07:08:36.056Z"
   },
   {
    "duration": 49,
    "start_time": "2024-12-21T07:08:36.097Z"
   },
   {
    "duration": 17,
    "start_time": "2024-12-21T07:08:36.148Z"
   },
   {
    "duration": 12,
    "start_time": "2024-12-21T07:08:36.167Z"
   },
   {
    "duration": 152,
    "start_time": "2024-12-21T07:08:36.181Z"
   },
   {
    "duration": 270,
    "start_time": "2024-12-21T07:08:36.335Z"
   },
   {
    "duration": 247,
    "start_time": "2024-12-21T07:08:36.606Z"
   },
   {
    "duration": 346,
    "start_time": "2024-12-21T07:08:36.855Z"
   },
   {
    "duration": 19,
    "start_time": "2024-12-21T07:08:37.203Z"
   },
   {
    "duration": 27,
    "start_time": "2024-12-21T07:08:37.224Z"
   },
   {
    "duration": 229,
    "start_time": "2024-12-21T07:08:37.253Z"
   },
   {
    "duration": 247,
    "start_time": "2024-12-21T07:08:37.484Z"
   },
   {
    "duration": 460,
    "start_time": "2024-12-21T07:08:37.733Z"
   },
   {
    "duration": 8,
    "start_time": "2024-12-21T07:08:38.194Z"
   },
   {
    "duration": 88,
    "start_time": "2024-12-21T07:08:38.203Z"
   },
   {
    "duration": 18,
    "start_time": "2024-12-21T07:08:38.293Z"
   },
   {
    "duration": 39,
    "start_time": "2024-12-21T07:08:38.312Z"
   },
   {
    "duration": 7,
    "start_time": "2024-12-21T07:08:38.353Z"
   },
   {
    "duration": 138,
    "start_time": "2024-12-21T07:08:38.361Z"
   },
   {
    "duration": 6,
    "start_time": "2024-12-21T07:08:38.501Z"
   },
   {
    "duration": 14,
    "start_time": "2024-12-21T07:08:38.509Z"
   },
   {
    "duration": 21,
    "start_time": "2024-12-21T07:08:38.524Z"
   },
   {
    "duration": 25,
    "start_time": "2024-12-21T07:08:38.547Z"
   },
   {
    "duration": 5,
    "start_time": "2024-12-21T07:08:38.574Z"
   },
   {
    "duration": 12,
    "start_time": "2024-12-21T07:08:38.581Z"
   },
   {
    "duration": 5,
    "start_time": "2024-12-21T07:08:38.594Z"
   },
   {
    "duration": 38,
    "start_time": "2024-12-21T07:08:38.601Z"
   },
   {
    "duration": 1536,
    "start_time": "2024-12-21T07:08:38.641Z"
   },
   {
    "duration": 7,
    "start_time": "2024-12-21T07:08:40.179Z"
   },
   {
    "duration": 1097,
    "start_time": "2024-12-21T07:09:02.641Z"
   },
   {
    "duration": 64,
    "start_time": "2024-12-21T07:09:03.740Z"
   },
   {
    "duration": 11,
    "start_time": "2024-12-21T07:09:03.805Z"
   },
   {
    "duration": 338,
    "start_time": "2024-12-21T07:09:03.818Z"
   },
   {
    "duration": 308,
    "start_time": "2024-12-21T07:09:04.157Z"
   },
   {
    "duration": 10,
    "start_time": "2024-12-21T07:09:04.466Z"
   },
   {
    "duration": 53,
    "start_time": "2024-12-21T07:09:04.478Z"
   },
   {
    "duration": 28,
    "start_time": "2024-12-21T07:09:04.533Z"
   },
   {
    "duration": 370,
    "start_time": "2024-12-21T07:09:04.562Z"
   },
   {
    "duration": 7,
    "start_time": "2024-12-21T07:09:04.936Z"
   },
   {
    "duration": 32,
    "start_time": "2024-12-21T07:09:04.944Z"
   },
   {
    "duration": 28,
    "start_time": "2024-12-21T07:09:04.978Z"
   },
   {
    "duration": 29,
    "start_time": "2024-12-21T07:09:05.007Z"
   },
   {
    "duration": 15,
    "start_time": "2024-12-21T07:09:05.038Z"
   },
   {
    "duration": 25,
    "start_time": "2024-12-21T07:09:05.054Z"
   },
   {
    "duration": 27,
    "start_time": "2024-12-21T07:09:05.081Z"
   },
   {
    "duration": 40,
    "start_time": "2024-12-21T07:09:05.110Z"
   },
   {
    "duration": 31,
    "start_time": "2024-12-21T07:09:05.151Z"
   },
   {
    "duration": 25,
    "start_time": "2024-12-21T07:09:05.184Z"
   },
   {
    "duration": 29,
    "start_time": "2024-12-21T07:09:05.211Z"
   },
   {
    "duration": 32,
    "start_time": "2024-12-21T07:09:05.242Z"
   },
   {
    "duration": 205,
    "start_time": "2024-12-21T07:09:05.275Z"
   },
   {
    "duration": 98,
    "start_time": "2024-12-21T07:09:05.481Z"
   },
   {
    "duration": 24,
    "start_time": "2024-12-21T07:09:05.580Z"
   },
   {
    "duration": 282,
    "start_time": "2024-12-21T07:09:05.605Z"
   },
   {
    "duration": 6,
    "start_time": "2024-12-21T07:09:05.889Z"
   },
   {
    "duration": 268,
    "start_time": "2024-12-21T07:09:05.896Z"
   },
   {
    "duration": 4,
    "start_time": "2024-12-21T07:09:06.168Z"
   },
   {
    "duration": 305,
    "start_time": "2024-12-21T07:09:06.174Z"
   },
   {
    "duration": 4,
    "start_time": "2024-12-21T07:09:06.480Z"
   },
   {
    "duration": 59,
    "start_time": "2024-12-21T07:09:06.485Z"
   },
   {
    "duration": 19,
    "start_time": "2024-12-21T07:09:06.546Z"
   },
   {
    "duration": 27,
    "start_time": "2024-12-21T07:09:06.567Z"
   },
   {
    "duration": 11,
    "start_time": "2024-12-21T07:09:06.595Z"
   },
   {
    "duration": 19,
    "start_time": "2024-12-21T07:09:06.607Z"
   },
   {
    "duration": 25,
    "start_time": "2024-12-21T07:09:06.627Z"
   },
   {
    "duration": 11,
    "start_time": "2024-12-21T07:09:06.653Z"
   },
   {
    "duration": 245,
    "start_time": "2024-12-21T07:09:06.665Z"
   },
   {
    "duration": 247,
    "start_time": "2024-12-21T07:09:06.911Z"
   },
   {
    "duration": 338,
    "start_time": "2024-12-21T07:09:07.159Z"
   },
   {
    "duration": 8,
    "start_time": "2024-12-21T07:09:07.498Z"
   },
   {
    "duration": 99,
    "start_time": "2024-12-21T07:09:07.507Z"
   },
   {
    "duration": 323,
    "start_time": "2024-12-21T07:09:07.607Z"
   },
   {
    "duration": 260,
    "start_time": "2024-12-21T07:09:07.932Z"
   },
   {
    "duration": 485,
    "start_time": "2024-12-21T07:09:08.194Z"
   },
   {
    "duration": 7,
    "start_time": "2024-12-21T07:09:08.681Z"
   },
   {
    "duration": 6,
    "start_time": "2024-12-21T07:09:08.690Z"
   },
   {
    "duration": 30,
    "start_time": "2024-12-21T07:09:08.698Z"
   },
   {
    "duration": 36,
    "start_time": "2024-12-21T07:09:08.729Z"
   },
   {
    "duration": 3,
    "start_time": "2024-12-21T07:09:08.767Z"
   },
   {
    "duration": 140,
    "start_time": "2024-12-21T07:09:08.771Z"
   },
   {
    "duration": 11,
    "start_time": "2024-12-21T07:09:08.913Z"
   },
   {
    "duration": 7,
    "start_time": "2024-12-21T07:09:08.926Z"
   },
   {
    "duration": 24,
    "start_time": "2024-12-21T07:09:08.935Z"
   },
   {
    "duration": 26,
    "start_time": "2024-12-21T07:09:08.960Z"
   },
   {
    "duration": 6,
    "start_time": "2024-12-21T07:09:08.987Z"
   },
   {
    "duration": 16,
    "start_time": "2024-12-21T07:09:08.994Z"
   },
   {
    "duration": 10,
    "start_time": "2024-12-21T07:09:09.012Z"
   },
   {
    "duration": 29,
    "start_time": "2024-12-21T07:09:09.023Z"
   },
   {
    "duration": 1577,
    "start_time": "2024-12-21T07:09:09.054Z"
   },
   {
    "duration": 5,
    "start_time": "2024-12-21T07:09:10.633Z"
   },
   {
    "duration": 2843,
    "start_time": "2024-12-21T07:09:10.639Z"
   },
   {
    "duration": 707,
    "start_time": "2024-12-21T07:10:26.007Z"
   },
   {
    "duration": 678,
    "start_time": "2024-12-21T07:10:31.127Z"
   },
   {
    "duration": 767,
    "start_time": "2024-12-21T07:10:35.583Z"
   },
   {
    "duration": 898,
    "start_time": "2024-12-21T07:10:40.610Z"
   },
   {
    "duration": 733,
    "start_time": "2024-12-21T07:10:48.682Z"
   },
   {
    "duration": 753,
    "start_time": "2024-12-21T07:10:55.414Z"
   },
   {
    "duration": 386,
    "start_time": "2024-12-21T07:11:32.271Z"
   },
   {
    "duration": 2737,
    "start_time": "2024-12-21T07:12:17.978Z"
   },
   {
    "duration": 1139,
    "start_time": "2024-12-21T07:13:40.901Z"
   },
   {
    "duration": 65,
    "start_time": "2024-12-21T07:13:42.042Z"
   },
   {
    "duration": 10,
    "start_time": "2024-12-21T07:13:42.109Z"
   },
   {
    "duration": 344,
    "start_time": "2024-12-21T07:13:42.121Z"
   },
   {
    "duration": 293,
    "start_time": "2024-12-21T07:13:42.466Z"
   },
   {
    "duration": 11,
    "start_time": "2024-12-21T07:13:42.760Z"
   },
   {
    "duration": 30,
    "start_time": "2024-12-21T07:13:42.772Z"
   },
   {
    "duration": 17,
    "start_time": "2024-12-21T07:13:42.804Z"
   },
   {
    "duration": 477,
    "start_time": "2024-12-21T07:13:42.823Z"
   },
   {
    "duration": 8,
    "start_time": "2024-12-21T07:13:43.303Z"
   },
   {
    "duration": 49,
    "start_time": "2024-12-21T07:13:43.313Z"
   },
   {
    "duration": 54,
    "start_time": "2024-12-21T07:13:43.364Z"
   },
   {
    "duration": 25,
    "start_time": "2024-12-21T07:13:43.420Z"
   },
   {
    "duration": 12,
    "start_time": "2024-12-21T07:13:43.446Z"
   },
   {
    "duration": 9,
    "start_time": "2024-12-21T07:13:43.459Z"
   },
   {
    "duration": 3,
    "start_time": "2024-12-21T07:13:43.469Z"
   },
   {
    "duration": 25,
    "start_time": "2024-12-21T07:13:43.474Z"
   },
   {
    "duration": 5,
    "start_time": "2024-12-21T07:13:43.501Z"
   },
   {
    "duration": 14,
    "start_time": "2024-12-21T07:13:43.507Z"
   },
   {
    "duration": 16,
    "start_time": "2024-12-21T07:13:43.523Z"
   },
   {
    "duration": 12,
    "start_time": "2024-12-21T07:13:43.541Z"
   },
   {
    "duration": 208,
    "start_time": "2024-12-21T07:13:43.555Z"
   },
   {
    "duration": 100,
    "start_time": "2024-12-21T07:13:43.765Z"
   },
   {
    "duration": 7,
    "start_time": "2024-12-21T07:13:43.867Z"
   },
   {
    "duration": 163,
    "start_time": "2024-12-21T07:13:43.876Z"
   },
   {
    "duration": 7,
    "start_time": "2024-12-21T07:13:44.040Z"
   },
   {
    "duration": 255,
    "start_time": "2024-12-21T07:13:44.048Z"
   },
   {
    "duration": 4,
    "start_time": "2024-12-21T07:13:44.307Z"
   },
   {
    "duration": 180,
    "start_time": "2024-12-21T07:13:44.312Z"
   },
   {
    "duration": 4,
    "start_time": "2024-12-21T07:13:44.494Z"
   },
   {
    "duration": 33,
    "start_time": "2024-12-21T07:13:44.499Z"
   },
   {
    "duration": 35,
    "start_time": "2024-12-21T07:13:44.533Z"
   },
   {
    "duration": 30,
    "start_time": "2024-12-21T07:13:44.569Z"
   },
   {
    "duration": 46,
    "start_time": "2024-12-21T07:13:44.600Z"
   },
   {
    "duration": 24,
    "start_time": "2024-12-21T07:13:44.648Z"
   },
   {
    "duration": 11,
    "start_time": "2024-12-21T07:13:44.673Z"
   },
   {
    "duration": 7,
    "start_time": "2024-12-21T07:13:44.685Z"
   },
   {
    "duration": 229,
    "start_time": "2024-12-21T07:13:44.693Z"
   },
   {
    "duration": 246,
    "start_time": "2024-12-21T07:13:44.923Z"
   },
   {
    "duration": 357,
    "start_time": "2024-12-21T07:13:45.171Z"
   },
   {
    "duration": 7,
    "start_time": "2024-12-21T07:13:45.530Z"
   },
   {
    "duration": 8,
    "start_time": "2024-12-21T07:13:45.539Z"
   },
   {
    "duration": 250,
    "start_time": "2024-12-21T07:13:45.548Z"
   },
   {
    "duration": 255,
    "start_time": "2024-12-21T07:13:45.800Z"
   },
   {
    "duration": 466,
    "start_time": "2024-12-21T07:13:46.056Z"
   },
   {
    "duration": 8,
    "start_time": "2024-12-21T07:13:46.523Z"
   },
   {
    "duration": 18,
    "start_time": "2024-12-21T07:13:46.532Z"
   },
   {
    "duration": 11,
    "start_time": "2024-12-21T07:13:46.551Z"
   },
   {
    "duration": 20,
    "start_time": "2024-12-21T07:13:46.563Z"
   },
   {
    "duration": 3,
    "start_time": "2024-12-21T07:13:46.584Z"
   },
   {
    "duration": 154,
    "start_time": "2024-12-21T07:13:46.588Z"
   },
   {
    "duration": 7,
    "start_time": "2024-12-21T07:13:46.744Z"
   },
   {
    "duration": 16,
    "start_time": "2024-12-21T07:13:46.752Z"
   },
   {
    "duration": 15,
    "start_time": "2024-12-21T07:13:46.769Z"
   },
   {
    "duration": 10,
    "start_time": "2024-12-21T07:13:46.786Z"
   },
   {
    "duration": 6,
    "start_time": "2024-12-21T07:13:46.798Z"
   },
   {
    "duration": 26,
    "start_time": "2024-12-21T07:13:46.806Z"
   },
   {
    "duration": 8,
    "start_time": "2024-12-21T07:13:46.833Z"
   },
   {
    "duration": 27,
    "start_time": "2024-12-21T07:13:46.842Z"
   },
   {
    "duration": 1599,
    "start_time": "2024-12-21T07:13:46.870Z"
   },
   {
    "duration": 6,
    "start_time": "2024-12-21T07:13:48.470Z"
   },
   {
    "duration": 2868,
    "start_time": "2024-12-21T07:13:48.477Z"
   },
   {
    "duration": 1162,
    "start_time": "2024-12-21T08:41:17.088Z"
   },
   {
    "duration": 308,
    "start_time": "2024-12-21T08:41:18.252Z"
   },
   {
    "duration": 11,
    "start_time": "2024-12-21T08:41:18.562Z"
   },
   {
    "duration": 303,
    "start_time": "2024-12-21T08:41:18.575Z"
   },
   {
    "duration": 296,
    "start_time": "2024-12-21T08:41:18.880Z"
   },
   {
    "duration": 10,
    "start_time": "2024-12-21T08:41:19.177Z"
   },
   {
    "duration": 9,
    "start_time": "2024-12-21T08:41:19.189Z"
   },
   {
    "duration": 9,
    "start_time": "2024-12-21T08:41:19.211Z"
   },
   {
    "duration": 468,
    "start_time": "2024-12-21T08:41:19.222Z"
   },
   {
    "duration": 7,
    "start_time": "2024-12-21T08:41:19.693Z"
   },
   {
    "duration": 8,
    "start_time": "2024-12-21T08:41:19.711Z"
   },
   {
    "duration": 4,
    "start_time": "2024-12-21T08:41:19.721Z"
   },
   {
    "duration": 8,
    "start_time": "2024-12-21T08:41:19.727Z"
   },
   {
    "duration": 6,
    "start_time": "2024-12-21T08:41:19.736Z"
   },
   {
    "duration": 7,
    "start_time": "2024-12-21T08:41:19.743Z"
   },
   {
    "duration": 4,
    "start_time": "2024-12-21T08:41:19.751Z"
   },
   {
    "duration": 22,
    "start_time": "2024-12-21T08:41:19.757Z"
   },
   {
    "duration": 30,
    "start_time": "2024-12-21T08:41:19.781Z"
   },
   {
    "duration": 5,
    "start_time": "2024-12-21T08:41:19.813Z"
   },
   {
    "duration": 8,
    "start_time": "2024-12-21T08:41:19.819Z"
   },
   {
    "duration": 10,
    "start_time": "2024-12-21T08:41:19.828Z"
   },
   {
    "duration": 191,
    "start_time": "2024-12-21T08:41:19.839Z"
   },
   {
    "duration": 100,
    "start_time": "2024-12-21T08:41:20.031Z"
   },
   {
    "duration": 6,
    "start_time": "2024-12-21T08:41:20.132Z"
   },
   {
    "duration": 154,
    "start_time": "2024-12-21T08:41:20.139Z"
   },
   {
    "duration": 7,
    "start_time": "2024-12-21T08:41:20.295Z"
   },
   {
    "duration": 215,
    "start_time": "2024-12-21T08:41:20.311Z"
   },
   {
    "duration": 4,
    "start_time": "2024-12-21T08:41:20.529Z"
   },
   {
    "duration": 194,
    "start_time": "2024-12-21T08:41:20.534Z"
   },
   {
    "duration": 4,
    "start_time": "2024-12-21T08:41:20.729Z"
   },
   {
    "duration": 20,
    "start_time": "2024-12-21T08:41:20.734Z"
   },
   {
    "duration": 14,
    "start_time": "2024-12-21T08:41:20.755Z"
   },
   {
    "duration": 5,
    "start_time": "2024-12-21T08:41:20.770Z"
   },
   {
    "duration": 38,
    "start_time": "2024-12-21T08:41:20.776Z"
   },
   {
    "duration": 17,
    "start_time": "2024-12-21T08:41:20.816Z"
   },
   {
    "duration": 17,
    "start_time": "2024-12-21T08:41:20.834Z"
   },
   {
    "duration": 22,
    "start_time": "2024-12-21T08:41:20.852Z"
   },
   {
    "duration": 214,
    "start_time": "2024-12-21T08:41:20.875Z"
   },
   {
    "duration": 226,
    "start_time": "2024-12-21T08:41:21.091Z"
   },
   {
    "duration": 332,
    "start_time": "2024-12-21T08:41:21.319Z"
   },
   {
    "duration": 7,
    "start_time": "2024-12-21T08:41:21.652Z"
   },
   {
    "duration": 9,
    "start_time": "2024-12-21T08:41:21.660Z"
   },
   {
    "duration": 232,
    "start_time": "2024-12-21T08:41:21.670Z"
   },
   {
    "duration": 241,
    "start_time": "2024-12-21T08:41:21.910Z"
   },
   {
    "duration": 427,
    "start_time": "2024-12-21T08:41:22.152Z"
   },
   {
    "duration": 8,
    "start_time": "2024-12-21T08:41:22.580Z"
   },
   {
    "duration": 6,
    "start_time": "2024-12-21T08:41:22.589Z"
   },
   {
    "duration": 10,
    "start_time": "2024-12-21T08:41:22.611Z"
   },
   {
    "duration": 17,
    "start_time": "2024-12-21T08:41:22.622Z"
   },
   {
    "duration": 3,
    "start_time": "2024-12-21T08:41:22.640Z"
   },
   {
    "duration": 157,
    "start_time": "2024-12-21T08:41:22.644Z"
   },
   {
    "duration": 10,
    "start_time": "2024-12-21T08:41:22.803Z"
   },
   {
    "duration": 7,
    "start_time": "2024-12-21T08:41:22.815Z"
   },
   {
    "duration": 35,
    "start_time": "2024-12-21T08:41:22.824Z"
   },
   {
    "duration": 28,
    "start_time": "2024-12-21T08:41:22.860Z"
   },
   {
    "duration": 25,
    "start_time": "2024-12-21T08:41:22.889Z"
   },
   {
    "duration": 34,
    "start_time": "2024-12-21T08:41:22.915Z"
   },
   {
    "duration": 20,
    "start_time": "2024-12-21T08:41:22.950Z"
   },
   {
    "duration": 54,
    "start_time": "2024-12-21T08:41:22.971Z"
   },
   {
    "duration": 1413,
    "start_time": "2024-12-21T08:41:23.026Z"
   },
   {
    "duration": 5,
    "start_time": "2024-12-21T08:41:24.440Z"
   },
   {
    "duration": 2710,
    "start_time": "2024-12-21T08:41:24.447Z"
   },
   {
    "duration": 184,
    "start_time": "2024-12-21T08:44:49.873Z"
   },
   {
    "duration": 1050,
    "start_time": "2024-12-21T08:44:55.464Z"
   },
   {
    "duration": 66,
    "start_time": "2024-12-21T08:44:56.516Z"
   },
   {
    "duration": 10,
    "start_time": "2024-12-21T08:44:56.584Z"
   },
   {
    "duration": 301,
    "start_time": "2024-12-21T08:44:56.595Z"
   },
   {
    "duration": 297,
    "start_time": "2024-12-21T08:44:56.898Z"
   },
   {
    "duration": 15,
    "start_time": "2024-12-21T08:44:57.196Z"
   },
   {
    "duration": 7,
    "start_time": "2024-12-21T08:44:57.213Z"
   },
   {
    "duration": 12,
    "start_time": "2024-12-21T08:44:57.222Z"
   },
   {
    "duration": 482,
    "start_time": "2024-12-21T08:44:57.236Z"
   },
   {
    "duration": 7,
    "start_time": "2024-12-21T08:44:57.719Z"
   },
   {
    "duration": 14,
    "start_time": "2024-12-21T08:44:57.728Z"
   },
   {
    "duration": 13,
    "start_time": "2024-12-21T08:44:57.743Z"
   },
   {
    "duration": 8,
    "start_time": "2024-12-21T08:44:57.757Z"
   },
   {
    "duration": 4,
    "start_time": "2024-12-21T08:44:57.768Z"
   },
   {
    "duration": 21,
    "start_time": "2024-12-21T08:44:57.773Z"
   },
   {
    "duration": 4,
    "start_time": "2024-12-21T08:44:57.795Z"
   },
   {
    "duration": 17,
    "start_time": "2024-12-21T08:44:57.811Z"
   },
   {
    "duration": 4,
    "start_time": "2024-12-21T08:44:57.830Z"
   },
   {
    "duration": 5,
    "start_time": "2024-12-21T08:44:57.836Z"
   },
   {
    "duration": 4,
    "start_time": "2024-12-21T08:44:57.842Z"
   },
   {
    "duration": 4,
    "start_time": "2024-12-21T08:44:57.847Z"
   },
   {
    "duration": 237,
    "start_time": "2024-12-21T08:44:57.853Z"
   },
   {
    "duration": 193,
    "start_time": "2024-12-21T08:44:58.092Z"
   },
   {
    "duration": 98,
    "start_time": "2024-12-21T08:44:58.287Z"
   },
   {
    "duration": 6,
    "start_time": "2024-12-21T08:44:58.386Z"
   },
   {
    "duration": 208,
    "start_time": "2024-12-21T08:44:58.394Z"
   },
   {
    "duration": 13,
    "start_time": "2024-12-21T08:44:58.603Z"
   },
   {
    "duration": 169,
    "start_time": "2024-12-21T08:44:58.617Z"
   },
   {
    "duration": 4,
    "start_time": "2024-12-21T08:44:58.787Z"
   },
   {
    "duration": 181,
    "start_time": "2024-12-21T08:44:58.792Z"
   },
   {
    "duration": 3,
    "start_time": "2024-12-21T08:44:58.975Z"
   },
   {
    "duration": 15,
    "start_time": "2024-12-21T08:44:58.980Z"
   },
   {
    "duration": 17,
    "start_time": "2024-12-21T08:44:58.996Z"
   },
   {
    "duration": 4,
    "start_time": "2024-12-21T08:44:59.014Z"
   },
   {
    "duration": 6,
    "start_time": "2024-12-21T08:44:59.019Z"
   },
   {
    "duration": 13,
    "start_time": "2024-12-21T08:44:59.026Z"
   },
   {
    "duration": 10,
    "start_time": "2024-12-21T08:44:59.041Z"
   },
   {
    "duration": 7,
    "start_time": "2024-12-21T08:44:59.052Z"
   },
   {
    "duration": 266,
    "start_time": "2024-12-21T08:44:59.061Z"
   },
   {
    "duration": 235,
    "start_time": "2024-12-21T08:44:59.329Z"
   },
   {
    "duration": 345,
    "start_time": "2024-12-21T08:44:59.568Z"
   },
   {
    "duration": 8,
    "start_time": "2024-12-21T08:44:59.914Z"
   },
   {
    "duration": 7,
    "start_time": "2024-12-21T08:44:59.923Z"
   },
   {
    "duration": 249,
    "start_time": "2024-12-21T08:44:59.931Z"
   },
   {
    "duration": 316,
    "start_time": "2024-12-21T08:45:00.182Z"
   },
   {
    "duration": 391,
    "start_time": "2024-12-21T08:45:00.499Z"
   },
   {
    "duration": 7,
    "start_time": "2024-12-21T08:45:00.892Z"
   },
   {
    "duration": 27,
    "start_time": "2024-12-21T08:45:00.900Z"
   },
   {
    "duration": 14,
    "start_time": "2024-12-21T08:45:00.929Z"
   },
   {
    "duration": 15,
    "start_time": "2024-12-21T08:45:00.945Z"
   },
   {
    "duration": 2,
    "start_time": "2024-12-21T08:45:00.962Z"
   },
   {
    "duration": 145,
    "start_time": "2024-12-21T08:45:00.966Z"
   },
   {
    "duration": 6,
    "start_time": "2024-12-21T08:45:01.113Z"
   },
   {
    "duration": 6,
    "start_time": "2024-12-21T08:45:01.121Z"
   },
   {
    "duration": 10,
    "start_time": "2024-12-21T08:45:01.128Z"
   },
   {
    "duration": 21,
    "start_time": "2024-12-21T08:45:01.139Z"
   },
   {
    "duration": 18,
    "start_time": "2024-12-21T08:45:01.162Z"
   },
   {
    "duration": 16,
    "start_time": "2024-12-21T08:45:01.181Z"
   },
   {
    "duration": 26,
    "start_time": "2024-12-21T08:45:01.198Z"
   },
   {
    "duration": 98,
    "start_time": "2024-12-21T08:45:01.226Z"
   },
   {
    "duration": 1457,
    "start_time": "2024-12-21T08:45:01.325Z"
   },
   {
    "duration": 6,
    "start_time": "2024-12-21T08:45:02.784Z"
   },
   {
    "duration": 2798,
    "start_time": "2024-12-21T08:45:02.792Z"
   },
   {
    "duration": 50,
    "start_time": "2024-12-22T17:44:45.652Z"
   },
   {
    "duration": 1275,
    "start_time": "2024-12-22T17:44:50.444Z"
   },
   {
    "duration": 302,
    "start_time": "2024-12-22T17:44:51.722Z"
   },
   {
    "duration": 12,
    "start_time": "2024-12-22T17:44:52.025Z"
   },
   {
    "duration": 297,
    "start_time": "2024-12-22T17:44:52.038Z"
   },
   {
    "duration": 284,
    "start_time": "2024-12-22T17:44:52.337Z"
   },
   {
    "duration": 10,
    "start_time": "2024-12-22T17:44:52.622Z"
   },
   {
    "duration": 8,
    "start_time": "2024-12-22T17:44:52.634Z"
   },
   {
    "duration": 10,
    "start_time": "2024-12-22T17:44:52.643Z"
   },
   {
    "duration": 475,
    "start_time": "2024-12-22T17:44:52.654Z"
   },
   {
    "duration": 6,
    "start_time": "2024-12-22T17:44:53.132Z"
   },
   {
    "duration": 26,
    "start_time": "2024-12-22T17:44:53.140Z"
   },
   {
    "duration": 11,
    "start_time": "2024-12-22T17:44:53.167Z"
   },
   {
    "duration": 21,
    "start_time": "2024-12-22T17:44:53.179Z"
   },
   {
    "duration": 5,
    "start_time": "2024-12-22T17:44:53.202Z"
   },
   {
    "duration": 11,
    "start_time": "2024-12-22T17:44:53.208Z"
   },
   {
    "duration": 14,
    "start_time": "2024-12-22T17:44:53.221Z"
   },
   {
    "duration": 36,
    "start_time": "2024-12-22T17:44:53.236Z"
   },
   {
    "duration": 4,
    "start_time": "2024-12-22T17:44:53.273Z"
   },
   {
    "duration": 14,
    "start_time": "2024-12-22T17:44:53.278Z"
   },
   {
    "duration": 4,
    "start_time": "2024-12-22T17:44:53.293Z"
   },
   {
    "duration": 5,
    "start_time": "2024-12-22T17:44:53.298Z"
   },
   {
    "duration": 191,
    "start_time": "2024-12-22T17:44:53.304Z"
   },
   {
    "duration": 187,
    "start_time": "2024-12-22T17:44:53.496Z"
   },
   {
    "duration": 97,
    "start_time": "2024-12-22T17:44:53.685Z"
   },
   {
    "duration": 5,
    "start_time": "2024-12-22T17:44:53.784Z"
   },
   {
    "duration": 204,
    "start_time": "2024-12-22T17:44:53.790Z"
   },
   {
    "duration": 7,
    "start_time": "2024-12-22T17:44:53.995Z"
   },
   {
    "duration": 159,
    "start_time": "2024-12-22T17:44:54.013Z"
   },
   {
    "duration": 4,
    "start_time": "2024-12-22T17:44:54.174Z"
   },
   {
    "duration": 178,
    "start_time": "2024-12-22T17:44:54.179Z"
   },
   {
    "duration": 4,
    "start_time": "2024-12-22T17:44:54.359Z"
   },
   {
    "duration": 23,
    "start_time": "2024-12-22T17:44:54.364Z"
   },
   {
    "duration": 9,
    "start_time": "2024-12-22T17:44:54.389Z"
   },
   {
    "duration": 6,
    "start_time": "2024-12-22T17:44:54.410Z"
   },
   {
    "duration": 12,
    "start_time": "2024-12-22T17:44:54.418Z"
   },
   {
    "duration": 15,
    "start_time": "2024-12-22T17:44:54.432Z"
   },
   {
    "duration": 11,
    "start_time": "2024-12-22T17:44:54.449Z"
   },
   {
    "duration": 66,
    "start_time": "2024-12-22T17:44:54.461Z"
   },
   {
    "duration": 213,
    "start_time": "2024-12-22T17:44:54.529Z"
   },
   {
    "duration": 248,
    "start_time": "2024-12-22T17:44:54.743Z"
   },
   {
    "duration": 334,
    "start_time": "2024-12-22T17:44:54.993Z"
   },
   {
    "duration": 7,
    "start_time": "2024-12-22T17:44:55.328Z"
   },
   {
    "duration": 6,
    "start_time": "2024-12-22T17:44:55.337Z"
   },
   {
    "duration": 252,
    "start_time": "2024-12-22T17:44:55.344Z"
   },
   {
    "duration": 309,
    "start_time": "2024-12-22T17:44:55.597Z"
   },
   {
    "duration": 365,
    "start_time": "2024-12-22T17:44:55.911Z"
   },
   {
    "duration": 8,
    "start_time": "2024-12-22T17:44:56.278Z"
   },
   {
    "duration": 25,
    "start_time": "2024-12-22T17:44:56.287Z"
   },
   {
    "duration": 10,
    "start_time": "2024-12-22T17:44:56.313Z"
   },
   {
    "duration": 15,
    "start_time": "2024-12-22T17:44:56.325Z"
   },
   {
    "duration": 3,
    "start_time": "2024-12-22T17:44:56.341Z"
   },
   {
    "duration": 167,
    "start_time": "2024-12-22T17:44:56.345Z"
   },
   {
    "duration": 7,
    "start_time": "2024-12-22T17:44:56.514Z"
   },
   {
    "duration": 5,
    "start_time": "2024-12-22T17:44:56.522Z"
   },
   {
    "duration": 8,
    "start_time": "2024-12-22T17:44:56.529Z"
   },
   {
    "duration": 10,
    "start_time": "2024-12-22T17:44:56.539Z"
   },
   {
    "duration": 5,
    "start_time": "2024-12-22T17:44:56.550Z"
   },
   {
    "duration": 8,
    "start_time": "2024-12-22T17:44:56.556Z"
   },
   {
    "duration": 11,
    "start_time": "2024-12-22T17:44:56.566Z"
   },
   {
    "duration": 66,
    "start_time": "2024-12-22T17:44:56.579Z"
   },
   {
    "duration": 1439,
    "start_time": "2024-12-22T17:44:56.646Z"
   },
   {
    "duration": 6,
    "start_time": "2024-12-22T17:44:58.087Z"
   },
   {
    "duration": 2707,
    "start_time": "2024-12-22T17:44:58.094Z"
   },
   {
    "duration": 386,
    "start_time": "2024-12-22T17:49:43.014Z"
   },
   {
    "duration": 372,
    "start_time": "2024-12-22T17:50:14.097Z"
   },
   {
    "duration": 477,
    "start_time": "2024-12-22T17:50:34.317Z"
   },
   {
    "duration": 375,
    "start_time": "2024-12-22T17:50:53.819Z"
   },
   {
    "duration": 413,
    "start_time": "2024-12-22T17:51:01.791Z"
   },
   {
    "duration": 394,
    "start_time": "2024-12-22T17:51:08.575Z"
   },
   {
    "duration": 526,
    "start_time": "2024-12-22T17:51:49.656Z"
   },
   {
    "duration": 465,
    "start_time": "2024-12-22T17:51:55.412Z"
   },
   {
    "duration": 408,
    "start_time": "2024-12-22T17:52:09.192Z"
   },
   {
    "duration": 384,
    "start_time": "2024-12-22T17:53:28.995Z"
   },
   {
    "duration": 420,
    "start_time": "2024-12-22T17:53:46.714Z"
   },
   {
    "duration": 491,
    "start_time": "2024-12-22T17:54:18.095Z"
   },
   {
    "duration": 387,
    "start_time": "2024-12-22T17:54:36.479Z"
   },
   {
    "duration": 410,
    "start_time": "2024-12-22T17:54:47.960Z"
   },
   {
    "duration": 376,
    "start_time": "2024-12-22T17:58:35.015Z"
   },
   {
    "duration": 366,
    "start_time": "2024-12-22T17:58:43.232Z"
   },
   {
    "duration": 413,
    "start_time": "2024-12-22T17:58:57.890Z"
   },
   {
    "duration": 455,
    "start_time": "2024-12-22T17:59:31.463Z"
   },
   {
    "duration": 1070,
    "start_time": "2024-12-22T18:11:31.644Z"
   },
   {
    "duration": 70,
    "start_time": "2024-12-22T18:11:32.715Z"
   },
   {
    "duration": 12,
    "start_time": "2024-12-22T18:11:32.788Z"
   },
   {
    "duration": 312,
    "start_time": "2024-12-22T18:11:32.802Z"
   },
   {
    "duration": 298,
    "start_time": "2024-12-22T18:11:33.115Z"
   },
   {
    "duration": 11,
    "start_time": "2024-12-22T18:11:33.414Z"
   },
   {
    "duration": 19,
    "start_time": "2024-12-22T18:11:33.426Z"
   },
   {
    "duration": 10,
    "start_time": "2024-12-22T18:11:33.447Z"
   },
   {
    "duration": 484,
    "start_time": "2024-12-22T18:11:33.460Z"
   },
   {
    "duration": 7,
    "start_time": "2024-12-22T18:11:33.946Z"
   },
   {
    "duration": 17,
    "start_time": "2024-12-22T18:11:33.954Z"
   },
   {
    "duration": 10,
    "start_time": "2024-12-22T18:11:33.973Z"
   },
   {
    "duration": 7,
    "start_time": "2024-12-22T18:11:33.985Z"
   },
   {
    "duration": 11,
    "start_time": "2024-12-22T18:11:34.011Z"
   },
   {
    "duration": 22,
    "start_time": "2024-12-22T18:11:34.024Z"
   },
   {
    "duration": 2,
    "start_time": "2024-12-22T18:11:34.048Z"
   },
   {
    "duration": 36,
    "start_time": "2024-12-22T18:11:34.052Z"
   },
   {
    "duration": 5,
    "start_time": "2024-12-22T18:11:34.089Z"
   },
   {
    "duration": 16,
    "start_time": "2024-12-22T18:11:34.096Z"
   },
   {
    "duration": 16,
    "start_time": "2024-12-22T18:11:34.113Z"
   },
   {
    "duration": 7,
    "start_time": "2024-12-22T18:11:34.131Z"
   },
   {
    "duration": 188,
    "start_time": "2024-12-22T18:11:34.139Z"
   },
   {
    "duration": 197,
    "start_time": "2024-12-22T18:11:34.329Z"
   },
   {
    "duration": 114,
    "start_time": "2024-12-22T18:11:34.528Z"
   },
   {
    "duration": 7,
    "start_time": "2024-12-22T18:11:34.644Z"
   },
   {
    "duration": 222,
    "start_time": "2024-12-22T18:11:34.653Z"
   },
   {
    "duration": 7,
    "start_time": "2024-12-22T18:11:34.881Z"
   },
   {
    "duration": 180,
    "start_time": "2024-12-22T18:11:34.890Z"
   },
   {
    "duration": 5,
    "start_time": "2024-12-22T18:11:35.072Z"
   },
   {
    "duration": 182,
    "start_time": "2024-12-22T18:11:35.079Z"
   },
   {
    "duration": 5,
    "start_time": "2024-12-22T18:11:35.263Z"
   },
   {
    "duration": 28,
    "start_time": "2024-12-22T18:11:35.270Z"
   },
   {
    "duration": 21,
    "start_time": "2024-12-22T18:11:35.300Z"
   },
   {
    "duration": 19,
    "start_time": "2024-12-22T18:11:35.323Z"
   },
   {
    "duration": 33,
    "start_time": "2024-12-22T18:11:35.344Z"
   },
   {
    "duration": 25,
    "start_time": "2024-12-22T18:11:35.378Z"
   },
   {
    "duration": 15,
    "start_time": "2024-12-22T18:11:35.405Z"
   },
   {
    "duration": 24,
    "start_time": "2024-12-22T18:11:35.422Z"
   },
   {
    "duration": 222,
    "start_time": "2024-12-22T18:11:35.448Z"
   },
   {
    "duration": 239,
    "start_time": "2024-12-22T18:11:35.672Z"
   },
   {
    "duration": 339,
    "start_time": "2024-12-22T18:11:35.913Z"
   },
   {
    "duration": 8,
    "start_time": "2024-12-22T18:11:36.254Z"
   },
   {
    "duration": 26,
    "start_time": "2024-12-22T18:11:36.264Z"
   },
   {
    "duration": 229,
    "start_time": "2024-12-22T18:11:36.292Z"
   },
   {
    "duration": 315,
    "start_time": "2024-12-22T18:11:36.522Z"
   },
   {
    "duration": 374,
    "start_time": "2024-12-22T18:11:36.839Z"
   },
   {
    "duration": 8,
    "start_time": "2024-12-22T18:11:37.215Z"
   },
   {
    "duration": 7,
    "start_time": "2024-12-22T18:11:37.224Z"
   },
   {
    "duration": 39,
    "start_time": "2024-12-22T18:11:37.232Z"
   },
   {
    "duration": 16,
    "start_time": "2024-12-22T18:11:37.272Z"
   },
   {
    "duration": 3,
    "start_time": "2024-12-22T18:11:37.289Z"
   },
   {
    "duration": 165,
    "start_time": "2024-12-22T18:11:37.293Z"
   },
   {
    "duration": 7,
    "start_time": "2024-12-22T18:11:37.460Z"
   },
   {
    "duration": 14,
    "start_time": "2024-12-22T18:11:37.469Z"
   },
   {
    "duration": 12,
    "start_time": "2024-12-22T18:11:37.485Z"
   },
   {
    "duration": 14,
    "start_time": "2024-12-22T18:11:37.499Z"
   },
   {
    "duration": 21,
    "start_time": "2024-12-22T18:11:37.515Z"
   },
   {
    "duration": 12,
    "start_time": "2024-12-22T18:11:37.538Z"
   },
   {
    "duration": 5,
    "start_time": "2024-12-22T18:11:37.552Z"
   },
   {
    "duration": 41,
    "start_time": "2024-12-22T18:11:37.559Z"
   },
   {
    "duration": 1509,
    "start_time": "2024-12-22T18:11:37.611Z"
   },
   {
    "duration": 6,
    "start_time": "2024-12-22T18:11:39.121Z"
   },
   {
    "duration": 2768,
    "start_time": "2024-12-22T18:11:39.129Z"
   },
   {
    "duration": 513,
    "start_time": "2024-12-22T18:13:37.560Z"
   },
   {
    "duration": 390,
    "start_time": "2024-12-22T18:16:26.962Z"
   },
   {
    "duration": 398,
    "start_time": "2024-12-22T18:16:34.615Z"
   },
   {
    "duration": 392,
    "start_time": "2024-12-22T18:16:41.271Z"
   },
   {
    "duration": 385,
    "start_time": "2024-12-22T18:17:09.016Z"
   },
   {
    "duration": 414,
    "start_time": "2024-12-22T18:18:00.491Z"
   },
   {
    "duration": 530,
    "start_time": "2024-12-22T18:18:23.216Z"
   },
   {
    "duration": 379,
    "start_time": "2024-12-22T18:18:29.234Z"
   },
   {
    "duration": 402,
    "start_time": "2024-12-22T18:18:59.184Z"
   },
   {
    "duration": 415,
    "start_time": "2024-12-22T18:19:10.328Z"
   },
   {
    "duration": 1161,
    "start_time": "2024-12-22T18:19:35.757Z"
   },
   {
    "duration": 66,
    "start_time": "2024-12-22T18:19:36.920Z"
   },
   {
    "duration": 11,
    "start_time": "2024-12-22T18:19:36.987Z"
   },
   {
    "duration": 313,
    "start_time": "2024-12-22T18:19:37.000Z"
   },
   {
    "duration": 298,
    "start_time": "2024-12-22T18:19:37.314Z"
   },
   {
    "duration": 11,
    "start_time": "2024-12-22T18:19:37.614Z"
   },
   {
    "duration": 9,
    "start_time": "2024-12-22T18:19:37.626Z"
   },
   {
    "duration": 10,
    "start_time": "2024-12-22T18:19:37.636Z"
   },
   {
    "duration": 530,
    "start_time": "2024-12-22T18:19:37.647Z"
   },
   {
    "duration": 7,
    "start_time": "2024-12-22T18:19:38.179Z"
   },
   {
    "duration": 27,
    "start_time": "2024-12-22T18:19:38.187Z"
   },
   {
    "duration": 5,
    "start_time": "2024-12-22T18:19:38.216Z"
   },
   {
    "duration": 14,
    "start_time": "2024-12-22T18:19:38.223Z"
   },
   {
    "duration": 5,
    "start_time": "2024-12-22T18:19:38.238Z"
   },
   {
    "duration": 10,
    "start_time": "2024-12-22T18:19:38.244Z"
   },
   {
    "duration": 2,
    "start_time": "2024-12-22T18:19:38.256Z"
   },
   {
    "duration": 16,
    "start_time": "2024-12-22T18:19:38.259Z"
   },
   {
    "duration": 36,
    "start_time": "2024-12-22T18:19:38.276Z"
   },
   {
    "duration": 5,
    "start_time": "2024-12-22T18:19:38.313Z"
   },
   {
    "duration": 5,
    "start_time": "2024-12-22T18:19:38.319Z"
   },
   {
    "duration": 4,
    "start_time": "2024-12-22T18:19:38.325Z"
   },
   {
    "duration": 211,
    "start_time": "2024-12-22T18:19:38.331Z"
   },
   {
    "duration": 194,
    "start_time": "2024-12-22T18:19:38.544Z"
   },
   {
    "duration": 101,
    "start_time": "2024-12-22T18:19:38.739Z"
   },
   {
    "duration": 6,
    "start_time": "2024-12-22T18:19:38.842Z"
   },
   {
    "duration": 218,
    "start_time": "2024-12-22T18:19:38.849Z"
   },
   {
    "duration": 8,
    "start_time": "2024-12-22T18:19:39.068Z"
   },
   {
    "duration": 178,
    "start_time": "2024-12-22T18:19:39.079Z"
   },
   {
    "duration": 5,
    "start_time": "2024-12-22T18:19:39.259Z"
   },
   {
    "duration": 174,
    "start_time": "2024-12-22T18:19:39.266Z"
   },
   {
    "duration": 4,
    "start_time": "2024-12-22T18:19:39.442Z"
   },
   {
    "duration": 15,
    "start_time": "2024-12-22T18:19:39.448Z"
   },
   {
    "duration": 8,
    "start_time": "2024-12-22T18:19:39.465Z"
   },
   {
    "duration": 3,
    "start_time": "2024-12-22T18:19:39.474Z"
   },
   {
    "duration": 6,
    "start_time": "2024-12-22T18:19:39.479Z"
   },
   {
    "duration": 14,
    "start_time": "2024-12-22T18:19:39.511Z"
   },
   {
    "duration": 10,
    "start_time": "2024-12-22T18:19:39.527Z"
   },
   {
    "duration": 7,
    "start_time": "2024-12-22T18:19:39.538Z"
   },
   {
    "duration": 246,
    "start_time": "2024-12-22T18:19:39.546Z"
   },
   {
    "duration": 251,
    "start_time": "2024-12-22T18:19:39.794Z"
   },
   {
    "duration": 344,
    "start_time": "2024-12-22T18:19:40.047Z"
   },
   {
    "duration": 19,
    "start_time": "2024-12-22T18:19:40.393Z"
   },
   {
    "duration": 7,
    "start_time": "2024-12-22T18:19:40.413Z"
   },
   {
    "duration": 247,
    "start_time": "2024-12-22T18:19:40.422Z"
   },
   {
    "duration": 323,
    "start_time": "2024-12-22T18:19:40.671Z"
   },
   {
    "duration": 359,
    "start_time": "2024-12-22T18:19:40.995Z"
   },
   {
    "duration": 7,
    "start_time": "2024-12-22T18:19:41.356Z"
   },
   {
    "duration": 17,
    "start_time": "2024-12-22T18:19:41.364Z"
   },
   {
    "duration": 10,
    "start_time": "2024-12-22T18:19:41.382Z"
   },
   {
    "duration": 31,
    "start_time": "2024-12-22T18:19:41.394Z"
   },
   {
    "duration": 3,
    "start_time": "2024-12-22T18:19:41.427Z"
   },
   {
    "duration": 157,
    "start_time": "2024-12-22T18:19:41.431Z"
   },
   {
    "duration": 7,
    "start_time": "2024-12-22T18:19:41.589Z"
   },
   {
    "duration": 18,
    "start_time": "2024-12-22T18:19:41.597Z"
   },
   {
    "duration": 10,
    "start_time": "2024-12-22T18:19:41.616Z"
   },
   {
    "duration": 7,
    "start_time": "2024-12-22T18:19:41.627Z"
   },
   {
    "duration": 5,
    "start_time": "2024-12-22T18:19:41.636Z"
   },
   {
    "duration": 15,
    "start_time": "2024-12-22T18:19:41.642Z"
   },
   {
    "duration": 5,
    "start_time": "2024-12-22T18:19:41.658Z"
   },
   {
    "duration": 58,
    "start_time": "2024-12-22T18:19:41.665Z"
   },
   {
    "duration": 1425,
    "start_time": "2024-12-22T18:19:41.725Z"
   },
   {
    "duration": 5,
    "start_time": "2024-12-22T18:19:43.152Z"
   },
   {
    "duration": 2747,
    "start_time": "2024-12-22T18:19:43.159Z"
   },
   {
    "duration": 920,
    "start_time": "2024-12-22T18:22:48.994Z"
   },
   {
    "duration": 1193,
    "start_time": "2024-12-22T18:22:55.918Z"
   },
   {
    "duration": 67,
    "start_time": "2024-12-22T18:22:57.113Z"
   },
   {
    "duration": 11,
    "start_time": "2024-12-22T18:22:57.182Z"
   },
   {
    "duration": 310,
    "start_time": "2024-12-22T18:22:57.195Z"
   },
   {
    "duration": 298,
    "start_time": "2024-12-22T18:22:57.507Z"
   },
   {
    "duration": 10,
    "start_time": "2024-12-22T18:22:57.807Z"
   },
   {
    "duration": 8,
    "start_time": "2024-12-22T18:22:57.818Z"
   },
   {
    "duration": 50,
    "start_time": "2024-12-22T18:22:57.828Z"
   },
   {
    "duration": 612,
    "start_time": "2024-12-22T18:22:57.880Z"
   },
   {
    "duration": 0,
    "start_time": "2024-12-22T18:22:58.495Z"
   },
   {
    "duration": 0,
    "start_time": "2024-12-22T18:22:58.496Z"
   },
   {
    "duration": 0,
    "start_time": "2024-12-22T18:22:58.497Z"
   },
   {
    "duration": 0,
    "start_time": "2024-12-22T18:22:58.498Z"
   },
   {
    "duration": 0,
    "start_time": "2024-12-22T18:22:58.498Z"
   },
   {
    "duration": 0,
    "start_time": "2024-12-22T18:22:58.511Z"
   },
   {
    "duration": 0,
    "start_time": "2024-12-22T18:22:58.512Z"
   },
   {
    "duration": 0,
    "start_time": "2024-12-22T18:22:58.513Z"
   },
   {
    "duration": 0,
    "start_time": "2024-12-22T18:22:58.514Z"
   },
   {
    "duration": 0,
    "start_time": "2024-12-22T18:22:58.515Z"
   },
   {
    "duration": 0,
    "start_time": "2024-12-22T18:22:58.516Z"
   },
   {
    "duration": 0,
    "start_time": "2024-12-22T18:22:58.517Z"
   },
   {
    "duration": 0,
    "start_time": "2024-12-22T18:22:58.518Z"
   },
   {
    "duration": 0,
    "start_time": "2024-12-22T18:22:58.520Z"
   },
   {
    "duration": 0,
    "start_time": "2024-12-22T18:22:58.521Z"
   },
   {
    "duration": 0,
    "start_time": "2024-12-22T18:22:58.522Z"
   },
   {
    "duration": 0,
    "start_time": "2024-12-22T18:22:58.523Z"
   },
   {
    "duration": 0,
    "start_time": "2024-12-22T18:22:58.524Z"
   },
   {
    "duration": 0,
    "start_time": "2024-12-22T18:22:58.525Z"
   },
   {
    "duration": 0,
    "start_time": "2024-12-22T18:22:58.526Z"
   },
   {
    "duration": 0,
    "start_time": "2024-12-22T18:22:58.527Z"
   },
   {
    "duration": 0,
    "start_time": "2024-12-22T18:22:58.528Z"
   },
   {
    "duration": 0,
    "start_time": "2024-12-22T18:22:58.529Z"
   },
   {
    "duration": 0,
    "start_time": "2024-12-22T18:22:58.529Z"
   },
   {
    "duration": 0,
    "start_time": "2024-12-22T18:22:58.531Z"
   },
   {
    "duration": 0,
    "start_time": "2024-12-22T18:22:58.532Z"
   },
   {
    "duration": 0,
    "start_time": "2024-12-22T18:22:58.533Z"
   },
   {
    "duration": 0,
    "start_time": "2024-12-22T18:22:58.534Z"
   },
   {
    "duration": 0,
    "start_time": "2024-12-22T18:22:58.535Z"
   },
   {
    "duration": 0,
    "start_time": "2024-12-22T18:22:58.536Z"
   },
   {
    "duration": 0,
    "start_time": "2024-12-22T18:22:58.537Z"
   },
   {
    "duration": 0,
    "start_time": "2024-12-22T18:22:58.538Z"
   },
   {
    "duration": 0,
    "start_time": "2024-12-22T18:22:58.539Z"
   },
   {
    "duration": 0,
    "start_time": "2024-12-22T18:22:58.540Z"
   },
   {
    "duration": 0,
    "start_time": "2024-12-22T18:22:58.541Z"
   },
   {
    "duration": 0,
    "start_time": "2024-12-22T18:22:58.541Z"
   },
   {
    "duration": 0,
    "start_time": "2024-12-22T18:22:58.542Z"
   },
   {
    "duration": 0,
    "start_time": "2024-12-22T18:22:58.544Z"
   },
   {
    "duration": 0,
    "start_time": "2024-12-22T18:22:58.545Z"
   },
   {
    "duration": 0,
    "start_time": "2024-12-22T18:22:58.546Z"
   },
   {
    "duration": 0,
    "start_time": "2024-12-22T18:22:58.547Z"
   },
   {
    "duration": 0,
    "start_time": "2024-12-22T18:22:58.611Z"
   },
   {
    "duration": 0,
    "start_time": "2024-12-22T18:22:58.612Z"
   },
   {
    "duration": 0,
    "start_time": "2024-12-22T18:22:58.613Z"
   },
   {
    "duration": 0,
    "start_time": "2024-12-22T18:22:58.615Z"
   },
   {
    "duration": 0,
    "start_time": "2024-12-22T18:22:58.616Z"
   },
   {
    "duration": 0,
    "start_time": "2024-12-22T18:22:58.617Z"
   },
   {
    "duration": 0,
    "start_time": "2024-12-22T18:22:58.618Z"
   },
   {
    "duration": 0,
    "start_time": "2024-12-22T18:22:58.619Z"
   },
   {
    "duration": 0,
    "start_time": "2024-12-22T18:22:58.620Z"
   },
   {
    "duration": 0,
    "start_time": "2024-12-22T18:22:58.621Z"
   },
   {
    "duration": 0,
    "start_time": "2024-12-22T18:22:58.622Z"
   },
   {
    "duration": 0,
    "start_time": "2024-12-22T18:22:58.624Z"
   },
   {
    "duration": 0,
    "start_time": "2024-12-22T18:22:58.625Z"
   },
   {
    "duration": 7,
    "start_time": "2024-12-22T18:23:11.510Z"
   },
   {
    "duration": 10,
    "start_time": "2024-12-22T18:23:12.725Z"
   },
   {
    "duration": 6,
    "start_time": "2024-12-22T18:23:13.799Z"
   },
   {
    "duration": 8,
    "start_time": "2024-12-22T18:23:14.779Z"
   },
   {
    "duration": 5,
    "start_time": "2024-12-22T18:23:15.621Z"
   },
   {
    "duration": 1089,
    "start_time": "2024-12-22T18:23:21.945Z"
   },
   {
    "duration": 66,
    "start_time": "2024-12-22T18:23:23.036Z"
   },
   {
    "duration": 11,
    "start_time": "2024-12-22T18:23:23.103Z"
   },
   {
    "duration": 324,
    "start_time": "2024-12-22T18:23:23.116Z"
   },
   {
    "duration": 300,
    "start_time": "2024-12-22T18:23:23.441Z"
   },
   {
    "duration": 10,
    "start_time": "2024-12-22T18:23:23.743Z"
   },
   {
    "duration": 40,
    "start_time": "2024-12-22T18:23:23.755Z"
   },
   {
    "duration": 9,
    "start_time": "2024-12-22T18:23:23.797Z"
   },
   {
    "duration": 605,
    "start_time": "2024-12-22T18:23:23.808Z"
   },
   {
    "duration": 0,
    "start_time": "2024-12-22T18:23:24.416Z"
   },
   {
    "duration": 0,
    "start_time": "2024-12-22T18:23:24.417Z"
   },
   {
    "duration": 0,
    "start_time": "2024-12-22T18:23:24.418Z"
   },
   {
    "duration": 0,
    "start_time": "2024-12-22T18:23:24.419Z"
   },
   {
    "duration": 0,
    "start_time": "2024-12-22T18:23:24.420Z"
   },
   {
    "duration": 0,
    "start_time": "2024-12-22T18:23:24.421Z"
   },
   {
    "duration": 0,
    "start_time": "2024-12-22T18:23:24.422Z"
   },
   {
    "duration": 0,
    "start_time": "2024-12-22T18:23:24.423Z"
   },
   {
    "duration": 0,
    "start_time": "2024-12-22T18:23:24.424Z"
   },
   {
    "duration": 0,
    "start_time": "2024-12-22T18:23:24.425Z"
   },
   {
    "duration": 0,
    "start_time": "2024-12-22T18:23:24.426Z"
   },
   {
    "duration": 0,
    "start_time": "2024-12-22T18:23:24.426Z"
   },
   {
    "duration": 0,
    "start_time": "2024-12-22T18:23:24.428Z"
   },
   {
    "duration": 0,
    "start_time": "2024-12-22T18:23:24.428Z"
   },
   {
    "duration": 0,
    "start_time": "2024-12-22T18:23:24.429Z"
   },
   {
    "duration": 0,
    "start_time": "2024-12-22T18:23:24.430Z"
   },
   {
    "duration": 0,
    "start_time": "2024-12-22T18:23:24.431Z"
   },
   {
    "duration": 0,
    "start_time": "2024-12-22T18:23:24.432Z"
   },
   {
    "duration": 0,
    "start_time": "2024-12-22T18:23:24.433Z"
   },
   {
    "duration": 0,
    "start_time": "2024-12-22T18:23:24.434Z"
   },
   {
    "duration": 0,
    "start_time": "2024-12-22T18:23:24.435Z"
   },
   {
    "duration": 0,
    "start_time": "2024-12-22T18:23:24.436Z"
   },
   {
    "duration": 0,
    "start_time": "2024-12-22T18:23:24.437Z"
   },
   {
    "duration": 0,
    "start_time": "2024-12-22T18:23:24.438Z"
   },
   {
    "duration": 0,
    "start_time": "2024-12-22T18:23:24.439Z"
   },
   {
    "duration": 0,
    "start_time": "2024-12-22T18:23:24.440Z"
   },
   {
    "duration": 0,
    "start_time": "2024-12-22T18:23:24.441Z"
   },
   {
    "duration": 0,
    "start_time": "2024-12-22T18:23:24.441Z"
   },
   {
    "duration": 0,
    "start_time": "2024-12-22T18:23:24.442Z"
   },
   {
    "duration": 0,
    "start_time": "2024-12-22T18:23:24.443Z"
   },
   {
    "duration": 0,
    "start_time": "2024-12-22T18:23:24.445Z"
   },
   {
    "duration": 0,
    "start_time": "2024-12-22T18:23:24.445Z"
   },
   {
    "duration": 0,
    "start_time": "2024-12-22T18:23:24.446Z"
   },
   {
    "duration": 0,
    "start_time": "2024-12-22T18:23:24.448Z"
   },
   {
    "duration": 0,
    "start_time": "2024-12-22T18:23:24.448Z"
   },
   {
    "duration": 0,
    "start_time": "2024-12-22T18:23:24.449Z"
   },
   {
    "duration": 0,
    "start_time": "2024-12-22T18:23:24.450Z"
   },
   {
    "duration": 0,
    "start_time": "2024-12-22T18:23:24.451Z"
   },
   {
    "duration": 0,
    "start_time": "2024-12-22T18:23:24.452Z"
   },
   {
    "duration": 0,
    "start_time": "2024-12-22T18:23:24.452Z"
   },
   {
    "duration": 0,
    "start_time": "2024-12-22T18:23:24.452Z"
   },
   {
    "duration": 0,
    "start_time": "2024-12-22T18:23:24.453Z"
   },
   {
    "duration": 0,
    "start_time": "2024-12-22T18:23:24.453Z"
   },
   {
    "duration": 0,
    "start_time": "2024-12-22T18:23:24.454Z"
   },
   {
    "duration": 0,
    "start_time": "2024-12-22T18:23:24.454Z"
   },
   {
    "duration": 0,
    "start_time": "2024-12-22T18:23:24.513Z"
   },
   {
    "duration": 0,
    "start_time": "2024-12-22T18:23:24.514Z"
   },
   {
    "duration": 0,
    "start_time": "2024-12-22T18:23:24.515Z"
   },
   {
    "duration": 0,
    "start_time": "2024-12-22T18:23:24.516Z"
   },
   {
    "duration": 0,
    "start_time": "2024-12-22T18:23:24.517Z"
   },
   {
    "duration": 0,
    "start_time": "2024-12-22T18:23:24.518Z"
   },
   {
    "duration": 0,
    "start_time": "2024-12-22T18:23:24.518Z"
   },
   {
    "duration": 0,
    "start_time": "2024-12-22T18:23:24.520Z"
   },
   {
    "duration": 0,
    "start_time": "2024-12-22T18:23:24.521Z"
   },
   {
    "duration": 7,
    "start_time": "2024-12-22T18:24:08.908Z"
   },
   {
    "duration": 7,
    "start_time": "2024-12-22T18:24:09.184Z"
   },
   {
    "duration": 11,
    "start_time": "2024-12-22T18:24:10.595Z"
   },
   {
    "duration": 6,
    "start_time": "2024-12-22T18:24:11.432Z"
   },
   {
    "duration": 8,
    "start_time": "2024-12-22T18:24:12.134Z"
   },
   {
    "duration": 5,
    "start_time": "2024-12-22T18:24:13.175Z"
   },
   {
    "duration": 6,
    "start_time": "2024-12-22T18:24:17.333Z"
   },
   {
    "duration": 3,
    "start_time": "2024-12-22T18:24:18.642Z"
   },
   {
    "duration": 15,
    "start_time": "2024-12-22T18:24:19.265Z"
   },
   {
    "duration": 4,
    "start_time": "2024-12-22T18:24:20.466Z"
   },
   {
    "duration": 6,
    "start_time": "2024-12-22T18:24:21.550Z"
   },
   {
    "duration": 5,
    "start_time": "2024-12-22T18:24:24.584Z"
   },
   {
    "duration": 4,
    "start_time": "2024-12-22T18:24:25.516Z"
   },
   {
    "duration": 190,
    "start_time": "2024-12-22T18:24:28.120Z"
   },
   {
    "duration": 186,
    "start_time": "2024-12-22T18:24:32.857Z"
   },
   {
    "duration": 91,
    "start_time": "2024-12-22T18:24:34.693Z"
   },
   {
    "duration": 6,
    "start_time": "2024-12-22T18:24:44.356Z"
   },
   {
    "duration": 204,
    "start_time": "2024-12-22T18:24:45.136Z"
   },
   {
    "duration": 8,
    "start_time": "2024-12-22T18:24:47.459Z"
   },
   {
    "duration": 164,
    "start_time": "2024-12-22T18:24:48.339Z"
   },
   {
    "duration": 5,
    "start_time": "2024-12-22T18:24:49.313Z"
   },
   {
    "duration": 164,
    "start_time": "2024-12-22T18:24:50.016Z"
   },
   {
    "duration": 5,
    "start_time": "2024-12-22T18:24:50.813Z"
   },
   {
    "duration": 158,
    "start_time": "2024-12-22T18:25:20.408Z"
   },
   {
    "duration": 173,
    "start_time": "2024-12-22T18:25:48.880Z"
   },
   {
    "duration": 176,
    "start_time": "2024-12-22T18:26:09.476Z"
   },
   {
    "duration": 9,
    "start_time": "2024-12-22T18:26:17.019Z"
   },
   {
    "duration": 10,
    "start_time": "2024-12-22T18:26:18.623Z"
   },
   {
    "duration": 4,
    "start_time": "2024-12-22T18:26:19.571Z"
   },
   {
    "duration": 7,
    "start_time": "2024-12-22T18:26:20.279Z"
   },
   {
    "duration": 15,
    "start_time": "2024-12-22T18:26:21.943Z"
   },
   {
    "duration": 11,
    "start_time": "2024-12-22T18:26:22.565Z"
   },
   {
    "duration": 8,
    "start_time": "2024-12-22T18:26:24.534Z"
   },
   {
    "duration": 218,
    "start_time": "2024-12-22T18:26:25.817Z"
   },
   {
    "duration": 229,
    "start_time": "2024-12-22T18:26:48.245Z"
   },
   {
    "duration": 236,
    "start_time": "2024-12-22T18:26:52.550Z"
   },
   {
    "duration": 340,
    "start_time": "2024-12-22T18:27:01.220Z"
   },
   {
    "duration": 8,
    "start_time": "2024-12-22T18:27:05.574Z"
   },
   {
    "duration": 9,
    "start_time": "2024-12-22T18:27:06.520Z"
   },
   {
    "duration": 316,
    "start_time": "2024-12-22T18:27:07.995Z"
   },
   {
    "duration": 242,
    "start_time": "2024-12-22T18:27:29.471Z"
   },
   {
    "duration": 250,
    "start_time": "2024-12-22T18:27:30.682Z"
   },
   {
    "duration": 256,
    "start_time": "2024-12-22T18:27:33.903Z"
   },
   {
    "duration": 400,
    "start_time": "2024-12-22T18:27:37.889Z"
   },
   {
    "duration": 1102,
    "start_time": "2024-12-22T18:27:52.916Z"
   },
   {
    "duration": 65,
    "start_time": "2024-12-22T18:27:54.019Z"
   },
   {
    "duration": 12,
    "start_time": "2024-12-22T18:27:54.086Z"
   },
   {
    "duration": 311,
    "start_time": "2024-12-22T18:27:54.100Z"
   },
   {
    "duration": 300,
    "start_time": "2024-12-22T18:27:54.413Z"
   },
   {
    "duration": 12,
    "start_time": "2024-12-22T18:27:54.715Z"
   },
   {
    "duration": 27,
    "start_time": "2024-12-22T18:27:54.729Z"
   },
   {
    "duration": 11,
    "start_time": "2024-12-22T18:27:54.758Z"
   },
   {
    "duration": 591,
    "start_time": "2024-12-22T18:27:54.772Z"
   },
   {
    "duration": 0,
    "start_time": "2024-12-22T18:27:55.367Z"
   },
   {
    "duration": 0,
    "start_time": "2024-12-22T18:27:55.369Z"
   },
   {
    "duration": 0,
    "start_time": "2024-12-22T18:27:55.371Z"
   },
   {
    "duration": 0,
    "start_time": "2024-12-22T18:27:55.372Z"
   },
   {
    "duration": 0,
    "start_time": "2024-12-22T18:27:55.373Z"
   },
   {
    "duration": 0,
    "start_time": "2024-12-22T18:27:55.374Z"
   },
   {
    "duration": 0,
    "start_time": "2024-12-22T18:27:55.376Z"
   },
   {
    "duration": 0,
    "start_time": "2024-12-22T18:27:55.377Z"
   },
   {
    "duration": 0,
    "start_time": "2024-12-22T18:27:55.378Z"
   },
   {
    "duration": 0,
    "start_time": "2024-12-22T18:27:55.380Z"
   },
   {
    "duration": 0,
    "start_time": "2024-12-22T18:27:55.381Z"
   },
   {
    "duration": 0,
    "start_time": "2024-12-22T18:27:55.411Z"
   },
   {
    "duration": 0,
    "start_time": "2024-12-22T18:27:55.412Z"
   },
   {
    "duration": 0,
    "start_time": "2024-12-22T18:27:55.414Z"
   },
   {
    "duration": 0,
    "start_time": "2024-12-22T18:27:55.415Z"
   },
   {
    "duration": 0,
    "start_time": "2024-12-22T18:27:55.417Z"
   },
   {
    "duration": 0,
    "start_time": "2024-12-22T18:27:55.418Z"
   },
   {
    "duration": 0,
    "start_time": "2024-12-22T18:27:55.419Z"
   },
   {
    "duration": 0,
    "start_time": "2024-12-22T18:27:55.420Z"
   },
   {
    "duration": 0,
    "start_time": "2024-12-22T18:27:55.421Z"
   },
   {
    "duration": 0,
    "start_time": "2024-12-22T18:27:55.422Z"
   },
   {
    "duration": 0,
    "start_time": "2024-12-22T18:27:55.423Z"
   },
   {
    "duration": 0,
    "start_time": "2024-12-22T18:27:55.424Z"
   },
   {
    "duration": 0,
    "start_time": "2024-12-22T18:27:55.425Z"
   },
   {
    "duration": 0,
    "start_time": "2024-12-22T18:27:55.426Z"
   },
   {
    "duration": 0,
    "start_time": "2024-12-22T18:27:55.427Z"
   },
   {
    "duration": 0,
    "start_time": "2024-12-22T18:27:55.428Z"
   },
   {
    "duration": 0,
    "start_time": "2024-12-22T18:27:55.429Z"
   },
   {
    "duration": 0,
    "start_time": "2024-12-22T18:27:55.430Z"
   },
   {
    "duration": 0,
    "start_time": "2024-12-22T18:27:55.431Z"
   },
   {
    "duration": 0,
    "start_time": "2024-12-22T18:27:55.432Z"
   },
   {
    "duration": 0,
    "start_time": "2024-12-22T18:27:55.433Z"
   },
   {
    "duration": 0,
    "start_time": "2024-12-22T18:27:55.434Z"
   },
   {
    "duration": 0,
    "start_time": "2024-12-22T18:27:55.435Z"
   },
   {
    "duration": 0,
    "start_time": "2024-12-22T18:27:55.436Z"
   },
   {
    "duration": 0,
    "start_time": "2024-12-22T18:27:55.437Z"
   },
   {
    "duration": 0,
    "start_time": "2024-12-22T18:27:55.438Z"
   },
   {
    "duration": 0,
    "start_time": "2024-12-22T18:27:55.440Z"
   },
   {
    "duration": 1,
    "start_time": "2024-12-22T18:27:55.440Z"
   },
   {
    "duration": 0,
    "start_time": "2024-12-22T18:27:55.442Z"
   },
   {
    "duration": 0,
    "start_time": "2024-12-22T18:27:55.443Z"
   },
   {
    "duration": 0,
    "start_time": "2024-12-22T18:27:55.443Z"
   },
   {
    "duration": 0,
    "start_time": "2024-12-22T18:27:55.444Z"
   },
   {
    "duration": 0,
    "start_time": "2024-12-22T18:27:55.445Z"
   },
   {
    "duration": 0,
    "start_time": "2024-12-22T18:27:55.446Z"
   },
   {
    "duration": 0,
    "start_time": "2024-12-22T18:27:55.512Z"
   },
   {
    "duration": 0,
    "start_time": "2024-12-22T18:27:55.513Z"
   },
   {
    "duration": 0,
    "start_time": "2024-12-22T18:27:55.514Z"
   },
   {
    "duration": 0,
    "start_time": "2024-12-22T18:27:55.515Z"
   },
   {
    "duration": 0,
    "start_time": "2024-12-22T18:27:55.516Z"
   },
   {
    "duration": 0,
    "start_time": "2024-12-22T18:27:55.517Z"
   },
   {
    "duration": 0,
    "start_time": "2024-12-22T18:27:55.518Z"
   },
   {
    "duration": 0,
    "start_time": "2024-12-22T18:27:55.518Z"
   },
   {
    "duration": 0,
    "start_time": "2024-12-22T18:27:55.519Z"
   },
   {
    "duration": 1092,
    "start_time": "2024-12-22T18:28:03.429Z"
   },
   {
    "duration": 66,
    "start_time": "2024-12-22T18:28:04.523Z"
   },
   {
    "duration": 10,
    "start_time": "2024-12-22T18:28:04.590Z"
   },
   {
    "duration": 354,
    "start_time": "2024-12-22T18:28:04.603Z"
   },
   {
    "duration": 293,
    "start_time": "2024-12-22T18:28:04.958Z"
   },
   {
    "duration": 10,
    "start_time": "2024-12-22T18:28:05.252Z"
   },
   {
    "duration": 36,
    "start_time": "2024-12-22T18:28:05.263Z"
   },
   {
    "duration": 15,
    "start_time": "2024-12-22T18:28:05.300Z"
   },
   {
    "duration": 595,
    "start_time": "2024-12-22T18:28:05.316Z"
   },
   {
    "duration": 0,
    "start_time": "2024-12-22T18:28:05.914Z"
   },
   {
    "duration": 0,
    "start_time": "2024-12-22T18:28:05.915Z"
   },
   {
    "duration": 0,
    "start_time": "2024-12-22T18:28:05.917Z"
   },
   {
    "duration": 0,
    "start_time": "2024-12-22T18:28:05.918Z"
   },
   {
    "duration": 0,
    "start_time": "2024-12-22T18:28:05.919Z"
   },
   {
    "duration": 0,
    "start_time": "2024-12-22T18:28:05.919Z"
   },
   {
    "duration": 0,
    "start_time": "2024-12-22T18:28:05.920Z"
   },
   {
    "duration": 0,
    "start_time": "2024-12-22T18:28:05.921Z"
   },
   {
    "duration": 0,
    "start_time": "2024-12-22T18:28:05.922Z"
   },
   {
    "duration": 0,
    "start_time": "2024-12-22T18:28:05.923Z"
   },
   {
    "duration": 0,
    "start_time": "2024-12-22T18:28:05.924Z"
   },
   {
    "duration": 0,
    "start_time": "2024-12-22T18:28:05.925Z"
   },
   {
    "duration": 0,
    "start_time": "2024-12-22T18:28:05.925Z"
   },
   {
    "duration": 0,
    "start_time": "2024-12-22T18:28:05.926Z"
   },
   {
    "duration": 0,
    "start_time": "2024-12-22T18:28:05.927Z"
   },
   {
    "duration": 0,
    "start_time": "2024-12-22T18:28:05.928Z"
   },
   {
    "duration": 0,
    "start_time": "2024-12-22T18:28:05.929Z"
   },
   {
    "duration": 0,
    "start_time": "2024-12-22T18:28:05.930Z"
   },
   {
    "duration": 0,
    "start_time": "2024-12-22T18:28:05.931Z"
   },
   {
    "duration": 0,
    "start_time": "2024-12-22T18:28:05.932Z"
   },
   {
    "duration": 0,
    "start_time": "2024-12-22T18:28:05.933Z"
   },
   {
    "duration": 0,
    "start_time": "2024-12-22T18:28:05.934Z"
   },
   {
    "duration": 0,
    "start_time": "2024-12-22T18:28:05.935Z"
   },
   {
    "duration": 0,
    "start_time": "2024-12-22T18:28:05.936Z"
   },
   {
    "duration": 0,
    "start_time": "2024-12-22T18:28:05.937Z"
   },
   {
    "duration": 0,
    "start_time": "2024-12-22T18:28:05.937Z"
   },
   {
    "duration": 0,
    "start_time": "2024-12-22T18:28:05.939Z"
   },
   {
    "duration": 0,
    "start_time": "2024-12-22T18:28:05.940Z"
   },
   {
    "duration": 0,
    "start_time": "2024-12-22T18:28:05.940Z"
   },
   {
    "duration": 0,
    "start_time": "2024-12-22T18:28:05.941Z"
   },
   {
    "duration": 0,
    "start_time": "2024-12-22T18:28:05.942Z"
   },
   {
    "duration": 0,
    "start_time": "2024-12-22T18:28:05.944Z"
   },
   {
    "duration": 0,
    "start_time": "2024-12-22T18:28:05.944Z"
   },
   {
    "duration": 0,
    "start_time": "2024-12-22T18:28:05.945Z"
   },
   {
    "duration": 0,
    "start_time": "2024-12-22T18:28:05.946Z"
   },
   {
    "duration": 0,
    "start_time": "2024-12-22T18:28:05.947Z"
   },
   {
    "duration": 0,
    "start_time": "2024-12-22T18:28:05.948Z"
   },
   {
    "duration": 0,
    "start_time": "2024-12-22T18:28:05.949Z"
   },
   {
    "duration": 0,
    "start_time": "2024-12-22T18:28:05.950Z"
   },
   {
    "duration": 0,
    "start_time": "2024-12-22T18:28:06.011Z"
   },
   {
    "duration": 0,
    "start_time": "2024-12-22T18:28:06.012Z"
   },
   {
    "duration": 0,
    "start_time": "2024-12-22T18:28:06.013Z"
   },
   {
    "duration": 0,
    "start_time": "2024-12-22T18:28:06.014Z"
   },
   {
    "duration": 0,
    "start_time": "2024-12-22T18:28:06.015Z"
   },
   {
    "duration": 0,
    "start_time": "2024-12-22T18:28:06.016Z"
   },
   {
    "duration": 0,
    "start_time": "2024-12-22T18:28:06.017Z"
   },
   {
    "duration": 0,
    "start_time": "2024-12-22T18:28:06.018Z"
   },
   {
    "duration": 0,
    "start_time": "2024-12-22T18:28:06.019Z"
   },
   {
    "duration": 0,
    "start_time": "2024-12-22T18:28:06.020Z"
   },
   {
    "duration": 0,
    "start_time": "2024-12-22T18:28:06.021Z"
   },
   {
    "duration": 0,
    "start_time": "2024-12-22T18:28:06.022Z"
   },
   {
    "duration": 0,
    "start_time": "2024-12-22T18:28:06.022Z"
   },
   {
    "duration": 0,
    "start_time": "2024-12-22T18:28:06.023Z"
   },
   {
    "duration": 0,
    "start_time": "2024-12-22T18:28:06.024Z"
   },
   {
    "duration": 1121,
    "start_time": "2024-12-22T18:28:42.203Z"
   },
   {
    "duration": 65,
    "start_time": "2024-12-22T18:28:43.326Z"
   },
   {
    "duration": 10,
    "start_time": "2024-12-22T18:28:43.393Z"
   },
   {
    "duration": 294,
    "start_time": "2024-12-22T18:28:43.405Z"
   },
   {
    "duration": 297,
    "start_time": "2024-12-22T18:28:43.701Z"
   },
   {
    "duration": 17,
    "start_time": "2024-12-22T18:28:44.000Z"
   },
   {
    "duration": 34,
    "start_time": "2024-12-22T18:28:44.018Z"
   },
   {
    "duration": 11,
    "start_time": "2024-12-22T18:28:44.053Z"
   },
   {
    "duration": 576,
    "start_time": "2024-12-22T18:28:44.065Z"
   },
   {
    "duration": 0,
    "start_time": "2024-12-22T18:28:44.644Z"
   },
   {
    "duration": 0,
    "start_time": "2024-12-22T18:28:44.646Z"
   },
   {
    "duration": 0,
    "start_time": "2024-12-22T18:28:44.647Z"
   },
   {
    "duration": 0,
    "start_time": "2024-12-22T18:28:44.648Z"
   },
   {
    "duration": 0,
    "start_time": "2024-12-22T18:28:44.649Z"
   },
   {
    "duration": 0,
    "start_time": "2024-12-22T18:28:44.650Z"
   },
   {
    "duration": 0,
    "start_time": "2024-12-22T18:28:44.651Z"
   },
   {
    "duration": 0,
    "start_time": "2024-12-22T18:28:44.653Z"
   },
   {
    "duration": 0,
    "start_time": "2024-12-22T18:28:44.654Z"
   },
   {
    "duration": 0,
    "start_time": "2024-12-22T18:28:44.655Z"
   },
   {
    "duration": 0,
    "start_time": "2024-12-22T18:28:44.656Z"
   },
   {
    "duration": 0,
    "start_time": "2024-12-22T18:28:44.657Z"
   },
   {
    "duration": 0,
    "start_time": "2024-12-22T18:28:44.658Z"
   },
   {
    "duration": 0,
    "start_time": "2024-12-22T18:28:44.659Z"
   },
   {
    "duration": 1,
    "start_time": "2024-12-22T18:28:44.659Z"
   },
   {
    "duration": 0,
    "start_time": "2024-12-22T18:28:44.660Z"
   },
   {
    "duration": 0,
    "start_time": "2024-12-22T18:28:44.661Z"
   },
   {
    "duration": 0,
    "start_time": "2024-12-22T18:28:44.662Z"
   },
   {
    "duration": 0,
    "start_time": "2024-12-22T18:28:44.663Z"
   },
   {
    "duration": 0,
    "start_time": "2024-12-22T18:28:44.664Z"
   },
   {
    "duration": 0,
    "start_time": "2024-12-22T18:28:44.665Z"
   },
   {
    "duration": 0,
    "start_time": "2024-12-22T18:28:44.666Z"
   },
   {
    "duration": 0,
    "start_time": "2024-12-22T18:28:44.667Z"
   },
   {
    "duration": 0,
    "start_time": "2024-12-22T18:28:44.711Z"
   },
   {
    "duration": 0,
    "start_time": "2024-12-22T18:28:44.712Z"
   },
   {
    "duration": 0,
    "start_time": "2024-12-22T18:28:44.713Z"
   },
   {
    "duration": 0,
    "start_time": "2024-12-22T18:28:44.714Z"
   },
   {
    "duration": 0,
    "start_time": "2024-12-22T18:28:44.715Z"
   },
   {
    "duration": 0,
    "start_time": "2024-12-22T18:28:44.715Z"
   },
   {
    "duration": 0,
    "start_time": "2024-12-22T18:28:44.716Z"
   },
   {
    "duration": 0,
    "start_time": "2024-12-22T18:28:44.717Z"
   },
   {
    "duration": 0,
    "start_time": "2024-12-22T18:28:44.718Z"
   },
   {
    "duration": 0,
    "start_time": "2024-12-22T18:28:44.719Z"
   },
   {
    "duration": 0,
    "start_time": "2024-12-22T18:28:44.720Z"
   },
   {
    "duration": 0,
    "start_time": "2024-12-22T18:28:44.721Z"
   },
   {
    "duration": 0,
    "start_time": "2024-12-22T18:28:44.722Z"
   },
   {
    "duration": 0,
    "start_time": "2024-12-22T18:28:44.723Z"
   },
   {
    "duration": 0,
    "start_time": "2024-12-22T18:28:44.724Z"
   },
   {
    "duration": 0,
    "start_time": "2024-12-22T18:28:44.724Z"
   },
   {
    "duration": 0,
    "start_time": "2024-12-22T18:28:44.725Z"
   },
   {
    "duration": 0,
    "start_time": "2024-12-22T18:28:44.726Z"
   },
   {
    "duration": 0,
    "start_time": "2024-12-22T18:28:44.728Z"
   },
   {
    "duration": 0,
    "start_time": "2024-12-22T18:28:44.729Z"
   },
   {
    "duration": 0,
    "start_time": "2024-12-22T18:28:44.729Z"
   },
   {
    "duration": 0,
    "start_time": "2024-12-22T18:28:44.730Z"
   },
   {
    "duration": 0,
    "start_time": "2024-12-22T18:28:44.731Z"
   },
   {
    "duration": 0,
    "start_time": "2024-12-22T18:28:44.732Z"
   },
   {
    "duration": 0,
    "start_time": "2024-12-22T18:28:44.733Z"
   },
   {
    "duration": 0,
    "start_time": "2024-12-22T18:28:44.734Z"
   },
   {
    "duration": 0,
    "start_time": "2024-12-22T18:28:44.735Z"
   },
   {
    "duration": 0,
    "start_time": "2024-12-22T18:28:44.736Z"
   },
   {
    "duration": 0,
    "start_time": "2024-12-22T18:28:44.737Z"
   },
   {
    "duration": 0,
    "start_time": "2024-12-22T18:28:44.737Z"
   },
   {
    "duration": 0,
    "start_time": "2024-12-22T18:28:44.738Z"
   },
   {
    "duration": 483,
    "start_time": "2024-12-22T18:29:49.546Z"
   },
   {
    "duration": 64,
    "start_time": "2024-12-22T18:30:08.645Z"
   },
   {
    "duration": 522,
    "start_time": "2024-12-22T18:30:17.011Z"
   },
   {
    "duration": 1112,
    "start_time": "2024-12-22T18:30:24.511Z"
   },
   {
    "duration": 65,
    "start_time": "2024-12-22T18:30:25.625Z"
   },
   {
    "duration": 10,
    "start_time": "2024-12-22T18:30:25.692Z"
   },
   {
    "duration": 307,
    "start_time": "2024-12-22T18:30:25.704Z"
   },
   {
    "duration": 289,
    "start_time": "2024-12-22T18:30:26.013Z"
   },
   {
    "duration": 14,
    "start_time": "2024-12-22T18:30:26.304Z"
   },
   {
    "duration": 44,
    "start_time": "2024-12-22T18:30:26.319Z"
   },
   {
    "duration": 10,
    "start_time": "2024-12-22T18:30:26.364Z"
   },
   {
    "duration": 476,
    "start_time": "2024-12-22T18:30:26.375Z"
   },
   {
    "duration": 6,
    "start_time": "2024-12-22T18:30:26.854Z"
   },
   {
    "duration": 12,
    "start_time": "2024-12-22T18:30:26.861Z"
   },
   {
    "duration": 6,
    "start_time": "2024-12-22T18:30:26.875Z"
   },
   {
    "duration": 29,
    "start_time": "2024-12-22T18:30:26.883Z"
   },
   {
    "duration": 5,
    "start_time": "2024-12-22T18:30:26.913Z"
   },
   {
    "duration": 8,
    "start_time": "2024-12-22T18:30:26.919Z"
   },
   {
    "duration": 3,
    "start_time": "2024-12-22T18:30:26.928Z"
   },
   {
    "duration": 21,
    "start_time": "2024-12-22T18:30:26.932Z"
   },
   {
    "duration": 4,
    "start_time": "2024-12-22T18:30:26.954Z"
   },
   {
    "duration": 13,
    "start_time": "2024-12-22T18:30:26.959Z"
   },
   {
    "duration": 5,
    "start_time": "2024-12-22T18:30:26.974Z"
   },
   {
    "duration": 33,
    "start_time": "2024-12-22T18:30:26.980Z"
   },
   {
    "duration": 208,
    "start_time": "2024-12-22T18:30:27.014Z"
   },
   {
    "duration": 198,
    "start_time": "2024-12-22T18:30:27.224Z"
   },
   {
    "duration": 104,
    "start_time": "2024-12-22T18:30:27.423Z"
   },
   {
    "duration": 7,
    "start_time": "2024-12-22T18:30:27.529Z"
   },
   {
    "duration": 232,
    "start_time": "2024-12-22T18:30:27.538Z"
   },
   {
    "duration": 9,
    "start_time": "2024-12-22T18:30:27.772Z"
   },
   {
    "duration": 225,
    "start_time": "2024-12-22T18:30:27.786Z"
   },
   {
    "duration": 4,
    "start_time": "2024-12-22T18:30:28.013Z"
   },
   {
    "duration": 189,
    "start_time": "2024-12-22T18:30:28.018Z"
   },
   {
    "duration": 4,
    "start_time": "2024-12-22T18:30:28.208Z"
   },
   {
    "duration": 8,
    "start_time": "2024-12-22T18:30:28.213Z"
   },
   {
    "duration": 14,
    "start_time": "2024-12-22T18:30:28.222Z"
   },
   {
    "duration": 25,
    "start_time": "2024-12-22T18:30:28.237Z"
   },
   {
    "duration": 17,
    "start_time": "2024-12-22T18:30:28.263Z"
   },
   {
    "duration": 21,
    "start_time": "2024-12-22T18:30:28.282Z"
   },
   {
    "duration": 14,
    "start_time": "2024-12-22T18:30:28.305Z"
   },
   {
    "duration": 26,
    "start_time": "2024-12-22T18:30:28.321Z"
   },
   {
    "duration": 228,
    "start_time": "2024-12-22T18:30:28.348Z"
   },
   {
    "duration": 253,
    "start_time": "2024-12-22T18:30:28.579Z"
   },
   {
    "duration": 353,
    "start_time": "2024-12-22T18:30:28.834Z"
   },
   {
    "duration": 7,
    "start_time": "2024-12-22T18:30:29.189Z"
   },
   {
    "duration": 25,
    "start_time": "2024-12-22T18:30:29.197Z"
   },
   {
    "duration": 247,
    "start_time": "2024-12-22T18:30:29.223Z"
   },
   {
    "duration": 334,
    "start_time": "2024-12-22T18:30:29.472Z"
   },
   {
    "duration": 387,
    "start_time": "2024-12-22T18:30:29.807Z"
   },
   {
    "duration": 17,
    "start_time": "2024-12-22T18:30:30.195Z"
   },
   {
    "duration": 39,
    "start_time": "2024-12-22T18:30:30.213Z"
   },
   {
    "duration": 37,
    "start_time": "2024-12-22T18:30:30.253Z"
   },
   {
    "duration": 44,
    "start_time": "2024-12-22T18:30:30.291Z"
   },
   {
    "duration": 8,
    "start_time": "2024-12-22T18:30:30.336Z"
   },
   {
    "duration": 166,
    "start_time": "2024-12-22T18:30:30.346Z"
   },
   {
    "duration": 7,
    "start_time": "2024-12-22T18:30:30.513Z"
   },
   {
    "duration": 25,
    "start_time": "2024-12-22T18:30:30.522Z"
   },
   {
    "duration": 20,
    "start_time": "2024-12-22T18:30:30.549Z"
   },
   {
    "duration": 45,
    "start_time": "2024-12-22T18:30:30.570Z"
   },
   {
    "duration": 65,
    "start_time": "2024-12-22T18:30:30.616Z"
   },
   {
    "duration": 36,
    "start_time": "2024-12-22T18:30:30.683Z"
   },
   {
    "duration": 5,
    "start_time": "2024-12-22T18:30:30.721Z"
   },
   {
    "duration": 46,
    "start_time": "2024-12-22T18:30:30.727Z"
   },
   {
    "duration": 1437,
    "start_time": "2024-12-22T18:30:30.775Z"
   },
   {
    "duration": 5,
    "start_time": "2024-12-22T18:30:32.214Z"
   },
   {
    "duration": 2818,
    "start_time": "2024-12-22T18:30:32.220Z"
   },
   {
    "duration": 169,
    "start_time": "2024-12-22T18:31:45.462Z"
   },
   {
    "duration": 259,
    "start_time": "2024-12-22T18:32:27.847Z"
   },
   {
    "duration": 245,
    "start_time": "2024-12-22T18:32:32.730Z"
   },
   {
    "duration": 341,
    "start_time": "2024-12-22T18:32:37.049Z"
   },
   {
    "duration": 265,
    "start_time": "2024-12-22T18:33:07.745Z"
   },
   {
    "duration": 243,
    "start_time": "2024-12-22T18:33:19.083Z"
   },
   {
    "duration": 343,
    "start_time": "2024-12-22T18:33:33.486Z"
   },
   {
    "duration": 244,
    "start_time": "2024-12-22T18:33:50.296Z"
   },
   {
    "duration": 407,
    "start_time": "2024-12-22T18:34:01.050Z"
   },
   {
    "duration": 371,
    "start_time": "2024-12-22T18:34:11.125Z"
   },
   {
    "duration": 2729,
    "start_time": "2024-12-22T18:37:12.716Z"
   },
   {
    "duration": 2745,
    "start_time": "2024-12-22T18:37:58.603Z"
   },
   {
    "duration": 1126,
    "start_time": "2024-12-22T18:38:06.933Z"
   },
   {
    "duration": 66,
    "start_time": "2024-12-22T18:38:08.062Z"
   },
   {
    "duration": 13,
    "start_time": "2024-12-22T18:38:08.129Z"
   },
   {
    "duration": 310,
    "start_time": "2024-12-22T18:38:08.143Z"
   },
   {
    "duration": 294,
    "start_time": "2024-12-22T18:38:08.455Z"
   },
   {
    "duration": 10,
    "start_time": "2024-12-22T18:38:08.750Z"
   },
   {
    "duration": 48,
    "start_time": "2024-12-22T18:38:08.762Z"
   },
   {
    "duration": 19,
    "start_time": "2024-12-22T18:38:08.812Z"
   },
   {
    "duration": 482,
    "start_time": "2024-12-22T18:38:08.833Z"
   },
   {
    "duration": 7,
    "start_time": "2024-12-22T18:38:09.319Z"
   },
   {
    "duration": 16,
    "start_time": "2024-12-22T18:38:09.328Z"
   },
   {
    "duration": 8,
    "start_time": "2024-12-22T18:38:09.346Z"
   },
   {
    "duration": 12,
    "start_time": "2024-12-22T18:38:09.355Z"
   },
   {
    "duration": 13,
    "start_time": "2024-12-22T18:38:09.369Z"
   },
   {
    "duration": 36,
    "start_time": "2024-12-22T18:38:09.383Z"
   },
   {
    "duration": 4,
    "start_time": "2024-12-22T18:38:09.421Z"
   },
   {
    "duration": 20,
    "start_time": "2024-12-22T18:38:09.427Z"
   },
   {
    "duration": 11,
    "start_time": "2024-12-22T18:38:09.449Z"
   },
   {
    "duration": 5,
    "start_time": "2024-12-22T18:38:09.462Z"
   },
   {
    "duration": 4,
    "start_time": "2024-12-22T18:38:09.469Z"
   },
   {
    "duration": 37,
    "start_time": "2024-12-22T18:38:09.474Z"
   },
   {
    "duration": 202,
    "start_time": "2024-12-22T18:38:09.513Z"
   },
   {
    "duration": 202,
    "start_time": "2024-12-22T18:38:09.717Z"
   },
   {
    "duration": 101,
    "start_time": "2024-12-22T18:38:09.920Z"
   },
   {
    "duration": 6,
    "start_time": "2024-12-22T18:38:10.022Z"
   },
   {
    "duration": 249,
    "start_time": "2024-12-22T18:38:10.029Z"
   },
   {
    "duration": 7,
    "start_time": "2024-12-22T18:38:10.279Z"
   },
   {
    "duration": 185,
    "start_time": "2024-12-22T18:38:10.290Z"
   },
   {
    "duration": 4,
    "start_time": "2024-12-22T18:38:10.477Z"
   },
   {
    "duration": 205,
    "start_time": "2024-12-22T18:38:10.483Z"
   },
   {
    "duration": 8,
    "start_time": "2024-12-22T18:38:10.691Z"
   },
   {
    "duration": 8,
    "start_time": "2024-12-22T18:38:10.711Z"
   },
   {
    "duration": 10,
    "start_time": "2024-12-22T18:38:10.721Z"
   },
   {
    "duration": 4,
    "start_time": "2024-12-22T18:38:10.732Z"
   },
   {
    "duration": 7,
    "start_time": "2024-12-22T18:38:10.737Z"
   },
   {
    "duration": 14,
    "start_time": "2024-12-22T18:38:10.745Z"
   },
   {
    "duration": 10,
    "start_time": "2024-12-22T18:38:10.760Z"
   },
   {
    "duration": 7,
    "start_time": "2024-12-22T18:38:10.811Z"
   },
   {
    "duration": 244,
    "start_time": "2024-12-22T18:38:10.820Z"
   },
   {
    "duration": 248,
    "start_time": "2024-12-22T18:38:11.065Z"
   },
   {
    "duration": 352,
    "start_time": "2024-12-22T18:38:11.315Z"
   },
   {
    "duration": 7,
    "start_time": "2024-12-22T18:38:11.669Z"
   },
   {
    "duration": 7,
    "start_time": "2024-12-22T18:38:11.678Z"
   },
   {
    "duration": 270,
    "start_time": "2024-12-22T18:38:11.686Z"
   },
   {
    "duration": 334,
    "start_time": "2024-12-22T18:38:11.958Z"
   },
   {
    "duration": 367,
    "start_time": "2024-12-22T18:38:12.293Z"
   },
   {
    "duration": 7,
    "start_time": "2024-12-22T18:38:12.661Z"
   },
   {
    "duration": 26,
    "start_time": "2024-12-22T18:38:12.669Z"
   },
   {
    "duration": 10,
    "start_time": "2024-12-22T18:38:12.696Z"
   },
   {
    "duration": 17,
    "start_time": "2024-12-22T18:38:12.711Z"
   },
   {
    "duration": 3,
    "start_time": "2024-12-22T18:38:12.730Z"
   },
   {
    "duration": 160,
    "start_time": "2024-12-22T18:38:12.735Z"
   },
   {
    "duration": 16,
    "start_time": "2024-12-22T18:38:12.897Z"
   },
   {
    "duration": 5,
    "start_time": "2024-12-22T18:38:12.915Z"
   },
   {
    "duration": 11,
    "start_time": "2024-12-22T18:38:12.922Z"
   },
   {
    "duration": 11,
    "start_time": "2024-12-22T18:38:12.935Z"
   },
   {
    "duration": 5,
    "start_time": "2024-12-22T18:38:12.948Z"
   },
   {
    "duration": 9,
    "start_time": "2024-12-22T18:38:12.954Z"
   },
   {
    "duration": 5,
    "start_time": "2024-12-22T18:38:12.964Z"
   },
   {
    "duration": 67,
    "start_time": "2024-12-22T18:38:12.970Z"
   },
   {
    "duration": 1429,
    "start_time": "2024-12-22T18:38:13.038Z"
   },
   {
    "duration": 5,
    "start_time": "2024-12-22T18:38:14.469Z"
   },
   {
    "duration": 2811,
    "start_time": "2024-12-22T18:38:14.475Z"
   },
   {
    "duration": 509,
    "start_time": "2024-12-22T18:41:28.249Z"
   },
   {
    "duration": 1133,
    "start_time": "2024-12-22T18:41:34.786Z"
   },
   {
    "duration": 66,
    "start_time": "2024-12-22T18:41:35.921Z"
   },
   {
    "duration": 11,
    "start_time": "2024-12-22T18:41:35.989Z"
   },
   {
    "duration": 329,
    "start_time": "2024-12-22T18:41:36.001Z"
   },
   {
    "duration": 289,
    "start_time": "2024-12-22T18:41:36.331Z"
   },
   {
    "duration": 10,
    "start_time": "2024-12-22T18:41:36.622Z"
   },
   {
    "duration": 41,
    "start_time": "2024-12-22T18:41:36.633Z"
   },
   {
    "duration": 30,
    "start_time": "2024-12-22T18:41:36.675Z"
   },
   {
    "duration": 466,
    "start_time": "2024-12-22T18:41:36.706Z"
   },
   {
    "duration": 7,
    "start_time": "2024-12-22T18:41:37.174Z"
   },
   {
    "duration": 18,
    "start_time": "2024-12-22T18:41:37.182Z"
   },
   {
    "duration": 5,
    "start_time": "2024-12-22T18:41:37.211Z"
   },
   {
    "duration": 8,
    "start_time": "2024-12-22T18:41:37.217Z"
   },
   {
    "duration": 7,
    "start_time": "2024-12-22T18:41:37.227Z"
   },
   {
    "duration": 6,
    "start_time": "2024-12-22T18:41:37.236Z"
   },
   {
    "duration": 17,
    "start_time": "2024-12-22T18:41:37.244Z"
   },
   {
    "duration": 28,
    "start_time": "2024-12-22T18:41:37.262Z"
   },
   {
    "duration": 4,
    "start_time": "2024-12-22T18:41:37.291Z"
   },
   {
    "duration": 20,
    "start_time": "2024-12-22T18:41:37.296Z"
   },
   {
    "duration": 5,
    "start_time": "2024-12-22T18:41:37.317Z"
   },
   {
    "duration": 4,
    "start_time": "2024-12-22T18:41:37.323Z"
   },
   {
    "duration": 207,
    "start_time": "2024-12-22T18:41:37.329Z"
   },
   {
    "duration": 195,
    "start_time": "2024-12-22T18:41:37.538Z"
   },
   {
    "duration": 103,
    "start_time": "2024-12-22T18:41:37.735Z"
   },
   {
    "duration": 5,
    "start_time": "2024-12-22T18:41:37.840Z"
   },
   {
    "duration": 249,
    "start_time": "2024-12-22T18:41:37.847Z"
   },
   {
    "duration": 15,
    "start_time": "2024-12-22T18:41:38.097Z"
   },
   {
    "duration": 179,
    "start_time": "2024-12-22T18:41:38.116Z"
   },
   {
    "duration": 4,
    "start_time": "2024-12-22T18:41:38.297Z"
   },
   {
    "duration": 193,
    "start_time": "2024-12-22T18:41:38.302Z"
   },
   {
    "duration": 16,
    "start_time": "2024-12-22T18:41:38.497Z"
   },
   {
    "duration": 7,
    "start_time": "2024-12-22T18:41:38.515Z"
   },
   {
    "duration": 9,
    "start_time": "2024-12-22T18:41:38.524Z"
   },
   {
    "duration": 3,
    "start_time": "2024-12-22T18:41:38.535Z"
   },
   {
    "duration": 6,
    "start_time": "2024-12-22T18:41:38.539Z"
   },
   {
    "duration": 17,
    "start_time": "2024-12-22T18:41:38.546Z"
   },
   {
    "duration": 10,
    "start_time": "2024-12-22T18:41:38.564Z"
   },
   {
    "duration": 17,
    "start_time": "2024-12-22T18:41:38.611Z"
   },
   {
    "duration": 233,
    "start_time": "2024-12-22T18:41:38.629Z"
   },
   {
    "duration": 250,
    "start_time": "2024-12-22T18:41:38.864Z"
   },
   {
    "duration": 348,
    "start_time": "2024-12-22T18:41:39.116Z"
   },
   {
    "duration": 7,
    "start_time": "2024-12-22T18:41:39.466Z"
   },
   {
    "duration": 7,
    "start_time": "2024-12-22T18:41:39.474Z"
   },
   {
    "duration": 262,
    "start_time": "2024-12-22T18:41:39.482Z"
   },
   {
    "duration": 337,
    "start_time": "2024-12-22T18:41:39.746Z"
   },
   {
    "duration": 374,
    "start_time": "2024-12-22T18:41:40.085Z"
   },
   {
    "duration": 8,
    "start_time": "2024-12-22T18:41:40.460Z"
   },
   {
    "duration": 7,
    "start_time": "2024-12-22T18:41:40.469Z"
   },
   {
    "duration": 34,
    "start_time": "2024-12-22T18:41:40.477Z"
   },
   {
    "duration": 15,
    "start_time": "2024-12-22T18:41:40.512Z"
   },
   {
    "duration": 3,
    "start_time": "2024-12-22T18:41:40.528Z"
   },
   {
    "duration": 170,
    "start_time": "2024-12-22T18:41:40.532Z"
   },
   {
    "duration": 10,
    "start_time": "2024-12-22T18:41:40.704Z"
   },
   {
    "duration": 4,
    "start_time": "2024-12-22T18:41:40.716Z"
   },
   {
    "duration": 10,
    "start_time": "2024-12-22T18:41:40.721Z"
   },
   {
    "duration": 5,
    "start_time": "2024-12-22T18:41:40.732Z"
   },
   {
    "duration": 4,
    "start_time": "2024-12-22T18:41:40.738Z"
   },
   {
    "duration": 8,
    "start_time": "2024-12-22T18:41:40.744Z"
   },
   {
    "duration": 7,
    "start_time": "2024-12-22T18:41:40.753Z"
   },
   {
    "duration": 70,
    "start_time": "2024-12-22T18:41:40.762Z"
   },
   {
    "duration": 1411,
    "start_time": "2024-12-22T18:41:40.834Z"
   },
   {
    "duration": 6,
    "start_time": "2024-12-22T18:41:42.246Z"
   },
   {
    "duration": 2746,
    "start_time": "2024-12-22T18:41:42.253Z"
   },
   {
    "duration": 825,
    "start_time": "2024-12-22T18:42:58.316Z"
   },
   {
    "duration": 1082,
    "start_time": "2024-12-22T18:43:13.734Z"
   },
   {
    "duration": 67,
    "start_time": "2024-12-22T18:43:14.818Z"
   },
   {
    "duration": 13,
    "start_time": "2024-12-22T18:43:14.886Z"
   },
   {
    "duration": 311,
    "start_time": "2024-12-22T18:43:14.901Z"
   },
   {
    "duration": 290,
    "start_time": "2024-12-22T18:43:15.214Z"
   },
   {
    "duration": 14,
    "start_time": "2024-12-22T18:43:15.506Z"
   },
   {
    "duration": 43,
    "start_time": "2024-12-22T18:43:15.522Z"
   },
   {
    "duration": 11,
    "start_time": "2024-12-22T18:43:15.567Z"
   },
   {
    "duration": 469,
    "start_time": "2024-12-22T18:43:15.580Z"
   },
   {
    "duration": 7,
    "start_time": "2024-12-22T18:43:16.053Z"
   },
   {
    "duration": 12,
    "start_time": "2024-12-22T18:43:16.062Z"
   },
   {
    "duration": 6,
    "start_time": "2024-12-22T18:43:16.076Z"
   },
   {
    "duration": 9,
    "start_time": "2024-12-22T18:43:16.112Z"
   },
   {
    "duration": 16,
    "start_time": "2024-12-22T18:43:16.123Z"
   },
   {
    "duration": 17,
    "start_time": "2024-12-22T18:43:16.141Z"
   },
   {
    "duration": 8,
    "start_time": "2024-12-22T18:43:16.159Z"
   },
   {
    "duration": 18,
    "start_time": "2024-12-22T18:43:16.168Z"
   },
   {
    "duration": 5,
    "start_time": "2024-12-22T18:43:16.187Z"
   },
   {
    "duration": 6,
    "start_time": "2024-12-22T18:43:16.211Z"
   },
   {
    "duration": 7,
    "start_time": "2024-12-22T18:43:16.219Z"
   },
   {
    "duration": 4,
    "start_time": "2024-12-22T18:43:16.228Z"
   },
   {
    "duration": 214,
    "start_time": "2024-12-22T18:43:16.233Z"
   },
   {
    "duration": 198,
    "start_time": "2024-12-22T18:43:16.448Z"
   },
   {
    "duration": 117,
    "start_time": "2024-12-22T18:43:16.648Z"
   },
   {
    "duration": 7,
    "start_time": "2024-12-22T18:43:16.768Z"
   },
   {
    "duration": 237,
    "start_time": "2024-12-22T18:43:16.776Z"
   },
   {
    "duration": 8,
    "start_time": "2024-12-22T18:43:17.015Z"
   },
   {
    "duration": 196,
    "start_time": "2024-12-22T18:43:17.029Z"
   },
   {
    "duration": 5,
    "start_time": "2024-12-22T18:43:17.227Z"
   },
   {
    "duration": 183,
    "start_time": "2024-12-22T18:43:17.233Z"
   },
   {
    "duration": 4,
    "start_time": "2024-12-22T18:43:17.418Z"
   },
   {
    "duration": 9,
    "start_time": "2024-12-22T18:43:17.423Z"
   },
   {
    "duration": 10,
    "start_time": "2024-12-22T18:43:17.433Z"
   },
   {
    "duration": 5,
    "start_time": "2024-12-22T18:43:17.444Z"
   },
   {
    "duration": 8,
    "start_time": "2024-12-22T18:43:17.450Z"
   },
   {
    "duration": 18,
    "start_time": "2024-12-22T18:43:17.459Z"
   },
   {
    "duration": 38,
    "start_time": "2024-12-22T18:43:17.479Z"
   },
   {
    "duration": 10,
    "start_time": "2024-12-22T18:43:17.518Z"
   },
   {
    "duration": 248,
    "start_time": "2024-12-22T18:43:17.530Z"
   },
   {
    "duration": 271,
    "start_time": "2024-12-22T18:43:17.779Z"
   },
   {
    "duration": 353,
    "start_time": "2024-12-22T18:43:18.051Z"
   },
   {
    "duration": 10,
    "start_time": "2024-12-22T18:43:18.406Z"
   },
   {
    "duration": 7,
    "start_time": "2024-12-22T18:43:18.418Z"
   },
   {
    "duration": 255,
    "start_time": "2024-12-22T18:43:18.426Z"
   },
   {
    "duration": 326,
    "start_time": "2024-12-22T18:43:18.682Z"
   },
   {
    "duration": 379,
    "start_time": "2024-12-22T18:43:19.011Z"
   },
   {
    "duration": 7,
    "start_time": "2024-12-22T18:43:19.392Z"
   },
   {
    "duration": 15,
    "start_time": "2024-12-22T18:43:19.400Z"
   },
   {
    "duration": 15,
    "start_time": "2024-12-22T18:43:19.417Z"
   },
   {
    "duration": 18,
    "start_time": "2024-12-22T18:43:19.433Z"
   },
   {
    "duration": 3,
    "start_time": "2024-12-22T18:43:19.453Z"
   },
   {
    "duration": 173,
    "start_time": "2024-12-22T18:43:19.457Z"
   },
   {
    "duration": 6,
    "start_time": "2024-12-22T18:43:19.631Z"
   },
   {
    "duration": 5,
    "start_time": "2024-12-22T18:43:19.639Z"
   },
   {
    "duration": 9,
    "start_time": "2024-12-22T18:43:19.645Z"
   },
   {
    "duration": 4,
    "start_time": "2024-12-22T18:43:19.655Z"
   },
   {
    "duration": 3,
    "start_time": "2024-12-22T18:43:19.661Z"
   },
   {
    "duration": 8,
    "start_time": "2024-12-22T18:43:19.666Z"
   },
   {
    "duration": 39,
    "start_time": "2024-12-22T18:43:19.675Z"
   },
   {
    "duration": 30,
    "start_time": "2024-12-22T18:43:19.715Z"
   },
   {
    "duration": 1432,
    "start_time": "2024-12-22T18:43:19.747Z"
   },
   {
    "duration": 6,
    "start_time": "2024-12-22T18:43:21.181Z"
   },
   {
    "duration": 3014,
    "start_time": "2024-12-22T18:43:21.188Z"
   },
   {
    "duration": 937,
    "start_time": "2024-12-22T18:43:27.810Z"
   },
   {
    "duration": 1136,
    "start_time": "2024-12-22T18:43:34.785Z"
   },
   {
    "duration": 68,
    "start_time": "2024-12-22T18:43:35.924Z"
   },
   {
    "duration": 11,
    "start_time": "2024-12-22T18:43:35.993Z"
   },
   {
    "duration": 312,
    "start_time": "2024-12-22T18:43:36.006Z"
   },
   {
    "duration": 284,
    "start_time": "2024-12-22T18:43:36.319Z"
   },
   {
    "duration": 15,
    "start_time": "2024-12-22T18:43:36.605Z"
   },
   {
    "duration": 37,
    "start_time": "2024-12-22T18:43:36.621Z"
   },
   {
    "duration": 21,
    "start_time": "2024-12-22T18:43:36.660Z"
   },
   {
    "duration": 501,
    "start_time": "2024-12-22T18:43:36.682Z"
   },
   {
    "duration": 8,
    "start_time": "2024-12-22T18:43:37.186Z"
   },
   {
    "duration": 15,
    "start_time": "2024-12-22T18:43:37.210Z"
   },
   {
    "duration": 6,
    "start_time": "2024-12-22T18:43:37.226Z"
   },
   {
    "duration": 9,
    "start_time": "2024-12-22T18:43:37.233Z"
   },
   {
    "duration": 10,
    "start_time": "2024-12-22T18:43:37.243Z"
   },
   {
    "duration": 9,
    "start_time": "2024-12-22T18:43:37.254Z"
   },
   {
    "duration": 6,
    "start_time": "2024-12-22T18:43:37.264Z"
   },
   {
    "duration": 41,
    "start_time": "2024-12-22T18:43:37.271Z"
   },
   {
    "duration": 4,
    "start_time": "2024-12-22T18:43:37.314Z"
   },
   {
    "duration": 10,
    "start_time": "2024-12-22T18:43:37.319Z"
   },
   {
    "duration": 4,
    "start_time": "2024-12-22T18:43:37.331Z"
   },
   {
    "duration": 5,
    "start_time": "2024-12-22T18:43:37.336Z"
   },
   {
    "duration": 211,
    "start_time": "2024-12-22T18:43:37.342Z"
   },
   {
    "duration": 192,
    "start_time": "2024-12-22T18:43:37.555Z"
   },
   {
    "duration": 99,
    "start_time": "2024-12-22T18:43:37.749Z"
   },
   {
    "duration": 6,
    "start_time": "2024-12-22T18:43:37.849Z"
   },
   {
    "duration": 261,
    "start_time": "2024-12-22T18:43:37.856Z"
   },
   {
    "duration": 7,
    "start_time": "2024-12-22T18:43:38.119Z"
   },
   {
    "duration": 190,
    "start_time": "2024-12-22T18:43:38.129Z"
   },
   {
    "duration": 4,
    "start_time": "2024-12-22T18:43:38.320Z"
   },
   {
    "duration": 183,
    "start_time": "2024-12-22T18:43:38.325Z"
   },
   {
    "duration": 4,
    "start_time": "2024-12-22T18:43:38.510Z"
   },
   {
    "duration": 8,
    "start_time": "2024-12-22T18:43:38.515Z"
   },
   {
    "duration": 10,
    "start_time": "2024-12-22T18:43:38.524Z"
   },
   {
    "duration": 3,
    "start_time": "2024-12-22T18:43:38.535Z"
   },
   {
    "duration": 23,
    "start_time": "2024-12-22T18:43:38.539Z"
   },
   {
    "duration": 15,
    "start_time": "2024-12-22T18:43:38.564Z"
   },
   {
    "duration": 35,
    "start_time": "2024-12-22T18:43:38.580Z"
   },
   {
    "duration": 8,
    "start_time": "2024-12-22T18:43:38.617Z"
   },
   {
    "duration": 251,
    "start_time": "2024-12-22T18:43:38.627Z"
   },
   {
    "duration": 248,
    "start_time": "2024-12-22T18:43:38.879Z"
   },
   {
    "duration": 351,
    "start_time": "2024-12-22T18:43:39.129Z"
   },
   {
    "duration": 9,
    "start_time": "2024-12-22T18:43:39.481Z"
   },
   {
    "duration": 21,
    "start_time": "2024-12-22T18:43:39.491Z"
   },
   {
    "duration": 247,
    "start_time": "2024-12-22T18:43:39.513Z"
   },
   {
    "duration": 330,
    "start_time": "2024-12-22T18:43:39.762Z"
   },
   {
    "duration": 392,
    "start_time": "2024-12-22T18:43:40.094Z"
   },
   {
    "duration": 8,
    "start_time": "2024-12-22T18:43:40.487Z"
   },
   {
    "duration": 22,
    "start_time": "2024-12-22T18:43:40.496Z"
   },
   {
    "duration": 11,
    "start_time": "2024-12-22T18:43:40.520Z"
   },
   {
    "duration": 17,
    "start_time": "2024-12-22T18:43:40.533Z"
   },
   {
    "duration": 3,
    "start_time": "2024-12-22T18:43:40.552Z"
   },
   {
    "duration": 193,
    "start_time": "2024-12-22T18:43:40.557Z"
   },
   {
    "duration": 10,
    "start_time": "2024-12-22T18:43:40.752Z"
   },
   {
    "duration": 4,
    "start_time": "2024-12-22T18:43:40.763Z"
   },
   {
    "duration": 12,
    "start_time": "2024-12-22T18:43:40.768Z"
   },
   {
    "duration": 32,
    "start_time": "2024-12-22T18:43:40.782Z"
   },
   {
    "duration": 5,
    "start_time": "2024-12-22T18:43:40.816Z"
   },
   {
    "duration": 12,
    "start_time": "2024-12-22T18:43:40.823Z"
   },
   {
    "duration": 5,
    "start_time": "2024-12-22T18:43:40.837Z"
   },
   {
    "duration": 74,
    "start_time": "2024-12-22T18:43:40.844Z"
   },
   {
    "duration": 1420,
    "start_time": "2024-12-22T18:43:40.920Z"
   },
   {
    "duration": 6,
    "start_time": "2024-12-22T18:43:42.342Z"
   },
   {
    "duration": 2734,
    "start_time": "2024-12-22T18:43:42.349Z"
   },
   {
    "duration": 1435,
    "start_time": "2024-12-22T18:55:44.124Z"
   },
   {
    "duration": 313,
    "start_time": "2024-12-22T18:55:45.561Z"
   },
   {
    "duration": 12,
    "start_time": "2024-12-22T18:55:45.875Z"
   },
   {
    "duration": 357,
    "start_time": "2024-12-22T18:55:45.890Z"
   },
   {
    "duration": 327,
    "start_time": "2024-12-22T18:55:46.248Z"
   },
   {
    "duration": 21,
    "start_time": "2024-12-22T18:55:46.577Z"
   },
   {
    "duration": 20,
    "start_time": "2024-12-22T18:55:46.600Z"
   },
   {
    "duration": 12,
    "start_time": "2024-12-22T18:55:46.622Z"
   },
   {
    "duration": 547,
    "start_time": "2024-12-22T18:55:46.635Z"
   },
   {
    "duration": 11,
    "start_time": "2024-12-22T18:55:47.188Z"
   },
   {
    "duration": 13,
    "start_time": "2024-12-22T18:55:47.201Z"
   },
   {
    "duration": 7,
    "start_time": "2024-12-22T18:55:47.215Z"
   },
   {
    "duration": 22,
    "start_time": "2024-12-22T18:55:47.223Z"
   },
   {
    "duration": 4,
    "start_time": "2024-12-22T18:55:47.247Z"
   },
   {
    "duration": 35,
    "start_time": "2024-12-22T18:55:47.253Z"
   },
   {
    "duration": 4,
    "start_time": "2024-12-22T18:55:47.291Z"
   },
   {
    "duration": 24,
    "start_time": "2024-12-22T18:55:47.297Z"
   },
   {
    "duration": 4,
    "start_time": "2024-12-22T18:55:47.323Z"
   },
   {
    "duration": 4,
    "start_time": "2024-12-22T18:55:47.329Z"
   },
   {
    "duration": 5,
    "start_time": "2024-12-22T18:55:47.335Z"
   },
   {
    "duration": 9,
    "start_time": "2024-12-22T18:55:47.341Z"
   },
   {
    "duration": 235,
    "start_time": "2024-12-22T18:55:47.353Z"
   },
   {
    "duration": 221,
    "start_time": "2024-12-22T18:55:47.590Z"
   },
   {
    "duration": 112,
    "start_time": "2024-12-22T18:55:47.813Z"
   },
   {
    "duration": 5,
    "start_time": "2024-12-22T18:55:47.927Z"
   },
   {
    "duration": 246,
    "start_time": "2024-12-22T18:55:47.934Z"
   },
   {
    "duration": 9,
    "start_time": "2024-12-22T18:55:48.182Z"
   },
   {
    "duration": 194,
    "start_time": "2024-12-22T18:55:48.196Z"
   },
   {
    "duration": 5,
    "start_time": "2024-12-22T18:55:48.393Z"
   },
   {
    "duration": 211,
    "start_time": "2024-12-22T18:55:48.401Z"
   },
   {
    "duration": 4,
    "start_time": "2024-12-22T18:55:48.614Z"
   },
   {
    "duration": 9,
    "start_time": "2024-12-22T18:55:48.620Z"
   },
   {
    "duration": 10,
    "start_time": "2024-12-22T18:55:48.631Z"
   },
   {
    "duration": 5,
    "start_time": "2024-12-22T18:55:48.642Z"
   },
   {
    "duration": 40,
    "start_time": "2024-12-22T18:55:48.649Z"
   },
   {
    "duration": 16,
    "start_time": "2024-12-22T18:55:48.690Z"
   },
   {
    "duration": 12,
    "start_time": "2024-12-22T18:55:48.707Z"
   },
   {
    "duration": 8,
    "start_time": "2024-12-22T18:55:48.720Z"
   },
   {
    "duration": 289,
    "start_time": "2024-12-22T18:55:48.730Z"
   },
   {
    "duration": 268,
    "start_time": "2024-12-22T18:55:49.021Z"
   },
   {
    "duration": 406,
    "start_time": "2024-12-22T18:55:49.292Z"
   },
   {
    "duration": 10,
    "start_time": "2024-12-22T18:55:49.699Z"
   },
   {
    "duration": 8,
    "start_time": "2024-12-22T18:55:49.711Z"
   },
   {
    "duration": 259,
    "start_time": "2024-12-22T18:55:49.720Z"
   },
   {
    "duration": 375,
    "start_time": "2024-12-22T18:55:49.981Z"
   },
   {
    "duration": 423,
    "start_time": "2024-12-22T18:55:50.358Z"
   },
   {
    "duration": 9,
    "start_time": "2024-12-22T18:55:50.786Z"
   },
   {
    "duration": 12,
    "start_time": "2024-12-22T18:55:50.796Z"
   },
   {
    "duration": 27,
    "start_time": "2024-12-22T18:55:50.810Z"
   },
   {
    "duration": 53,
    "start_time": "2024-12-22T18:55:50.839Z"
   },
   {
    "duration": 6,
    "start_time": "2024-12-22T18:55:50.894Z"
   },
   {
    "duration": 184,
    "start_time": "2024-12-22T18:55:50.902Z"
   },
   {
    "duration": 12,
    "start_time": "2024-12-22T18:55:51.089Z"
   },
   {
    "duration": 21,
    "start_time": "2024-12-22T18:55:51.103Z"
   },
   {
    "duration": 10,
    "start_time": "2024-12-22T18:55:51.125Z"
   },
   {
    "duration": 11,
    "start_time": "2024-12-22T18:55:51.136Z"
   },
   {
    "duration": 7,
    "start_time": "2024-12-22T18:55:51.148Z"
   },
   {
    "duration": 11,
    "start_time": "2024-12-22T18:55:51.157Z"
   },
   {
    "duration": 15,
    "start_time": "2024-12-22T18:55:51.169Z"
   },
   {
    "duration": 47,
    "start_time": "2024-12-22T18:55:51.187Z"
   },
   {
    "duration": 1562,
    "start_time": "2024-12-22T18:55:51.235Z"
   },
   {
    "duration": 9,
    "start_time": "2024-12-22T18:55:52.800Z"
   },
   {
    "duration": 2952,
    "start_time": "2024-12-22T18:55:52.810Z"
   },
   {
    "duration": 296,
    "start_time": "2024-12-22T18:59:46.779Z"
   }
  ],
  "kernelspec": {
   "display_name": "Python 3 (ipykernel)",
   "language": "python",
   "name": "python3"
  },
  "language_info": {
   "codemirror_mode": {
    "name": "ipython",
    "version": 3
   },
   "file_extension": ".py",
   "mimetype": "text/x-python",
   "name": "python",
   "nbconvert_exporter": "python",
   "pygments_lexer": "ipython3",
   "version": "3.12.7"
  },
  "toc": {
   "base_numbering": 1,
   "nav_menu": {},
   "number_sections": true,
   "sideBar": true,
   "skip_h1_title": true,
   "title_cell": "Table of Contents",
   "title_sidebar": "Contents",
   "toc_cell": false,
   "toc_position": {
    "height": "calc(100% - 180px)",
    "left": "10px",
    "top": "150px",
    "width": "361.594px"
   },
   "toc_section_display": true,
   "toc_window_display": false
  }
 },
 "nbformat": 4,
 "nbformat_minor": 5
}
