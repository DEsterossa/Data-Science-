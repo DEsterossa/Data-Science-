{
 "cells": [
  {
   "cell_type": "markdown",
   "metadata": {
    "id": "-VFbjcb3Awb7"
   },
   "source": [
    "# Исследование объявлений о продаже квартир\n",
    "\n",
    "В вашем распоряжении данные сервиса Яндекс Недвижимость — архив объявлений о продаже квартир в Санкт-Петербурге и соседних населённых пунктах за несколько лет. Вам нужно научиться определять рыночную стоимость объектов недвижимости. Для этого проведите исследовательский анализ данных и установите параметры, влияющие на цену объектов. Это позволит построить автоматизированную систему: она отследит аномалии и мошенническую деятельность.\n",
    "\n",
    "По каждой квартире на продажу доступны два вида данных. Первые вписаны пользователем, вторые — получены автоматически на основе картографических данных. Например, расстояние до центра, аэропорта и других объектов — эти данные автоматически получены из геосервисов. Количество парков и водоёмов также заполняется без участия пользователя."
   ]
  },
  {
   "cell_type": "markdown",
   "metadata": {},
   "source": [
    "**Цель работы**: найти параметры, которые больше всего влияют на цену квартир в Санкт-Петербурге и соседних населённых пунктах за несколько лет.\n",
    "\n",
    "**План работы**: \n",
    "1. Изучить общую информацию о данных.\n",
    "2. Выполнить предобработку данных\n",
    "3. Добавить в таблицу новые параметры.\n",
    "4. Провести исследовательский анализ данных.\n"
   ]
  },
  {
   "cell_type": "markdown",
   "metadata": {
    "id": "aeFLH07FAwb9"
   },
   "source": [
    "## Загрузка данных и изучение общей информации"
   ]
  },
  {
   "cell_type": "code",
   "execution_count": 1,
   "metadata": {},
   "outputs": [],
   "source": [
    "import pandas as pd\n",
    "\n",
    "import seaborn as sns\n",
    "import matplotlib.pyplot as plt\n",
    "\n",
    "from sklearn.experimental import enable_iterative_imputer\n",
    "from sklearn.impute import IterativeImputer\n",
    "\n",
    "import warnings\n",
    "\n",
    "warnings.filterwarnings(\"ignore\")"
   ]
  },
  {
   "cell_type": "code",
   "execution_count": 2,
   "metadata": {
    "id": "7MZxY65pAwb9"
   },
   "outputs": [],
   "source": [
    "df = pd.read_csv('/datasets/real_estate_data.csv', delimiter='\\\\t', engine='python')"
   ]
  },
  {
   "cell_type": "code",
   "execution_count": 3,
   "metadata": {},
   "outputs": [
    {
     "data": {
      "text/html": [
       "<div>\n",
       "<style scoped>\n",
       "    .dataframe tbody tr th:only-of-type {\n",
       "        vertical-align: middle;\n",
       "    }\n",
       "\n",
       "    .dataframe tbody tr th {\n",
       "        vertical-align: top;\n",
       "    }\n",
       "\n",
       "    .dataframe thead th {\n",
       "        text-align: right;\n",
       "    }\n",
       "</style>\n",
       "<table border=\"1\" class=\"dataframe\">\n",
       "  <thead>\n",
       "    <tr style=\"text-align: right;\">\n",
       "      <th></th>\n",
       "      <th>total_images</th>\n",
       "      <th>last_price</th>\n",
       "      <th>total_area</th>\n",
       "      <th>first_day_exposition</th>\n",
       "      <th>rooms</th>\n",
       "      <th>ceiling_height</th>\n",
       "      <th>floors_total</th>\n",
       "      <th>living_area</th>\n",
       "      <th>floor</th>\n",
       "      <th>is_apartment</th>\n",
       "      <th>...</th>\n",
       "      <th>kitchen_area</th>\n",
       "      <th>balcony</th>\n",
       "      <th>locality_name</th>\n",
       "      <th>airports_nearest</th>\n",
       "      <th>cityCenters_nearest</th>\n",
       "      <th>parks_around3000</th>\n",
       "      <th>parks_nearest</th>\n",
       "      <th>ponds_around3000</th>\n",
       "      <th>ponds_nearest</th>\n",
       "      <th>days_exposition</th>\n",
       "    </tr>\n",
       "  </thead>\n",
       "  <tbody>\n",
       "    <tr>\n",
       "      <th>0</th>\n",
       "      <td>20</td>\n",
       "      <td>13000000.0</td>\n",
       "      <td>108.0</td>\n",
       "      <td>2019-03-07T00:00:00</td>\n",
       "      <td>3</td>\n",
       "      <td>2.70</td>\n",
       "      <td>16.0</td>\n",
       "      <td>51.0</td>\n",
       "      <td>8</td>\n",
       "      <td>NaN</td>\n",
       "      <td>...</td>\n",
       "      <td>25.0</td>\n",
       "      <td>NaN</td>\n",
       "      <td>Санкт-Петербург</td>\n",
       "      <td>18863.0</td>\n",
       "      <td>16028.0</td>\n",
       "      <td>1.0</td>\n",
       "      <td>482.0</td>\n",
       "      <td>2.0</td>\n",
       "      <td>755.0</td>\n",
       "      <td>NaN</td>\n",
       "    </tr>\n",
       "    <tr>\n",
       "      <th>1</th>\n",
       "      <td>7</td>\n",
       "      <td>3350000.0</td>\n",
       "      <td>40.4</td>\n",
       "      <td>2018-12-04T00:00:00</td>\n",
       "      <td>1</td>\n",
       "      <td>NaN</td>\n",
       "      <td>11.0</td>\n",
       "      <td>18.6</td>\n",
       "      <td>1</td>\n",
       "      <td>NaN</td>\n",
       "      <td>...</td>\n",
       "      <td>11.0</td>\n",
       "      <td>2.0</td>\n",
       "      <td>посёлок Шушары</td>\n",
       "      <td>12817.0</td>\n",
       "      <td>18603.0</td>\n",
       "      <td>0.0</td>\n",
       "      <td>NaN</td>\n",
       "      <td>0.0</td>\n",
       "      <td>NaN</td>\n",
       "      <td>81.0</td>\n",
       "    </tr>\n",
       "    <tr>\n",
       "      <th>2</th>\n",
       "      <td>10</td>\n",
       "      <td>5196000.0</td>\n",
       "      <td>56.0</td>\n",
       "      <td>2015-08-20T00:00:00</td>\n",
       "      <td>2</td>\n",
       "      <td>NaN</td>\n",
       "      <td>5.0</td>\n",
       "      <td>34.3</td>\n",
       "      <td>4</td>\n",
       "      <td>NaN</td>\n",
       "      <td>...</td>\n",
       "      <td>8.3</td>\n",
       "      <td>0.0</td>\n",
       "      <td>Санкт-Петербург</td>\n",
       "      <td>21741.0</td>\n",
       "      <td>13933.0</td>\n",
       "      <td>1.0</td>\n",
       "      <td>90.0</td>\n",
       "      <td>2.0</td>\n",
       "      <td>574.0</td>\n",
       "      <td>558.0</td>\n",
       "    </tr>\n",
       "    <tr>\n",
       "      <th>3</th>\n",
       "      <td>0</td>\n",
       "      <td>64900000.0</td>\n",
       "      <td>159.0</td>\n",
       "      <td>2015-07-24T00:00:00</td>\n",
       "      <td>3</td>\n",
       "      <td>NaN</td>\n",
       "      <td>14.0</td>\n",
       "      <td>NaN</td>\n",
       "      <td>9</td>\n",
       "      <td>NaN</td>\n",
       "      <td>...</td>\n",
       "      <td>NaN</td>\n",
       "      <td>0.0</td>\n",
       "      <td>Санкт-Петербург</td>\n",
       "      <td>28098.0</td>\n",
       "      <td>6800.0</td>\n",
       "      <td>2.0</td>\n",
       "      <td>84.0</td>\n",
       "      <td>3.0</td>\n",
       "      <td>234.0</td>\n",
       "      <td>424.0</td>\n",
       "    </tr>\n",
       "    <tr>\n",
       "      <th>4</th>\n",
       "      <td>2</td>\n",
       "      <td>10000000.0</td>\n",
       "      <td>100.0</td>\n",
       "      <td>2018-06-19T00:00:00</td>\n",
       "      <td>2</td>\n",
       "      <td>3.03</td>\n",
       "      <td>14.0</td>\n",
       "      <td>32.0</td>\n",
       "      <td>13</td>\n",
       "      <td>NaN</td>\n",
       "      <td>...</td>\n",
       "      <td>41.0</td>\n",
       "      <td>NaN</td>\n",
       "      <td>Санкт-Петербург</td>\n",
       "      <td>31856.0</td>\n",
       "      <td>8098.0</td>\n",
       "      <td>2.0</td>\n",
       "      <td>112.0</td>\n",
       "      <td>1.0</td>\n",
       "      <td>48.0</td>\n",
       "      <td>121.0</td>\n",
       "    </tr>\n",
       "  </tbody>\n",
       "</table>\n",
       "<p>5 rows × 22 columns</p>\n",
       "</div>"
      ],
      "text/plain": [
       "   total_images  last_price  total_area first_day_exposition  rooms  \\\n",
       "0            20  13000000.0       108.0  2019-03-07T00:00:00      3   \n",
       "1             7   3350000.0        40.4  2018-12-04T00:00:00      1   \n",
       "2            10   5196000.0        56.0  2015-08-20T00:00:00      2   \n",
       "3             0  64900000.0       159.0  2015-07-24T00:00:00      3   \n",
       "4             2  10000000.0       100.0  2018-06-19T00:00:00      2   \n",
       "\n",
       "   ceiling_height  floors_total  living_area  floor is_apartment  ...  \\\n",
       "0            2.70          16.0         51.0      8          NaN  ...   \n",
       "1             NaN          11.0         18.6      1          NaN  ...   \n",
       "2             NaN           5.0         34.3      4          NaN  ...   \n",
       "3             NaN          14.0          NaN      9          NaN  ...   \n",
       "4            3.03          14.0         32.0     13          NaN  ...   \n",
       "\n",
       "   kitchen_area  balcony    locality_name  airports_nearest  \\\n",
       "0          25.0      NaN  Санкт-Петербург           18863.0   \n",
       "1          11.0      2.0   посёлок Шушары           12817.0   \n",
       "2           8.3      0.0  Санкт-Петербург           21741.0   \n",
       "3           NaN      0.0  Санкт-Петербург           28098.0   \n",
       "4          41.0      NaN  Санкт-Петербург           31856.0   \n",
       "\n",
       "  cityCenters_nearest  parks_around3000  parks_nearest  ponds_around3000  \\\n",
       "0             16028.0               1.0          482.0               2.0   \n",
       "1             18603.0               0.0            NaN               0.0   \n",
       "2             13933.0               1.0           90.0               2.0   \n",
       "3              6800.0               2.0           84.0               3.0   \n",
       "4              8098.0               2.0          112.0               1.0   \n",
       "\n",
       "   ponds_nearest  days_exposition  \n",
       "0          755.0              NaN  \n",
       "1            NaN             81.0  \n",
       "2          574.0            558.0  \n",
       "3          234.0            424.0  \n",
       "4           48.0            121.0  \n",
       "\n",
       "[5 rows x 22 columns]"
      ]
     },
     "execution_count": 3,
     "metadata": {},
     "output_type": "execute_result"
    }
   ],
   "source": [
    "df.head()"
   ]
  },
  {
   "cell_type": "code",
   "execution_count": 4,
   "metadata": {
    "scrolled": true
   },
   "outputs": [
    {
     "name": "stdout",
     "output_type": "stream",
     "text": [
      "<class 'pandas.core.frame.DataFrame'>\n",
      "RangeIndex: 23699 entries, 0 to 23698\n",
      "Data columns (total 22 columns):\n",
      " #   Column                Non-Null Count  Dtype  \n",
      "---  ------                --------------  -----  \n",
      " 0   total_images          23699 non-null  int64  \n",
      " 1   last_price            23699 non-null  float64\n",
      " 2   total_area            23699 non-null  float64\n",
      " 3   first_day_exposition  23699 non-null  object \n",
      " 4   rooms                 23699 non-null  int64  \n",
      " 5   ceiling_height        14504 non-null  float64\n",
      " 6   floors_total          23613 non-null  float64\n",
      " 7   living_area           21796 non-null  float64\n",
      " 8   floor                 23699 non-null  int64  \n",
      " 9   is_apartment          2775 non-null   object \n",
      " 10  studio                23699 non-null  bool   \n",
      " 11  open_plan             23699 non-null  bool   \n",
      " 12  kitchen_area          21421 non-null  float64\n",
      " 13  balcony               12180 non-null  float64\n",
      " 14  locality_name         23650 non-null  object \n",
      " 15  airports_nearest      18157 non-null  float64\n",
      " 16  cityCenters_nearest   18180 non-null  float64\n",
      " 17  parks_around3000      18181 non-null  float64\n",
      " 18  parks_nearest         8079 non-null   float64\n",
      " 19  ponds_around3000      18181 non-null  float64\n",
      " 20  ponds_nearest         9110 non-null   float64\n",
      " 21  days_exposition       20518 non-null  float64\n",
      "dtypes: bool(2), float64(14), int64(3), object(3)\n",
      "memory usage: 3.7+ MB\n"
     ]
    }
   ],
   "source": [
    "df.info()"
   ]
  },
  {
   "cell_type": "code",
   "execution_count": 5,
   "metadata": {},
   "outputs": [
    {
     "data": {
      "text/plain": [
       "array([[<AxesSubplot:title={'center':'total_images'}>,\n",
       "        <AxesSubplot:title={'center':'last_price'}>,\n",
       "        <AxesSubplot:title={'center':'total_area'}>,\n",
       "        <AxesSubplot:title={'center':'rooms'}>],\n",
       "       [<AxesSubplot:title={'center':'ceiling_height'}>,\n",
       "        <AxesSubplot:title={'center':'floors_total'}>,\n",
       "        <AxesSubplot:title={'center':'living_area'}>,\n",
       "        <AxesSubplot:title={'center':'floor'}>],\n",
       "       [<AxesSubplot:title={'center':'kitchen_area'}>,\n",
       "        <AxesSubplot:title={'center':'balcony'}>,\n",
       "        <AxesSubplot:title={'center':'airports_nearest'}>,\n",
       "        <AxesSubplot:title={'center':'cityCenters_nearest'}>],\n",
       "       [<AxesSubplot:title={'center':'parks_around3000'}>,\n",
       "        <AxesSubplot:title={'center':'parks_nearest'}>,\n",
       "        <AxesSubplot:title={'center':'ponds_around3000'}>,\n",
       "        <AxesSubplot:title={'center':'ponds_nearest'}>],\n",
       "       [<AxesSubplot:title={'center':'days_exposition'}>, <AxesSubplot:>,\n",
       "        <AxesSubplot:>, <AxesSubplot:>]], dtype=object)"
      ]
     },
     "execution_count": 5,
     "metadata": {},
     "output_type": "execute_result"
    },
    {
     "data": {
      "image/png": "[encoded data removed]",
      "text/plain": [
       "<Figure size 1080x1440 with 20 Axes>"
      ]
     },
     "metadata": {
      "needs_background": "light"
     },
     "output_type": "display_data"
    }
   ],
   "source": [
    "df.hist(figsize=(15, 20))"
   ]
  },
  {
   "cell_type": "markdown",
   "metadata": {},
   "source": [
    "В большинстве столбцов данные не соответствуют распределению Пуассона. А значит, в них есть значения, которые могут помешать исследованию"
   ]
  },
  {
   "cell_type": "code",
   "execution_count": 6,
   "metadata": {},
   "outputs": [
    {
     "data": {
      "text/plain": [
       "0"
      ]
     },
     "execution_count": 6,
     "metadata": {},
     "output_type": "execute_result"
    }
   ],
   "source": [
    "df.duplicated().sum()"
   ]
  },
  {
   "cell_type": "markdown",
   "metadata": {},
   "source": [
    "**Обзор данных**:\n",
    "- в некоторых параметрах слишком много пропущенных значений, что может препятствовать исследовательскому анализу данных,\n",
    "- параметры *first_day_exposition* и *is_apartment* имеют некорректный тип данных, также в целях аналитики следует изменить тип данных для столбцов *open_plan* и *studio*,\n",
    "- в столбцах *ceiling_height*, *floors_total*, *last_price*, *living_area* присутствуют аномальные значения,\n",
    "- явные дубликаты в данных не замечены."
   ]
  },
  {
   "cell_type": "markdown",
   "metadata": {
    "id": "-O5NtivEAwb9"
   },
   "source": [
    "## Предобработка данных"
   ]
  },
  {
   "cell_type": "markdown",
   "metadata": {},
   "source": [
    "### Поиск и изучение пропущенных значений в столбцах"
   ]
  },
  {
   "cell_type": "code",
   "execution_count": 7,
   "metadata": {},
   "outputs": [
    {
     "data": {
      "text/plain": [
       "is_apartment            88.290645\n",
       "parks_nearest           65.909954\n",
       "ponds_nearest           61.559559\n",
       "balcony                 48.605426\n",
       "ceiling_height          38.799105\n",
       "airports_nearest        23.384953\n",
       "cityCenters_nearest     23.287902\n",
       "ponds_around3000        23.283683\n",
       "parks_around3000        23.283683\n",
       "days_exposition         13.422507\n",
       "kitchen_area             9.612220\n",
       "living_area              8.029875\n",
       "floors_total             0.362885\n",
       "locality_name            0.206760\n",
       "total_images             0.000000\n",
       "last_price               0.000000\n",
       "studio                   0.000000\n",
       "floor                    0.000000\n",
       "rooms                    0.000000\n",
       "first_day_exposition     0.000000\n",
       "total_area               0.000000\n",
       "open_plan                0.000000\n",
       "dtype: float64"
      ]
     },
     "execution_count": 7,
     "metadata": {},
     "output_type": "execute_result"
    }
   ],
   "source": [
    "df.isna().mean().sort_values(ascending=False)*100"
   ]
  },
  {
   "cell_type": "markdown",
   "metadata": {},
   "source": [
    "В столбцах *is_apartment, balcony, park_nearest, ponds_nearest, ceiling_height* слишком много пропусков. Такие пустые столбцы можно было бы удалить, однако их данные могут сильно влиять на итоговую цену.\n",
    "Проверим, как они коррелируют с ценой с помощью heatmap."
   ]
  },
  {
   "cell_type": "code",
   "execution_count": 8,
   "metadata": {
    "scrolled": true
   },
   "outputs": [
    {
     "data": {
      "text/plain": [
       "<AxesSubplot:>"
      ]
     },
     "execution_count": 8,
     "metadata": {},
     "output_type": "execute_result"
    },
    {
     "data": {
      "image/png": "[encoded data removed]",
      "text/plain": [
       "<Figure size 720x720 with 2 Axes>"
      ]
     },
     "metadata": {
      "needs_background": "light"
     },
     "output_type": "display_data"
    }
   ],
   "source": [
    "df2 = df.copy()\n",
    "df2.dropna(subset=['is_apartment'], inplace=True)\n",
    "df2['is_apartment'] = df2['is_apartment'].astype(int)  \n",
    "\n",
    "plt.figure(figsize=(10, 10))\n",
    "sns.heatmap(df2.corr(), annot=True, fmt=\".1f\")"
   ]
  },
  {
   "cell_type": "markdown",
   "metadata": {},
   "source": [
    "На графике видно, что данные из столбцов *is_apartment, balcony, park_nearest, ponds_nearest* слабо влияют на цену, а также плохо взаимосвязаны с другими значениями, значит от них можно смело избавляться.\n",
    "В то же время пропусков в *floors_total, locality_name* довольно мало, так что строки с пропусками в этих столбцах просто удалим."
   ]
  },
  {
   "cell_type": "code",
   "execution_count": 9,
   "metadata": {},
   "outputs": [],
   "source": [
    "df3 = df.drop(columns=['is_apartment', 'balcony', 'parks_nearest', 'ponds_nearest'])\n",
    "df3.dropna(subset=['floors_total', 'locality_name'], inplace=True)"
   ]
  },
  {
   "cell_type": "markdown",
   "metadata": {},
   "source": [
    "Оставшиеся столбцы с пропусками зависят от значений в других столбцах, так что пропущенные данные можно восстановить, оценивая другие значения в наборе с помощью класса *IterativeImputer*"
   ]
  },
  {
   "cell_type": "code",
   "execution_count": 10,
   "metadata": {},
   "outputs": [],
   "source": [
    "numeric_cols = [cname for cname in df3.columns if df3[cname].dtype in ['int64', 'float64']]"
   ]
  },
  {
   "cell_type": "code",
   "execution_count": 11,
   "metadata": {},
   "outputs": [],
   "source": [
    "imputer = IterativeImputer()\n",
    "df4 = df3[numeric_cols]\n",
    "imputer.fit(df4)\n",
    "df5 = pd.DataFrame(imputer.transform(df4), columns=numeric_cols)"
   ]
  },
  {
   "cell_type": "code",
   "execution_count": 12,
   "metadata": {},
   "outputs": [],
   "source": [
    "df6 = df3.copy()\n",
    "df6[numeric_cols] = df5[numeric_cols]\n",
    "df6.dropna(inplace=True)"
   ]
  },
  {
   "cell_type": "code",
   "execution_count": 13,
   "metadata": {},
   "outputs": [
    {
     "data": {
      "text/plain": [
       "total_images            0\n",
       "last_price              0\n",
       "total_area              0\n",
       "first_day_exposition    0\n",
       "rooms                   0\n",
       "ceiling_height          0\n",
       "floors_total            0\n",
       "living_area             0\n",
       "floor                   0\n",
       "studio                  0\n",
       "open_plan               0\n",
       "kitchen_area            0\n",
       "locality_name           0\n",
       "airports_nearest        0\n",
       "cityCenters_nearest     0\n",
       "parks_around3000        0\n",
       "ponds_around3000        0\n",
       "days_exposition         0\n",
       "dtype: int64"
      ]
     },
     "execution_count": 13,
     "metadata": {},
     "output_type": "execute_result"
    }
   ],
   "source": [
    "df6.isna().sum()"
   ]
  },
  {
   "cell_type": "markdown",
   "metadata": {},
   "source": [
    "В результате, мы получаем таблицу без пропусков"
   ]
  },
  {
   "cell_type": "markdown",
   "metadata": {},
   "source": [
    "Причинами пропусков в данных являются технические ошибки(так, в некоторых поселениях вообще нет прудов, парков и аэропортов) и челевеческий фактор(люди могли просто не указать количество балконов и высоту потолка)"
   ]
  },
  {
   "cell_type": "markdown",
   "metadata": {},
   "source": [
    "### Изменение типов данных в столбцах"
   ]
  },
  {
   "cell_type": "code",
   "execution_count": 14,
   "metadata": {
    "scrolled": true
   },
   "outputs": [
    {
     "data": {
      "text/html": [
       "<div>\n",
       "<style scoped>\n",
       "    .dataframe tbody tr th:only-of-type {\n",
       "        vertical-align: middle;\n",
       "    }\n",
       "\n",
       "    .dataframe tbody tr th {\n",
       "        vertical-align: top;\n",
       "    }\n",
       "\n",
       "    .dataframe thead th {\n",
       "        text-align: right;\n",
       "    }\n",
       "</style>\n",
       "<table border=\"1\" class=\"dataframe\">\n",
       "  <thead>\n",
       "    <tr style=\"text-align: right;\">\n",
       "      <th></th>\n",
       "      <th>total_images</th>\n",
       "      <th>last_price</th>\n",
       "      <th>total_area</th>\n",
       "      <th>first_day_exposition</th>\n",
       "      <th>rooms</th>\n",
       "      <th>ceiling_height</th>\n",
       "      <th>floors_total</th>\n",
       "      <th>living_area</th>\n",
       "      <th>floor</th>\n",
       "      <th>studio</th>\n",
       "      <th>open_plan</th>\n",
       "      <th>kitchen_area</th>\n",
       "      <th>locality_name</th>\n",
       "      <th>airports_nearest</th>\n",
       "      <th>cityCenters_nearest</th>\n",
       "      <th>parks_around3000</th>\n",
       "      <th>ponds_around3000</th>\n",
       "      <th>days_exposition</th>\n",
       "    </tr>\n",
       "  </thead>\n",
       "  <tbody>\n",
       "    <tr>\n",
       "      <th>0</th>\n",
       "      <td>20.0</td>\n",
       "      <td>13000000.0</td>\n",
       "      <td>108.0</td>\n",
       "      <td>2019-03-07T00:00:00</td>\n",
       "      <td>3.0</td>\n",
       "      <td>2.700000</td>\n",
       "      <td>16.0</td>\n",
       "      <td>51.000000</td>\n",
       "      <td>8.0</td>\n",
       "      <td>False</td>\n",
       "      <td>False</td>\n",
       "      <td>25.000000</td>\n",
       "      <td>Санкт-Петербург</td>\n",
       "      <td>18863.0</td>\n",
       "      <td>16028.0</td>\n",
       "      <td>1.0</td>\n",
       "      <td>2.0</td>\n",
       "      <td>226.805513</td>\n",
       "    </tr>\n",
       "    <tr>\n",
       "      <th>1</th>\n",
       "      <td>7.0</td>\n",
       "      <td>3350000.0</td>\n",
       "      <td>40.4</td>\n",
       "      <td>2018-12-04T00:00:00</td>\n",
       "      <td>1.0</td>\n",
       "      <td>2.633656</td>\n",
       "      <td>11.0</td>\n",
       "      <td>18.600000</td>\n",
       "      <td>1.0</td>\n",
       "      <td>False</td>\n",
       "      <td>False</td>\n",
       "      <td>11.000000</td>\n",
       "      <td>посёлок Шушары</td>\n",
       "      <td>12817.0</td>\n",
       "      <td>18603.0</td>\n",
       "      <td>0.0</td>\n",
       "      <td>0.0</td>\n",
       "      <td>81.000000</td>\n",
       "    </tr>\n",
       "    <tr>\n",
       "      <th>2</th>\n",
       "      <td>10.0</td>\n",
       "      <td>5196000.0</td>\n",
       "      <td>56.0</td>\n",
       "      <td>2015-08-20T00:00:00</td>\n",
       "      <td>2.0</td>\n",
       "      <td>2.864729</td>\n",
       "      <td>5.0</td>\n",
       "      <td>34.300000</td>\n",
       "      <td>4.0</td>\n",
       "      <td>False</td>\n",
       "      <td>False</td>\n",
       "      <td>8.300000</td>\n",
       "      <td>Санкт-Петербург</td>\n",
       "      <td>21741.0</td>\n",
       "      <td>13933.0</td>\n",
       "      <td>1.0</td>\n",
       "      <td>2.0</td>\n",
       "      <td>558.000000</td>\n",
       "    </tr>\n",
       "    <tr>\n",
       "      <th>3</th>\n",
       "      <td>0.0</td>\n",
       "      <td>64900000.0</td>\n",
       "      <td>159.0</td>\n",
       "      <td>2015-07-24T00:00:00</td>\n",
       "      <td>3.0</td>\n",
       "      <td>3.422242</td>\n",
       "      <td>14.0</td>\n",
       "      <td>92.959048</td>\n",
       "      <td>9.0</td>\n",
       "      <td>False</td>\n",
       "      <td>False</td>\n",
       "      <td>23.296302</td>\n",
       "      <td>Санкт-Петербург</td>\n",
       "      <td>28098.0</td>\n",
       "      <td>6800.0</td>\n",
       "      <td>2.0</td>\n",
       "      <td>3.0</td>\n",
       "      <td>424.000000</td>\n",
       "    </tr>\n",
       "    <tr>\n",
       "      <th>4</th>\n",
       "      <td>2.0</td>\n",
       "      <td>10000000.0</td>\n",
       "      <td>100.0</td>\n",
       "      <td>2018-06-19T00:00:00</td>\n",
       "      <td>2.0</td>\n",
       "      <td>3.030000</td>\n",
       "      <td>14.0</td>\n",
       "      <td>32.000000</td>\n",
       "      <td>13.0</td>\n",
       "      <td>False</td>\n",
       "      <td>False</td>\n",
       "      <td>41.000000</td>\n",
       "      <td>Санкт-Петербург</td>\n",
       "      <td>31856.0</td>\n",
       "      <td>8098.0</td>\n",
       "      <td>2.0</td>\n",
       "      <td>1.0</td>\n",
       "      <td>121.000000</td>\n",
       "    </tr>\n",
       "  </tbody>\n",
       "</table>\n",
       "</div>"
      ],
      "text/plain": [
       "   total_images  last_price  total_area first_day_exposition  rooms  \\\n",
       "0          20.0  13000000.0       108.0  2019-03-07T00:00:00    3.0   \n",
       "1           7.0   3350000.0        40.4  2018-12-04T00:00:00    1.0   \n",
       "2          10.0   5196000.0        56.0  2015-08-20T00:00:00    2.0   \n",
       "3           0.0  64900000.0       159.0  2015-07-24T00:00:00    3.0   \n",
       "4           2.0  10000000.0       100.0  2018-06-19T00:00:00    2.0   \n",
       "\n",
       "   ceiling_height  floors_total  living_area  floor  studio  open_plan  \\\n",
       "0        2.700000          16.0    51.000000    8.0   False      False   \n",
       "1        2.633656          11.0    18.600000    1.0   False      False   \n",
       "2        2.864729           5.0    34.300000    4.0   False      False   \n",
       "3        3.422242          14.0    92.959048    9.0   False      False   \n",
       "4        3.030000          14.0    32.000000   13.0   False      False   \n",
       "\n",
       "   kitchen_area    locality_name  airports_nearest  cityCenters_nearest  \\\n",
       "0     25.000000  Санкт-Петербург           18863.0              16028.0   \n",
       "1     11.000000   посёлок Шушары           12817.0              18603.0   \n",
       "2      8.300000  Санкт-Петербург           21741.0              13933.0   \n",
       "3     23.296302  Санкт-Петербург           28098.0               6800.0   \n",
       "4     41.000000  Санкт-Петербург           31856.0               8098.0   \n",
       "\n",
       "   parks_around3000  ponds_around3000  days_exposition  \n",
       "0               1.0               2.0       226.805513  \n",
       "1               0.0               0.0        81.000000  \n",
       "2               1.0               2.0       558.000000  \n",
       "3               2.0               3.0       424.000000  \n",
       "4               2.0               1.0       121.000000  "
      ]
     },
     "execution_count": 14,
     "metadata": {},
     "output_type": "execute_result"
    }
   ],
   "source": [
    "df6.head()"
   ]
  },
  {
   "cell_type": "code",
   "execution_count": 15,
   "metadata": {},
   "outputs": [
    {
     "name": "stdout",
     "output_type": "stream",
     "text": [
      "<class 'pandas.core.frame.DataFrame'>\n",
      "Int64Index: 23433 entries, 0 to 23564\n",
      "Data columns (total 18 columns):\n",
      " #   Column                Non-Null Count  Dtype  \n",
      "---  ------                --------------  -----  \n",
      " 0   total_images          23433 non-null  float64\n",
      " 1   last_price            23433 non-null  float64\n",
      " 2   total_area            23433 non-null  float64\n",
      " 3   first_day_exposition  23433 non-null  object \n",
      " 4   rooms                 23433 non-null  float64\n",
      " 5   ceiling_height        23433 non-null  float64\n",
      " 6   floors_total          23433 non-null  float64\n",
      " 7   living_area           23433 non-null  float64\n",
      " 8   floor                 23433 non-null  float64\n",
      " 9   studio                23433 non-null  bool   \n",
      " 10  open_plan             23433 non-null  bool   \n",
      " 11  kitchen_area          23433 non-null  float64\n",
      " 12  locality_name         23433 non-null  object \n",
      " 13  airports_nearest      23433 non-null  float64\n",
      " 14  cityCenters_nearest   23433 non-null  float64\n",
      " 15  parks_around3000      23433 non-null  float64\n",
      " 16  ponds_around3000      23433 non-null  float64\n",
      " 17  days_exposition       23433 non-null  float64\n",
      "dtypes: bool(2), float64(14), object(2)\n",
      "memory usage: 3.1+ MB\n"
     ]
    }
   ],
   "source": [
    "df6.info()"
   ]
  },
  {
   "cell_type": "markdown",
   "metadata": {},
   "source": [
    "Тип данных временного столбца *first_day_exposition* нет datetime, а столбцы *studio и open_plan* имеют тип bool, c которым трудно взаимодействать в процессе анализа, так что заменим его на int, где 1 - True, 0 - False"
   ]
  },
  {
   "cell_type": "code",
   "execution_count": 16,
   "metadata": {},
   "outputs": [],
   "source": [
    "df6['first_day_exposition'] = pd.to_datetime(df6['first_day_exposition'], format=\"%Y-%m-%dT%H:%M:%S\")"
   ]
  },
  {
   "cell_type": "code",
   "execution_count": 17,
   "metadata": {},
   "outputs": [],
   "source": [
    "df6['studio'] = df6['studio'].astype(int)\n",
    "df6['open_plan'] = df6['open_plan'].astype(int)"
   ]
  },
  {
   "cell_type": "code",
   "execution_count": 18,
   "metadata": {},
   "outputs": [],
   "source": [
    "from sklearn.preprocessing import OrdinalEncoder\n",
    "\n",
    "df7 = df6.copy()\n",
    "ordinal_encoder = OrdinalEncoder()\n",
    "df7['locality_id'] = ordinal_encoder.fit_transform(df7[['locality_name']])"
   ]
  },
  {
   "cell_type": "markdown",
   "metadata": {},
   "source": [
    "### Поиск неявных дубликатов"
   ]
  },
  {
   "cell_type": "markdown",
   "metadata": {},
   "source": [
    "Единственный оставшийся столбец с категориальными переменными - *locality_name*. Изучим его уникальные значения"
   ]
  },
  {
   "cell_type": "markdown",
   "metadata": {},
   "source": [
    "В процессе поиска дубликатов были найдены два вида неявных дубликатов:\n",
    "\n",
    "- написание \"е\" вместо \"ё\" в названии поселений,\n",
    "- разное написание административных обозначений поселений"
   ]
  },
  {
   "cell_type": "code",
   "execution_count": 19,
   "metadata": {},
   "outputs": [],
   "source": [
    "df7 = df6.copy()"
   ]
  },
  {
   "cell_type": "code",
   "execution_count": 20,
   "metadata": {},
   "outputs": [],
   "source": [
    "df7['locality_name'] = (\n",
    "    df7['locality_name']\n",
    "    .str.replace('ё', 'е')\n",
    "    .str.lower()\n",
    "    .replace(['поселок городского типа ', 'городской поселок ', 'деревня ', 'село ', 'поселок станции ', 'городской поселок ', 'садовое товарищество ', 'садоводческое некоммерческое товарищество ', 'поселок при железнодорожной станции ', 'коттеджный поселок ', 'поселок городской '],\n",
    "             'поселок ', regex=True)\n",
    ") "
   ]
  },
  {
   "cell_type": "markdown",
   "metadata": {},
   "source": [
    "**В результате предобработки данных были:**\n",
    "\n",
    "- заменены некторые пропущенные значения в столбцах,\n",
    "- удалены столбцы, в которых было слишком много пропусков,\n",
    "- изменены типы данных столбцов *first_day_exposition, open_plan и studio*,\n",
    "- удалены неявные дубликаты"
   ]
  },
  {
   "cell_type": "markdown",
   "metadata": {
    "id": "QCcvyY6YAwb-"
   },
   "source": [
    "## Добавление в таблицу новых столбцов"
   ]
  },
  {
   "cell_type": "code",
   "execution_count": 21,
   "metadata": {
    "scrolled": true
   },
   "outputs": [
    {
     "data": {
      "text/html": [
       "<div>\n",
       "<style scoped>\n",
       "    .dataframe tbody tr th:only-of-type {\n",
       "        vertical-align: middle;\n",
       "    }\n",
       "\n",
       "    .dataframe tbody tr th {\n",
       "        vertical-align: top;\n",
       "    }\n",
       "\n",
       "    .dataframe thead th {\n",
       "        text-align: right;\n",
       "    }\n",
       "</style>\n",
       "<table border=\"1\" class=\"dataframe\">\n",
       "  <thead>\n",
       "    <tr style=\"text-align: right;\">\n",
       "      <th></th>\n",
       "      <th>total_images</th>\n",
       "      <th>last_price</th>\n",
       "      <th>total_area</th>\n",
       "      <th>first_day_exposition</th>\n",
       "      <th>rooms</th>\n",
       "      <th>ceiling_height</th>\n",
       "      <th>floors_total</th>\n",
       "      <th>living_area</th>\n",
       "      <th>floor</th>\n",
       "      <th>studio</th>\n",
       "      <th>open_plan</th>\n",
       "      <th>kitchen_area</th>\n",
       "      <th>locality_name</th>\n",
       "      <th>airports_nearest</th>\n",
       "      <th>cityCenters_nearest</th>\n",
       "      <th>parks_around3000</th>\n",
       "      <th>ponds_around3000</th>\n",
       "      <th>days_exposition</th>\n",
       "    </tr>\n",
       "  </thead>\n",
       "  <tbody>\n",
       "    <tr>\n",
       "      <th>0</th>\n",
       "      <td>20.0</td>\n",
       "      <td>13000000.0</td>\n",
       "      <td>108.0</td>\n",
       "      <td>2019-03-07</td>\n",
       "      <td>3.0</td>\n",
       "      <td>2.700000</td>\n",
       "      <td>16.0</td>\n",
       "      <td>51.000000</td>\n",
       "      <td>8.0</td>\n",
       "      <td>0</td>\n",
       "      <td>0</td>\n",
       "      <td>25.000000</td>\n",
       "      <td>санкт-петербург</td>\n",
       "      <td>18863.0</td>\n",
       "      <td>16028.0</td>\n",
       "      <td>1.0</td>\n",
       "      <td>2.0</td>\n",
       "      <td>226.805513</td>\n",
       "    </tr>\n",
       "    <tr>\n",
       "      <th>1</th>\n",
       "      <td>7.0</td>\n",
       "      <td>3350000.0</td>\n",
       "      <td>40.4</td>\n",
       "      <td>2018-12-04</td>\n",
       "      <td>1.0</td>\n",
       "      <td>2.633656</td>\n",
       "      <td>11.0</td>\n",
       "      <td>18.600000</td>\n",
       "      <td>1.0</td>\n",
       "      <td>0</td>\n",
       "      <td>0</td>\n",
       "      <td>11.000000</td>\n",
       "      <td>поселок шушары</td>\n",
       "      <td>12817.0</td>\n",
       "      <td>18603.0</td>\n",
       "      <td>0.0</td>\n",
       "      <td>0.0</td>\n",
       "      <td>81.000000</td>\n",
       "    </tr>\n",
       "    <tr>\n",
       "      <th>2</th>\n",
       "      <td>10.0</td>\n",
       "      <td>5196000.0</td>\n",
       "      <td>56.0</td>\n",
       "      <td>2015-08-20</td>\n",
       "      <td>2.0</td>\n",
       "      <td>2.864729</td>\n",
       "      <td>5.0</td>\n",
       "      <td>34.300000</td>\n",
       "      <td>4.0</td>\n",
       "      <td>0</td>\n",
       "      <td>0</td>\n",
       "      <td>8.300000</td>\n",
       "      <td>санкт-петербург</td>\n",
       "      <td>21741.0</td>\n",
       "      <td>13933.0</td>\n",
       "      <td>1.0</td>\n",
       "      <td>2.0</td>\n",
       "      <td>558.000000</td>\n",
       "    </tr>\n",
       "    <tr>\n",
       "      <th>3</th>\n",
       "      <td>0.0</td>\n",
       "      <td>64900000.0</td>\n",
       "      <td>159.0</td>\n",
       "      <td>2015-07-24</td>\n",
       "      <td>3.0</td>\n",
       "      <td>3.422242</td>\n",
       "      <td>14.0</td>\n",
       "      <td>92.959048</td>\n",
       "      <td>9.0</td>\n",
       "      <td>0</td>\n",
       "      <td>0</td>\n",
       "      <td>23.296302</td>\n",
       "      <td>санкт-петербург</td>\n",
       "      <td>28098.0</td>\n",
       "      <td>6800.0</td>\n",
       "      <td>2.0</td>\n",
       "      <td>3.0</td>\n",
       "      <td>424.000000</td>\n",
       "    </tr>\n",
       "    <tr>\n",
       "      <th>4</th>\n",
       "      <td>2.0</td>\n",
       "      <td>10000000.0</td>\n",
       "      <td>100.0</td>\n",
       "      <td>2018-06-19</td>\n",
       "      <td>2.0</td>\n",
       "      <td>3.030000</td>\n",
       "      <td>14.0</td>\n",
       "      <td>32.000000</td>\n",
       "      <td>13.0</td>\n",
       "      <td>0</td>\n",
       "      <td>0</td>\n",
       "      <td>41.000000</td>\n",
       "      <td>санкт-петербург</td>\n",
       "      <td>31856.0</td>\n",
       "      <td>8098.0</td>\n",
       "      <td>2.0</td>\n",
       "      <td>1.0</td>\n",
       "      <td>121.000000</td>\n",
       "    </tr>\n",
       "  </tbody>\n",
       "</table>\n",
       "</div>"
      ],
      "text/plain": [
       "   total_images  last_price  total_area first_day_exposition  rooms  \\\n",
       "0          20.0  13000000.0       108.0           2019-03-07    3.0   \n",
       "1           7.0   3350000.0        40.4           2018-12-04    1.0   \n",
       "2          10.0   5196000.0        56.0           2015-08-20    2.0   \n",
       "3           0.0  64900000.0       159.0           2015-07-24    3.0   \n",
       "4           2.0  10000000.0       100.0           2018-06-19    2.0   \n",
       "\n",
       "   ceiling_height  floors_total  living_area  floor  studio  open_plan  \\\n",
       "0        2.700000          16.0    51.000000    8.0       0          0   \n",
       "1        2.633656          11.0    18.600000    1.0       0          0   \n",
       "2        2.864729           5.0    34.300000    4.0       0          0   \n",
       "3        3.422242          14.0    92.959048    9.0       0          0   \n",
       "4        3.030000          14.0    32.000000   13.0       0          0   \n",
       "\n",
       "   kitchen_area    locality_name  airports_nearest  cityCenters_nearest  \\\n",
       "0     25.000000  санкт-петербург           18863.0              16028.0   \n",
       "1     11.000000   поселок шушары           12817.0              18603.0   \n",
       "2      8.300000  санкт-петербург           21741.0              13933.0   \n",
       "3     23.296302  санкт-петербург           28098.0               6800.0   \n",
       "4     41.000000  санкт-петербург           31856.0               8098.0   \n",
       "\n",
       "   parks_around3000  ponds_around3000  days_exposition  \n",
       "0               1.0               2.0       226.805513  \n",
       "1               0.0               0.0        81.000000  \n",
       "2               1.0               2.0       558.000000  \n",
       "3               2.0               3.0       424.000000  \n",
       "4               2.0               1.0       121.000000  "
      ]
     },
     "execution_count": 21,
     "metadata": {},
     "output_type": "execute_result"
    }
   ],
   "source": [
    "df7.head()"
   ]
  },
  {
   "cell_type": "markdown",
   "metadata": {},
   "source": [
    "Добавим в таблицу столбы:\n",
    "- средняя цена за квадратный метр *price_per_meter*\n",
    "- день выпуска заявления *exposion_weekday*\n",
    "- месяц выпуска заявления *exposion_month*\n",
    "- год выпуска заявления *exposition_year*\n",
    "- тип этажа квартиры(\"первый\", \"последний\", \"другой\") *floor_category*\n",
    "- расстояние до центра населённого пункта в километрах *cityCenters_nearest_km*"
   ]
  },
  {
   "cell_type": "code",
   "execution_count": 22,
   "metadata": {
    "id": "Z8eJek3IAwb-"
   },
   "outputs": [],
   "source": [
    "df7['price_per_meter'] = df7['last_price'] / df7['total_area']"
   ]
  },
  {
   "cell_type": "code",
   "execution_count": 23,
   "metadata": {},
   "outputs": [],
   "source": [
    "df7['exposion_weekday'] = df7['first_day_exposition'].dt.dayofweek"
   ]
  },
  {
   "cell_type": "code",
   "execution_count": 24,
   "metadata": {},
   "outputs": [],
   "source": [
    "df7['exposion_month'] = df7['first_day_exposition'].dt.month"
   ]
  },
  {
   "cell_type": "code",
   "execution_count": 25,
   "metadata": {},
   "outputs": [],
   "source": [
    "df7['exposion_year'] = df7['first_day_exposition'].dt.year"
   ]
  },
  {
   "cell_type": "code",
   "execution_count": 26,
   "metadata": {},
   "outputs": [],
   "source": [
    "def floor_cat(row):\n",
    "    floor = row['floor']\n",
    "    last_fl = row['floors_total']\n",
    "    if floor == 1:\n",
    "        return 'первый'\n",
    "    elif floor == last_fl:\n",
    "        return 'последний'\n",
    "    return 'другой'"
   ]
  },
  {
   "cell_type": "code",
   "execution_count": 27,
   "metadata": {},
   "outputs": [],
   "source": [
    "df7['floor_category'] = df7.apply(floor_cat, axis=1)"
   ]
  },
  {
   "cell_type": "code",
   "execution_count": 28,
   "metadata": {},
   "outputs": [],
   "source": [
    "df7['cityCenters_nearest_km'] = round(df7['cityCenters_nearest'] / 1000)"
   ]
  },
  {
   "cell_type": "code",
   "execution_count": 29,
   "metadata": {
    "scrolled": true
   },
   "outputs": [],
   "source": [
    "good_data = df7.copy()"
   ]
  },
  {
   "cell_type": "code",
   "execution_count": 30,
   "metadata": {},
   "outputs": [
    {
     "data": {
      "text/html": [
       "<div>\n",
       "<style scoped>\n",
       "    .dataframe tbody tr th:only-of-type {\n",
       "        vertical-align: middle;\n",
       "    }\n",
       "\n",
       "    .dataframe tbody tr th {\n",
       "        vertical-align: top;\n",
       "    }\n",
       "\n",
       "    .dataframe thead th {\n",
       "        text-align: right;\n",
       "    }\n",
       "</style>\n",
       "<table border=\"1\" class=\"dataframe\">\n",
       "  <thead>\n",
       "    <tr style=\"text-align: right;\">\n",
       "      <th></th>\n",
       "      <th>total_images</th>\n",
       "      <th>last_price</th>\n",
       "      <th>total_area</th>\n",
       "      <th>first_day_exposition</th>\n",
       "      <th>rooms</th>\n",
       "      <th>ceiling_height</th>\n",
       "      <th>floors_total</th>\n",
       "      <th>living_area</th>\n",
       "      <th>floor</th>\n",
       "      <th>studio</th>\n",
       "      <th>...</th>\n",
       "      <th>cityCenters_nearest</th>\n",
       "      <th>parks_around3000</th>\n",
       "      <th>ponds_around3000</th>\n",
       "      <th>days_exposition</th>\n",
       "      <th>price_per_meter</th>\n",
       "      <th>exposion_weekday</th>\n",
       "      <th>exposion_month</th>\n",
       "      <th>exposion_year</th>\n",
       "      <th>floor_category</th>\n",
       "      <th>cityCenters_nearest_km</th>\n",
       "    </tr>\n",
       "  </thead>\n",
       "  <tbody>\n",
       "    <tr>\n",
       "      <th>0</th>\n",
       "      <td>20.0</td>\n",
       "      <td>13000000.0</td>\n",
       "      <td>108.0</td>\n",
       "      <td>2019-03-07</td>\n",
       "      <td>3.0</td>\n",
       "      <td>2.700000</td>\n",
       "      <td>16.0</td>\n",
       "      <td>51.000000</td>\n",
       "      <td>8.0</td>\n",
       "      <td>0</td>\n",
       "      <td>...</td>\n",
       "      <td>16028.0</td>\n",
       "      <td>1.0</td>\n",
       "      <td>2.0</td>\n",
       "      <td>226.805513</td>\n",
       "      <td>120370.370370</td>\n",
       "      <td>3</td>\n",
       "      <td>3</td>\n",
       "      <td>2019</td>\n",
       "      <td>другой</td>\n",
       "      <td>16.0</td>\n",
       "    </tr>\n",
       "    <tr>\n",
       "      <th>1</th>\n",
       "      <td>7.0</td>\n",
       "      <td>3350000.0</td>\n",
       "      <td>40.4</td>\n",
       "      <td>2018-12-04</td>\n",
       "      <td>1.0</td>\n",
       "      <td>2.633656</td>\n",
       "      <td>11.0</td>\n",
       "      <td>18.600000</td>\n",
       "      <td>1.0</td>\n",
       "      <td>0</td>\n",
       "      <td>...</td>\n",
       "      <td>18603.0</td>\n",
       "      <td>0.0</td>\n",
       "      <td>0.0</td>\n",
       "      <td>81.000000</td>\n",
       "      <td>82920.792079</td>\n",
       "      <td>1</td>\n",
       "      <td>12</td>\n",
       "      <td>2018</td>\n",
       "      <td>первый</td>\n",
       "      <td>19.0</td>\n",
       "    </tr>\n",
       "    <tr>\n",
       "      <th>2</th>\n",
       "      <td>10.0</td>\n",
       "      <td>5196000.0</td>\n",
       "      <td>56.0</td>\n",
       "      <td>2015-08-20</td>\n",
       "      <td>2.0</td>\n",
       "      <td>2.864729</td>\n",
       "      <td>5.0</td>\n",
       "      <td>34.300000</td>\n",
       "      <td>4.0</td>\n",
       "      <td>0</td>\n",
       "      <td>...</td>\n",
       "      <td>13933.0</td>\n",
       "      <td>1.0</td>\n",
       "      <td>2.0</td>\n",
       "      <td>558.000000</td>\n",
       "      <td>92785.714286</td>\n",
       "      <td>3</td>\n",
       "      <td>8</td>\n",
       "      <td>2015</td>\n",
       "      <td>другой</td>\n",
       "      <td>14.0</td>\n",
       "    </tr>\n",
       "    <tr>\n",
       "      <th>3</th>\n",
       "      <td>0.0</td>\n",
       "      <td>64900000.0</td>\n",
       "      <td>159.0</td>\n",
       "      <td>2015-07-24</td>\n",
       "      <td>3.0</td>\n",
       "      <td>3.422242</td>\n",
       "      <td>14.0</td>\n",
       "      <td>92.959048</td>\n",
       "      <td>9.0</td>\n",
       "      <td>0</td>\n",
       "      <td>...</td>\n",
       "      <td>6800.0</td>\n",
       "      <td>2.0</td>\n",
       "      <td>3.0</td>\n",
       "      <td>424.000000</td>\n",
       "      <td>408176.100629</td>\n",
       "      <td>4</td>\n",
       "      <td>7</td>\n",
       "      <td>2015</td>\n",
       "      <td>другой</td>\n",
       "      <td>7.0</td>\n",
       "    </tr>\n",
       "    <tr>\n",
       "      <th>4</th>\n",
       "      <td>2.0</td>\n",
       "      <td>10000000.0</td>\n",
       "      <td>100.0</td>\n",
       "      <td>2018-06-19</td>\n",
       "      <td>2.0</td>\n",
       "      <td>3.030000</td>\n",
       "      <td>14.0</td>\n",
       "      <td>32.000000</td>\n",
       "      <td>13.0</td>\n",
       "      <td>0</td>\n",
       "      <td>...</td>\n",
       "      <td>8098.0</td>\n",
       "      <td>2.0</td>\n",
       "      <td>1.0</td>\n",
       "      <td>121.000000</td>\n",
       "      <td>100000.000000</td>\n",
       "      <td>1</td>\n",
       "      <td>6</td>\n",
       "      <td>2018</td>\n",
       "      <td>другой</td>\n",
       "      <td>8.0</td>\n",
       "    </tr>\n",
       "  </tbody>\n",
       "</table>\n",
       "<p>5 rows × 24 columns</p>\n",
       "</div>"
      ],
      "text/plain": [
       "   total_images  last_price  total_area first_day_exposition  rooms  \\\n",
       "0          20.0  13000000.0       108.0           2019-03-07    3.0   \n",
       "1           7.0   3350000.0        40.4           2018-12-04    1.0   \n",
       "2          10.0   5196000.0        56.0           2015-08-20    2.0   \n",
       "3           0.0  64900000.0       159.0           2015-07-24    3.0   \n",
       "4           2.0  10000000.0       100.0           2018-06-19    2.0   \n",
       "\n",
       "   ceiling_height  floors_total  living_area  floor  studio  ...  \\\n",
       "0        2.700000          16.0    51.000000    8.0       0  ...   \n",
       "1        2.633656          11.0    18.600000    1.0       0  ...   \n",
       "2        2.864729           5.0    34.300000    4.0       0  ...   \n",
       "3        3.422242          14.0    92.959048    9.0       0  ...   \n",
       "4        3.030000          14.0    32.000000   13.0       0  ...   \n",
       "\n",
       "   cityCenters_nearest  parks_around3000 ponds_around3000  days_exposition  \\\n",
       "0              16028.0               1.0              2.0       226.805513   \n",
       "1              18603.0               0.0              0.0        81.000000   \n",
       "2              13933.0               1.0              2.0       558.000000   \n",
       "3               6800.0               2.0              3.0       424.000000   \n",
       "4               8098.0               2.0              1.0       121.000000   \n",
       "\n",
       "   price_per_meter  exposion_weekday  exposion_month  exposion_year  \\\n",
       "0    120370.370370                 3               3           2019   \n",
       "1     82920.792079                 1              12           2018   \n",
       "2     92785.714286                 3               8           2015   \n",
       "3    408176.100629                 4               7           2015   \n",
       "4    100000.000000                 1               6           2018   \n",
       "\n",
       "   floor_category  cityCenters_nearest_km  \n",
       "0          другой                    16.0  \n",
       "1          первый                    19.0  \n",
       "2          другой                    14.0  \n",
       "3          другой                     7.0  \n",
       "4          другой                     8.0  \n",
       "\n",
       "[5 rows x 24 columns]"
      ]
     },
     "execution_count": 30,
     "metadata": {},
     "output_type": "execute_result"
    }
   ],
   "source": [
    "good_data.head()"
   ]
  },
  {
   "cell_type": "markdown",
   "metadata": {},
   "source": [
    "В таблицу были добавлены новые столбцы, которые понадобятся в процессе исследовательского анализа данных"
   ]
  },
  {
   "cell_type": "markdown",
   "metadata": {
    "id": "pPyxrKWTAwb-"
   },
   "source": [
    "## Исследовательский анализ данных"
   ]
  },
  {
   "cell_type": "markdown",
   "metadata": {},
   "source": [
    "### Изучим некоторые параметры таблицы и построим их гистограммы"
   ]
  },
  {
   "cell_type": "code",
   "execution_count": 31,
   "metadata": {
    "id": "V2f0D3kLAwb-"
   },
   "outputs": [],
   "source": [
    "research_cols = ['total_area', 'living_area', 'kitchen_area',\n",
    "                 'last_price', 'rooms', 'ceiling_height',\n",
    "                 'floor_category', 'floors_total',\n",
    "                 'cityCenters_nearest']"
   ]
  },
  {
   "cell_type": "code",
   "execution_count": 32,
   "metadata": {},
   "outputs": [
    {
     "data": {
      "text/plain": [
       "array([[<AxesSubplot:title={'center':'ceiling_height'}>]], dtype=object)"
      ]
     },
     "execution_count": 32,
     "metadata": {},
     "output_type": "execute_result"
    },
    {
     "data": {
      "image/png": "[encoded data removed]",
      "text/plain": [
       "<Figure size 432x288 with 1 Axes>"
      ]
     },
     "metadata": {
      "needs_background": "light"
     },
     "output_type": "display_data"
    }
   ],
   "source": [
    "good_data.hist('ceiling_height')"
   ]
  },
  {
   "cell_type": "code",
   "execution_count": 33,
   "metadata": {},
   "outputs": [
    {
     "data": {
      "image/png": "[encoded data removed]",
      "text/plain": [
       "<Figure size 432x288 with 1 Axes>"
      ]
     },
     "metadata": {
      "needs_background": "light"
     },
     "output_type": "display_data"
    },
    {
     "data": {
      "image/png": "[encoded data removed]",
      "text/plain": [
       "<Figure size 432x288 with 1 Axes>"
      ]
     },
     "metadata": {
      "needs_background": "light"
     },
     "output_type": "display_data"
    },
    {
     "data": {
      "image/png": "[encoded data removed]",
      "text/plain": [
       "<Figure size 432x288 with 1 Axes>"
      ]
     },
     "metadata": {
      "needs_background": "light"
     },
     "output_type": "display_data"
    },
    {
     "data": {
      "image/png": "[encoded data removed]",
      "text/plain": [
       "<Figure size 432x288 with 1 Axes>"
      ]
     },
     "metadata": {
      "needs_background": "light"
     },
     "output_type": "display_data"
    },
    {
     "data": {
      "image/png": "[encoded data removed]",
      "text/plain": [
       "<Figure size 432x288 with 1 Axes>"
      ]
     },
     "metadata": {
      "needs_background": "light"
     },
     "output_type": "display_data"
    },
    {
     "data": {
      "image/png": "[encoded data removed]",
      "text/plain": [
       "<Figure size 432x288 with 1 Axes>"
      ]
     },
     "metadata": {
      "needs_background": "light"
     },
     "output_type": "display_data"
    },
    {
     "data": {
      "text/plain": [
       "array([[<AxesSubplot:title={'center':'parks_nearest'}>]], dtype=object)"
      ]
     },
     "execution_count": 33,
     "metadata": {},
     "output_type": "execute_result"
    },
    {
     "data": {
      "image/png": "[encoded data removed]",
      "text/plain": [
       "<Figure size 432x288 with 1 Axes>"
      ]
     },
     "metadata": {
      "needs_background": "light"
     },
     "output_type": "display_data"
    },
    {
     "data": {
      "image/png": "[encoded data removed]",
      "text/plain": [
       "<Figure size 432x288 with 1 Axes>"
      ]
     },
     "metadata": {
      "needs_background": "light"
     },
     "output_type": "display_data"
    },
    {
     "data": {
      "image/png": "[encoded data removed]",
      "text/plain": [
       "<Figure size 432x288 with 1 Axes>"
      ]
     },
     "metadata": {
      "needs_background": "light"
     },
     "output_type": "display_data"
    },
    {
     "data": {
      "image/png": "[encoded data removed]",
      "text/plain": [
       "<Figure size 432x288 with 1 Axes>"
      ]
     },
     "metadata": {
      "needs_background": "light"
     },
     "output_type": "display_data"
    }
   ],
   "source": [
    "for col in research_cols:\n",
    "    try:\n",
    "        good_data.hist(col)\n",
    "    except:\n",
    "        plt.show()\n",
    "        (\n",
    "        good_data\n",
    "        .groupby('floor_category')['floor_category']\n",
    "        .count()\n",
    "        .plot(kind='bar', legend=True)\n",
    "        )\n",
    "#Я удалил столбец parks_nearest, поэтому строю график по df\n",
    "df.hist('parks_nearest')"
   ]
  },
  {
   "cell_type": "markdown",
   "metadata": {},
   "source": [
    "В параметрах:\n",
    "- total_area\n",
    "- living_area\n",
    "- kitchen_area\n",
    "- last_price\n",
    "- rooms\n",
    "\n",
    "распределение данных соответсвует нормальному, однако в остальных столбцах присутвуют скачки данных \n",
    "Это может быть связано с тем, что здания, в которых сдаются квартиры могут находиться в спальных районах, а также быть частью конкретного типа застройки, что способствует созданию отдельных групп данных, котрорые выбиваются из нормы."
   ]
  },
  {
   "cell_type": "markdown",
   "metadata": {},
   "source": [
    "### Посмотрим, встречаются ли в данных аномалии"
   ]
  },
  {
   "cell_type": "code",
   "execution_count": 34,
   "metadata": {
    "scrolled": true
   },
   "outputs": [
    {
     "data": {
      "image/png": "[encoded data removed]",
      "text/plain": [
       "<Figure size 432x288 with 1 Axes>"
      ]
     },
     "metadata": {
      "needs_background": "light"
     },
     "output_type": "display_data"
    },
    {
     "data": {
      "image/png": "[encoded data removed]",
      "text/plain": [
       "<Figure size 432x288 with 1 Axes>"
      ]
     },
     "metadata": {
      "needs_background": "light"
     },
     "output_type": "display_data"
    },
    {
     "data": {
      "image/png": "[encoded data removed]",
      "text/plain": [
       "<Figure size 432x288 with 1 Axes>"
      ]
     },
     "metadata": {
      "needs_background": "light"
     },
     "output_type": "display_data"
    },
    {
     "data": {
      "image/png": "[encoded data removed]",
      "text/plain": [
       "<Figure size 432x288 with 1 Axes>"
      ]
     },
     "metadata": {
      "needs_background": "light"
     },
     "output_type": "display_data"
    },
    {
     "data": {
      "image/png": "[encoded data removed]",
      "text/plain": [
       "<Figure size 432x288 with 1 Axes>"
      ]
     },
     "metadata": {
      "needs_background": "light"
     },
     "output_type": "display_data"
    },
    {
     "data": {
      "image/png": "[encoded data removed]",
      "text/plain": [
       "<Figure size 432x288 with 1 Axes>"
      ]
     },
     "metadata": {
      "needs_background": "light"
     },
     "output_type": "display_data"
    },
    {
     "data": {
      "image/png": "[encoded data removed]",
      "text/plain": [
       "<Figure size 432x288 with 1 Axes>"
      ]
     },
     "metadata": {
      "needs_background": "light"
     },
     "output_type": "display_data"
    },
    {
     "data": {
      "image/png": "[encoded data removed]",
      "text/plain": [
       "<Figure size 432x288 with 1 Axes>"
      ]
     },
     "metadata": {
      "needs_background": "light"
     },
     "output_type": "display_data"
    }
   ],
   "source": [
    "\n",
    "for col in research_cols:\n",
    "    try:\n",
    "        (\n",
    "        good_data\n",
    "        .plot(y=col, kind='box')\n",
    "        )\n",
    "    except:\n",
    "        pass\n"
   ]
  },
  {
   "cell_type": "markdown",
   "metadata": {},
   "source": [
    "Проанализировав возможные площади комнат в квартире, избавимся от значений, в которых средняя площадь комнаты больше 100м2"
   ]
  },
  {
   "cell_type": "code",
   "execution_count": 35,
   "metadata": {
    "scrolled": true
   },
   "outputs": [],
   "source": [
    "good_data = good_data[good_data['total_area'] / good_data['rooms'] < 100]"
   ]
  },
  {
   "cell_type": "markdown",
   "metadata": {},
   "source": [
    "В столбцах *ceiling_height* (высота потолка в 32 метра) и *floors_total* (62 этажа в здании) встречаются аномалии.        \n",
    "\n",
    "Обработаем их с помощью функций."
   ]
  },
  {
   "cell_type": "code",
   "execution_count": 36,
   "metadata": {},
   "outputs": [],
   "source": [
    "def height_cor(row):\n",
    "    h = row['ceiling_height']\n",
    "    if h >= 20:\n",
    "         return h / 10\n",
    "    else:\n",
    "        return h  "
   ]
  },
  {
   "cell_type": "code",
   "execution_count": 37,
   "metadata": {},
   "outputs": [],
   "source": [
    "good_data['ceiling_height'] = good_data.apply(height_cor, axis=1)"
   ]
  },
  {
   "cell_type": "code",
   "execution_count": 38,
   "metadata": {},
   "outputs": [],
   "source": [
    "def floor_cor(row):\n",
    "    h = row['floors_total']\n",
    "    if h >= 50 and h % 10 == 0:\n",
    "         return h / 10\n",
    "    else:\n",
    "        return h"
   ]
  },
  {
   "cell_type": "code",
   "execution_count": 39,
   "metadata": {},
   "outputs": [],
   "source": [
    "good_data['floors_total'] = good_data.apply(floor_cor, axis=1)"
   ]
  },
  {
   "cell_type": "markdown",
   "metadata": {},
   "source": [
    "### Посмотрим, сколько времени уходит на продажу квартиры и как этот параметр влияет на её цену"
   ]
  },
  {
   "cell_type": "code",
   "execution_count": 40,
   "metadata": {},
   "outputs": [
    {
     "data": {
      "text/plain": [
       "<AxesSubplot:>"
      ]
     },
     "execution_count": 40,
     "metadata": {},
     "output_type": "execute_result"
    },
    {
     "data": {
      "image/png": "[encoded data removed]",
      "text/plain": [
       "<Figure size 432x288 with 1 Axes>"
      ]
     },
     "metadata": {
      "needs_background": "light"
     },
     "output_type": "display_data"
    }
   ],
   "source": [
    "good_data['days_exposition'].hist()"
   ]
  },
  {
   "cell_type": "code",
   "execution_count": 41,
   "metadata": {},
   "outputs": [
    {
     "data": {
      "text/plain": [
       "count    23225.000000\n",
       "mean       182.697868\n",
       "std        205.338109\n",
       "min          1.000000\n",
       "25%         45.000000\n",
       "50%        125.000000\n",
       "75%        220.000000\n",
       "max       1580.000000\n",
       "Name: days_exposition, dtype: float64"
      ]
     },
     "execution_count": 41,
     "metadata": {},
     "output_type": "execute_result"
    }
   ],
   "source": [
    "good_data['days_exposition'].describe()"
   ]
  },
  {
   "cell_type": "markdown",
   "metadata": {},
   "source": [
    "Среднее время продажи квартиры составляет 182 дня, а медианное значение и вовсе - 125 дней, однако стандартное отклонение от этого времени составляет немного-немало целых 205 дней.\n",
    "Продажу квартиры можно назвать быстрой, если объявление не пролежало больше 45 дней, в то время как продажа становится долгой после 220-го дня. "
   ]
  },
  {
   "cell_type": "code",
   "execution_count": 42,
   "metadata": {},
   "outputs": [
    {
     "data": {
      "text/plain": [
       "<AxesSubplot:xlabel='days_exposition', ylabel='last_price'>"
      ]
     },
     "execution_count": 42,
     "metadata": {},
     "output_type": "execute_result"
    },
    {
     "data": {
      "image/png": "[encoded data removed]",
      "text/plain": [
       "<Figure size 720x360 with 1 Axes>"
      ]
     },
     "metadata": {
      "needs_background": "light"
     },
     "output_type": "display_data"
    }
   ],
   "source": [
    "plt.figure(figsize=(10,5))\n",
    "sns.regplot(data=good_data, x='days_exposition', y='last_price')"
   ]
  },
  {
   "cell_type": "markdown",
   "metadata": {},
   "source": [
    "Можно заметить, что зависимость между количеством дней со времени начала продажи и ценой квартиры имеют зависимость, однако она крайне мала."
   ]
  },
  {
   "cell_type": "markdown",
   "metadata": {},
   "source": [
    "#### Определим факторы, которые больше всего влияют на конечную стоимость объекта"
   ]
  },
  {
   "cell_type": "markdown",
   "metadata": {},
   "source": [
    "Поделим параметры, которые мы будим анализировать на числовые и категориальные"
   ]
  },
  {
   "cell_type": "code",
   "execution_count": 43,
   "metadata": {},
   "outputs": [],
   "source": [
    "exp_num_cols = ['total_area', 'living_area', 'kitchen_area']\n",
    "exp_cat_cols = ['rooms','floor_category', 'exposion_weekday', 'exposion_month', 'exposion_year']"
   ]
  },
  {
   "cell_type": "code",
   "execution_count": 44,
   "metadata": {
    "scrolled": true
   },
   "outputs": [
    {
     "name": "stdout",
     "output_type": "stream",
     "text": [
      "               mean       median      count\n",
      "         last_price   last_price last_price\n",
      "rooms                                      \n",
      "1.0    3.817243e+06    3600000.0       7950\n",
      "2.0    5.589219e+06    4768857.0       7854\n",
      "3.0    8.160557e+06    6200000.0       5741\n",
      "4.0    1.327739e+07    9000000.0       1164\n",
      "5.0    2.361250e+07   14000000.0        324\n",
      "6.0    3.211298e+07   18888500.0        102\n",
      "7.0    5.147007e+07   24900000.0         59\n",
      "8.0    5.022417e+07   23095000.0         12\n",
      "9.0    3.415236e+07   23750000.0          8\n",
      "10.0   2.616667e+07   23000000.0          3\n",
      "11.0   2.525000e+07   25250000.0          2\n",
      "12.0   4.200000e+08  420000000.0          1\n",
      "14.0   2.682950e+07   26829500.0          2\n",
      "15.0   6.500000e+07   65000000.0          1\n",
      "16.0   2.850000e+07   28500000.0          1\n",
      "19.0   3.225000e+07   32250000.0          1\n",
      "                        mean     median      count\n",
      "                  last_price last_price last_price\n",
      "floor_category                                    \n",
      "другой          6.697646e+06  4850000.0      17057\n",
      "первый          4.803793e+06  3900000.0       2873\n",
      "последний       7.306051e+06  4300000.0       3295\n",
      "                          mean     median      count\n",
      "                    last_price last_price last_price\n",
      "exposion_weekday                                    \n",
      "0                 6.517403e+06  4685000.0       3550\n",
      "1                 6.504590e+06  4670000.0       4111\n",
      "2                 6.474735e+06  4650000.0       3885\n",
      "3                 6.195274e+06  4650000.0       4221\n",
      "4                 6.812696e+06  4600000.0       3911\n",
      "5                 6.996810e+06  4699500.0       1888\n",
      "6                 6.678904e+06  4700000.0       1659\n",
      "                        mean     median      count\n",
      "                  last_price last_price last_price\n",
      "exposion_month                                    \n",
      "1               6.277055e+06  4699000.0       1467\n",
      "2               6.918260e+06  4655200.0       2594\n",
      "3               6.449521e+06  4600000.0       2546\n",
      "4               6.084614e+06  4650000.0       2324\n",
      "5               6.328779e+06  4650000.0       1242\n",
      "6               6.399492e+06  4600000.0       1719\n",
      "7               6.407268e+06  4600000.0       1659\n",
      "8               6.832845e+06  4700000.0       1716\n",
      "9               6.253408e+06  4650000.0       1943\n",
      "10              7.183365e+06  4700000.0       2085\n",
      "11              6.483814e+06  4600000.0       2325\n",
      "12              6.842681e+06  4700000.0       1605\n",
      "                       mean     median      count\n",
      "                 last_price last_price last_price\n",
      "exposion_year                                    \n",
      "2014           8.252472e+06  4650000.0        135\n",
      "2015           6.211770e+06  4600000.0       1150\n",
      "2016           6.686816e+06  4675000.0       2710\n",
      "2017           6.557385e+06  4690000.0       8030\n",
      "2018           6.620773e+06  4650000.0       8361\n",
      "2019           6.243573e+06  4600000.0       2839\n"
     ]
    }
   ],
   "source": [
    "for col in (exp_cat_cols):\n",
    "    print(\n",
    "        good_data.pivot_table(\n",
    "        index=col,\n",
    "        values='last_price',\n",
    "        aggfunc=['mean', 'median', 'count']\n",
    "                            )\n",
    "         )"
   ]
  },
  {
   "cell_type": "code",
   "execution_count": 45,
   "metadata": {
    "scrolled": true
   },
   "outputs": [
    {
     "data": {
      "image/png": "[encoded data removed]",
      "text/plain": [
       "<Figure size 576x288 with 1 Axes>"
      ]
     },
     "metadata": {
      "needs_background": "light"
     },
     "output_type": "display_data"
    },
    {
     "data": {
      "image/png": "[encoded data removed]",
      "text/plain": [
       "<Figure size 576x288 with 1 Axes>"
      ]
     },
     "metadata": {
      "needs_background": "light"
     },
     "output_type": "display_data"
    },
    {
     "data": {
      "image/png": "[encoded data removed]",
      "text/plain": [
       "<Figure size 576x288 with 1 Axes>"
      ]
     },
     "metadata": {
      "needs_background": "light"
     },
     "output_type": "display_data"
    },
    {
     "data": {
      "image/png": "[encoded data removed]",
      "text/plain": [
       "<Figure size 576x432 with 1 Axes>"
      ]
     },
     "metadata": {
      "needs_background": "light"
     },
     "output_type": "display_data"
    },
    {
     "data": {
      "image/png": "[encoded data removed]",
      "text/plain": [
       "<Figure size 576x432 with 1 Axes>"
      ]
     },
     "metadata": {
      "needs_background": "light"
     },
     "output_type": "display_data"
    },
    {
     "data": {
      "image/png": "[encoded data removed]",
      "text/plain": [
       "<Figure size 576x432 with 1 Axes>"
      ]
     },
     "metadata": {
      "needs_background": "light"
     },
     "output_type": "display_data"
    },
    {
     "data": {
      "image/png": "[encoded data removed]",
      "text/plain": [
       "<Figure size 576x432 with 1 Axes>"
      ]
     },
     "metadata": {
      "needs_background": "light"
     },
     "output_type": "display_data"
    },
    {
     "data": {
      "image/png": "[encoded data removed]",
      "text/plain": [
       "<Figure size 576x432 with 1 Axes>"
      ]
     },
     "metadata": {
      "needs_background": "light"
     },
     "output_type": "display_data"
    }
   ],
   "source": [
    "for col in exp_num_cols:\n",
    "    plt.figure(figsize=(8,4))\n",
    "    sns.regplot(data=good_data, x=col, y='last_price')\n",
    "for col in exp_cat_cols:\n",
    "    plt.figure(figsize=(8,6))\n",
    "    sns.boxplot(data=good_data, x=col, y='last_price')"
   ]
  },
  {
   "cell_type": "code",
   "execution_count": 46,
   "metadata": {},
   "outputs": [
    {
     "data": {
      "text/plain": [
       "<AxesSubplot:>"
      ]
     },
     "execution_count": 46,
     "metadata": {},
     "output_type": "execute_result"
    },
    {
     "data": {
      "image/png": "[encoded data removed]",
      "text/plain": [
       "<Figure size 720x720 with 2 Axes>"
      ]
     },
     "metadata": {
      "needs_background": "light"
     },
     "output_type": "display_data"
    }
   ],
   "source": [
    "plt.figure(figsize=(10, 10))\n",
    "sns.heatmap(good_data[exp_num_cols+exp_cat_cols].corr(), annot=True, fmt=\".1f\")"
   ]
  },
  {
   "cell_type": "markdown",
   "metadata": {},
   "source": [
    "Таким образом, можно заметить, что:\n",
    "- зависимость между площадью квартиры, жилой площадью, площадью кухни и ценой присутствует, но она далеко не линейна,\n",
    "- количество комнат (например, пятикомнатные зачастую дороже остальных) влияет на конечную цену,\n",
    "- цена квартиры, распологающейся на первом этаже немного ниже, чем на других, а значит этаж тоже влияет на итоговую сумму,\n",
    "- конеечная цена квартиры не зависит от дня, месяца или года выпуска заявления"
   ]
  },
  {
   "cell_type": "markdown",
   "metadata": {},
   "source": [
    "#### Найдём среднюю цену за квадратный метр в 10 населённых пунктах с самым большим и маленьким количеством объявлений"
   ]
  },
  {
   "cell_type": "code",
   "execution_count": 47,
   "metadata": {},
   "outputs": [
    {
     "data": {
      "text/html": [
       "<div>\n",
       "<style scoped>\n",
       "    .dataframe tbody tr th:only-of-type {\n",
       "        vertical-align: middle;\n",
       "    }\n",
       "\n",
       "    .dataframe tbody tr th {\n",
       "        vertical-align: top;\n",
       "    }\n",
       "\n",
       "    .dataframe thead th {\n",
       "        text-align: right;\n",
       "    }\n",
       "</style>\n",
       "<table border=\"1\" class=\"dataframe\">\n",
       "  <thead>\n",
       "    <tr style=\"text-align: right;\">\n",
       "      <th></th>\n",
       "      <th>mean_price</th>\n",
       "      <th>ads</th>\n",
       "    </tr>\n",
       "    <tr>\n",
       "      <th>locality_name</th>\n",
       "      <th></th>\n",
       "      <th></th>\n",
       "    </tr>\n",
       "  </thead>\n",
       "  <tbody>\n",
       "    <tr>\n",
       "      <th>санкт-петербург</th>\n",
       "      <td>99285.805880</td>\n",
       "      <td>15439</td>\n",
       "    </tr>\n",
       "    <tr>\n",
       "      <th>поселок мурино</th>\n",
       "      <td>99913.515298</td>\n",
       "      <td>543</td>\n",
       "    </tr>\n",
       "    <tr>\n",
       "      <th>поселок шушары</th>\n",
       "      <td>97599.651254</td>\n",
       "      <td>435</td>\n",
       "    </tr>\n",
       "    <tr>\n",
       "      <th>всеволожск</th>\n",
       "      <td>102568.823009</td>\n",
       "      <td>394</td>\n",
       "    </tr>\n",
       "    <tr>\n",
       "      <th>пушкин</th>\n",
       "      <td>101957.694212</td>\n",
       "      <td>364</td>\n",
       "    </tr>\n",
       "    <tr>\n",
       "      <th>колпино</th>\n",
       "      <td>96627.891485</td>\n",
       "      <td>330</td>\n",
       "    </tr>\n",
       "    <tr>\n",
       "      <th>поселок парголово</th>\n",
       "      <td>102353.700293</td>\n",
       "      <td>321</td>\n",
       "    </tr>\n",
       "    <tr>\n",
       "      <th>гатчина</th>\n",
       "      <td>99664.529741</td>\n",
       "      <td>303</td>\n",
       "    </tr>\n",
       "    <tr>\n",
       "      <th>поселок кудрово</th>\n",
       "      <td>105013.916079</td>\n",
       "      <td>293</td>\n",
       "    </tr>\n",
       "    <tr>\n",
       "      <th>выборг</th>\n",
       "      <td>97087.682784</td>\n",
       "      <td>230</td>\n",
       "    </tr>\n",
       "  </tbody>\n",
       "</table>\n",
       "</div>"
      ],
      "text/plain": [
       "                      mean_price    ads\n",
       "locality_name                          \n",
       "санкт-петербург     99285.805880  15439\n",
       "поселок мурино      99913.515298    543\n",
       "поселок шушары      97599.651254    435\n",
       "всеволожск         102568.823009    394\n",
       "пушкин             101957.694212    364\n",
       "колпино             96627.891485    330\n",
       "поселок парголово  102353.700293    321\n",
       "гатчина             99664.529741    303\n",
       "поселок кудрово    105013.916079    293\n",
       "выборг              97087.682784    230"
      ]
     },
     "execution_count": 47,
     "metadata": {},
     "output_type": "execute_result"
    }
   ],
   "source": [
    "most_ad_df = good_data.pivot_table(index='locality_name', values='price_per_meter', aggfunc=['mean', 'count'])\n",
    "most_ad_df.columns = ['mean_price', 'ads']\n",
    "most_ad_df.sort_values('ads', ascending=False, inplace=True) \n",
    "most_ad_df.head(10)"
   ]
  },
  {
   "cell_type": "markdown",
   "metadata": {},
   "source": [
    "Таким образом, средняя цена в 10 населённых пунктах с самым большим количеством заявлений является примерно равной. А это значет, что местоположение квартиры в большинстве случаев не играет важной роли в ценообразовании."
   ]
  },
  {
   "cell_type": "markdown",
   "metadata": {},
   "source": [
    "#### Посмотрим, как влияет на цену расстояние от центра города в Санкт-Петербурге"
   ]
  },
  {
   "cell_type": "code",
   "execution_count": 48,
   "metadata": {
    "scrolled": true
   },
   "outputs": [
    {
     "data": {
      "text/html": [
       "<div>\n",
       "<style scoped>\n",
       "    .dataframe tbody tr th:only-of-type {\n",
       "        vertical-align: middle;\n",
       "    }\n",
       "\n",
       "    .dataframe tbody tr th {\n",
       "        vertical-align: top;\n",
       "    }\n",
       "\n",
       "    .dataframe thead th {\n",
       "        text-align: right;\n",
       "    }\n",
       "</style>\n",
       "<table border=\"1\" class=\"dataframe\">\n",
       "  <thead>\n",
       "    <tr style=\"text-align: right;\">\n",
       "      <th></th>\n",
       "      <th>mean_price</th>\n",
       "      <th>cityCenters_nearest_km</th>\n",
       "    </tr>\n",
       "    <tr>\n",
       "      <th>cityCenters_nearest_km</th>\n",
       "      <th></th>\n",
       "      <th></th>\n",
       "    </tr>\n",
       "  </thead>\n",
       "  <tbody>\n",
       "    <tr>\n",
       "      <th>0.0</th>\n",
       "      <td>2.984788e+07</td>\n",
       "      <td>20</td>\n",
       "    </tr>\n",
       "    <tr>\n",
       "      <th>1.0</th>\n",
       "      <td>2.112780e+07</td>\n",
       "      <td>135</td>\n",
       "    </tr>\n",
       "    <tr>\n",
       "      <th>2.0</th>\n",
       "      <td>1.810409e+07</td>\n",
       "      <td>207</td>\n",
       "    </tr>\n",
       "    <tr>\n",
       "      <th>3.0</th>\n",
       "      <td>1.121041e+07</td>\n",
       "      <td>230</td>\n",
       "    </tr>\n",
       "    <tr>\n",
       "      <th>4.0</th>\n",
       "      <td>1.453621e+07</td>\n",
       "      <td>468</td>\n",
       "    </tr>\n",
       "    <tr>\n",
       "      <th>5.0</th>\n",
       "      <td>1.485401e+07</td>\n",
       "      <td>593</td>\n",
       "    </tr>\n",
       "    <tr>\n",
       "      <th>6.0</th>\n",
       "      <td>1.380874e+07</td>\n",
       "      <td>433</td>\n",
       "    </tr>\n",
       "    <tr>\n",
       "      <th>7.0</th>\n",
       "      <td>1.427610e+07</td>\n",
       "      <td>281</td>\n",
       "    </tr>\n",
       "    <tr>\n",
       "      <th>8.0</th>\n",
       "      <td>1.023335e+07</td>\n",
       "      <td>391</td>\n",
       "    </tr>\n",
       "    <tr>\n",
       "      <th>9.0</th>\n",
       "      <td>7.101782e+06</td>\n",
       "      <td>403</td>\n",
       "    </tr>\n",
       "    <tr>\n",
       "      <th>10.0</th>\n",
       "      <td>6.671475e+06</td>\n",
       "      <td>470</td>\n",
       "    </tr>\n",
       "    <tr>\n",
       "      <th>11.0</th>\n",
       "      <td>6.374881e+06</td>\n",
       "      <td>803</td>\n",
       "    </tr>\n",
       "    <tr>\n",
       "      <th>12.0</th>\n",
       "      <td>5.995850e+06</td>\n",
       "      <td>1091</td>\n",
       "    </tr>\n",
       "    <tr>\n",
       "      <th>13.0</th>\n",
       "      <td>6.104075e+06</td>\n",
       "      <td>1070</td>\n",
       "    </tr>\n",
       "    <tr>\n",
       "      <th>14.0</th>\n",
       "      <td>5.138344e+06</td>\n",
       "      <td>1408</td>\n",
       "    </tr>\n",
       "    <tr>\n",
       "      <th>15.0</th>\n",
       "      <td>4.248436e+06</td>\n",
       "      <td>2397</td>\n",
       "    </tr>\n",
       "    <tr>\n",
       "      <th>16.0</th>\n",
       "      <td>3.435782e+06</td>\n",
       "      <td>2094</td>\n",
       "    </tr>\n",
       "    <tr>\n",
       "      <th>17.0</th>\n",
       "      <td>4.511719e+06</td>\n",
       "      <td>729</td>\n",
       "    </tr>\n",
       "    <tr>\n",
       "      <th>18.0</th>\n",
       "      <td>4.794073e+06</td>\n",
       "      <td>243</td>\n",
       "    </tr>\n",
       "    <tr>\n",
       "      <th>19.0</th>\n",
       "      <td>4.703481e+06</td>\n",
       "      <td>245</td>\n",
       "    </tr>\n",
       "    <tr>\n",
       "      <th>20.0</th>\n",
       "      <td>5.449797e+06</td>\n",
       "      <td>70</td>\n",
       "    </tr>\n",
       "    <tr>\n",
       "      <th>21.0</th>\n",
       "      <td>5.042193e+06</td>\n",
       "      <td>113</td>\n",
       "    </tr>\n",
       "    <tr>\n",
       "      <th>22.0</th>\n",
       "      <td>5.268731e+06</td>\n",
       "      <td>151</td>\n",
       "    </tr>\n",
       "    <tr>\n",
       "      <th>23.0</th>\n",
       "      <td>5.068437e+06</td>\n",
       "      <td>71</td>\n",
       "    </tr>\n",
       "    <tr>\n",
       "      <th>24.0</th>\n",
       "      <td>4.285143e+06</td>\n",
       "      <td>71</td>\n",
       "    </tr>\n",
       "    <tr>\n",
       "      <th>25.0</th>\n",
       "      <td>4.958622e+06</td>\n",
       "      <td>36</td>\n",
       "    </tr>\n",
       "    <tr>\n",
       "      <th>26.0</th>\n",
       "      <td>5.336472e+06</td>\n",
       "      <td>76</td>\n",
       "    </tr>\n",
       "    <tr>\n",
       "      <th>27.0</th>\n",
       "      <td>5.444790e+06</td>\n",
       "      <td>62</td>\n",
       "    </tr>\n",
       "    <tr>\n",
       "      <th>28.0</th>\n",
       "      <td>5.214731e+06</td>\n",
       "      <td>67</td>\n",
       "    </tr>\n",
       "    <tr>\n",
       "      <th>29.0</th>\n",
       "      <td>4.566098e+06</td>\n",
       "      <td>92</td>\n",
       "    </tr>\n",
       "    <tr>\n",
       "      <th>30.0</th>\n",
       "      <td>4.561232e+06</td>\n",
       "      <td>135</td>\n",
       "    </tr>\n",
       "    <tr>\n",
       "      <th>31.0</th>\n",
       "      <td>4.737198e+06</td>\n",
       "      <td>181</td>\n",
       "    </tr>\n",
       "    <tr>\n",
       "      <th>32.0</th>\n",
       "      <td>4.307657e+06</td>\n",
       "      <td>102</td>\n",
       "    </tr>\n",
       "    <tr>\n",
       "      <th>33.0</th>\n",
       "      <td>4.535869e+06</td>\n",
       "      <td>80</td>\n",
       "    </tr>\n",
       "    <tr>\n",
       "      <th>34.0</th>\n",
       "      <td>5.439712e+06</td>\n",
       "      <td>124</td>\n",
       "    </tr>\n",
       "    <tr>\n",
       "      <th>35.0</th>\n",
       "      <td>5.795851e+06</td>\n",
       "      <td>67</td>\n",
       "    </tr>\n",
       "    <tr>\n",
       "      <th>36.0</th>\n",
       "      <td>5.507160e+06</td>\n",
       "      <td>25</td>\n",
       "    </tr>\n",
       "    <tr>\n",
       "      <th>37.0</th>\n",
       "      <td>4.385556e+06</td>\n",
       "      <td>9</td>\n",
       "    </tr>\n",
       "    <tr>\n",
       "      <th>39.0</th>\n",
       "      <td>3.100000e+06</td>\n",
       "      <td>3</td>\n",
       "    </tr>\n",
       "    <tr>\n",
       "      <th>40.0</th>\n",
       "      <td>4.401667e+06</td>\n",
       "      <td>12</td>\n",
       "    </tr>\n",
       "    <tr>\n",
       "      <th>41.0</th>\n",
       "      <td>3.433167e+06</td>\n",
       "      <td>6</td>\n",
       "    </tr>\n",
       "    <tr>\n",
       "      <th>42.0</th>\n",
       "      <td>2.787500e+06</td>\n",
       "      <td>4</td>\n",
       "    </tr>\n",
       "    <tr>\n",
       "      <th>43.0</th>\n",
       "      <td>1.153148e+07</td>\n",
       "      <td>5</td>\n",
       "    </tr>\n",
       "    <tr>\n",
       "      <th>47.0</th>\n",
       "      <td>3.736200e+06</td>\n",
       "      <td>20</td>\n",
       "    </tr>\n",
       "    <tr>\n",
       "      <th>48.0</th>\n",
       "      <td>5.030000e+06</td>\n",
       "      <td>6</td>\n",
       "    </tr>\n",
       "    <tr>\n",
       "      <th>49.0</th>\n",
       "      <td>4.569474e+06</td>\n",
       "      <td>19</td>\n",
       "    </tr>\n",
       "    <tr>\n",
       "      <th>50.0</th>\n",
       "      <td>3.605385e+06</td>\n",
       "      <td>26</td>\n",
       "    </tr>\n",
       "    <tr>\n",
       "      <th>51.0</th>\n",
       "      <td>4.960875e+06</td>\n",
       "      <td>32</td>\n",
       "    </tr>\n",
       "    <tr>\n",
       "      <th>52.0</th>\n",
       "      <td>3.412059e+06</td>\n",
       "      <td>34</td>\n",
       "    </tr>\n",
       "    <tr>\n",
       "      <th>53.0</th>\n",
       "      <td>4.152000e+06</td>\n",
       "      <td>20</td>\n",
       "    </tr>\n",
       "    <tr>\n",
       "      <th>54.0</th>\n",
       "      <td>8.571300e+06</td>\n",
       "      <td>2</td>\n",
       "    </tr>\n",
       "    <tr>\n",
       "      <th>57.0</th>\n",
       "      <td>3.015000e+06</td>\n",
       "      <td>1</td>\n",
       "    </tr>\n",
       "    <tr>\n",
       "      <th>60.0</th>\n",
       "      <td>1.800000e+06</td>\n",
       "      <td>1</td>\n",
       "    </tr>\n",
       "    <tr>\n",
       "      <th>61.0</th>\n",
       "      <td>3.200000e+06</td>\n",
       "      <td>1</td>\n",
       "    </tr>\n",
       "    <tr>\n",
       "      <th>65.0</th>\n",
       "      <td>3.475000e+06</td>\n",
       "      <td>2</td>\n",
       "    </tr>\n",
       "    <tr>\n",
       "      <th>66.0</th>\n",
       "      <td>4.100000e+06</td>\n",
       "      <td>2</td>\n",
       "    </tr>\n",
       "  </tbody>\n",
       "</table>\n",
       "</div>"
      ],
      "text/plain": [
       "                          mean_price  cityCenters_nearest_km\n",
       "cityCenters_nearest_km                                      \n",
       "0.0                     2.984788e+07                      20\n",
       "1.0                     2.112780e+07                     135\n",
       "2.0                     1.810409e+07                     207\n",
       "3.0                     1.121041e+07                     230\n",
       "4.0                     1.453621e+07                     468\n",
       "5.0                     1.485401e+07                     593\n",
       "6.0                     1.380874e+07                     433\n",
       "7.0                     1.427610e+07                     281\n",
       "8.0                     1.023335e+07                     391\n",
       "9.0                     7.101782e+06                     403\n",
       "10.0                    6.671475e+06                     470\n",
       "11.0                    6.374881e+06                     803\n",
       "12.0                    5.995850e+06                    1091\n",
       "13.0                    6.104075e+06                    1070\n",
       "14.0                    5.138344e+06                    1408\n",
       "15.0                    4.248436e+06                    2397\n",
       "16.0                    3.435782e+06                    2094\n",
       "17.0                    4.511719e+06                     729\n",
       "18.0                    4.794073e+06                     243\n",
       "19.0                    4.703481e+06                     245\n",
       "20.0                    5.449797e+06                      70\n",
       "21.0                    5.042193e+06                     113\n",
       "22.0                    5.268731e+06                     151\n",
       "23.0                    5.068437e+06                      71\n",
       "24.0                    4.285143e+06                      71\n",
       "25.0                    4.958622e+06                      36\n",
       "26.0                    5.336472e+06                      76\n",
       "27.0                    5.444790e+06                      62\n",
       "28.0                    5.214731e+06                      67\n",
       "29.0                    4.566098e+06                      92\n",
       "30.0                    4.561232e+06                     135\n",
       "31.0                    4.737198e+06                     181\n",
       "32.0                    4.307657e+06                     102\n",
       "33.0                    4.535869e+06                      80\n",
       "34.0                    5.439712e+06                     124\n",
       "35.0                    5.795851e+06                      67\n",
       "36.0                    5.507160e+06                      25\n",
       "37.0                    4.385556e+06                       9\n",
       "39.0                    3.100000e+06                       3\n",
       "40.0                    4.401667e+06                      12\n",
       "41.0                    3.433167e+06                       6\n",
       "42.0                    2.787500e+06                       4\n",
       "43.0                    1.153148e+07                       5\n",
       "47.0                    3.736200e+06                      20\n",
       "48.0                    5.030000e+06                       6\n",
       "49.0                    4.569474e+06                      19\n",
       "50.0                    3.605385e+06                      26\n",
       "51.0                    4.960875e+06                      32\n",
       "52.0                    3.412059e+06                      34\n",
       "53.0                    4.152000e+06                      20\n",
       "54.0                    8.571300e+06                       2\n",
       "57.0                    3.015000e+06                       1\n",
       "60.0                    1.800000e+06                       1\n",
       "61.0                    3.200000e+06                       1\n",
       "65.0                    3.475000e+06                       2\n",
       "66.0                    4.100000e+06                       2"
      ]
     },
     "execution_count": 48,
     "metadata": {},
     "output_type": "execute_result"
    }
   ],
   "source": [
    "peter_table = (\n",
    "        good_data[good_data['locality_name'] == 'санкт-петербург']\n",
    "        .groupby('cityCenters_nearest_km')\n",
    "        .agg({'last_price': 'mean', 'cityCenters_nearest_km': 'count'})\n",
    "        .rename(columns={'last_price': 'mean_price'})\n",
    "              )\n",
    "peter_table"
   ]
  },
  {
   "cell_type": "code",
   "execution_count": 49,
   "metadata": {
    "scrolled": true
   },
   "outputs": [
    {
     "data": {
      "text/plain": [
       "(array([ 0,  1,  2,  3,  4,  5,  6,  7,  8,  9, 10, 11, 12, 13, 14, 15, 16,\n",
       "        17, 18, 19, 20, 21, 22, 23, 24, 25, 26, 27, 28, 29, 30, 31, 32, 33,\n",
       "        34, 35, 36, 37, 38, 39, 40, 41, 42, 43, 44, 45, 46, 47, 48, 49, 50,\n",
       "        51, 52, 53, 54, 55]),\n",
       " [Text(0, 0, '0.0'),\n",
       "  Text(1, 0, '1.0'),\n",
       "  Text(2, 0, '2.0'),\n",
       "  Text(3, 0, '3.0'),\n",
       "  Text(4, 0, '4.0'),\n",
       "  Text(5, 0, '5.0'),\n",
       "  Text(6, 0, '6.0'),\n",
       "  Text(7, 0, '7.0'),\n",
       "  Text(8, 0, '8.0'),\n",
       "  Text(9, 0, '9.0'),\n",
       "  Text(10, 0, '10.0'),\n",
       "  Text(11, 0, '11.0'),\n",
       "  Text(12, 0, '12.0'),\n",
       "  Text(13, 0, '13.0'),\n",
       "  Text(14, 0, '14.0'),\n",
       "  Text(15, 0, '15.0'),\n",
       "  Text(16, 0, '16.0'),\n",
       "  Text(17, 0, '17.0'),\n",
       "  Text(18, 0, '18.0'),\n",
       "  Text(19, 0, '19.0'),\n",
       "  Text(20, 0, '20.0'),\n",
       "  Text(21, 0, '21.0'),\n",
       "  Text(22, 0, '22.0'),\n",
       "  Text(23, 0, '23.0'),\n",
       "  Text(24, 0, '24.0'),\n",
       "  Text(25, 0, '25.0'),\n",
       "  Text(26, 0, '26.0'),\n",
       "  Text(27, 0, '27.0'),\n",
       "  Text(28, 0, '28.0'),\n",
       "  Text(29, 0, '29.0'),\n",
       "  Text(30, 0, '30.0'),\n",
       "  Text(31, 0, '31.0'),\n",
       "  Text(32, 0, '32.0'),\n",
       "  Text(33, 0, '33.0'),\n",
       "  Text(34, 0, '34.0'),\n",
       "  Text(35, 0, '35.0'),\n",
       "  Text(36, 0, '36.0'),\n",
       "  Text(37, 0, '37.0'),\n",
       "  Text(38, 0, '39.0'),\n",
       "  Text(39, 0, '40.0'),\n",
       "  Text(40, 0, '41.0'),\n",
       "  Text(41, 0, '42.0'),\n",
       "  Text(42, 0, '43.0'),\n",
       "  Text(43, 0, '47.0'),\n",
       "  Text(44, 0, '48.0'),\n",
       "  Text(45, 0, '49.0'),\n",
       "  Text(46, 0, '50.0'),\n",
       "  Text(47, 0, '51.0'),\n",
       "  Text(48, 0, '52.0'),\n",
       "  Text(49, 0, '53.0'),\n",
       "  Text(50, 0, '54.0'),\n",
       "  Text(51, 0, '57.0'),\n",
       "  Text(52, 0, '60.0'),\n",
       "  Text(53, 0, '61.0'),\n",
       "  Text(54, 0, '65.0'),\n",
       "  Text(55, 0, '66.0')])"
      ]
     },
     "execution_count": 49,
     "metadata": {},
     "output_type": "execute_result"
    },
    {
     "data": {
      "image/png": "[encoded data removed]",
      "text/plain": [
       "<Figure size 1296x432 with 1 Axes>"
      ]
     },
     "metadata": {
      "needs_background": "light"
     },
     "output_type": "display_data"
    }
   ],
   "source": [
    "peter_table.plot(y='mean_price', kind='bar', figsize=(18, 6))\n",
    "plt.xticks(rotation=45)"
   ]
  },
  {
   "cell_type": "markdown",
   "metadata": {},
   "source": [
    "По графику видно, что расстояние от центра города играет большую роль в образовании итоговой цены квартиры в Санкт-Петербурге.\n",
    "Так, квартиры, находящиеся в пределах восьми километров от центра значительно дороже других.\n",
    "Однако присутствуют два исключения(на 43км и 54км). Это связано с тем, что объявлений с таким расстоянием от цента мало, а цена высокая, поэтому они и выбиваются из общего вывода."
   ]
  },
  {
   "cell_type": "markdown",
   "metadata": {
    "id": "h7VpzkIDAwb-"
   },
   "source": [
    "## Общий вывод"
   ]
  },
  {
   "cell_type": "markdown",
   "metadata": {
    "id": "3H4lnp_KAwb-"
   },
   "source": [
    "В ходе предообработки данных\n",
    "\n",
    "- столбцы *is_apartment*, *balcony*, *parks_nearest*, *ponds_nearest* были удалены из таблицы из-за недостатка данных\n",
    "- в таблице были удалены строки, в которых были пропущены значения в столбцах *floors_total*, *locality_name*\n",
    "- оставшиеся пропущенные значения были заменены на наиболее подходящие в зависимости от других данных\n",
    "- изменены типы данных столбцов first_day_exposition, open_plan и studio,\n",
    "- удалены неявные дубликаты в столбце *locality_name*\n",
    "- были добавлены столбцы *price_per_meter*, *exposion_weekday*, *exposion_month*, *exposion_year*\n",
    "\n",
    "В ходе работы с данными я сделал вывод, что на цену квартиры больше всего влияют:\n",
    "- общая площадь,\n",
    "- жилая площадь,\n",
    "- площадь кухни,\n",
    "- количество комнат,\n",
    "- расположение квартиры относительно центра населённого пункта,\n",
    "- количество дней, которое было размещено объявление.\n",
    "\n",
    "\n",
    "Данное исследование может помочь в настройке автоматизированной системы с целью поиска аномалий и мошеннической деятельности."
   ]
  }
 ],
 "metadata": {
  "ExecuteTimeLog": [
   {
    "duration": 633,
    "start_time": "2024-12-02T14:56:24.729Z"
   },
   {
    "duration": 18,
    "start_time": "2024-12-02T14:56:31.316Z"
   },
   {
    "duration": 119,
    "start_time": "2024-12-02T14:58:00.332Z"
   },
   {
    "duration": 90,
    "start_time": "2024-12-02T14:58:06.018Z"
   },
   {
    "duration": 6,
    "start_time": "2024-12-02T14:58:07.094Z"
   },
   {
    "duration": 400,
    "start_time": "2024-12-02T14:58:13.432Z"
   },
   {
    "duration": 27,
    "start_time": "2024-12-02T14:58:15.108Z"
   },
   {
    "duration": 63,
    "start_time": "2024-12-02T14:59:01.290Z"
   },
   {
    "duration": 3,
    "start_time": "2024-12-02T14:59:11.300Z"
   },
   {
    "duration": 354,
    "start_time": "2024-12-02T14:59:12.312Z"
   },
   {
    "duration": 3,
    "start_time": "2024-12-02T14:59:31.733Z"
   },
   {
    "duration": 333,
    "start_time": "2024-12-02T14:59:32.923Z"
   },
   {
    "duration": 95,
    "start_time": "2024-12-02T15:00:29.572Z"
   },
   {
    "duration": 7,
    "start_time": "2024-12-02T15:00:32.833Z"
   },
   {
    "duration": 414,
    "start_time": "2024-12-02T15:00:54.375Z"
   },
   {
    "duration": 2,
    "start_time": "2024-12-02T15:00:59.309Z"
   },
   {
    "duration": 334,
    "start_time": "2024-12-02T15:01:14.569Z"
   },
   {
    "duration": 25,
    "start_time": "2024-12-02T15:01:15.433Z"
   },
   {
    "duration": 18,
    "start_time": "2024-12-02T15:01:28.783Z"
   },
   {
    "duration": 2358,
    "start_time": "2024-12-02T15:06:26.592Z"
   },
   {
    "duration": 32,
    "start_time": "2024-12-02T15:32:42.736Z"
   },
   {
    "duration": 10,
    "start_time": "2024-12-02T15:32:53.717Z"
   },
   {
    "duration": 15,
    "start_time": "2024-12-02T15:32:59.617Z"
   },
   {
    "duration": 418,
    "start_time": "2024-12-02T15:35:25.592Z"
   },
   {
    "duration": 336,
    "start_time": "2024-12-02T15:36:13.533Z"
   },
   {
    "duration": 336,
    "start_time": "2024-12-02T15:36:25.101Z"
   },
   {
    "duration": 418,
    "start_time": "2024-12-02T15:38:26.948Z"
   },
   {
    "duration": 1390,
    "start_time": "2024-12-02T15:38:38.720Z"
   },
   {
    "duration": 1281,
    "start_time": "2024-12-02T15:38:50.745Z"
   },
   {
    "duration": 17,
    "start_time": "2024-12-02T15:45:33.603Z"
   },
   {
    "duration": 1204,
    "start_time": "2024-12-02T15:45:35.639Z"
   },
   {
    "duration": 1410,
    "start_time": "2024-12-02T15:45:44.111Z"
   },
   {
    "duration": 25,
    "start_time": "2024-12-02T15:46:39.691Z"
   },
   {
    "duration": 17,
    "start_time": "2024-12-02T15:49:04.109Z"
   },
   {
    "duration": 14,
    "start_time": "2024-12-02T15:49:12.597Z"
   },
   {
    "duration": 2022,
    "start_time": "2024-12-02T15:49:53.970Z"
   },
   {
    "duration": 357,
    "start_time": "2024-12-02T15:50:13.271Z"
   },
   {
    "duration": 15,
    "start_time": "2024-12-02T15:50:15.419Z"
   },
   {
    "duration": 2041,
    "start_time": "2024-12-02T15:50:18.621Z"
   },
   {
    "duration": 14,
    "start_time": "2024-12-02T15:53:56.843Z"
   },
   {
    "duration": 12,
    "start_time": "2024-12-02T15:54:11.560Z"
   },
   {
    "duration": 13,
    "start_time": "2024-12-02T15:54:36.759Z"
   },
   {
    "duration": 14,
    "start_time": "2024-12-02T15:54:41.023Z"
   },
   {
    "duration": 13,
    "start_time": "2024-12-02T15:55:04.476Z"
   },
   {
    "duration": 18,
    "start_time": "2024-12-02T15:57:22.687Z"
   },
   {
    "duration": 15,
    "start_time": "2024-12-02T15:57:46.204Z"
   },
   {
    "duration": 14,
    "start_time": "2024-12-02T15:57:51.009Z"
   },
   {
    "duration": 15,
    "start_time": "2024-12-02T15:57:58.177Z"
   },
   {
    "duration": 2170,
    "start_time": "2024-12-02T15:58:23.831Z"
   },
   {
    "duration": 17,
    "start_time": "2024-12-02T16:00:44.645Z"
   },
   {
    "duration": 1381,
    "start_time": "2024-12-02T16:02:04.265Z"
   },
   {
    "duration": 1304,
    "start_time": "2024-12-02T16:02:08.651Z"
   },
   {
    "duration": 9,
    "start_time": "2024-12-02T16:02:25.421Z"
   },
   {
    "duration": 10,
    "start_time": "2024-12-02T16:02:35.476Z"
   },
   {
    "duration": 84,
    "start_time": "2024-12-02T16:03:50.522Z"
   },
   {
    "duration": 4,
    "start_time": "2024-12-02T16:04:13.930Z"
   },
   {
    "duration": 4,
    "start_time": "2024-12-02T16:04:24.021Z"
   },
   {
    "duration": 7,
    "start_time": "2024-12-02T16:04:33.832Z"
   },
   {
    "duration": 7,
    "start_time": "2024-12-02T16:04:58.991Z"
   },
   {
    "duration": 6,
    "start_time": "2024-12-02T16:05:11.522Z"
   },
   {
    "duration": 3,
    "start_time": "2024-12-02T16:05:16.624Z"
   },
   {
    "duration": 3,
    "start_time": "2024-12-02T16:05:27.599Z"
   },
   {
    "duration": 1425,
    "start_time": "2024-12-02T16:05:45.835Z"
   },
   {
    "duration": 44,
    "start_time": "2024-12-02T16:05:56.492Z"
   },
   {
    "duration": 308,
    "start_time": "2024-12-02T16:06:02.744Z"
   },
   {
    "duration": 308,
    "start_time": "2024-12-02T16:06:15.653Z"
   },
   {
    "duration": 81,
    "start_time": "2024-12-02T16:06:45.545Z"
   },
   {
    "duration": 10,
    "start_time": "2024-12-02T16:07:12.043Z"
   },
   {
    "duration": 329,
    "start_time": "2024-12-02T16:07:25.000Z"
   },
   {
    "duration": 48,
    "start_time": "2024-12-02T16:07:50.178Z"
   },
   {
    "duration": 8,
    "start_time": "2024-12-02T16:08:13.069Z"
   },
   {
    "duration": 9,
    "start_time": "2024-12-02T16:08:21.223Z"
   },
   {
    "duration": 578,
    "start_time": "2024-12-02T16:09:38.408Z"
   },
   {
    "duration": 46,
    "start_time": "2024-12-02T16:10:35.833Z"
   },
   {
    "duration": 617,
    "start_time": "2024-12-02T16:11:07.270Z"
   },
   {
    "duration": 42,
    "start_time": "2024-12-02T16:11:52.017Z"
   },
   {
    "duration": 275,
    "start_time": "2024-12-02T16:12:02.081Z"
   },
   {
    "duration": 13,
    "start_time": "2024-12-02T16:14:11.327Z"
   },
   {
    "duration": 50,
    "start_time": "2024-12-02T16:14:16.025Z"
   },
   {
    "duration": 915,
    "start_time": "2024-12-02T16:14:46.921Z"
   },
   {
    "duration": 52,
    "start_time": "2024-12-03T06:55:12.844Z"
   },
   {
    "duration": 1044,
    "start_time": "2024-12-03T06:55:25.978Z"
   },
   {
    "duration": 32,
    "start_time": "2024-12-03T06:55:27.024Z"
   },
   {
    "duration": 15,
    "start_time": "2024-12-03T06:55:27.057Z"
   },
   {
    "duration": 12,
    "start_time": "2024-12-03T06:55:27.074Z"
   },
   {
    "duration": 2539,
    "start_time": "2024-12-03T06:55:27.098Z"
   },
   {
    "duration": 16,
    "start_time": "2024-12-03T06:55:29.639Z"
   },
   {
    "duration": 19,
    "start_time": "2024-12-03T06:55:29.658Z"
   },
   {
    "duration": 95,
    "start_time": "2024-12-03T06:55:29.679Z"
   },
   {
    "duration": 12,
    "start_time": "2024-12-03T06:55:44.920Z"
   },
   {
    "duration": 3132,
    "start_time": "2024-12-03T07:01:22.926Z"
   },
   {
    "duration": 173,
    "start_time": "2024-12-03T07:01:38.946Z"
   },
   {
    "duration": 2445,
    "start_time": "2024-12-03T07:02:23.312Z"
   },
   {
    "duration": 75,
    "start_time": "2024-12-03T07:02:43.407Z"
   },
   {
    "duration": 2249,
    "start_time": "2024-12-03T07:02:49.560Z"
   },
   {
    "duration": 11,
    "start_time": "2024-12-03T07:03:59.429Z"
   },
   {
    "duration": 2396,
    "start_time": "2024-12-03T07:04:04.806Z"
   },
   {
    "duration": 2296,
    "start_time": "2024-12-03T07:04:14.860Z"
   },
   {
    "duration": 844,
    "start_time": "2024-12-03T07:48:57.306Z"
   },
   {
    "duration": 31,
    "start_time": "2024-12-03T07:48:58.152Z"
   },
   {
    "duration": 23,
    "start_time": "2024-12-03T07:48:58.184Z"
   },
   {
    "duration": 13,
    "start_time": "2024-12-03T07:48:58.208Z"
   },
   {
    "duration": 2252,
    "start_time": "2024-12-03T07:48:58.222Z"
   },
   {
    "duration": 15,
    "start_time": "2024-12-03T07:49:00.476Z"
   },
   {
    "duration": 2759,
    "start_time": "2024-12-03T07:49:00.493Z"
   },
   {
    "duration": 13,
    "start_time": "2024-12-03T07:49:03.254Z"
   },
   {
    "duration": 33,
    "start_time": "2024-12-03T07:49:03.269Z"
   },
   {
    "duration": 28,
    "start_time": "2024-12-03T07:51:17.499Z"
   },
   {
    "duration": 460,
    "start_time": "2024-12-03T07:51:26.926Z"
   },
   {
    "duration": 29,
    "start_time": "2024-12-03T07:51:28.070Z"
   },
   {
    "duration": 14,
    "start_time": "2024-12-03T07:51:35.582Z"
   },
   {
    "duration": 11,
    "start_time": "2024-12-03T07:51:58.901Z"
   },
   {
    "duration": 126,
    "start_time": "2024-12-03T07:54:19.880Z"
   },
   {
    "duration": 12,
    "start_time": "2024-12-03T07:54:24.736Z"
   },
   {
    "duration": 2826,
    "start_time": "2024-12-03T07:58:45.865Z"
   },
   {
    "duration": 310,
    "start_time": "2024-12-03T07:58:59.779Z"
   },
   {
    "duration": 224,
    "start_time": "2024-12-03T08:00:23.729Z"
   },
   {
    "duration": 283,
    "start_time": "2024-12-03T08:00:47.418Z"
   },
   {
    "duration": 15,
    "start_time": "2024-12-03T08:01:26.567Z"
   },
   {
    "duration": 11,
    "start_time": "2024-12-03T08:01:38.906Z"
   },
   {
    "duration": 2387,
    "start_time": "2024-12-03T08:05:31.778Z"
   },
   {
    "duration": 23,
    "start_time": "2024-12-03T08:13:39.271Z"
   },
   {
    "duration": 18,
    "start_time": "2024-12-03T08:14:51.616Z"
   },
   {
    "duration": 28,
    "start_time": "2024-12-03T08:15:39.233Z"
   },
   {
    "duration": 2455,
    "start_time": "2024-12-03T08:16:28.863Z"
   },
   {
    "duration": 14,
    "start_time": "2024-12-03T08:21:57.111Z"
   },
   {
    "duration": 5,
    "start_time": "2024-12-03T08:22:09.391Z"
   },
   {
    "duration": 1727,
    "start_time": "2024-12-03T08:22:16.506Z"
   },
   {
    "duration": 10,
    "start_time": "2024-12-03T08:22:52.482Z"
   },
   {
    "duration": 6,
    "start_time": "2024-12-03T08:24:57.575Z"
   },
   {
    "duration": 5,
    "start_time": "2024-12-03T08:25:01.417Z"
   },
   {
    "duration": 1560,
    "start_time": "2024-12-03T08:25:02.371Z"
   },
   {
    "duration": 10,
    "start_time": "2024-12-03T08:25:12.643Z"
   },
   {
    "duration": 36,
    "start_time": "2024-12-03T08:27:43.724Z"
   },
   {
    "duration": 13,
    "start_time": "2024-12-03T08:27:51.250Z"
   },
   {
    "duration": 10,
    "start_time": "2024-12-03T08:28:13.041Z"
   },
   {
    "duration": 831,
    "start_time": "2024-12-03T08:28:59.559Z"
   },
   {
    "duration": 35,
    "start_time": "2024-12-03T08:29:00.392Z"
   },
   {
    "duration": 43,
    "start_time": "2024-12-03T08:29:00.429Z"
   },
   {
    "duration": 2332,
    "start_time": "2024-12-03T08:29:00.474Z"
   },
   {
    "duration": 12,
    "start_time": "2024-12-03T08:29:02.808Z"
   },
   {
    "duration": 91,
    "start_time": "2024-12-03T08:29:02.821Z"
   },
   {
    "duration": 0,
    "start_time": "2024-12-03T08:29:02.913Z"
   },
   {
    "duration": 0,
    "start_time": "2024-12-03T08:29:02.914Z"
   },
   {
    "duration": 0,
    "start_time": "2024-12-03T08:29:02.915Z"
   },
   {
    "duration": 601,
    "start_time": "2024-12-03T08:29:41.570Z"
   },
   {
    "duration": 2391,
    "start_time": "2024-12-03T08:30:10.522Z"
   },
   {
    "duration": 12,
    "start_time": "2024-12-03T08:30:21.036Z"
   },
   {
    "duration": 1649,
    "start_time": "2024-12-03T08:30:22.632Z"
   },
   {
    "duration": 21,
    "start_time": "2024-12-03T08:30:24.282Z"
   },
   {
    "duration": 11,
    "start_time": "2024-12-03T08:35:53.756Z"
   },
   {
    "duration": 10,
    "start_time": "2024-12-03T08:36:46.047Z"
   },
   {
    "duration": 19,
    "start_time": "2024-12-03T08:37:36.447Z"
   },
   {
    "duration": 340,
    "start_time": "2024-12-03T08:37:52.201Z"
   },
   {
    "duration": 3650,
    "start_time": "2024-12-03T08:38:29.564Z"
   },
   {
    "duration": 11,
    "start_time": "2024-12-03T08:43:51.242Z"
   },
   {
    "duration": 806,
    "start_time": "2024-12-03T08:43:58.425Z"
   },
   {
    "duration": 36,
    "start_time": "2024-12-03T08:43:59.233Z"
   },
   {
    "duration": 31,
    "start_time": "2024-12-03T08:43:59.271Z"
   },
   {
    "duration": 2206,
    "start_time": "2024-12-03T08:43:59.304Z"
   },
   {
    "duration": 7,
    "start_time": "2024-12-03T08:44:01.513Z"
   },
   {
    "duration": 88,
    "start_time": "2024-12-03T08:44:01.522Z"
   },
   {
    "duration": 0,
    "start_time": "2024-12-03T08:44:01.612Z"
   },
   {
    "duration": 0,
    "start_time": "2024-12-03T08:44:01.613Z"
   },
   {
    "duration": 0,
    "start_time": "2024-12-03T08:44:01.614Z"
   },
   {
    "duration": 0,
    "start_time": "2024-12-03T08:44:01.614Z"
   },
   {
    "duration": 0,
    "start_time": "2024-12-03T08:44:01.616Z"
   },
   {
    "duration": 11,
    "start_time": "2024-12-03T08:44:09.494Z"
   },
   {
    "duration": 2941,
    "start_time": "2024-12-03T08:44:11.685Z"
   },
   {
    "duration": 12,
    "start_time": "2024-12-03T08:44:17.650Z"
   },
   {
    "duration": 1692,
    "start_time": "2024-12-03T08:44:18.970Z"
   },
   {
    "duration": 11,
    "start_time": "2024-12-03T08:44:20.669Z"
   },
   {
    "duration": 423,
    "start_time": "2024-12-03T08:44:22.940Z"
   },
   {
    "duration": 42,
    "start_time": "2024-12-03T08:45:40.810Z"
   },
   {
    "duration": 5093,
    "start_time": "2024-12-03T08:46:10.981Z"
   },
   {
    "duration": 5190,
    "start_time": "2024-12-03T08:46:56.410Z"
   },
   {
    "duration": 5291,
    "start_time": "2024-12-03T08:47:34.211Z"
   },
   {
    "duration": 11,
    "start_time": "2024-12-03T08:48:01.558Z"
   },
   {
    "duration": 1621,
    "start_time": "2024-12-03T08:48:18.352Z"
   },
   {
    "duration": 1520,
    "start_time": "2024-12-03T08:48:27.504Z"
   },
   {
    "duration": 652,
    "start_time": "2024-12-03T08:48:36.690Z"
   },
   {
    "duration": 4,
    "start_time": "2024-12-03T08:49:43.956Z"
   },
   {
    "duration": 4,
    "start_time": "2024-12-03T08:49:53.754Z"
   },
   {
    "duration": 4,
    "start_time": "2024-12-03T08:50:06.099Z"
   },
   {
    "duration": 3960,
    "start_time": "2024-12-03T08:50:28.143Z"
   },
   {
    "duration": 3803,
    "start_time": "2024-12-03T08:50:47.306Z"
   },
   {
    "duration": 10,
    "start_time": "2024-12-03T08:50:53.277Z"
   },
   {
    "duration": 1388,
    "start_time": "2024-12-03T08:50:55.254Z"
   },
   {
    "duration": 1749,
    "start_time": "2024-12-03T08:51:29.152Z"
   },
   {
    "duration": 11,
    "start_time": "2024-12-03T08:52:21.405Z"
   },
   {
    "duration": 1542,
    "start_time": "2024-12-03T08:52:23.239Z"
   },
   {
    "duration": 19,
    "start_time": "2024-12-03T08:52:38.687Z"
   },
   {
    "duration": 30,
    "start_time": "2024-12-03T08:55:11.819Z"
   },
   {
    "duration": 16,
    "start_time": "2024-12-03T08:56:19.086Z"
   },
   {
    "duration": 14,
    "start_time": "2024-12-03T08:57:08.274Z"
   },
   {
    "duration": 15,
    "start_time": "2024-12-03T08:57:13.894Z"
   },
   {
    "duration": 18,
    "start_time": "2024-12-03T08:57:25.371Z"
   },
   {
    "duration": 104,
    "start_time": "2024-12-03T09:00:00.041Z"
   },
   {
    "duration": 21,
    "start_time": "2024-12-03T09:00:06.700Z"
   },
   {
    "duration": 9,
    "start_time": "2024-12-03T09:00:33.581Z"
   },
   {
    "duration": 5,
    "start_time": "2024-12-03T09:00:37.670Z"
   },
   {
    "duration": 4,
    "start_time": "2024-12-03T09:00:49.171Z"
   },
   {
    "duration": 3,
    "start_time": "2024-12-03T09:01:03.678Z"
   },
   {
    "duration": 20,
    "start_time": "2024-12-03T09:02:40.820Z"
   },
   {
    "duration": 108,
    "start_time": "2024-12-03T09:03:16.958Z"
   },
   {
    "duration": 4,
    "start_time": "2024-12-03T09:03:18.494Z"
   },
   {
    "duration": 19,
    "start_time": "2024-12-03T09:03:46.711Z"
   },
   {
    "duration": 95,
    "start_time": "2024-12-03T09:05:17.513Z"
   },
   {
    "duration": 3994,
    "start_time": "2024-12-03T09:06:06.506Z"
   },
   {
    "duration": 109,
    "start_time": "2024-12-03T09:06:10.503Z"
   },
   {
    "duration": 92,
    "start_time": "2024-12-03T09:06:44.018Z"
   },
   {
    "duration": 13,
    "start_time": "2024-12-03T09:06:44.917Z"
   },
   {
    "duration": 19,
    "start_time": "2024-12-03T09:08:08.706Z"
   },
   {
    "duration": 14,
    "start_time": "2024-12-03T09:08:10.169Z"
   },
   {
    "duration": 28,
    "start_time": "2024-12-03T09:08:39.766Z"
   },
   {
    "duration": 13,
    "start_time": "2024-12-03T09:08:40.929Z"
   },
   {
    "duration": 9,
    "start_time": "2024-12-03T09:08:58.043Z"
   },
   {
    "duration": 836,
    "start_time": "2024-12-03T12:34:59.632Z"
   },
   {
    "duration": 32,
    "start_time": "2024-12-03T12:35:00.470Z"
   },
   {
    "duration": 27,
    "start_time": "2024-12-03T12:35:00.504Z"
   },
   {
    "duration": 2353,
    "start_time": "2024-12-03T12:35:00.533Z"
   },
   {
    "duration": 10,
    "start_time": "2024-12-03T12:35:02.888Z"
   },
   {
    "duration": 31,
    "start_time": "2024-12-03T12:35:02.900Z"
   },
   {
    "duration": 2975,
    "start_time": "2024-12-03T12:35:02.933Z"
   },
   {
    "duration": 13,
    "start_time": "2024-12-03T12:35:05.910Z"
   },
   {
    "duration": 1665,
    "start_time": "2024-12-03T12:35:05.924Z"
   },
   {
    "duration": 14,
    "start_time": "2024-12-03T12:35:07.592Z"
   },
   {
    "duration": 29,
    "start_time": "2024-12-03T12:35:07.608Z"
   },
   {
    "duration": 3059,
    "start_time": "2024-12-03T12:35:07.639Z"
   },
   {
    "duration": 116,
    "start_time": "2024-12-03T12:35:10.701Z"
   },
   {
    "duration": 11,
    "start_time": "2024-12-03T12:35:10.818Z"
   },
   {
    "duration": 13,
    "start_time": "2024-12-03T12:36:18.735Z"
   },
   {
    "duration": 115,
    "start_time": "2024-12-03T13:09:37.112Z"
   },
   {
    "duration": 40,
    "start_time": "2024-12-03T13:09:56.423Z"
   },
   {
    "duration": 39,
    "start_time": "2024-12-03T13:11:09.847Z"
   },
   {
    "duration": 35,
    "start_time": "2024-12-03T13:11:21.844Z"
   },
   {
    "duration": 43,
    "start_time": "2024-12-03T13:11:41.080Z"
   },
   {
    "duration": 47,
    "start_time": "2024-12-03T13:54:39.635Z"
   },
   {
    "duration": 45,
    "start_time": "2024-12-03T13:55:19.262Z"
   },
   {
    "duration": 49,
    "start_time": "2024-12-03T13:56:15.239Z"
   },
   {
    "duration": 41,
    "start_time": "2024-12-03T13:58:25.452Z"
   },
   {
    "duration": 45,
    "start_time": "2024-12-03T13:59:11.670Z"
   },
   {
    "duration": 47,
    "start_time": "2024-12-03T13:59:27.574Z"
   },
   {
    "duration": 14,
    "start_time": "2024-12-03T14:05:04.179Z"
   },
   {
    "duration": 26,
    "start_time": "2024-12-03T14:05:14.806Z"
   },
   {
    "duration": 5,
    "start_time": "2024-12-03T14:07:30.337Z"
   },
   {
    "duration": 15,
    "start_time": "2024-12-03T14:13:18.341Z"
   },
   {
    "duration": 21,
    "start_time": "2024-12-03T14:13:24.521Z"
   },
   {
    "duration": 15,
    "start_time": "2024-12-03T14:14:34.767Z"
   },
   {
    "duration": 876,
    "start_time": "2024-12-03T14:15:29.984Z"
   },
   {
    "duration": 42,
    "start_time": "2024-12-03T14:15:30.862Z"
   },
   {
    "duration": 32,
    "start_time": "2024-12-03T14:15:30.907Z"
   },
   {
    "duration": 2281,
    "start_time": "2024-12-03T14:15:30.941Z"
   },
   {
    "duration": 11,
    "start_time": "2024-12-03T14:15:33.225Z"
   },
   {
    "duration": 48,
    "start_time": "2024-12-03T14:15:33.237Z"
   },
   {
    "duration": 3073,
    "start_time": "2024-12-03T14:15:33.287Z"
   },
   {
    "duration": 35,
    "start_time": "2024-12-03T14:15:36.363Z"
   },
   {
    "duration": 16,
    "start_time": "2024-12-03T14:15:36.400Z"
   },
   {
    "duration": 4684,
    "start_time": "2024-12-03T14:15:36.418Z"
   },
   {
    "duration": 115,
    "start_time": "2024-12-03T14:15:41.104Z"
   },
   {
    "duration": 11,
    "start_time": "2024-12-03T14:15:41.221Z"
   },
   {
    "duration": 21,
    "start_time": "2024-12-03T14:15:41.234Z"
   },
   {
    "duration": 53,
    "start_time": "2024-12-03T14:15:41.258Z"
   },
   {
    "duration": 9,
    "start_time": "2024-12-03T14:15:41.312Z"
   },
   {
    "duration": 9,
    "start_time": "2024-12-03T14:15:41.323Z"
   },
   {
    "duration": 26,
    "start_time": "2024-12-03T14:15:41.333Z"
   },
   {
    "duration": 12,
    "start_time": "2024-12-03T14:15:41.360Z"
   },
   {
    "duration": 48,
    "start_time": "2024-12-03T14:19:37.537Z"
   },
   {
    "duration": 25,
    "start_time": "2024-12-03T14:20:09.926Z"
   },
   {
    "duration": 124,
    "start_time": "2024-12-03T14:21:08.817Z"
   },
   {
    "duration": 76,
    "start_time": "2024-12-03T14:21:16.064Z"
   },
   {
    "duration": 12,
    "start_time": "2024-12-03T14:21:19.450Z"
   },
   {
    "duration": 7,
    "start_time": "2024-12-03T14:23:54.660Z"
   },
   {
    "duration": 15,
    "start_time": "2024-12-03T14:43:09.327Z"
   },
   {
    "duration": 239,
    "start_time": "2024-12-03T14:43:21.936Z"
   },
   {
    "duration": 9,
    "start_time": "2024-12-03T14:43:28.701Z"
   },
   {
    "duration": 221,
    "start_time": "2024-12-03T14:44:00.510Z"
   },
   {
    "duration": 9,
    "start_time": "2024-12-03T14:44:01.994Z"
   },
   {
    "duration": 832,
    "start_time": "2024-12-03T14:44:17.838Z"
   },
   {
    "duration": 42,
    "start_time": "2024-12-03T14:44:18.672Z"
   },
   {
    "duration": 26,
    "start_time": "2024-12-03T14:44:18.715Z"
   },
   {
    "duration": 2347,
    "start_time": "2024-12-03T14:44:18.743Z"
   },
   {
    "duration": 17,
    "start_time": "2024-12-03T14:44:21.093Z"
   },
   {
    "duration": 51,
    "start_time": "2024-12-03T14:44:21.112Z"
   },
   {
    "duration": 3030,
    "start_time": "2024-12-03T14:44:21.164Z"
   },
   {
    "duration": 14,
    "start_time": "2024-12-03T14:44:24.198Z"
   },
   {
    "duration": 4,
    "start_time": "2024-12-03T14:44:24.214Z"
   },
   {
    "duration": 4979,
    "start_time": "2024-12-03T14:44:24.219Z"
   },
   {
    "duration": 113,
    "start_time": "2024-12-03T14:44:29.200Z"
   },
   {
    "duration": 9,
    "start_time": "2024-12-03T14:44:29.315Z"
   },
   {
    "duration": 20,
    "start_time": "2024-12-03T14:44:29.326Z"
   },
   {
    "duration": 15,
    "start_time": "2024-12-03T14:44:29.348Z"
   },
   {
    "duration": 10,
    "start_time": "2024-12-03T14:44:29.398Z"
   },
   {
    "duration": 14,
    "start_time": "2024-12-03T14:44:29.409Z"
   },
   {
    "duration": 41,
    "start_time": "2024-12-03T14:44:29.425Z"
   },
   {
    "duration": 50,
    "start_time": "2024-12-03T14:44:29.468Z"
   },
   {
    "duration": 249,
    "start_time": "2024-12-03T14:44:29.520Z"
   },
   {
    "duration": 7,
    "start_time": "2024-12-03T14:44:29.771Z"
   },
   {
    "duration": 854,
    "start_time": "2024-12-03T14:46:09.723Z"
   },
   {
    "duration": 41,
    "start_time": "2024-12-03T14:46:10.579Z"
   },
   {
    "duration": 23,
    "start_time": "2024-12-03T14:46:10.623Z"
   },
   {
    "duration": 2542,
    "start_time": "2024-12-03T14:46:10.647Z"
   },
   {
    "duration": 13,
    "start_time": "2024-12-03T14:46:13.198Z"
   },
   {
    "duration": 54,
    "start_time": "2024-12-03T14:46:13.213Z"
   },
   {
    "duration": 3114,
    "start_time": "2024-12-03T14:46:13.269Z"
   },
   {
    "duration": 22,
    "start_time": "2024-12-03T14:46:16.385Z"
   },
   {
    "duration": 9,
    "start_time": "2024-12-03T14:46:16.409Z"
   },
   {
    "duration": 4596,
    "start_time": "2024-12-03T14:46:16.420Z"
   },
   {
    "duration": 113,
    "start_time": "2024-12-03T14:46:21.099Z"
   },
   {
    "duration": 23,
    "start_time": "2024-12-03T14:46:21.214Z"
   },
   {
    "duration": 27,
    "start_time": "2024-12-03T14:46:21.239Z"
   },
   {
    "duration": 28,
    "start_time": "2024-12-03T14:46:21.270Z"
   },
   {
    "duration": 10,
    "start_time": "2024-12-03T14:46:21.301Z"
   },
   {
    "duration": 10,
    "start_time": "2024-12-03T14:46:21.313Z"
   },
   {
    "duration": 19,
    "start_time": "2024-12-03T14:46:21.325Z"
   },
   {
    "duration": 8,
    "start_time": "2024-12-03T14:46:21.346Z"
   },
   {
    "duration": 278,
    "start_time": "2024-12-03T14:46:21.355Z"
   },
   {
    "duration": 8,
    "start_time": "2024-12-03T14:46:21.635Z"
   },
   {
    "duration": 948,
    "start_time": "2024-12-03T14:47:41.129Z"
   },
   {
    "duration": 57,
    "start_time": "2024-12-03T14:47:42.079Z"
   },
   {
    "duration": 18,
    "start_time": "2024-12-03T14:47:42.137Z"
   },
   {
    "duration": 2607,
    "start_time": "2024-12-03T14:47:42.158Z"
   },
   {
    "duration": 38,
    "start_time": "2024-12-03T14:47:44.769Z"
   },
   {
    "duration": 47,
    "start_time": "2024-12-03T14:47:44.809Z"
   },
   {
    "duration": 3211,
    "start_time": "2024-12-03T14:47:44.857Z"
   },
   {
    "duration": 34,
    "start_time": "2024-12-03T14:47:48.070Z"
   },
   {
    "duration": 4,
    "start_time": "2024-12-03T14:47:48.105Z"
   },
   {
    "duration": 4893,
    "start_time": "2024-12-03T14:47:48.112Z"
   },
   {
    "duration": 113,
    "start_time": "2024-12-03T14:47:53.007Z"
   },
   {
    "duration": 80,
    "start_time": "2024-12-03T14:47:53.122Z"
   },
   {
    "duration": 32,
    "start_time": "2024-12-03T14:47:53.204Z"
   },
   {
    "duration": 16,
    "start_time": "2024-12-03T14:47:53.240Z"
   },
   {
    "duration": 40,
    "start_time": "2024-12-03T14:47:53.258Z"
   },
   {
    "duration": 5,
    "start_time": "2024-12-03T14:47:53.300Z"
   },
   {
    "duration": 30,
    "start_time": "2024-12-03T14:47:53.306Z"
   },
   {
    "duration": 7,
    "start_time": "2024-12-03T14:47:53.337Z"
   },
   {
    "duration": 291,
    "start_time": "2024-12-03T14:47:53.346Z"
   },
   {
    "duration": 9,
    "start_time": "2024-12-03T14:47:53.640Z"
   },
   {
    "duration": 866,
    "start_time": "2024-12-03T14:49:00.615Z"
   },
   {
    "duration": 43,
    "start_time": "2024-12-03T14:49:01.483Z"
   },
   {
    "duration": 23,
    "start_time": "2024-12-03T14:49:01.528Z"
   },
   {
    "duration": 2401,
    "start_time": "2024-12-03T14:49:01.554Z"
   },
   {
    "duration": 18,
    "start_time": "2024-12-03T14:49:03.960Z"
   },
   {
    "duration": 62,
    "start_time": "2024-12-03T14:49:03.980Z"
   },
   {
    "duration": 3159,
    "start_time": "2024-12-03T14:49:04.044Z"
   },
   {
    "duration": 14,
    "start_time": "2024-12-03T14:49:07.205Z"
   },
   {
    "duration": 42,
    "start_time": "2024-12-03T14:49:07.221Z"
   },
   {
    "duration": 5044,
    "start_time": "2024-12-03T14:49:07.264Z"
   },
   {
    "duration": 207,
    "start_time": "2024-12-03T14:49:12.310Z"
   },
   {
    "duration": 9,
    "start_time": "2024-12-03T14:49:12.519Z"
   },
   {
    "duration": 33,
    "start_time": "2024-12-03T14:49:12.529Z"
   },
   {
    "duration": 42,
    "start_time": "2024-12-03T14:49:12.564Z"
   },
   {
    "duration": 15,
    "start_time": "2024-12-03T14:49:12.608Z"
   },
   {
    "duration": 5,
    "start_time": "2024-12-03T14:49:12.626Z"
   },
   {
    "duration": 17,
    "start_time": "2024-12-03T14:49:12.634Z"
   },
   {
    "duration": 7,
    "start_time": "2024-12-03T14:49:12.653Z"
   },
   {
    "duration": 257,
    "start_time": "2024-12-03T14:49:12.662Z"
   },
   {
    "duration": 7,
    "start_time": "2024-12-03T14:49:12.921Z"
   },
   {
    "duration": 856,
    "start_time": "2024-12-03T14:50:43.179Z"
   },
   {
    "duration": 32,
    "start_time": "2024-12-03T14:50:44.037Z"
   },
   {
    "duration": 29,
    "start_time": "2024-12-03T14:50:44.071Z"
   },
   {
    "duration": 2272,
    "start_time": "2024-12-03T14:50:44.102Z"
   },
   {
    "duration": 26,
    "start_time": "2024-12-03T14:50:46.377Z"
   },
   {
    "duration": 65,
    "start_time": "2024-12-03T14:50:46.405Z"
   },
   {
    "duration": 3111,
    "start_time": "2024-12-03T14:50:46.471Z"
   },
   {
    "duration": 17,
    "start_time": "2024-12-03T14:50:49.583Z"
   },
   {
    "duration": 5,
    "start_time": "2024-12-03T14:50:49.602Z"
   },
   {
    "duration": 3191,
    "start_time": "2024-12-03T14:50:49.609Z"
   },
   {
    "duration": 118,
    "start_time": "2024-12-03T14:50:52.802Z"
   },
   {
    "duration": 9,
    "start_time": "2024-12-03T14:50:52.921Z"
   },
   {
    "duration": 23,
    "start_time": "2024-12-03T14:50:52.932Z"
   },
   {
    "duration": 46,
    "start_time": "2024-12-03T14:50:52.958Z"
   },
   {
    "duration": 10,
    "start_time": "2024-12-03T14:50:53.005Z"
   },
   {
    "duration": 10,
    "start_time": "2024-12-03T14:50:53.017Z"
   },
   {
    "duration": 16,
    "start_time": "2024-12-03T14:50:53.029Z"
   },
   {
    "duration": 7,
    "start_time": "2024-12-03T14:50:53.047Z"
   },
   {
    "duration": 16,
    "start_time": "2024-12-03T14:50:53.055Z"
   },
   {
    "duration": 271,
    "start_time": "2024-12-03T14:50:53.073Z"
   },
   {
    "duration": 7,
    "start_time": "2024-12-03T14:50:53.346Z"
   },
   {
    "duration": 7,
    "start_time": "2024-12-03T14:51:10.907Z"
   },
   {
    "duration": 9,
    "start_time": "2024-12-03T14:51:19.231Z"
   },
   {
    "duration": 3,
    "start_time": "2024-12-03T14:52:57.042Z"
   },
   {
    "duration": 267,
    "start_time": "2024-12-03T14:52:58.350Z"
   },
   {
    "duration": 11,
    "start_time": "2024-12-03T14:53:06.174Z"
   },
   {
    "duration": 12,
    "start_time": "2024-12-03T14:53:29.309Z"
   },
   {
    "duration": 4,
    "start_time": "2024-12-03T14:53:30.337Z"
   },
   {
    "duration": 14,
    "start_time": "2024-12-03T14:53:31.148Z"
   },
   {
    "duration": 7,
    "start_time": "2024-12-03T14:53:32.054Z"
   },
   {
    "duration": 258,
    "start_time": "2024-12-03T14:54:22.423Z"
   },
   {
    "duration": 8,
    "start_time": "2024-12-03T14:54:24.146Z"
   },
   {
    "duration": 4,
    "start_time": "2024-12-03T14:54:53.897Z"
   },
   {
    "duration": 237,
    "start_time": "2024-12-03T14:54:54.821Z"
   },
   {
    "duration": 7,
    "start_time": "2024-12-03T14:54:55.813Z"
   },
   {
    "duration": 240,
    "start_time": "2024-12-03T14:55:18.411Z"
   },
   {
    "duration": 8,
    "start_time": "2024-12-03T14:55:20.523Z"
   },
   {
    "duration": 4,
    "start_time": "2024-12-03T14:55:23.501Z"
   },
   {
    "duration": 232,
    "start_time": "2024-12-03T14:55:25.283Z"
   },
   {
    "duration": 8,
    "start_time": "2024-12-03T14:55:26.957Z"
   },
   {
    "duration": 140,
    "start_time": "2024-12-03T14:57:05.194Z"
   },
   {
    "duration": 242,
    "start_time": "2024-12-03T14:57:11.301Z"
   },
   {
    "duration": 3,
    "start_time": "2024-12-03T14:57:12.913Z"
   },
   {
    "duration": 61,
    "start_time": "2024-12-03T14:57:19.249Z"
   },
   {
    "duration": 4,
    "start_time": "2024-12-03T14:57:29.840Z"
   },
   {
    "duration": 252,
    "start_time": "2024-12-03T14:57:30.769Z"
   },
   {
    "duration": 4,
    "start_time": "2024-12-03T14:59:29.823Z"
   },
   {
    "duration": 260,
    "start_time": "2024-12-03T14:59:30.938Z"
   },
   {
    "duration": 10,
    "start_time": "2024-12-03T14:59:32.134Z"
   },
   {
    "duration": 249,
    "start_time": "2024-12-03T15:00:24.129Z"
   },
   {
    "duration": 4,
    "start_time": "2024-12-03T15:00:25.899Z"
   },
   {
    "duration": 276,
    "start_time": "2024-12-03T15:00:26.596Z"
   },
   {
    "duration": 10,
    "start_time": "2024-12-03T15:00:27.529Z"
   },
   {
    "duration": 280,
    "start_time": "2024-12-03T15:00:48.407Z"
   },
   {
    "duration": 9,
    "start_time": "2024-12-03T15:00:50.548Z"
   },
   {
    "duration": 4,
    "start_time": "2024-12-03T15:00:59.521Z"
   },
   {
    "duration": 264,
    "start_time": "2024-12-03T15:01:00.518Z"
   },
   {
    "duration": 10,
    "start_time": "2024-12-03T15:01:01.533Z"
   },
   {
    "duration": 4,
    "start_time": "2024-12-03T15:01:37.233Z"
   },
   {
    "duration": 337,
    "start_time": "2024-12-03T15:01:38.225Z"
   },
   {
    "duration": 9,
    "start_time": "2024-12-03T15:01:39.501Z"
   },
   {
    "duration": 4,
    "start_time": "2024-12-03T15:01:58.781Z"
   },
   {
    "duration": 298,
    "start_time": "2024-12-03T15:02:00.083Z"
   },
   {
    "duration": 10,
    "start_time": "2024-12-03T15:02:01.047Z"
   },
   {
    "duration": 299,
    "start_time": "2024-12-03T15:02:15.851Z"
   },
   {
    "duration": 3,
    "start_time": "2024-12-03T15:02:16.877Z"
   },
   {
    "duration": 280,
    "start_time": "2024-12-03T15:02:17.633Z"
   },
   {
    "duration": 10,
    "start_time": "2024-12-03T15:02:19.179Z"
   },
   {
    "duration": 24,
    "start_time": "2024-12-03T15:03:28.016Z"
   },
   {
    "duration": 4,
    "start_time": "2024-12-03T15:03:29.773Z"
   },
   {
    "duration": 24,
    "start_time": "2024-12-03T15:03:30.450Z"
   },
   {
    "duration": 9,
    "start_time": "2024-12-03T15:03:31.240Z"
   },
   {
    "duration": 3,
    "start_time": "2024-12-03T15:03:56.830Z"
   },
   {
    "duration": 290,
    "start_time": "2024-12-03T15:03:58.234Z"
   },
   {
    "duration": 10,
    "start_time": "2024-12-03T15:03:59.447Z"
   },
   {
    "duration": 289,
    "start_time": "2024-12-03T15:05:19.021Z"
   },
   {
    "duration": 4,
    "start_time": "2024-12-03T15:05:21.001Z"
   },
   {
    "duration": 262,
    "start_time": "2024-12-03T15:05:22.031Z"
   },
   {
    "duration": 9,
    "start_time": "2024-12-03T15:05:23.282Z"
   },
   {
    "duration": 9,
    "start_time": "2024-12-03T15:07:08.917Z"
   },
   {
    "duration": 21,
    "start_time": "2024-12-03T15:54:01.452Z"
   },
   {
    "duration": 4,
    "start_time": "2024-12-03T15:56:33.945Z"
   },
   {
    "duration": 963,
    "start_time": "2024-12-03T15:59:07.350Z"
   },
   {
    "duration": 6,
    "start_time": "2024-12-03T15:59:33.927Z"
   },
   {
    "duration": 8,
    "start_time": "2024-12-03T16:00:19.331Z"
   },
   {
    "duration": 6,
    "start_time": "2024-12-03T16:00:37.283Z"
   },
   {
    "duration": 4,
    "start_time": "2024-12-03T16:01:46.360Z"
   },
   {
    "duration": 3,
    "start_time": "2024-12-03T16:06:53.804Z"
   },
   {
    "duration": 241,
    "start_time": "2024-12-03T16:07:35.827Z"
   },
   {
    "duration": 274,
    "start_time": "2024-12-03T16:07:39.025Z"
   },
   {
    "duration": 948,
    "start_time": "2024-12-03T16:09:02.784Z"
   },
   {
    "duration": 897,
    "start_time": "2024-12-03T16:09:24.207Z"
   },
   {
    "duration": 10,
    "start_time": "2024-12-03T16:09:31.278Z"
   },
   {
    "duration": 4,
    "start_time": "2024-12-03T16:09:38.231Z"
   },
   {
    "duration": 839,
    "start_time": "2024-12-03T16:10:05.835Z"
   },
   {
    "duration": 40,
    "start_time": "2024-12-03T16:10:06.676Z"
   },
   {
    "duration": 19,
    "start_time": "2024-12-03T16:10:06.718Z"
   },
   {
    "duration": 2372,
    "start_time": "2024-12-03T16:10:06.739Z"
   },
   {
    "duration": 11,
    "start_time": "2024-12-03T16:10:09.114Z"
   },
   {
    "duration": 88,
    "start_time": "2024-12-03T16:10:09.127Z"
   },
   {
    "duration": 3189,
    "start_time": "2024-12-03T16:10:09.217Z"
   },
   {
    "duration": 14,
    "start_time": "2024-12-03T16:10:12.408Z"
   },
   {
    "duration": 12,
    "start_time": "2024-12-03T16:10:12.423Z"
   },
   {
    "duration": 4461,
    "start_time": "2024-12-03T16:10:12.437Z"
   },
   {
    "duration": 116,
    "start_time": "2024-12-03T16:10:16.901Z"
   },
   {
    "duration": 10,
    "start_time": "2024-12-03T16:10:17.018Z"
   },
   {
    "duration": 38,
    "start_time": "2024-12-03T16:10:17.030Z"
   },
   {
    "duration": 55,
    "start_time": "2024-12-03T16:10:17.071Z"
   },
   {
    "duration": 10,
    "start_time": "2024-12-03T16:10:17.128Z"
   },
   {
    "duration": 7,
    "start_time": "2024-12-03T16:10:17.140Z"
   },
   {
    "duration": 15,
    "start_time": "2024-12-03T16:10:17.149Z"
   },
   {
    "duration": 8,
    "start_time": "2024-12-03T16:10:17.166Z"
   },
   {
    "duration": 23,
    "start_time": "2024-12-03T16:10:17.175Z"
   },
   {
    "duration": 283,
    "start_time": "2024-12-03T16:10:17.200Z"
   },
   {
    "duration": 25,
    "start_time": "2024-12-03T16:10:17.485Z"
   },
   {
    "duration": 29,
    "start_time": "2024-12-03T16:10:17.511Z"
   },
   {
    "duration": 13,
    "start_time": "2024-12-03T16:10:17.542Z"
   },
   {
    "duration": 13,
    "start_time": "2024-12-03T16:10:17.557Z"
   },
   {
    "duration": 15,
    "start_time": "2024-12-03T16:10:17.572Z"
   },
   {
    "duration": 19,
    "start_time": "2024-12-03T16:10:17.589Z"
   },
   {
    "duration": 322,
    "start_time": "2024-12-03T16:10:17.609Z"
   },
   {
    "duration": 4,
    "start_time": "2024-12-03T16:10:17.933Z"
   },
   {
    "duration": 36,
    "start_time": "2024-12-03T16:11:11.923Z"
   },
   {
    "duration": 9,
    "start_time": "2024-12-03T16:12:38.375Z"
   },
   {
    "duration": 26,
    "start_time": "2024-12-03T16:12:39.405Z"
   },
   {
    "duration": 31,
    "start_time": "2024-12-03T16:33:00.433Z"
   },
   {
    "duration": 5,
    "start_time": "2024-12-03T16:33:08.174Z"
   },
   {
    "duration": 131,
    "start_time": "2024-12-03T16:33:57.736Z"
   },
   {
    "duration": 25,
    "start_time": "2024-12-03T16:34:58.174Z"
   },
   {
    "duration": 4,
    "start_time": "2024-12-03T16:35:12.840Z"
   },
   {
    "duration": 818,
    "start_time": "2024-12-03T16:38:48.947Z"
   },
   {
    "duration": 44,
    "start_time": "2024-12-03T16:38:49.767Z"
   },
   {
    "duration": 16,
    "start_time": "2024-12-03T16:38:49.812Z"
   },
   {
    "duration": 2189,
    "start_time": "2024-12-03T16:38:49.830Z"
   },
   {
    "duration": 11,
    "start_time": "2024-12-03T16:38:52.022Z"
   },
   {
    "duration": 3077,
    "start_time": "2024-12-03T16:38:52.034Z"
   },
   {
    "duration": 17,
    "start_time": "2024-12-03T16:38:55.113Z"
   },
   {
    "duration": 12,
    "start_time": "2024-12-03T16:38:55.132Z"
   },
   {
    "duration": 5558,
    "start_time": "2024-12-03T16:38:55.146Z"
   },
   {
    "duration": 32,
    "start_time": "2024-12-03T16:39:00.797Z"
   },
   {
    "duration": 12,
    "start_time": "2024-12-03T16:39:00.830Z"
   },
   {
    "duration": 23,
    "start_time": "2024-12-03T16:39:00.844Z"
   },
   {
    "duration": 23,
    "start_time": "2024-12-03T16:39:00.898Z"
   },
   {
    "duration": 27,
    "start_time": "2024-12-03T16:39:00.925Z"
   },
   {
    "duration": 56,
    "start_time": "2024-12-03T16:39:00.953Z"
   },
   {
    "duration": 17,
    "start_time": "2024-12-03T16:39:01.011Z"
   },
   {
    "duration": 9,
    "start_time": "2024-12-03T16:39:01.030Z"
   },
   {
    "duration": 14,
    "start_time": "2024-12-03T16:39:01.041Z"
   },
   {
    "duration": 277,
    "start_time": "2024-12-03T16:39:01.057Z"
   },
   {
    "duration": 23,
    "start_time": "2024-12-03T16:39:01.335Z"
   },
   {
    "duration": 18,
    "start_time": "2024-12-03T16:39:01.360Z"
   },
   {
    "duration": 63,
    "start_time": "2024-12-03T16:39:01.380Z"
   },
   {
    "duration": 6,
    "start_time": "2024-12-03T16:39:01.444Z"
   },
   {
    "duration": 8,
    "start_time": "2024-12-03T16:39:01.451Z"
   },
   {
    "duration": 4,
    "start_time": "2024-12-03T16:39:01.461Z"
   },
   {
    "duration": 330,
    "start_time": "2024-12-03T16:39:01.467Z"
   },
   {
    "duration": 4,
    "start_time": "2024-12-03T16:39:01.799Z"
   },
   {
    "duration": 10,
    "start_time": "2024-12-03T16:39:01.805Z"
   },
   {
    "duration": 7,
    "start_time": "2024-12-03T16:39:01.816Z"
   },
   {
    "duration": 14,
    "start_time": "2024-12-03T16:39:01.825Z"
   },
   {
    "duration": 3,
    "start_time": "2024-12-03T16:41:47.839Z"
   },
   {
    "duration": 1026,
    "start_time": "2024-12-03T16:42:14.232Z"
   },
   {
    "duration": 24,
    "start_time": "2024-12-03T16:42:45.247Z"
   },
   {
    "duration": 984,
    "start_time": "2024-12-03T16:44:50.424Z"
   },
   {
    "duration": 2033,
    "start_time": "2024-12-03T16:45:48.205Z"
   },
   {
    "duration": 55,
    "start_time": "2024-12-03T16:49:43.898Z"
   },
   {
    "duration": 1065,
    "start_time": "2024-12-03T16:49:48.881Z"
   },
   {
    "duration": 34,
    "start_time": "2024-12-03T16:49:49.948Z"
   },
   {
    "duration": 20,
    "start_time": "2024-12-03T16:49:49.983Z"
   },
   {
    "duration": 2258,
    "start_time": "2024-12-03T16:49:50.005Z"
   },
   {
    "duration": 12,
    "start_time": "2024-12-03T16:49:52.265Z"
   },
   {
    "duration": 3155,
    "start_time": "2024-12-03T16:49:52.279Z"
   },
   {
    "duration": 18,
    "start_time": "2024-12-03T16:49:55.436Z"
   },
   {
    "duration": 5,
    "start_time": "2024-12-03T16:49:55.456Z"
   },
   {
    "duration": 4935,
    "start_time": "2024-12-03T16:49:55.463Z"
   },
   {
    "duration": 117,
    "start_time": "2024-12-03T16:50:00.404Z"
   },
   {
    "duration": 21,
    "start_time": "2024-12-03T16:50:00.523Z"
   },
   {
    "duration": 22,
    "start_time": "2024-12-03T16:50:00.546Z"
   },
   {
    "duration": 37,
    "start_time": "2024-12-03T16:50:00.569Z"
   },
   {
    "duration": 11,
    "start_time": "2024-12-03T16:50:00.608Z"
   },
   {
    "duration": 20,
    "start_time": "2024-12-03T16:50:00.621Z"
   },
   {
    "duration": 29,
    "start_time": "2024-12-03T16:50:00.643Z"
   },
   {
    "duration": 9,
    "start_time": "2024-12-03T16:50:00.674Z"
   },
   {
    "duration": 10,
    "start_time": "2024-12-03T16:50:00.684Z"
   },
   {
    "duration": 264,
    "start_time": "2024-12-03T16:50:00.698Z"
   },
   {
    "duration": 21,
    "start_time": "2024-12-03T16:50:00.963Z"
   },
   {
    "duration": 21,
    "start_time": "2024-12-03T16:50:00.986Z"
   },
   {
    "duration": 33,
    "start_time": "2024-12-03T16:50:01.009Z"
   },
   {
    "duration": 13,
    "start_time": "2024-12-03T16:50:01.043Z"
   },
   {
    "duration": 7,
    "start_time": "2024-12-03T16:50:01.058Z"
   },
   {
    "duration": 4,
    "start_time": "2024-12-03T16:50:01.066Z"
   },
   {
    "duration": 327,
    "start_time": "2024-12-03T16:50:01.071Z"
   },
   {
    "duration": 4,
    "start_time": "2024-12-03T16:50:01.400Z"
   },
   {
    "duration": 30,
    "start_time": "2024-12-03T16:50:01.409Z"
   },
   {
    "duration": 6,
    "start_time": "2024-12-03T16:50:01.441Z"
   },
   {
    "duration": 18,
    "start_time": "2024-12-03T16:50:01.449Z"
   },
   {
    "duration": 28,
    "start_time": "2024-12-03T16:50:01.468Z"
   },
   {
    "duration": 849,
    "start_time": "2024-12-03T16:51:51.562Z"
   },
   {
    "duration": 34,
    "start_time": "2024-12-03T16:51:52.414Z"
   },
   {
    "duration": 22,
    "start_time": "2024-12-03T16:51:52.450Z"
   },
   {
    "duration": 2265,
    "start_time": "2024-12-03T16:51:52.474Z"
   },
   {
    "duration": 12,
    "start_time": "2024-12-03T16:51:54.742Z"
   },
   {
    "duration": 3053,
    "start_time": "2024-12-03T16:51:54.756Z"
   },
   {
    "duration": 12,
    "start_time": "2024-12-03T16:51:57.811Z"
   },
   {
    "duration": 15,
    "start_time": "2024-12-03T16:51:57.825Z"
   },
   {
    "duration": 5556,
    "start_time": "2024-12-03T16:51:57.842Z"
   },
   {
    "duration": 39,
    "start_time": "2024-12-03T16:52:03.400Z"
   },
   {
    "duration": 10,
    "start_time": "2024-12-03T16:52:03.441Z"
   },
   {
    "duration": 55,
    "start_time": "2024-12-03T16:52:03.452Z"
   },
   {
    "duration": 31,
    "start_time": "2024-12-03T16:52:03.509Z"
   },
   {
    "duration": 12,
    "start_time": "2024-12-03T16:52:03.543Z"
   },
   {
    "duration": 17,
    "start_time": "2024-12-03T16:52:03.556Z"
   },
   {
    "duration": 42,
    "start_time": "2024-12-03T16:52:03.575Z"
   },
   {
    "duration": 31,
    "start_time": "2024-12-03T16:52:03.618Z"
   },
   {
    "duration": 25,
    "start_time": "2024-12-03T16:52:03.651Z"
   },
   {
    "duration": 287,
    "start_time": "2024-12-03T16:52:03.679Z"
   },
   {
    "duration": 22,
    "start_time": "2024-12-03T16:52:03.968Z"
   },
   {
    "duration": 29,
    "start_time": "2024-12-03T16:52:03.991Z"
   },
   {
    "duration": 14,
    "start_time": "2024-12-03T16:52:04.023Z"
   },
   {
    "duration": 22,
    "start_time": "2024-12-03T16:52:04.039Z"
   },
   {
    "duration": 21,
    "start_time": "2024-12-03T16:52:04.063Z"
   },
   {
    "duration": 33,
    "start_time": "2024-12-03T16:52:04.087Z"
   },
   {
    "duration": 335,
    "start_time": "2024-12-03T16:52:04.121Z"
   },
   {
    "duration": 4,
    "start_time": "2024-12-03T16:52:04.458Z"
   },
   {
    "duration": 7,
    "start_time": "2024-12-03T16:52:04.464Z"
   },
   {
    "duration": 6,
    "start_time": "2024-12-03T16:52:04.473Z"
   },
   {
    "duration": 30,
    "start_time": "2024-12-03T16:52:04.481Z"
   },
   {
    "duration": 45,
    "start_time": "2024-12-03T16:52:04.513Z"
   },
   {
    "duration": 4,
    "start_time": "2024-12-03T16:52:20.756Z"
   },
   {
    "duration": 9,
    "start_time": "2024-12-03T16:52:41.601Z"
   },
   {
    "duration": 1282,
    "start_time": "2024-12-03T16:53:29.330Z"
   },
   {
    "duration": 1860,
    "start_time": "2024-12-03T16:54:23.393Z"
   },
   {
    "duration": 1157,
    "start_time": "2024-12-03T16:54:42.317Z"
   },
   {
    "duration": 1408,
    "start_time": "2024-12-03T16:56:12.368Z"
   },
   {
    "duration": 1788,
    "start_time": "2024-12-03T16:56:33.231Z"
   },
   {
    "duration": 1458,
    "start_time": "2024-12-03T16:56:52.518Z"
   },
   {
    "duration": 5,
    "start_time": "2024-12-03T17:02:07.331Z"
   },
   {
    "duration": 4,
    "start_time": "2024-12-03T17:02:50.321Z"
   },
   {
    "duration": 871,
    "start_time": "2024-12-04T06:28:39.617Z"
   },
   {
    "duration": 31,
    "start_time": "2024-12-04T06:28:40.489Z"
   },
   {
    "duration": 15,
    "start_time": "2024-12-04T06:28:40.522Z"
   },
   {
    "duration": 2468,
    "start_time": "2024-12-04T06:28:40.539Z"
   },
   {
    "duration": 13,
    "start_time": "2024-12-04T06:28:43.010Z"
   },
   {
    "duration": 3047,
    "start_time": "2024-12-04T06:28:43.025Z"
   },
   {
    "duration": 14,
    "start_time": "2024-12-04T06:28:46.073Z"
   },
   {
    "duration": 4,
    "start_time": "2024-12-04T06:28:46.089Z"
   },
   {
    "duration": 5471,
    "start_time": "2024-12-04T06:28:46.094Z"
   },
   {
    "duration": 32,
    "start_time": "2024-12-04T06:28:51.567Z"
   },
   {
    "duration": 5,
    "start_time": "2024-12-04T06:28:51.601Z"
   },
   {
    "duration": 7,
    "start_time": "2024-12-04T06:28:51.607Z"
   },
   {
    "duration": 11,
    "start_time": "2024-12-04T06:28:51.616Z"
   },
   {
    "duration": 26,
    "start_time": "2024-12-04T06:28:51.668Z"
   },
   {
    "duration": 24,
    "start_time": "2024-12-04T06:28:51.697Z"
   },
   {
    "duration": 43,
    "start_time": "2024-12-04T06:28:51.723Z"
   },
   {
    "duration": 9,
    "start_time": "2024-12-04T06:28:51.768Z"
   },
   {
    "duration": 13,
    "start_time": "2024-12-04T06:28:51.780Z"
   },
   {
    "duration": 9,
    "start_time": "2024-12-04T06:28:51.795Z"
   },
   {
    "duration": 5,
    "start_time": "2024-12-04T06:28:51.806Z"
   },
   {
    "duration": 290,
    "start_time": "2024-12-04T06:28:51.812Z"
   },
   {
    "duration": 21,
    "start_time": "2024-12-04T06:28:52.104Z"
   },
   {
    "duration": 11,
    "start_time": "2024-12-04T06:28:52.126Z"
   },
   {
    "duration": 26,
    "start_time": "2024-12-04T06:28:52.139Z"
   },
   {
    "duration": 6,
    "start_time": "2024-12-04T06:28:52.166Z"
   },
   {
    "duration": 7,
    "start_time": "2024-12-04T06:28:52.174Z"
   },
   {
    "duration": 2,
    "start_time": "2024-12-04T06:28:52.183Z"
   },
   {
    "duration": 330,
    "start_time": "2024-12-04T06:28:52.187Z"
   },
   {
    "duration": 4,
    "start_time": "2024-12-04T06:28:52.519Z"
   },
   {
    "duration": 4,
    "start_time": "2024-12-04T06:28:52.525Z"
   },
   {
    "duration": 6,
    "start_time": "2024-12-04T06:28:52.531Z"
   },
   {
    "duration": 26,
    "start_time": "2024-12-04T06:28:52.539Z"
   },
   {
    "duration": 22,
    "start_time": "2024-12-04T06:28:52.567Z"
   },
   {
    "duration": 1587,
    "start_time": "2024-12-04T06:28:52.591Z"
   },
   {
    "duration": 1501,
    "start_time": "2024-12-04T06:47:14.320Z"
   },
   {
    "duration": 3,
    "start_time": "2024-12-04T06:47:41.142Z"
   },
   {
    "duration": 3,
    "start_time": "2024-12-04T06:47:43.719Z"
   },
   {
    "duration": 1461,
    "start_time": "2024-12-04T06:47:45.863Z"
   },
   {
    "duration": 1473,
    "start_time": "2024-12-04T06:48:47.523Z"
   },
   {
    "duration": 412,
    "start_time": "2024-12-04T07:06:36.837Z"
   },
   {
    "duration": 15,
    "start_time": "2024-12-04T07:07:58.957Z"
   },
   {
    "duration": 157,
    "start_time": "2024-12-04T07:13:04.717Z"
   },
   {
    "duration": 333,
    "start_time": "2024-12-04T07:13:23.396Z"
   },
   {
    "duration": 411,
    "start_time": "2024-12-04T07:14:43.444Z"
   },
   {
    "duration": 856,
    "start_time": "2024-12-04T07:15:36.349Z"
   },
   {
    "duration": 40,
    "start_time": "2024-12-04T07:27:04.493Z"
   },
   {
    "duration": 40,
    "start_time": "2024-12-04T07:43:49.913Z"
   },
   {
    "duration": 21,
    "start_time": "2024-12-04T07:47:23.787Z"
   },
   {
    "duration": 9,
    "start_time": "2024-12-04T07:47:39.068Z"
   },
   {
    "duration": 8,
    "start_time": "2024-12-04T07:47:50.776Z"
   },
   {
    "duration": 6,
    "start_time": "2024-12-04T07:47:56.334Z"
   },
   {
    "duration": 7,
    "start_time": "2024-12-04T07:48:20.666Z"
   },
   {
    "duration": 1405,
    "start_time": "2024-12-04T07:48:28.234Z"
   },
   {
    "duration": 1427,
    "start_time": "2024-12-04T07:49:27.966Z"
   },
   {
    "duration": 818,
    "start_time": "2024-12-04T07:49:42.913Z"
   },
   {
    "duration": 45,
    "start_time": "2024-12-04T07:49:43.733Z"
   },
   {
    "duration": 18,
    "start_time": "2024-12-04T07:49:43.780Z"
   },
   {
    "duration": 2313,
    "start_time": "2024-12-04T07:49:43.801Z"
   },
   {
    "duration": 12,
    "start_time": "2024-12-04T07:49:46.115Z"
   },
   {
    "duration": 3002,
    "start_time": "2024-12-04T07:49:46.129Z"
   },
   {
    "duration": 14,
    "start_time": "2024-12-04T07:49:49.133Z"
   },
   {
    "duration": 18,
    "start_time": "2024-12-04T07:49:49.149Z"
   },
   {
    "duration": 4398,
    "start_time": "2024-12-04T07:49:49.168Z"
   },
   {
    "duration": 123,
    "start_time": "2024-12-04T07:49:53.570Z"
   },
   {
    "duration": 4,
    "start_time": "2024-12-04T07:49:53.695Z"
   },
   {
    "duration": 41,
    "start_time": "2024-12-04T07:49:53.701Z"
   },
   {
    "duration": 35,
    "start_time": "2024-12-04T07:49:53.743Z"
   },
   {
    "duration": 22,
    "start_time": "2024-12-04T07:49:53.780Z"
   },
   {
    "duration": 15,
    "start_time": "2024-12-04T07:49:53.804Z"
   },
   {
    "duration": 11,
    "start_time": "2024-12-04T07:49:53.820Z"
   },
   {
    "duration": 34,
    "start_time": "2024-12-04T07:49:53.833Z"
   },
   {
    "duration": 16,
    "start_time": "2024-12-04T07:49:53.868Z"
   },
   {
    "duration": 7,
    "start_time": "2024-12-04T07:49:53.886Z"
   },
   {
    "duration": 6,
    "start_time": "2024-12-04T07:49:53.895Z"
   },
   {
    "duration": 282,
    "start_time": "2024-12-04T07:49:53.903Z"
   },
   {
    "duration": 23,
    "start_time": "2024-12-04T07:49:54.187Z"
   },
   {
    "duration": 5,
    "start_time": "2024-12-04T07:49:54.212Z"
   },
   {
    "duration": 8,
    "start_time": "2024-12-04T07:49:54.219Z"
   },
   {
    "duration": 41,
    "start_time": "2024-12-04T07:49:54.228Z"
   },
   {
    "duration": 7,
    "start_time": "2024-12-04T07:49:54.271Z"
   },
   {
    "duration": 5,
    "start_time": "2024-12-04T07:49:54.279Z"
   },
   {
    "duration": 380,
    "start_time": "2024-12-04T07:49:54.289Z"
   },
   {
    "duration": 4,
    "start_time": "2024-12-04T07:49:54.671Z"
   },
   {
    "duration": 17,
    "start_time": "2024-12-04T07:49:54.676Z"
   },
   {
    "duration": 6,
    "start_time": "2024-12-04T07:49:54.694Z"
   },
   {
    "duration": 7,
    "start_time": "2024-12-04T07:49:54.702Z"
   },
   {
    "duration": 40,
    "start_time": "2024-12-04T07:49:54.710Z"
   },
   {
    "duration": 1534,
    "start_time": "2024-12-04T07:49:54.752Z"
   },
   {
    "duration": 843,
    "start_time": "2024-12-04T07:49:56.287Z"
   },
   {
    "duration": 10,
    "start_time": "2024-12-04T07:49:57.132Z"
   },
   {
    "duration": 880,
    "start_time": "2024-12-04T07:50:05.629Z"
   },
   {
    "duration": 14,
    "start_time": "2024-12-04T07:52:05.472Z"
   },
   {
    "duration": 14,
    "start_time": "2024-12-04T07:53:28.172Z"
   },
   {
    "duration": 53,
    "start_time": "2024-12-04T08:08:07.895Z"
   },
   {
    "duration": 26,
    "start_time": "2024-12-04T08:09:37.511Z"
   },
   {
    "duration": 830,
    "start_time": "2024-12-04T14:04:04.533Z"
   },
   {
    "duration": 31,
    "start_time": "2024-12-04T14:04:05.365Z"
   },
   {
    "duration": 17,
    "start_time": "2024-12-04T14:04:05.398Z"
   },
   {
    "duration": 2242,
    "start_time": "2024-12-04T14:04:05.417Z"
   },
   {
    "duration": 12,
    "start_time": "2024-12-04T14:04:07.661Z"
   },
   {
    "duration": 2943,
    "start_time": "2024-12-04T14:04:07.674Z"
   },
   {
    "duration": 15,
    "start_time": "2024-12-04T14:04:10.618Z"
   },
   {
    "duration": 14,
    "start_time": "2024-12-04T14:04:10.635Z"
   },
   {
    "duration": 4057,
    "start_time": "2024-12-04T14:04:10.650Z"
   },
   {
    "duration": 203,
    "start_time": "2024-12-04T14:04:14.711Z"
   },
   {
    "duration": 4,
    "start_time": "2024-12-04T14:04:14.916Z"
   },
   {
    "duration": 13,
    "start_time": "2024-12-04T14:04:14.921Z"
   },
   {
    "duration": 8,
    "start_time": "2024-12-04T14:04:14.936Z"
   },
   {
    "duration": 19,
    "start_time": "2024-12-04T14:04:14.946Z"
   },
   {
    "duration": 122,
    "start_time": "2024-12-04T14:04:14.967Z"
   },
   {
    "duration": 23,
    "start_time": "2024-12-04T14:04:15.090Z"
   },
   {
    "duration": 41,
    "start_time": "2024-12-04T14:04:15.115Z"
   },
   {
    "duration": 58,
    "start_time": "2024-12-04T14:04:15.157Z"
   },
   {
    "duration": 34,
    "start_time": "2024-12-04T14:04:15.216Z"
   },
   {
    "duration": 36,
    "start_time": "2024-12-04T14:04:15.251Z"
   },
   {
    "duration": 262,
    "start_time": "2024-12-04T14:04:15.289Z"
   },
   {
    "duration": 21,
    "start_time": "2024-12-04T14:04:15.553Z"
   },
   {
    "duration": 85,
    "start_time": "2024-12-04T14:04:15.576Z"
   },
   {
    "duration": 10,
    "start_time": "2024-12-04T14:04:15.663Z"
   },
   {
    "duration": 8,
    "start_time": "2024-12-04T14:04:15.675Z"
   },
   {
    "duration": 7,
    "start_time": "2024-12-04T14:04:15.684Z"
   },
   {
    "duration": 14,
    "start_time": "2024-12-04T14:04:15.693Z"
   },
   {
    "duration": 301,
    "start_time": "2024-12-04T14:04:15.712Z"
   },
   {
    "duration": 4,
    "start_time": "2024-12-04T14:04:16.015Z"
   },
   {
    "duration": 7,
    "start_time": "2024-12-04T14:04:16.020Z"
   },
   {
    "duration": 23,
    "start_time": "2024-12-04T14:04:16.029Z"
   },
   {
    "duration": 3,
    "start_time": "2024-12-04T14:04:16.053Z"
   },
   {
    "duration": 51,
    "start_time": "2024-12-04T14:04:16.057Z"
   },
   {
    "duration": 1548,
    "start_time": "2024-12-04T14:04:16.110Z"
   },
   {
    "duration": 811,
    "start_time": "2024-12-04T14:04:17.659Z"
   },
   {
    "duration": 9,
    "start_time": "2024-12-04T14:04:18.472Z"
   },
   {
    "duration": 28,
    "start_time": "2024-12-04T14:04:18.482Z"
   },
   {
    "duration": 50,
    "start_time": "2024-12-04T14:04:18.512Z"
   },
   {
    "duration": 23,
    "start_time": "2024-12-04T14:06:55.258Z"
   },
   {
    "duration": 27,
    "start_time": "2024-12-04T14:07:31.515Z"
   },
   {
    "duration": 33,
    "start_time": "2024-12-04T14:08:31.610Z"
   },
   {
    "duration": 34,
    "start_time": "2024-12-04T14:08:54.036Z"
   },
   {
    "duration": 3,
    "start_time": "2024-12-04T14:12:04.334Z"
   },
   {
    "duration": 109,
    "start_time": "2024-12-04T14:14:02.426Z"
   },
   {
    "duration": 458,
    "start_time": "2024-12-04T14:14:09.575Z"
   },
   {
    "duration": 336,
    "start_time": "2024-12-04T14:14:26.642Z"
   },
   {
    "duration": 12,
    "start_time": "2024-12-04T14:14:35.679Z"
   },
   {
    "duration": 3,
    "start_time": "2024-12-04T14:14:59.874Z"
   },
   {
    "duration": 811,
    "start_time": "2024-12-04T14:15:08.325Z"
   },
   {
    "duration": 36,
    "start_time": "2024-12-04T14:15:09.138Z"
   },
   {
    "duration": 34,
    "start_time": "2024-12-04T14:15:09.176Z"
   },
   {
    "duration": 2189,
    "start_time": "2024-12-04T14:15:09.212Z"
   },
   {
    "duration": 11,
    "start_time": "2024-12-04T14:15:11.402Z"
   },
   {
    "duration": 2830,
    "start_time": "2024-12-04T14:15:11.414Z"
   },
   {
    "duration": 13,
    "start_time": "2024-12-04T14:15:14.246Z"
   },
   {
    "duration": 4,
    "start_time": "2024-12-04T14:15:14.260Z"
   },
   {
    "duration": 3448,
    "start_time": "2024-12-04T14:15:14.265Z"
   },
   {
    "duration": 117,
    "start_time": "2024-12-04T14:15:17.802Z"
   },
   {
    "duration": 4,
    "start_time": "2024-12-04T14:15:17.921Z"
   },
   {
    "duration": 34,
    "start_time": "2024-12-04T14:15:17.926Z"
   },
   {
    "duration": 13,
    "start_time": "2024-12-04T14:15:17.962Z"
   },
   {
    "duration": 20,
    "start_time": "2024-12-04T14:15:17.976Z"
   },
   {
    "duration": 35,
    "start_time": "2024-12-04T14:15:17.998Z"
   },
   {
    "duration": 11,
    "start_time": "2024-12-04T14:15:18.034Z"
   },
   {
    "duration": 23,
    "start_time": "2024-12-04T14:15:18.046Z"
   },
   {
    "duration": 21,
    "start_time": "2024-12-04T14:15:18.071Z"
   },
   {
    "duration": 7,
    "start_time": "2024-12-04T14:15:18.094Z"
   },
   {
    "duration": 10,
    "start_time": "2024-12-04T14:15:18.103Z"
   },
   {
    "duration": 295,
    "start_time": "2024-12-04T14:15:18.115Z"
   },
   {
    "duration": 20,
    "start_time": "2024-12-04T14:15:18.411Z"
   },
   {
    "duration": 24,
    "start_time": "2024-12-04T14:15:18.433Z"
   },
   {
    "duration": 8,
    "start_time": "2024-12-04T14:15:18.459Z"
   },
   {
    "duration": 17,
    "start_time": "2024-12-04T14:15:18.469Z"
   },
   {
    "duration": 30,
    "start_time": "2024-12-04T14:15:18.487Z"
   },
   {
    "duration": 28,
    "start_time": "2024-12-04T14:15:18.519Z"
   },
   {
    "duration": 329,
    "start_time": "2024-12-04T14:15:18.551Z"
   },
   {
    "duration": 3,
    "start_time": "2024-12-04T14:15:18.882Z"
   },
   {
    "duration": 15,
    "start_time": "2024-12-04T14:15:18.887Z"
   },
   {
    "duration": 30,
    "start_time": "2024-12-04T14:15:18.903Z"
   },
   {
    "duration": 4,
    "start_time": "2024-12-04T14:15:18.934Z"
   },
   {
    "duration": 34,
    "start_time": "2024-12-04T14:15:18.939Z"
   },
   {
    "duration": 1535,
    "start_time": "2024-12-04T14:15:18.975Z"
   },
   {
    "duration": 802,
    "start_time": "2024-12-04T14:15:20.512Z"
   },
   {
    "duration": 9,
    "start_time": "2024-12-04T14:15:21.316Z"
   },
   {
    "duration": 56,
    "start_time": "2024-12-04T14:15:21.327Z"
   },
   {
    "duration": 3,
    "start_time": "2024-12-04T14:15:21.384Z"
   },
   {
    "duration": 19,
    "start_time": "2024-12-04T14:15:21.389Z"
   },
   {
    "duration": 81,
    "start_time": "2024-12-04T14:15:21.410Z"
   },
   {
    "duration": 4,
    "start_time": "2024-12-04T14:17:25.383Z"
   },
   {
    "duration": 899,
    "start_time": "2024-12-04T14:17:31.472Z"
   },
   {
    "duration": 37,
    "start_time": "2024-12-04T14:17:32.373Z"
   },
   {
    "duration": 15,
    "start_time": "2024-12-04T14:17:32.411Z"
   },
   {
    "duration": 2269,
    "start_time": "2024-12-04T14:17:32.428Z"
   },
   {
    "duration": 11,
    "start_time": "2024-12-04T14:17:34.699Z"
   },
   {
    "duration": 2861,
    "start_time": "2024-12-04T14:17:34.712Z"
   },
   {
    "duration": 25,
    "start_time": "2024-12-04T14:17:37.575Z"
   },
   {
    "duration": 66,
    "start_time": "2024-12-04T14:17:37.602Z"
   },
   {
    "duration": 4439,
    "start_time": "2024-12-04T14:17:37.670Z"
   },
   {
    "duration": 121,
    "start_time": "2024-12-04T14:17:42.203Z"
   },
   {
    "duration": 4,
    "start_time": "2024-12-04T14:17:42.325Z"
   },
   {
    "duration": 15,
    "start_time": "2024-12-04T14:17:42.330Z"
   },
   {
    "duration": 12,
    "start_time": "2024-12-04T14:17:42.346Z"
   },
   {
    "duration": 46,
    "start_time": "2024-12-04T14:17:42.360Z"
   },
   {
    "duration": 14,
    "start_time": "2024-12-04T14:17:42.407Z"
   },
   {
    "duration": 10,
    "start_time": "2024-12-04T14:17:42.422Z"
   },
   {
    "duration": 10,
    "start_time": "2024-12-04T14:17:42.433Z"
   },
   {
    "duration": 12,
    "start_time": "2024-12-04T14:17:42.445Z"
   },
   {
    "duration": 7,
    "start_time": "2024-12-04T14:17:42.458Z"
   },
   {
    "duration": 37,
    "start_time": "2024-12-04T14:17:42.466Z"
   },
   {
    "duration": 233,
    "start_time": "2024-12-04T14:17:42.505Z"
   },
   {
    "duration": 20,
    "start_time": "2024-12-04T14:17:42.740Z"
   },
   {
    "duration": 30,
    "start_time": "2024-12-04T14:17:42.761Z"
   },
   {
    "duration": 56,
    "start_time": "2024-12-04T14:17:42.792Z"
   },
   {
    "duration": 5,
    "start_time": "2024-12-04T14:17:42.850Z"
   },
   {
    "duration": 5,
    "start_time": "2024-12-04T14:17:42.856Z"
   },
   {
    "duration": 4,
    "start_time": "2024-12-04T14:17:42.863Z"
   },
   {
    "duration": 303,
    "start_time": "2024-12-04T14:17:42.870Z"
   },
   {
    "duration": 5,
    "start_time": "2024-12-04T14:17:43.175Z"
   },
   {
    "duration": 5,
    "start_time": "2024-12-04T14:17:43.182Z"
   },
   {
    "duration": 23,
    "start_time": "2024-12-04T14:17:43.201Z"
   },
   {
    "duration": 2,
    "start_time": "2024-12-04T14:17:43.226Z"
   },
   {
    "duration": 22,
    "start_time": "2024-12-04T14:17:43.230Z"
   },
   {
    "duration": 1536,
    "start_time": "2024-12-04T14:17:43.254Z"
   },
   {
    "duration": 809,
    "start_time": "2024-12-04T14:17:44.792Z"
   },
   {
    "duration": 8,
    "start_time": "2024-12-04T14:17:45.603Z"
   },
   {
    "duration": 33,
    "start_time": "2024-12-04T14:17:45.613Z"
   },
   {
    "duration": 3,
    "start_time": "2024-12-04T14:17:45.647Z"
   },
   {
    "duration": 23,
    "start_time": "2024-12-04T14:17:45.651Z"
   },
   {
    "duration": 70,
    "start_time": "2024-12-04T14:17:45.675Z"
   },
   {
    "duration": 11,
    "start_time": "2024-12-04T14:18:01.303Z"
   },
   {
    "duration": 78,
    "start_time": "2024-12-04T14:18:44.862Z"
   },
   {
    "duration": 119,
    "start_time": "2024-12-04T14:18:51.792Z"
   },
   {
    "duration": 90,
    "start_time": "2024-12-04T14:19:06.094Z"
   },
   {
    "duration": 20,
    "start_time": "2024-12-04T14:19:09.401Z"
   },
   {
    "duration": 10,
    "start_time": "2024-12-04T14:19:52.632Z"
   },
   {
    "duration": 14,
    "start_time": "2024-12-04T14:20:12.481Z"
   },
   {
    "duration": 9,
    "start_time": "2024-12-04T14:20:25.937Z"
   },
   {
    "duration": 70,
    "start_time": "2024-12-04T14:22:48.138Z"
   },
   {
    "duration": 812,
    "start_time": "2024-12-04T14:22:56.582Z"
   },
   {
    "duration": 55,
    "start_time": "2024-12-04T14:23:22.806Z"
   },
   {
    "duration": 10,
    "start_time": "2024-12-04T14:25:34.514Z"
   },
   {
    "duration": 3,
    "start_time": "2024-12-04T14:26:43.354Z"
   },
   {
    "duration": 369,
    "start_time": "2024-12-04T14:26:52.800Z"
   },
   {
    "duration": 222,
    "start_time": "2024-12-04T14:27:33.877Z"
   },
   {
    "duration": 14,
    "start_time": "2024-12-04T14:27:38.202Z"
   },
   {
    "duration": 790,
    "start_time": "2024-12-04T14:28:00.259Z"
   },
   {
    "duration": 38,
    "start_time": "2024-12-04T14:28:01.051Z"
   },
   {
    "duration": 24,
    "start_time": "2024-12-04T14:28:01.100Z"
   },
   {
    "duration": 2092,
    "start_time": "2024-12-04T14:28:01.125Z"
   },
   {
    "duration": 11,
    "start_time": "2024-12-04T14:28:03.220Z"
   },
   {
    "duration": 2871,
    "start_time": "2024-12-04T14:28:03.232Z"
   },
   {
    "duration": 13,
    "start_time": "2024-12-04T14:28:06.104Z"
   },
   {
    "duration": 17,
    "start_time": "2024-12-04T14:28:06.118Z"
   },
   {
    "duration": 3566,
    "start_time": "2024-12-04T14:28:06.137Z"
   },
   {
    "duration": 119,
    "start_time": "2024-12-04T14:28:09.705Z"
   },
   {
    "duration": 4,
    "start_time": "2024-12-04T14:28:09.826Z"
   },
   {
    "duration": 9,
    "start_time": "2024-12-04T14:28:09.831Z"
   },
   {
    "duration": 11,
    "start_time": "2024-12-04T14:28:09.841Z"
   },
   {
    "duration": 48,
    "start_time": "2024-12-04T14:28:09.854Z"
   },
   {
    "duration": 14,
    "start_time": "2024-12-04T14:28:09.904Z"
   },
   {
    "duration": 10,
    "start_time": "2024-12-04T14:28:09.920Z"
   },
   {
    "duration": 7,
    "start_time": "2024-12-04T14:28:09.931Z"
   },
   {
    "duration": 11,
    "start_time": "2024-12-04T14:28:09.939Z"
   },
   {
    "duration": 6,
    "start_time": "2024-12-04T14:28:09.952Z"
   },
   {
    "duration": 59,
    "start_time": "2024-12-04T14:28:09.959Z"
   },
   {
    "duration": 252,
    "start_time": "2024-12-04T14:28:10.020Z"
   },
   {
    "duration": 32,
    "start_time": "2024-12-04T14:28:10.274Z"
   },
   {
    "duration": 5,
    "start_time": "2024-12-04T14:28:10.308Z"
   },
   {
    "duration": 17,
    "start_time": "2024-12-04T14:28:10.314Z"
   },
   {
    "duration": 9,
    "start_time": "2024-12-04T14:28:10.333Z"
   },
   {
    "duration": 7,
    "start_time": "2024-12-04T14:28:10.344Z"
   },
   {
    "duration": 8,
    "start_time": "2024-12-04T14:28:10.352Z"
   },
   {
    "duration": 329,
    "start_time": "2024-12-04T14:28:10.361Z"
   },
   {
    "duration": 8,
    "start_time": "2024-12-04T14:28:10.692Z"
   },
   {
    "duration": 9,
    "start_time": "2024-12-04T14:28:10.702Z"
   },
   {
    "duration": 29,
    "start_time": "2024-12-04T14:28:10.713Z"
   },
   {
    "duration": 4,
    "start_time": "2024-12-04T14:28:10.744Z"
   },
   {
    "duration": 25,
    "start_time": "2024-12-04T14:28:10.749Z"
   },
   {
    "duration": 1481,
    "start_time": "2024-12-04T14:28:10.800Z"
   },
   {
    "duration": 793,
    "start_time": "2024-12-04T14:28:12.282Z"
   },
   {
    "duration": 8,
    "start_time": "2024-12-04T14:28:13.077Z"
   },
   {
    "duration": 32,
    "start_time": "2024-12-04T14:28:13.101Z"
   },
   {
    "duration": 3,
    "start_time": "2024-12-04T14:28:13.135Z"
   },
   {
    "duration": 230,
    "start_time": "2024-12-04T14:28:13.139Z"
   },
   {
    "duration": 120,
    "start_time": "2024-12-04T14:28:13.371Z"
   },
   {
    "duration": 1217,
    "start_time": "2024-12-04T14:30:18.568Z"
   },
   {
    "duration": 5,
    "start_time": "2024-12-04T14:30:33.379Z"
   },
   {
    "duration": 764,
    "start_time": "2024-12-04T14:31:22.047Z"
   },
   {
    "duration": 29,
    "start_time": "2024-12-04T14:31:22.813Z"
   },
   {
    "duration": 48,
    "start_time": "2024-12-04T14:31:22.843Z"
   },
   {
    "duration": 2132,
    "start_time": "2024-12-04T14:31:22.893Z"
   },
   {
    "duration": 12,
    "start_time": "2024-12-04T14:31:25.027Z"
   },
   {
    "duration": 2799,
    "start_time": "2024-12-04T14:31:25.041Z"
   },
   {
    "duration": 13,
    "start_time": "2024-12-04T14:31:27.842Z"
   },
   {
    "duration": 3,
    "start_time": "2024-12-04T14:31:27.857Z"
   },
   {
    "duration": 4439,
    "start_time": "2024-12-04T14:31:27.862Z"
   },
   {
    "duration": 120,
    "start_time": "2024-12-04T14:31:32.305Z"
   },
   {
    "duration": 4,
    "start_time": "2024-12-04T14:31:32.427Z"
   },
   {
    "duration": 24,
    "start_time": "2024-12-04T14:31:32.432Z"
   },
   {
    "duration": 10,
    "start_time": "2024-12-04T14:31:32.457Z"
   },
   {
    "duration": 40,
    "start_time": "2024-12-04T14:31:32.468Z"
   },
   {
    "duration": 28,
    "start_time": "2024-12-04T14:31:32.510Z"
   },
   {
    "duration": 11,
    "start_time": "2024-12-04T14:31:32.540Z"
   },
   {
    "duration": 23,
    "start_time": "2024-12-04T14:31:32.552Z"
   },
   {
    "duration": 20,
    "start_time": "2024-12-04T14:31:32.577Z"
   },
   {
    "duration": 47,
    "start_time": "2024-12-04T14:31:32.598Z"
   },
   {
    "duration": 18,
    "start_time": "2024-12-04T14:31:32.647Z"
   },
   {
    "duration": 235,
    "start_time": "2024-12-04T14:31:32.667Z"
   },
   {
    "duration": 20,
    "start_time": "2024-12-04T14:31:32.903Z"
   },
   {
    "duration": 35,
    "start_time": "2024-12-04T14:31:32.924Z"
   },
   {
    "duration": 21,
    "start_time": "2024-12-04T14:31:32.960Z"
   },
   {
    "duration": 11,
    "start_time": "2024-12-04T14:31:32.983Z"
   },
   {
    "duration": 22,
    "start_time": "2024-12-04T14:31:32.996Z"
   },
   {
    "duration": 4,
    "start_time": "2024-12-04T14:31:33.020Z"
   },
   {
    "duration": 304,
    "start_time": "2024-12-04T14:31:33.029Z"
   },
   {
    "duration": 4,
    "start_time": "2024-12-04T14:31:33.335Z"
   },
   {
    "duration": 11,
    "start_time": "2024-12-04T14:31:33.341Z"
   },
   {
    "duration": 24,
    "start_time": "2024-12-04T14:31:33.353Z"
   },
   {
    "duration": 3,
    "start_time": "2024-12-04T14:31:33.378Z"
   },
   {
    "duration": 25,
    "start_time": "2024-12-04T14:31:33.400Z"
   },
   {
    "duration": 1549,
    "start_time": "2024-12-04T14:31:33.427Z"
   },
   {
    "duration": 790,
    "start_time": "2024-12-04T14:31:34.978Z"
   },
   {
    "duration": 9,
    "start_time": "2024-12-04T14:31:35.769Z"
   },
   {
    "duration": 61,
    "start_time": "2024-12-04T14:31:35.780Z"
   },
   {
    "duration": 10,
    "start_time": "2024-12-04T14:31:35.843Z"
   },
   {
    "duration": 239,
    "start_time": "2024-12-04T14:31:35.854Z"
   },
   {
    "duration": 46,
    "start_time": "2024-12-04T14:31:36.095Z"
   },
   {
    "duration": 3,
    "start_time": "2024-12-04T14:32:19.471Z"
   },
   {
    "duration": 202,
    "start_time": "2024-12-04T14:32:20.858Z"
   },
   {
    "duration": 41,
    "start_time": "2024-12-04T14:32:22.532Z"
   },
   {
    "duration": 43,
    "start_time": "2024-12-04T14:34:07.635Z"
   },
   {
    "duration": 5,
    "start_time": "2024-12-04T14:36:55.824Z"
   },
   {
    "duration": 106,
    "start_time": "2024-12-04T14:36:59.518Z"
   },
   {
    "duration": 1996,
    "start_time": "2024-12-04T14:37:05.449Z"
   },
   {
    "duration": 1451,
    "start_time": "2024-12-04T14:37:35.724Z"
   },
   {
    "duration": 3,
    "start_time": "2024-12-04T14:37:37.373Z"
   },
   {
    "duration": 245,
    "start_time": "2024-12-04T14:37:38.563Z"
   },
   {
    "duration": 38,
    "start_time": "2024-12-04T14:37:46.418Z"
   },
   {
    "duration": 46,
    "start_time": "2024-12-04T14:38:42.996Z"
   },
   {
    "duration": 1051,
    "start_time": "2024-12-05T09:30:59.748Z"
   },
   {
    "duration": 33,
    "start_time": "2024-12-05T09:31:00.801Z"
   },
   {
    "duration": 16,
    "start_time": "2024-12-05T09:31:00.835Z"
   },
   {
    "duration": 2440,
    "start_time": "2024-12-05T09:31:00.853Z"
   },
   {
    "duration": 13,
    "start_time": "2024-12-05T09:31:03.294Z"
   },
   {
    "duration": 3127,
    "start_time": "2024-12-05T09:31:03.309Z"
   },
   {
    "duration": 16,
    "start_time": "2024-12-05T09:31:06.438Z"
   },
   {
    "duration": 13,
    "start_time": "2024-12-05T09:31:06.455Z"
   },
   {
    "duration": 4722,
    "start_time": "2024-12-05T09:31:06.470Z"
   },
   {
    "duration": 130,
    "start_time": "2024-12-05T09:31:11.197Z"
   },
   {
    "duration": 5,
    "start_time": "2024-12-05T09:31:11.328Z"
   },
   {
    "duration": 10,
    "start_time": "2024-12-05T09:31:11.334Z"
   },
   {
    "duration": 13,
    "start_time": "2024-12-05T09:31:11.345Z"
   },
   {
    "duration": 47,
    "start_time": "2024-12-05T09:31:11.359Z"
   },
   {
    "duration": 20,
    "start_time": "2024-12-05T09:31:11.408Z"
   },
   {
    "duration": 10,
    "start_time": "2024-12-05T09:31:11.429Z"
   },
   {
    "duration": 10,
    "start_time": "2024-12-05T09:31:11.441Z"
   },
   {
    "duration": 53,
    "start_time": "2024-12-05T09:31:11.453Z"
   },
   {
    "duration": 9,
    "start_time": "2024-12-05T09:31:11.508Z"
   },
   {
    "duration": 14,
    "start_time": "2024-12-05T09:31:11.519Z"
   },
   {
    "duration": 247,
    "start_time": "2024-12-05T09:31:11.534Z"
   },
   {
    "duration": 32,
    "start_time": "2024-12-05T09:31:11.782Z"
   },
   {
    "duration": 8,
    "start_time": "2024-12-05T09:31:11.816Z"
   },
   {
    "duration": 11,
    "start_time": "2024-12-05T09:31:11.826Z"
   },
   {
    "duration": 16,
    "start_time": "2024-12-05T09:31:11.839Z"
   },
   {
    "duration": 10,
    "start_time": "2024-12-05T09:31:11.857Z"
   },
   {
    "duration": 7,
    "start_time": "2024-12-05T09:31:11.869Z"
   },
   {
    "duration": 314,
    "start_time": "2024-12-05T09:31:11.878Z"
   },
   {
    "duration": 4,
    "start_time": "2024-12-05T09:31:12.193Z"
   },
   {
    "duration": 9,
    "start_time": "2024-12-05T09:31:12.199Z"
   },
   {
    "duration": 45,
    "start_time": "2024-12-05T09:31:12.210Z"
   },
   {
    "duration": 3,
    "start_time": "2024-12-05T09:31:12.257Z"
   },
   {
    "duration": 53,
    "start_time": "2024-12-05T09:31:12.262Z"
   },
   {
    "duration": 1593,
    "start_time": "2024-12-05T09:31:12.317Z"
   },
   {
    "duration": 848,
    "start_time": "2024-12-05T09:31:13.912Z"
   },
   {
    "duration": 8,
    "start_time": "2024-12-05T09:31:14.762Z"
   },
   {
    "duration": 59,
    "start_time": "2024-12-05T09:31:14.771Z"
   },
   {
    "duration": 3,
    "start_time": "2024-12-05T09:31:14.832Z"
   },
   {
    "duration": 246,
    "start_time": "2024-12-05T09:31:14.836Z"
   },
   {
    "duration": 3,
    "start_time": "2024-12-05T09:31:15.084Z"
   },
   {
    "duration": 246,
    "start_time": "2024-12-05T09:31:15.092Z"
   },
   {
    "duration": 54,
    "start_time": "2024-12-05T09:31:15.339Z"
   },
   {
    "duration": 12,
    "start_time": "2024-12-05T09:32:42.466Z"
   },
   {
    "duration": 109,
    "start_time": "2024-12-05T09:38:41.568Z"
   },
   {
    "duration": 138,
    "start_time": "2024-12-05T09:38:49.022Z"
   },
   {
    "duration": 9,
    "start_time": "2024-12-05T09:40:08.442Z"
   },
   {
    "duration": 9,
    "start_time": "2024-12-05T09:49:32.387Z"
   },
   {
    "duration": 72,
    "start_time": "2024-12-05T09:49:44.477Z"
   },
   {
    "duration": 2389,
    "start_time": "2024-12-05T09:49:52.352Z"
   },
   {
    "duration": 421,
    "start_time": "2024-12-05T09:50:03.507Z"
   },
   {
    "duration": 72,
    "start_time": "2024-12-05T09:50:34.172Z"
   },
   {
    "duration": 871,
    "start_time": "2024-12-05T09:52:02.612Z"
   },
   {
    "duration": 1473,
    "start_time": "2024-12-05T09:52:52.031Z"
   },
   {
    "duration": 1479,
    "start_time": "2024-12-05T09:53:27.840Z"
   },
   {
    "duration": 262,
    "start_time": "2024-12-05T09:54:09.158Z"
   },
   {
    "duration": 1439,
    "start_time": "2024-12-05T09:54:19.225Z"
   },
   {
    "duration": 1008,
    "start_time": "2024-12-05T09:55:37.797Z"
   },
   {
    "duration": 1033,
    "start_time": "2024-12-05T09:56:02.861Z"
   },
   {
    "duration": 835,
    "start_time": "2024-12-05T09:59:24.935Z"
   },
   {
    "duration": 47,
    "start_time": "2024-12-05T09:59:25.772Z"
   },
   {
    "duration": 16,
    "start_time": "2024-12-05T09:59:25.820Z"
   },
   {
    "duration": 2311,
    "start_time": "2024-12-05T09:59:25.838Z"
   },
   {
    "duration": 11,
    "start_time": "2024-12-05T09:59:28.150Z"
   },
   {
    "duration": 3087,
    "start_time": "2024-12-05T09:59:28.163Z"
   },
   {
    "duration": 16,
    "start_time": "2024-12-05T09:59:31.252Z"
   },
   {
    "duration": 11,
    "start_time": "2024-12-05T09:59:31.292Z"
   },
   {
    "duration": 7207,
    "start_time": "2024-12-05T09:59:31.305Z"
   },
   {
    "duration": 108,
    "start_time": "2024-12-05T09:59:38.595Z"
   },
   {
    "duration": 11,
    "start_time": "2024-12-05T09:59:38.706Z"
   },
   {
    "duration": 17,
    "start_time": "2024-12-05T09:59:38.719Z"
   },
   {
    "duration": 9,
    "start_time": "2024-12-05T09:59:38.737Z"
   },
   {
    "duration": 21,
    "start_time": "2024-12-05T09:59:38.747Z"
   },
   {
    "duration": 20,
    "start_time": "2024-12-05T09:59:38.795Z"
   },
   {
    "duration": 13,
    "start_time": "2024-12-05T09:59:38.816Z"
   },
   {
    "duration": 6,
    "start_time": "2024-12-05T09:59:38.831Z"
   },
   {
    "duration": 12,
    "start_time": "2024-12-05T09:59:38.838Z"
   },
   {
    "duration": 7,
    "start_time": "2024-12-05T09:59:38.851Z"
   },
   {
    "duration": 40,
    "start_time": "2024-12-05T09:59:38.859Z"
   },
   {
    "duration": 259,
    "start_time": "2024-12-05T09:59:38.901Z"
   },
   {
    "duration": 19,
    "start_time": "2024-12-05T09:59:39.162Z"
   },
   {
    "duration": 20,
    "start_time": "2024-12-05T09:59:39.183Z"
   },
   {
    "duration": 5,
    "start_time": "2024-12-05T09:59:39.208Z"
   },
   {
    "duration": 8,
    "start_time": "2024-12-05T09:59:39.215Z"
   },
   {
    "duration": 14,
    "start_time": "2024-12-05T09:59:39.225Z"
   },
   {
    "duration": 4,
    "start_time": "2024-12-05T09:59:39.241Z"
   },
   {
    "duration": 316,
    "start_time": "2024-12-05T09:59:39.248Z"
   },
   {
    "duration": 4,
    "start_time": "2024-12-05T09:59:39.566Z"
   },
   {
    "duration": 5,
    "start_time": "2024-12-05T09:59:39.571Z"
   },
   {
    "duration": 30,
    "start_time": "2024-12-05T09:59:39.595Z"
   },
   {
    "duration": 3,
    "start_time": "2024-12-05T09:59:39.627Z"
   },
   {
    "duration": 48,
    "start_time": "2024-12-05T09:59:39.632Z"
   },
   {
    "duration": 1660,
    "start_time": "2024-12-05T09:59:39.682Z"
   },
   {
    "duration": 898,
    "start_time": "2024-12-05T09:59:41.344Z"
   },
   {
    "duration": 8,
    "start_time": "2024-12-05T09:59:42.243Z"
   },
   {
    "duration": 58,
    "start_time": "2024-12-05T09:59:42.252Z"
   },
   {
    "duration": 3,
    "start_time": "2024-12-05T09:59:42.311Z"
   },
   {
    "duration": 261,
    "start_time": "2024-12-05T09:59:42.316Z"
   },
   {
    "duration": 3,
    "start_time": "2024-12-05T09:59:42.578Z"
   },
   {
    "duration": 251,
    "start_time": "2024-12-05T09:59:42.582Z"
   },
   {
    "duration": 163,
    "start_time": "2024-12-05T09:59:42.835Z"
   },
   {
    "duration": 10,
    "start_time": "2024-12-05T09:59:43.000Z"
   },
   {
    "duration": 2075,
    "start_time": "2024-12-05T09:59:43.012Z"
   },
   {
    "duration": 1742,
    "start_time": "2024-12-05T10:00:34.430Z"
   },
   {
    "duration": 451,
    "start_time": "2024-12-05T10:00:59.209Z"
   },
   {
    "duration": 1706,
    "start_time": "2024-12-05T10:01:10.505Z"
   },
   {
    "duration": 18,
    "start_time": "2024-12-05T10:02:41.188Z"
   },
   {
    "duration": 11,
    "start_time": "2024-12-05T10:02:49.323Z"
   },
   {
    "duration": 5361,
    "start_time": "2024-12-05T10:03:00.884Z"
   },
   {
    "duration": 785,
    "start_time": "2024-12-05T11:20:28.266Z"
   },
   {
    "duration": 32,
    "start_time": "2024-12-05T11:20:29.054Z"
   },
   {
    "duration": 16,
    "start_time": "2024-12-05T11:20:29.087Z"
   },
   {
    "duration": 2296,
    "start_time": "2024-12-05T11:20:29.105Z"
   },
   {
    "duration": 11,
    "start_time": "2024-12-05T11:20:31.404Z"
   },
   {
    "duration": 2873,
    "start_time": "2024-12-05T11:20:31.417Z"
   },
   {
    "duration": 13,
    "start_time": "2024-12-05T11:20:34.291Z"
   },
   {
    "duration": 11,
    "start_time": "2024-12-05T11:20:34.306Z"
   },
   {
    "duration": 3919,
    "start_time": "2024-12-05T11:20:34.318Z"
   },
   {
    "duration": 114,
    "start_time": "2024-12-05T11:20:38.239Z"
   },
   {
    "duration": 4,
    "start_time": "2024-12-05T11:20:38.354Z"
   },
   {
    "duration": 28,
    "start_time": "2024-12-05T11:20:38.360Z"
   },
   {
    "duration": 32,
    "start_time": "2024-12-05T11:20:38.389Z"
   },
   {
    "duration": 21,
    "start_time": "2024-12-05T11:20:38.424Z"
   },
   {
    "duration": 17,
    "start_time": "2024-12-05T11:20:38.446Z"
   },
   {
    "duration": 13,
    "start_time": "2024-12-05T11:20:38.465Z"
   },
   {
    "duration": 22,
    "start_time": "2024-12-05T11:20:38.479Z"
   },
   {
    "duration": 26,
    "start_time": "2024-12-05T11:20:38.503Z"
   },
   {
    "duration": 8,
    "start_time": "2024-12-05T11:20:38.530Z"
   },
   {
    "duration": 7,
    "start_time": "2024-12-05T11:20:38.540Z"
   },
   {
    "duration": 269,
    "start_time": "2024-12-05T11:20:38.549Z"
   },
   {
    "duration": 20,
    "start_time": "2024-12-05T11:20:38.820Z"
   },
   {
    "duration": 11,
    "start_time": "2024-12-05T11:20:38.842Z"
   },
   {
    "duration": 22,
    "start_time": "2024-12-05T11:20:38.854Z"
   },
   {
    "duration": 18,
    "start_time": "2024-12-05T11:20:38.878Z"
   },
   {
    "duration": 5,
    "start_time": "2024-12-05T11:20:38.898Z"
   },
   {
    "duration": 3,
    "start_time": "2024-12-05T11:20:38.905Z"
   },
   {
    "duration": 296,
    "start_time": "2024-12-05T11:20:38.909Z"
   },
   {
    "duration": 4,
    "start_time": "2024-12-05T11:20:39.206Z"
   },
   {
    "duration": 17,
    "start_time": "2024-12-05T11:20:39.212Z"
   },
   {
    "duration": 25,
    "start_time": "2024-12-05T11:20:39.230Z"
   },
   {
    "duration": 5,
    "start_time": "2024-12-05T11:20:39.257Z"
   },
   {
    "duration": 27,
    "start_time": "2024-12-05T11:20:39.264Z"
   },
   {
    "duration": 1481,
    "start_time": "2024-12-05T11:20:39.293Z"
   },
   {
    "duration": 804,
    "start_time": "2024-12-05T11:20:40.776Z"
   },
   {
    "duration": 8,
    "start_time": "2024-12-05T11:20:41.582Z"
   },
   {
    "duration": 55,
    "start_time": "2024-12-05T11:20:41.591Z"
   },
   {
    "duration": 3,
    "start_time": "2024-12-05T11:20:41.647Z"
   },
   {
    "duration": 227,
    "start_time": "2024-12-05T11:20:41.651Z"
   },
   {
    "duration": 3,
    "start_time": "2024-12-05T11:20:41.879Z"
   },
   {
    "duration": 361,
    "start_time": "2024-12-05T11:20:41.886Z"
   },
   {
    "duration": 154,
    "start_time": "2024-12-05T11:20:42.249Z"
   },
   {
    "duration": 9,
    "start_time": "2024-12-05T11:20:42.405Z"
   },
   {
    "duration": 4761,
    "start_time": "2024-12-05T11:20:42.416Z"
   },
   {
    "duration": 4749,
    "start_time": "2024-12-05T11:21:07.427Z"
   },
   {
    "duration": 5236,
    "start_time": "2024-12-05T11:21:42.086Z"
   },
   {
    "duration": 8862,
    "start_time": "2024-12-05T11:22:48.446Z"
   },
   {
    "duration": 24,
    "start_time": "2024-12-05T11:24:31.515Z"
   },
   {
    "duration": 25,
    "start_time": "2024-12-05T11:26:34.270Z"
   },
   {
    "duration": 23,
    "start_time": "2024-12-05T11:27:29.090Z"
   },
   {
    "duration": 9196,
    "start_time": "2024-12-05T11:27:47.258Z"
   },
   {
    "duration": 5720,
    "start_time": "2024-12-05T11:30:25.170Z"
   },
   {
    "duration": 3653,
    "start_time": "2024-12-05T11:31:27.885Z"
   },
   {
    "duration": 2144,
    "start_time": "2024-12-05T11:31:37.357Z"
   },
   {
    "duration": 478,
    "start_time": "2024-12-05T11:41:55.926Z"
   },
   {
    "duration": 11,
    "start_time": "2024-12-05T11:42:55.076Z"
   },
   {
    "duration": 10,
    "start_time": "2024-12-05T11:43:01.496Z"
   },
   {
    "duration": 9,
    "start_time": "2024-12-05T11:43:12.498Z"
   },
   {
    "duration": 541,
    "start_time": "2024-12-05T11:46:49.942Z"
   },
   {
    "duration": 524,
    "start_time": "2024-12-05T11:47:40.134Z"
   },
   {
    "duration": 1980,
    "start_time": "2024-12-05T11:48:47.409Z"
   },
   {
    "duration": 9,
    "start_time": "2024-12-05T11:49:28.897Z"
   },
   {
    "duration": 2127,
    "start_time": "2024-12-05T11:49:47.624Z"
   },
   {
    "duration": 2243,
    "start_time": "2024-12-05T11:49:58.195Z"
   },
   {
    "duration": 2027,
    "start_time": "2024-12-05T11:50:09.747Z"
   },
   {
    "duration": 5253,
    "start_time": "2024-12-05T12:01:23.231Z"
   },
   {
    "duration": 14,
    "start_time": "2024-12-05T12:01:44.427Z"
   },
   {
    "duration": 5432,
    "start_time": "2024-12-05T12:02:03.058Z"
   },
   {
    "duration": 9582,
    "start_time": "2024-12-05T12:02:54.372Z"
   },
   {
    "duration": 9524,
    "start_time": "2024-12-05T12:03:24.741Z"
   },
   {
    "duration": 88,
    "start_time": "2024-12-05T12:05:21.891Z"
   },
   {
    "duration": 5087,
    "start_time": "2024-12-05T12:05:26.578Z"
   },
   {
    "duration": 2,
    "start_time": "2024-12-05T12:06:40.251Z"
   },
   {
    "duration": 2,
    "start_time": "2024-12-05T12:06:45.199Z"
   },
   {
    "duration": 18,
    "start_time": "2024-12-05T12:11:29.279Z"
   },
   {
    "duration": 28,
    "start_time": "2024-12-05T12:12:08.759Z"
   },
   {
    "duration": 19,
    "start_time": "2024-12-05T12:13:02.394Z"
   },
   {
    "duration": 21,
    "start_time": "2024-12-05T12:14:04.619Z"
   },
   {
    "duration": 26,
    "start_time": "2024-12-05T12:14:13.271Z"
   },
   {
    "duration": 28,
    "start_time": "2024-12-05T12:14:45.070Z"
   },
   {
    "duration": 24,
    "start_time": "2024-12-05T12:15:13.750Z"
   },
   {
    "duration": 24,
    "start_time": "2024-12-05T12:15:22.800Z"
   },
   {
    "duration": 26,
    "start_time": "2024-12-05T12:15:37.859Z"
   },
   {
    "duration": 26,
    "start_time": "2024-12-05T12:15:59.518Z"
   },
   {
    "duration": 29,
    "start_time": "2024-12-05T12:17:18.598Z"
   },
   {
    "duration": 19,
    "start_time": "2024-12-05T12:17:29.558Z"
   },
   {
    "duration": 24,
    "start_time": "2024-12-05T12:17:37.611Z"
   },
   {
    "duration": 24,
    "start_time": "2024-12-05T12:18:12.998Z"
   },
   {
    "duration": 10,
    "start_time": "2024-12-05T12:18:49.461Z"
   },
   {
    "duration": 86,
    "start_time": "2024-12-05T12:19:00.839Z"
   },
   {
    "duration": 13,
    "start_time": "2024-12-05T12:19:07.151Z"
   },
   {
    "duration": 91,
    "start_time": "2024-12-05T12:22:47.087Z"
   },
   {
    "duration": 17,
    "start_time": "2024-12-05T12:23:05.879Z"
   },
   {
    "duration": 26,
    "start_time": "2024-12-05T12:23:42.092Z"
   },
   {
    "duration": 16,
    "start_time": "2024-12-05T12:23:46.931Z"
   },
   {
    "duration": 56,
    "start_time": "2024-12-05T12:26:59.298Z"
   },
   {
    "duration": 43,
    "start_time": "2024-12-05T12:27:17.181Z"
   },
   {
    "duration": 23,
    "start_time": "2024-12-05T12:27:54.820Z"
   },
   {
    "duration": 9,
    "start_time": "2024-12-05T12:28:03.719Z"
   },
   {
    "duration": 32,
    "start_time": "2024-12-05T12:28:55.130Z"
   },
   {
    "duration": 25,
    "start_time": "2024-12-05T12:29:09.860Z"
   },
   {
    "duration": 25,
    "start_time": "2024-12-05T12:29:18.299Z"
   },
   {
    "duration": 8,
    "start_time": "2024-12-05T12:29:24.571Z"
   },
   {
    "duration": 23,
    "start_time": "2024-12-05T12:30:21.550Z"
   },
   {
    "duration": 7,
    "start_time": "2024-12-05T12:30:22.880Z"
   },
   {
    "duration": 24,
    "start_time": "2024-12-05T12:30:37.031Z"
   },
   {
    "duration": 7,
    "start_time": "2024-12-05T12:30:40.939Z"
   },
   {
    "duration": 24,
    "start_time": "2024-12-05T12:35:00.680Z"
   },
   {
    "duration": 8,
    "start_time": "2024-12-05T12:35:07.099Z"
   },
   {
    "duration": 24,
    "start_time": "2024-12-05T12:36:55.799Z"
   },
   {
    "duration": 3,
    "start_time": "2024-12-05T12:52:28.300Z"
   },
   {
    "duration": 4,
    "start_time": "2024-12-05T12:52:30.860Z"
   },
   {
    "duration": 24,
    "start_time": "2024-12-05T12:52:32.096Z"
   },
   {
    "duration": 866,
    "start_time": "2024-12-05T12:52:40.940Z"
   },
   {
    "duration": 42,
    "start_time": "2024-12-05T12:52:41.808Z"
   },
   {
    "duration": 19,
    "start_time": "2024-12-05T12:52:41.852Z"
   },
   {
    "duration": 2184,
    "start_time": "2024-12-05T12:52:41.873Z"
   },
   {
    "duration": 11,
    "start_time": "2024-12-05T12:52:44.061Z"
   },
   {
    "duration": 3014,
    "start_time": "2024-12-05T12:52:44.074Z"
   },
   {
    "duration": 12,
    "start_time": "2024-12-05T12:52:47.090Z"
   },
   {
    "duration": 52,
    "start_time": "2024-12-05T12:52:47.104Z"
   },
   {
    "duration": 5390,
    "start_time": "2024-12-05T12:52:47.158Z"
   },
   {
    "duration": 201,
    "start_time": "2024-12-05T12:52:52.554Z"
   },
   {
    "duration": 4,
    "start_time": "2024-12-05T12:52:52.757Z"
   },
   {
    "duration": 12,
    "start_time": "2024-12-05T12:52:52.762Z"
   },
   {
    "duration": 12,
    "start_time": "2024-12-05T12:52:52.776Z"
   },
   {
    "duration": 21,
    "start_time": "2024-12-05T12:52:52.791Z"
   },
   {
    "duration": 14,
    "start_time": "2024-12-05T12:52:52.832Z"
   },
   {
    "duration": 10,
    "start_time": "2024-12-05T12:52:52.848Z"
   },
   {
    "duration": 49,
    "start_time": "2024-12-05T12:52:52.860Z"
   },
   {
    "duration": 16,
    "start_time": "2024-12-05T12:52:52.911Z"
   },
   {
    "duration": 9,
    "start_time": "2024-12-05T12:52:52.929Z"
   },
   {
    "duration": 7,
    "start_time": "2024-12-05T12:52:52.940Z"
   },
   {
    "duration": 263,
    "start_time": "2024-12-05T12:52:52.949Z"
   },
   {
    "duration": 30,
    "start_time": "2024-12-05T12:52:53.213Z"
   },
   {
    "duration": 13,
    "start_time": "2024-12-05T12:52:53.245Z"
   },
   {
    "duration": 20,
    "start_time": "2024-12-05T12:52:53.260Z"
   },
   {
    "duration": 6,
    "start_time": "2024-12-05T12:52:53.282Z"
   },
   {
    "duration": 5,
    "start_time": "2024-12-05T12:52:53.290Z"
   },
   {
    "duration": 9,
    "start_time": "2024-12-05T12:52:53.297Z"
   },
   {
    "duration": 315,
    "start_time": "2024-12-05T12:52:53.308Z"
   },
   {
    "duration": 4,
    "start_time": "2024-12-05T12:52:53.625Z"
   },
   {
    "duration": 8,
    "start_time": "2024-12-05T12:52:53.631Z"
   },
   {
    "duration": 28,
    "start_time": "2024-12-05T12:52:53.640Z"
   },
   {
    "duration": 4,
    "start_time": "2024-12-05T12:52:53.670Z"
   },
   {
    "duration": 26,
    "start_time": "2024-12-05T12:52:53.676Z"
   },
   {
    "duration": 1666,
    "start_time": "2024-12-05T12:52:53.703Z"
   },
   {
    "duration": 840,
    "start_time": "2024-12-05T12:52:55.371Z"
   },
   {
    "duration": 8,
    "start_time": "2024-12-05T12:52:56.212Z"
   },
   {
    "duration": 37,
    "start_time": "2024-12-05T12:52:56.232Z"
   },
   {
    "duration": 3,
    "start_time": "2024-12-05T12:52:56.271Z"
   },
   {
    "duration": 249,
    "start_time": "2024-12-05T12:52:56.275Z"
   },
   {
    "duration": 6,
    "start_time": "2024-12-05T12:52:56.526Z"
   },
   {
    "duration": 240,
    "start_time": "2024-12-05T12:52:56.536Z"
   },
   {
    "duration": 160,
    "start_time": "2024-12-05T12:52:56.778Z"
   },
   {
    "duration": 8,
    "start_time": "2024-12-05T12:52:56.940Z"
   },
   {
    "duration": 35,
    "start_time": "2024-12-05T12:52:56.950Z"
   },
   {
    "duration": 4771,
    "start_time": "2024-12-05T12:52:56.988Z"
   },
   {
    "duration": 3,
    "start_time": "2024-12-05T12:53:01.760Z"
   },
   {
    "duration": 107,
    "start_time": "2024-12-05T12:53:01.764Z"
   },
   {
    "duration": 89,
    "start_time": "2024-12-05T12:53:55.635Z"
   },
   {
    "duration": 5,
    "start_time": "2024-12-05T12:54:49.489Z"
   },
   {
    "duration": 17,
    "start_time": "2024-12-05T12:54:59.089Z"
   },
   {
    "duration": 28,
    "start_time": "2024-12-05T12:55:25.999Z"
   },
   {
    "duration": 10,
    "start_time": "2024-12-05T12:55:41.360Z"
   },
   {
    "duration": 85,
    "start_time": "2024-12-05T12:58:48.410Z"
   },
   {
    "duration": 16,
    "start_time": "2024-12-05T12:59:04.299Z"
   },
   {
    "duration": 86,
    "start_time": "2024-12-05T13:00:26.130Z"
   },
   {
    "duration": 15,
    "start_time": "2024-12-05T13:07:21.743Z"
   },
   {
    "duration": 17,
    "start_time": "2024-12-05T13:08:12.876Z"
   },
   {
    "duration": 846,
    "start_time": "2024-12-05T13:31:18.206Z"
   },
   {
    "duration": 32,
    "start_time": "2024-12-05T13:31:19.054Z"
   },
   {
    "duration": 15,
    "start_time": "2024-12-05T13:31:19.087Z"
   },
   {
    "duration": 2181,
    "start_time": "2024-12-05T13:31:19.104Z"
   },
   {
    "duration": 12,
    "start_time": "2024-12-05T13:31:21.287Z"
   },
   {
    "duration": 2896,
    "start_time": "2024-12-05T13:31:21.300Z"
   },
   {
    "duration": 13,
    "start_time": "2024-12-05T13:31:24.197Z"
   },
   {
    "duration": 3,
    "start_time": "2024-12-05T13:31:24.211Z"
   },
   {
    "duration": 4717,
    "start_time": "2024-12-05T13:31:24.216Z"
   },
   {
    "duration": 118,
    "start_time": "2024-12-05T13:31:28.935Z"
   },
   {
    "duration": 4,
    "start_time": "2024-12-05T13:31:29.054Z"
   },
   {
    "duration": 11,
    "start_time": "2024-12-05T13:31:29.060Z"
   },
   {
    "duration": 13,
    "start_time": "2024-12-05T13:31:29.073Z"
   },
   {
    "duration": 20,
    "start_time": "2024-12-05T13:31:29.089Z"
   },
   {
    "duration": 31,
    "start_time": "2024-12-05T13:31:29.110Z"
   },
   {
    "duration": 17,
    "start_time": "2024-12-05T13:31:29.143Z"
   },
   {
    "duration": 7,
    "start_time": "2024-12-05T13:31:29.162Z"
   },
   {
    "duration": 12,
    "start_time": "2024-12-05T13:31:29.170Z"
   },
   {
    "duration": 7,
    "start_time": "2024-12-05T13:31:29.184Z"
   },
   {
    "duration": 5,
    "start_time": "2024-12-05T13:31:29.192Z"
   },
   {
    "duration": 258,
    "start_time": "2024-12-05T13:31:29.199Z"
   },
   {
    "duration": 20,
    "start_time": "2024-12-05T13:31:29.458Z"
   },
   {
    "duration": 23,
    "start_time": "2024-12-05T13:31:29.480Z"
   },
   {
    "duration": 17,
    "start_time": "2024-12-05T13:31:29.504Z"
   },
   {
    "duration": 8,
    "start_time": "2024-12-05T13:31:29.523Z"
   },
   {
    "duration": 5,
    "start_time": "2024-12-05T13:31:29.533Z"
   },
   {
    "duration": 4,
    "start_time": "2024-12-05T13:31:29.539Z"
   },
   {
    "duration": 288,
    "start_time": "2024-12-05T13:31:29.544Z"
   },
   {
    "duration": 4,
    "start_time": "2024-12-05T13:31:29.834Z"
   },
   {
    "duration": 6,
    "start_time": "2024-12-05T13:31:29.840Z"
   },
   {
    "duration": 24,
    "start_time": "2024-12-05T13:31:29.847Z"
   },
   {
    "duration": 3,
    "start_time": "2024-12-05T13:31:29.872Z"
   },
   {
    "duration": 25,
    "start_time": "2024-12-05T13:31:29.876Z"
   },
   {
    "duration": 1607,
    "start_time": "2024-12-05T13:31:29.902Z"
   },
   {
    "duration": 848,
    "start_time": "2024-12-05T13:31:31.511Z"
   },
   {
    "duration": 9,
    "start_time": "2024-12-05T13:31:32.360Z"
   },
   {
    "duration": 54,
    "start_time": "2024-12-05T13:31:32.370Z"
   },
   {
    "duration": 3,
    "start_time": "2024-12-05T13:31:32.426Z"
   },
   {
    "duration": 240,
    "start_time": "2024-12-05T13:31:32.432Z"
   },
   {
    "duration": 4,
    "start_time": "2024-12-05T13:31:32.674Z"
   },
   {
    "duration": 316,
    "start_time": "2024-12-05T13:31:32.682Z"
   },
   {
    "duration": 173,
    "start_time": "2024-12-05T13:31:33.001Z"
   },
   {
    "duration": 9,
    "start_time": "2024-12-05T13:31:33.175Z"
   },
   {
    "duration": 31,
    "start_time": "2024-12-05T13:31:33.186Z"
   },
   {
    "duration": 5059,
    "start_time": "2024-12-05T13:31:33.219Z"
   },
   {
    "duration": 3,
    "start_time": "2024-12-05T13:31:38.280Z"
   },
   {
    "duration": 77,
    "start_time": "2024-12-05T13:31:38.285Z"
   },
   {
    "duration": 14,
    "start_time": "2024-12-05T13:31:38.364Z"
   },
   {
    "duration": 19,
    "start_time": "2024-12-05T13:32:38.236Z"
   },
   {
    "duration": 133,
    "start_time": "2024-12-05T13:33:38.794Z"
   },
   {
    "duration": 10,
    "start_time": "2024-12-05T13:34:17.164Z"
   },
   {
    "duration": 362,
    "start_time": "2024-12-05T13:36:17.658Z"
   },
   {
    "duration": 319,
    "start_time": "2024-12-05T13:36:25.335Z"
   },
   {
    "duration": 327,
    "start_time": "2024-12-05T13:37:22.548Z"
   },
   {
    "duration": 13,
    "start_time": "2024-12-05T13:37:36.895Z"
   },
   {
    "duration": 84,
    "start_time": "2024-12-05T13:38:01.296Z"
   },
   {
    "duration": 307,
    "start_time": "2024-12-05T13:38:05.408Z"
   },
   {
    "duration": 316,
    "start_time": "2024-12-05T13:38:18.988Z"
   },
   {
    "duration": 802,
    "start_time": "2024-12-05T13:39:42.474Z"
   },
   {
    "duration": 868,
    "start_time": "2024-12-05T13:40:03.908Z"
   },
   {
    "duration": 975,
    "start_time": "2024-12-05T13:40:12.701Z"
   },
   {
    "duration": 823,
    "start_time": "2024-12-05T13:40:32.826Z"
   },
   {
    "duration": 867,
    "start_time": "2024-12-05T13:40:44.146Z"
   },
   {
    "duration": 847,
    "start_time": "2024-12-05T13:41:18.834Z"
   },
   {
    "duration": 20,
    "start_time": "2024-12-05T13:42:03.142Z"
   },
   {
    "duration": 18,
    "start_time": "2024-12-05T13:42:20.675Z"
   },
   {
    "duration": 11,
    "start_time": "2024-12-05T13:42:25.766Z"
   },
   {
    "duration": 1560,
    "start_time": "2024-12-05T13:42:30.018Z"
   },
   {
    "duration": 838,
    "start_time": "2024-12-05T13:42:34.853Z"
   },
   {
    "duration": 924,
    "start_time": "2024-12-05T13:44:19.332Z"
   },
   {
    "duration": 840,
    "start_time": "2024-12-05T13:44:36.504Z"
   },
   {
    "duration": 1034,
    "start_time": "2024-12-05T13:44:52.624Z"
   },
   {
    "duration": 852,
    "start_time": "2024-12-05T13:45:01.084Z"
   },
   {
    "duration": 10,
    "start_time": "2024-12-05T13:49:52.524Z"
   },
   {
    "duration": 818,
    "start_time": "2024-12-05T13:50:10.360Z"
   },
   {
    "duration": 892,
    "start_time": "2024-12-05T13:52:49.584Z"
   },
   {
    "duration": 942,
    "start_time": "2024-12-05T13:53:13.044Z"
   },
   {
    "duration": 850,
    "start_time": "2024-12-05T13:53:35.373Z"
   },
   {
    "duration": 1043,
    "start_time": "2024-12-05T18:29:14.538Z"
   },
   {
    "duration": 34,
    "start_time": "2024-12-05T18:29:15.583Z"
   },
   {
    "duration": 37,
    "start_time": "2024-12-05T18:29:15.619Z"
   },
   {
    "duration": 2444,
    "start_time": "2024-12-05T18:29:15.658Z"
   },
   {
    "duration": 12,
    "start_time": "2024-12-05T18:29:18.105Z"
   },
   {
    "duration": 3112,
    "start_time": "2024-12-05T18:29:18.118Z"
   },
   {
    "duration": 14,
    "start_time": "2024-12-05T18:29:21.232Z"
   },
   {
    "duration": 4,
    "start_time": "2024-12-05T18:29:21.263Z"
   },
   {
    "duration": 3901,
    "start_time": "2024-12-05T18:29:21.268Z"
   },
   {
    "duration": 197,
    "start_time": "2024-12-05T18:29:25.173Z"
   },
   {
    "duration": 4,
    "start_time": "2024-12-05T18:29:25.372Z"
   },
   {
    "duration": 13,
    "start_time": "2024-12-05T18:29:25.378Z"
   },
   {
    "duration": 12,
    "start_time": "2024-12-05T18:29:25.393Z"
   },
   {
    "duration": 26,
    "start_time": "2024-12-05T18:29:25.408Z"
   },
   {
    "duration": 38,
    "start_time": "2024-12-05T18:29:25.435Z"
   },
   {
    "duration": 9,
    "start_time": "2024-12-05T18:29:25.474Z"
   },
   {
    "duration": 4,
    "start_time": "2024-12-05T18:29:25.485Z"
   },
   {
    "duration": 25,
    "start_time": "2024-12-05T18:29:25.491Z"
   },
   {
    "duration": 7,
    "start_time": "2024-12-05T18:29:25.517Z"
   },
   {
    "duration": 5,
    "start_time": "2024-12-05T18:29:25.526Z"
   },
   {
    "duration": 288,
    "start_time": "2024-12-05T18:29:25.533Z"
   },
   {
    "duration": 21,
    "start_time": "2024-12-05T18:29:25.823Z"
   },
   {
    "duration": 19,
    "start_time": "2024-12-05T18:29:25.845Z"
   },
   {
    "duration": 10,
    "start_time": "2024-12-05T18:29:25.866Z"
   },
   {
    "duration": 8,
    "start_time": "2024-12-05T18:29:25.879Z"
   },
   {
    "duration": 6,
    "start_time": "2024-12-05T18:29:25.889Z"
   },
   {
    "duration": 3,
    "start_time": "2024-12-05T18:29:25.897Z"
   },
   {
    "duration": 334,
    "start_time": "2024-12-05T18:29:25.902Z"
   },
   {
    "duration": 4,
    "start_time": "2024-12-05T18:29:26.238Z"
   },
   {
    "duration": 18,
    "start_time": "2024-12-05T18:29:26.244Z"
   },
   {
    "duration": 25,
    "start_time": "2024-12-05T18:29:26.264Z"
   },
   {
    "duration": 7,
    "start_time": "2024-12-05T18:29:26.291Z"
   },
   {
    "duration": 23,
    "start_time": "2024-12-05T18:29:26.299Z"
   },
   {
    "duration": 1631,
    "start_time": "2024-12-05T18:29:26.324Z"
   },
   {
    "duration": 884,
    "start_time": "2024-12-05T18:29:27.956Z"
   },
   {
    "duration": 20,
    "start_time": "2024-12-05T18:29:28.842Z"
   },
   {
    "duration": 46,
    "start_time": "2024-12-05T18:29:28.864Z"
   },
   {
    "duration": 4,
    "start_time": "2024-12-05T18:29:28.912Z"
   },
   {
    "duration": 270,
    "start_time": "2024-12-05T18:29:28.918Z"
   },
   {
    "duration": 4,
    "start_time": "2024-12-05T18:29:29.190Z"
   },
   {
    "duration": 395,
    "start_time": "2024-12-05T18:29:29.199Z"
   },
   {
    "duration": 179,
    "start_time": "2024-12-05T18:29:29.595Z"
   },
   {
    "duration": 10,
    "start_time": "2024-12-05T18:29:29.776Z"
   },
   {
    "duration": 26,
    "start_time": "2024-12-05T18:29:29.788Z"
   },
   {
    "duration": 4958,
    "start_time": "2024-12-05T18:29:29.816Z"
   },
   {
    "duration": 3,
    "start_time": "2024-12-05T18:29:34.775Z"
   },
   {
    "duration": 37,
    "start_time": "2024-12-05T18:29:34.779Z"
   },
   {
    "duration": 16,
    "start_time": "2024-12-05T18:29:34.818Z"
   },
   {
    "duration": 888,
    "start_time": "2024-12-05T18:29:34.836Z"
   },
   {
    "duration": 5,
    "start_time": "2024-12-05T18:37:04.363Z"
   },
   {
    "duration": 37,
    "start_time": "2024-12-05T18:37:25.047Z"
   },
   {
    "duration": 7,
    "start_time": "2024-12-05T18:51:34.779Z"
   },
   {
    "duration": 8,
    "start_time": "2024-12-05T19:13:35.960Z"
   },
   {
    "duration": 8,
    "start_time": "2024-12-05T19:14:44.265Z"
   },
   {
    "duration": 81,
    "start_time": "2024-12-05T19:20:53.201Z"
   },
   {
    "duration": 88,
    "start_time": "2024-12-05T19:21:12.646Z"
   },
   {
    "duration": 4,
    "start_time": "2024-12-05T19:21:45.615Z"
   },
   {
    "duration": 73,
    "start_time": "2024-12-05T19:21:56.110Z"
   },
   {
    "duration": 86,
    "start_time": "2024-12-05T19:22:01.579Z"
   },
   {
    "duration": 128,
    "start_time": "2024-12-05T19:22:28.484Z"
   },
   {
    "duration": 15,
    "start_time": "2024-12-05T19:26:27.295Z"
   },
   {
    "duration": 16,
    "start_time": "2024-12-05T19:26:38.091Z"
   },
   {
    "duration": 13,
    "start_time": "2024-12-05T19:26:46.519Z"
   },
   {
    "duration": 78,
    "start_time": "2024-12-05T19:27:16.259Z"
   },
   {
    "duration": 137,
    "start_time": "2024-12-05T19:27:20.512Z"
   },
   {
    "duration": 164,
    "start_time": "2024-12-05T19:27:43.779Z"
   },
   {
    "duration": 90,
    "start_time": "2024-12-05T19:27:57.676Z"
   },
   {
    "duration": 63,
    "start_time": "2024-12-05T19:29:33.079Z"
   },
   {
    "duration": 3,
    "start_time": "2024-12-05T19:31:14.366Z"
   },
   {
    "duration": 119,
    "start_time": "2024-12-05T19:32:00.736Z"
   },
   {
    "duration": 3954,
    "start_time": "2024-12-05T19:33:30.201Z"
   },
   {
    "duration": 4951,
    "start_time": "2024-12-05T19:33:43.067Z"
   },
   {
    "duration": 5569,
    "start_time": "2024-12-05T19:35:07.011Z"
   },
   {
    "duration": 681,
    "start_time": "2024-12-05T19:38:53.855Z"
   },
   {
    "duration": 10,
    "start_time": "2024-12-05T19:43:06.705Z"
   },
   {
    "duration": 24,
    "start_time": "2024-12-05T19:46:54.514Z"
   },
   {
    "duration": 23,
    "start_time": "2024-12-05T19:47:44.195Z"
   },
   {
    "duration": 911,
    "start_time": "2024-12-05T19:47:48.546Z"
   },
   {
    "duration": 23,
    "start_time": "2024-12-05T19:48:12.429Z"
   },
   {
    "duration": 898,
    "start_time": "2024-12-05T19:48:18.897Z"
   },
   {
    "duration": 816,
    "start_time": "2024-12-05T19:52:06.814Z"
   },
   {
    "duration": 43,
    "start_time": "2024-12-05T19:52:07.632Z"
   },
   {
    "duration": 16,
    "start_time": "2024-12-05T19:52:07.676Z"
   },
   {
    "duration": 2314,
    "start_time": "2024-12-05T19:52:07.694Z"
   },
   {
    "duration": 12,
    "start_time": "2024-12-05T19:52:10.010Z"
   },
   {
    "duration": 2997,
    "start_time": "2024-12-05T19:52:10.024Z"
   },
   {
    "duration": 13,
    "start_time": "2024-12-05T19:52:13.023Z"
   },
   {
    "duration": 3,
    "start_time": "2024-12-05T19:52:13.038Z"
   },
   {
    "duration": 4507,
    "start_time": "2024-12-05T19:52:13.062Z"
   },
   {
    "duration": 122,
    "start_time": "2024-12-05T19:52:17.662Z"
   },
   {
    "duration": 4,
    "start_time": "2024-12-05T19:52:17.786Z"
   },
   {
    "duration": 6,
    "start_time": "2024-12-05T19:52:17.791Z"
   },
   {
    "duration": 10,
    "start_time": "2024-12-05T19:52:17.798Z"
   },
   {
    "duration": 52,
    "start_time": "2024-12-05T19:52:17.811Z"
   },
   {
    "duration": 15,
    "start_time": "2024-12-05T19:52:17.865Z"
   },
   {
    "duration": 10,
    "start_time": "2024-12-05T19:52:17.882Z"
   },
   {
    "duration": 7,
    "start_time": "2024-12-05T19:52:17.894Z"
   },
   {
    "duration": 13,
    "start_time": "2024-12-05T19:52:17.903Z"
   },
   {
    "duration": 45,
    "start_time": "2024-12-05T19:52:17.917Z"
   },
   {
    "duration": 5,
    "start_time": "2024-12-05T19:52:17.964Z"
   },
   {
    "duration": 268,
    "start_time": "2024-12-05T19:52:17.970Z"
   },
   {
    "duration": 25,
    "start_time": "2024-12-05T19:52:18.239Z"
   },
   {
    "duration": 8,
    "start_time": "2024-12-05T19:52:18.265Z"
   },
   {
    "duration": 7,
    "start_time": "2024-12-05T19:52:18.274Z"
   },
   {
    "duration": 6,
    "start_time": "2024-12-05T19:52:18.282Z"
   },
   {
    "duration": 23,
    "start_time": "2024-12-05T19:52:18.289Z"
   },
   {
    "duration": 12,
    "start_time": "2024-12-05T19:52:18.313Z"
   },
   {
    "duration": 316,
    "start_time": "2024-12-05T19:52:18.326Z"
   },
   {
    "duration": 4,
    "start_time": "2024-12-05T19:52:18.643Z"
   },
   {
    "duration": 13,
    "start_time": "2024-12-05T19:52:18.649Z"
   },
   {
    "duration": 29,
    "start_time": "2024-12-05T19:52:18.663Z"
   },
   {
    "duration": 2,
    "start_time": "2024-12-05T19:52:18.694Z"
   },
   {
    "duration": 40,
    "start_time": "2024-12-05T19:52:18.698Z"
   },
   {
    "duration": 1659,
    "start_time": "2024-12-05T19:52:18.761Z"
   },
   {
    "duration": 909,
    "start_time": "2024-12-05T19:52:20.423Z"
   },
   {
    "duration": 10,
    "start_time": "2024-12-05T19:52:21.333Z"
   },
   {
    "duration": 17,
    "start_time": "2024-12-05T19:52:21.344Z"
   },
   {
    "duration": 248,
    "start_time": "2024-12-05T19:52:21.363Z"
   },
   {
    "duration": 3,
    "start_time": "2024-12-05T19:52:21.613Z"
   },
   {
    "duration": 254,
    "start_time": "2024-12-05T19:52:21.617Z"
   },
   {
    "duration": 176,
    "start_time": "2024-12-05T19:52:21.877Z"
   },
   {
    "duration": 11,
    "start_time": "2024-12-05T19:52:22.055Z"
   },
   {
    "duration": 5,
    "start_time": "2024-12-05T19:52:22.068Z"
   },
   {
    "duration": 127,
    "start_time": "2024-12-05T19:52:22.075Z"
   },
   {
    "duration": 5184,
    "start_time": "2024-12-05T19:52:22.204Z"
   },
   {
    "duration": 628,
    "start_time": "2024-12-05T19:52:27.390Z"
   },
   {
    "duration": 3,
    "start_time": "2024-12-05T19:52:28.020Z"
   },
   {
    "duration": 44,
    "start_time": "2024-12-05T19:52:28.025Z"
   },
   {
    "duration": 24,
    "start_time": "2024-12-05T19:52:28.071Z"
   },
   {
    "duration": 909,
    "start_time": "2024-12-05T19:52:28.098Z"
   },
   {
    "duration": 898,
    "start_time": "2024-12-05T20:01:20.145Z"
   },
   {
    "duration": 39,
    "start_time": "2024-12-05T20:01:21.045Z"
   },
   {
    "duration": 19,
    "start_time": "2024-12-05T20:01:21.085Z"
   },
   {
    "duration": 2191,
    "start_time": "2024-12-05T20:01:21.106Z"
   },
   {
    "duration": 11,
    "start_time": "2024-12-05T20:01:23.299Z"
   },
   {
    "duration": 2964,
    "start_time": "2024-12-05T20:01:23.312Z"
   },
   {
    "duration": 12,
    "start_time": "2024-12-05T20:01:26.278Z"
   },
   {
    "duration": 8,
    "start_time": "2024-12-05T20:01:26.292Z"
   },
   {
    "duration": 3568,
    "start_time": "2024-12-05T20:01:26.301Z"
   },
   {
    "duration": 209,
    "start_time": "2024-12-05T20:01:29.871Z"
   },
   {
    "duration": 9,
    "start_time": "2024-12-05T20:01:30.082Z"
   },
   {
    "duration": 62,
    "start_time": "2024-12-05T20:01:30.093Z"
   },
   {
    "duration": 75,
    "start_time": "2024-12-05T20:01:30.157Z"
   },
   {
    "duration": 13,
    "start_time": "2024-12-05T20:01:30.235Z"
   },
   {
    "duration": 26,
    "start_time": "2024-12-05T20:01:30.250Z"
   },
   {
    "duration": 65,
    "start_time": "2024-12-05T20:01:30.278Z"
   },
   {
    "duration": 46,
    "start_time": "2024-12-05T20:01:30.344Z"
   },
   {
    "duration": 22,
    "start_time": "2024-12-05T20:01:30.392Z"
   },
   {
    "duration": 325,
    "start_time": "2024-12-05T20:01:30.415Z"
   },
   {
    "duration": 31,
    "start_time": "2024-12-05T20:01:30.743Z"
   },
   {
    "duration": 5,
    "start_time": "2024-12-05T20:01:30.775Z"
   },
   {
    "duration": 10,
    "start_time": "2024-12-05T20:01:30.781Z"
   },
   {
    "duration": 27,
    "start_time": "2024-12-05T20:01:30.793Z"
   },
   {
    "duration": 10,
    "start_time": "2024-12-05T20:01:30.822Z"
   },
   {
    "duration": 31,
    "start_time": "2024-12-05T20:01:30.834Z"
   },
   {
    "duration": 310,
    "start_time": "2024-12-05T20:01:30.866Z"
   },
   {
    "duration": 4,
    "start_time": "2024-12-05T20:01:31.178Z"
   },
   {
    "duration": 37,
    "start_time": "2024-12-05T20:01:31.183Z"
   },
   {
    "duration": 33,
    "start_time": "2024-12-05T20:01:31.222Z"
   },
   {
    "duration": 11,
    "start_time": "2024-12-05T20:01:31.256Z"
   },
   {
    "duration": 1573,
    "start_time": "2024-12-05T20:01:31.268Z"
   },
   {
    "duration": 873,
    "start_time": "2024-12-05T20:01:32.843Z"
   },
   {
    "duration": 9,
    "start_time": "2024-12-05T20:01:33.717Z"
   },
   {
    "duration": 2,
    "start_time": "2024-12-05T20:01:33.728Z"
   },
   {
    "duration": 252,
    "start_time": "2024-12-05T20:01:33.732Z"
   },
   {
    "duration": 3,
    "start_time": "2024-12-05T20:01:33.986Z"
   },
   {
    "duration": 240,
    "start_time": "2024-12-05T20:01:33.991Z"
   },
   {
    "duration": 168,
    "start_time": "2024-12-05T20:01:34.234Z"
   },
   {
    "duration": 11,
    "start_time": "2024-12-05T20:01:34.404Z"
   },
   {
    "duration": 8,
    "start_time": "2024-12-05T20:01:34.416Z"
   },
   {
    "duration": 123,
    "start_time": "2024-12-05T20:01:34.427Z"
   },
   {
    "duration": 5244,
    "start_time": "2024-12-05T20:01:34.551Z"
   },
   {
    "duration": 639,
    "start_time": "2024-12-05T20:01:39.796Z"
   },
   {
    "duration": 3,
    "start_time": "2024-12-05T20:01:40.437Z"
   },
   {
    "duration": 43,
    "start_time": "2024-12-05T20:01:40.441Z"
   },
   {
    "duration": 23,
    "start_time": "2024-12-05T20:01:40.486Z"
   },
   {
    "duration": 916,
    "start_time": "2024-12-05T20:01:40.510Z"
   },
   {
    "duration": 1338,
    "start_time": "2024-12-05T20:17:10.596Z"
   },
   {
    "duration": 1435,
    "start_time": "2024-12-05T20:17:27.165Z"
   },
   {
    "duration": 1344,
    "start_time": "2024-12-05T20:17:34.695Z"
   },
   {
    "duration": 1315,
    "start_time": "2024-12-05T20:17:41.835Z"
   },
   {
    "duration": 1401,
    "start_time": "2024-12-05T20:17:46.381Z"
   },
   {
    "duration": 51,
    "start_time": "2024-12-06T15:08:30.849Z"
   },
   {
    "duration": 1077,
    "start_time": "2024-12-06T15:08:47.255Z"
   },
   {
    "duration": 35,
    "start_time": "2024-12-06T15:08:49.526Z"
   },
   {
    "duration": 18,
    "start_time": "2024-12-06T15:08:51.057Z"
   },
   {
    "duration": 2457,
    "start_time": "2024-12-06T15:08:52.157Z"
   },
   {
    "duration": 27,
    "start_time": "2024-12-06T15:08:56.213Z"
   },
   {
    "duration": 80,
    "start_time": "2024-12-06T15:14:27.931Z"
   },
   {
    "duration": 7,
    "start_time": "2024-12-06T15:17:37.366Z"
   },
   {
    "duration": 4,
    "start_time": "2024-12-06T15:18:00.579Z"
   },
   {
    "duration": 4,
    "start_time": "2024-12-06T15:18:15.997Z"
   },
   {
    "duration": 39,
    "start_time": "2024-12-06T15:18:19.492Z"
   },
   {
    "duration": 47,
    "start_time": "2024-12-06T15:18:22.830Z"
   },
   {
    "duration": 6,
    "start_time": "2024-12-06T15:25:46.291Z"
   },
   {
    "duration": 78,
    "start_time": "2024-12-06T15:36:18.856Z"
   },
   {
    "duration": 78,
    "start_time": "2024-12-06T15:36:58.582Z"
   },
   {
    "duration": 14,
    "start_time": "2024-12-06T15:38:04.620Z"
   },
   {
    "duration": 13,
    "start_time": "2024-12-06T15:38:22.258Z"
   },
   {
    "duration": 11,
    "start_time": "2024-12-06T15:38:43.791Z"
   },
   {
    "duration": 865,
    "start_time": "2024-12-06T15:39:51.070Z"
   },
   {
    "duration": 49,
    "start_time": "2024-12-06T15:41:47.360Z"
   },
   {
    "duration": 1515,
    "start_time": "2024-12-06T15:41:56.267Z"
   },
   {
    "duration": 379,
    "start_time": "2024-12-06T15:41:57.784Z"
   },
   {
    "duration": 32,
    "start_time": "2024-12-06T15:41:58.164Z"
   },
   {
    "duration": 17,
    "start_time": "2024-12-06T15:41:58.197Z"
   },
   {
    "duration": 2091,
    "start_time": "2024-12-06T15:41:58.216Z"
   },
   {
    "duration": 24,
    "start_time": "2024-12-06T15:42:00.308Z"
   },
   {
    "duration": 22,
    "start_time": "2024-12-06T15:42:00.334Z"
   },
   {
    "duration": 2494,
    "start_time": "2024-12-06T15:42:00.358Z"
   },
   {
    "duration": 14,
    "start_time": "2024-12-06T15:42:02.862Z"
   },
   {
    "duration": 15,
    "start_time": "2024-12-06T15:42:02.878Z"
   },
   {
    "duration": 2777,
    "start_time": "2024-12-06T15:42:02.895Z"
   },
   {
    "duration": 119,
    "start_time": "2024-12-06T15:42:05.764Z"
   },
   {
    "duration": 9,
    "start_time": "2024-12-06T15:42:05.885Z"
   },
   {
    "duration": 32,
    "start_time": "2024-12-06T15:42:05.897Z"
   },
   {
    "duration": 31,
    "start_time": "2024-12-06T15:42:05.931Z"
   },
   {
    "duration": 9,
    "start_time": "2024-12-06T15:42:05.964Z"
   },
   {
    "duration": 5,
    "start_time": "2024-12-06T15:42:05.974Z"
   },
   {
    "duration": 35,
    "start_time": "2024-12-06T15:42:05.980Z"
   },
   {
    "duration": 8,
    "start_time": "2024-12-06T15:42:06.016Z"
   },
   {
    "duration": 18,
    "start_time": "2024-12-06T15:42:06.025Z"
   },
   {
    "duration": 32,
    "start_time": "2024-12-06T15:42:06.044Z"
   },
   {
    "duration": 257,
    "start_time": "2024-12-06T15:42:06.077Z"
   },
   {
    "duration": 28,
    "start_time": "2024-12-06T15:42:06.336Z"
   },
   {
    "duration": 4,
    "start_time": "2024-12-06T15:42:06.366Z"
   },
   {
    "duration": 10,
    "start_time": "2024-12-06T15:42:06.372Z"
   },
   {
    "duration": 52,
    "start_time": "2024-12-06T15:42:06.384Z"
   },
   {
    "duration": 29,
    "start_time": "2024-12-06T15:42:06.438Z"
   },
   {
    "duration": 4,
    "start_time": "2024-12-06T15:42:06.468Z"
   },
   {
    "duration": 310,
    "start_time": "2024-12-06T15:42:06.474Z"
   },
   {
    "duration": 4,
    "start_time": "2024-12-06T15:42:06.786Z"
   },
   {
    "duration": 61,
    "start_time": "2024-12-06T15:42:06.792Z"
   },
   {
    "duration": 42,
    "start_time": "2024-12-06T15:42:06.855Z"
   },
   {
    "duration": 3,
    "start_time": "2024-12-06T15:42:06.899Z"
   },
   {
    "duration": 1515,
    "start_time": "2024-12-06T15:42:06.904Z"
   },
   {
    "duration": 1021,
    "start_time": "2024-12-06T15:42:08.421Z"
   },
   {
    "duration": 19,
    "start_time": "2024-12-06T15:42:09.443Z"
   },
   {
    "duration": 3,
    "start_time": "2024-12-06T15:42:09.464Z"
   },
   {
    "duration": 254,
    "start_time": "2024-12-06T15:42:09.469Z"
   },
   {
    "duration": 3,
    "start_time": "2024-12-06T15:42:09.724Z"
   },
   {
    "duration": 246,
    "start_time": "2024-12-06T15:42:09.729Z"
   },
   {
    "duration": 168,
    "start_time": "2024-12-06T15:42:09.979Z"
   },
   {
    "duration": 21,
    "start_time": "2024-12-06T15:42:10.148Z"
   },
   {
    "duration": 1493,
    "start_time": "2024-12-06T15:42:10.171Z"
   },
   {
    "duration": 3,
    "start_time": "2024-12-06T15:42:11.666Z"
   },
   {
    "duration": 124,
    "start_time": "2024-12-06T15:42:11.670Z"
   },
   {
    "duration": 5050,
    "start_time": "2024-12-06T15:42:11.796Z"
   },
   {
    "duration": 659,
    "start_time": "2024-12-06T15:42:16.848Z"
   },
   {
    "duration": 31,
    "start_time": "2024-12-06T15:42:17.509Z"
   },
   {
    "duration": 40,
    "start_time": "2024-12-06T15:42:17.542Z"
   },
   {
    "duration": 1007,
    "start_time": "2024-12-06T15:42:17.584Z"
   },
   {
    "duration": 1655,
    "start_time": "2024-12-06T15:46:32.744Z"
   },
   {
    "duration": 1865,
    "start_time": "2024-12-06T15:46:37.806Z"
   },
   {
    "duration": 1668,
    "start_time": "2024-12-06T15:46:46.294Z"
   },
   {
    "duration": 1510,
    "start_time": "2024-12-06T15:47:24.037Z"
   },
   {
    "duration": 1307,
    "start_time": "2024-12-06T15:50:23.244Z"
   },
   {
    "duration": 139,
    "start_time": "2024-12-06T15:51:43.748Z"
   },
   {
    "duration": 1635,
    "start_time": "2024-12-06T15:54:23.820Z"
   },
   {
    "duration": 966,
    "start_time": "2024-12-06T15:54:53.568Z"
   },
   {
    "duration": 2538,
    "start_time": "2024-12-06T15:55:37.456Z"
   },
   {
    "duration": 1443,
    "start_time": "2024-12-06T15:55:57.328Z"
   },
   {
    "duration": 1643,
    "start_time": "2024-12-06T15:56:17.225Z"
   },
   {
    "duration": 1383,
    "start_time": "2024-12-06T15:58:16.520Z"
   },
   {
    "duration": 1633,
    "start_time": "2024-12-06T15:58:51.982Z"
   },
   {
    "duration": 902,
    "start_time": "2024-12-06T16:03:11.847Z"
   },
   {
    "duration": 927,
    "start_time": "2024-12-06T16:05:43.661Z"
   },
   {
    "duration": 1037,
    "start_time": "2024-12-06T16:05:51.460Z"
   },
   {
    "duration": 3,
    "start_time": "2024-12-06T16:06:12.286Z"
   },
   {
    "duration": 247,
    "start_time": "2024-12-06T16:06:17.181Z"
   },
   {
    "duration": 268,
    "start_time": "2024-12-06T16:06:18.675Z"
   },
   {
    "duration": 1588,
    "start_time": "2024-12-06T16:10:19.025Z"
   },
   {
    "duration": 416,
    "start_time": "2024-12-06T16:10:20.615Z"
   },
   {
    "duration": 40,
    "start_time": "2024-12-06T16:10:21.033Z"
   },
   {
    "duration": 19,
    "start_time": "2024-12-06T16:10:21.075Z"
   },
   {
    "duration": 2178,
    "start_time": "2024-12-06T16:10:21.097Z"
   },
   {
    "duration": 26,
    "start_time": "2024-12-06T16:10:23.277Z"
   },
   {
    "duration": 38,
    "start_time": "2024-12-06T16:10:23.304Z"
   },
   {
    "duration": 2591,
    "start_time": "2024-12-06T16:10:23.344Z"
   },
   {
    "duration": 30,
    "start_time": "2024-12-06T16:10:25.937Z"
   },
   {
    "duration": 10,
    "start_time": "2024-12-06T16:10:25.969Z"
   },
   {
    "duration": 4582,
    "start_time": "2024-12-06T16:10:25.980Z"
   },
   {
    "duration": 123,
    "start_time": "2024-12-06T16:10:30.571Z"
   },
   {
    "duration": 33,
    "start_time": "2024-12-06T16:10:30.696Z"
   },
   {
    "duration": 31,
    "start_time": "2024-12-06T16:10:30.734Z"
   },
   {
    "duration": 19,
    "start_time": "2024-12-06T16:10:30.769Z"
   },
   {
    "duration": 12,
    "start_time": "2024-12-06T16:10:30.791Z"
   },
   {
    "duration": 15,
    "start_time": "2024-12-06T16:10:30.805Z"
   },
   {
    "duration": 31,
    "start_time": "2024-12-06T16:10:30.822Z"
   },
   {
    "duration": 13,
    "start_time": "2024-12-06T16:10:30.855Z"
   },
   {
    "duration": 294,
    "start_time": "2024-12-06T16:10:30.871Z"
   },
   {
    "duration": 22,
    "start_time": "2024-12-06T16:10:31.166Z"
   },
   {
    "duration": 15,
    "start_time": "2024-12-06T16:10:31.189Z"
   },
   {
    "duration": 17,
    "start_time": "2024-12-06T16:10:31.206Z"
   },
   {
    "duration": 12,
    "start_time": "2024-12-06T16:10:31.225Z"
   },
   {
    "duration": 8,
    "start_time": "2024-12-06T16:10:31.238Z"
   },
   {
    "duration": 14,
    "start_time": "2024-12-06T16:10:31.248Z"
   },
   {
    "duration": 332,
    "start_time": "2024-12-06T16:10:31.265Z"
   },
   {
    "duration": 5,
    "start_time": "2024-12-06T16:10:31.599Z"
   },
   {
    "duration": 17,
    "start_time": "2024-12-06T16:10:31.605Z"
   },
   {
    "duration": 55,
    "start_time": "2024-12-06T16:10:31.624Z"
   },
   {
    "duration": 3,
    "start_time": "2024-12-06T16:10:31.681Z"
   },
   {
    "duration": 176,
    "start_time": "2024-12-06T16:10:31.686Z"
   },
   {
    "duration": 1476,
    "start_time": "2024-12-06T16:10:31.863Z"
   },
   {
    "duration": 1015,
    "start_time": "2024-12-06T16:10:33.341Z"
   },
   {
    "duration": 7,
    "start_time": "2024-12-06T16:10:34.362Z"
   },
   {
    "duration": 3,
    "start_time": "2024-12-06T16:10:34.372Z"
   },
   {
    "duration": 249,
    "start_time": "2024-12-06T16:10:34.377Z"
   },
   {
    "duration": 4,
    "start_time": "2024-12-06T16:10:34.628Z"
   },
   {
    "duration": 234,
    "start_time": "2024-12-06T16:10:34.634Z"
   },
   {
    "duration": 172,
    "start_time": "2024-12-06T16:10:34.870Z"
   },
   {
    "duration": 20,
    "start_time": "2024-12-06T16:10:35.047Z"
   },
   {
    "duration": 1340,
    "start_time": "2024-12-06T16:10:35.070Z"
   },
   {
    "duration": 2,
    "start_time": "2024-12-06T16:10:36.412Z"
   },
   {
    "duration": 243,
    "start_time": "2024-12-06T16:10:36.416Z"
   },
   {
    "duration": 5216,
    "start_time": "2024-12-06T16:10:36.661Z"
   },
   {
    "duration": 629,
    "start_time": "2024-12-06T16:10:41.879Z"
   },
   {
    "duration": 29,
    "start_time": "2024-12-06T16:10:42.510Z"
   },
   {
    "duration": 39,
    "start_time": "2024-12-06T16:10:42.540Z"
   },
   {
    "duration": 897,
    "start_time": "2024-12-06T16:10:42.581Z"
   }
  ],
  "colab": {
   "provenance": []
  },
  "kernelspec": {
   "display_name": "Python 3 (ipykernel)",
   "language": "python",
   "name": "python3"
  },
  "language_info": {
   "codemirror_mode": {
    "name": "ipython",
    "version": 3
   },
   "file_extension": ".py",
   "mimetype": "text/x-python",
   "name": "python",
   "nbconvert_exporter": "python",
   "pygments_lexer": "ipython3",
   "version": "3.12.7"
  },
  "toc": {
   "base_numbering": 1,
   "nav_menu": {},
   "number_sections": true,
   "sideBar": true,
   "skip_h1_title": true,
   "title_cell": "Table of Contents",
   "title_sidebar": "Contents",
   "toc_cell": false,
   "toc_position": {
    "height": "calc(100% - 180px)",
    "left": "10px",
    "top": "150px",
    "width": "270.069px"
   },
   "toc_section_display": true,
   "toc_window_display": true
  }
 },
 "nbformat": 4,
 "nbformat_minor": 4
}
